{
 "cells": [
  {
   "cell_type": "markdown",
   "id": "cd011322",
   "metadata": {},
   "source": [
    "# Исследование надежности заемщиков"
   ]
  },
  {
   "cell_type": "markdown",
   "id": "a696f52f",
   "metadata": {},
   "source": [
    "Цель исследования:\n",
    "\n",
    "Нужно разобраться, влияет ли семейное положение и количество детей клиента на факт погашения кредита в срок. \n",
    "Входные данные от банка — статистика о платёжеспособности клиентов.\n",
    "\n",
    "Ход исследования:\n",
    "\n",
    "1) Обзор данных. Получим представление о таблице, разбремся с назначением столбцов.\n",
    "\n",
    "2) Предобработка данных. Удалим дубликаты, проверим каждый столбец на аномальные значения и неявные дубликаты.\n",
    "\n",
    "3) Ответы на поставленные вопросы."
   ]
  },
  {
   "cell_type": "markdown",
   "id": "a7636d7c",
   "metadata": {},
   "source": [
    "## Обзор данных"
   ]
  },
  {
   "cell_type": "markdown",
   "id": "0c7d766e",
   "metadata": {},
   "source": [
    "Прочитаем данные и сохраним их в переменную 'data'. Получим первое представление о данных, выведя на экран первые 10 строк."
   ]
  },
  {
   "cell_type": "code",
   "execution_count": 1,
   "id": "7bb44f87",
   "metadata": {},
   "outputs": [],
   "source": [
    "import pandas as pd"
   ]
  },
  {
   "cell_type": "code",
   "execution_count": 2,
   "id": "f4b5520e",
   "metadata": {},
   "outputs": [
    {
     "data": {
      "text/html": [
       "<div>\n",
       "<style scoped>\n",
       "    .dataframe tbody tr th:only-of-type {\n",
       "        vertical-align: middle;\n",
       "    }\n",
       "\n",
       "    .dataframe tbody tr th {\n",
       "        vertical-align: top;\n",
       "    }\n",
       "\n",
       "    .dataframe thead th {\n",
       "        text-align: right;\n",
       "    }\n",
       "</style>\n",
       "<table border=\"1\" class=\"dataframe\">\n",
       "  <thead>\n",
       "    <tr style=\"text-align: right;\">\n",
       "      <th></th>\n",
       "      <th>children</th>\n",
       "      <th>days_employed</th>\n",
       "      <th>dob_years</th>\n",
       "      <th>education</th>\n",
       "      <th>education_id</th>\n",
       "      <th>family_status</th>\n",
       "      <th>family_status_id</th>\n",
       "      <th>gender</th>\n",
       "      <th>income_type</th>\n",
       "      <th>debt</th>\n",
       "      <th>total_income</th>\n",
       "      <th>purpose</th>\n",
       "    </tr>\n",
       "  </thead>\n",
       "  <tbody>\n",
       "    <tr>\n",
       "      <th>0</th>\n",
       "      <td>1</td>\n",
       "      <td>-8437.673028</td>\n",
       "      <td>42</td>\n",
       "      <td>высшее</td>\n",
       "      <td>0</td>\n",
       "      <td>женат / замужем</td>\n",
       "      <td>0</td>\n",
       "      <td>F</td>\n",
       "      <td>сотрудник</td>\n",
       "      <td>0</td>\n",
       "      <td>253875.639453</td>\n",
       "      <td>покупка жилья</td>\n",
       "    </tr>\n",
       "    <tr>\n",
       "      <th>1</th>\n",
       "      <td>1</td>\n",
       "      <td>-4024.803754</td>\n",
       "      <td>36</td>\n",
       "      <td>среднее</td>\n",
       "      <td>1</td>\n",
       "      <td>женат / замужем</td>\n",
       "      <td>0</td>\n",
       "      <td>F</td>\n",
       "      <td>сотрудник</td>\n",
       "      <td>0</td>\n",
       "      <td>112080.014102</td>\n",
       "      <td>приобретение автомобиля</td>\n",
       "    </tr>\n",
       "    <tr>\n",
       "      <th>2</th>\n",
       "      <td>0</td>\n",
       "      <td>-5623.422610</td>\n",
       "      <td>33</td>\n",
       "      <td>Среднее</td>\n",
       "      <td>1</td>\n",
       "      <td>женат / замужем</td>\n",
       "      <td>0</td>\n",
       "      <td>M</td>\n",
       "      <td>сотрудник</td>\n",
       "      <td>0</td>\n",
       "      <td>145885.952297</td>\n",
       "      <td>покупка жилья</td>\n",
       "    </tr>\n",
       "    <tr>\n",
       "      <th>3</th>\n",
       "      <td>3</td>\n",
       "      <td>-4124.747207</td>\n",
       "      <td>32</td>\n",
       "      <td>среднее</td>\n",
       "      <td>1</td>\n",
       "      <td>женат / замужем</td>\n",
       "      <td>0</td>\n",
       "      <td>M</td>\n",
       "      <td>сотрудник</td>\n",
       "      <td>0</td>\n",
       "      <td>267628.550329</td>\n",
       "      <td>дополнительное образование</td>\n",
       "    </tr>\n",
       "    <tr>\n",
       "      <th>4</th>\n",
       "      <td>0</td>\n",
       "      <td>340266.072047</td>\n",
       "      <td>53</td>\n",
       "      <td>среднее</td>\n",
       "      <td>1</td>\n",
       "      <td>гражданский брак</td>\n",
       "      <td>1</td>\n",
       "      <td>F</td>\n",
       "      <td>пенсионер</td>\n",
       "      <td>0</td>\n",
       "      <td>158616.077870</td>\n",
       "      <td>сыграть свадьбу</td>\n",
       "    </tr>\n",
       "    <tr>\n",
       "      <th>5</th>\n",
       "      <td>0</td>\n",
       "      <td>-926.185831</td>\n",
       "      <td>27</td>\n",
       "      <td>высшее</td>\n",
       "      <td>0</td>\n",
       "      <td>гражданский брак</td>\n",
       "      <td>1</td>\n",
       "      <td>M</td>\n",
       "      <td>компаньон</td>\n",
       "      <td>0</td>\n",
       "      <td>255763.565419</td>\n",
       "      <td>покупка жилья</td>\n",
       "    </tr>\n",
       "    <tr>\n",
       "      <th>6</th>\n",
       "      <td>0</td>\n",
       "      <td>-2879.202052</td>\n",
       "      <td>43</td>\n",
       "      <td>высшее</td>\n",
       "      <td>0</td>\n",
       "      <td>женат / замужем</td>\n",
       "      <td>0</td>\n",
       "      <td>F</td>\n",
       "      <td>компаньон</td>\n",
       "      <td>0</td>\n",
       "      <td>240525.971920</td>\n",
       "      <td>операции с жильем</td>\n",
       "    </tr>\n",
       "    <tr>\n",
       "      <th>7</th>\n",
       "      <td>0</td>\n",
       "      <td>-152.779569</td>\n",
       "      <td>50</td>\n",
       "      <td>СРЕДНЕЕ</td>\n",
       "      <td>1</td>\n",
       "      <td>женат / замужем</td>\n",
       "      <td>0</td>\n",
       "      <td>M</td>\n",
       "      <td>сотрудник</td>\n",
       "      <td>0</td>\n",
       "      <td>135823.934197</td>\n",
       "      <td>образование</td>\n",
       "    </tr>\n",
       "    <tr>\n",
       "      <th>8</th>\n",
       "      <td>2</td>\n",
       "      <td>-6929.865299</td>\n",
       "      <td>35</td>\n",
       "      <td>ВЫСШЕЕ</td>\n",
       "      <td>0</td>\n",
       "      <td>гражданский брак</td>\n",
       "      <td>1</td>\n",
       "      <td>F</td>\n",
       "      <td>сотрудник</td>\n",
       "      <td>0</td>\n",
       "      <td>95856.832424</td>\n",
       "      <td>на проведение свадьбы</td>\n",
       "    </tr>\n",
       "    <tr>\n",
       "      <th>9</th>\n",
       "      <td>0</td>\n",
       "      <td>-2188.756445</td>\n",
       "      <td>41</td>\n",
       "      <td>среднее</td>\n",
       "      <td>1</td>\n",
       "      <td>женат / замужем</td>\n",
       "      <td>0</td>\n",
       "      <td>M</td>\n",
       "      <td>сотрудник</td>\n",
       "      <td>0</td>\n",
       "      <td>144425.938277</td>\n",
       "      <td>покупка жилья для семьи</td>\n",
       "    </tr>\n",
       "  </tbody>\n",
       "</table>\n",
       "</div>"
      ],
      "text/plain": [
       "   children  days_employed  dob_years education  education_id  \\\n",
       "0         1   -8437.673028         42    высшее             0   \n",
       "1         1   -4024.803754         36   среднее             1   \n",
       "2         0   -5623.422610         33   Среднее             1   \n",
       "3         3   -4124.747207         32   среднее             1   \n",
       "4         0  340266.072047         53   среднее             1   \n",
       "5         0    -926.185831         27    высшее             0   \n",
       "6         0   -2879.202052         43    высшее             0   \n",
       "7         0    -152.779569         50   СРЕДНЕЕ             1   \n",
       "8         2   -6929.865299         35    ВЫСШЕЕ             0   \n",
       "9         0   -2188.756445         41   среднее             1   \n",
       "\n",
       "      family_status  family_status_id gender income_type  debt   total_income  \\\n",
       "0   женат / замужем                 0      F   сотрудник     0  253875.639453   \n",
       "1   женат / замужем                 0      F   сотрудник     0  112080.014102   \n",
       "2   женат / замужем                 0      M   сотрудник     0  145885.952297   \n",
       "3   женат / замужем                 0      M   сотрудник     0  267628.550329   \n",
       "4  гражданский брак                 1      F   пенсионер     0  158616.077870   \n",
       "5  гражданский брак                 1      M   компаньон     0  255763.565419   \n",
       "6   женат / замужем                 0      F   компаньон     0  240525.971920   \n",
       "7   женат / замужем                 0      M   сотрудник     0  135823.934197   \n",
       "8  гражданский брак                 1      F   сотрудник     0   95856.832424   \n",
       "9   женат / замужем                 0      M   сотрудник     0  144425.938277   \n",
       "\n",
       "                      purpose  \n",
       "0               покупка жилья  \n",
       "1     приобретение автомобиля  \n",
       "2               покупка жилья  \n",
       "3  дополнительное образование  \n",
       "4             сыграть свадьбу  \n",
       "5               покупка жилья  \n",
       "6           операции с жильем  \n",
       "7                 образование  \n",
       "8       на проведение свадьбы  \n",
       "9     покупка жилья для семьи  "
      ]
     },
     "execution_count": 2,
     "metadata": {},
     "output_type": "execute_result"
    }
   ],
   "source": [
    "data = pd.read_csv('/datasets/data.csv')\n",
    "data.head(10)"
   ]
  },
  {
   "cell_type": "markdown",
   "id": "0931d93b",
   "metadata": {},
   "source": [
    "В наименовании столбцов проблем нет - используются только строчные буквы, слова разделены нижним подчеркиванием, названия столбцов соответствуют их содержанию. \n",
    "\n",
    "Обращает на себя внимание столбец 'days_employed'. В нем должно быть указано количество дней трудового стажа клиента, но вместо этого видим отрицательные значения или слишком большие значения (например, строка № 4 - 340266.072047 - если перевести в годы, то получится 932 года трудового стажа), кроме того, значения не целые. С этим нужно будет разобраться.\t"
   ]
  },
  {
   "cell_type": "code",
   "execution_count": 3,
   "id": "738979b7",
   "metadata": {},
   "outputs": [
    {
     "data": {
      "text/plain": [
       "(21525, 12)"
      ]
     },
     "execution_count": 3,
     "metadata": {},
     "output_type": "execute_result"
    }
   ],
   "source": [
    "# Узнаем размер таблицы\n",
    "data.shape"
   ]
  },
  {
   "cell_type": "markdown",
   "id": "ccfd6658",
   "metadata": {},
   "source": [
    "Выведем общую информацию о таблице:"
   ]
  },
  {
   "cell_type": "code",
   "execution_count": 4,
   "id": "fe73a6c0",
   "metadata": {},
   "outputs": [
    {
     "name": "stdout",
     "output_type": "stream",
     "text": [
      "<class 'pandas.core.frame.DataFrame'>\n",
      "RangeIndex: 21525 entries, 0 to 21524\n",
      "Data columns (total 12 columns):\n",
      " #   Column            Non-Null Count  Dtype  \n",
      "---  ------            --------------  -----  \n",
      " 0   children          21525 non-null  int64  \n",
      " 1   days_employed     19351 non-null  float64\n",
      " 2   dob_years         21525 non-null  int64  \n",
      " 3   education         21525 non-null  object \n",
      " 4   education_id      21525 non-null  int64  \n",
      " 5   family_status     21525 non-null  object \n",
      " 6   family_status_id  21525 non-null  int64  \n",
      " 7   gender            21525 non-null  object \n",
      " 8   income_type       21525 non-null  object \n",
      " 9   debt              21525 non-null  int64  \n",
      " 10  total_income      19351 non-null  float64\n",
      " 11  purpose           21525 non-null  object \n",
      "dtypes: float64(2), int64(5), object(5)\n",
      "memory usage: 2.0+ MB\n"
     ]
    }
   ],
   "source": [
    "data.info()"
   ]
  },
  {
   "cell_type": "markdown",
   "id": "37e85e9c",
   "metadata": {},
   "source": [
    "В столбцах 'days_employed' и 'total_income' есть пропущенные значения, причем количество пропущенных значений совпадает. С этим тоже нужно будет разобраться. \n",
    "Столбец 'total_income' и  'days_employed' - вещественный тип данных. Для удобства необходимо будет заменить на целочисленный.\n",
    "По другим столбцам вопросов нет - тип данных соответствует их назначению."
   ]
  },
  {
   "cell_type": "markdown",
   "id": "9afeb43d",
   "metadata": {},
   "source": [
    "## Предобработка данных"
   ]
  },
  {
   "cell_type": "markdown",
   "id": "c666315a",
   "metadata": {},
   "source": [
    "Проверим каждый из столбцов методом value_counts() на наличие дубликатов и аномальных значений."
   ]
  },
  {
   "cell_type": "markdown",
   "id": "f1897a07",
   "metadata": {},
   "source": [
    "### Столбец 'children'"
   ]
  },
  {
   "cell_type": "code",
   "execution_count": 5,
   "id": "ec2cd761",
   "metadata": {},
   "outputs": [
    {
     "data": {
      "text/plain": [
       " 0     14149\n",
       " 1      4818\n",
       " 2      2055\n",
       " 3       330\n",
       " 20       76\n",
       "-1        47\n",
       " 4        41\n",
       " 5         9\n",
       "Name: children, dtype: int64"
      ]
     },
     "execution_count": 5,
     "metadata": {},
     "output_type": "execute_result"
    }
   ],
   "source": [
    "# Запрашиваем подсчет уникальных значений\n",
    "data['children'].value_counts()"
   ]
  },
  {
   "cell_type": "markdown",
   "id": "150af085",
   "metadata": {},
   "source": [
    "В 76 строках количество детей 20. В 47 строках значение -1. Это явно какая-то ошибка. В остальном похоже на правду.\n",
    "Возможно, данные вносились вручную и значение '20' означает '2', а '-1' означает '1', но достоверно установить, сколько у этих клиентов детей на самом деле невозможно. \n",
    "\n",
    "Помним о цели исследования. Количество детей - очень важный параметр и заполнять его медианным или средним значением было бы некорректно, тем более количество строк с ошибочными данными довольно существенно. В этом случае лучше всего будет удалить из датафрейма строки с неверными значениями. Так мы не повлияем на конечный результат исследования."
   ]
  },
  {
   "cell_type": "code",
   "execution_count": 6,
   "id": "0b3ed1f6",
   "metadata": {},
   "outputs": [
    {
     "data": {
      "text/plain": [
       "0    14149\n",
       "1     4818\n",
       "2     2055\n",
       "3      330\n",
       "4       41\n",
       "5        9\n",
       "Name: children, dtype: int64"
      ]
     },
     "execution_count": 6,
     "metadata": {},
     "output_type": "execute_result"
    }
   ],
   "source": [
    "# Перезаписываем таблицу с условием: \"в столбце children значение не должно равняться 20 или -1\"\n",
    "data = data[(data['children'] != 20) & (data['children'] != -1)]\n",
    "# Проверяем, что строки с неверными значениями удалены из датафрейма.\n",
    "data['children'].value_counts()"
   ]
  },
  {
   "cell_type": "markdown",
   "id": "96f7bfef",
   "metadata": {},
   "source": [
    "### Столбец 'days_employed'"
   ]
  },
  {
   "cell_type": "markdown",
   "id": "55ff4cd6",
   "metadata": {},
   "source": [
    "Выясним, что за значения в столбце 'days_employed'. Выведем больше строк из этого стоблца."
   ]
  },
  {
   "cell_type": "code",
   "execution_count": 7,
   "id": "2f81b37a",
   "metadata": {},
   "outputs": [
    {
     "data": {
      "text/plain": [
       "0      -8437.673028\n",
       "1      -4024.803754\n",
       "2      -5623.422610\n",
       "3      -4124.747207\n",
       "4     340266.072047\n",
       "5       -926.185831\n",
       "6      -2879.202052\n",
       "7       -152.779569\n",
       "8      -6929.865299\n",
       "9      -2188.756445\n",
       "10     -4171.483647\n",
       "11      -792.701887\n",
       "12              NaN\n",
       "13     -1846.641941\n",
       "14     -1844.956182\n",
       "15      -972.364419\n",
       "16     -1719.934226\n",
       "17     -2369.999720\n",
       "18    400281.136913\n",
       "19    -10038.818549\n",
       "20     -1311.604166\n",
       "21      -253.685166\n",
       "22     -1766.644138\n",
       "23      -272.981385\n",
       "24    338551.952911\n",
       "25    363548.489348\n",
       "26              NaN\n",
       "27      -529.191635\n",
       "28      -717.274324\n",
       "29              NaN\n",
       "30    335581.668515\n",
       "31     -1682.083438\n",
       "32     -4649.910832\n",
       "33     -1548.637544\n",
       "34     -4488.067031\n",
       "35    394021.072184\n",
       "36      -176.216688\n",
       "37     -6448.810860\n",
       "38      -597.881827\n",
       "39      -650.587796\n",
       "40     -1030.362606\n",
       "41              NaN\n",
       "42     -1257.496190\n",
       "43     -4375.681384\n",
       "44     -1362.041728\n",
       "45     -1039.451741\n",
       "46     -2262.712304\n",
       "47     -2689.137274\n",
       "48     -3341.067886\n",
       "49     -1181.443228\n",
       "Name: days_employed, dtype: float64"
      ]
     },
     "execution_count": 7,
     "metadata": {},
     "output_type": "execute_result"
    }
   ],
   "source": [
    "data['days_employed'].head(50)"
   ]
  },
  {
   "cell_type": "markdown",
   "id": "d7109af6",
   "metadata": {},
   "source": [
    "Знак минус стоит перед каждым значением, кроме аномальных. Возможно, произошла какая-то проблема при выгрузке и знак минус проставился почти всем значениям.\n",
    "Дробная часть, вероятно, означает количество часов. Например, начало трудового стажа в базе может отчитываться с 00ч 00м определенной даты, а при выгрузке время, меньшее чем полные сутки, переводится в дробную часть.\n",
    "Если убрать минус и дробную часть, то данные похожи на правду. "
   ]
  },
  {
   "cell_type": "markdown",
   "id": "fe3ef91b",
   "metadata": {},
   "source": [
    "В столбце 'days_employed' отрицательные значения преобразуем в положительные методом abs(), а также обработаем слишком большие значения.\n",
    "Но для начала надо убедиться в предположении, что аномальные значения всегда положительны."
   ]
  },
  {
   "cell_type": "code",
   "execution_count": 8,
   "id": "4be7a861",
   "metadata": {},
   "outputs": [
    {
     "data": {
      "text/html": [
       "<div>\n",
       "<style scoped>\n",
       "    .dataframe tbody tr th:only-of-type {\n",
       "        vertical-align: middle;\n",
       "    }\n",
       "\n",
       "    .dataframe tbody tr th {\n",
       "        vertical-align: top;\n",
       "    }\n",
       "\n",
       "    .dataframe thead th {\n",
       "        text-align: right;\n",
       "    }\n",
       "</style>\n",
       "<table border=\"1\" class=\"dataframe\">\n",
       "  <thead>\n",
       "    <tr style=\"text-align: right;\">\n",
       "      <th></th>\n",
       "      <th>children</th>\n",
       "      <th>days_employed</th>\n",
       "      <th>dob_years</th>\n",
       "      <th>education</th>\n",
       "      <th>education_id</th>\n",
       "      <th>family_status</th>\n",
       "      <th>family_status_id</th>\n",
       "      <th>gender</th>\n",
       "      <th>income_type</th>\n",
       "      <th>debt</th>\n",
       "      <th>total_income</th>\n",
       "      <th>purpose</th>\n",
       "    </tr>\n",
       "  </thead>\n",
       "  <tbody>\n",
       "    <tr>\n",
       "      <th>4</th>\n",
       "      <td>0</td>\n",
       "      <td>340266.072047</td>\n",
       "      <td>53</td>\n",
       "      <td>среднее</td>\n",
       "      <td>1</td>\n",
       "      <td>гражданский брак</td>\n",
       "      <td>1</td>\n",
       "      <td>F</td>\n",
       "      <td>пенсионер</td>\n",
       "      <td>0</td>\n",
       "      <td>158616.077870</td>\n",
       "      <td>сыграть свадьбу</td>\n",
       "    </tr>\n",
       "    <tr>\n",
       "      <th>18</th>\n",
       "      <td>0</td>\n",
       "      <td>400281.136913</td>\n",
       "      <td>53</td>\n",
       "      <td>среднее</td>\n",
       "      <td>1</td>\n",
       "      <td>вдовец / вдова</td>\n",
       "      <td>2</td>\n",
       "      <td>F</td>\n",
       "      <td>пенсионер</td>\n",
       "      <td>0</td>\n",
       "      <td>56823.777243</td>\n",
       "      <td>на покупку подержанного автомобиля</td>\n",
       "    </tr>\n",
       "    <tr>\n",
       "      <th>24</th>\n",
       "      <td>1</td>\n",
       "      <td>338551.952911</td>\n",
       "      <td>57</td>\n",
       "      <td>среднее</td>\n",
       "      <td>1</td>\n",
       "      <td>Не женат / не замужем</td>\n",
       "      <td>4</td>\n",
       "      <td>F</td>\n",
       "      <td>пенсионер</td>\n",
       "      <td>0</td>\n",
       "      <td>290547.235997</td>\n",
       "      <td>операции с коммерческой недвижимостью</td>\n",
       "    </tr>\n",
       "    <tr>\n",
       "      <th>25</th>\n",
       "      <td>0</td>\n",
       "      <td>363548.489348</td>\n",
       "      <td>67</td>\n",
       "      <td>среднее</td>\n",
       "      <td>1</td>\n",
       "      <td>женат / замужем</td>\n",
       "      <td>0</td>\n",
       "      <td>M</td>\n",
       "      <td>пенсионер</td>\n",
       "      <td>0</td>\n",
       "      <td>55112.757732</td>\n",
       "      <td>покупка недвижимости</td>\n",
       "    </tr>\n",
       "    <tr>\n",
       "      <th>30</th>\n",
       "      <td>1</td>\n",
       "      <td>335581.668515</td>\n",
       "      <td>62</td>\n",
       "      <td>среднее</td>\n",
       "      <td>1</td>\n",
       "      <td>женат / замужем</td>\n",
       "      <td>0</td>\n",
       "      <td>F</td>\n",
       "      <td>пенсионер</td>\n",
       "      <td>0</td>\n",
       "      <td>171456.067993</td>\n",
       "      <td>операции с коммерческой недвижимостью</td>\n",
       "    </tr>\n",
       "    <tr>\n",
       "      <th>...</th>\n",
       "      <td>...</td>\n",
       "      <td>...</td>\n",
       "      <td>...</td>\n",
       "      <td>...</td>\n",
       "      <td>...</td>\n",
       "      <td>...</td>\n",
       "      <td>...</td>\n",
       "      <td>...</td>\n",
       "      <td>...</td>\n",
       "      <td>...</td>\n",
       "      <td>...</td>\n",
       "      <td>...</td>\n",
       "    </tr>\n",
       "    <tr>\n",
       "      <th>21505</th>\n",
       "      <td>0</td>\n",
       "      <td>338904.866406</td>\n",
       "      <td>53</td>\n",
       "      <td>среднее</td>\n",
       "      <td>1</td>\n",
       "      <td>гражданский брак</td>\n",
       "      <td>1</td>\n",
       "      <td>M</td>\n",
       "      <td>пенсионер</td>\n",
       "      <td>0</td>\n",
       "      <td>75439.993167</td>\n",
       "      <td>сыграть свадьбу</td>\n",
       "    </tr>\n",
       "    <tr>\n",
       "      <th>21508</th>\n",
       "      <td>0</td>\n",
       "      <td>386497.714078</td>\n",
       "      <td>62</td>\n",
       "      <td>среднее</td>\n",
       "      <td>1</td>\n",
       "      <td>женат / замужем</td>\n",
       "      <td>0</td>\n",
       "      <td>M</td>\n",
       "      <td>пенсионер</td>\n",
       "      <td>0</td>\n",
       "      <td>72638.590915</td>\n",
       "      <td>недвижимость</td>\n",
       "    </tr>\n",
       "    <tr>\n",
       "      <th>21509</th>\n",
       "      <td>0</td>\n",
       "      <td>362161.054124</td>\n",
       "      <td>59</td>\n",
       "      <td>высшее</td>\n",
       "      <td>0</td>\n",
       "      <td>женат / замужем</td>\n",
       "      <td>0</td>\n",
       "      <td>M</td>\n",
       "      <td>пенсионер</td>\n",
       "      <td>0</td>\n",
       "      <td>73029.059379</td>\n",
       "      <td>операции с недвижимостью</td>\n",
       "    </tr>\n",
       "    <tr>\n",
       "      <th>21518</th>\n",
       "      <td>0</td>\n",
       "      <td>373995.710838</td>\n",
       "      <td>59</td>\n",
       "      <td>СРЕДНЕЕ</td>\n",
       "      <td>1</td>\n",
       "      <td>женат / замужем</td>\n",
       "      <td>0</td>\n",
       "      <td>F</td>\n",
       "      <td>пенсионер</td>\n",
       "      <td>0</td>\n",
       "      <td>153864.650328</td>\n",
       "      <td>сделка с автомобилем</td>\n",
       "    </tr>\n",
       "    <tr>\n",
       "      <th>21521</th>\n",
       "      <td>0</td>\n",
       "      <td>343937.404131</td>\n",
       "      <td>67</td>\n",
       "      <td>среднее</td>\n",
       "      <td>1</td>\n",
       "      <td>женат / замужем</td>\n",
       "      <td>0</td>\n",
       "      <td>F</td>\n",
       "      <td>пенсионер</td>\n",
       "      <td>0</td>\n",
       "      <td>155999.806512</td>\n",
       "      <td>сделка с автомобилем</td>\n",
       "    </tr>\n",
       "  </tbody>\n",
       "</table>\n",
       "<p>3431 rows × 12 columns</p>\n",
       "</div>"
      ],
      "text/plain": [
       "       children  days_employed  dob_years education  education_id  \\\n",
       "4             0  340266.072047         53   среднее             1   \n",
       "18            0  400281.136913         53   среднее             1   \n",
       "24            1  338551.952911         57   среднее             1   \n",
       "25            0  363548.489348         67   среднее             1   \n",
       "30            1  335581.668515         62   среднее             1   \n",
       "...         ...            ...        ...       ...           ...   \n",
       "21505         0  338904.866406         53   среднее             1   \n",
       "21508         0  386497.714078         62   среднее             1   \n",
       "21509         0  362161.054124         59    высшее             0   \n",
       "21518         0  373995.710838         59   СРЕДНЕЕ             1   \n",
       "21521         0  343937.404131         67   среднее             1   \n",
       "\n",
       "               family_status  family_status_id gender income_type  debt  \\\n",
       "4           гражданский брак                 1      F   пенсионер     0   \n",
       "18            вдовец / вдова                 2      F   пенсионер     0   \n",
       "24     Не женат / не замужем                 4      F   пенсионер     0   \n",
       "25           женат / замужем                 0      M   пенсионер     0   \n",
       "30           женат / замужем                 0      F   пенсионер     0   \n",
       "...                      ...               ...    ...         ...   ...   \n",
       "21505       гражданский брак                 1      M   пенсионер     0   \n",
       "21508        женат / замужем                 0      M   пенсионер     0   \n",
       "21509        женат / замужем                 0      M   пенсионер     0   \n",
       "21518        женат / замужем                 0      F   пенсионер     0   \n",
       "21521        женат / замужем                 0      F   пенсионер     0   \n",
       "\n",
       "        total_income                                purpose  \n",
       "4      158616.077870                        сыграть свадьбу  \n",
       "18      56823.777243     на покупку подержанного автомобиля  \n",
       "24     290547.235997  операции с коммерческой недвижимостью  \n",
       "25      55112.757732                   покупка недвижимости  \n",
       "30     171456.067993  операции с коммерческой недвижимостью  \n",
       "...              ...                                    ...  \n",
       "21505   75439.993167                        сыграть свадьбу  \n",
       "21508   72638.590915                           недвижимость  \n",
       "21509   73029.059379               операции с недвижимостью  \n",
       "21518  153864.650328                   сделка с автомобилем  \n",
       "21521  155999.806512                   сделка с автомобилем  \n",
       "\n",
       "[3431 rows x 12 columns]"
      ]
     },
     "execution_count": 8,
     "metadata": {},
     "output_type": "execute_result"
    }
   ],
   "source": [
    "data[data['days_employed'] > 0]"
   ]
  },
  {
   "cell_type": "markdown",
   "id": "40c66145",
   "metadata": {},
   "source": [
    "Отметим, что в выведенной части датафрейма неверные значения проставлены у категории \"пенсионеры\". Проверим это предположение."
   ]
  },
  {
   "cell_type": "code",
   "execution_count": 9,
   "id": "4bf5086b",
   "metadata": {},
   "outputs": [
    {
     "data": {
      "text/html": [
       "<div>\n",
       "<style scoped>\n",
       "    .dataframe tbody tr th:only-of-type {\n",
       "        vertical-align: middle;\n",
       "    }\n",
       "\n",
       "    .dataframe tbody tr th {\n",
       "        vertical-align: top;\n",
       "    }\n",
       "\n",
       "    .dataframe thead th {\n",
       "        text-align: right;\n",
       "    }\n",
       "</style>\n",
       "<table border=\"1\" class=\"dataframe\">\n",
       "  <thead>\n",
       "    <tr style=\"text-align: right;\">\n",
       "      <th></th>\n",
       "      <th>children</th>\n",
       "      <th>days_employed</th>\n",
       "      <th>dob_years</th>\n",
       "      <th>education</th>\n",
       "      <th>education_id</th>\n",
       "      <th>family_status</th>\n",
       "      <th>family_status_id</th>\n",
       "      <th>gender</th>\n",
       "      <th>income_type</th>\n",
       "      <th>debt</th>\n",
       "      <th>total_income</th>\n",
       "      <th>purpose</th>\n",
       "    </tr>\n",
       "  </thead>\n",
       "  <tbody>\n",
       "    <tr>\n",
       "      <th>3133</th>\n",
       "      <td>1</td>\n",
       "      <td>337524.466835</td>\n",
       "      <td>31</td>\n",
       "      <td>среднее</td>\n",
       "      <td>1</td>\n",
       "      <td>женат / замужем</td>\n",
       "      <td>0</td>\n",
       "      <td>M</td>\n",
       "      <td>безработный</td>\n",
       "      <td>1</td>\n",
       "      <td>59956.991984</td>\n",
       "      <td>покупка жилья для сдачи</td>\n",
       "    </tr>\n",
       "    <tr>\n",
       "      <th>14798</th>\n",
       "      <td>0</td>\n",
       "      <td>395302.838654</td>\n",
       "      <td>45</td>\n",
       "      <td>Высшее</td>\n",
       "      <td>0</td>\n",
       "      <td>гражданский брак</td>\n",
       "      <td>1</td>\n",
       "      <td>F</td>\n",
       "      <td>безработный</td>\n",
       "      <td>0</td>\n",
       "      <td>202722.511368</td>\n",
       "      <td>ремонт жилью</td>\n",
       "    </tr>\n",
       "  </tbody>\n",
       "</table>\n",
       "</div>"
      ],
      "text/plain": [
       "       children  days_employed  dob_years education  education_id  \\\n",
       "3133          1  337524.466835         31   среднее             1   \n",
       "14798         0  395302.838654         45    Высшее             0   \n",
       "\n",
       "          family_status  family_status_id gender  income_type  debt  \\\n",
       "3133    женат / замужем                 0      M  безработный     1   \n",
       "14798  гражданский брак                 1      F  безработный     0   \n",
       "\n",
       "        total_income                  purpose  \n",
       "3133    59956.991984  покупка жилья для сдачи  \n",
       "14798  202722.511368             ремонт жилью  "
      ]
     },
     "execution_count": 9,
     "metadata": {},
     "output_type": "execute_result"
    }
   ],
   "source": [
    "data[(data['days_employed'] > 0) & ( data['income_type'] != 'пенсионер')]"
   ]
  },
  {
   "cell_type": "markdown",
   "id": "9d606d4c",
   "metadata": {},
   "source": [
    "Предположение практически подтвердилось. Только две строки имеют положительное значение в столбце 'days_employed' и при этом 'income_type' не 'пенсионер'."
   ]
  },
  {
   "cell_type": "markdown",
   "id": "e43acb78",
   "metadata": {},
   "source": [
    "Оценка влияния трудового стажа на платежеспособнность клиентов не входит в цель исследования, поэтому можно было бы заменить неверные значения на медиану, и это не повлияло бы на результат. Однако, более правильным подходом будет трудовой стаж на нули. Для банка имеет значение трудового стажа на последнем месте работы, а не общий стаж. Поэтому для банка пенсионеры и безработные не имеют трудового стажа."
   ]
  },
  {
   "cell_type": "code",
   "execution_count": 10,
   "id": "951bb2ca",
   "metadata": {},
   "outputs": [],
   "source": [
    "data.loc[(data['days_employed'] > 0), 'days_employed'] = 0"
   ]
  },
  {
   "cell_type": "markdown",
   "id": "49b29a1f",
   "metadata": {},
   "source": [
    "Отрицательные числа преобразуем в положительные."
   ]
  },
  {
   "cell_type": "code",
   "execution_count": 11,
   "id": "d63f508a",
   "metadata": {},
   "outputs": [],
   "source": [
    "data['days_employed'] = data['days_employed'].abs()"
   ]
  },
  {
   "cell_type": "markdown",
   "id": "38c38762",
   "metadata": {},
   "source": [
    "Теперь разберемся с пропусками в этом столбце."
   ]
  },
  {
   "cell_type": "markdown",
   "id": "84b10ef1",
   "metadata": {},
   "source": [
    "Посчитаем долю количество пропусков в общем количестве строк столбца."
   ]
  },
  {
   "cell_type": "code",
   "execution_count": 12,
   "id": "d1153e68",
   "metadata": {},
   "outputs": [
    {
     "data": {
      "text/plain": [
       "0.10101859639286048"
      ]
     },
     "execution_count": 12,
     "metadata": {},
     "output_type": "execute_result"
    }
   ],
   "source": [
    "len(data[data['days_employed'].isna()]) / len(data['days_employed'])"
   ]
  },
  {
   "cell_type": "markdown",
   "id": "78f9f8f0",
   "metadata": {},
   "source": [
    "Немало. Просто удалиить эти строки нельзя, качество исследования может пострадать.\n",
    "Можно заполнить пропуски медианным значением. Помним, что 3431 строка имела неверное значение, поэтому при расчете медианы исключим эти строки."
   ]
  },
  {
   "cell_type": "code",
   "execution_count": 13,
   "id": "6a51440f",
   "metadata": {},
   "outputs": [
    {
     "data": {
      "text/plain": [
       "1630.4435908090563"
      ]
     },
     "execution_count": 13,
     "metadata": {},
     "output_type": "execute_result"
    }
   ],
   "source": [
    "# Рассчитаем медианное значение столбца 'days_employed'\n",
    "days_employed_median = data[data['days_employed'] != 0]['days_employed'].median()\n",
    "days_employed_median"
   ]
  },
  {
   "cell_type": "code",
   "execution_count": 14,
   "id": "1180d85b",
   "metadata": {},
   "outputs": [],
   "source": [
    "# Заменим пропущенные значения на медиану\n",
    "data['days_employed'] = data['days_employed'].fillna(days_employed_median)"
   ]
  },
  {
   "cell_type": "code",
   "execution_count": 15,
   "id": "5e0bc037",
   "metadata": {},
   "outputs": [
    {
     "name": "stdout",
     "output_type": "stream",
     "text": [
      "<class 'pandas.core.frame.DataFrame'>\n",
      "Int64Index: 21402 entries, 0 to 21524\n",
      "Data columns (total 12 columns):\n",
      " #   Column            Non-Null Count  Dtype  \n",
      "---  ------            --------------  -----  \n",
      " 0   children          21402 non-null  int64  \n",
      " 1   days_employed     21402 non-null  float64\n",
      " 2   dob_years         21402 non-null  int64  \n",
      " 3   education         21402 non-null  object \n",
      " 4   education_id      21402 non-null  int64  \n",
      " 5   family_status     21402 non-null  object \n",
      " 6   family_status_id  21402 non-null  int64  \n",
      " 7   gender            21402 non-null  object \n",
      " 8   income_type       21402 non-null  object \n",
      " 9   debt              21402 non-null  int64  \n",
      " 10  total_income      19240 non-null  float64\n",
      " 11  purpose           21402 non-null  object \n",
      "dtypes: float64(2), int64(5), object(5)\n",
      "memory usage: 2.1+ MB\n"
     ]
    }
   ],
   "source": [
    "# Проверим, исчезли ли пропущенные значения в столбце\n",
    "data.info()"
   ]
  },
  {
   "cell_type": "markdown",
   "id": "fe7cf08b",
   "metadata": {},
   "source": [
    "И последнее, что сделаем с этим столбцом - для удобства восприятия преобразуем тип данных в целое число."
   ]
  },
  {
   "cell_type": "code",
   "execution_count": 16,
   "id": "912de0a5",
   "metadata": {},
   "outputs": [],
   "source": [
    "data['days_employed'] = data['days_employed'].astype(int)"
   ]
  },
  {
   "cell_type": "markdown",
   "id": "7b8783f5",
   "metadata": {},
   "source": [
    "### Столбец 'dob_years'"
   ]
  },
  {
   "cell_type": "code",
   "execution_count": 17,
   "id": "d5fc2a4b",
   "metadata": {},
   "outputs": [
    {
     "data": {
      "text/plain": [
       "35    614\n",
       "40    603\n",
       "41    603\n",
       "34    597\n",
       "38    595\n",
       "42    592\n",
       "33    577\n",
       "39    572\n",
       "31    556\n",
       "36    553\n",
       "29    543\n",
       "44    543\n",
       "48    536\n",
       "30    536\n",
       "37    531\n",
       "43    510\n",
       "50    509\n",
       "32    506\n",
       "49    505\n",
       "28    501\n",
       "45    494\n",
       "27    490\n",
       "52    483\n",
       "56    482\n",
       "47    480\n",
       "54    476\n",
       "46    469\n",
       "58    461\n",
       "53    457\n",
       "57    457\n",
       "51    446\n",
       "59    441\n",
       "55    441\n",
       "26    406\n",
       "60    376\n",
       "25    356\n",
       "61    353\n",
       "62    351\n",
       "63    268\n",
       "24    263\n",
       "64    263\n",
       "23    252\n",
       "65    194\n",
       "66    183\n",
       "22    183\n",
       "67    167\n",
       "21    110\n",
       "0     100\n",
       "68     99\n",
       "69     83\n",
       "70     65\n",
       "71     58\n",
       "20     51\n",
       "72     33\n",
       "19     14\n",
       "73      8\n",
       "74      6\n",
       "75      1\n",
       "Name: dob_years, dtype: int64"
      ]
     },
     "execution_count": 17,
     "metadata": {},
     "output_type": "execute_result"
    }
   ],
   "source": [
    "# Запрашиваем подсчет уникальных значений\n",
    "data['dob_years'].value_counts()"
   ]
  },
  {
   "cell_type": "markdown",
   "id": "093c3ca7",
   "metadata": {},
   "source": [
    "В 100 строках значения возраста равно 0. Заменим на медианное значение. "
   ]
  },
  {
   "cell_type": "code",
   "execution_count": 18,
   "id": "ae95599b",
   "metadata": {},
   "outputs": [],
   "source": [
    "# Рассчитываем медиану в столбце 'dob_years'\n",
    "dob_years_median = data['dob_years'].median()\n",
    "# Присваиваем значение медианы тем строкам, в которых значение равно нулю.\n",
    "data.loc[(data['dob_years'] == 0), 'dob_years'] = dob_years_median\n",
    "# Из-за того, что значение медианы это вещественное число, изменился тип данных в столбце. Преобразуем обратно в целое число\n",
    "data['dob_years'] = data['dob_years'].astype(int)"
   ]
  },
  {
   "cell_type": "markdown",
   "id": "198cd3f8",
   "metadata": {},
   "source": [
    "### Столбец 'education'"
   ]
  },
  {
   "cell_type": "code",
   "execution_count": 19,
   "id": "71ed185f",
   "metadata": {},
   "outputs": [
    {
     "data": {
      "text/plain": [
       "среднее                13667\n",
       "высшее                  4698\n",
       "СРЕДНЕЕ                  766\n",
       "Среднее                  703\n",
       "неоконченное высшее      665\n",
       "ВЫСШЕЕ                   271\n",
       "Высшее                   268\n",
       "начальное                250\n",
       "Неоконченное высшее       47\n",
       "НЕОКОНЧЕННОЕ ВЫСШЕЕ       29\n",
       "НАЧАЛЬНОЕ                 17\n",
       "Начальное                 15\n",
       "ученая степень             4\n",
       "Ученая степень             1\n",
       "УЧЕНАЯ СТЕПЕНЬ             1\n",
       "Name: education, dtype: int64"
      ]
     },
     "execution_count": 19,
     "metadata": {},
     "output_type": "execute_result"
    }
   ],
   "source": [
    "#  Проверяем столбец на уникальные значения\n",
    "data['education'].value_counts() "
   ]
  },
  {
   "cell_type": "markdown",
   "id": "5c816d04",
   "metadata": {},
   "source": [
    "Названия дублируются, меняется только регистр букв. Используем метод str.lower() для обработки значений."
   ]
  },
  {
   "cell_type": "code",
   "execution_count": 20,
   "id": "25ea47dd",
   "metadata": {},
   "outputs": [],
   "source": [
    "data['education'] = data['education'].str.lower()"
   ]
  },
  {
   "cell_type": "code",
   "execution_count": 21,
   "id": "5eb92498",
   "metadata": {},
   "outputs": [
    {
     "data": {
      "text/plain": [
       "среднее                15136\n",
       "высшее                  5237\n",
       "неоконченное высшее      741\n",
       "начальное                282\n",
       "ученая степень             6\n",
       "Name: education, dtype: int64"
      ]
     },
     "execution_count": 21,
     "metadata": {},
     "output_type": "execute_result"
    }
   ],
   "source": [
    "# Проверяем, что дубликатов больше нет\n",
    "data['education'].value_counts() "
   ]
  },
  {
   "cell_type": "markdown",
   "id": "c21c76b6",
   "metadata": {},
   "source": [
    "### Столбец 'education_id'"
   ]
  },
  {
   "cell_type": "code",
   "execution_count": 22,
   "id": "1ed655ec",
   "metadata": {},
   "outputs": [
    {
     "data": {
      "text/plain": [
       "1    15136\n",
       "0     5237\n",
       "2      741\n",
       "3      282\n",
       "4        6\n",
       "Name: education_id, dtype: int64"
      ]
     },
     "execution_count": 22,
     "metadata": {},
     "output_type": "execute_result"
    }
   ],
   "source": [
    "# В этом столбце проблем на первый взляд нет.\n",
    "data['education_id'].value_counts()"
   ]
  },
  {
   "cell_type": "markdown",
   "id": "662ae738",
   "metadata": {},
   "source": [
    "### Столбец 'family_status'"
   ]
  },
  {
   "cell_type": "code",
   "execution_count": 23,
   "id": "0702f492",
   "metadata": {},
   "outputs": [
    {
     "data": {
      "text/plain": [
       "женат / замужем          12302\n",
       "гражданский брак          4160\n",
       "Не женат / не замужем     2799\n",
       "в разводе                 1189\n",
       "вдовец / вдова             952\n",
       "Name: family_status, dtype: int64"
      ]
     },
     "execution_count": 23,
     "metadata": {},
     "output_type": "execute_result"
    }
   ],
   "source": [
    "data['family_status'].value_counts()"
   ]
  },
  {
   "cell_type": "markdown",
   "id": "c2f544d3",
   "metadata": {},
   "source": [
    "Название категорий записаны строчными буквами, кроме \"Не женат / не замужем\". Может это и не критично, но всё-таки заменим."
   ]
  },
  {
   "cell_type": "code",
   "execution_count": 24,
   "id": "d157130a",
   "metadata": {},
   "outputs": [
    {
     "data": {
      "text/plain": [
       "женат / замужем          12302\n",
       "гражданский брак          4160\n",
       "не женат / не замужем     2799\n",
       "в разводе                 1189\n",
       "вдовец / вдова             952\n",
       "Name: family_status, dtype: int64"
      ]
     },
     "execution_count": 24,
     "metadata": {},
     "output_type": "execute_result"
    }
   ],
   "source": [
    "#Меняем название категории и убеждаемся, что кроме названия ничего больше не изменилось.\n",
    "data.loc[data['family_status'] == 'Не женат / не замужем', 'family_status'] = 'не женат / не замужем'\n",
    "data['family_status'].value_counts()"
   ]
  },
  {
   "cell_type": "markdown",
   "id": "127001b6",
   "metadata": {},
   "source": [
    "### Столбец 'family_status_id'"
   ]
  },
  {
   "cell_type": "code",
   "execution_count": 25,
   "id": "77d48e08",
   "metadata": {},
   "outputs": [
    {
     "data": {
      "text/plain": [
       "0    12302\n",
       "1     4160\n",
       "4     2799\n",
       "3     1189\n",
       "2      952\n",
       "Name: family_status_id, dtype: int64"
      ]
     },
     "execution_count": 25,
     "metadata": {},
     "output_type": "execute_result"
    }
   ],
   "source": [
    "data['family_status_id'].value_counts()"
   ]
  },
  {
   "cell_type": "markdown",
   "id": "b61651be",
   "metadata": {},
   "source": [
    "В этом столбце проблем не обнаружено."
   ]
  },
  {
   "cell_type": "markdown",
   "id": "f8b245d1",
   "metadata": {},
   "source": [
    "### Столбец 'gender'"
   ]
  },
  {
   "cell_type": "code",
   "execution_count": 26,
   "id": "39078f11",
   "metadata": {},
   "outputs": [
    {
     "data": {
      "text/plain": [
       "F      14154\n",
       "M       7247\n",
       "XNA        1\n",
       "Name: gender, dtype: int64"
      ]
     },
     "execution_count": 26,
     "metadata": {},
     "output_type": "execute_result"
    }
   ],
   "source": [
    "data['gender'].value_counts()"
   ]
  },
  {
   "cell_type": "markdown",
   "id": "d57df2aa",
   "metadata": {},
   "source": [
    "В одной строке загадочный 'XNA'. Не повлияет на исследование, но лучше заменить."
   ]
  },
  {
   "cell_type": "markdown",
   "id": "4cb30cfd",
   "metadata": {},
   "source": [
    "Меняем значение в одной ячейке. Убеждаемся, что значение \"XNA\" исчезло."
   ]
  },
  {
   "cell_type": "code",
   "execution_count": 27,
   "id": "1acb9a7e",
   "metadata": {},
   "outputs": [],
   "source": [
    "data.loc[data['gender'] == 'XNA', 'gender'] = 'M'"
   ]
  },
  {
   "cell_type": "code",
   "execution_count": 28,
   "id": "b6227e04",
   "metadata": {},
   "outputs": [
    {
     "data": {
      "text/plain": [
       "F    14154\n",
       "M     7248\n",
       "Name: gender, dtype: int64"
      ]
     },
     "execution_count": 28,
     "metadata": {},
     "output_type": "execute_result"
    }
   ],
   "source": [
    "data['gender'].value_counts()"
   ]
  },
  {
   "cell_type": "markdown",
   "id": "91c3ca33",
   "metadata": {},
   "source": [
    "### Столбец 'income_type'"
   ]
  },
  {
   "cell_type": "code",
   "execution_count": 29,
   "id": "65ac9390",
   "metadata": {},
   "outputs": [
    {
     "data": {
      "text/plain": [
       "сотрудник          11050\n",
       "компаньон           5054\n",
       "пенсионер           3839\n",
       "госслужащий         1453\n",
       "предприниматель        2\n",
       "безработный            2\n",
       "студент                1\n",
       "в декрете              1\n",
       "Name: income_type, dtype: int64"
      ]
     },
     "execution_count": 29,
     "metadata": {},
     "output_type": "execute_result"
    }
   ],
   "source": [
    "data['income_type'].value_counts()"
   ]
  },
  {
   "cell_type": "markdown",
   "id": "f497c42c",
   "metadata": {},
   "source": [
    "Неявных дубликатов нет, но может быть стоит сократить количество категорий."
   ]
  },
  {
   "cell_type": "markdown",
   "id": "adcfbac8",
   "metadata": {},
   "source": [
    "Категории 'безработный', 'в декрете' и 'студент' объединим в одну - 'безработный'. Категорию 'предприниматель' трогать не будем, так как для банков это отдельный тип клиента - его нельзя отнести ни к категории наемных сотрудников, ни к безработным."
   ]
  },
  {
   "cell_type": "code",
   "execution_count": 30,
   "id": "c1c4f11f",
   "metadata": {},
   "outputs": [
    {
     "data": {
      "text/plain": [
       "сотрудник          11050\n",
       "компаньон           5054\n",
       "пенсионер           3839\n",
       "госслужащий         1453\n",
       "безработный            4\n",
       "предприниматель        2\n",
       "Name: income_type, dtype: int64"
      ]
     },
     "execution_count": 30,
     "metadata": {},
     "output_type": "execute_result"
    }
   ],
   "source": [
    "data.loc[data['income_type'] == 'в декрете', 'income_type'] = 'безработный'\n",
    "data.loc[data['income_type'] == 'студент', 'income_type'] = 'безработный'\n",
    "data['income_type'].value_counts()"
   ]
  },
  {
   "cell_type": "markdown",
   "id": "a768bcf1",
   "metadata": {},
   "source": [
    "### Столбец 'debt'"
   ]
  },
  {
   "cell_type": "code",
   "execution_count": 31,
   "id": "09cfddcb",
   "metadata": {},
   "outputs": [
    {
     "data": {
      "text/plain": [
       "0    19670\n",
       "1     1732\n",
       "Name: debt, dtype: int64"
      ]
     },
     "execution_count": 31,
     "metadata": {},
     "output_type": "execute_result"
    }
   ],
   "source": [
    "# Проблем нет\n",
    "data['debt'].value_counts()"
   ]
  },
  {
   "cell_type": "markdown",
   "id": "e0c9e26e",
   "metadata": {},
   "source": [
    "### Столбец 'total_income'"
   ]
  },
  {
   "cell_type": "code",
   "execution_count": 32,
   "id": "753ddcb3",
   "metadata": {},
   "outputs": [
    {
     "data": {
      "text/plain": [
       "167448.7897572303"
      ]
     },
     "metadata": {},
     "output_type": "display_data"
    },
    {
     "data": {
      "text/plain": [
       "145020.80127962783"
      ]
     },
     "metadata": {},
     "output_type": "display_data"
    },
    {
     "data": {
      "text/plain": [
       "2265604.028722744"
      ]
     },
     "metadata": {},
     "output_type": "display_data"
    },
    {
     "data": {
      "text/plain": [
       "20667.26379327158"
      ]
     },
     "metadata": {},
     "output_type": "display_data"
    }
   ],
   "source": [
    "# Проверим на выбросы\n",
    "display(data['total_income'].mean())\n",
    "display(data['total_income'].median())\n",
    "display(data['total_income'].max())\n",
    "display(data['total_income'].min())"
   ]
  },
  {
   "cell_type": "markdown",
   "id": "46e673b5",
   "metadata": {},
   "source": [
    "Полученные данные похожи на правду. Максимальный доход 2 265 604 руб. Довольно много, но можно поверить."
   ]
  },
  {
   "cell_type": "markdown",
   "id": "05234c4d",
   "metadata": {},
   "source": [
    "Помним, что в этом столбце есть пропущенные значения. Посчитаем их долю и заполним медианным значением."
   ]
  },
  {
   "cell_type": "code",
   "execution_count": 33,
   "id": "d01cce5e",
   "metadata": {},
   "outputs": [
    {
     "data": {
      "text/plain": [
       "0.10101859639286048"
      ]
     },
     "execution_count": 33,
     "metadata": {},
     "output_type": "execute_result"
    }
   ],
   "source": [
    "len(data[data['total_income'].isna()]) / len(data['total_income']) "
   ]
  },
  {
   "cell_type": "code",
   "execution_count": 34,
   "id": "8c0ba040",
   "metadata": {},
   "outputs": [],
   "source": [
    "# Рассчитываем медианное значение\n",
    "total_income_median = data['total_income'].median()\n",
    "# Заполняем пустные строки медианным значением\n",
    "data['total_income'] = data['total_income'].fillna(total_income_median)"
   ]
  },
  {
   "cell_type": "markdown",
   "id": "a88f971f",
   "metadata": {},
   "source": [
    "Изменим тип данных на целое число для улучшения читаемости таблицы."
   ]
  },
  {
   "cell_type": "code",
   "execution_count": 35,
   "id": "3849ed15",
   "metadata": {},
   "outputs": [],
   "source": [
    "data['total_income'] = data['total_income'].astype(int)"
   ]
  },
  {
   "cell_type": "code",
   "execution_count": 36,
   "id": "becc2c0a",
   "metadata": {
    "scrolled": true
   },
   "outputs": [
    {
     "name": "stdout",
     "output_type": "stream",
     "text": [
      "<class 'pandas.core.frame.DataFrame'>\n",
      "Int64Index: 21402 entries, 0 to 21524\n",
      "Data columns (total 12 columns):\n",
      " #   Column            Non-Null Count  Dtype \n",
      "---  ------            --------------  ----- \n",
      " 0   children          21402 non-null  int64 \n",
      " 1   days_employed     21402 non-null  int64 \n",
      " 2   dob_years         21402 non-null  int64 \n",
      " 3   education         21402 non-null  object\n",
      " 4   education_id      21402 non-null  int64 \n",
      " 5   family_status     21402 non-null  object\n",
      " 6   family_status_id  21402 non-null  int64 \n",
      " 7   gender            21402 non-null  object\n",
      " 8   income_type       21402 non-null  object\n",
      " 9   debt              21402 non-null  int64 \n",
      " 10  total_income      21402 non-null  int64 \n",
      " 11  purpose           21402 non-null  object\n",
      "dtypes: int64(7), object(5)\n",
      "memory usage: 2.1+ MB\n"
     ]
    }
   ],
   "source": [
    "# Убеждаемся, что пропущенных значений больше нет.\n",
    "data.info()"
   ]
  },
  {
   "cell_type": "markdown",
   "id": "a0b99db7",
   "metadata": {},
   "source": [
    "### Столбец 'total_income'"
   ]
  },
  {
   "cell_type": "code",
   "execution_count": 37,
   "id": "f757befb",
   "metadata": {},
   "outputs": [
    {
     "data": {
      "text/plain": [
       "purpose\n",
       "автомобили                                476\n",
       "автомобиль                                492\n",
       "высшее образование                        447\n",
       "дополнительное образование                457\n",
       "жилье                                     642\n",
       "заняться высшим образованием              496\n",
       "заняться образованием                     412\n",
       "на покупку автомобиля                     470\n",
       "на покупку подержанного автомобиля        472\n",
       "на покупку своего автомобиля              504\n",
       "на проведение свадьбы                     772\n",
       "недвижимость                              632\n",
       "образование                               442\n",
       "операции с жильем                         648\n",
       "операции с коммерческой недвижимостью     646\n",
       "операции с недвижимостью                  673\n",
       "операции со своей недвижимостью           626\n",
       "покупка жилой недвижимости                603\n",
       "покупка жилья                             641\n",
       "покупка жилья для сдачи                   651\n",
       "покупка жилья для семьи                   640\n",
       "покупка коммерческой недвижимости         661\n",
       "покупка недвижимости                      619\n",
       "покупка своего жилья                      619\n",
       "получение высшего образования             425\n",
       "получение дополнительного образования     445\n",
       "получение образования                     441\n",
       "приобретение автомобиля                   460\n",
       "профильное образование                    432\n",
       "ремонт жилью                              609\n",
       "свадьба                                   796\n",
       "свой автомобиль                           475\n",
       "сделка с автомобилем                      455\n",
       "сделка с подержанным автомобилем          484\n",
       "строительство жилой недвижимости          622\n",
       "строительство недвижимости                620\n",
       "строительство собственной недвижимости    628\n",
       "сыграть свадьбу                           769\n",
       "Name: purpose, dtype: int64"
      ]
     },
     "execution_count": 37,
     "metadata": {},
     "output_type": "execute_result"
    }
   ],
   "source": [
    "# Ради разнообразия посчитаем значения методом группировки\n",
    "data.groupby('purpose')['purpose'].count()"
   ]
  },
  {
   "cell_type": "markdown",
   "id": "f9864de8",
   "metadata": {},
   "source": [
    "Названия категорий дублируют смысл друг друга, например 'на проведение свадьбы' и'свадьба' означаeт одно и то же. Необходимо сделать более общую категоризацию."
   ]
  },
  {
   "cell_type": "code",
   "execution_count": 38,
   "id": "7a66f940",
   "metadata": {},
   "outputs": [],
   "source": [
    "for elem in data['purpose']:\n",
    "    if 'жиль' in elem or 'недвиж' in elem:\n",
    "        data['purpose'] = data['purpose'].replace(elem, 'операции с недвижимостью')\n",
    "    elif 'свадь' in elem:\n",
    "        data['purpose'] = data['purpose'].replace(elem, 'проведение свадьбы')\n",
    "    elif 'авто' in elem:\n",
    "        data['purpose'] = data['purpose'].replace(elem, 'операции с автомобилем')\n",
    "    elif 'образо' in elem:\n",
    "        data['purpose'] = data['purpose'].replace(elem, 'получение образования')    "
   ]
  },
  {
   "cell_type": "code",
   "execution_count": 39,
   "id": "46ec0f45",
   "metadata": {},
   "outputs": [
    {
     "data": {
      "text/plain": [
       "операции с недвижимостью    10780\n",
       "операции с автомобилем       4288\n",
       "получение образования        3997\n",
       "проведение свадьбы           2337\n",
       "Name: purpose, dtype: int64"
      ]
     },
     "execution_count": 39,
     "metadata": {},
     "output_type": "execute_result"
    }
   ],
   "source": [
    "# убеждаемся, что цикл отработал правильно и заменил все значения\n",
    "data['purpose'].value_counts()"
   ]
  },
  {
   "cell_type": "code",
   "execution_count": 40,
   "id": "9a816d69",
   "metadata": {},
   "outputs": [
    {
     "data": {
      "text/html": [
       "<div>\n",
       "<style scoped>\n",
       "    .dataframe tbody tr th:only-of-type {\n",
       "        vertical-align: middle;\n",
       "    }\n",
       "\n",
       "    .dataframe tbody tr th {\n",
       "        vertical-align: top;\n",
       "    }\n",
       "\n",
       "    .dataframe thead th {\n",
       "        text-align: right;\n",
       "    }\n",
       "</style>\n",
       "<table border=\"1\" class=\"dataframe\">\n",
       "  <thead>\n",
       "    <tr style=\"text-align: right;\">\n",
       "      <th></th>\n",
       "      <th>children</th>\n",
       "      <th>days_employed</th>\n",
       "      <th>dob_years</th>\n",
       "      <th>education</th>\n",
       "      <th>education_id</th>\n",
       "      <th>family_status</th>\n",
       "      <th>family_status_id</th>\n",
       "      <th>gender</th>\n",
       "      <th>income_type</th>\n",
       "      <th>debt</th>\n",
       "      <th>total_income</th>\n",
       "      <th>purpose</th>\n",
       "    </tr>\n",
       "  </thead>\n",
       "  <tbody>\n",
       "    <tr>\n",
       "      <th>0</th>\n",
       "      <td>1</td>\n",
       "      <td>8437</td>\n",
       "      <td>42</td>\n",
       "      <td>высшее</td>\n",
       "      <td>0</td>\n",
       "      <td>женат / замужем</td>\n",
       "      <td>0</td>\n",
       "      <td>F</td>\n",
       "      <td>сотрудник</td>\n",
       "      <td>0</td>\n",
       "      <td>253875</td>\n",
       "      <td>операции с недвижимостью</td>\n",
       "    </tr>\n",
       "    <tr>\n",
       "      <th>1</th>\n",
       "      <td>1</td>\n",
       "      <td>4024</td>\n",
       "      <td>36</td>\n",
       "      <td>среднее</td>\n",
       "      <td>1</td>\n",
       "      <td>женат / замужем</td>\n",
       "      <td>0</td>\n",
       "      <td>F</td>\n",
       "      <td>сотрудник</td>\n",
       "      <td>0</td>\n",
       "      <td>112080</td>\n",
       "      <td>операции с автомобилем</td>\n",
       "    </tr>\n",
       "    <tr>\n",
       "      <th>2</th>\n",
       "      <td>0</td>\n",
       "      <td>5623</td>\n",
       "      <td>33</td>\n",
       "      <td>среднее</td>\n",
       "      <td>1</td>\n",
       "      <td>женат / замужем</td>\n",
       "      <td>0</td>\n",
       "      <td>M</td>\n",
       "      <td>сотрудник</td>\n",
       "      <td>0</td>\n",
       "      <td>145885</td>\n",
       "      <td>операции с недвижимостью</td>\n",
       "    </tr>\n",
       "    <tr>\n",
       "      <th>3</th>\n",
       "      <td>3</td>\n",
       "      <td>4124</td>\n",
       "      <td>32</td>\n",
       "      <td>среднее</td>\n",
       "      <td>1</td>\n",
       "      <td>женат / замужем</td>\n",
       "      <td>0</td>\n",
       "      <td>M</td>\n",
       "      <td>сотрудник</td>\n",
       "      <td>0</td>\n",
       "      <td>267628</td>\n",
       "      <td>получение образования</td>\n",
       "    </tr>\n",
       "    <tr>\n",
       "      <th>4</th>\n",
       "      <td>0</td>\n",
       "      <td>0</td>\n",
       "      <td>53</td>\n",
       "      <td>среднее</td>\n",
       "      <td>1</td>\n",
       "      <td>гражданский брак</td>\n",
       "      <td>1</td>\n",
       "      <td>F</td>\n",
       "      <td>пенсионер</td>\n",
       "      <td>0</td>\n",
       "      <td>158616</td>\n",
       "      <td>проведение свадьбы</td>\n",
       "    </tr>\n",
       "  </tbody>\n",
       "</table>\n",
       "</div>"
      ],
      "text/plain": [
       "   children  days_employed  dob_years education  education_id  \\\n",
       "0         1           8437         42    высшее             0   \n",
       "1         1           4024         36   среднее             1   \n",
       "2         0           5623         33   среднее             1   \n",
       "3         3           4124         32   среднее             1   \n",
       "4         0              0         53   среднее             1   \n",
       "\n",
       "      family_status  family_status_id gender income_type  debt  total_income  \\\n",
       "0   женат / замужем                 0      F   сотрудник     0        253875   \n",
       "1   женат / замужем                 0      F   сотрудник     0        112080   \n",
       "2   женат / замужем                 0      M   сотрудник     0        145885   \n",
       "3   женат / замужем                 0      M   сотрудник     0        267628   \n",
       "4  гражданский брак                 1      F   пенсионер     0        158616   \n",
       "\n",
       "                    purpose  \n",
       "0  операции с недвижимостью  \n",
       "1    операции с автомобилем  \n",
       "2  операции с недвижимостью  \n",
       "3     получение образования  \n",
       "4        проведение свадьбы  "
      ]
     },
     "execution_count": 40,
     "metadata": {},
     "output_type": "execute_result"
    }
   ],
   "source": [
    "# Выводим первые несколько строк датафрейма, чтобы убедиться, что всё сделано правильно\n",
    "data.head()"
   ]
  },
  {
   "cell_type": "markdown",
   "id": "975c2c5d",
   "metadata": {},
   "source": [
    "На этом обзор полученной таблицы закончим и приступим к исправлению выявленных проблем с данными."
   ]
  },
  {
   "cell_type": "markdown",
   "id": "c38e237e",
   "metadata": {},
   "source": [
    "Подсчитаем количество явных дубликатов"
   ]
  },
  {
   "cell_type": "code",
   "execution_count": 41,
   "id": "67adcd52",
   "metadata": {},
   "outputs": [
    {
     "data": {
      "text/plain": [
       "408"
      ]
     },
     "execution_count": 41,
     "metadata": {},
     "output_type": "execute_result"
    }
   ],
   "source": [
    "data.duplicated().sum()"
   ]
  },
  {
   "cell_type": "markdown",
   "id": "675e8984",
   "metadata": {},
   "source": [
    "Удалим строки с дубликатами и обновим индексы."
   ]
  },
  {
   "cell_type": "code",
   "execution_count": 42,
   "id": "4491f9fc",
   "metadata": {},
   "outputs": [],
   "source": [
    "data = data.drop_duplicates().reset_index(drop=True)"
   ]
  },
  {
   "cell_type": "code",
   "execution_count": 43,
   "id": "4d1fbc81",
   "metadata": {},
   "outputs": [
    {
     "data": {
      "text/plain": [
       "0"
      ]
     },
     "execution_count": 43,
     "metadata": {},
     "output_type": "execute_result"
    }
   ],
   "source": [
    "#Проверим еще раз на наличие дубликатов.\n",
    "data.duplicated().sum()"
   ]
  },
  {
   "cell_type": "markdown",
   "id": "4d47eb7c",
   "metadata": {},
   "source": [
    "## Формирование дополнительных датафреймов словарей, декомпозиция исходного датафрейма"
   ]
  },
  {
   "cell_type": "markdown",
   "id": "efea92b4",
   "metadata": {},
   "source": [
    "Добавим к таблице столбец total_income_category с категориями:\n",
    "<br>\n",
    "0–30000 — 'E';\n",
    "<br>\n",
    "30001–50000 — 'D';\n",
    "<br>\n",
    "50001–200000 — 'C';\n",
    "<br>\n",
    "200001–1000000 — 'B';\n",
    "<br>\n",
    "1000001 и выше — 'A'."
   ]
  },
  {
   "cell_type": "code",
   "execution_count": 44,
   "id": "befc101b",
   "metadata": {},
   "outputs": [],
   "source": [
    "def income_category(income):\n",
    "    if 0 <= income <= 30000:\n",
    "        return 'E'\n",
    "    elif 30001 <= income <= 50000:\n",
    "        return 'D'\n",
    "    elif 50001 <= income <= 200000:\n",
    "        return 'C'\n",
    "    elif 200001 <= income <= 1000000:\n",
    "        return 'B'\n",
    "    elif income >= 1000001:\n",
    "        return 'A'\n",
    "    \n",
    "data['total_income_category'] = data['total_income'].apply(income_category)"
   ]
  },
  {
   "cell_type": "code",
   "execution_count": 45,
   "id": "508f4b9b",
   "metadata": {},
   "outputs": [
    {
     "data": {
      "text/html": [
       "<div>\n",
       "<style scoped>\n",
       "    .dataframe tbody tr th:only-of-type {\n",
       "        vertical-align: middle;\n",
       "    }\n",
       "\n",
       "    .dataframe tbody tr th {\n",
       "        vertical-align: top;\n",
       "    }\n",
       "\n",
       "    .dataframe thead th {\n",
       "        text-align: right;\n",
       "    }\n",
       "</style>\n",
       "<table border=\"1\" class=\"dataframe\">\n",
       "  <thead>\n",
       "    <tr style=\"text-align: right;\">\n",
       "      <th></th>\n",
       "      <th>children</th>\n",
       "      <th>days_employed</th>\n",
       "      <th>dob_years</th>\n",
       "      <th>education</th>\n",
       "      <th>education_id</th>\n",
       "      <th>family_status</th>\n",
       "      <th>family_status_id</th>\n",
       "      <th>gender</th>\n",
       "      <th>income_type</th>\n",
       "      <th>debt</th>\n",
       "      <th>total_income</th>\n",
       "      <th>purpose</th>\n",
       "      <th>total_income_category</th>\n",
       "    </tr>\n",
       "  </thead>\n",
       "  <tbody>\n",
       "    <tr>\n",
       "      <th>0</th>\n",
       "      <td>1</td>\n",
       "      <td>8437</td>\n",
       "      <td>42</td>\n",
       "      <td>высшее</td>\n",
       "      <td>0</td>\n",
       "      <td>женат / замужем</td>\n",
       "      <td>0</td>\n",
       "      <td>F</td>\n",
       "      <td>сотрудник</td>\n",
       "      <td>0</td>\n",
       "      <td>253875</td>\n",
       "      <td>операции с недвижимостью</td>\n",
       "      <td>B</td>\n",
       "    </tr>\n",
       "    <tr>\n",
       "      <th>1</th>\n",
       "      <td>1</td>\n",
       "      <td>4024</td>\n",
       "      <td>36</td>\n",
       "      <td>среднее</td>\n",
       "      <td>1</td>\n",
       "      <td>женат / замужем</td>\n",
       "      <td>0</td>\n",
       "      <td>F</td>\n",
       "      <td>сотрудник</td>\n",
       "      <td>0</td>\n",
       "      <td>112080</td>\n",
       "      <td>операции с автомобилем</td>\n",
       "      <td>C</td>\n",
       "    </tr>\n",
       "    <tr>\n",
       "      <th>2</th>\n",
       "      <td>0</td>\n",
       "      <td>5623</td>\n",
       "      <td>33</td>\n",
       "      <td>среднее</td>\n",
       "      <td>1</td>\n",
       "      <td>женат / замужем</td>\n",
       "      <td>0</td>\n",
       "      <td>M</td>\n",
       "      <td>сотрудник</td>\n",
       "      <td>0</td>\n",
       "      <td>145885</td>\n",
       "      <td>операции с недвижимостью</td>\n",
       "      <td>C</td>\n",
       "    </tr>\n",
       "    <tr>\n",
       "      <th>3</th>\n",
       "      <td>3</td>\n",
       "      <td>4124</td>\n",
       "      <td>32</td>\n",
       "      <td>среднее</td>\n",
       "      <td>1</td>\n",
       "      <td>женат / замужем</td>\n",
       "      <td>0</td>\n",
       "      <td>M</td>\n",
       "      <td>сотрудник</td>\n",
       "      <td>0</td>\n",
       "      <td>267628</td>\n",
       "      <td>получение образования</td>\n",
       "      <td>B</td>\n",
       "    </tr>\n",
       "    <tr>\n",
       "      <th>4</th>\n",
       "      <td>0</td>\n",
       "      <td>0</td>\n",
       "      <td>53</td>\n",
       "      <td>среднее</td>\n",
       "      <td>1</td>\n",
       "      <td>гражданский брак</td>\n",
       "      <td>1</td>\n",
       "      <td>F</td>\n",
       "      <td>пенсионер</td>\n",
       "      <td>0</td>\n",
       "      <td>158616</td>\n",
       "      <td>проведение свадьбы</td>\n",
       "      <td>C</td>\n",
       "    </tr>\n",
       "  </tbody>\n",
       "</table>\n",
       "</div>"
      ],
      "text/plain": [
       "   children  days_employed  dob_years education  education_id  \\\n",
       "0         1           8437         42    высшее             0   \n",
       "1         1           4024         36   среднее             1   \n",
       "2         0           5623         33   среднее             1   \n",
       "3         3           4124         32   среднее             1   \n",
       "4         0              0         53   среднее             1   \n",
       "\n",
       "      family_status  family_status_id gender income_type  debt  total_income  \\\n",
       "0   женат / замужем                 0      F   сотрудник     0        253875   \n",
       "1   женат / замужем                 0      F   сотрудник     0        112080   \n",
       "2   женат / замужем                 0      M   сотрудник     0        145885   \n",
       "3   женат / замужем                 0      M   сотрудник     0        267628   \n",
       "4  гражданский брак                 1      F   пенсионер     0        158616   \n",
       "\n",
       "                    purpose total_income_category  \n",
       "0  операции с недвижимостью                     B  \n",
       "1    операции с автомобилем                     C  \n",
       "2  операции с недвижимостью                     C  \n",
       "3     получение образования                     B  \n",
       "4        проведение свадьбы                     C  "
      ]
     },
     "execution_count": 45,
     "metadata": {},
     "output_type": "execute_result"
    }
   ],
   "source": [
    "# Проверяем, что столбец добавился в таблицу и функция отработала правильно\n",
    "data.head()"
   ]
  },
  {
   "cell_type": "markdown",
   "id": "fba02780",
   "metadata": {},
   "source": [
    "Создадим два новых датафрейма со столбцами:\n",
    "<br>\n",
    "education_id и education — в первом,\n",
    "<br>\n",
    "family_status_id и family_status — во втором."
   ]
  },
  {
   "cell_type": "code",
   "execution_count": 46,
   "id": "18ab752f",
   "metadata": {},
   "outputs": [
    {
     "data": {
      "text/html": [
       "<div>\n",
       "<style scoped>\n",
       "    .dataframe tbody tr th:only-of-type {\n",
       "        vertical-align: middle;\n",
       "    }\n",
       "\n",
       "    .dataframe tbody tr th {\n",
       "        vertical-align: top;\n",
       "    }\n",
       "\n",
       "    .dataframe thead th {\n",
       "        text-align: right;\n",
       "    }\n",
       "</style>\n",
       "<table border=\"1\" class=\"dataframe\">\n",
       "  <thead>\n",
       "    <tr style=\"text-align: right;\">\n",
       "      <th></th>\n",
       "      <th>education_id</th>\n",
       "      <th>education</th>\n",
       "    </tr>\n",
       "  </thead>\n",
       "  <tbody>\n",
       "    <tr>\n",
       "      <th>0</th>\n",
       "      <td>0</td>\n",
       "      <td>высшее</td>\n",
       "    </tr>\n",
       "    <tr>\n",
       "      <th>1</th>\n",
       "      <td>1</td>\n",
       "      <td>среднее</td>\n",
       "    </tr>\n",
       "    <tr>\n",
       "      <th>2</th>\n",
       "      <td>2</td>\n",
       "      <td>неоконченное высшее</td>\n",
       "    </tr>\n",
       "    <tr>\n",
       "      <th>3</th>\n",
       "      <td>3</td>\n",
       "      <td>начальное</td>\n",
       "    </tr>\n",
       "    <tr>\n",
       "      <th>4</th>\n",
       "      <td>4</td>\n",
       "      <td>ученая степень</td>\n",
       "    </tr>\n",
       "  </tbody>\n",
       "</table>\n",
       "</div>"
      ],
      "text/plain": [
       "   education_id            education\n",
       "0             0               высшее\n",
       "1             1              среднее\n",
       "2             2  неоконченное высшее\n",
       "3             3            начальное\n",
       "4             4       ученая степень"
      ]
     },
     "execution_count": 46,
     "metadata": {},
     "output_type": "execute_result"
    }
   ],
   "source": [
    "education = data[['education_id', 'education']]\n",
    "education.drop_duplicates().reset_index(drop=True)"
   ]
  },
  {
   "cell_type": "code",
   "execution_count": 47,
   "id": "9670fb09",
   "metadata": {},
   "outputs": [
    {
     "data": {
      "text/html": [
       "<div>\n",
       "<style scoped>\n",
       "    .dataframe tbody tr th:only-of-type {\n",
       "        vertical-align: middle;\n",
       "    }\n",
       "\n",
       "    .dataframe tbody tr th {\n",
       "        vertical-align: top;\n",
       "    }\n",
       "\n",
       "    .dataframe thead th {\n",
       "        text-align: right;\n",
       "    }\n",
       "</style>\n",
       "<table border=\"1\" class=\"dataframe\">\n",
       "  <thead>\n",
       "    <tr style=\"text-align: right;\">\n",
       "      <th></th>\n",
       "      <th>family_status_id</th>\n",
       "      <th>family_status</th>\n",
       "    </tr>\n",
       "  </thead>\n",
       "  <tbody>\n",
       "    <tr>\n",
       "      <th>0</th>\n",
       "      <td>0</td>\n",
       "      <td>женат / замужем</td>\n",
       "    </tr>\n",
       "    <tr>\n",
       "      <th>1</th>\n",
       "      <td>1</td>\n",
       "      <td>гражданский брак</td>\n",
       "    </tr>\n",
       "    <tr>\n",
       "      <th>2</th>\n",
       "      <td>2</td>\n",
       "      <td>вдовец / вдова</td>\n",
       "    </tr>\n",
       "    <tr>\n",
       "      <th>3</th>\n",
       "      <td>3</td>\n",
       "      <td>в разводе</td>\n",
       "    </tr>\n",
       "    <tr>\n",
       "      <th>4</th>\n",
       "      <td>4</td>\n",
       "      <td>не женат / не замужем</td>\n",
       "    </tr>\n",
       "  </tbody>\n",
       "</table>\n",
       "</div>"
      ],
      "text/plain": [
       "   family_status_id          family_status\n",
       "0                 0        женат / замужем\n",
       "1                 1       гражданский брак\n",
       "2                 2         вдовец / вдова\n",
       "3                 3              в разводе\n",
       "4                 4  не женат / не замужем"
      ]
     },
     "execution_count": 47,
     "metadata": {},
     "output_type": "execute_result"
    }
   ],
   "source": [
    "family = data[['family_status_id', 'family_status']]\n",
    "family.drop_duplicates().reset_index(drop=True)"
   ]
  },
  {
   "cell_type": "markdown",
   "id": "3bb88ccd",
   "metadata": {},
   "source": [
    "Удалим столбцы 'education' и 'family_status' из датафрейма. При необходимости можно будет вопользоваться \"словарями\", которые были созданы только что."
   ]
  },
  {
   "cell_type": "code",
   "execution_count": 48,
   "id": "f646a797",
   "metadata": {},
   "outputs": [],
   "source": [
    "data = data.drop('education', 1)\n",
    "data = data.drop('family_status', 1)"
   ]
  },
  {
   "cell_type": "code",
   "execution_count": 49,
   "id": "6edee31f",
   "metadata": {},
   "outputs": [
    {
     "data": {
      "text/html": [
       "<div>\n",
       "<style scoped>\n",
       "    .dataframe tbody tr th:only-of-type {\n",
       "        vertical-align: middle;\n",
       "    }\n",
       "\n",
       "    .dataframe tbody tr th {\n",
       "        vertical-align: top;\n",
       "    }\n",
       "\n",
       "    .dataframe thead th {\n",
       "        text-align: right;\n",
       "    }\n",
       "</style>\n",
       "<table border=\"1\" class=\"dataframe\">\n",
       "  <thead>\n",
       "    <tr style=\"text-align: right;\">\n",
       "      <th></th>\n",
       "      <th>children</th>\n",
       "      <th>days_employed</th>\n",
       "      <th>dob_years</th>\n",
       "      <th>education_id</th>\n",
       "      <th>family_status_id</th>\n",
       "      <th>gender</th>\n",
       "      <th>income_type</th>\n",
       "      <th>debt</th>\n",
       "      <th>total_income</th>\n",
       "      <th>purpose</th>\n",
       "      <th>total_income_category</th>\n",
       "    </tr>\n",
       "  </thead>\n",
       "  <tbody>\n",
       "    <tr>\n",
       "      <th>0</th>\n",
       "      <td>1</td>\n",
       "      <td>8437</td>\n",
       "      <td>42</td>\n",
       "      <td>0</td>\n",
       "      <td>0</td>\n",
       "      <td>F</td>\n",
       "      <td>сотрудник</td>\n",
       "      <td>0</td>\n",
       "      <td>253875</td>\n",
       "      <td>операции с недвижимостью</td>\n",
       "      <td>B</td>\n",
       "    </tr>\n",
       "    <tr>\n",
       "      <th>1</th>\n",
       "      <td>1</td>\n",
       "      <td>4024</td>\n",
       "      <td>36</td>\n",
       "      <td>1</td>\n",
       "      <td>0</td>\n",
       "      <td>F</td>\n",
       "      <td>сотрудник</td>\n",
       "      <td>0</td>\n",
       "      <td>112080</td>\n",
       "      <td>операции с автомобилем</td>\n",
       "      <td>C</td>\n",
       "    </tr>\n",
       "    <tr>\n",
       "      <th>2</th>\n",
       "      <td>0</td>\n",
       "      <td>5623</td>\n",
       "      <td>33</td>\n",
       "      <td>1</td>\n",
       "      <td>0</td>\n",
       "      <td>M</td>\n",
       "      <td>сотрудник</td>\n",
       "      <td>0</td>\n",
       "      <td>145885</td>\n",
       "      <td>операции с недвижимостью</td>\n",
       "      <td>C</td>\n",
       "    </tr>\n",
       "    <tr>\n",
       "      <th>3</th>\n",
       "      <td>3</td>\n",
       "      <td>4124</td>\n",
       "      <td>32</td>\n",
       "      <td>1</td>\n",
       "      <td>0</td>\n",
       "      <td>M</td>\n",
       "      <td>сотрудник</td>\n",
       "      <td>0</td>\n",
       "      <td>267628</td>\n",
       "      <td>получение образования</td>\n",
       "      <td>B</td>\n",
       "    </tr>\n",
       "    <tr>\n",
       "      <th>4</th>\n",
       "      <td>0</td>\n",
       "      <td>0</td>\n",
       "      <td>53</td>\n",
       "      <td>1</td>\n",
       "      <td>1</td>\n",
       "      <td>F</td>\n",
       "      <td>пенсионер</td>\n",
       "      <td>0</td>\n",
       "      <td>158616</td>\n",
       "      <td>проведение свадьбы</td>\n",
       "      <td>C</td>\n",
       "    </tr>\n",
       "  </tbody>\n",
       "</table>\n",
       "</div>"
      ],
      "text/plain": [
       "   children  days_employed  dob_years  education_id  family_status_id gender  \\\n",
       "0         1           8437         42             0                 0      F   \n",
       "1         1           4024         36             1                 0      F   \n",
       "2         0           5623         33             1                 0      M   \n",
       "3         3           4124         32             1                 0      M   \n",
       "4         0              0         53             1                 1      F   \n",
       "\n",
       "  income_type  debt  total_income                   purpose  \\\n",
       "0   сотрудник     0        253875  операции с недвижимостью   \n",
       "1   сотрудник     0        112080    операции с автомобилем   \n",
       "2   сотрудник     0        145885  операции с недвижимостью   \n",
       "3   сотрудник     0        267628     получение образования   \n",
       "4   пенсионер     0        158616        проведение свадьбы   \n",
       "\n",
       "  total_income_category  \n",
       "0                     B  \n",
       "1                     C  \n",
       "2                     C  \n",
       "3                     B  \n",
       "4                     C  "
      ]
     },
     "execution_count": 49,
     "metadata": {},
     "output_type": "execute_result"
    }
   ],
   "source": [
    "# Проверяем, что таблицы удалены и данные готовы к исследованию.\n",
    "data.head()"
   ]
  },
  {
   "cell_type": "markdown",
   "id": "2cc09397",
   "metadata": {},
   "source": [
    "## Ответы на вопросы"
   ]
  },
  {
   "cell_type": "markdown",
   "id": "f89faa3f",
   "metadata": {},
   "source": [
    "Для ответа на поставленные в качестве цели исследования вопросы посчитаем долю \"проблемных\" кредитов в зависимости от количества детей, семейного положения и уровня дохода."
   ]
  },
  {
   "cell_type": "markdown",
   "id": "5500e453",
   "metadata": {},
   "source": [
    "Вопрос 1: Есть ли зависимость между количеством детей и возвратом кредита в срок?"
   ]
  },
  {
   "cell_type": "markdown",
   "id": "55878d75",
   "metadata": {},
   "source": [
    "Создадим сводную таблицу по количеству детей, в качестве агрегирующей функции укажем mean. Она поделит сумму (количество единиц, то есть \"проблемных кредитов\") в столбце debt на количество строк в этом столбце. Как раз то что нужно."
   ]
  },
  {
   "cell_type": "code",
   "execution_count": 50,
   "id": "d16a965f",
   "metadata": {},
   "outputs": [],
   "source": [
    "children = pd.pivot_table(data, index='children', values='debt', aggfunc='mean')"
   ]
  },
  {
   "cell_type": "code",
   "execution_count": 51,
   "id": "72673f35",
   "metadata": {},
   "outputs": [],
   "source": [
    "# переведем в проценты и округлим до одного знака после запятой\n",
    "children['debt'] = (children['debt'] * 100).round(1)"
   ]
  },
  {
   "cell_type": "code",
   "execution_count": 52,
   "id": "1ba7025e",
   "metadata": {},
   "outputs": [
    {
     "data": {
      "text/html": [
       "<div>\n",
       "<style scoped>\n",
       "    .dataframe tbody tr th:only-of-type {\n",
       "        vertical-align: middle;\n",
       "    }\n",
       "\n",
       "    .dataframe tbody tr th {\n",
       "        vertical-align: top;\n",
       "    }\n",
       "\n",
       "    .dataframe thead th {\n",
       "        text-align: right;\n",
       "    }\n",
       "</style>\n",
       "<table border=\"1\" class=\"dataframe\">\n",
       "  <thead>\n",
       "    <tr style=\"text-align: right;\">\n",
       "      <th></th>\n",
       "      <th>debt</th>\n",
       "    </tr>\n",
       "    <tr>\n",
       "      <th>children</th>\n",
       "      <th></th>\n",
       "    </tr>\n",
       "  </thead>\n",
       "  <tbody>\n",
       "    <tr>\n",
       "      <th>4</th>\n",
       "      <td>10.0</td>\n",
       "    </tr>\n",
       "    <tr>\n",
       "      <th>2</th>\n",
       "      <td>9.5</td>\n",
       "    </tr>\n",
       "    <tr>\n",
       "      <th>1</th>\n",
       "      <td>9.3</td>\n",
       "    </tr>\n",
       "    <tr>\n",
       "      <th>3</th>\n",
       "      <td>8.2</td>\n",
       "    </tr>\n",
       "    <tr>\n",
       "      <th>0</th>\n",
       "      <td>7.7</td>\n",
       "    </tr>\n",
       "    <tr>\n",
       "      <th>5</th>\n",
       "      <td>0.0</td>\n",
       "    </tr>\n",
       "  </tbody>\n",
       "</table>\n",
       "</div>"
      ],
      "text/plain": [
       "          debt\n",
       "children      \n",
       "4         10.0\n",
       "2          9.5\n",
       "1          9.3\n",
       "3          8.2\n",
       "0          7.7\n",
       "5          0.0"
      ]
     },
     "execution_count": 52,
     "metadata": {},
     "output_type": "execute_result"
    }
   ],
   "source": [
    "# остортируем таблицу по убыванию\n",
    "children.sort_values(by='debt', ascending=False)"
   ]
  },
  {
   "cell_type": "markdown",
   "id": "91225641",
   "metadata": {},
   "source": [
    "**Вывод 1: Очевидной зависимости между количеством детей и возвратом кредита в срок нет. Клиенты, у которых пять детей не имеют проблемных кредитов, но это может объясняться небольшой выборкой по этим клиентам.**"
   ]
  },
  {
   "cell_type": "markdown",
   "id": "a014a996",
   "metadata": {},
   "source": [
    "Вопрос 2: Есть ли зависимость между семейным положением и возвратом кредита в срок?"
   ]
  },
  {
   "cell_type": "markdown",
   "id": "cc4dac4d",
   "metadata": {},
   "source": [
    "Аналогично вычисляем долю клиентов, имеющих задолженность по кредитам в зависимости от их семейного положения."
   ]
  },
  {
   "cell_type": "code",
   "execution_count": 53,
   "id": "6a595566",
   "metadata": {},
   "outputs": [],
   "source": [
    "family_status = pd.pivot_table(data, index='family_status_id', values='debt', aggfunc='mean')\n",
    "family_status.reset_index(inplace=True)"
   ]
  },
  {
   "cell_type": "code",
   "execution_count": 54,
   "id": "e1d2bd7e",
   "metadata": {},
   "outputs": [],
   "source": [
    "# переведем в проценты и округлим до одного знака после запятой\n",
    "family_status['debt'] = (family_status['debt'] * 100).round(1)"
   ]
  },
  {
   "cell_type": "markdown",
   "id": "f0809d56",
   "metadata": {},
   "source": [
    "Для наглядности соединим таблицы с названием статусов и отсортируем по убыванию"
   ]
  },
  {
   "cell_type": "code",
   "execution_count": 55,
   "id": "9e1d5cc8",
   "metadata": {},
   "outputs": [
    {
     "data": {
      "text/html": [
       "<div>\n",
       "<style scoped>\n",
       "    .dataframe tbody tr th:only-of-type {\n",
       "        vertical-align: middle;\n",
       "    }\n",
       "\n",
       "    .dataframe tbody tr th {\n",
       "        vertical-align: top;\n",
       "    }\n",
       "\n",
       "    .dataframe thead th {\n",
       "        text-align: right;\n",
       "    }\n",
       "</style>\n",
       "<table border=\"1\" class=\"dataframe\">\n",
       "  <thead>\n",
       "    <tr style=\"text-align: right;\">\n",
       "      <th></th>\n",
       "      <th>family_status_id</th>\n",
       "      <th>debt</th>\n",
       "    </tr>\n",
       "    <tr>\n",
       "      <th>family_status</th>\n",
       "      <th></th>\n",
       "      <th></th>\n",
       "    </tr>\n",
       "  </thead>\n",
       "  <tbody>\n",
       "    <tr>\n",
       "      <th>не женат / не замужем</th>\n",
       "      <td>4</td>\n",
       "      <td>9.9</td>\n",
       "    </tr>\n",
       "    <tr>\n",
       "      <th>гражданский брак</th>\n",
       "      <td>1</td>\n",
       "      <td>9.4</td>\n",
       "    </tr>\n",
       "    <tr>\n",
       "      <th>женат / замужем</th>\n",
       "      <td>0</td>\n",
       "      <td>7.7</td>\n",
       "    </tr>\n",
       "    <tr>\n",
       "      <th>в разводе</th>\n",
       "      <td>3</td>\n",
       "      <td>7.1</td>\n",
       "    </tr>\n",
       "    <tr>\n",
       "      <th>вдовец / вдова</th>\n",
       "      <td>2</td>\n",
       "      <td>6.7</td>\n",
       "    </tr>\n",
       "  </tbody>\n",
       "</table>\n",
       "</div>"
      ],
      "text/plain": [
       "                       family_status_id  debt\n",
       "family_status                                \n",
       "не женат / не замужем                 4   9.9\n",
       "гражданский брак                      1   9.4\n",
       "женат / замужем                       0   7.7\n",
       "в разводе                             3   7.1\n",
       "вдовец / вдова                        2   6.7"
      ]
     },
     "execution_count": 55,
     "metadata": {},
     "output_type": "execute_result"
    }
   ],
   "source": [
    "family.merge(family_status, how='left', on='family_status_id').groupby('family_status').min().sort_values(by='debt', ascending=False)"
   ]
  },
  {
   "cell_type": "markdown",
   "id": "058d4783",
   "metadata": {},
   "source": [
    "**Вывод 2: Чуть больше \"проблемных\" кредитов у холостых и людей, проживающих в гражданском браке, наименьшее у вдов/вдовцов**"
   ]
  },
  {
   "cell_type": "markdown",
   "id": "190a1020",
   "metadata": {},
   "source": [
    "Вопрос 3: Есть ли зависимость между уровнем дохода и возвратом кредита в срок?"
   ]
  },
  {
   "cell_type": "code",
   "execution_count": 56,
   "id": "3f741170",
   "metadata": {},
   "outputs": [],
   "source": [
    "income = pd.pivot_table(data, index='total_income_category', values='debt', aggfunc='mean')"
   ]
  },
  {
   "cell_type": "code",
   "execution_count": 57,
   "id": "a4711a35",
   "metadata": {},
   "outputs": [],
   "source": [
    "income['debt'] = (income['debt'] * 100).round(1)"
   ]
  },
  {
   "cell_type": "code",
   "execution_count": 58,
   "id": "52dd241f",
   "metadata": {},
   "outputs": [
    {
     "data": {
      "text/html": [
       "<div>\n",
       "<style scoped>\n",
       "    .dataframe tbody tr th:only-of-type {\n",
       "        vertical-align: middle;\n",
       "    }\n",
       "\n",
       "    .dataframe tbody tr th {\n",
       "        vertical-align: top;\n",
       "    }\n",
       "\n",
       "    .dataframe thead th {\n",
       "        text-align: right;\n",
       "    }\n",
       "</style>\n",
       "<table border=\"1\" class=\"dataframe\">\n",
       "  <thead>\n",
       "    <tr style=\"text-align: right;\">\n",
       "      <th></th>\n",
       "      <th>debt</th>\n",
       "    </tr>\n",
       "    <tr>\n",
       "      <th>total_income_category</th>\n",
       "      <th></th>\n",
       "    </tr>\n",
       "  </thead>\n",
       "  <tbody>\n",
       "    <tr>\n",
       "      <th>E</th>\n",
       "      <td>9.1</td>\n",
       "    </tr>\n",
       "    <tr>\n",
       "      <th>C</th>\n",
       "      <td>8.7</td>\n",
       "    </tr>\n",
       "    <tr>\n",
       "      <th>A</th>\n",
       "      <td>8.0</td>\n",
       "    </tr>\n",
       "    <tr>\n",
       "      <th>B</th>\n",
       "      <td>7.1</td>\n",
       "    </tr>\n",
       "    <tr>\n",
       "      <th>D</th>\n",
       "      <td>6.0</td>\n",
       "    </tr>\n",
       "  </tbody>\n",
       "</table>\n",
       "</div>"
      ],
      "text/plain": [
       "                       debt\n",
       "total_income_category      \n",
       "E                       9.1\n",
       "C                       8.7\n",
       "A                       8.0\n",
       "B                       7.1\n",
       "D                       6.0"
      ]
     },
     "execution_count": 58,
     "metadata": {},
     "output_type": "execute_result"
    }
   ],
   "source": [
    "income.sort_values(by='debt', ascending=False)"
   ]
  },
  {
   "cell_type": "markdown",
   "id": "1cfd1ea4",
   "metadata": {},
   "source": [
    "**Вывод 3: Связи между уровнем дохода и возвратом кредита в срок нет. Чуть больше \"проблемных\" кредитов у людей с минимальным уровнем дохода, но ненамного отстают клиенты с наибольшим уровнем дохода.**"
   ]
  },
  {
   "cell_type": "markdown",
   "id": "369498c5",
   "metadata": {},
   "source": [
    "Вопрос 4: Как разные цели кредита влияют на его возврат в срок?"
   ]
  },
  {
   "cell_type": "code",
   "execution_count": 59,
   "id": "6254df80",
   "metadata": {},
   "outputs": [],
   "source": [
    "purpose = pd.pivot_table(data, index='purpose', values='debt', aggfunc='mean')"
   ]
  },
  {
   "cell_type": "code",
   "execution_count": 60,
   "id": "3cc5d710",
   "metadata": {},
   "outputs": [],
   "source": [
    "purpose['debt'] = (purpose['debt'] * 100).round(1)"
   ]
  },
  {
   "cell_type": "code",
   "execution_count": 61,
   "id": "9cfb6131",
   "metadata": {},
   "outputs": [
    {
     "data": {
      "text/html": [
       "<div>\n",
       "<style scoped>\n",
       "    .dataframe tbody tr th:only-of-type {\n",
       "        vertical-align: middle;\n",
       "    }\n",
       "\n",
       "    .dataframe tbody tr th {\n",
       "        vertical-align: top;\n",
       "    }\n",
       "\n",
       "    .dataframe thead th {\n",
       "        text-align: right;\n",
       "    }\n",
       "</style>\n",
       "<table border=\"1\" class=\"dataframe\">\n",
       "  <thead>\n",
       "    <tr style=\"text-align: right;\">\n",
       "      <th></th>\n",
       "      <th>debt</th>\n",
       "    </tr>\n",
       "    <tr>\n",
       "      <th>purpose</th>\n",
       "      <th></th>\n",
       "    </tr>\n",
       "  </thead>\n",
       "  <tbody>\n",
       "    <tr>\n",
       "      <th>операции с автомобилем</th>\n",
       "      <td>9.4</td>\n",
       "    </tr>\n",
       "    <tr>\n",
       "      <th>получение образования</th>\n",
       "      <td>9.4</td>\n",
       "    </tr>\n",
       "    <tr>\n",
       "      <th>проведение свадьбы</th>\n",
       "      <td>8.0</td>\n",
       "    </tr>\n",
       "    <tr>\n",
       "      <th>операции с недвижимостью</th>\n",
       "      <td>7.4</td>\n",
       "    </tr>\n",
       "  </tbody>\n",
       "</table>\n",
       "</div>"
      ],
      "text/plain": [
       "                          debt\n",
       "purpose                       \n",
       "операции с автомобилем     9.4\n",
       "получение образования      9.4\n",
       "проведение свадьбы         8.0\n",
       "операции с недвижимостью   7.4"
      ]
     },
     "execution_count": 61,
     "metadata": {},
     "output_type": "execute_result"
    }
   ],
   "source": [
    "purpose.sort_values(by='debt', ascending=False)"
   ]
  },
  {
   "cell_type": "markdown",
   "id": "22d033bf",
   "metadata": {},
   "source": [
    "**Вывод 4: Вероятность возврата кредита в срок выше для операций с недвижимостью и проведение свадьбы.**"
   ]
  },
  {
   "cell_type": "markdown",
   "id": "fff5a87b",
   "metadata": {},
   "source": [
    "## Общий вывод:"
   ]
  },
  {
   "cell_type": "markdown",
   "id": "9d731d35",
   "metadata": {},
   "source": [
    "Проведенное исследование не установило четкой взаимосвязи между количеством детей у клиентов, их семейным положением, уровнем дохода и вероятностью возникновения задолженности по кредиту. Наименьшая доля \"проблемных кредитов\" у клиентов без детей, вдов/вдовцов, с доходом от 30 001 до 50 000, а также, которые берут кредит на проведение свадьбы и операции с недвижимостью."
   ]
  }
 ],
 "metadata": {
  "ExecuteTimeLog": [
   {
    "duration": 607,
    "start_time": "2022-02-22T13:42:39.205Z"
   },
   {
    "duration": 54,
    "start_time": "2022-02-22T13:43:25.062Z"
   },
   {
    "duration": 58,
    "start_time": "2022-02-22T13:48:58.659Z"
   },
   {
    "duration": 435,
    "start_time": "2022-02-22T13:50:18.730Z"
   },
   {
    "duration": 53,
    "start_time": "2022-02-22T13:50:50.882Z"
   },
   {
    "duration": 56,
    "start_time": "2022-02-22T13:51:29.515Z"
   },
   {
    "duration": 60,
    "start_time": "2022-02-22T13:52:48.761Z"
   },
   {
    "duration": 60,
    "start_time": "2022-02-22T13:52:59.208Z"
   },
   {
    "duration": 75,
    "start_time": "2022-02-22T13:53:41.881Z"
   },
   {
    "duration": 60,
    "start_time": "2022-02-22T13:55:47.925Z"
   },
   {
    "duration": 130,
    "start_time": "2022-02-22T13:57:32.891Z"
   },
   {
    "duration": 68,
    "start_time": "2022-02-22T13:58:32.869Z"
   },
   {
    "duration": 74,
    "start_time": "2022-02-22T13:59:04.292Z"
   },
   {
    "duration": 76,
    "start_time": "2022-02-22T14:01:35.106Z"
   },
   {
    "duration": 474,
    "start_time": "2022-02-22T14:02:24.457Z"
   },
   {
    "duration": 407,
    "start_time": "2022-02-22T14:02:55.778Z"
   },
   {
    "duration": 68,
    "start_time": "2022-02-22T14:04:33.353Z"
   },
   {
    "duration": 69,
    "start_time": "2022-02-22T14:06:28.150Z"
   },
   {
    "duration": 77,
    "start_time": "2022-02-22T14:06:50.685Z"
   },
   {
    "duration": 68,
    "start_time": "2022-02-22T14:07:18.164Z"
   },
   {
    "duration": 116,
    "start_time": "2022-02-22T14:17:15.950Z"
   },
   {
    "duration": 67,
    "start_time": "2022-02-22T14:17:28.813Z"
   },
   {
    "duration": 72,
    "start_time": "2022-02-22T14:18:09.629Z"
   },
   {
    "duration": 67,
    "start_time": "2022-02-22T14:53:38.241Z"
   },
   {
    "duration": 67,
    "start_time": "2022-02-22T14:53:54.202Z"
   },
   {
    "duration": 68,
    "start_time": "2022-02-22T14:53:58.802Z"
   },
   {
    "duration": 68,
    "start_time": "2022-02-22T14:54:12.834Z"
   },
   {
    "duration": 68,
    "start_time": "2022-02-22T14:54:45.065Z"
   },
   {
    "duration": 65,
    "start_time": "2022-02-22T15:02:23.636Z"
   },
   {
    "duration": 67,
    "start_time": "2022-02-22T15:04:48.234Z"
   },
   {
    "duration": 718,
    "start_time": "2022-02-22T19:31:15.957Z"
   },
   {
    "duration": 61,
    "start_time": "2022-02-22T19:31:55.028Z"
   },
   {
    "duration": 64,
    "start_time": "2022-02-22T19:34:28.196Z"
   },
   {
    "duration": 111,
    "start_time": "2022-02-22T19:37:18.078Z"
   },
   {
    "duration": 93,
    "start_time": "2022-02-22T19:42:33.549Z"
   },
   {
    "duration": 13,
    "start_time": "2022-02-22T19:43:02.620Z"
   },
   {
    "duration": 80,
    "start_time": "2022-02-22T19:59:37.961Z"
   },
   {
    "duration": 90,
    "start_time": "2022-02-22T19:59:52.567Z"
   },
   {
    "duration": 7,
    "start_time": "2022-02-22T20:01:04.127Z"
   },
   {
    "duration": 7,
    "start_time": "2022-02-22T20:01:06.494Z"
   },
   {
    "duration": 8,
    "start_time": "2022-02-22T20:01:13.823Z"
   },
   {
    "duration": 9,
    "start_time": "2022-02-22T20:02:20.243Z"
   },
   {
    "duration": 5,
    "start_time": "2022-02-22T20:03:44.528Z"
   },
   {
    "duration": 9,
    "start_time": "2022-02-22T20:03:49.689Z"
   },
   {
    "duration": 7,
    "start_time": "2022-02-22T20:13:32.545Z"
   },
   {
    "duration": -284,
    "start_time": "2022-02-22T20:18:36.882Z"
   },
   {
    "duration": 7578,
    "start_time": "2022-02-22T20:18:46.610Z"
   },
   {
    "duration": 6214,
    "start_time": "2022-02-22T20:19:09.618Z"
   },
   {
    "duration": 13,
    "start_time": "2022-02-22T20:20:29.806Z"
   },
   {
    "duration": 6,
    "start_time": "2022-02-22T20:20:45.892Z"
   },
   {
    "duration": 7,
    "start_time": "2022-02-22T20:25:27.882Z"
   },
   {
    "duration": 7,
    "start_time": "2022-02-22T20:27:55.112Z"
   },
   {
    "duration": 8,
    "start_time": "2022-02-22T20:28:57.560Z"
   },
   {
    "duration": 11,
    "start_time": "2022-02-22T20:30:49.190Z"
   },
   {
    "duration": 7,
    "start_time": "2022-02-22T20:33:27.434Z"
   },
   {
    "duration": 7,
    "start_time": "2022-02-22T20:34:49.563Z"
   },
   {
    "duration": 9,
    "start_time": "2022-02-22T20:34:58.919Z"
   },
   {
    "duration": 7,
    "start_time": "2022-02-22T20:37:30.843Z"
   },
   {
    "duration": 17,
    "start_time": "2022-02-22T20:39:05.039Z"
   },
   {
    "duration": 8,
    "start_time": "2022-02-22T20:39:45.541Z"
   },
   {
    "duration": 9,
    "start_time": "2022-02-22T20:39:58.868Z"
   },
   {
    "duration": 11,
    "start_time": "2022-02-22T20:40:19.870Z"
   },
   {
    "duration": 12,
    "start_time": "2022-02-22T20:40:38.807Z"
   },
   {
    "duration": 13,
    "start_time": "2022-02-22T20:40:50.822Z"
   },
   {
    "duration": 11,
    "start_time": "2022-02-22T20:41:05.552Z"
   },
   {
    "duration": 7,
    "start_time": "2022-02-22T20:41:27.427Z"
   },
   {
    "duration": 12,
    "start_time": "2022-02-22T20:41:35.808Z"
   },
   {
    "duration": 39,
    "start_time": "2022-02-22T20:43:03.636Z"
   },
   {
    "duration": 22,
    "start_time": "2022-02-22T20:43:15.257Z"
   },
   {
    "duration": 9,
    "start_time": "2022-02-22T20:44:16.556Z"
   },
   {
    "duration": 9,
    "start_time": "2022-02-22T20:44:35.780Z"
   },
   {
    "duration": 15,
    "start_time": "2022-02-22T20:44:41.829Z"
   },
   {
    "duration": 6,
    "start_time": "2022-02-22T20:48:31.982Z"
   },
   {
    "duration": 9,
    "start_time": "2022-02-22T20:48:41.911Z"
   },
   {
    "duration": 15,
    "start_time": "2022-02-22T20:52:25.706Z"
   },
   {
    "duration": 10,
    "start_time": "2022-02-22T20:52:52.082Z"
   },
   {
    "duration": 6,
    "start_time": "2022-02-22T20:53:06.323Z"
   },
   {
    "duration": 5,
    "start_time": "2022-02-22T20:53:11.147Z"
   },
   {
    "duration": 5,
    "start_time": "2022-02-22T20:53:22.238Z"
   },
   {
    "duration": 13,
    "start_time": "2022-02-22T20:54:25.437Z"
   },
   {
    "duration": 14,
    "start_time": "2022-02-22T20:54:50.824Z"
   },
   {
    "duration": 7,
    "start_time": "2022-02-22T20:59:54.356Z"
   },
   {
    "duration": 8,
    "start_time": "2022-02-22T21:00:02.428Z"
   },
   {
    "duration": 8,
    "start_time": "2022-02-22T21:00:50.910Z"
   },
   {
    "duration": 7,
    "start_time": "2022-02-22T21:01:13.572Z"
   },
   {
    "duration": 10,
    "start_time": "2022-02-22T21:01:26.920Z"
   },
   {
    "duration": 8,
    "start_time": "2022-02-22T21:01:36.988Z"
   },
   {
    "duration": 7,
    "start_time": "2022-02-22T21:02:38.978Z"
   },
   {
    "duration": 8,
    "start_time": "2022-02-22T21:04:16.762Z"
   },
   {
    "duration": 7,
    "start_time": "2022-02-22T21:06:20.697Z"
   },
   {
    "duration": 20,
    "start_time": "2022-02-22T21:13:53.576Z"
   },
   {
    "duration": 8,
    "start_time": "2022-02-22T21:23:13.550Z"
   },
   {
    "duration": 13,
    "start_time": "2022-02-22T21:23:46.064Z"
   },
   {
    "duration": 5,
    "start_time": "2022-02-22T21:27:24.472Z"
   },
   {
    "duration": 5,
    "start_time": "2022-02-22T21:27:46.630Z"
   },
   {
    "duration": 5,
    "start_time": "2022-02-22T21:29:04.911Z"
   },
   {
    "duration": 4,
    "start_time": "2022-02-22T21:29:54.940Z"
   },
   {
    "duration": 11,
    "start_time": "2022-02-22T21:38:39.374Z"
   },
   {
    "duration": 16,
    "start_time": "2022-02-22T21:39:06.161Z"
   },
   {
    "duration": 12,
    "start_time": "2022-02-22T21:40:01.011Z"
   },
   {
    "duration": 21,
    "start_time": "2022-02-22T21:44:02.817Z"
   },
   {
    "duration": 25,
    "start_time": "2022-02-22T21:44:32.173Z"
   },
   {
    "duration": 28,
    "start_time": "2022-02-22T21:49:18.072Z"
   },
   {
    "duration": 37,
    "start_time": "2022-02-22T21:50:27.635Z"
   },
   {
    "duration": 36,
    "start_time": "2022-02-22T21:54:21.528Z"
   },
   {
    "duration": 37,
    "start_time": "2022-02-22T21:55:00.573Z"
   },
   {
    "duration": 293,
    "start_time": "2022-02-23T09:55:16.067Z"
   },
   {
    "duration": 231,
    "start_time": "2022-02-23T09:55:34.512Z"
   },
   {
    "duration": 1102,
    "start_time": "2022-02-23T09:56:05.490Z"
   },
   {
    "duration": 6,
    "start_time": "2022-02-23T09:56:06.596Z"
   },
   {
    "duration": 39,
    "start_time": "2022-02-23T09:56:06.611Z"
   },
   {
    "duration": 18,
    "start_time": "2022-02-23T09:56:06.653Z"
   },
   {
    "duration": 22,
    "start_time": "2022-02-23T09:56:06.674Z"
   },
   {
    "duration": 31,
    "start_time": "2022-02-23T09:56:06.700Z"
   },
   {
    "duration": 8,
    "start_time": "2022-02-23T09:56:06.734Z"
   },
   {
    "duration": 14,
    "start_time": "2022-02-23T09:56:06.745Z"
   },
   {
    "duration": 15,
    "start_time": "2022-02-23T09:56:06.762Z"
   },
   {
    "duration": 48,
    "start_time": "2022-02-23T09:56:06.780Z"
   },
   {
    "duration": 13,
    "start_time": "2022-02-23T09:56:06.831Z"
   },
   {
    "duration": 16,
    "start_time": "2022-02-23T09:56:06.847Z"
   },
   {
    "duration": 18,
    "start_time": "2022-02-23T09:56:06.866Z"
   },
   {
    "duration": 41,
    "start_time": "2022-02-23T09:56:06.887Z"
   },
   {
    "duration": 20,
    "start_time": "2022-02-23T09:56:06.930Z"
   },
   {
    "duration": 16,
    "start_time": "2022-02-23T09:56:06.952Z"
   },
   {
    "duration": 14,
    "start_time": "2022-02-23T09:56:06.971Z"
   },
   {
    "duration": 12,
    "start_time": "2022-02-23T09:56:07.027Z"
   },
   {
    "duration": 166,
    "start_time": "2022-02-23T09:56:07.041Z"
   },
   {
    "duration": -134,
    "start_time": "2022-02-23T09:56:07.345Z"
   },
   {
    "duration": -136,
    "start_time": "2022-02-23T09:56:07.349Z"
   },
   {
    "duration": -201,
    "start_time": "2022-02-23T09:56:07.416Z"
   },
   {
    "duration": 29,
    "start_time": "2022-02-23T09:56:28.125Z"
   },
   {
    "duration": 65,
    "start_time": "2022-02-23T09:56:31.038Z"
   },
   {
    "duration": 55,
    "start_time": "2022-02-23T09:57:25.949Z"
   },
   {
    "duration": 28,
    "start_time": "2022-02-23T10:00:55.913Z"
   },
   {
    "duration": 91,
    "start_time": "2022-02-23T10:01:18.889Z"
   },
   {
    "duration": 25,
    "start_time": "2022-02-23T10:01:31.645Z"
   },
   {
    "duration": 79,
    "start_time": "2022-02-23T10:20:15.478Z"
   },
   {
    "duration": 37,
    "start_time": "2022-02-23T10:36:17.266Z"
   },
   {
    "duration": 398,
    "start_time": "2022-02-23T10:38:54.821Z"
   },
   {
    "duration": 256,
    "start_time": "2022-02-23T10:39:44.065Z"
   },
   {
    "duration": 266,
    "start_time": "2022-02-23T10:40:09.484Z"
   },
   {
    "duration": 7,
    "start_time": "2022-02-23T10:41:06.769Z"
   },
   {
    "duration": 37,
    "start_time": "2022-02-23T10:41:11.796Z"
   },
   {
    "duration": 260,
    "start_time": "2022-02-23T10:41:46.927Z"
   },
   {
    "duration": 242,
    "start_time": "2022-02-23T10:42:50.494Z"
   },
   {
    "duration": 40,
    "start_time": "2022-02-23T10:43:15.045Z"
   },
   {
    "duration": 247,
    "start_time": "2022-02-23T10:43:31.145Z"
   },
   {
    "duration": 15,
    "start_time": "2022-02-23T10:43:48.027Z"
   },
   {
    "duration": 269,
    "start_time": "2022-02-23T10:44:04.882Z"
   },
   {
    "duration": 39,
    "start_time": "2022-02-23T10:45:58.199Z"
   },
   {
    "duration": 17,
    "start_time": "2022-02-23T10:46:44.596Z"
   },
   {
    "duration": 9,
    "start_time": "2022-02-23T10:47:09.468Z"
   },
   {
    "duration": 263,
    "start_time": "2022-02-23T10:47:27.123Z"
   },
   {
    "duration": 9,
    "start_time": "2022-02-23T10:47:31.433Z"
   },
   {
    "duration": 36,
    "start_time": "2022-02-23T10:47:33.997Z"
   },
   {
    "duration": 11,
    "start_time": "2022-02-23T10:48:13.119Z"
   },
   {
    "duration": 8,
    "start_time": "2022-02-23T10:49:00.623Z"
   },
   {
    "duration": 10,
    "start_time": "2022-02-23T11:00:27.456Z"
   },
   {
    "duration": 9,
    "start_time": "2022-02-23T11:00:30.354Z"
   },
   {
    "duration": 43,
    "start_time": "2022-02-23T11:01:18.371Z"
   },
   {
    "duration": 9,
    "start_time": "2022-02-23T11:01:29.132Z"
   },
   {
    "duration": 9,
    "start_time": "2022-02-23T11:18:31.963Z"
   },
   {
    "duration": 10,
    "start_time": "2022-02-23T11:18:44.335Z"
   },
   {
    "duration": 9,
    "start_time": "2022-02-23T11:19:03.958Z"
   },
   {
    "duration": 12,
    "start_time": "2022-02-23T11:19:39.087Z"
   },
   {
    "duration": 20,
    "start_time": "2022-02-23T11:20:03.484Z"
   },
   {
    "duration": 17,
    "start_time": "2022-02-23T11:20:17.702Z"
   },
   {
    "duration": 14,
    "start_time": "2022-02-23T11:22:30.653Z"
   },
   {
    "duration": 819,
    "start_time": "2022-02-23T11:23:48.068Z"
   },
   {
    "duration": 5,
    "start_time": "2022-02-23T11:23:48.889Z"
   },
   {
    "duration": 30,
    "start_time": "2022-02-23T11:23:48.896Z"
   },
   {
    "duration": 8,
    "start_time": "2022-02-23T11:23:48.929Z"
   },
   {
    "duration": 17,
    "start_time": "2022-02-23T11:23:48.939Z"
   },
   {
    "duration": 10,
    "start_time": "2022-02-23T11:23:48.958Z"
   },
   {
    "duration": 13,
    "start_time": "2022-02-23T11:23:48.970Z"
   },
   {
    "duration": 44,
    "start_time": "2022-02-23T11:23:48.987Z"
   },
   {
    "duration": 12,
    "start_time": "2022-02-23T11:23:49.035Z"
   },
   {
    "duration": 16,
    "start_time": "2022-02-23T11:23:49.051Z"
   },
   {
    "duration": 8,
    "start_time": "2022-02-23T11:23:49.070Z"
   },
   {
    "duration": 50,
    "start_time": "2022-02-23T11:23:49.080Z"
   },
   {
    "duration": 15,
    "start_time": "2022-02-23T11:23:49.132Z"
   },
   {
    "duration": 13,
    "start_time": "2022-02-23T11:23:49.149Z"
   },
   {
    "duration": 26,
    "start_time": "2022-02-23T11:23:49.164Z"
   },
   {
    "duration": 35,
    "start_time": "2022-02-23T11:23:49.192Z"
   },
   {
    "duration": 13,
    "start_time": "2022-02-23T11:23:49.231Z"
   },
   {
    "duration": 12,
    "start_time": "2022-02-23T11:23:49.246Z"
   },
   {
    "duration": 67,
    "start_time": "2022-02-23T11:23:49.260Z"
   },
   {
    "duration": 30,
    "start_time": "2022-02-23T11:23:49.330Z"
   },
   {
    "duration": 25,
    "start_time": "2022-02-23T11:23:49.362Z"
   },
   {
    "duration": 39,
    "start_time": "2022-02-23T11:23:49.390Z"
   },
   {
    "duration": 329,
    "start_time": "2022-02-23T11:23:49.432Z"
   },
   {
    "duration": 124663,
    "start_time": "2022-02-23T11:21:45.100Z"
   },
   {
    "duration": 57,
    "start_time": "2022-02-23T11:24:32.356Z"
   },
   {
    "duration": 26,
    "start_time": "2022-02-23T11:24:43.809Z"
   },
   {
    "duration": 10,
    "start_time": "2022-02-23T11:25:11.469Z"
   },
   {
    "duration": 9,
    "start_time": "2022-02-23T11:25:21.039Z"
   },
   {
    "duration": 10,
    "start_time": "2022-02-23T11:26:24.077Z"
   },
   {
    "duration": 10,
    "start_time": "2022-02-23T11:26:26.811Z"
   },
   {
    "duration": 15,
    "start_time": "2022-02-23T11:27:22.693Z"
   },
   {
    "duration": 35,
    "start_time": "2022-02-23T11:35:58.619Z"
   },
   {
    "duration": 22,
    "start_time": "2022-02-23T11:40:19.898Z"
   },
   {
    "duration": 6,
    "start_time": "2022-02-23T11:47:30.310Z"
   },
   {
    "duration": 6,
    "start_time": "2022-02-23T11:47:34.023Z"
   },
   {
    "duration": 7,
    "start_time": "2022-02-23T11:47:43.187Z"
   },
   {
    "duration": 10,
    "start_time": "2022-02-23T11:49:32.376Z"
   },
   {
    "duration": 11,
    "start_time": "2022-02-23T11:49:53.577Z"
   },
   {
    "duration": 11,
    "start_time": "2022-02-23T11:50:59.889Z"
   },
   {
    "duration": 23,
    "start_time": "2022-02-23T11:51:11.746Z"
   },
   {
    "duration": 21,
    "start_time": "2022-02-23T11:52:22.105Z"
   },
   {
    "duration": 42,
    "start_time": "2022-02-23T11:53:19.368Z"
   },
   {
    "duration": 46,
    "start_time": "2022-02-23T11:54:05.699Z"
   },
   {
    "duration": 28,
    "start_time": "2022-02-23T11:54:32.829Z"
   },
   {
    "duration": 11,
    "start_time": "2022-02-23T11:54:50.819Z"
   },
   {
    "duration": 346,
    "start_time": "2022-02-23T11:58:15.537Z"
   },
   {
    "duration": 16,
    "start_time": "2022-02-23T11:59:01.340Z"
   },
   {
    "duration": 6,
    "start_time": "2022-02-23T11:59:05.426Z"
   },
   {
    "duration": 13,
    "start_time": "2022-02-23T12:02:44.244Z"
   },
   {
    "duration": 5,
    "start_time": "2022-02-23T12:03:41.785Z"
   },
   {
    "duration": 12,
    "start_time": "2022-02-23T12:04:21.885Z"
   },
   {
    "duration": 37,
    "start_time": "2022-02-23T12:04:45.805Z"
   },
   {
    "duration": 9,
    "start_time": "2022-02-23T12:08:29.886Z"
   },
   {
    "duration": 254,
    "start_time": "2022-02-23T12:08:36.525Z"
   },
   {
    "duration": 7,
    "start_time": "2022-02-23T12:10:18.646Z"
   },
   {
    "duration": 8,
    "start_time": "2022-02-23T12:10:26.795Z"
   },
   {
    "duration": 8,
    "start_time": "2022-02-23T12:10:31.530Z"
   },
   {
    "duration": 10,
    "start_time": "2022-02-23T12:10:34.786Z"
   },
   {
    "duration": 17,
    "start_time": "2022-02-23T12:17:56.126Z"
   },
   {
    "duration": 38,
    "start_time": "2022-02-23T12:21:41.046Z"
   },
   {
    "duration": 869,
    "start_time": "2022-02-23T12:22:43.044Z"
   },
   {
    "duration": 10,
    "start_time": "2022-02-23T12:22:43.916Z"
   },
   {
    "duration": 16,
    "start_time": "2022-02-23T12:22:43.929Z"
   },
   {
    "duration": 8,
    "start_time": "2022-02-23T12:22:43.948Z"
   },
   {
    "duration": 14,
    "start_time": "2022-02-23T12:22:43.958Z"
   },
   {
    "duration": 57,
    "start_time": "2022-02-23T12:22:43.974Z"
   },
   {
    "duration": 46,
    "start_time": "2022-02-23T12:22:44.033Z"
   },
   {
    "duration": 76,
    "start_time": "2022-02-23T12:22:44.082Z"
   },
   {
    "duration": 124579,
    "start_time": "2022-02-23T12:20:39.583Z"
   },
   {
    "duration": 124578,
    "start_time": "2022-02-23T12:20:39.585Z"
   },
   {
    "duration": 124578,
    "start_time": "2022-02-23T12:20:39.587Z"
   },
   {
    "duration": 124575,
    "start_time": "2022-02-23T12:20:39.591Z"
   },
   {
    "duration": 124571,
    "start_time": "2022-02-23T12:20:39.597Z"
   },
   {
    "duration": 124566,
    "start_time": "2022-02-23T12:20:39.603Z"
   },
   {
    "duration": 124562,
    "start_time": "2022-02-23T12:20:39.608Z"
   },
   {
    "duration": 124558,
    "start_time": "2022-02-23T12:20:39.613Z"
   },
   {
    "duration": 124558,
    "start_time": "2022-02-23T12:20:39.615Z"
   },
   {
    "duration": 124551,
    "start_time": "2022-02-23T12:20:39.623Z"
   },
   {
    "duration": 124548,
    "start_time": "2022-02-23T12:20:39.627Z"
   },
   {
    "duration": 124543,
    "start_time": "2022-02-23T12:20:39.634Z"
   },
   {
    "duration": 124513,
    "start_time": "2022-02-23T12:20:39.665Z"
   },
   {
    "duration": 124509,
    "start_time": "2022-02-23T12:20:39.670Z"
   },
   {
    "duration": 124499,
    "start_time": "2022-02-23T12:20:39.682Z"
   },
   {
    "duration": 124495,
    "start_time": "2022-02-23T12:20:39.688Z"
   },
   {
    "duration": 124484,
    "start_time": "2022-02-23T12:20:39.700Z"
   },
   {
    "duration": 124471,
    "start_time": "2022-02-23T12:20:39.714Z"
   },
   {
    "duration": 124467,
    "start_time": "2022-02-23T12:20:39.719Z"
   },
   {
    "duration": 124457,
    "start_time": "2022-02-23T12:20:39.731Z"
   },
   {
    "duration": 124453,
    "start_time": "2022-02-23T12:20:39.736Z"
   },
   {
    "duration": 21,
    "start_time": "2022-02-23T12:23:46.352Z"
   },
   {
    "duration": 13,
    "start_time": "2022-02-23T12:27:01.765Z"
   },
   {
    "duration": 9,
    "start_time": "2022-02-23T12:41:28.007Z"
   },
   {
    "duration": 93,
    "start_time": "2022-02-23T12:41:32.367Z"
   },
   {
    "duration": 13,
    "start_time": "2022-02-23T12:44:43.404Z"
   },
   {
    "duration": 14,
    "start_time": "2022-02-23T12:45:19.694Z"
   },
   {
    "duration": 12,
    "start_time": "2022-02-23T12:45:25.317Z"
   },
   {
    "duration": 13,
    "start_time": "2022-02-23T12:45:31.857Z"
   },
   {
    "duration": 57,
    "start_time": "2022-02-23T12:45:48.168Z"
   },
   {
    "duration": 15,
    "start_time": "2022-02-23T12:46:00.134Z"
   },
   {
    "duration": 37,
    "start_time": "2022-02-23T12:46:33.207Z"
   },
   {
    "duration": 874,
    "start_time": "2022-02-23T12:47:03.954Z"
   },
   {
    "duration": 6,
    "start_time": "2022-02-23T12:47:04.830Z"
   },
   {
    "duration": 31,
    "start_time": "2022-02-23T12:47:04.840Z"
   },
   {
    "duration": 16,
    "start_time": "2022-02-23T12:47:04.875Z"
   },
   {
    "duration": 52,
    "start_time": "2022-02-23T12:47:04.894Z"
   },
   {
    "duration": 10,
    "start_time": "2022-02-23T12:47:04.949Z"
   },
   {
    "duration": 68,
    "start_time": "2022-02-23T12:47:04.962Z"
   },
   {
    "duration": 22,
    "start_time": "2022-02-23T12:47:05.032Z"
   },
   {
    "duration": 15,
    "start_time": "2022-02-23T12:47:05.059Z"
   },
   {
    "duration": 27,
    "start_time": "2022-02-23T12:47:05.077Z"
   },
   {
    "duration": 39,
    "start_time": "2022-02-23T12:47:05.126Z"
   },
   {
    "duration": 10,
    "start_time": "2022-02-23T12:47:05.167Z"
   },
   {
    "duration": 83,
    "start_time": "2022-02-23T12:47:05.179Z"
   },
   {
    "duration": 124586,
    "start_time": "2022-02-23T12:45:00.679Z"
   },
   {
    "duration": 124572,
    "start_time": "2022-02-23T12:45:00.695Z"
   },
   {
    "duration": 124554,
    "start_time": "2022-02-23T12:45:00.715Z"
   },
   {
    "duration": 124522,
    "start_time": "2022-02-23T12:45:00.748Z"
   },
   {
    "duration": 124507,
    "start_time": "2022-02-23T12:45:00.765Z"
   },
   {
    "duration": 124493,
    "start_time": "2022-02-23T12:45:00.780Z"
   },
   {
    "duration": 124468,
    "start_time": "2022-02-23T12:45:00.807Z"
   },
   {
    "duration": 124465,
    "start_time": "2022-02-23T12:45:00.811Z"
   },
   {
    "duration": 124463,
    "start_time": "2022-02-23T12:45:00.815Z"
   },
   {
    "duration": 124459,
    "start_time": "2022-02-23T12:45:00.820Z"
   },
   {
    "duration": 124459,
    "start_time": "2022-02-23T12:45:00.822Z"
   },
   {
    "duration": 124449,
    "start_time": "2022-02-23T12:45:00.833Z"
   },
   {
    "duration": 124447,
    "start_time": "2022-02-23T12:45:00.836Z"
   },
   {
    "duration": 124447,
    "start_time": "2022-02-23T12:45:00.838Z"
   },
   {
    "duration": 124447,
    "start_time": "2022-02-23T12:45:00.840Z"
   },
   {
    "duration": 124446,
    "start_time": "2022-02-23T12:45:00.842Z"
   },
   {
    "duration": 124446,
    "start_time": "2022-02-23T12:45:00.844Z"
   },
   {
    "duration": 124444,
    "start_time": "2022-02-23T12:45:00.847Z"
   },
   {
    "duration": 34,
    "start_time": "2022-02-23T15:51:47.430Z"
   },
   {
    "duration": 8,
    "start_time": "2022-02-23T15:52:06.876Z"
   },
   {
    "duration": 9,
    "start_time": "2022-02-23T15:52:31.916Z"
   },
   {
    "duration": 3,
    "start_time": "2022-02-23T15:55:35.493Z"
   },
   {
    "duration": 9,
    "start_time": "2022-02-23T15:55:57.420Z"
   },
   {
    "duration": 3,
    "start_time": "2022-02-23T15:56:02.889Z"
   },
   {
    "duration": 5,
    "start_time": "2022-02-23T15:56:38.862Z"
   },
   {
    "duration": 8,
    "start_time": "2022-02-23T15:56:48.364Z"
   },
   {
    "duration": 29,
    "start_time": "2022-02-23T15:58:50.274Z"
   },
   {
    "duration": 82,
    "start_time": "2022-02-23T15:59:45.282Z"
   },
   {
    "duration": 896,
    "start_time": "2022-02-23T16:00:42.248Z"
   },
   {
    "duration": 6,
    "start_time": "2022-02-23T16:00:43.148Z"
   },
   {
    "duration": 48,
    "start_time": "2022-02-23T16:00:43.158Z"
   },
   {
    "duration": 17,
    "start_time": "2022-02-23T16:00:43.209Z"
   },
   {
    "duration": 30,
    "start_time": "2022-02-23T16:00:43.230Z"
   },
   {
    "duration": 13,
    "start_time": "2022-02-23T16:00:43.263Z"
   },
   {
    "duration": 68,
    "start_time": "2022-02-23T16:00:43.279Z"
   },
   {
    "duration": 21,
    "start_time": "2022-02-23T16:00:43.351Z"
   },
   {
    "duration": 44,
    "start_time": "2022-02-23T16:00:43.376Z"
   },
   {
    "duration": 34,
    "start_time": "2022-02-23T16:00:43.423Z"
   },
   {
    "duration": 28,
    "start_time": "2022-02-23T16:00:43.459Z"
   },
   {
    "duration": 99,
    "start_time": "2022-02-23T16:00:43.489Z"
   },
   {
    "duration": 9,
    "start_time": "2022-02-23T16:00:43.591Z"
   },
   {
    "duration": 31,
    "start_time": "2022-02-23T16:00:43.603Z"
   },
   {
    "duration": 10,
    "start_time": "2022-02-23T16:00:43.637Z"
   },
   {
    "duration": 14,
    "start_time": "2022-02-23T16:00:43.651Z"
   },
   {
    "duration": 11,
    "start_time": "2022-02-23T16:00:43.668Z"
   },
   {
    "duration": 58,
    "start_time": "2022-02-23T16:00:43.682Z"
   },
   {
    "duration": 11,
    "start_time": "2022-02-23T16:00:43.744Z"
   },
   {
    "duration": 13,
    "start_time": "2022-02-23T16:00:43.758Z"
   },
   {
    "duration": 64,
    "start_time": "2022-02-23T16:00:43.774Z"
   },
   {
    "duration": 17,
    "start_time": "2022-02-23T16:00:43.841Z"
   },
   {
    "duration": 69,
    "start_time": "2022-02-23T16:00:43.865Z"
   },
   {
    "duration": 11,
    "start_time": "2022-02-23T16:00:43.937Z"
   },
   {
    "duration": 21,
    "start_time": "2022-02-23T16:00:43.952Z"
   },
   {
    "duration": 66,
    "start_time": "2022-02-23T16:00:43.975Z"
   },
   {
    "duration": 36,
    "start_time": "2022-02-23T16:00:44.044Z"
   },
   {
    "duration": 117,
    "start_time": "2022-02-23T16:00:44.083Z"
   },
   {
    "duration": 46,
    "start_time": "2022-02-23T16:00:44.204Z"
   },
   {
    "duration": 13,
    "start_time": "2022-02-23T16:00:44.254Z"
   },
   {
    "duration": 102,
    "start_time": "2022-02-23T16:00:44.270Z"
   },
   {
    "duration": 6,
    "start_time": "2022-02-23T16:02:38.876Z"
   },
   {
    "duration": 65,
    "start_time": "2022-02-23T16:02:45.989Z"
   },
   {
    "duration": 7,
    "start_time": "2022-02-23T16:02:49.195Z"
   },
   {
    "duration": 10,
    "start_time": "2022-02-23T16:03:42.681Z"
   },
   {
    "duration": 6,
    "start_time": "2022-02-23T16:03:47.285Z"
   },
   {
    "duration": 5,
    "start_time": "2022-02-23T16:04:23.031Z"
   },
   {
    "duration": 8,
    "start_time": "2022-02-23T16:04:30.769Z"
   },
   {
    "duration": 11,
    "start_time": "2022-02-23T16:04:33.913Z"
   },
   {
    "duration": 6,
    "start_time": "2022-02-23T16:04:36.199Z"
   },
   {
    "duration": 81,
    "start_time": "2022-02-23T16:08:56.524Z"
   },
   {
    "duration": 6,
    "start_time": "2022-02-23T16:09:42.701Z"
   },
   {
    "duration": 18,
    "start_time": "2022-02-23T16:10:39.054Z"
   },
   {
    "duration": 9,
    "start_time": "2022-02-23T16:12:03.719Z"
   },
   {
    "duration": 15,
    "start_time": "2022-02-23T16:12:10.020Z"
   },
   {
    "duration": 873,
    "start_time": "2022-02-23T16:12:28.754Z"
   },
   {
    "duration": 5,
    "start_time": "2022-02-23T16:12:29.632Z"
   },
   {
    "duration": 18,
    "start_time": "2022-02-23T16:12:29.640Z"
   },
   {
    "duration": 8,
    "start_time": "2022-02-23T16:12:29.661Z"
   },
   {
    "duration": 60,
    "start_time": "2022-02-23T16:12:29.671Z"
   },
   {
    "duration": 7,
    "start_time": "2022-02-23T16:12:29.734Z"
   },
   {
    "duration": 40,
    "start_time": "2022-02-23T16:12:29.743Z"
   },
   {
    "duration": 21,
    "start_time": "2022-02-23T16:12:29.827Z"
   },
   {
    "duration": 8,
    "start_time": "2022-02-23T16:12:29.852Z"
   },
   {
    "duration": 6,
    "start_time": "2022-02-23T16:12:29.862Z"
   },
   {
    "duration": 9,
    "start_time": "2022-02-23T16:12:29.870Z"
   },
   {
    "duration": 9,
    "start_time": "2022-02-23T16:12:29.925Z"
   },
   {
    "duration": 9,
    "start_time": "2022-02-23T16:12:29.937Z"
   },
   {
    "duration": 15,
    "start_time": "2022-02-23T16:12:29.949Z"
   },
   {
    "duration": 13,
    "start_time": "2022-02-23T16:12:29.967Z"
   },
   {
    "duration": 9,
    "start_time": "2022-02-23T16:12:30.026Z"
   },
   {
    "duration": 10,
    "start_time": "2022-02-23T16:12:30.038Z"
   },
   {
    "duration": 15,
    "start_time": "2022-02-23T16:12:30.051Z"
   },
   {
    "duration": 10,
    "start_time": "2022-02-23T16:12:30.068Z"
   },
   {
    "duration": 56,
    "start_time": "2022-02-23T16:12:30.080Z"
   },
   {
    "duration": 12,
    "start_time": "2022-02-23T16:12:30.139Z"
   },
   {
    "duration": 13,
    "start_time": "2022-02-23T16:12:30.154Z"
   },
   {
    "duration": 60,
    "start_time": "2022-02-23T16:12:30.170Z"
   },
   {
    "duration": 17,
    "start_time": "2022-02-23T16:12:30.232Z"
   },
   {
    "duration": 38,
    "start_time": "2022-02-23T16:12:30.252Z"
   },
   {
    "duration": 32,
    "start_time": "2022-02-23T16:12:30.294Z"
   },
   {
    "duration": 20,
    "start_time": "2022-02-23T16:12:30.330Z"
   },
   {
    "duration": 17,
    "start_time": "2022-02-23T16:12:30.353Z"
   },
   {
    "duration": 68,
    "start_time": "2022-02-23T16:12:30.373Z"
   },
   {
    "duration": 82,
    "start_time": "2022-02-23T16:12:30.444Z"
   },
   {
    "duration": 27,
    "start_time": "2022-02-23T16:12:30.529Z"
   },
   {
    "duration": 10,
    "start_time": "2022-02-23T16:12:30.558Z"
   },
   {
    "duration": 107,
    "start_time": "2022-02-23T16:12:30.570Z"
   },
   {
    "duration": 5,
    "start_time": "2022-02-23T16:14:03.850Z"
   },
   {
    "duration": 16,
    "start_time": "2022-02-23T16:14:07.499Z"
   },
   {
    "duration": 5,
    "start_time": "2022-02-23T16:16:07.151Z"
   },
   {
    "duration": 20,
    "start_time": "2022-02-23T16:16:29.647Z"
   },
   {
    "duration": 39,
    "start_time": "2022-02-23T16:18:44.606Z"
   },
   {
    "duration": 11,
    "start_time": "2022-02-23T16:18:53.546Z"
   },
   {
    "duration": 828,
    "start_time": "2022-02-23T16:19:07.779Z"
   },
   {
    "duration": 4,
    "start_time": "2022-02-23T16:19:08.611Z"
   },
   {
    "duration": 29,
    "start_time": "2022-02-23T16:19:08.618Z"
   },
   {
    "duration": 11,
    "start_time": "2022-02-23T16:19:08.650Z"
   },
   {
    "duration": 68,
    "start_time": "2022-02-23T16:19:08.664Z"
   },
   {
    "duration": 8,
    "start_time": "2022-02-23T16:19:08.736Z"
   },
   {
    "duration": 11,
    "start_time": "2022-02-23T16:19:08.747Z"
   },
   {
    "duration": 21,
    "start_time": "2022-02-23T16:19:08.760Z"
   },
   {
    "duration": 49,
    "start_time": "2022-02-23T16:19:08.783Z"
   },
   {
    "duration": 10,
    "start_time": "2022-02-23T16:19:08.835Z"
   },
   {
    "duration": 9,
    "start_time": "2022-02-23T16:19:08.847Z"
   },
   {
    "duration": 10,
    "start_time": "2022-02-23T16:19:08.858Z"
   },
   {
    "duration": 55,
    "start_time": "2022-02-23T16:19:08.871Z"
   },
   {
    "duration": 15,
    "start_time": "2022-02-23T16:19:08.928Z"
   },
   {
    "duration": 5,
    "start_time": "2022-02-23T16:19:08.946Z"
   },
   {
    "duration": 11,
    "start_time": "2022-02-23T16:19:08.954Z"
   },
   {
    "duration": 8,
    "start_time": "2022-02-23T16:19:08.967Z"
   },
   {
    "duration": 54,
    "start_time": "2022-02-23T16:19:08.980Z"
   },
   {
    "duration": 33,
    "start_time": "2022-02-23T16:19:09.038Z"
   },
   {
    "duration": 15,
    "start_time": "2022-02-23T16:19:09.074Z"
   },
   {
    "duration": 47,
    "start_time": "2022-02-23T16:19:09.091Z"
   },
   {
    "duration": 10,
    "start_time": "2022-02-23T16:19:09.140Z"
   },
   {
    "duration": 11,
    "start_time": "2022-02-23T16:19:09.152Z"
   },
   {
    "duration": 61,
    "start_time": "2022-02-23T16:19:09.166Z"
   },
   {
    "duration": 12,
    "start_time": "2022-02-23T16:19:09.231Z"
   },
   {
    "duration": 23,
    "start_time": "2022-02-23T16:19:09.247Z"
   },
   {
    "duration": 54,
    "start_time": "2022-02-23T16:19:09.273Z"
   },
   {
    "duration": 14,
    "start_time": "2022-02-23T16:19:09.330Z"
   },
   {
    "duration": 12,
    "start_time": "2022-02-23T16:19:09.347Z"
   },
   {
    "duration": 77,
    "start_time": "2022-02-23T16:19:09.362Z"
   },
   {
    "duration": 51,
    "start_time": "2022-02-23T16:19:09.441Z"
   },
   {
    "duration": 50,
    "start_time": "2022-02-23T16:19:09.495Z"
   },
   {
    "duration": 11,
    "start_time": "2022-02-23T16:19:09.547Z"
   },
   {
    "duration": 98,
    "start_time": "2022-02-23T16:19:09.560Z"
   },
   {
    "duration": 36,
    "start_time": "2022-02-23T16:19:53.666Z"
   },
   {
    "duration": 1037,
    "start_time": "2022-02-23T16:20:00.808Z"
   },
   {
    "duration": 5,
    "start_time": "2022-02-23T16:20:01.847Z"
   },
   {
    "duration": 20,
    "start_time": "2022-02-23T16:20:01.855Z"
   },
   {
    "duration": 9,
    "start_time": "2022-02-23T16:20:01.878Z"
   },
   {
    "duration": 50,
    "start_time": "2022-02-23T16:20:01.890Z"
   },
   {
    "duration": 11,
    "start_time": "2022-02-23T16:20:01.944Z"
   },
   {
    "duration": 90,
    "start_time": "2022-02-23T16:20:01.958Z"
   },
   {
    "duration": 25,
    "start_time": "2022-02-23T16:20:02.053Z"
   },
   {
    "duration": 8,
    "start_time": "2022-02-23T16:20:02.082Z"
   },
   {
    "duration": 35,
    "start_time": "2022-02-23T16:20:02.093Z"
   },
   {
    "duration": 17,
    "start_time": "2022-02-23T16:20:02.131Z"
   },
   {
    "duration": 16,
    "start_time": "2022-02-23T16:20:02.151Z"
   },
   {
    "duration": 16,
    "start_time": "2022-02-23T16:20:02.170Z"
   },
   {
    "duration": 45,
    "start_time": "2022-02-23T16:20:02.188Z"
   },
   {
    "duration": 12,
    "start_time": "2022-02-23T16:20:02.236Z"
   },
   {
    "duration": 12,
    "start_time": "2022-02-23T16:20:02.250Z"
   },
   {
    "duration": 8,
    "start_time": "2022-02-23T16:20:02.265Z"
   },
   {
    "duration": 10,
    "start_time": "2022-02-23T16:20:02.275Z"
   },
   {
    "duration": 9,
    "start_time": "2022-02-23T16:20:02.327Z"
   },
   {
    "duration": 23,
    "start_time": "2022-02-23T16:20:02.339Z"
   },
   {
    "duration": 40,
    "start_time": "2022-02-23T16:20:02.364Z"
   },
   {
    "duration": 26,
    "start_time": "2022-02-23T16:20:02.407Z"
   },
   {
    "duration": 28,
    "start_time": "2022-02-23T16:20:02.438Z"
   },
   {
    "duration": 20,
    "start_time": "2022-02-23T16:20:02.469Z"
   },
   {
    "duration": 13,
    "start_time": "2022-02-23T16:20:02.491Z"
   },
   {
    "duration": 32,
    "start_time": "2022-02-23T16:20:02.507Z"
   },
   {
    "duration": 11,
    "start_time": "2022-02-23T16:20:02.542Z"
   },
   {
    "duration": 16,
    "start_time": "2022-02-23T16:20:02.556Z"
   },
   {
    "duration": 65,
    "start_time": "2022-02-23T16:20:02.574Z"
   },
   {
    "duration": 27,
    "start_time": "2022-02-23T16:20:02.643Z"
   },
   {
    "duration": 99,
    "start_time": "2022-02-23T16:20:02.673Z"
   },
   {
    "duration": 52,
    "start_time": "2022-02-23T16:20:02.775Z"
   },
   {
    "duration": 12,
    "start_time": "2022-02-23T16:20:02.830Z"
   },
   {
    "duration": 105,
    "start_time": "2022-02-23T16:20:02.845Z"
   },
   {
    "duration": 9,
    "start_time": "2022-02-23T16:31:17.255Z"
   },
   {
    "duration": 880,
    "start_time": "2022-02-23T16:31:25.558Z"
   },
   {
    "duration": 6,
    "start_time": "2022-02-23T16:31:26.441Z"
   },
   {
    "duration": 24,
    "start_time": "2022-02-23T16:31:26.451Z"
   },
   {
    "duration": 49,
    "start_time": "2022-02-23T16:31:26.479Z"
   },
   {
    "duration": 34,
    "start_time": "2022-02-23T16:31:26.530Z"
   },
   {
    "duration": 26,
    "start_time": "2022-02-23T16:31:26.567Z"
   },
   {
    "duration": 56,
    "start_time": "2022-02-23T16:31:26.596Z"
   },
   {
    "duration": 23,
    "start_time": "2022-02-23T16:31:26.657Z"
   },
   {
    "duration": 8,
    "start_time": "2022-02-23T16:31:26.683Z"
   },
   {
    "duration": 34,
    "start_time": "2022-02-23T16:31:26.694Z"
   },
   {
    "duration": 17,
    "start_time": "2022-02-23T16:31:26.731Z"
   },
   {
    "duration": 20,
    "start_time": "2022-02-23T16:31:26.751Z"
   },
   {
    "duration": 5,
    "start_time": "2022-02-23T16:31:26.774Z"
   },
   {
    "duration": 56,
    "start_time": "2022-02-23T16:31:26.782Z"
   },
   {
    "duration": 5,
    "start_time": "2022-02-23T16:31:26.841Z"
   },
   {
    "duration": 19,
    "start_time": "2022-02-23T16:31:26.849Z"
   },
   {
    "duration": 17,
    "start_time": "2022-02-23T16:31:26.871Z"
   },
   {
    "duration": 43,
    "start_time": "2022-02-23T16:31:26.891Z"
   },
   {
    "duration": 56,
    "start_time": "2022-02-23T16:31:26.936Z"
   },
   {
    "duration": 58,
    "start_time": "2022-02-23T16:31:26.994Z"
   },
   {
    "duration": 86,
    "start_time": "2022-02-23T16:31:27.055Z"
   },
   {
    "duration": 76,
    "start_time": "2022-02-23T16:31:27.143Z"
   },
   {
    "duration": 79,
    "start_time": "2022-02-23T16:31:27.225Z"
   },
   {
    "duration": 102,
    "start_time": "2022-02-23T16:31:27.306Z"
   },
   {
    "duration": 172,
    "start_time": "2022-02-23T16:31:27.411Z"
   },
   {
    "duration": 54,
    "start_time": "2022-02-23T16:31:27.586Z"
   },
   {
    "duration": 8,
    "start_time": "2022-02-23T16:31:27.643Z"
   },
   {
    "duration": 20,
    "start_time": "2022-02-23T16:31:27.654Z"
   },
   {
    "duration": 52,
    "start_time": "2022-02-23T16:31:27.676Z"
   },
   {
    "duration": 23,
    "start_time": "2022-02-23T16:31:27.730Z"
   },
   {
    "duration": 84,
    "start_time": "2022-02-23T16:31:27.755Z"
   },
   {
    "duration": 24,
    "start_time": "2022-02-23T16:31:27.841Z"
   },
   {
    "duration": 9,
    "start_time": "2022-02-23T16:31:27.868Z"
   },
   {
    "duration": 95,
    "start_time": "2022-02-23T16:31:27.879Z"
   },
   {
    "duration": 341,
    "start_time": "2022-02-23T16:39:30.416Z"
   },
   {
    "duration": 289,
    "start_time": "2022-02-23T16:39:42.584Z"
   },
   {
    "duration": 266,
    "start_time": "2022-02-23T16:40:09.834Z"
   },
   {
    "duration": 312,
    "start_time": "2022-02-23T16:41:42.003Z"
   },
   {
    "duration": 259,
    "start_time": "2022-02-23T16:42:11.344Z"
   },
   {
    "duration": 14,
    "start_time": "2022-02-23T16:43:11.395Z"
   },
   {
    "duration": 9,
    "start_time": "2022-02-23T16:43:47.097Z"
   },
   {
    "duration": 10,
    "start_time": "2022-02-23T16:44:07.591Z"
   },
   {
    "duration": 9,
    "start_time": "2022-02-23T16:44:12.958Z"
   },
   {
    "duration": 9,
    "start_time": "2022-02-23T16:44:15.854Z"
   },
   {
    "duration": 13,
    "start_time": "2022-02-23T16:45:06.843Z"
   },
   {
    "duration": 11,
    "start_time": "2022-02-23T16:45:43.199Z"
   },
   {
    "duration": 12,
    "start_time": "2022-02-23T16:45:51.121Z"
   },
   {
    "duration": 9,
    "start_time": "2022-02-23T16:45:55.182Z"
   },
   {
    "duration": 10,
    "start_time": "2022-02-23T16:46:00.349Z"
   },
   {
    "duration": 79,
    "start_time": "2022-02-23T16:52:30.101Z"
   },
   {
    "duration": 84,
    "start_time": "2022-02-23T16:56:05.387Z"
   },
   {
    "duration": 14,
    "start_time": "2022-02-23T17:02:17.294Z"
   },
   {
    "duration": 11,
    "start_time": "2022-02-23T17:03:25.587Z"
   },
   {
    "duration": 859,
    "start_time": "2022-02-23T17:03:37.143Z"
   },
   {
    "duration": 5,
    "start_time": "2022-02-23T17:03:38.005Z"
   },
   {
    "duration": 26,
    "start_time": "2022-02-23T17:03:38.013Z"
   },
   {
    "duration": 7,
    "start_time": "2022-02-23T17:03:38.042Z"
   },
   {
    "duration": 19,
    "start_time": "2022-02-23T17:03:38.052Z"
   },
   {
    "duration": 60,
    "start_time": "2022-02-23T17:03:38.074Z"
   },
   {
    "duration": 45,
    "start_time": "2022-02-23T17:03:38.137Z"
   },
   {
    "duration": 58,
    "start_time": "2022-02-23T17:03:38.186Z"
   },
   {
    "duration": 8,
    "start_time": "2022-02-23T17:03:38.247Z"
   },
   {
    "duration": 9,
    "start_time": "2022-02-23T17:03:38.258Z"
   },
   {
    "duration": 11,
    "start_time": "2022-02-23T17:03:38.269Z"
   },
   {
    "duration": 47,
    "start_time": "2022-02-23T17:03:38.283Z"
   },
   {
    "duration": 10,
    "start_time": "2022-02-23T17:03:38.334Z"
   },
   {
    "duration": 19,
    "start_time": "2022-02-23T17:03:38.347Z"
   },
   {
    "duration": 6,
    "start_time": "2022-02-23T17:03:38.369Z"
   },
   {
    "duration": 55,
    "start_time": "2022-02-23T17:03:38.377Z"
   },
   {
    "duration": 13,
    "start_time": "2022-02-23T17:03:38.434Z"
   },
   {
    "duration": 8,
    "start_time": "2022-02-23T17:03:38.449Z"
   },
   {
    "duration": 15,
    "start_time": "2022-02-23T17:03:38.460Z"
   },
   {
    "duration": 49,
    "start_time": "2022-02-23T17:03:38.478Z"
   },
   {
    "duration": 14,
    "start_time": "2022-02-23T17:03:38.530Z"
   },
   {
    "duration": 13,
    "start_time": "2022-02-23T17:03:38.547Z"
   },
   {
    "duration": 13,
    "start_time": "2022-02-23T17:03:38.566Z"
   },
   {
    "duration": 505,
    "start_time": "2022-02-23T17:03:38.627Z"
   },
   {
    "duration": -1226,
    "start_time": "2022-02-23T17:03:40.360Z"
   },
   {
    "duration": -1238,
    "start_time": "2022-02-23T17:03:40.374Z"
   },
   {
    "duration": -1242,
    "start_time": "2022-02-23T17:03:40.379Z"
   },
   {
    "duration": -1251,
    "start_time": "2022-02-23T17:03:40.390Z"
   },
   {
    "duration": -1254,
    "start_time": "2022-02-23T17:03:40.394Z"
   },
   {
    "duration": -1263,
    "start_time": "2022-02-23T17:03:40.404Z"
   },
   {
    "duration": -1263,
    "start_time": "2022-02-23T17:03:40.406Z"
   },
   {
    "duration": -1264,
    "start_time": "2022-02-23T17:03:40.408Z"
   },
   {
    "duration": -1265,
    "start_time": "2022-02-23T17:03:40.410Z"
   },
   {
    "duration": -1267,
    "start_time": "2022-02-23T17:03:40.414Z"
   },
   {
    "duration": 12,
    "start_time": "2022-02-23T17:04:40.943Z"
   },
   {
    "duration": 960,
    "start_time": "2022-02-23T17:04:54.127Z"
   },
   {
    "duration": 5,
    "start_time": "2022-02-23T17:04:55.090Z"
   },
   {
    "duration": 164,
    "start_time": "2022-02-23T17:04:55.098Z"
   },
   {
    "duration": 107,
    "start_time": "2022-02-23T17:04:55.265Z"
   },
   {
    "duration": 45,
    "start_time": "2022-02-23T17:04:55.375Z"
   },
   {
    "duration": 29,
    "start_time": "2022-02-23T17:04:55.424Z"
   },
   {
    "duration": 64,
    "start_time": "2022-02-23T17:04:55.456Z"
   },
   {
    "duration": 23,
    "start_time": "2022-02-23T17:04:55.525Z"
   },
   {
    "duration": 29,
    "start_time": "2022-02-23T17:04:55.552Z"
   },
   {
    "duration": 36,
    "start_time": "2022-02-23T17:04:55.584Z"
   },
   {
    "duration": 24,
    "start_time": "2022-02-23T17:04:55.623Z"
   },
   {
    "duration": 29,
    "start_time": "2022-02-23T17:04:55.649Z"
   },
   {
    "duration": 30,
    "start_time": "2022-02-23T17:04:55.681Z"
   },
   {
    "duration": 39,
    "start_time": "2022-02-23T17:04:55.714Z"
   },
   {
    "duration": 19,
    "start_time": "2022-02-23T17:04:55.757Z"
   },
   {
    "duration": 29,
    "start_time": "2022-02-23T17:04:55.779Z"
   },
   {
    "duration": 15,
    "start_time": "2022-02-23T17:04:55.810Z"
   },
   {
    "duration": 41,
    "start_time": "2022-02-23T17:04:55.828Z"
   },
   {
    "duration": 27,
    "start_time": "2022-02-23T17:04:55.872Z"
   },
   {
    "duration": 42,
    "start_time": "2022-02-23T17:04:55.902Z"
   },
   {
    "duration": 42,
    "start_time": "2022-02-23T17:04:55.947Z"
   },
   {
    "duration": 28,
    "start_time": "2022-02-23T17:04:55.992Z"
   },
   {
    "duration": 23,
    "start_time": "2022-02-23T17:04:56.028Z"
   },
   {
    "duration": 38,
    "start_time": "2022-02-23T17:04:56.054Z"
   },
   {
    "duration": 26,
    "start_time": "2022-02-23T17:04:56.095Z"
   },
   {
    "duration": 37,
    "start_time": "2022-02-23T17:04:56.124Z"
   },
   {
    "duration": 39,
    "start_time": "2022-02-23T17:04:56.164Z"
   },
   {
    "duration": 26,
    "start_time": "2022-02-23T17:04:56.206Z"
   },
   {
    "duration": 36,
    "start_time": "2022-02-23T17:04:56.237Z"
   },
   {
    "duration": 21,
    "start_time": "2022-02-23T17:04:56.277Z"
   },
   {
    "duration": 51,
    "start_time": "2022-02-23T17:04:56.301Z"
   },
   {
    "duration": 87,
    "start_time": "2022-02-23T17:04:56.356Z"
   },
   {
    "duration": 35,
    "start_time": "2022-02-23T17:04:56.445Z"
   },
   {
    "duration": 45,
    "start_time": "2022-02-23T17:04:56.483Z"
   },
   {
    "duration": 116,
    "start_time": "2022-02-23T17:04:56.532Z"
   },
   {
    "duration": 885,
    "start_time": "2022-02-23T17:05:55.156Z"
   },
   {
    "duration": 5,
    "start_time": "2022-02-23T17:05:56.044Z"
   },
   {
    "duration": 25,
    "start_time": "2022-02-23T17:05:56.052Z"
   },
   {
    "duration": 11,
    "start_time": "2022-02-23T17:05:56.080Z"
   },
   {
    "duration": 47,
    "start_time": "2022-02-23T17:05:56.093Z"
   },
   {
    "duration": 17,
    "start_time": "2022-02-23T17:05:56.144Z"
   },
   {
    "duration": 66,
    "start_time": "2022-02-23T17:05:56.164Z"
   },
   {
    "duration": 24,
    "start_time": "2022-02-23T17:05:56.234Z"
   },
   {
    "duration": 35,
    "start_time": "2022-02-23T17:05:56.261Z"
   },
   {
    "duration": 19,
    "start_time": "2022-02-23T17:05:56.299Z"
   },
   {
    "duration": 25,
    "start_time": "2022-02-23T17:05:56.321Z"
   },
   {
    "duration": 31,
    "start_time": "2022-02-23T17:05:56.348Z"
   },
   {
    "duration": 24,
    "start_time": "2022-02-23T17:05:56.382Z"
   },
   {
    "duration": 23,
    "start_time": "2022-02-23T17:05:56.409Z"
   },
   {
    "duration": 10,
    "start_time": "2022-02-23T17:05:56.435Z"
   },
   {
    "duration": 19,
    "start_time": "2022-02-23T17:05:56.448Z"
   },
   {
    "duration": 11,
    "start_time": "2022-02-23T17:05:56.469Z"
   },
   {
    "duration": 21,
    "start_time": "2022-02-23T17:05:56.483Z"
   },
   {
    "duration": 35,
    "start_time": "2022-02-23T17:05:56.507Z"
   },
   {
    "duration": 17,
    "start_time": "2022-02-23T17:05:56.545Z"
   },
   {
    "duration": 23,
    "start_time": "2022-02-23T17:05:56.565Z"
   },
   {
    "duration": 42,
    "start_time": "2022-02-23T17:05:56.590Z"
   },
   {
    "duration": 14,
    "start_time": "2022-02-23T17:05:56.640Z"
   },
   {
    "duration": 26,
    "start_time": "2022-02-23T17:05:56.658Z"
   },
   {
    "duration": 43,
    "start_time": "2022-02-23T17:05:56.687Z"
   },
   {
    "duration": 30,
    "start_time": "2022-02-23T17:05:56.733Z"
   },
   {
    "duration": 40,
    "start_time": "2022-02-23T17:05:56.767Z"
   },
   {
    "duration": 118,
    "start_time": "2022-02-23T17:05:56.811Z"
   },
   {
    "duration": 34,
    "start_time": "2022-02-23T17:05:56.933Z"
   },
   {
    "duration": 17,
    "start_time": "2022-02-23T17:05:56.969Z"
   },
   {
    "duration": 68,
    "start_time": "2022-02-23T17:05:56.989Z"
   },
   {
    "duration": 65,
    "start_time": "2022-02-23T17:05:57.059Z"
   },
   {
    "duration": 24,
    "start_time": "2022-02-23T17:05:57.126Z"
   },
   {
    "duration": 13,
    "start_time": "2022-02-23T17:05:57.152Z"
   },
   {
    "duration": 114,
    "start_time": "2022-02-23T17:05:57.168Z"
   },
   {
    "duration": 24,
    "start_time": "2022-02-23T17:08:41.471Z"
   },
   {
    "duration": 11,
    "start_time": "2022-02-23T17:11:00.830Z"
   },
   {
    "duration": 11,
    "start_time": "2022-02-23T17:11:54.840Z"
   },
   {
    "duration": 356,
    "start_time": "2022-02-23T17:14:52.551Z"
   },
   {
    "duration": 8,
    "start_time": "2022-02-23T17:17:24.535Z"
   },
   {
    "duration": 8,
    "start_time": "2022-02-23T17:17:45.581Z"
   },
   {
    "duration": 5,
    "start_time": "2022-02-23T17:18:50.165Z"
   },
   {
    "duration": 8,
    "start_time": "2022-02-23T17:19:02.629Z"
   },
   {
    "duration": 6,
    "start_time": "2022-02-23T17:20:09.714Z"
   },
   {
    "duration": 6,
    "start_time": "2022-02-23T17:20:13.189Z"
   },
   {
    "duration": 15,
    "start_time": "2022-02-23T17:20:42.917Z"
   },
   {
    "duration": 309,
    "start_time": "2022-02-23T17:26:29.818Z"
   },
   {
    "duration": 36,
    "start_time": "2022-02-23T17:26:50.376Z"
   },
   {
    "duration": 33,
    "start_time": "2022-02-23T17:27:16.578Z"
   },
   {
    "duration": 16,
    "start_time": "2022-02-23T17:27:20.745Z"
   },
   {
    "duration": 16,
    "start_time": "2022-02-23T17:27:37.798Z"
   },
   {
    "duration": 15,
    "start_time": "2022-02-23T17:28:04.262Z"
   },
   {
    "duration": 16,
    "start_time": "2022-02-23T17:28:13.832Z"
   },
   {
    "duration": 19,
    "start_time": "2022-02-23T17:29:21.645Z"
   },
   {
    "duration": 86,
    "start_time": "2022-02-23T17:30:40.141Z"
   },
   {
    "duration": 84,
    "start_time": "2022-02-23T17:30:49.453Z"
   },
   {
    "duration": 19,
    "start_time": "2022-02-23T17:30:58.680Z"
   },
   {
    "duration": 21,
    "start_time": "2022-02-23T17:34:15.123Z"
   },
   {
    "duration": 21,
    "start_time": "2022-02-23T17:37:42.179Z"
   },
   {
    "duration": 917,
    "start_time": "2022-02-23T17:37:52.727Z"
   },
   {
    "duration": 5,
    "start_time": "2022-02-23T17:37:53.646Z"
   },
   {
    "duration": 23,
    "start_time": "2022-02-23T17:37:53.655Z"
   },
   {
    "duration": 44,
    "start_time": "2022-02-23T17:37:53.682Z"
   },
   {
    "duration": 14,
    "start_time": "2022-02-23T17:37:53.729Z"
   },
   {
    "duration": 7,
    "start_time": "2022-02-23T17:37:53.746Z"
   },
   {
    "duration": 84,
    "start_time": "2022-02-23T17:37:53.756Z"
   },
   {
    "duration": 22,
    "start_time": "2022-02-23T17:37:53.844Z"
   },
   {
    "duration": 10,
    "start_time": "2022-02-23T17:37:53.869Z"
   },
   {
    "duration": 45,
    "start_time": "2022-02-23T17:37:53.881Z"
   },
   {
    "duration": 10,
    "start_time": "2022-02-23T17:37:53.928Z"
   },
   {
    "duration": 11,
    "start_time": "2022-02-23T17:37:53.940Z"
   },
   {
    "duration": 5,
    "start_time": "2022-02-23T17:37:53.954Z"
   },
   {
    "duration": 65,
    "start_time": "2022-02-23T17:37:53.962Z"
   },
   {
    "duration": 5,
    "start_time": "2022-02-23T17:37:54.030Z"
   },
   {
    "duration": 14,
    "start_time": "2022-02-23T17:37:54.037Z"
   },
   {
    "duration": 11,
    "start_time": "2022-02-23T17:37:54.054Z"
   },
   {
    "duration": 62,
    "start_time": "2022-02-23T17:37:54.068Z"
   },
   {
    "duration": 99,
    "start_time": "2022-02-23T17:37:54.133Z"
   },
   {
    "duration": -244,
    "start_time": "2022-02-23T17:37:54.479Z"
   },
   {
    "duration": -245,
    "start_time": "2022-02-23T17:37:54.482Z"
   },
   {
    "duration": -245,
    "start_time": "2022-02-23T17:37:54.484Z"
   },
   {
    "duration": -254,
    "start_time": "2022-02-23T17:37:54.494Z"
   },
   {
    "duration": -265,
    "start_time": "2022-02-23T17:37:54.507Z"
   },
   {
    "duration": -268,
    "start_time": "2022-02-23T17:37:54.511Z"
   },
   {
    "duration": -269,
    "start_time": "2022-02-23T17:37:54.514Z"
   },
   {
    "duration": -271,
    "start_time": "2022-02-23T17:37:54.517Z"
   },
   {
    "duration": -275,
    "start_time": "2022-02-23T17:37:54.523Z"
   },
   {
    "duration": -277,
    "start_time": "2022-02-23T17:37:54.527Z"
   },
   {
    "duration": -279,
    "start_time": "2022-02-23T17:37:54.530Z"
   },
   {
    "duration": -293,
    "start_time": "2022-02-23T17:37:54.545Z"
   },
   {
    "duration": -294,
    "start_time": "2022-02-23T17:37:54.548Z"
   },
   {
    "duration": -298,
    "start_time": "2022-02-23T17:37:54.553Z"
   },
   {
    "duration": -300,
    "start_time": "2022-02-23T17:37:54.556Z"
   },
   {
    "duration": -306,
    "start_time": "2022-02-23T17:37:54.564Z"
   },
   {
    "duration": -310,
    "start_time": "2022-02-23T17:37:54.569Z"
   },
   {
    "duration": -314,
    "start_time": "2022-02-23T17:37:54.575Z"
   },
   {
    "duration": -317,
    "start_time": "2022-02-23T17:37:54.579Z"
   },
   {
    "duration": -319,
    "start_time": "2022-02-23T17:37:54.582Z"
   },
   {
    "duration": -320,
    "start_time": "2022-02-23T17:37:54.585Z"
   },
   {
    "duration": -323,
    "start_time": "2022-02-23T17:37:54.589Z"
   },
   {
    "duration": 11,
    "start_time": "2022-02-23T17:38:17.328Z"
   },
   {
    "duration": 19,
    "start_time": "2022-02-23T17:38:30.156Z"
   },
   {
    "duration": 11,
    "start_time": "2022-02-23T17:38:33.671Z"
   },
   {
    "duration": 9,
    "start_time": "2022-02-23T17:39:41.741Z"
   },
   {
    "duration": 10,
    "start_time": "2022-02-23T17:39:45.906Z"
   },
   {
    "duration": 16,
    "start_time": "2022-02-23T17:39:49.598Z"
   },
   {
    "duration": 11,
    "start_time": "2022-02-23T17:39:55.230Z"
   },
   {
    "duration": 11,
    "start_time": "2022-02-23T17:39:58.461Z"
   },
   {
    "duration": 10,
    "start_time": "2022-02-23T17:40:05.919Z"
   },
   {
    "duration": 10,
    "start_time": "2022-02-23T17:40:08.173Z"
   },
   {
    "duration": 11,
    "start_time": "2022-02-23T17:40:15.420Z"
   },
   {
    "duration": 20,
    "start_time": "2022-02-23T17:40:21.050Z"
   },
   {
    "duration": 10,
    "start_time": "2022-02-23T17:40:29.138Z"
   },
   {
    "duration": 15,
    "start_time": "2022-02-23T17:40:33.613Z"
   },
   {
    "duration": 8,
    "start_time": "2022-02-23T17:40:46.707Z"
   },
   {
    "duration": 6,
    "start_time": "2022-02-23T17:40:48.333Z"
   },
   {
    "duration": 10,
    "start_time": "2022-02-23T17:40:50.408Z"
   },
   {
    "duration": 16,
    "start_time": "2022-02-23T17:40:51.819Z"
   },
   {
    "duration": 13,
    "start_time": "2022-02-23T17:40:56.580Z"
   },
   {
    "duration": 26,
    "start_time": "2022-02-23T17:41:02.080Z"
   },
   {
    "duration": 848,
    "start_time": "2022-02-23T17:41:19.385Z"
   },
   {
    "duration": 5,
    "start_time": "2022-02-23T17:41:20.239Z"
   },
   {
    "duration": 21,
    "start_time": "2022-02-23T17:41:20.247Z"
   },
   {
    "duration": 10,
    "start_time": "2022-02-23T17:41:20.271Z"
   },
   {
    "duration": 16,
    "start_time": "2022-02-23T17:41:20.326Z"
   },
   {
    "duration": 10,
    "start_time": "2022-02-23T17:41:20.346Z"
   },
   {
    "duration": 86,
    "start_time": "2022-02-23T17:41:20.358Z"
   },
   {
    "duration": 23,
    "start_time": "2022-02-23T17:41:20.448Z"
   },
   {
    "duration": 21,
    "start_time": "2022-02-23T17:41:20.475Z"
   },
   {
    "duration": 30,
    "start_time": "2022-02-23T17:41:20.499Z"
   },
   {
    "duration": 15,
    "start_time": "2022-02-23T17:41:20.531Z"
   },
   {
    "duration": 16,
    "start_time": "2022-02-23T17:41:20.548Z"
   },
   {
    "duration": 8,
    "start_time": "2022-02-23T17:41:20.566Z"
   },
   {
    "duration": 62,
    "start_time": "2022-02-23T17:41:20.576Z"
   },
   {
    "duration": 4,
    "start_time": "2022-02-23T17:41:20.641Z"
   },
   {
    "duration": 25,
    "start_time": "2022-02-23T17:41:20.648Z"
   },
   {
    "duration": 16,
    "start_time": "2022-02-23T17:41:20.675Z"
   },
   {
    "duration": 11,
    "start_time": "2022-02-23T17:41:20.726Z"
   },
   {
    "duration": 25,
    "start_time": "2022-02-23T17:41:20.740Z"
   },
   {
    "duration": 11,
    "start_time": "2022-02-23T17:41:20.767Z"
   },
   {
    "duration": 50,
    "start_time": "2022-02-23T17:41:20.780Z"
   },
   {
    "duration": 12,
    "start_time": "2022-02-23T17:41:20.832Z"
   },
   {
    "duration": 21,
    "start_time": "2022-02-23T17:41:20.848Z"
   },
   {
    "duration": 13,
    "start_time": "2022-02-23T17:41:20.872Z"
   },
   {
    "duration": 48,
    "start_time": "2022-02-23T17:41:20.888Z"
   },
   {
    "duration": 11,
    "start_time": "2022-02-23T17:41:20.942Z"
   },
   {
    "duration": 17,
    "start_time": "2022-02-23T17:41:20.956Z"
   },
   {
    "duration": 55,
    "start_time": "2022-02-23T17:41:20.975Z"
   },
   {
    "duration": 31,
    "start_time": "2022-02-23T17:41:21.032Z"
   },
   {
    "duration": 21,
    "start_time": "2022-02-23T17:41:21.065Z"
   },
   {
    "duration": 41,
    "start_time": "2022-02-23T17:41:21.088Z"
   },
   {
    "duration": 8,
    "start_time": "2022-02-23T17:41:21.131Z"
   },
   {
    "duration": 19,
    "start_time": "2022-02-23T17:41:21.142Z"
   },
   {
    "duration": 9,
    "start_time": "2022-02-23T17:41:21.164Z"
   },
   {
    "duration": 53,
    "start_time": "2022-02-23T17:41:21.176Z"
   },
   {
    "duration": 12,
    "start_time": "2022-02-23T17:41:21.232Z"
   },
   {
    "duration": 23,
    "start_time": "2022-02-23T17:41:21.246Z"
   },
   {
    "duration": 91,
    "start_time": "2022-02-23T17:41:21.272Z"
   },
   {
    "duration": 22,
    "start_time": "2022-02-23T17:41:21.365Z"
   },
   {
    "duration": 37,
    "start_time": "2022-02-23T17:41:21.389Z"
   },
   {
    "duration": 94,
    "start_time": "2022-02-23T17:41:21.429Z"
   },
   {
    "duration": 28,
    "start_time": "2022-02-23T17:42:15.297Z"
   },
   {
    "duration": 23,
    "start_time": "2022-02-23T17:42:17.028Z"
   },
   {
    "duration": 29,
    "start_time": "2022-02-23T17:45:15.664Z"
   },
   {
    "duration": 81,
    "start_time": "2022-02-24T13:20:23.206Z"
   },
   {
    "duration": 240,
    "start_time": "2022-02-24T13:21:25.976Z"
   },
   {
    "duration": 704,
    "start_time": "2022-02-24T13:21:54.196Z"
   },
   {
    "duration": 4,
    "start_time": "2022-02-24T13:21:54.902Z"
   },
   {
    "duration": 22,
    "start_time": "2022-02-24T13:21:54.908Z"
   },
   {
    "duration": 5,
    "start_time": "2022-02-24T13:21:54.932Z"
   },
   {
    "duration": 16,
    "start_time": "2022-02-24T13:21:54.939Z"
   },
   {
    "duration": 5,
    "start_time": "2022-02-24T13:21:54.957Z"
   },
   {
    "duration": 29,
    "start_time": "2022-02-24T13:21:54.963Z"
   },
   {
    "duration": 35,
    "start_time": "2022-02-24T13:21:54.995Z"
   },
   {
    "duration": 6,
    "start_time": "2022-02-24T13:21:55.032Z"
   },
   {
    "duration": 5,
    "start_time": "2022-02-24T13:21:55.040Z"
   },
   {
    "duration": 6,
    "start_time": "2022-02-24T13:21:55.047Z"
   },
   {
    "duration": 7,
    "start_time": "2022-02-24T13:21:55.055Z"
   },
   {
    "duration": 4,
    "start_time": "2022-02-24T13:21:55.064Z"
   },
   {
    "duration": 14,
    "start_time": "2022-02-24T13:21:55.069Z"
   },
   {
    "duration": 36,
    "start_time": "2022-02-24T13:21:55.085Z"
   },
   {
    "duration": 9,
    "start_time": "2022-02-24T13:21:55.123Z"
   },
   {
    "duration": 8,
    "start_time": "2022-02-24T13:21:55.134Z"
   },
   {
    "duration": 6,
    "start_time": "2022-02-24T13:21:55.144Z"
   },
   {
    "duration": 15,
    "start_time": "2022-02-24T13:21:55.152Z"
   },
   {
    "duration": 7,
    "start_time": "2022-02-24T13:21:55.169Z"
   },
   {
    "duration": 8,
    "start_time": "2022-02-24T13:21:55.177Z"
   },
   {
    "duration": 38,
    "start_time": "2022-02-24T13:21:55.187Z"
   },
   {
    "duration": 11,
    "start_time": "2022-02-24T13:21:55.229Z"
   },
   {
    "duration": 9,
    "start_time": "2022-02-24T13:21:55.242Z"
   },
   {
    "duration": 9,
    "start_time": "2022-02-24T13:21:55.253Z"
   },
   {
    "duration": 8,
    "start_time": "2022-02-24T13:21:55.263Z"
   },
   {
    "duration": 10,
    "start_time": "2022-02-24T13:21:55.272Z"
   },
   {
    "duration": 39,
    "start_time": "2022-02-24T13:21:55.284Z"
   },
   {
    "duration": 14,
    "start_time": "2022-02-24T13:21:55.325Z"
   },
   {
    "duration": 5,
    "start_time": "2022-02-24T13:21:55.341Z"
   },
   {
    "duration": 11,
    "start_time": "2022-02-24T13:21:55.348Z"
   },
   {
    "duration": 6,
    "start_time": "2022-02-24T13:21:55.360Z"
   },
   {
    "duration": 5,
    "start_time": "2022-02-24T13:21:55.367Z"
   },
   {
    "duration": 4,
    "start_time": "2022-02-24T13:21:55.374Z"
   },
   {
    "duration": 11,
    "start_time": "2022-02-24T13:21:55.420Z"
   },
   {
    "duration": 9,
    "start_time": "2022-02-24T13:21:55.433Z"
   },
   {
    "duration": 15,
    "start_time": "2022-02-24T13:21:55.444Z"
   },
   {
    "duration": 18,
    "start_time": "2022-02-24T13:21:55.461Z"
   },
   {
    "duration": 45,
    "start_time": "2022-02-24T13:21:55.481Z"
   },
   {
    "duration": 14,
    "start_time": "2022-02-24T13:21:55.528Z"
   },
   {
    "duration": 265,
    "start_time": "2022-02-24T13:21:55.544Z"
   },
   {
    "duration": -34,
    "start_time": "2022-02-24T13:21:55.846Z"
   },
   {
    "duration": -35,
    "start_time": "2022-02-24T13:21:55.848Z"
   },
   {
    "duration": 200,
    "start_time": "2022-02-24T13:22:44.366Z"
   },
   {
    "duration": 202,
    "start_time": "2022-02-24T13:23:42.669Z"
   },
   {
    "duration": 13,
    "start_time": "2022-02-24T13:32:43.902Z"
   },
   {
    "duration": 12,
    "start_time": "2022-02-24T13:33:05.423Z"
   },
   {
    "duration": 4,
    "start_time": "2022-02-24T13:43:44.358Z"
   },
   {
    "duration": 12,
    "start_time": "2022-02-24T13:43:56.695Z"
   },
   {
    "duration": 4,
    "start_time": "2022-02-24T13:44:19.486Z"
   },
   {
    "duration": 179,
    "start_time": "2022-02-24T13:44:21.695Z"
   },
   {
    "duration": 331,
    "start_time": "2022-02-24T13:45:23.246Z"
   },
   {
    "duration": 622,
    "start_time": "2022-02-24T13:45:35.451Z"
   },
   {
    "duration": 2,
    "start_time": "2022-02-24T13:45:36.075Z"
   },
   {
    "duration": 13,
    "start_time": "2022-02-24T13:45:36.079Z"
   },
   {
    "duration": 5,
    "start_time": "2022-02-24T13:45:36.094Z"
   },
   {
    "duration": 24,
    "start_time": "2022-02-24T13:45:36.100Z"
   },
   {
    "duration": 5,
    "start_time": "2022-02-24T13:45:36.126Z"
   },
   {
    "duration": 24,
    "start_time": "2022-02-24T13:45:36.133Z"
   },
   {
    "duration": 13,
    "start_time": "2022-02-24T13:45:36.159Z"
   },
   {
    "duration": 9,
    "start_time": "2022-02-24T13:45:36.174Z"
   },
   {
    "duration": 35,
    "start_time": "2022-02-24T13:45:36.184Z"
   },
   {
    "duration": 5,
    "start_time": "2022-02-24T13:45:36.221Z"
   },
   {
    "duration": 7,
    "start_time": "2022-02-24T13:45:36.228Z"
   },
   {
    "duration": 3,
    "start_time": "2022-02-24T13:45:36.237Z"
   },
   {
    "duration": 11,
    "start_time": "2022-02-24T13:45:36.242Z"
   },
   {
    "duration": 3,
    "start_time": "2022-02-24T13:45:36.255Z"
   },
   {
    "duration": 10,
    "start_time": "2022-02-24T13:45:36.259Z"
   },
   {
    "duration": 10,
    "start_time": "2022-02-24T13:45:36.271Z"
   },
   {
    "duration": 38,
    "start_time": "2022-02-24T13:45:36.282Z"
   },
   {
    "duration": 16,
    "start_time": "2022-02-24T13:45:36.322Z"
   },
   {
    "duration": 8,
    "start_time": "2022-02-24T13:45:36.340Z"
   },
   {
    "duration": 10,
    "start_time": "2022-02-24T13:45:36.350Z"
   },
   {
    "duration": 7,
    "start_time": "2022-02-24T13:45:36.361Z"
   },
   {
    "duration": 13,
    "start_time": "2022-02-24T13:45:36.371Z"
   },
   {
    "duration": 36,
    "start_time": "2022-02-24T13:45:36.386Z"
   },
   {
    "duration": 7,
    "start_time": "2022-02-24T13:45:36.424Z"
   },
   {
    "duration": 9,
    "start_time": "2022-02-24T13:45:36.433Z"
   },
   {
    "duration": 8,
    "start_time": "2022-02-24T13:45:36.444Z"
   },
   {
    "duration": 8,
    "start_time": "2022-02-24T13:45:36.454Z"
   },
   {
    "duration": 16,
    "start_time": "2022-02-24T13:45:36.464Z"
   },
   {
    "duration": 42,
    "start_time": "2022-02-24T13:45:36.481Z"
   },
   {
    "duration": 9,
    "start_time": "2022-02-24T13:45:36.524Z"
   },
   {
    "duration": 4,
    "start_time": "2022-02-24T13:45:36.535Z"
   },
   {
    "duration": 4,
    "start_time": "2022-02-24T13:45:36.541Z"
   },
   {
    "duration": 5,
    "start_time": "2022-02-24T13:45:36.547Z"
   },
   {
    "duration": 12,
    "start_time": "2022-02-24T13:45:36.554Z"
   },
   {
    "duration": 7,
    "start_time": "2022-02-24T13:45:36.568Z"
   },
   {
    "duration": 50,
    "start_time": "2022-02-24T13:45:36.576Z"
   },
   {
    "duration": 17,
    "start_time": "2022-02-24T13:45:36.628Z"
   },
   {
    "duration": 14,
    "start_time": "2022-02-24T13:45:36.646Z"
   },
   {
    "duration": 11,
    "start_time": "2022-02-24T13:45:36.661Z"
   },
   {
    "duration": 12,
    "start_time": "2022-02-24T13:45:36.673Z"
   },
   {
    "duration": 40,
    "start_time": "2022-02-24T13:45:36.687Z"
   },
   {
    "duration": 3,
    "start_time": "2022-02-24T13:45:36.728Z"
   },
   {
    "duration": 15,
    "start_time": "2022-02-24T13:45:36.733Z"
   },
   {
    "duration": 9,
    "start_time": "2022-02-24T13:45:36.750Z"
   },
   {
    "duration": 67,
    "start_time": "2022-02-24T13:45:36.761Z"
   },
   {
    "duration": 767,
    "start_time": "2022-02-24T13:50:36.614Z"
   },
   {
    "duration": 445,
    "start_time": "2022-02-24T13:51:01.550Z"
   },
   {
    "duration": 12,
    "start_time": "2022-02-24T13:51:05.996Z"
   },
   {
    "duration": 1049,
    "start_time": "2022-02-24T13:52:45.397Z"
   },
   {
    "duration": 442,
    "start_time": "2022-02-24T13:52:53.580Z"
   },
   {
    "duration": 12,
    "start_time": "2022-02-24T13:52:56.316Z"
   },
   {
    "duration": 4,
    "start_time": "2022-02-24T13:54:46.467Z"
   },
   {
    "duration": 12,
    "start_time": "2022-02-24T13:54:48.514Z"
   },
   {
    "duration": 583,
    "start_time": "2022-02-24T13:55:02.978Z"
   },
   {
    "duration": 4,
    "start_time": "2022-02-24T13:55:03.562Z"
   },
   {
    "duration": 11,
    "start_time": "2022-02-24T13:55:03.570Z"
   },
   {
    "duration": 4,
    "start_time": "2022-02-24T13:55:03.583Z"
   },
   {
    "duration": 34,
    "start_time": "2022-02-24T13:55:03.589Z"
   },
   {
    "duration": 6,
    "start_time": "2022-02-24T13:55:03.624Z"
   },
   {
    "duration": 22,
    "start_time": "2022-02-24T13:55:03.633Z"
   },
   {
    "duration": 13,
    "start_time": "2022-02-24T13:55:03.658Z"
   },
   {
    "duration": 9,
    "start_time": "2022-02-24T13:55:03.672Z"
   },
   {
    "duration": 36,
    "start_time": "2022-02-24T13:55:03.683Z"
   },
   {
    "duration": 6,
    "start_time": "2022-02-24T13:55:03.720Z"
   },
   {
    "duration": 8,
    "start_time": "2022-02-24T13:55:03.728Z"
   },
   {
    "duration": 3,
    "start_time": "2022-02-24T13:55:03.738Z"
   },
   {
    "duration": 14,
    "start_time": "2022-02-24T13:55:03.742Z"
   },
   {
    "duration": 3,
    "start_time": "2022-02-24T13:55:03.757Z"
   },
   {
    "duration": 7,
    "start_time": "2022-02-24T13:55:03.762Z"
   },
   {
    "duration": 7,
    "start_time": "2022-02-24T13:55:03.771Z"
   },
   {
    "duration": 39,
    "start_time": "2022-02-24T13:55:03.780Z"
   },
   {
    "duration": 12,
    "start_time": "2022-02-24T13:55:03.821Z"
   },
   {
    "duration": 6,
    "start_time": "2022-02-24T13:55:03.834Z"
   },
   {
    "duration": 6,
    "start_time": "2022-02-24T13:55:03.842Z"
   },
   {
    "duration": 7,
    "start_time": "2022-02-24T13:55:03.852Z"
   },
   {
    "duration": 18,
    "start_time": "2022-02-24T13:55:03.860Z"
   },
   {
    "duration": 5,
    "start_time": "2022-02-24T13:55:03.880Z"
   },
   {
    "duration": 38,
    "start_time": "2022-02-24T13:55:03.887Z"
   },
   {
    "duration": 7,
    "start_time": "2022-02-24T13:55:03.927Z"
   },
   {
    "duration": 11,
    "start_time": "2022-02-24T13:55:03.936Z"
   },
   {
    "duration": 9,
    "start_time": "2022-02-24T13:55:03.949Z"
   },
   {
    "duration": 18,
    "start_time": "2022-02-24T13:55:03.960Z"
   },
   {
    "duration": 6,
    "start_time": "2022-02-24T13:55:03.979Z"
   },
   {
    "duration": 40,
    "start_time": "2022-02-24T13:55:03.986Z"
   },
   {
    "duration": 5,
    "start_time": "2022-02-24T13:55:04.028Z"
   },
   {
    "duration": 4,
    "start_time": "2022-02-24T13:55:04.034Z"
   },
   {
    "duration": 5,
    "start_time": "2022-02-24T13:55:04.039Z"
   },
   {
    "duration": 17,
    "start_time": "2022-02-24T13:55:04.045Z"
   },
   {
    "duration": 7,
    "start_time": "2022-02-24T13:55:04.064Z"
   },
   {
    "duration": 54,
    "start_time": "2022-02-24T13:55:04.073Z"
   },
   {
    "duration": 19,
    "start_time": "2022-02-24T13:55:04.129Z"
   },
   {
    "duration": 16,
    "start_time": "2022-02-24T13:55:04.150Z"
   },
   {
    "duration": 12,
    "start_time": "2022-02-24T13:55:04.168Z"
   },
   {
    "duration": 47,
    "start_time": "2022-02-24T13:55:04.181Z"
   },
   {
    "duration": 17,
    "start_time": "2022-02-24T13:55:04.231Z"
   },
   {
    "duration": 5,
    "start_time": "2022-02-24T13:55:04.250Z"
   },
   {
    "duration": 13,
    "start_time": "2022-02-24T13:55:04.257Z"
   },
   {
    "duration": 11,
    "start_time": "2022-02-24T13:55:04.272Z"
   },
   {
    "duration": 81,
    "start_time": "2022-02-24T13:55:04.285Z"
   },
   {
    "duration": 7,
    "start_time": "2022-02-24T13:56:03.841Z"
   },
   {
    "duration": 4,
    "start_time": "2022-02-24T13:56:13.329Z"
   },
   {
    "duration": 255,
    "start_time": "2022-02-24T14:17:48.031Z"
   },
   {
    "duration": 6,
    "start_time": "2022-02-24T14:17:59.584Z"
   },
   {
    "duration": 10,
    "start_time": "2022-02-24T14:18:09.392Z"
   },
   {
    "duration": 11,
    "start_time": "2022-02-24T14:18:30.088Z"
   },
   {
    "duration": 12,
    "start_time": "2022-02-24T14:18:49.704Z"
   },
   {
    "duration": 10,
    "start_time": "2022-02-24T14:19:59.055Z"
   },
   {
    "duration": 6,
    "start_time": "2022-02-24T14:23:50.885Z"
   },
   {
    "duration": 226,
    "start_time": "2022-02-24T14:24:03.685Z"
   },
   {
    "duration": 752,
    "start_time": "2022-02-24T14:24:27.509Z"
   },
   {
    "duration": 4,
    "start_time": "2022-02-24T14:24:28.263Z"
   },
   {
    "duration": 15,
    "start_time": "2022-02-24T14:24:28.270Z"
   },
   {
    "duration": 6,
    "start_time": "2022-02-24T14:24:28.288Z"
   },
   {
    "duration": 29,
    "start_time": "2022-02-24T14:24:28.296Z"
   },
   {
    "duration": 7,
    "start_time": "2022-02-24T14:24:28.327Z"
   },
   {
    "duration": 31,
    "start_time": "2022-02-24T14:24:28.336Z"
   },
   {
    "duration": 14,
    "start_time": "2022-02-24T14:24:28.370Z"
   },
   {
    "duration": 31,
    "start_time": "2022-02-24T14:24:28.388Z"
   },
   {
    "duration": 5,
    "start_time": "2022-02-24T14:24:28.421Z"
   },
   {
    "duration": 10,
    "start_time": "2022-02-24T14:24:28.428Z"
   },
   {
    "duration": 8,
    "start_time": "2022-02-24T14:24:28.440Z"
   },
   {
    "duration": 4,
    "start_time": "2022-02-24T14:24:28.449Z"
   },
   {
    "duration": 16,
    "start_time": "2022-02-24T14:24:28.455Z"
   },
   {
    "duration": 5,
    "start_time": "2022-02-24T14:24:28.472Z"
   },
   {
    "duration": 6,
    "start_time": "2022-02-24T14:24:28.479Z"
   },
   {
    "duration": 10,
    "start_time": "2022-02-24T14:24:28.518Z"
   },
   {
    "duration": 11,
    "start_time": "2022-02-24T14:24:28.530Z"
   },
   {
    "duration": 18,
    "start_time": "2022-02-24T14:24:28.544Z"
   },
   {
    "duration": 9,
    "start_time": "2022-02-24T14:24:28.563Z"
   },
   {
    "duration": 20,
    "start_time": "2022-02-24T14:24:28.574Z"
   },
   {
    "duration": 30,
    "start_time": "2022-02-24T14:24:28.596Z"
   },
   {
    "duration": 15,
    "start_time": "2022-02-24T14:24:28.631Z"
   },
   {
    "duration": 8,
    "start_time": "2022-02-24T14:24:28.649Z"
   },
   {
    "duration": 21,
    "start_time": "2022-02-24T14:24:28.659Z"
   },
   {
    "duration": 13,
    "start_time": "2022-02-24T14:24:28.682Z"
   },
   {
    "duration": 31,
    "start_time": "2022-02-24T14:24:28.697Z"
   },
   {
    "duration": 11,
    "start_time": "2022-02-24T14:24:28.730Z"
   },
   {
    "duration": 19,
    "start_time": "2022-02-24T14:24:28.743Z"
   },
   {
    "duration": 7,
    "start_time": "2022-02-24T14:24:28.764Z"
   },
   {
    "duration": 10,
    "start_time": "2022-02-24T14:24:28.774Z"
   },
   {
    "duration": 37,
    "start_time": "2022-02-24T14:24:28.786Z"
   },
   {
    "duration": 6,
    "start_time": "2022-02-24T14:24:28.824Z"
   },
   {
    "duration": 4,
    "start_time": "2022-02-24T14:24:28.832Z"
   },
   {
    "duration": 13,
    "start_time": "2022-02-24T14:24:28.837Z"
   },
   {
    "duration": 8,
    "start_time": "2022-02-24T14:24:28.852Z"
   },
   {
    "duration": 14,
    "start_time": "2022-02-24T14:24:28.862Z"
   },
   {
    "duration": 53,
    "start_time": "2022-02-24T14:24:28.878Z"
   },
   {
    "duration": 19,
    "start_time": "2022-02-24T14:24:28.933Z"
   },
   {
    "duration": 12,
    "start_time": "2022-02-24T14:24:28.954Z"
   },
   {
    "duration": 13,
    "start_time": "2022-02-24T14:24:28.968Z"
   },
   {
    "duration": 38,
    "start_time": "2022-02-24T14:24:28.983Z"
   },
   {
    "duration": 12,
    "start_time": "2022-02-24T14:24:29.024Z"
   },
   {
    "duration": 10,
    "start_time": "2022-02-24T14:24:29.038Z"
   },
   {
    "duration": 7,
    "start_time": "2022-02-24T14:24:29.050Z"
   },
   {
    "duration": 473,
    "start_time": "2022-02-24T14:24:29.059Z"
   },
   {
    "duration": 10,
    "start_time": "2022-02-24T14:24:29.533Z"
   },
   {
    "duration": 6556,
    "start_time": "2022-02-24T14:24:29.545Z"
   },
   {
    "duration": -43,
    "start_time": "2022-02-24T14:24:36.146Z"
   },
   {
    "duration": 11,
    "start_time": "2022-02-24T14:24:40.904Z"
   },
   {
    "duration": 661,
    "start_time": "2022-02-24T14:25:26.498Z"
   },
   {
    "duration": 4,
    "start_time": "2022-02-24T14:25:27.160Z"
   },
   {
    "duration": 12,
    "start_time": "2022-02-24T14:25:27.165Z"
   },
   {
    "duration": 5,
    "start_time": "2022-02-24T14:25:27.180Z"
   },
   {
    "duration": 32,
    "start_time": "2022-02-24T14:25:27.187Z"
   },
   {
    "duration": 6,
    "start_time": "2022-02-24T14:25:27.222Z"
   },
   {
    "duration": 30,
    "start_time": "2022-02-24T14:25:27.230Z"
   },
   {
    "duration": 15,
    "start_time": "2022-02-24T14:25:27.263Z"
   },
   {
    "duration": 7,
    "start_time": "2022-02-24T14:25:27.280Z"
   },
   {
    "duration": 31,
    "start_time": "2022-02-24T14:25:27.288Z"
   },
   {
    "duration": 7,
    "start_time": "2022-02-24T14:25:27.321Z"
   },
   {
    "duration": 7,
    "start_time": "2022-02-24T14:25:27.330Z"
   },
   {
    "duration": 6,
    "start_time": "2022-02-24T14:25:27.338Z"
   },
   {
    "duration": 12,
    "start_time": "2022-02-24T14:25:27.346Z"
   },
   {
    "duration": 5,
    "start_time": "2022-02-24T14:25:27.359Z"
   },
   {
    "duration": 7,
    "start_time": "2022-02-24T14:25:27.365Z"
   },
   {
    "duration": 8,
    "start_time": "2022-02-24T14:25:27.374Z"
   },
   {
    "duration": 8,
    "start_time": "2022-02-24T14:25:27.419Z"
   },
   {
    "duration": 27,
    "start_time": "2022-02-24T14:25:27.429Z"
   },
   {
    "duration": 7,
    "start_time": "2022-02-24T14:25:27.458Z"
   },
   {
    "duration": 15,
    "start_time": "2022-02-24T14:25:27.466Z"
   },
   {
    "duration": 7,
    "start_time": "2022-02-24T14:25:27.483Z"
   },
   {
    "duration": 16,
    "start_time": "2022-02-24T14:25:27.493Z"
   },
   {
    "duration": 11,
    "start_time": "2022-02-24T14:25:27.519Z"
   },
   {
    "duration": 10,
    "start_time": "2022-02-24T14:25:27.532Z"
   },
   {
    "duration": 7,
    "start_time": "2022-02-24T14:25:27.543Z"
   },
   {
    "duration": 19,
    "start_time": "2022-02-24T14:25:27.551Z"
   },
   {
    "duration": 9,
    "start_time": "2022-02-24T14:25:27.572Z"
   },
   {
    "duration": 21,
    "start_time": "2022-02-24T14:25:27.582Z"
   },
   {
    "duration": 18,
    "start_time": "2022-02-24T14:25:27.605Z"
   },
   {
    "duration": 11,
    "start_time": "2022-02-24T14:25:27.626Z"
   },
   {
    "duration": 5,
    "start_time": "2022-02-24T14:25:27.638Z"
   },
   {
    "duration": 9,
    "start_time": "2022-02-24T14:25:27.645Z"
   },
   {
    "duration": 4,
    "start_time": "2022-02-24T14:25:27.655Z"
   },
   {
    "duration": 20,
    "start_time": "2022-02-24T14:25:27.661Z"
   },
   {
    "duration": 38,
    "start_time": "2022-02-24T14:25:27.683Z"
   },
   {
    "duration": 15,
    "start_time": "2022-02-24T14:25:27.723Z"
   },
   {
    "duration": 17,
    "start_time": "2022-02-24T14:25:27.740Z"
   },
   {
    "duration": 15,
    "start_time": "2022-02-24T14:25:27.759Z"
   },
   {
    "duration": 44,
    "start_time": "2022-02-24T14:25:27.776Z"
   },
   {
    "duration": 12,
    "start_time": "2022-02-24T14:25:27.821Z"
   },
   {
    "duration": 13,
    "start_time": "2022-02-24T14:25:27.835Z"
   },
   {
    "duration": 11,
    "start_time": "2022-02-24T14:25:27.849Z"
   },
   {
    "duration": 10,
    "start_time": "2022-02-24T14:25:27.862Z"
   },
   {
    "duration": 7,
    "start_time": "2022-02-24T14:25:27.874Z"
   },
   {
    "duration": 40,
    "start_time": "2022-02-24T14:25:27.882Z"
   },
   {
    "duration": 10,
    "start_time": "2022-02-24T14:25:27.924Z"
   },
   {
    "duration": 5252,
    "start_time": "2022-02-24T14:25:27.935Z"
   },
   {
    "duration": -51,
    "start_time": "2022-02-24T14:25:33.240Z"
   },
   {
    "duration": 4,
    "start_time": "2022-02-24T14:32:25.181Z"
   },
   {
    "duration": 10,
    "start_time": "2022-02-24T14:32:27.770Z"
   },
   {
    "duration": 3,
    "start_time": "2022-02-24T14:40:03.215Z"
   },
   {
    "duration": 10,
    "start_time": "2022-02-24T14:40:06.008Z"
   },
   {
    "duration": 5,
    "start_time": "2022-02-24T14:41:02.246Z"
   },
   {
    "duration": 1511,
    "start_time": "2022-02-24T14:42:25.445Z"
   },
   {
    "duration": 9,
    "start_time": "2022-02-24T14:42:28.485Z"
   },
   {
    "duration": 10,
    "start_time": "2022-02-24T14:42:37.188Z"
   },
   {
    "duration": 11,
    "start_time": "2022-02-24T14:42:40.444Z"
   },
   {
    "duration": 13,
    "start_time": "2022-02-24T14:42:50.636Z"
   },
   {
    "duration": 10,
    "start_time": "2022-02-24T14:42:55.651Z"
   },
   {
    "duration": 207,
    "start_time": "2022-02-24T14:44:57.594Z"
   },
   {
    "duration": 2035,
    "start_time": "2022-02-24T14:45:15.083Z"
   },
   {
    "duration": 9,
    "start_time": "2022-02-24T14:48:15.126Z"
   },
   {
    "duration": 23785,
    "start_time": "2022-02-24T14:48:15.137Z"
   },
   {
    "duration": 190,
    "start_time": "2022-02-24T14:48:38.924Z"
   },
   {
    "duration": 8,
    "start_time": "2022-02-24T14:48:46.295Z"
   },
   {
    "duration": 732,
    "start_time": "2022-02-24T14:49:14.605Z"
   },
   {
    "duration": 3,
    "start_time": "2022-02-24T14:49:15.339Z"
   },
   {
    "duration": 12,
    "start_time": "2022-02-24T14:49:15.344Z"
   },
   {
    "duration": 5,
    "start_time": "2022-02-24T14:49:15.358Z"
   },
   {
    "duration": 13,
    "start_time": "2022-02-24T14:49:15.365Z"
   },
   {
    "duration": 5,
    "start_time": "2022-02-24T14:49:15.380Z"
   },
   {
    "duration": 49,
    "start_time": "2022-02-24T14:49:15.386Z"
   },
   {
    "duration": 14,
    "start_time": "2022-02-24T14:49:15.437Z"
   },
   {
    "duration": 8,
    "start_time": "2022-02-24T14:49:15.453Z"
   },
   {
    "duration": 5,
    "start_time": "2022-02-24T14:49:15.462Z"
   },
   {
    "duration": 7,
    "start_time": "2022-02-24T14:49:15.468Z"
   },
   {
    "duration": 6,
    "start_time": "2022-02-24T14:49:15.477Z"
   },
   {
    "duration": 3,
    "start_time": "2022-02-24T14:49:15.485Z"
   },
   {
    "duration": 11,
    "start_time": "2022-02-24T14:49:15.520Z"
   },
   {
    "duration": 4,
    "start_time": "2022-02-24T14:49:15.533Z"
   },
   {
    "duration": 8,
    "start_time": "2022-02-24T14:49:15.539Z"
   },
   {
    "duration": 9,
    "start_time": "2022-02-24T14:49:15.548Z"
   },
   {
    "duration": 7,
    "start_time": "2022-02-24T14:49:15.559Z"
   },
   {
    "duration": 13,
    "start_time": "2022-02-24T14:49:15.567Z"
   },
   {
    "duration": 43,
    "start_time": "2022-02-24T14:49:15.582Z"
   },
   {
    "duration": 7,
    "start_time": "2022-02-24T14:49:15.627Z"
   },
   {
    "duration": 23,
    "start_time": "2022-02-24T14:49:15.635Z"
   },
   {
    "duration": 11,
    "start_time": "2022-02-24T14:49:15.662Z"
   },
   {
    "duration": 5,
    "start_time": "2022-02-24T14:49:15.676Z"
   },
   {
    "duration": 7,
    "start_time": "2022-02-24T14:49:15.683Z"
   },
   {
    "duration": 32,
    "start_time": "2022-02-24T14:49:15.692Z"
   },
   {
    "duration": 9,
    "start_time": "2022-02-24T14:49:15.726Z"
   },
   {
    "duration": 15,
    "start_time": "2022-02-24T14:49:15.736Z"
   },
   {
    "duration": 15,
    "start_time": "2022-02-24T14:49:15.753Z"
   },
   {
    "duration": 5,
    "start_time": "2022-02-24T14:49:15.770Z"
   },
   {
    "duration": 42,
    "start_time": "2022-02-24T14:49:15.777Z"
   },
   {
    "duration": 7,
    "start_time": "2022-02-24T14:49:15.821Z"
   },
   {
    "duration": 6,
    "start_time": "2022-02-24T14:49:15.830Z"
   },
   {
    "duration": 4,
    "start_time": "2022-02-24T14:49:15.837Z"
   },
   {
    "duration": 13,
    "start_time": "2022-02-24T14:49:15.843Z"
   },
   {
    "duration": 10,
    "start_time": "2022-02-24T14:49:15.858Z"
   },
   {
    "duration": 55,
    "start_time": "2022-02-24T14:49:15.870Z"
   },
   {
    "duration": 18,
    "start_time": "2022-02-24T14:49:15.926Z"
   },
   {
    "duration": 14,
    "start_time": "2022-02-24T14:49:15.946Z"
   },
   {
    "duration": 11,
    "start_time": "2022-02-24T14:49:15.962Z"
   },
   {
    "duration": 23,
    "start_time": "2022-02-24T14:49:15.975Z"
   },
   {
    "duration": 26,
    "start_time": "2022-02-24T14:49:16.000Z"
   },
   {
    "duration": 13,
    "start_time": "2022-02-24T14:49:16.028Z"
   },
   {
    "duration": 10,
    "start_time": "2022-02-24T14:49:16.043Z"
   },
   {
    "duration": 7,
    "start_time": "2022-02-24T14:49:16.055Z"
   },
   {
    "duration": 11,
    "start_time": "2022-02-24T14:49:16.064Z"
   },
   {
    "duration": 23301,
    "start_time": "2022-02-24T14:49:16.077Z"
   },
   {
    "duration": 10,
    "start_time": "2022-02-24T14:49:39.380Z"
   },
   {
    "duration": 9,
    "start_time": "2022-02-24T14:49:39.392Z"
   },
   {
    "duration": 121,
    "start_time": "2022-02-24T14:49:39.403Z"
   },
   {
    "duration": 658,
    "start_time": "2022-02-24T14:55:58.101Z"
   },
   {
    "duration": 4,
    "start_time": "2022-02-24T14:55:58.761Z"
   },
   {
    "duration": 20,
    "start_time": "2022-02-24T14:55:58.768Z"
   },
   {
    "duration": 6,
    "start_time": "2022-02-24T14:55:58.790Z"
   },
   {
    "duration": 26,
    "start_time": "2022-02-24T14:55:58.798Z"
   },
   {
    "duration": 5,
    "start_time": "2022-02-24T14:55:58.826Z"
   },
   {
    "duration": 20,
    "start_time": "2022-02-24T14:55:58.833Z"
   },
   {
    "duration": 14,
    "start_time": "2022-02-24T14:55:58.857Z"
   },
   {
    "duration": 6,
    "start_time": "2022-02-24T14:55:58.873Z"
   },
   {
    "duration": 40,
    "start_time": "2022-02-24T14:55:58.880Z"
   },
   {
    "duration": 6,
    "start_time": "2022-02-24T14:55:58.922Z"
   },
   {
    "duration": 8,
    "start_time": "2022-02-24T14:55:58.930Z"
   },
   {
    "duration": 2,
    "start_time": "2022-02-24T14:55:58.940Z"
   },
   {
    "duration": 12,
    "start_time": "2022-02-24T14:55:58.944Z"
   },
   {
    "duration": 3,
    "start_time": "2022-02-24T14:55:58.958Z"
   },
   {
    "duration": 7,
    "start_time": "2022-02-24T14:55:58.963Z"
   },
   {
    "duration": 11,
    "start_time": "2022-02-24T14:55:58.972Z"
   },
   {
    "duration": 36,
    "start_time": "2022-02-24T14:55:58.984Z"
   },
   {
    "duration": 14,
    "start_time": "2022-02-24T14:55:59.021Z"
   },
   {
    "duration": 7,
    "start_time": "2022-02-24T14:55:59.036Z"
   },
   {
    "duration": 7,
    "start_time": "2022-02-24T14:55:59.044Z"
   },
   {
    "duration": 12,
    "start_time": "2022-02-24T14:55:59.052Z"
   },
   {
    "duration": 11,
    "start_time": "2022-02-24T14:55:59.067Z"
   },
   {
    "duration": 4,
    "start_time": "2022-02-24T14:55:59.080Z"
   },
   {
    "duration": 8,
    "start_time": "2022-02-24T14:55:59.119Z"
   },
   {
    "duration": 7,
    "start_time": "2022-02-24T14:55:59.128Z"
   },
   {
    "duration": 12,
    "start_time": "2022-02-24T14:55:59.137Z"
   },
   {
    "duration": 8,
    "start_time": "2022-02-24T14:55:59.151Z"
   },
   {
    "duration": 14,
    "start_time": "2022-02-24T14:55:59.160Z"
   },
   {
    "duration": 5,
    "start_time": "2022-02-24T14:55:59.177Z"
   },
   {
    "duration": 44,
    "start_time": "2022-02-24T14:55:59.183Z"
   },
   {
    "duration": 8,
    "start_time": "2022-02-24T14:55:59.228Z"
   },
   {
    "duration": 7,
    "start_time": "2022-02-24T14:55:59.237Z"
   },
   {
    "duration": 4,
    "start_time": "2022-02-24T14:55:59.246Z"
   },
   {
    "duration": 13,
    "start_time": "2022-02-24T14:55:59.252Z"
   },
   {
    "duration": 8,
    "start_time": "2022-02-24T14:55:59.266Z"
   },
   {
    "duration": 23784,
    "start_time": "2022-02-24T14:55:59.276Z"
   },
   {
    "duration": 8,
    "start_time": "2022-02-24T14:56:23.062Z"
   },
   {
    "duration": 24,
    "start_time": "2022-02-24T14:56:23.072Z"
   },
   {
    "duration": 25,
    "start_time": "2022-02-24T14:56:23.097Z"
   },
   {
    "duration": 15,
    "start_time": "2022-02-24T14:56:23.124Z"
   },
   {
    "duration": 12,
    "start_time": "2022-02-24T14:56:23.140Z"
   },
   {
    "duration": 12,
    "start_time": "2022-02-24T14:56:23.153Z"
   },
   {
    "duration": 17,
    "start_time": "2022-02-24T14:56:23.167Z"
   },
   {
    "duration": 35,
    "start_time": "2022-02-24T14:56:23.185Z"
   },
   {
    "duration": 11,
    "start_time": "2022-02-24T14:56:23.221Z"
   },
   {
    "duration": 8,
    "start_time": "2022-02-24T14:56:23.233Z"
   },
   {
    "duration": 10,
    "start_time": "2022-02-24T14:56:23.242Z"
   },
   {
    "duration": 6,
    "start_time": "2022-02-24T15:07:22.933Z"
   },
   {
    "duration": 6,
    "start_time": "2022-02-24T15:07:29.495Z"
   },
   {
    "duration": 62,
    "start_time": "2022-02-26T16:58:06.770Z"
   },
   {
    "duration": 87,
    "start_time": "2022-02-26T16:58:27.217Z"
   },
   {
    "duration": 73,
    "start_time": "2022-02-26T16:58:44.340Z"
   },
   {
    "duration": 401,
    "start_time": "2022-02-26T16:59:35.709Z"
   },
   {
    "duration": 799,
    "start_time": "2022-02-26T16:59:51.586Z"
   },
   {
    "duration": 6,
    "start_time": "2022-02-26T16:59:52.388Z"
   },
   {
    "duration": 17,
    "start_time": "2022-02-26T16:59:52.398Z"
   },
   {
    "duration": 40,
    "start_time": "2022-02-26T16:59:52.418Z"
   },
   {
    "duration": 14,
    "start_time": "2022-02-26T16:59:52.461Z"
   },
   {
    "duration": 7,
    "start_time": "2022-02-26T16:59:52.478Z"
   },
   {
    "duration": 72,
    "start_time": "2022-02-26T16:59:52.487Z"
   },
   {
    "duration": 20,
    "start_time": "2022-02-26T16:59:52.562Z"
   },
   {
    "duration": 9,
    "start_time": "2022-02-26T16:59:52.585Z"
   },
   {
    "duration": 4,
    "start_time": "2022-02-26T16:59:52.597Z"
   },
   {
    "duration": 9,
    "start_time": "2022-02-26T16:59:52.603Z"
   },
   {
    "duration": 40,
    "start_time": "2022-02-26T16:59:52.614Z"
   },
   {
    "duration": 5,
    "start_time": "2022-02-26T16:59:52.656Z"
   },
   {
    "duration": 15,
    "start_time": "2022-02-26T16:59:52.663Z"
   },
   {
    "duration": 4,
    "start_time": "2022-02-26T16:59:52.681Z"
   },
   {
    "duration": 11,
    "start_time": "2022-02-26T16:59:52.687Z"
   },
   {
    "duration": 54,
    "start_time": "2022-02-26T16:59:52.701Z"
   },
   {
    "duration": 9,
    "start_time": "2022-02-26T16:59:52.757Z"
   },
   {
    "duration": 16,
    "start_time": "2022-02-26T16:59:52.768Z"
   },
   {
    "duration": 9,
    "start_time": "2022-02-26T16:59:52.786Z"
   },
   {
    "duration": 8,
    "start_time": "2022-02-26T16:59:52.797Z"
   },
   {
    "duration": 45,
    "start_time": "2022-02-26T16:59:52.807Z"
   },
   {
    "duration": 16,
    "start_time": "2022-02-26T16:59:52.857Z"
   },
   {
    "duration": 11,
    "start_time": "2022-02-26T16:59:52.876Z"
   },
   {
    "duration": 10,
    "start_time": "2022-02-26T16:59:52.889Z"
   },
   {
    "duration": 50,
    "start_time": "2022-02-26T16:59:52.901Z"
   },
   {
    "duration": 9,
    "start_time": "2022-02-26T16:59:52.953Z"
   },
   {
    "duration": 9,
    "start_time": "2022-02-26T16:59:52.965Z"
   },
   {
    "duration": 20,
    "start_time": "2022-02-26T16:59:52.977Z"
   },
   {
    "duration": 7,
    "start_time": "2022-02-26T16:59:52.999Z"
   },
   {
    "duration": 54,
    "start_time": "2022-02-26T16:59:53.009Z"
   },
   {
    "duration": 8,
    "start_time": "2022-02-26T16:59:53.065Z"
   },
   {
    "duration": 5,
    "start_time": "2022-02-26T16:59:53.075Z"
   },
   {
    "duration": 5,
    "start_time": "2022-02-26T16:59:53.083Z"
   },
   {
    "duration": 15,
    "start_time": "2022-02-26T16:59:53.090Z"
   },
   {
    "duration": 11,
    "start_time": "2022-02-26T16:59:53.151Z"
   },
   {
    "duration": 37179,
    "start_time": "2022-02-26T16:59:53.164Z"
   },
   {
    "duration": 14,
    "start_time": "2022-02-26T17:00:30.345Z"
   },
   {
    "duration": 31,
    "start_time": "2022-02-26T17:00:30.361Z"
   },
   {
    "duration": 25,
    "start_time": "2022-02-26T17:00:30.395Z"
   },
   {
    "duration": 48,
    "start_time": "2022-02-26T17:00:30.423Z"
   },
   {
    "duration": 18,
    "start_time": "2022-02-26T17:00:30.473Z"
   },
   {
    "duration": 24,
    "start_time": "2022-02-26T17:00:30.493Z"
   },
   {
    "duration": 43,
    "start_time": "2022-02-26T17:00:30.519Z"
   },
   {
    "duration": 19,
    "start_time": "2022-02-26T17:00:30.565Z"
   },
   {
    "duration": 22,
    "start_time": "2022-02-26T17:00:30.586Z"
   },
   {
    "duration": 9,
    "start_time": "2022-02-26T17:00:30.610Z"
   },
   {
    "duration": 38,
    "start_time": "2022-02-26T17:00:30.622Z"
   },
   {
    "duration": 13,
    "start_time": "2022-02-26T17:00:30.663Z"
   },
   {
    "duration": 8,
    "start_time": "2022-02-26T17:01:16.051Z"
   },
   {
    "duration": 8,
    "start_time": "2022-02-26T17:02:13.074Z"
   },
   {
    "duration": 23,
    "start_time": "2022-02-26T17:02:35.217Z"
   },
   {
    "duration": 27,
    "start_time": "2022-02-26T17:03:01.007Z"
   },
   {
    "duration": 5799,
    "start_time": "2022-02-26T17:13:47.379Z"
   },
   {
    "duration": 7293,
    "start_time": "2022-02-26T17:14:31.155Z"
   },
   {
    "duration": 29,
    "start_time": "2022-02-26T17:15:12.627Z"
   },
   {
    "duration": 24,
    "start_time": "2022-02-26T17:15:54.745Z"
   },
   {
    "duration": 19,
    "start_time": "2022-02-26T17:22:49.769Z"
   },
   {
    "duration": 27,
    "start_time": "2022-02-26T17:23:25.264Z"
   },
   {
    "duration": 7,
    "start_time": "2022-02-26T17:25:56.774Z"
   },
   {
    "duration": 92,
    "start_time": "2022-02-26T17:27:08.363Z"
   },
   {
    "duration": 8,
    "start_time": "2022-02-26T17:27:17.540Z"
   },
   {
    "duration": 32,
    "start_time": "2022-02-26T17:27:48.609Z"
   },
   {
    "duration": 17,
    "start_time": "2022-02-26T17:28:06.518Z"
   },
   {
    "duration": 23,
    "start_time": "2022-02-26T17:28:47.316Z"
   },
   {
    "duration": 33,
    "start_time": "2022-02-26T17:28:56.560Z"
   },
   {
    "duration": 32,
    "start_time": "2022-02-26T17:30:05.237Z"
   },
   {
    "duration": 6,
    "start_time": "2022-02-26T20:18:40.896Z"
   },
   {
    "duration": 29,
    "start_time": "2022-02-26T20:36:06.723Z"
   },
   {
    "duration": 402,
    "start_time": "2022-02-26T20:36:30.378Z"
   },
   {
    "duration": 209,
    "start_time": "2022-02-26T20:45:53.306Z"
   },
   {
    "duration": 4,
    "start_time": "2022-02-26T20:45:59.178Z"
   },
   {
    "duration": 39,
    "start_time": "2022-02-26T20:46:01.905Z"
   },
   {
    "duration": 4,
    "start_time": "2022-02-26T21:09:17.708Z"
   },
   {
    "duration": 37,
    "start_time": "2022-02-26T21:09:28.118Z"
   },
   {
    "duration": 35,
    "start_time": "2022-02-26T21:10:35.150Z"
   },
   {
    "duration": 772,
    "start_time": "2022-02-26T21:15:52.872Z"
   },
   {
    "duration": 7,
    "start_time": "2022-02-26T21:15:53.646Z"
   },
   {
    "duration": 16,
    "start_time": "2022-02-26T21:15:53.656Z"
   },
   {
    "duration": 8,
    "start_time": "2022-02-26T21:15:53.674Z"
   },
   {
    "duration": 13,
    "start_time": "2022-02-26T21:15:53.685Z"
   },
   {
    "duration": 8,
    "start_time": "2022-02-26T21:15:53.700Z"
   },
   {
    "duration": 34,
    "start_time": "2022-02-26T21:15:53.752Z"
   },
   {
    "duration": 20,
    "start_time": "2022-02-26T21:15:53.790Z"
   },
   {
    "duration": 43,
    "start_time": "2022-02-26T21:15:53.814Z"
   },
   {
    "duration": 5,
    "start_time": "2022-02-26T21:15:53.860Z"
   },
   {
    "duration": 7,
    "start_time": "2022-02-26T21:15:53.867Z"
   },
   {
    "duration": 8,
    "start_time": "2022-02-26T21:15:53.877Z"
   },
   {
    "duration": 5,
    "start_time": "2022-02-26T21:15:53.887Z"
   },
   {
    "duration": 59,
    "start_time": "2022-02-26T21:15:53.894Z"
   },
   {
    "duration": 4,
    "start_time": "2022-02-26T21:15:53.956Z"
   },
   {
    "duration": 9,
    "start_time": "2022-02-26T21:15:53.963Z"
   },
   {
    "duration": 11,
    "start_time": "2022-02-26T21:15:53.975Z"
   },
   {
    "duration": 10,
    "start_time": "2022-02-26T21:15:53.988Z"
   },
   {
    "duration": 59,
    "start_time": "2022-02-26T21:15:54.000Z"
   },
   {
    "duration": 9,
    "start_time": "2022-02-26T21:15:54.062Z"
   },
   {
    "duration": 12,
    "start_time": "2022-02-26T21:15:54.073Z"
   },
   {
    "duration": 9,
    "start_time": "2022-02-26T21:15:54.087Z"
   },
   {
    "duration": 15,
    "start_time": "2022-02-26T21:15:54.102Z"
   },
   {
    "duration": 8,
    "start_time": "2022-02-26T21:15:54.153Z"
   },
   {
    "duration": 9,
    "start_time": "2022-02-26T21:15:54.164Z"
   },
   {
    "duration": 8,
    "start_time": "2022-02-26T21:15:54.175Z"
   },
   {
    "duration": 9,
    "start_time": "2022-02-26T21:15:54.186Z"
   },
   {
    "duration": 12,
    "start_time": "2022-02-26T21:15:54.197Z"
   },
   {
    "duration": 20,
    "start_time": "2022-02-26T21:15:54.252Z"
   },
   {
    "duration": 8,
    "start_time": "2022-02-26T21:15:54.274Z"
   },
   {
    "duration": 14,
    "start_time": "2022-02-26T21:15:54.284Z"
   },
   {
    "duration": 51,
    "start_time": "2022-02-26T21:15:54.300Z"
   },
   {
    "duration": 5,
    "start_time": "2022-02-26T21:15:54.354Z"
   },
   {
    "duration": 4,
    "start_time": "2022-02-26T21:15:54.362Z"
   },
   {
    "duration": 16,
    "start_time": "2022-02-26T21:15:54.368Z"
   },
   {
    "duration": 19,
    "start_time": "2022-02-26T21:15:54.387Z"
   },
   {
    "duration": 52,
    "start_time": "2022-02-26T21:15:54.409Z"
   },
   {
    "duration": 35979,
    "start_time": "2022-02-26T21:15:54.463Z"
   },
   {
    "duration": 11,
    "start_time": "2022-02-26T21:16:30.444Z"
   },
   {
    "duration": 27,
    "start_time": "2022-02-26T21:16:30.458Z"
   },
   {
    "duration": 25,
    "start_time": "2022-02-26T21:16:30.487Z"
   },
   {
    "duration": 49,
    "start_time": "2022-02-26T21:16:30.514Z"
   },
   {
    "duration": 18,
    "start_time": "2022-02-26T21:16:30.565Z"
   },
   {
    "duration": 17,
    "start_time": "2022-02-26T21:16:30.586Z"
   },
   {
    "duration": 52,
    "start_time": "2022-02-26T21:16:30.605Z"
   },
   {
    "duration": 18,
    "start_time": "2022-02-26T21:16:30.659Z"
   },
   {
    "duration": 14,
    "start_time": "2022-02-26T21:16:30.680Z"
   },
   {
    "duration": 10,
    "start_time": "2022-02-26T21:16:30.696Z"
   },
   {
    "duration": 52,
    "start_time": "2022-02-26T21:16:30.708Z"
   },
   {
    "duration": 39,
    "start_time": "2022-02-26T21:16:30.763Z"
   },
   {
    "duration": 61,
    "start_time": "2022-02-26T21:16:30.805Z"
   },
   {
    "duration": 4,
    "start_time": "2022-02-26T21:16:30.868Z"
   },
   {
    "duration": 78,
    "start_time": "2022-02-26T21:16:30.875Z"
   },
   {
    "duration": 4,
    "start_time": "2022-02-26T21:16:30.955Z"
   },
   {
    "duration": 51,
    "start_time": "2022-02-26T21:16:30.962Z"
   },
   {
    "duration": 736,
    "start_time": "2022-02-26T21:16:54.702Z"
   },
   {
    "duration": 16,
    "start_time": "2022-02-26T21:16:55.441Z"
   },
   {
    "duration": 18,
    "start_time": "2022-02-26T21:16:55.461Z"
   },
   {
    "duration": 7,
    "start_time": "2022-02-26T21:16:55.481Z"
   },
   {
    "duration": 12,
    "start_time": "2022-02-26T21:16:55.490Z"
   },
   {
    "duration": 7,
    "start_time": "2022-02-26T21:16:55.505Z"
   },
   {
    "duration": 33,
    "start_time": "2022-02-26T21:16:55.551Z"
   },
   {
    "duration": 20,
    "start_time": "2022-02-26T21:16:55.588Z"
   },
   {
    "duration": 7,
    "start_time": "2022-02-26T21:16:55.612Z"
   },
   {
    "duration": 5,
    "start_time": "2022-02-26T21:16:55.652Z"
   },
   {
    "duration": 9,
    "start_time": "2022-02-26T21:16:55.660Z"
   },
   {
    "duration": 9,
    "start_time": "2022-02-26T21:16:55.672Z"
   },
   {
    "duration": 4,
    "start_time": "2022-02-26T21:16:55.684Z"
   },
   {
    "duration": 23,
    "start_time": "2022-02-26T21:16:55.690Z"
   },
   {
    "duration": 38,
    "start_time": "2022-02-26T21:16:55.715Z"
   },
   {
    "duration": 11,
    "start_time": "2022-02-26T21:16:55.756Z"
   },
   {
    "duration": 9,
    "start_time": "2022-02-26T21:16:55.770Z"
   },
   {
    "duration": 21,
    "start_time": "2022-02-26T21:16:55.781Z"
   },
   {
    "duration": 10,
    "start_time": "2022-02-26T21:16:55.804Z"
   },
   {
    "duration": 16,
    "start_time": "2022-02-26T21:16:55.852Z"
   },
   {
    "duration": 9,
    "start_time": "2022-02-26T21:16:55.871Z"
   },
   {
    "duration": 8,
    "start_time": "2022-02-26T21:16:55.883Z"
   },
   {
    "duration": 10,
    "start_time": "2022-02-26T21:16:55.896Z"
   },
   {
    "duration": 15,
    "start_time": "2022-02-26T21:16:55.952Z"
   },
   {
    "duration": 9,
    "start_time": "2022-02-26T21:16:55.970Z"
   },
   {
    "duration": 11,
    "start_time": "2022-02-26T21:16:55.982Z"
   },
   {
    "duration": 56,
    "start_time": "2022-02-26T21:16:55.995Z"
   },
   {
    "duration": 9,
    "start_time": "2022-02-26T21:16:56.054Z"
   },
   {
    "duration": 10,
    "start_time": "2022-02-26T21:16:56.066Z"
   },
   {
    "duration": 25,
    "start_time": "2022-02-26T21:16:56.078Z"
   },
   {
    "duration": 7,
    "start_time": "2022-02-26T21:16:56.106Z"
   },
   {
    "duration": 45,
    "start_time": "2022-02-26T21:16:56.116Z"
   },
   {
    "duration": 7,
    "start_time": "2022-02-26T21:16:56.164Z"
   },
   {
    "duration": 5,
    "start_time": "2022-02-26T21:16:56.173Z"
   },
   {
    "duration": 5,
    "start_time": "2022-02-26T21:16:56.180Z"
   },
   {
    "duration": 64,
    "start_time": "2022-02-26T21:16:56.187Z"
   },
   {
    "duration": 11,
    "start_time": "2022-02-26T21:16:56.254Z"
   },
   {
    "duration": 35753,
    "start_time": "2022-02-26T21:16:56.267Z"
   },
   {
    "duration": 9,
    "start_time": "2022-02-26T21:17:32.022Z"
   },
   {
    "duration": 34,
    "start_time": "2022-02-26T21:17:32.033Z"
   },
   {
    "duration": 23,
    "start_time": "2022-02-26T21:17:32.069Z"
   },
   {
    "duration": 20,
    "start_time": "2022-02-26T21:17:32.094Z"
   },
   {
    "duration": 46,
    "start_time": "2022-02-26T21:17:32.116Z"
   },
   {
    "duration": 17,
    "start_time": "2022-02-26T21:17:32.164Z"
   },
   {
    "duration": 20,
    "start_time": "2022-02-26T21:17:32.184Z"
   },
   {
    "duration": 48,
    "start_time": "2022-02-26T21:17:32.206Z"
   },
   {
    "duration": 15,
    "start_time": "2022-02-26T21:17:32.256Z"
   },
   {
    "duration": 10,
    "start_time": "2022-02-26T21:17:32.273Z"
   },
   {
    "duration": 16,
    "start_time": "2022-02-26T21:17:32.285Z"
   },
   {
    "duration": 71,
    "start_time": "2022-02-26T21:17:32.304Z"
   },
   {
    "duration": 31,
    "start_time": "2022-02-26T21:17:32.377Z"
   },
   {
    "duration": 3,
    "start_time": "2022-02-26T21:17:32.410Z"
   },
   {
    "duration": 41,
    "start_time": "2022-02-26T21:17:32.451Z"
   },
   {
    "duration": 4,
    "start_time": "2022-02-26T21:17:32.494Z"
   },
   {
    "duration": 67,
    "start_time": "2022-02-26T21:17:32.500Z"
   },
   {
    "duration": 806,
    "start_time": "2022-02-26T21:18:15.729Z"
   },
   {
    "duration": 4,
    "start_time": "2022-02-26T21:18:16.538Z"
   },
   {
    "duration": 15,
    "start_time": "2022-02-26T21:18:16.552Z"
   },
   {
    "duration": 20,
    "start_time": "2022-02-26T21:18:16.570Z"
   },
   {
    "duration": 7,
    "start_time": "2022-02-26T21:18:16.592Z"
   },
   {
    "duration": 51,
    "start_time": "2022-02-26T21:18:16.602Z"
   },
   {
    "duration": 8,
    "start_time": "2022-02-26T21:18:16.655Z"
   },
   {
    "duration": 33,
    "start_time": "2022-02-26T21:18:16.667Z"
   },
   {
    "duration": 53,
    "start_time": "2022-02-26T21:18:16.703Z"
   },
   {
    "duration": 9,
    "start_time": "2022-02-26T21:18:16.758Z"
   },
   {
    "duration": 5,
    "start_time": "2022-02-26T21:18:16.770Z"
   },
   {
    "duration": 7,
    "start_time": "2022-02-26T21:18:16.777Z"
   },
   {
    "duration": 8,
    "start_time": "2022-02-26T21:18:16.787Z"
   },
   {
    "duration": 5,
    "start_time": "2022-02-26T21:18:16.797Z"
   },
   {
    "duration": 56,
    "start_time": "2022-02-26T21:18:16.804Z"
   },
   {
    "duration": 5,
    "start_time": "2022-02-26T21:18:16.863Z"
   },
   {
    "duration": 9,
    "start_time": "2022-02-26T21:18:16.871Z"
   },
   {
    "duration": 13,
    "start_time": "2022-02-26T21:18:16.883Z"
   },
   {
    "duration": 12,
    "start_time": "2022-02-26T21:18:16.898Z"
   },
   {
    "duration": 18,
    "start_time": "2022-02-26T21:18:16.952Z"
   },
   {
    "duration": 10,
    "start_time": "2022-02-26T21:18:16.973Z"
   },
   {
    "duration": 10,
    "start_time": "2022-02-26T21:18:16.986Z"
   },
   {
    "duration": 53,
    "start_time": "2022-02-26T21:18:17.003Z"
   },
   {
    "duration": 18,
    "start_time": "2022-02-26T21:18:17.060Z"
   },
   {
    "duration": 10,
    "start_time": "2022-02-26T21:18:17.080Z"
   },
   {
    "duration": 11,
    "start_time": "2022-02-26T21:18:17.092Z"
   },
   {
    "duration": 50,
    "start_time": "2022-02-26T21:18:17.106Z"
   },
   {
    "duration": 11,
    "start_time": "2022-02-26T21:18:17.159Z"
   },
   {
    "duration": 13,
    "start_time": "2022-02-26T21:18:17.172Z"
   },
   {
    "duration": 24,
    "start_time": "2022-02-26T21:18:17.187Z"
   },
   {
    "duration": 42,
    "start_time": "2022-02-26T21:18:17.214Z"
   },
   {
    "duration": 14,
    "start_time": "2022-02-26T21:18:17.258Z"
   },
   {
    "duration": 8,
    "start_time": "2022-02-26T21:18:17.274Z"
   },
   {
    "duration": 10,
    "start_time": "2022-02-26T21:18:17.284Z"
   },
   {
    "duration": 14,
    "start_time": "2022-02-26T21:18:17.296Z"
   },
   {
    "duration": 55,
    "start_time": "2022-02-26T21:18:17.312Z"
   },
   {
    "duration": 13,
    "start_time": "2022-02-26T21:18:17.371Z"
   },
   {
    "duration": 36248,
    "start_time": "2022-02-26T21:18:17.386Z"
   },
   {
    "duration": 16,
    "start_time": "2022-02-26T21:18:53.637Z"
   },
   {
    "duration": 36,
    "start_time": "2022-02-26T21:18:53.656Z"
   },
   {
    "duration": 31,
    "start_time": "2022-02-26T21:18:53.695Z"
   },
   {
    "duration": 49,
    "start_time": "2022-02-26T21:18:53.729Z"
   },
   {
    "duration": 27,
    "start_time": "2022-02-26T21:18:53.781Z"
   },
   {
    "duration": 46,
    "start_time": "2022-02-26T21:18:53.811Z"
   },
   {
    "duration": 21,
    "start_time": "2022-02-26T21:18:53.861Z"
   },
   {
    "duration": 17,
    "start_time": "2022-02-26T21:18:53.885Z"
   },
   {
    "duration": 55,
    "start_time": "2022-02-26T21:18:53.904Z"
   },
   {
    "duration": 11,
    "start_time": "2022-02-26T21:18:53.961Z"
   },
   {
    "duration": 18,
    "start_time": "2022-02-26T21:18:53.974Z"
   },
   {
    "duration": 71,
    "start_time": "2022-02-26T21:18:53.995Z"
   },
   {
    "duration": 32,
    "start_time": "2022-02-26T21:18:54.068Z"
   },
   {
    "duration": 4,
    "start_time": "2022-02-26T21:18:54.102Z"
   },
   {
    "duration": 83,
    "start_time": "2022-02-26T21:18:54.109Z"
   },
   {
    "duration": 4,
    "start_time": "2022-02-26T21:18:54.195Z"
   },
   {
    "duration": 69,
    "start_time": "2022-02-26T21:18:54.201Z"
   },
   {
    "duration": 25,
    "start_time": "2022-02-26T21:20:04.977Z"
   },
   {
    "duration": 28,
    "start_time": "2022-02-26T21:20:07.792Z"
   },
   {
    "duration": 18,
    "start_time": "2022-02-26T21:20:49.060Z"
   },
   {
    "duration": 780,
    "start_time": "2022-02-26T21:21:39.770Z"
   },
   {
    "duration": 5,
    "start_time": "2022-02-26T21:21:40.552Z"
   },
   {
    "duration": 14,
    "start_time": "2022-02-26T21:21:40.560Z"
   },
   {
    "duration": 22,
    "start_time": "2022-02-26T21:21:40.578Z"
   },
   {
    "duration": 67,
    "start_time": "2022-02-26T21:21:40.603Z"
   },
   {
    "duration": 24,
    "start_time": "2022-02-26T21:21:40.672Z"
   },
   {
    "duration": 9,
    "start_time": "2022-02-26T21:21:40.699Z"
   },
   {
    "duration": 43,
    "start_time": "2022-02-26T21:21:40.714Z"
   },
   {
    "duration": 7,
    "start_time": "2022-02-26T21:21:40.760Z"
   },
   {
    "duration": 32,
    "start_time": "2022-02-26T21:21:40.770Z"
   },
   {
    "duration": 56,
    "start_time": "2022-02-26T21:21:40.804Z"
   },
   {
    "duration": 6,
    "start_time": "2022-02-26T21:21:40.863Z"
   },
   {
    "duration": 4,
    "start_time": "2022-02-26T21:21:40.872Z"
   },
   {
    "duration": 7,
    "start_time": "2022-02-26T21:21:40.879Z"
   },
   {
    "duration": 8,
    "start_time": "2022-02-26T21:21:40.888Z"
   },
   {
    "duration": 4,
    "start_time": "2022-02-26T21:21:40.898Z"
   },
   {
    "duration": 14,
    "start_time": "2022-02-26T21:21:40.951Z"
   },
   {
    "duration": 5,
    "start_time": "2022-02-26T21:21:40.968Z"
   },
   {
    "duration": 8,
    "start_time": "2022-02-26T21:21:40.975Z"
   },
   {
    "duration": 11,
    "start_time": "2022-02-26T21:21:40.985Z"
   },
   {
    "duration": 8,
    "start_time": "2022-02-26T21:21:40.998Z"
   },
   {
    "duration": 56,
    "start_time": "2022-02-26T21:21:41.008Z"
   },
   {
    "duration": 9,
    "start_time": "2022-02-26T21:21:41.069Z"
   },
   {
    "duration": 7,
    "start_time": "2022-02-26T21:21:41.082Z"
   },
   {
    "duration": 9,
    "start_time": "2022-02-26T21:21:41.091Z"
   },
   {
    "duration": 57,
    "start_time": "2022-02-26T21:21:41.102Z"
   },
   {
    "duration": 10,
    "start_time": "2022-02-26T21:21:41.161Z"
   },
   {
    "duration": 9,
    "start_time": "2022-02-26T21:21:41.173Z"
   },
   {
    "duration": 8,
    "start_time": "2022-02-26T21:21:41.184Z"
   },
   {
    "duration": 10,
    "start_time": "2022-02-26T21:21:41.194Z"
   },
   {
    "duration": 50,
    "start_time": "2022-02-26T21:21:41.206Z"
   },
   {
    "duration": 19,
    "start_time": "2022-02-26T21:21:41.259Z"
   },
   {
    "duration": 7,
    "start_time": "2022-02-26T21:21:41.281Z"
   },
   {
    "duration": 14,
    "start_time": "2022-02-26T21:21:41.291Z"
   },
   {
    "duration": 51,
    "start_time": "2022-02-26T21:21:41.307Z"
   },
   {
    "duration": 7,
    "start_time": "2022-02-26T21:21:41.361Z"
   },
   {
    "duration": 9,
    "start_time": "2022-02-26T21:21:41.370Z"
   },
   {
    "duration": 19,
    "start_time": "2022-02-26T21:21:41.381Z"
   },
   {
    "duration": 54,
    "start_time": "2022-02-26T21:21:41.403Z"
   },
   {
    "duration": 36295,
    "start_time": "2022-02-26T21:21:41.459Z"
   },
   {
    "duration": 14,
    "start_time": "2022-02-26T21:22:17.757Z"
   },
   {
    "duration": 35,
    "start_time": "2022-02-26T21:22:17.774Z"
   },
   {
    "duration": 41,
    "start_time": "2022-02-26T21:22:17.812Z"
   },
   {
    "duration": 18,
    "start_time": "2022-02-26T21:22:17.855Z"
   },
   {
    "duration": 30,
    "start_time": "2022-02-26T21:22:17.876Z"
   },
   {
    "duration": 56,
    "start_time": "2022-02-26T21:22:17.910Z"
   },
   {
    "duration": 25,
    "start_time": "2022-02-26T21:22:17.969Z"
   },
   {
    "duration": 10,
    "start_time": "2022-02-26T21:22:17.996Z"
   },
   {
    "duration": 54,
    "start_time": "2022-02-26T21:22:18.008Z"
   },
   {
    "duration": 36,
    "start_time": "2022-02-26T21:22:18.065Z"
   },
   {
    "duration": 75,
    "start_time": "2022-02-26T21:22:18.104Z"
   },
   {
    "duration": 4,
    "start_time": "2022-02-26T21:22:18.182Z"
   },
   {
    "duration": 87,
    "start_time": "2022-02-26T21:22:18.189Z"
   },
   {
    "duration": 5,
    "start_time": "2022-02-26T21:22:18.278Z"
   },
   {
    "duration": 75,
    "start_time": "2022-02-26T21:22:18.286Z"
   },
   {
    "duration": 321,
    "start_time": "2022-02-26T22:02:33.695Z"
   },
   {
    "duration": 82342,
    "start_time": "2022-02-26T22:02:54.671Z"
   },
   {
    "duration": 11,
    "start_time": "2022-02-26T22:07:00.516Z"
   },
   {
    "duration": 11,
    "start_time": "2022-02-26T22:07:10.117Z"
   },
   {
    "duration": 9,
    "start_time": "2022-02-26T22:07:26.542Z"
   },
   {
    "duration": 10,
    "start_time": "2022-02-26T22:08:08.010Z"
   },
   {
    "duration": 4358,
    "start_time": "2022-02-26T22:09:04.704Z"
   },
   {
    "duration": 226,
    "start_time": "2022-02-26T22:09:56.943Z"
   },
   {
    "duration": 8,
    "start_time": "2022-02-26T22:10:21.592Z"
   },
   {
    "duration": 14,
    "start_time": "2022-02-26T22:19:18.708Z"
   },
   {
    "duration": 16,
    "start_time": "2022-02-26T22:21:50.193Z"
   },
   {
    "duration": 10,
    "start_time": "2022-02-26T22:29:25.117Z"
   },
   {
    "duration": 66,
    "start_time": "2022-02-26T22:30:43.684Z"
   },
   {
    "duration": 9,
    "start_time": "2022-02-26T22:31:14.583Z"
   },
   {
    "duration": 11,
    "start_time": "2022-02-26T22:31:17.801Z"
   },
   {
    "duration": 10,
    "start_time": "2022-02-26T22:32:39.762Z"
   },
   {
    "duration": 4878,
    "start_time": "2022-02-26T22:35:15.318Z"
   },
   {
    "duration": 778,
    "start_time": "2022-02-26T22:35:37.849Z"
   },
   {
    "duration": 5,
    "start_time": "2022-02-26T22:35:38.630Z"
   },
   {
    "duration": 16,
    "start_time": "2022-02-26T22:35:38.650Z"
   },
   {
    "duration": 23,
    "start_time": "2022-02-26T22:35:38.669Z"
   },
   {
    "duration": 62,
    "start_time": "2022-02-26T22:35:38.694Z"
   },
   {
    "duration": 23,
    "start_time": "2022-02-26T22:35:38.759Z"
   },
   {
    "duration": 9,
    "start_time": "2022-02-26T22:35:38.785Z"
   },
   {
    "duration": 52,
    "start_time": "2022-02-26T22:35:38.800Z"
   },
   {
    "duration": 7,
    "start_time": "2022-02-26T22:35:38.855Z"
   },
   {
    "duration": 36,
    "start_time": "2022-02-26T22:35:38.864Z"
   },
   {
    "duration": 18,
    "start_time": "2022-02-26T22:35:38.902Z"
   },
   {
    "duration": 32,
    "start_time": "2022-02-26T22:35:38.923Z"
   },
   {
    "duration": 5,
    "start_time": "2022-02-26T22:35:38.958Z"
   },
   {
    "duration": 9,
    "start_time": "2022-02-26T22:35:38.965Z"
   },
   {
    "duration": 12,
    "start_time": "2022-02-26T22:35:38.976Z"
   },
   {
    "duration": 5,
    "start_time": "2022-02-26T22:35:38.990Z"
   },
   {
    "duration": 55,
    "start_time": "2022-02-26T22:35:38.997Z"
   },
   {
    "duration": 5,
    "start_time": "2022-02-26T22:35:39.055Z"
   },
   {
    "duration": 9,
    "start_time": "2022-02-26T22:35:39.062Z"
   },
   {
    "duration": 10,
    "start_time": "2022-02-26T22:35:39.073Z"
   },
   {
    "duration": 8,
    "start_time": "2022-02-26T22:35:39.086Z"
   },
   {
    "duration": 59,
    "start_time": "2022-02-26T22:35:39.096Z"
   },
   {
    "duration": 9,
    "start_time": "2022-02-26T22:35:39.160Z"
   },
   {
    "duration": 8,
    "start_time": "2022-02-26T22:35:39.172Z"
   },
   {
    "duration": 9,
    "start_time": "2022-02-26T22:35:39.183Z"
   },
   {
    "duration": 17,
    "start_time": "2022-02-26T22:35:39.194Z"
   },
   {
    "duration": 44,
    "start_time": "2022-02-26T22:35:39.213Z"
   },
   {
    "duration": 9,
    "start_time": "2022-02-26T22:35:39.260Z"
   },
   {
    "duration": 10,
    "start_time": "2022-02-26T22:35:39.271Z"
   },
   {
    "duration": 12,
    "start_time": "2022-02-26T22:35:39.283Z"
   },
   {
    "duration": 10,
    "start_time": "2022-02-26T22:35:39.298Z"
   },
   {
    "duration": 57,
    "start_time": "2022-02-26T22:35:39.310Z"
   },
   {
    "duration": 6,
    "start_time": "2022-02-26T22:35:39.369Z"
   },
   {
    "duration": 13,
    "start_time": "2022-02-26T22:35:39.378Z"
   },
   {
    "duration": 7,
    "start_time": "2022-02-26T22:35:39.394Z"
   },
   {
    "duration": 52,
    "start_time": "2022-02-26T22:35:39.403Z"
   },
   {
    "duration": 5,
    "start_time": "2022-02-26T22:35:39.457Z"
   },
   {
    "duration": 21,
    "start_time": "2022-02-26T22:35:39.465Z"
   },
   {
    "duration": 11,
    "start_time": "2022-02-26T22:35:39.488Z"
   },
   {
    "duration": 35306,
    "start_time": "2022-02-26T22:35:39.501Z"
   },
   {
    "duration": 9,
    "start_time": "2022-02-26T22:36:14.810Z"
   },
   {
    "duration": 37,
    "start_time": "2022-02-26T22:36:14.822Z"
   },
   {
    "duration": 18,
    "start_time": "2022-02-26T22:36:14.862Z"
   },
   {
    "duration": 18,
    "start_time": "2022-02-26T22:36:14.883Z"
   },
   {
    "duration": 14,
    "start_time": "2022-02-26T22:36:14.903Z"
   },
   {
    "duration": 10,
    "start_time": "2022-02-26T22:36:14.952Z"
   },
   {
    "duration": 17,
    "start_time": "2022-02-26T22:36:14.964Z"
   },
   {
    "duration": 76,
    "start_time": "2022-02-26T22:36:14.984Z"
   },
   {
    "duration": 4392,
    "start_time": "2022-02-26T22:36:15.062Z"
   },
   {
    "duration": 1420,
    "start_time": "2022-02-26T22:36:18.036Z"
   },
   {
    "duration": 1414,
    "start_time": "2022-02-26T22:36:18.044Z"
   },
   {
    "duration": 1408,
    "start_time": "2022-02-26T22:36:18.051Z"
   },
   {
    "duration": 1403,
    "start_time": "2022-02-26T22:36:18.058Z"
   },
   {
    "duration": 1397,
    "start_time": "2022-02-26T22:36:18.065Z"
   },
   {
    "duration": 21,
    "start_time": "2022-02-26T22:50:43.548Z"
   },
   {
    "duration": 25,
    "start_time": "2022-02-26T22:51:20.285Z"
   },
   {
    "duration": 236,
    "start_time": "2022-02-26T22:55:01.344Z"
   },
   {
    "duration": 3703,
    "start_time": "2022-02-26T22:58:43.404Z"
   },
   {
    "duration": 7,
    "start_time": "2022-02-26T22:59:43.879Z"
   },
   {
    "duration": 802,
    "start_time": "2022-02-26T23:05:47.454Z"
   },
   {
    "duration": 5,
    "start_time": "2022-02-26T23:05:48.258Z"
   },
   {
    "duration": 22,
    "start_time": "2022-02-26T23:05:48.266Z"
   },
   {
    "duration": 21,
    "start_time": "2022-02-26T23:05:48.290Z"
   },
   {
    "duration": 56,
    "start_time": "2022-02-26T23:05:48.313Z"
   },
   {
    "duration": 20,
    "start_time": "2022-02-26T23:05:48.371Z"
   },
   {
    "duration": 7,
    "start_time": "2022-02-26T23:05:48.394Z"
   },
   {
    "duration": 16,
    "start_time": "2022-02-26T23:05:48.403Z"
   },
   {
    "duration": 7,
    "start_time": "2022-02-26T23:05:48.452Z"
   },
   {
    "duration": 33,
    "start_time": "2022-02-26T23:05:48.462Z"
   },
   {
    "duration": 18,
    "start_time": "2022-02-26T23:05:48.498Z"
   },
   {
    "duration": 34,
    "start_time": "2022-02-26T23:05:48.518Z"
   },
   {
    "duration": 4,
    "start_time": "2022-02-26T23:05:48.554Z"
   },
   {
    "duration": 16,
    "start_time": "2022-02-26T23:05:48.560Z"
   },
   {
    "duration": 10,
    "start_time": "2022-02-26T23:05:48.579Z"
   },
   {
    "duration": 4,
    "start_time": "2022-02-26T23:05:48.592Z"
   },
   {
    "duration": 20,
    "start_time": "2022-02-26T23:05:48.598Z"
   },
   {
    "duration": 33,
    "start_time": "2022-02-26T23:05:48.621Z"
   },
   {
    "duration": 11,
    "start_time": "2022-02-26T23:05:48.657Z"
   },
   {
    "duration": 11,
    "start_time": "2022-02-26T23:05:48.671Z"
   },
   {
    "duration": 12,
    "start_time": "2022-02-26T23:05:48.684Z"
   },
   {
    "duration": 58,
    "start_time": "2022-02-26T23:05:48.698Z"
   },
   {
    "duration": 9,
    "start_time": "2022-02-26T23:05:48.759Z"
   },
   {
    "duration": 8,
    "start_time": "2022-02-26T23:05:48.770Z"
   },
   {
    "duration": 10,
    "start_time": "2022-02-26T23:05:48.780Z"
   },
   {
    "duration": 16,
    "start_time": "2022-02-26T23:05:48.793Z"
   },
   {
    "duration": 9,
    "start_time": "2022-02-26T23:05:48.857Z"
   },
   {
    "duration": 10,
    "start_time": "2022-02-26T23:05:48.870Z"
   },
   {
    "duration": 10,
    "start_time": "2022-02-26T23:05:48.883Z"
   },
   {
    "duration": 55,
    "start_time": "2022-02-26T23:05:48.896Z"
   },
   {
    "duration": 11,
    "start_time": "2022-02-26T23:05:48.953Z"
   },
   {
    "duration": 21,
    "start_time": "2022-02-26T23:05:48.967Z"
   },
   {
    "duration": 9,
    "start_time": "2022-02-26T23:05:48.991Z"
   },
   {
    "duration": 61,
    "start_time": "2022-02-26T23:05:49.003Z"
   },
   {
    "duration": 9,
    "start_time": "2022-02-26T23:05:49.067Z"
   },
   {
    "duration": 7,
    "start_time": "2022-02-26T23:05:49.079Z"
   },
   {
    "duration": 6,
    "start_time": "2022-02-26T23:05:49.089Z"
   },
   {
    "duration": 69,
    "start_time": "2022-02-26T23:05:49.097Z"
   },
   {
    "duration": 13,
    "start_time": "2022-02-26T23:05:49.169Z"
   },
   {
    "duration": 4,
    "start_time": "2022-02-26T23:05:49.185Z"
   },
   {
    "duration": 28761,
    "start_time": "2022-02-26T23:05:49.192Z"
   },
   {
    "duration": 8,
    "start_time": "2022-02-26T23:06:17.955Z"
   },
   {
    "duration": 20,
    "start_time": "2022-02-26T23:06:17.965Z"
   },
   {
    "duration": 18,
    "start_time": "2022-02-26T23:06:17.988Z"
   },
   {
    "duration": 45,
    "start_time": "2022-02-26T23:06:18.008Z"
   },
   {
    "duration": 15,
    "start_time": "2022-02-26T23:06:18.055Z"
   },
   {
    "duration": 10,
    "start_time": "2022-02-26T23:06:18.072Z"
   },
   {
    "duration": 15,
    "start_time": "2022-02-26T23:06:18.084Z"
   },
   {
    "duration": 71,
    "start_time": "2022-02-26T23:06:18.101Z"
   },
   {
    "duration": 4303,
    "start_time": "2022-02-26T23:06:18.174Z"
   },
   {
    "duration": 1785,
    "start_time": "2022-02-26T23:06:20.694Z"
   },
   {
    "duration": 1784,
    "start_time": "2022-02-26T23:06:20.697Z"
   },
   {
    "duration": 1783,
    "start_time": "2022-02-26T23:06:20.699Z"
   },
   {
    "duration": 1782,
    "start_time": "2022-02-26T23:06:20.702Z"
   },
   {
    "duration": 1780,
    "start_time": "2022-02-26T23:06:20.705Z"
   },
   {
    "duration": 15,
    "start_time": "2022-02-26T23:06:43.354Z"
   },
   {
    "duration": 1035,
    "start_time": "2022-02-26T23:07:15.145Z"
   },
   {
    "duration": 6,
    "start_time": "2022-02-26T23:07:16.183Z"
   },
   {
    "duration": 18,
    "start_time": "2022-02-26T23:07:16.192Z"
   },
   {
    "duration": 50,
    "start_time": "2022-02-26T23:07:16.213Z"
   },
   {
    "duration": 25,
    "start_time": "2022-02-26T23:07:16.265Z"
   },
   {
    "duration": 23,
    "start_time": "2022-02-26T23:07:16.293Z"
   },
   {
    "duration": 33,
    "start_time": "2022-02-26T23:07:16.318Z"
   },
   {
    "duration": 14,
    "start_time": "2022-02-26T23:07:16.353Z"
   },
   {
    "duration": 7,
    "start_time": "2022-02-26T23:07:16.371Z"
   },
   {
    "duration": 32,
    "start_time": "2022-02-26T23:07:16.381Z"
   },
   {
    "duration": 20,
    "start_time": "2022-02-26T23:07:16.452Z"
   },
   {
    "duration": 7,
    "start_time": "2022-02-26T23:07:16.474Z"
   },
   {
    "duration": 4,
    "start_time": "2022-02-26T23:07:16.484Z"
   },
   {
    "duration": 13,
    "start_time": "2022-02-26T23:07:16.491Z"
   },
   {
    "duration": 46,
    "start_time": "2022-02-26T23:07:16.507Z"
   },
   {
    "duration": 5,
    "start_time": "2022-02-26T23:07:16.555Z"
   },
   {
    "duration": 16,
    "start_time": "2022-02-26T23:07:16.563Z"
   },
   {
    "duration": 4,
    "start_time": "2022-02-26T23:07:16.582Z"
   },
   {
    "duration": 12,
    "start_time": "2022-02-26T23:07:16.588Z"
   },
   {
    "duration": 10,
    "start_time": "2022-02-26T23:07:16.602Z"
   },
   {
    "duration": 46,
    "start_time": "2022-02-26T23:07:16.614Z"
   },
   {
    "duration": 17,
    "start_time": "2022-02-26T23:07:16.662Z"
   },
   {
    "duration": 9,
    "start_time": "2022-02-26T23:07:16.681Z"
   },
   {
    "duration": 8,
    "start_time": "2022-02-26T23:07:16.692Z"
   },
   {
    "duration": 9,
    "start_time": "2022-02-26T23:07:16.703Z"
   },
   {
    "duration": 16,
    "start_time": "2022-02-26T23:07:16.752Z"
   },
   {
    "duration": 11,
    "start_time": "2022-02-26T23:07:16.773Z"
   },
   {
    "duration": 9,
    "start_time": "2022-02-26T23:07:16.787Z"
   },
   {
    "duration": 12,
    "start_time": "2022-02-26T23:07:16.798Z"
   },
   {
    "duration": 46,
    "start_time": "2022-02-26T23:07:16.813Z"
   },
   {
    "duration": 12,
    "start_time": "2022-02-26T23:07:16.862Z"
   },
   {
    "duration": 22,
    "start_time": "2022-02-26T23:07:16.877Z"
   },
   {
    "duration": 50,
    "start_time": "2022-02-26T23:07:16.902Z"
   },
   {
    "duration": 16,
    "start_time": "2022-02-26T23:07:16.955Z"
   },
   {
    "duration": 8,
    "start_time": "2022-02-26T23:07:16.974Z"
   },
   {
    "duration": 8,
    "start_time": "2022-02-26T23:07:16.984Z"
   },
   {
    "duration": 12,
    "start_time": "2022-02-26T23:07:16.994Z"
   },
   {
    "duration": 51,
    "start_time": "2022-02-26T23:07:17.008Z"
   },
   {
    "duration": 11,
    "start_time": "2022-02-26T23:07:17.061Z"
   },
   {
    "duration": 3,
    "start_time": "2022-02-26T23:07:17.074Z"
   },
   {
    "duration": 87,
    "start_time": "2022-02-26T23:07:17.079Z"
   },
   {
    "duration": 1792,
    "start_time": "2022-02-26T23:07:15.376Z"
   },
   {
    "duration": 1784,
    "start_time": "2022-02-26T23:07:15.386Z"
   },
   {
    "duration": 1781,
    "start_time": "2022-02-26T23:07:15.390Z"
   },
   {
    "duration": 1780,
    "start_time": "2022-02-26T23:07:15.393Z"
   },
   {
    "duration": 1772,
    "start_time": "2022-02-26T23:07:15.402Z"
   },
   {
    "duration": 1768,
    "start_time": "2022-02-26T23:07:15.407Z"
   },
   {
    "duration": 1767,
    "start_time": "2022-02-26T23:07:15.410Z"
   },
   {
    "duration": 1758,
    "start_time": "2022-02-26T23:07:15.420Z"
   },
   {
    "duration": 1752,
    "start_time": "2022-02-26T23:07:15.427Z"
   },
   {
    "duration": 1744,
    "start_time": "2022-02-26T23:07:15.437Z"
   },
   {
    "duration": 1741,
    "start_time": "2022-02-26T23:07:15.441Z"
   },
   {
    "duration": 1741,
    "start_time": "2022-02-26T23:07:15.443Z"
   },
   {
    "duration": 1732,
    "start_time": "2022-02-26T23:07:15.453Z"
   },
   {
    "duration": 1729,
    "start_time": "2022-02-26T23:07:15.457Z"
   },
   {
    "duration": 1727,
    "start_time": "2022-02-26T23:07:15.460Z"
   },
   {
    "duration": 68,
    "start_time": "2022-02-26T23:09:00.925Z"
   },
   {
    "duration": 77,
    "start_time": "2022-02-26T23:09:14.794Z"
   },
   {
    "duration": 1902,
    "start_time": "2022-02-26T23:11:08.782Z"
   },
   {
    "duration": 1282,
    "start_time": "2022-02-26T23:12:15.092Z"
   },
   {
    "duration": 823,
    "start_time": "2022-02-26T23:12:24.702Z"
   },
   {
    "duration": 5,
    "start_time": "2022-02-26T23:12:25.527Z"
   },
   {
    "duration": 23,
    "start_time": "2022-02-26T23:12:25.535Z"
   },
   {
    "duration": 23,
    "start_time": "2022-02-26T23:12:25.562Z"
   },
   {
    "duration": 24,
    "start_time": "2022-02-26T23:12:25.587Z"
   },
   {
    "duration": 60,
    "start_time": "2022-02-26T23:12:25.614Z"
   },
   {
    "duration": 10,
    "start_time": "2022-02-26T23:12:25.676Z"
   },
   {
    "duration": 15,
    "start_time": "2022-02-26T23:12:25.690Z"
   },
   {
    "duration": 45,
    "start_time": "2022-02-26T23:12:25.708Z"
   },
   {
    "duration": 36,
    "start_time": "2022-02-26T23:12:25.756Z"
   },
   {
    "duration": 20,
    "start_time": "2022-02-26T23:12:25.795Z"
   },
   {
    "duration": 9,
    "start_time": "2022-02-26T23:12:25.853Z"
   },
   {
    "duration": 11,
    "start_time": "2022-02-26T23:12:25.865Z"
   },
   {
    "duration": 8,
    "start_time": "2022-02-26T23:12:25.879Z"
   },
   {
    "duration": 11,
    "start_time": "2022-02-26T23:12:25.889Z"
   },
   {
    "duration": 19,
    "start_time": "2022-02-26T23:12:25.902Z"
   },
   {
    "duration": 39,
    "start_time": "2022-02-26T23:12:25.923Z"
   },
   {
    "duration": 8,
    "start_time": "2022-02-26T23:12:25.965Z"
   },
   {
    "duration": 10,
    "start_time": "2022-02-26T23:12:25.976Z"
   },
   {
    "duration": 10,
    "start_time": "2022-02-26T23:12:25.988Z"
   },
   {
    "duration": 9,
    "start_time": "2022-02-26T23:12:26.000Z"
   },
   {
    "duration": 66,
    "start_time": "2022-02-26T23:12:26.011Z"
   },
   {
    "duration": 10,
    "start_time": "2022-02-26T23:12:26.084Z"
   },
   {
    "duration": 10,
    "start_time": "2022-02-26T23:12:26.097Z"
   },
   {
    "duration": 9,
    "start_time": "2022-02-26T23:12:26.108Z"
   },
   {
    "duration": 46,
    "start_time": "2022-02-26T23:12:26.119Z"
   },
   {
    "duration": 9,
    "start_time": "2022-02-26T23:12:26.168Z"
   },
   {
    "duration": 12,
    "start_time": "2022-02-26T23:12:26.179Z"
   },
   {
    "duration": 9,
    "start_time": "2022-02-26T23:12:26.193Z"
   },
   {
    "duration": 12,
    "start_time": "2022-02-26T23:12:26.204Z"
   },
   {
    "duration": 37,
    "start_time": "2022-02-26T23:12:26.218Z"
   },
   {
    "duration": 31,
    "start_time": "2022-02-26T23:12:26.258Z"
   },
   {
    "duration": 9,
    "start_time": "2022-02-26T23:12:26.292Z"
   },
   {
    "duration": 53,
    "start_time": "2022-02-26T23:12:26.304Z"
   },
   {
    "duration": 10,
    "start_time": "2022-02-26T23:12:26.359Z"
   },
   {
    "duration": 7,
    "start_time": "2022-02-26T23:12:26.372Z"
   },
   {
    "duration": 7,
    "start_time": "2022-02-26T23:12:26.381Z"
   },
   {
    "duration": 17,
    "start_time": "2022-02-26T23:12:26.390Z"
   },
   {
    "duration": 47,
    "start_time": "2022-02-26T23:12:26.409Z"
   },
   {
    "duration": 5,
    "start_time": "2022-02-26T23:12:26.459Z"
   },
   {
    "duration": 258,
    "start_time": "2022-02-26T23:14:14.751Z"
   },
   {
    "duration": 859,
    "start_time": "2022-02-26T23:14:21.537Z"
   },
   {
    "duration": 5,
    "start_time": "2022-02-26T23:14:22.399Z"
   },
   {
    "duration": 18,
    "start_time": "2022-02-26T23:14:22.407Z"
   },
   {
    "duration": 43,
    "start_time": "2022-02-26T23:14:22.428Z"
   },
   {
    "duration": 28,
    "start_time": "2022-02-26T23:14:22.473Z"
   },
   {
    "duration": 62,
    "start_time": "2022-02-26T23:14:22.503Z"
   },
   {
    "duration": 10,
    "start_time": "2022-02-26T23:14:22.567Z"
   },
   {
    "duration": 15,
    "start_time": "2022-02-26T23:14:22.580Z"
   },
   {
    "duration": 8,
    "start_time": "2022-02-26T23:14:22.601Z"
   },
   {
    "duration": 78,
    "start_time": "2022-02-26T23:14:22.612Z"
   },
   {
    "duration": 19,
    "start_time": "2022-02-26T23:14:22.692Z"
   },
   {
    "duration": 40,
    "start_time": "2022-02-26T23:14:22.713Z"
   },
   {
    "duration": 5,
    "start_time": "2022-02-26T23:14:22.756Z"
   },
   {
    "duration": 12,
    "start_time": "2022-02-26T23:14:22.765Z"
   },
   {
    "duration": 9,
    "start_time": "2022-02-26T23:14:22.780Z"
   },
   {
    "duration": 4,
    "start_time": "2022-02-26T23:14:22.791Z"
   },
   {
    "duration": 58,
    "start_time": "2022-02-26T23:14:22.797Z"
   },
   {
    "duration": 5,
    "start_time": "2022-02-26T23:14:22.858Z"
   },
   {
    "duration": 13,
    "start_time": "2022-02-26T23:14:22.866Z"
   },
   {
    "duration": 11,
    "start_time": "2022-02-26T23:14:22.881Z"
   },
   {
    "duration": 20,
    "start_time": "2022-02-26T23:14:22.895Z"
   },
   {
    "duration": 52,
    "start_time": "2022-02-26T23:14:22.917Z"
   },
   {
    "duration": 9,
    "start_time": "2022-02-26T23:14:22.972Z"
   },
   {
    "duration": 19,
    "start_time": "2022-02-26T23:14:22.983Z"
   },
   {
    "duration": 11,
    "start_time": "2022-02-26T23:14:23.004Z"
   },
   {
    "duration": 35,
    "start_time": "2022-02-26T23:14:23.018Z"
   },
   {
    "duration": 10,
    "start_time": "2022-02-26T23:14:23.062Z"
   },
   {
    "duration": 9,
    "start_time": "2022-02-26T23:14:23.075Z"
   },
   {
    "duration": 11,
    "start_time": "2022-02-26T23:14:23.086Z"
   },
   {
    "duration": 11,
    "start_time": "2022-02-26T23:14:23.099Z"
   },
   {
    "duration": 43,
    "start_time": "2022-02-26T23:14:23.112Z"
   },
   {
    "duration": 32,
    "start_time": "2022-02-26T23:14:23.158Z"
   },
   {
    "duration": 11,
    "start_time": "2022-02-26T23:14:23.193Z"
   },
   {
    "duration": 13,
    "start_time": "2022-02-26T23:14:23.206Z"
   },
   {
    "duration": 10,
    "start_time": "2022-02-26T23:14:23.252Z"
   },
   {
    "duration": 13,
    "start_time": "2022-02-26T23:14:23.264Z"
   },
   {
    "duration": 6,
    "start_time": "2022-02-26T23:14:23.280Z"
   },
   {
    "duration": 17,
    "start_time": "2022-02-26T23:14:23.289Z"
   },
   {
    "duration": 45,
    "start_time": "2022-02-26T23:14:23.308Z"
   },
   {
    "duration": 37389,
    "start_time": "2022-02-26T23:14:23.356Z"
   },
   {
    "duration": 12,
    "start_time": "2022-02-26T23:15:00.747Z"
   },
   {
    "duration": 25,
    "start_time": "2022-02-26T23:15:00.763Z"
   },
   {
    "duration": 26,
    "start_time": "2022-02-26T23:15:00.790Z"
   },
   {
    "duration": 41,
    "start_time": "2022-02-26T23:15:00.818Z"
   },
   {
    "duration": 48,
    "start_time": "2022-02-26T23:15:00.862Z"
   },
   {
    "duration": 19,
    "start_time": "2022-02-26T23:15:00.912Z"
   },
   {
    "duration": 13,
    "start_time": "2022-02-26T23:15:00.934Z"
   },
   {
    "duration": 40,
    "start_time": "2022-02-26T23:15:00.950Z"
   },
   {
    "duration": 48,
    "start_time": "2022-02-26T23:15:00.993Z"
   },
   {
    "duration": 3053,
    "start_time": "2022-02-26T23:15:01.043Z"
   },
   {
    "duration": 1765,
    "start_time": "2022-02-26T23:15:02.333Z"
   },
   {
    "duration": 1759,
    "start_time": "2022-02-26T23:15:02.341Z"
   },
   {
    "duration": 1757,
    "start_time": "2022-02-26T23:15:02.344Z"
   },
   {
    "duration": 1756,
    "start_time": "2022-02-26T23:15:02.346Z"
   },
   {
    "duration": 1755,
    "start_time": "2022-02-26T23:15:02.349Z"
   },
   {
    "duration": 234,
    "start_time": "2022-02-26T23:18:06.362Z"
   },
   {
    "duration": 9,
    "start_time": "2022-02-26T23:18:13.576Z"
   },
   {
    "duration": 3375,
    "start_time": "2022-02-26T23:18:26.428Z"
   },
   {
    "duration": 369,
    "start_time": "2022-02-27T10:34:09.254Z"
   },
   {
    "duration": 855,
    "start_time": "2022-02-27T10:34:17.700Z"
   },
   {
    "duration": 4,
    "start_time": "2022-02-27T10:34:18.558Z"
   },
   {
    "duration": 16,
    "start_time": "2022-02-27T10:34:18.566Z"
   },
   {
    "duration": 50,
    "start_time": "2022-02-27T10:34:18.586Z"
   },
   {
    "duration": 24,
    "start_time": "2022-02-27T10:34:18.638Z"
   },
   {
    "duration": 21,
    "start_time": "2022-02-27T10:34:18.664Z"
   },
   {
    "duration": 10,
    "start_time": "2022-02-27T10:34:18.687Z"
   },
   {
    "duration": 41,
    "start_time": "2022-02-27T10:34:18.700Z"
   },
   {
    "duration": 7,
    "start_time": "2022-02-27T10:34:18.744Z"
   },
   {
    "duration": 34,
    "start_time": "2022-02-27T10:34:18.754Z"
   },
   {
    "duration": 60,
    "start_time": "2022-02-27T10:34:18.791Z"
   },
   {
    "duration": 7,
    "start_time": "2022-02-27T10:34:18.853Z"
   },
   {
    "duration": 4,
    "start_time": "2022-02-27T10:34:18.862Z"
   },
   {
    "duration": 8,
    "start_time": "2022-02-27T10:34:18.869Z"
   },
   {
    "duration": 11,
    "start_time": "2022-02-27T10:34:18.880Z"
   },
   {
    "duration": 6,
    "start_time": "2022-02-27T10:34:18.934Z"
   },
   {
    "duration": 19,
    "start_time": "2022-02-27T10:34:18.943Z"
   },
   {
    "duration": 5,
    "start_time": "2022-02-27T10:34:18.965Z"
   },
   {
    "duration": 10,
    "start_time": "2022-02-27T10:34:18.973Z"
   },
   {
    "duration": 13,
    "start_time": "2022-02-27T10:34:19.033Z"
   },
   {
    "duration": 10,
    "start_time": "2022-02-27T10:34:19.049Z"
   },
   {
    "duration": 17,
    "start_time": "2022-02-27T10:34:19.062Z"
   },
   {
    "duration": 46,
    "start_time": "2022-02-27T10:34:19.086Z"
   },
   {
    "duration": 9,
    "start_time": "2022-02-27T10:34:19.137Z"
   },
   {
    "duration": 10,
    "start_time": "2022-02-27T10:34:19.149Z"
   },
   {
    "duration": 16,
    "start_time": "2022-02-27T10:34:19.162Z"
   },
   {
    "duration": 51,
    "start_time": "2022-02-27T10:34:19.181Z"
   },
   {
    "duration": 10,
    "start_time": "2022-02-27T10:34:19.235Z"
   },
   {
    "duration": 9,
    "start_time": "2022-02-27T10:34:19.248Z"
   },
   {
    "duration": 11,
    "start_time": "2022-02-27T10:34:19.259Z"
   },
   {
    "duration": 10,
    "start_time": "2022-02-27T10:34:19.272Z"
   },
   {
    "duration": 58,
    "start_time": "2022-02-27T10:34:19.284Z"
   },
   {
    "duration": 7,
    "start_time": "2022-02-27T10:34:19.344Z"
   },
   {
    "duration": 12,
    "start_time": "2022-02-27T10:34:19.353Z"
   },
   {
    "duration": 6,
    "start_time": "2022-02-27T10:34:19.367Z"
   },
   {
    "duration": 5,
    "start_time": "2022-02-27T10:34:19.375Z"
   },
   {
    "duration": 4,
    "start_time": "2022-02-27T10:34:19.382Z"
   },
   {
    "duration": 15,
    "start_time": "2022-02-27T10:34:19.433Z"
   },
   {
    "duration": 11,
    "start_time": "2022-02-27T10:34:19.450Z"
   },
   {
    "duration": 36032,
    "start_time": "2022-02-27T10:34:19.463Z"
   },
   {
    "duration": 10,
    "start_time": "2022-02-27T10:34:55.497Z"
   },
   {
    "duration": 31,
    "start_time": "2022-02-27T10:34:55.510Z"
   },
   {
    "duration": 19,
    "start_time": "2022-02-27T10:34:55.544Z"
   },
   {
    "duration": 20,
    "start_time": "2022-02-27T10:34:55.565Z"
   },
   {
    "duration": 50,
    "start_time": "2022-02-27T10:34:55.588Z"
   },
   {
    "duration": 17,
    "start_time": "2022-02-27T10:34:55.641Z"
   },
   {
    "duration": 10,
    "start_time": "2022-02-27T10:34:55.660Z"
   },
   {
    "duration": 16,
    "start_time": "2022-02-27T10:34:55.672Z"
   },
   {
    "duration": 76,
    "start_time": "2022-02-27T10:34:55.690Z"
   },
   {
    "duration": 3942,
    "start_time": "2022-02-27T10:34:55.768Z"
   },
   {
    "duration": -203,
    "start_time": "2022-02-27T10:34:59.916Z"
   },
   {
    "duration": -206,
    "start_time": "2022-02-27T10:34:59.920Z"
   },
   {
    "duration": -209,
    "start_time": "2022-02-27T10:34:59.925Z"
   },
   {
    "duration": -212,
    "start_time": "2022-02-27T10:34:59.929Z"
   },
   {
    "duration": -215,
    "start_time": "2022-02-27T10:34:59.933Z"
   },
   {
    "duration": 9,
    "start_time": "2022-02-27T10:38:35.043Z"
   },
   {
    "duration": 284,
    "start_time": "2022-02-27T10:39:29.018Z"
   },
   {
    "duration": 7,
    "start_time": "2022-02-27T10:43:19.280Z"
   },
   {
    "duration": 7,
    "start_time": "2022-02-27T10:43:58.125Z"
   },
   {
    "duration": 319,
    "start_time": "2022-02-27T10:45:25.121Z"
   },
   {
    "duration": 4340,
    "start_time": "2022-02-27T10:45:30.175Z"
   },
   {
    "duration": 329,
    "start_time": "2022-02-27T10:47:08.980Z"
   },
   {
    "duration": 276,
    "start_time": "2022-02-27T10:47:38.156Z"
   },
   {
    "duration": 7,
    "start_time": "2022-02-27T10:47:46.157Z"
   },
   {
    "duration": 9,
    "start_time": "2022-02-27T10:49:12.788Z"
   },
   {
    "duration": 4204,
    "start_time": "2022-02-27T10:49:36.621Z"
   },
   {
    "duration": 4354,
    "start_time": "2022-02-27T10:49:58.482Z"
   },
   {
    "duration": 5,
    "start_time": "2022-02-27T10:55:32.917Z"
   },
   {
    "duration": 10,
    "start_time": "2022-02-27T10:55:45.688Z"
   },
   {
    "duration": 28,
    "start_time": "2022-02-27T10:55:53.291Z"
   },
   {
    "duration": 28,
    "start_time": "2022-02-27T10:58:26.012Z"
   },
   {
    "duration": 35,
    "start_time": "2022-02-27T10:59:15.037Z"
   },
   {
    "duration": 4,
    "start_time": "2022-02-27T10:59:34.617Z"
   },
   {
    "duration": 4,
    "start_time": "2022-02-27T11:01:24.894Z"
   },
   {
    "duration": 7062,
    "start_time": "2022-02-27T11:02:55.690Z"
   },
   {
    "duration": 27,
    "start_time": "2022-02-27T11:03:18.478Z"
   },
   {
    "duration": 4,
    "start_time": "2022-02-27T11:05:22.076Z"
   },
   {
    "duration": 41,
    "start_time": "2022-02-27T11:07:21.725Z"
   },
   {
    "duration": 287,
    "start_time": "2022-02-27T11:10:21.620Z"
   },
   {
    "duration": 4,
    "start_time": "2022-02-27T11:10:32.886Z"
   },
   {
    "duration": 35,
    "start_time": "2022-02-27T11:10:35.125Z"
   },
   {
    "duration": 362,
    "start_time": "2022-02-27T11:39:27.005Z"
   },
   {
    "duration": 41,
    "start_time": "2022-02-27T11:39:59.458Z"
   },
   {
    "duration": 38,
    "start_time": "2022-02-27T11:40:33.094Z"
   },
   {
    "duration": 32,
    "start_time": "2022-02-27T11:41:49.612Z"
   },
   {
    "duration": 38,
    "start_time": "2022-02-27T11:42:03.043Z"
   },
   {
    "duration": 38,
    "start_time": "2022-02-27T11:42:57.778Z"
   },
   {
    "duration": 27,
    "start_time": "2022-02-27T11:44:13.903Z"
   },
   {
    "duration": 837,
    "start_time": "2022-02-27T11:48:22.685Z"
   },
   {
    "duration": 5,
    "start_time": "2022-02-27T11:48:23.525Z"
   },
   {
    "duration": 16,
    "start_time": "2022-02-27T11:48:23.532Z"
   },
   {
    "duration": 21,
    "start_time": "2022-02-27T11:48:23.550Z"
   },
   {
    "duration": 24,
    "start_time": "2022-02-27T11:48:23.573Z"
   },
   {
    "duration": 47,
    "start_time": "2022-02-27T11:48:23.600Z"
   },
   {
    "duration": 8,
    "start_time": "2022-02-27T11:48:23.649Z"
   },
   {
    "duration": 15,
    "start_time": "2022-02-27T11:48:23.660Z"
   },
   {
    "duration": 7,
    "start_time": "2022-02-27T11:48:23.677Z"
   },
   {
    "duration": 75,
    "start_time": "2022-02-27T11:48:23.686Z"
   },
   {
    "duration": 20,
    "start_time": "2022-02-27T11:48:23.763Z"
   },
   {
    "duration": 8,
    "start_time": "2022-02-27T11:48:23.785Z"
   },
   {
    "duration": 5,
    "start_time": "2022-02-27T11:48:23.795Z"
   },
   {
    "duration": 37,
    "start_time": "2022-02-27T11:48:23.802Z"
   },
   {
    "duration": 9,
    "start_time": "2022-02-27T11:48:23.841Z"
   },
   {
    "duration": 4,
    "start_time": "2022-02-27T11:48:23.852Z"
   },
   {
    "duration": 15,
    "start_time": "2022-02-27T11:48:23.858Z"
   },
   {
    "duration": 4,
    "start_time": "2022-02-27T11:48:23.875Z"
   },
   {
    "duration": 9,
    "start_time": "2022-02-27T11:48:23.881Z"
   },
   {
    "duration": 48,
    "start_time": "2022-02-27T11:48:23.892Z"
   },
   {
    "duration": 9,
    "start_time": "2022-02-27T11:48:23.942Z"
   },
   {
    "duration": 16,
    "start_time": "2022-02-27T11:48:23.953Z"
   },
   {
    "duration": 9,
    "start_time": "2022-02-27T11:48:23.974Z"
   },
   {
    "duration": 47,
    "start_time": "2022-02-27T11:48:23.987Z"
   },
   {
    "duration": 10,
    "start_time": "2022-02-27T11:48:24.036Z"
   },
   {
    "duration": 14,
    "start_time": "2022-02-27T11:48:24.048Z"
   },
   {
    "duration": 7,
    "start_time": "2022-02-27T11:48:24.064Z"
   },
   {
    "duration": 9,
    "start_time": "2022-02-27T11:48:24.073Z"
   },
   {
    "duration": 53,
    "start_time": "2022-02-27T11:48:24.084Z"
   },
   {
    "duration": 11,
    "start_time": "2022-02-27T11:48:24.140Z"
   },
   {
    "duration": 10,
    "start_time": "2022-02-27T11:48:24.154Z"
   },
   {
    "duration": 23,
    "start_time": "2022-02-27T11:48:24.166Z"
   },
   {
    "duration": 43,
    "start_time": "2022-02-27T11:48:24.191Z"
   },
   {
    "duration": 12,
    "start_time": "2022-02-27T11:48:24.236Z"
   },
   {
    "duration": 8,
    "start_time": "2022-02-27T11:48:24.250Z"
   },
   {
    "duration": 8,
    "start_time": "2022-02-27T11:48:24.260Z"
   },
   {
    "duration": 4,
    "start_time": "2022-02-27T11:48:24.270Z"
   },
   {
    "duration": 60,
    "start_time": "2022-02-27T11:48:24.276Z"
   },
   {
    "duration": 10,
    "start_time": "2022-02-27T11:48:24.338Z"
   },
   {
    "duration": 35973,
    "start_time": "2022-02-27T11:48:24.350Z"
   },
   {
    "duration": 14,
    "start_time": "2022-02-27T11:49:00.325Z"
   },
   {
    "duration": 28,
    "start_time": "2022-02-27T11:49:00.342Z"
   },
   {
    "duration": 31,
    "start_time": "2022-02-27T11:49:00.372Z"
   },
   {
    "duration": 38,
    "start_time": "2022-02-27T11:49:00.405Z"
   },
   {
    "duration": 17,
    "start_time": "2022-02-27T11:49:00.445Z"
   },
   {
    "duration": 16,
    "start_time": "2022-02-27T11:49:00.465Z"
   },
   {
    "duration": 11,
    "start_time": "2022-02-27T11:49:00.483Z"
   },
   {
    "duration": 49,
    "start_time": "2022-02-27T11:49:00.496Z"
   },
   {
    "duration": 9,
    "start_time": "2022-02-27T11:49:00.547Z"
   },
   {
    "duration": 34,
    "start_time": "2022-02-27T11:49:00.558Z"
   },
   {
    "duration": 4,
    "start_time": "2022-02-27T11:49:00.594Z"
   },
   {
    "duration": 57,
    "start_time": "2022-02-27T11:49:00.600Z"
   },
   {
    "duration": 4,
    "start_time": "2022-02-27T11:49:00.659Z"
   },
   {
    "duration": 40,
    "start_time": "2022-02-27T11:49:00.665Z"
   },
   {
    "duration": 26,
    "start_time": "2022-02-27T11:49:00.707Z"
   },
   {
    "duration": 43,
    "start_time": "2022-02-27T11:49:00.736Z"
   },
   {
    "duration": 5,
    "start_time": "2022-02-27T11:54:47.800Z"
   },
   {
    "duration": 16,
    "start_time": "2022-02-27T11:56:06.240Z"
   },
   {
    "duration": 16,
    "start_time": "2022-02-27T11:57:07.210Z"
   },
   {
    "duration": 810,
    "start_time": "2022-02-27T12:04:40.666Z"
   },
   {
    "duration": 5,
    "start_time": "2022-02-27T12:04:41.479Z"
   },
   {
    "duration": 16,
    "start_time": "2022-02-27T12:04:41.487Z"
   },
   {
    "duration": 48,
    "start_time": "2022-02-27T12:04:41.506Z"
   },
   {
    "duration": 25,
    "start_time": "2022-02-27T12:04:41.557Z"
   },
   {
    "duration": 48,
    "start_time": "2022-02-27T12:04:41.584Z"
   },
   {
    "duration": 12,
    "start_time": "2022-02-27T12:04:41.635Z"
   },
   {
    "duration": 14,
    "start_time": "2022-02-27T12:04:41.650Z"
   },
   {
    "duration": 6,
    "start_time": "2022-02-27T12:04:41.667Z"
   },
   {
    "duration": 67,
    "start_time": "2022-02-27T12:04:41.675Z"
   },
   {
    "duration": 18,
    "start_time": "2022-02-27T12:04:41.745Z"
   },
   {
    "duration": 10,
    "start_time": "2022-02-27T12:04:41.765Z"
   },
   {
    "duration": 6,
    "start_time": "2022-02-27T12:04:41.777Z"
   },
   {
    "duration": 7,
    "start_time": "2022-02-27T12:04:41.785Z"
   },
   {
    "duration": 44,
    "start_time": "2022-02-27T12:04:41.794Z"
   },
   {
    "duration": 4,
    "start_time": "2022-02-27T12:04:41.841Z"
   },
   {
    "duration": 15,
    "start_time": "2022-02-27T12:04:41.847Z"
   },
   {
    "duration": 4,
    "start_time": "2022-02-27T12:04:41.864Z"
   },
   {
    "duration": 10,
    "start_time": "2022-02-27T12:04:41.870Z"
   },
   {
    "duration": 55,
    "start_time": "2022-02-27T12:04:41.882Z"
   },
   {
    "duration": 9,
    "start_time": "2022-02-27T12:04:41.939Z"
   },
   {
    "duration": 17,
    "start_time": "2022-02-27T12:04:41.950Z"
   },
   {
    "duration": 9,
    "start_time": "2022-02-27T12:04:41.972Z"
   },
   {
    "duration": 8,
    "start_time": "2022-02-27T12:04:41.984Z"
   },
   {
    "duration": 10,
    "start_time": "2022-02-27T12:04:42.032Z"
   },
   {
    "duration": 16,
    "start_time": "2022-02-27T12:04:42.044Z"
   },
   {
    "duration": 7,
    "start_time": "2022-02-27T12:04:42.062Z"
   },
   {
    "duration": 10,
    "start_time": "2022-02-27T12:04:42.071Z"
   },
   {
    "duration": 54,
    "start_time": "2022-02-27T12:04:42.083Z"
   },
   {
    "duration": 10,
    "start_time": "2022-02-27T12:04:42.140Z"
   },
   {
    "duration": 11,
    "start_time": "2022-02-27T12:04:42.152Z"
   },
   {
    "duration": 19,
    "start_time": "2022-02-27T12:04:42.165Z"
   },
   {
    "duration": 7,
    "start_time": "2022-02-27T12:04:42.186Z"
   },
   {
    "duration": 49,
    "start_time": "2022-02-27T12:04:42.195Z"
   },
   {
    "duration": 8,
    "start_time": "2022-02-27T12:04:42.246Z"
   },
   {
    "duration": 6,
    "start_time": "2022-02-27T12:04:42.257Z"
   },
   {
    "duration": 5,
    "start_time": "2022-02-27T12:04:42.265Z"
   },
   {
    "duration": 60,
    "start_time": "2022-02-27T12:04:42.272Z"
   },
   {
    "duration": 12,
    "start_time": "2022-02-27T12:04:42.335Z"
   },
   {
    "duration": 36100,
    "start_time": "2022-02-27T12:04:42.349Z"
   },
   {
    "duration": 10,
    "start_time": "2022-02-27T12:05:18.452Z"
   },
   {
    "duration": 19,
    "start_time": "2022-02-27T12:05:18.465Z"
   },
   {
    "duration": 17,
    "start_time": "2022-02-27T12:05:18.486Z"
   },
   {
    "duration": 20,
    "start_time": "2022-02-27T12:05:18.533Z"
   },
   {
    "duration": 20,
    "start_time": "2022-02-27T12:05:18.555Z"
   },
   {
    "duration": 14,
    "start_time": "2022-02-27T12:05:18.577Z"
   },
   {
    "duration": 47,
    "start_time": "2022-02-27T12:05:18.593Z"
   },
   {
    "duration": 18,
    "start_time": "2022-02-27T12:05:18.643Z"
   },
   {
    "duration": 5,
    "start_time": "2022-02-27T12:05:18.664Z"
   },
   {
    "duration": 67,
    "start_time": "2022-02-27T12:05:18.672Z"
   },
   {
    "duration": 5,
    "start_time": "2022-02-27T12:05:18.742Z"
   },
   {
    "duration": 28,
    "start_time": "2022-02-27T12:05:18.750Z"
   },
   {
    "duration": 5,
    "start_time": "2022-02-27T12:05:18.781Z"
   },
   {
    "duration": 78,
    "start_time": "2022-02-27T12:05:18.789Z"
   },
   {
    "duration": 3,
    "start_time": "2022-02-27T12:05:18.869Z"
   },
   {
    "duration": 59,
    "start_time": "2022-02-27T12:05:18.875Z"
   },
   {
    "duration": 650,
    "start_time": "2022-03-08T20:28:05.367Z"
   },
   {
    "duration": 3,
    "start_time": "2022-03-08T20:28:06.019Z"
   },
   {
    "duration": 13,
    "start_time": "2022-03-08T20:28:06.024Z"
   },
   {
    "duration": 26,
    "start_time": "2022-03-08T20:28:06.038Z"
   },
   {
    "duration": 18,
    "start_time": "2022-03-08T20:28:06.065Z"
   },
   {
    "duration": 14,
    "start_time": "2022-03-08T20:28:06.085Z"
   },
   {
    "duration": 5,
    "start_time": "2022-03-08T20:28:06.101Z"
   },
   {
    "duration": 12,
    "start_time": "2022-03-08T20:28:06.108Z"
   },
   {
    "duration": 5,
    "start_time": "2022-03-08T20:28:06.122Z"
   },
   {
    "duration": 48,
    "start_time": "2022-03-08T20:28:06.128Z"
   },
   {
    "duration": 12,
    "start_time": "2022-03-08T20:28:06.177Z"
   },
   {
    "duration": 8,
    "start_time": "2022-03-08T20:28:06.191Z"
   },
   {
    "duration": 4,
    "start_time": "2022-03-08T20:28:06.200Z"
   },
   {
    "duration": 6,
    "start_time": "2022-03-08T20:28:06.206Z"
   },
   {
    "duration": 15,
    "start_time": "2022-03-08T20:28:06.214Z"
   },
   {
    "duration": 3,
    "start_time": "2022-03-08T20:28:06.230Z"
   },
   {
    "duration": 33,
    "start_time": "2022-03-08T20:28:06.235Z"
   },
   {
    "duration": 10,
    "start_time": "2022-03-08T20:28:06.269Z"
   },
   {
    "duration": 17,
    "start_time": "2022-03-08T20:28:06.281Z"
   },
   {
    "duration": 9,
    "start_time": "2022-03-08T20:28:06.299Z"
   },
   {
    "duration": 6,
    "start_time": "2022-03-08T20:28:06.309Z"
   },
   {
    "duration": 290,
    "start_time": "2022-03-08T20:28:06.317Z"
   },
   {
    "duration": 712,
    "start_time": "2022-03-08T20:28:05.898Z"
   },
   {
    "duration": 708,
    "start_time": "2022-03-08T20:28:05.903Z"
   },
   {
    "duration": 705,
    "start_time": "2022-03-08T20:28:05.907Z"
   },
   {
    "duration": 702,
    "start_time": "2022-03-08T20:28:05.911Z"
   },
   {
    "duration": 700,
    "start_time": "2022-03-08T20:28:05.914Z"
   },
   {
    "duration": 697,
    "start_time": "2022-03-08T20:28:05.918Z"
   },
   {
    "duration": 696,
    "start_time": "2022-03-08T20:28:05.920Z"
   },
   {
    "duration": 693,
    "start_time": "2022-03-08T20:28:05.924Z"
   },
   {
    "duration": 692,
    "start_time": "2022-03-08T20:28:05.926Z"
   },
   {
    "duration": 690,
    "start_time": "2022-03-08T20:28:05.929Z"
   },
   {
    "duration": 689,
    "start_time": "2022-03-08T20:28:05.931Z"
   },
   {
    "duration": 687,
    "start_time": "2022-03-08T20:28:05.934Z"
   },
   {
    "duration": 685,
    "start_time": "2022-03-08T20:28:05.937Z"
   },
   {
    "duration": 683,
    "start_time": "2022-03-08T20:28:05.940Z"
   },
   {
    "duration": 681,
    "start_time": "2022-03-08T20:28:05.943Z"
   },
   {
    "duration": 679,
    "start_time": "2022-03-08T20:28:05.946Z"
   },
   {
    "duration": 677,
    "start_time": "2022-03-08T20:28:05.949Z"
   },
   {
    "duration": 675,
    "start_time": "2022-03-08T20:28:05.952Z"
   },
   {
    "duration": 674,
    "start_time": "2022-03-08T20:28:05.954Z"
   },
   {
    "duration": 672,
    "start_time": "2022-03-08T20:28:05.957Z"
   },
   {
    "duration": 669,
    "start_time": "2022-03-08T20:28:05.960Z"
   },
   {
    "duration": 668,
    "start_time": "2022-03-08T20:28:05.963Z"
   },
   {
    "duration": 667,
    "start_time": "2022-03-08T20:28:05.965Z"
   },
   {
    "duration": 665,
    "start_time": "2022-03-08T20:28:05.968Z"
   },
   {
    "duration": 664,
    "start_time": "2022-03-08T20:28:05.970Z"
   },
   {
    "duration": 662,
    "start_time": "2022-03-08T20:28:05.973Z"
   },
   {
    "duration": 661,
    "start_time": "2022-03-08T20:28:05.975Z"
   },
   {
    "duration": 658,
    "start_time": "2022-03-08T20:28:05.978Z"
   },
   {
    "duration": 656,
    "start_time": "2022-03-08T20:28:05.981Z"
   },
   {
    "duration": 655,
    "start_time": "2022-03-08T20:28:05.983Z"
   },
   {
    "duration": 653,
    "start_time": "2022-03-08T20:28:05.986Z"
   },
   {
    "duration": 652,
    "start_time": "2022-03-08T20:28:05.988Z"
   },
   {
    "duration": 641,
    "start_time": "2022-03-08T20:28:06.000Z"
   },
   {
    "duration": 638,
    "start_time": "2022-03-08T20:28:06.004Z"
   },
   {
    "duration": 296,
    "start_time": "2022-03-08T20:29:57.625Z"
   },
   {
    "duration": 250,
    "start_time": "2022-03-08T20:31:49.911Z"
   },
   {
    "duration": 12,
    "start_time": "2022-03-08T20:33:02.538Z"
   },
   {
    "duration": 7,
    "start_time": "2022-03-08T20:33:11.487Z"
   },
   {
    "duration": 10,
    "start_time": "2022-03-08T20:33:23.830Z"
   },
   {
    "duration": 10,
    "start_time": "2022-03-08T20:33:27.942Z"
   },
   {
    "duration": 6,
    "start_time": "2022-03-08T20:37:54.517Z"
   },
   {
    "duration": 7,
    "start_time": "2022-03-08T20:37:56.365Z"
   },
   {
    "duration": 14,
    "start_time": "2022-03-08T20:37:57.956Z"
   },
   {
    "duration": 6,
    "start_time": "2022-03-08T20:37:59.487Z"
   },
   {
    "duration": 7,
    "start_time": "2022-03-08T20:38:00.917Z"
   },
   {
    "duration": 6,
    "start_time": "2022-03-08T20:38:01.953Z"
   },
   {
    "duration": 7,
    "start_time": "2022-03-08T20:38:03.331Z"
   },
   {
    "duration": 9,
    "start_time": "2022-03-08T20:38:05.367Z"
   },
   {
    "duration": 16,
    "start_time": "2022-03-08T20:38:12.939Z"
   },
   {
    "duration": 6,
    "start_time": "2022-03-08T20:38:15.018Z"
   },
   {
    "duration": 9,
    "start_time": "2022-03-08T20:38:17.414Z"
   },
   {
    "duration": 6,
    "start_time": "2022-03-08T20:38:19.230Z"
   },
   {
    "duration": 5,
    "start_time": "2022-03-08T20:38:20.566Z"
   },
   {
    "duration": 4,
    "start_time": "2022-03-08T20:38:24.741Z"
   },
   {
    "duration": 11,
    "start_time": "2022-03-08T20:38:25.874Z"
   },
   {
    "duration": 9,
    "start_time": "2022-03-08T20:38:54.244Z"
   },
   {
    "duration": 21928,
    "start_time": "2022-03-08T20:38:57.311Z"
   },
   {
    "duration": 6,
    "start_time": "2022-03-08T20:39:19.241Z"
   },
   {
    "duration": 21,
    "start_time": "2022-03-08T20:39:19.249Z"
   },
   {
    "duration": 71,
    "start_time": "2022-03-08T20:39:51.421Z"
   },
   {
    "duration": 17,
    "start_time": "2022-03-08T20:49:59.711Z"
   },
   {
    "duration": 93,
    "start_time": "2022-03-08T20:50:02.749Z"
   },
   {
    "duration": 17,
    "start_time": "2022-03-08T20:50:12.696Z"
   },
   {
    "duration": 17,
    "start_time": "2022-03-08T20:50:13.841Z"
   },
   {
    "duration": 12,
    "start_time": "2022-03-08T20:52:16.411Z"
   },
   {
    "duration": 11,
    "start_time": "2022-03-08T20:52:18.379Z"
   },
   {
    "duration": 13,
    "start_time": "2022-03-08T20:52:34.932Z"
   },
   {
    "duration": 12,
    "start_time": "2022-03-08T20:52:37.725Z"
   },
   {
    "duration": 9,
    "start_time": "2022-03-08T20:52:41.529Z"
   },
   {
    "duration": 10,
    "start_time": "2022-03-08T20:52:43.610Z"
   },
   {
    "duration": 236,
    "start_time": "2022-03-08T20:56:08.236Z"
   },
   {
    "duration": 226,
    "start_time": "2022-03-08T20:57:39.829Z"
   },
   {
    "duration": 13,
    "start_time": "2022-03-08T20:57:52.280Z"
   },
   {
    "duration": 248,
    "start_time": "2022-03-08T21:02:07.572Z"
   },
   {
    "duration": 21,
    "start_time": "2022-03-08T21:02:35.823Z"
   },
   {
    "duration": 3,
    "start_time": "2022-03-08T21:02:58.641Z"
   },
   {
    "duration": 18,
    "start_time": "2022-03-08T21:03:05.324Z"
   },
   {
    "duration": 218,
    "start_time": "2022-03-08T21:03:57.850Z"
   },
   {
    "duration": 21,
    "start_time": "2022-03-08T21:04:06.506Z"
   },
   {
    "duration": 22,
    "start_time": "2022-03-08T21:04:43.642Z"
   },
   {
    "duration": 3,
    "start_time": "2022-03-08T21:04:49.900Z"
   },
   {
    "duration": 18,
    "start_time": "2022-03-08T21:04:51.916Z"
   },
   {
    "duration": 13,
    "start_time": "2022-03-08T21:06:08.573Z"
   },
   {
    "duration": 12,
    "start_time": "2022-03-08T21:06:35.837Z"
   },
   {
    "duration": 265,
    "start_time": "2022-03-08T21:08:36.756Z"
   },
   {
    "duration": 15,
    "start_time": "2022-03-08T21:09:03.174Z"
   },
   {
    "duration": 293,
    "start_time": "2022-03-08T21:09:08.721Z"
   },
   {
    "duration": 3,
    "start_time": "2022-03-08T21:09:14.070Z"
   },
   {
    "duration": 29,
    "start_time": "2022-03-08T21:09:16.746Z"
   },
   {
    "duration": 21,
    "start_time": "2022-03-08T21:12:35.844Z"
   },
   {
    "duration": 3,
    "start_time": "2022-03-08T21:12:39.447Z"
   },
   {
    "duration": 24,
    "start_time": "2022-03-08T21:12:43.167Z"
   },
   {
    "duration": 79,
    "start_time": "2022-03-08T21:13:38.031Z"
   },
   {
    "duration": 9,
    "start_time": "2022-03-08T21:22:15.344Z"
   },
   {
    "duration": 6,
    "start_time": "2022-03-08T21:22:44.296Z"
   },
   {
    "duration": 243,
    "start_time": "2022-03-08T21:23:00.995Z"
   },
   {
    "duration": 8,
    "start_time": "2022-03-08T21:23:10.614Z"
   },
   {
    "duration": 6,
    "start_time": "2022-03-08T21:23:16.637Z"
   },
   {
    "duration": 155,
    "start_time": "2022-03-08T21:24:33.459Z"
   },
   {
    "duration": 4,
    "start_time": "2022-03-08T21:24:55.059Z"
   },
   {
    "duration": 6,
    "start_time": "2022-03-08T21:25:00.324Z"
   },
   {
    "duration": 11,
    "start_time": "2022-03-08T21:25:13.484Z"
   },
   {
    "duration": 4,
    "start_time": "2022-03-08T21:25:14.722Z"
   },
   {
    "duration": 6,
    "start_time": "2022-03-08T21:25:15.741Z"
   },
   {
    "duration": 7,
    "start_time": "2022-03-08T21:25:35.927Z"
   },
   {
    "duration": 8,
    "start_time": "2022-03-08T21:25:47.667Z"
   },
   {
    "duration": 10,
    "start_time": "2022-03-08T21:27:49.919Z"
   },
   {
    "duration": 3,
    "start_time": "2022-03-08T21:27:56.571Z"
   },
   {
    "duration": 7,
    "start_time": "2022-03-08T21:27:59.058Z"
   },
   {
    "duration": 7,
    "start_time": "2022-03-08T21:28:25.294Z"
   },
   {
    "duration": 13,
    "start_time": "2022-03-08T21:29:25.490Z"
   },
   {
    "duration": 16,
    "start_time": "2022-03-08T21:29:41.501Z"
   },
   {
    "duration": 22,
    "start_time": "2022-03-08T21:29:53.984Z"
   },
   {
    "duration": 11,
    "start_time": "2022-03-08T21:32:16.183Z"
   },
   {
    "duration": 3,
    "start_time": "2022-03-08T21:32:17.125Z"
   },
   {
    "duration": 7,
    "start_time": "2022-03-08T21:32:18.252Z"
   },
   {
    "duration": 3,
    "start_time": "2022-03-08T21:32:34.075Z"
   },
   {
    "duration": 7,
    "start_time": "2022-03-08T21:32:35.249Z"
   },
   {
    "duration": 9,
    "start_time": "2022-03-08T21:33:01.165Z"
   },
   {
    "duration": 4,
    "start_time": "2022-03-08T21:33:03.742Z"
   },
   {
    "duration": 6,
    "start_time": "2022-03-08T21:33:07.886Z"
   },
   {
    "duration": 14,
    "start_time": "2022-03-08T21:33:22.073Z"
   },
   {
    "duration": 14,
    "start_time": "2022-03-08T21:35:03.217Z"
   },
   {
    "duration": 15,
    "start_time": "2022-03-08T21:35:46.055Z"
   },
   {
    "duration": 14,
    "start_time": "2022-03-08T21:35:51.765Z"
   },
   {
    "duration": 15,
    "start_time": "2022-03-08T21:36:29.469Z"
   },
   {
    "duration": 217,
    "start_time": "2022-03-08T21:38:04.179Z"
   },
   {
    "duration": 10,
    "start_time": "2022-03-08T21:38:09.572Z"
   },
   {
    "duration": 4,
    "start_time": "2022-03-08T21:38:11.525Z"
   },
   {
    "duration": 7,
    "start_time": "2022-03-08T21:38:13.945Z"
   },
   {
    "duration": 217,
    "start_time": "2022-03-08T21:40:18.502Z"
   },
   {
    "duration": 12,
    "start_time": "2022-03-08T21:40:22.103Z"
   },
   {
    "duration": 4,
    "start_time": "2022-03-08T21:40:23.472Z"
   },
   {
    "duration": 7,
    "start_time": "2022-03-08T21:40:24.689Z"
   },
   {
    "duration": 589,
    "start_time": "2022-03-08T21:40:56.813Z"
   },
   {
    "duration": 3,
    "start_time": "2022-03-08T21:40:57.404Z"
   },
   {
    "duration": 12,
    "start_time": "2022-03-08T21:40:57.409Z"
   },
   {
    "duration": 7,
    "start_time": "2022-03-08T21:40:57.423Z"
   },
   {
    "duration": 40,
    "start_time": "2022-03-08T21:40:57.432Z"
   },
   {
    "duration": 5,
    "start_time": "2022-03-08T21:40:57.474Z"
   },
   {
    "duration": 22,
    "start_time": "2022-03-08T21:40:57.481Z"
   },
   {
    "duration": 13,
    "start_time": "2022-03-08T21:40:57.506Z"
   },
   {
    "duration": 6,
    "start_time": "2022-03-08T21:40:57.521Z"
   },
   {
    "duration": 36,
    "start_time": "2022-03-08T21:40:57.529Z"
   },
   {
    "duration": 7,
    "start_time": "2022-03-08T21:40:57.566Z"
   },
   {
    "duration": 8,
    "start_time": "2022-03-08T21:40:57.574Z"
   },
   {
    "duration": 3,
    "start_time": "2022-03-08T21:40:57.584Z"
   },
   {
    "duration": 13,
    "start_time": "2022-03-08T21:40:57.588Z"
   },
   {
    "duration": 4,
    "start_time": "2022-03-08T21:40:57.603Z"
   },
   {
    "duration": 7,
    "start_time": "2022-03-08T21:40:57.609Z"
   },
   {
    "duration": 10,
    "start_time": "2022-03-08T21:40:57.618Z"
   },
   {
    "duration": 35,
    "start_time": "2022-03-08T21:40:57.629Z"
   },
   {
    "duration": 13,
    "start_time": "2022-03-08T21:40:57.665Z"
   },
   {
    "duration": 10,
    "start_time": "2022-03-08T21:40:57.679Z"
   },
   {
    "duration": 7,
    "start_time": "2022-03-08T21:40:57.691Z"
   },
   {
    "duration": 7,
    "start_time": "2022-03-08T21:40:57.699Z"
   },
   {
    "duration": 12,
    "start_time": "2022-03-08T21:40:57.710Z"
   },
   {
    "duration": 5,
    "start_time": "2022-03-08T21:40:57.724Z"
   },
   {
    "duration": 7,
    "start_time": "2022-03-08T21:40:57.764Z"
   },
   {
    "duration": 9,
    "start_time": "2022-03-08T21:40:57.772Z"
   },
   {
    "duration": 8,
    "start_time": "2022-03-08T21:40:57.783Z"
   },
   {
    "duration": 9,
    "start_time": "2022-03-08T21:40:57.793Z"
   },
   {
    "duration": 15,
    "start_time": "2022-03-08T21:40:57.804Z"
   },
   {
    "duration": 5,
    "start_time": "2022-03-08T21:40:57.820Z"
   },
   {
    "duration": 40,
    "start_time": "2022-03-08T21:40:57.827Z"
   },
   {
    "duration": 6,
    "start_time": "2022-03-08T21:40:57.869Z"
   },
   {
    "duration": 6,
    "start_time": "2022-03-08T21:40:57.876Z"
   },
   {
    "duration": 6,
    "start_time": "2022-03-08T21:40:57.883Z"
   },
   {
    "duration": 14,
    "start_time": "2022-03-08T21:40:57.891Z"
   },
   {
    "duration": 8,
    "start_time": "2022-03-08T21:40:57.907Z"
   },
   {
    "duration": 22232,
    "start_time": "2022-03-08T21:40:57.917Z"
   },
   {
    "duration": 13,
    "start_time": "2022-03-08T21:41:20.151Z"
   },
   {
    "duration": 11,
    "start_time": "2022-03-08T21:41:20.166Z"
   },
   {
    "duration": 33,
    "start_time": "2022-03-08T21:41:20.178Z"
   },
   {
    "duration": 18,
    "start_time": "2022-03-08T21:41:20.213Z"
   },
   {
    "duration": 31,
    "start_time": "2022-03-08T21:41:20.232Z"
   },
   {
    "duration": 11,
    "start_time": "2022-03-08T21:41:20.265Z"
   },
   {
    "duration": 15,
    "start_time": "2022-03-08T21:41:20.277Z"
   },
   {
    "duration": 16,
    "start_time": "2022-03-08T21:41:20.294Z"
   },
   {
    "duration": 10,
    "start_time": "2022-03-08T21:41:20.312Z"
   },
   {
    "duration": 7,
    "start_time": "2022-03-08T21:41:20.323Z"
   },
   {
    "duration": 35,
    "start_time": "2022-03-08T21:41:20.332Z"
   },
   {
    "duration": 11,
    "start_time": "2022-03-08T21:41:20.369Z"
   },
   {
    "duration": 7,
    "start_time": "2022-03-08T21:41:20.381Z"
   },
   {
    "duration": 6,
    "start_time": "2022-03-08T21:41:20.390Z"
   },
   {
    "duration": 10,
    "start_time": "2022-03-08T21:41:20.398Z"
   },
   {
    "duration": 3,
    "start_time": "2022-03-08T21:41:20.410Z"
   },
   {
    "duration": 10,
    "start_time": "2022-03-08T21:41:20.414Z"
   },
   {
    "duration": 49,
    "start_time": "2022-03-08T21:41:20.425Z"
   },
   {
    "duration": 12,
    "start_time": "2022-03-08T21:41:20.476Z"
   },
   {
    "duration": 3,
    "start_time": "2022-03-08T21:41:20.490Z"
   },
   {
    "duration": 8,
    "start_time": "2022-03-08T21:41:20.495Z"
   },
   {
    "duration": 11,
    "start_time": "2022-03-08T21:41:20.505Z"
   },
   {
    "duration": 4,
    "start_time": "2022-03-08T21:41:20.518Z"
   },
   {
    "duration": 43,
    "start_time": "2022-03-08T21:41:20.524Z"
   },
   {
    "duration": 13,
    "start_time": "2022-03-08T21:46:46.047Z"
   },
   {
    "duration": 286,
    "start_time": "2022-03-08T21:48:23.706Z"
   },
   {
    "duration": 12,
    "start_time": "2022-03-08T21:48:39.284Z"
   },
   {
    "duration": 222,
    "start_time": "2022-03-08T21:50:20.276Z"
   },
   {
    "duration": 231,
    "start_time": "2022-03-08T21:50:31.990Z"
   },
   {
    "duration": 228,
    "start_time": "2022-03-08T21:50:40.067Z"
   },
   {
    "duration": 259,
    "start_time": "2022-03-08T21:50:50.404Z"
   },
   {
    "duration": 6,
    "start_time": "2022-03-08T21:51:43.893Z"
   },
   {
    "duration": 22,
    "start_time": "2022-03-08T21:51:52.591Z"
   },
   {
    "duration": 9,
    "start_time": "2022-03-08T21:52:13.309Z"
   },
   {
    "duration": 23,
    "start_time": "2022-03-08T21:52:33.883Z"
   },
   {
    "duration": 20,
    "start_time": "2022-03-08T21:52:49.487Z"
   },
   {
    "duration": 9,
    "start_time": "2022-03-08T21:53:27.969Z"
   },
   {
    "duration": 10,
    "start_time": "2022-03-08T21:53:36.076Z"
   },
   {
    "duration": 8,
    "start_time": "2022-03-08T21:53:49.524Z"
   },
   {
    "duration": 10,
    "start_time": "2022-03-08T21:53:59.587Z"
   },
   {
    "duration": 5,
    "start_time": "2022-03-08T21:54:18.113Z"
   },
   {
    "duration": 336,
    "start_time": "2022-03-09T07:28:20.686Z"
   },
   {
    "duration": 875,
    "start_time": "2022-03-09T07:28:33.369Z"
   },
   {
    "duration": 5,
    "start_time": "2022-03-09T07:28:34.247Z"
   },
   {
    "duration": 28,
    "start_time": "2022-03-09T07:28:34.255Z"
   },
   {
    "duration": 6,
    "start_time": "2022-03-09T07:28:34.286Z"
   },
   {
    "duration": 14,
    "start_time": "2022-03-09T07:28:34.295Z"
   },
   {
    "duration": 7,
    "start_time": "2022-03-09T07:28:34.311Z"
   },
   {
    "duration": 68,
    "start_time": "2022-03-09T07:28:34.321Z"
   },
   {
    "duration": 20,
    "start_time": "2022-03-09T07:28:34.392Z"
   },
   {
    "duration": 10,
    "start_time": "2022-03-09T07:28:34.415Z"
   },
   {
    "duration": 7,
    "start_time": "2022-03-09T07:28:34.428Z"
   },
   {
    "duration": 13,
    "start_time": "2022-03-09T07:28:34.437Z"
   },
   {
    "duration": 38,
    "start_time": "2022-03-09T07:28:34.453Z"
   },
   {
    "duration": 5,
    "start_time": "2022-03-09T07:28:34.494Z"
   },
   {
    "duration": 22,
    "start_time": "2022-03-09T07:28:34.501Z"
   },
   {
    "duration": 21,
    "start_time": "2022-03-09T07:28:34.526Z"
   },
   {
    "duration": 18,
    "start_time": "2022-03-09T07:28:34.550Z"
   },
   {
    "duration": 21,
    "start_time": "2022-03-09T07:28:34.571Z"
   },
   {
    "duration": 14,
    "start_time": "2022-03-09T07:28:34.595Z"
   },
   {
    "duration": 17,
    "start_time": "2022-03-09T07:28:34.612Z"
   },
   {
    "duration": 15,
    "start_time": "2022-03-09T07:28:34.632Z"
   },
   {
    "duration": 9,
    "start_time": "2022-03-09T07:28:34.683Z"
   },
   {
    "duration": 10,
    "start_time": "2022-03-09T07:28:34.694Z"
   },
   {
    "duration": 18,
    "start_time": "2022-03-09T07:28:34.710Z"
   },
   {
    "duration": 7,
    "start_time": "2022-03-09T07:28:34.731Z"
   },
   {
    "duration": 47,
    "start_time": "2022-03-09T07:28:34.740Z"
   },
   {
    "duration": 13,
    "start_time": "2022-03-09T07:28:34.790Z"
   },
   {
    "duration": 13,
    "start_time": "2022-03-09T07:28:34.805Z"
   },
   {
    "duration": 20,
    "start_time": "2022-03-09T07:28:34.820Z"
   },
   {
    "duration": 40,
    "start_time": "2022-03-09T07:28:34.843Z"
   },
   {
    "duration": 14,
    "start_time": "2022-03-09T07:28:34.885Z"
   },
   {
    "duration": 25,
    "start_time": "2022-03-09T07:28:34.901Z"
   },
   {
    "duration": 14,
    "start_time": "2022-03-09T07:28:34.928Z"
   },
   {
    "duration": 14,
    "start_time": "2022-03-09T07:28:34.944Z"
   },
   {
    "duration": 15,
    "start_time": "2022-03-09T07:28:34.960Z"
   },
   {
    "duration": 23,
    "start_time": "2022-03-09T07:28:34.978Z"
   },
   {
    "duration": 12,
    "start_time": "2022-03-09T07:28:35.003Z"
   },
   {
    "duration": 34988,
    "start_time": "2022-03-09T07:28:35.017Z"
   },
   {
    "duration": 9,
    "start_time": "2022-03-09T07:29:10.008Z"
   },
   {
    "duration": 26,
    "start_time": "2022-03-09T07:29:10.019Z"
   },
   {
    "duration": 45,
    "start_time": "2022-03-09T07:29:10.047Z"
   },
   {
    "duration": 22,
    "start_time": "2022-03-09T07:29:10.095Z"
   },
   {
    "duration": 21,
    "start_time": "2022-03-09T07:29:10.119Z"
   },
   {
    "duration": 41,
    "start_time": "2022-03-09T07:29:10.142Z"
   },
   {
    "duration": 23,
    "start_time": "2022-03-09T07:29:10.186Z"
   },
   {
    "duration": 19,
    "start_time": "2022-03-09T07:29:10.211Z"
   },
   {
    "duration": 14,
    "start_time": "2022-03-09T07:29:10.232Z"
   },
   {
    "duration": 34,
    "start_time": "2022-03-09T07:29:10.249Z"
   },
   {
    "duration": 17,
    "start_time": "2022-03-09T07:29:10.285Z"
   },
   {
    "duration": 15,
    "start_time": "2022-03-09T07:29:10.305Z"
   },
   {
    "duration": 12,
    "start_time": "2022-03-09T07:29:10.322Z"
   },
   {
    "duration": 19,
    "start_time": "2022-03-09T07:29:10.337Z"
   },
   {
    "duration": 36,
    "start_time": "2022-03-09T07:29:10.358Z"
   },
   {
    "duration": 5,
    "start_time": "2022-03-09T07:29:10.396Z"
   },
   {
    "duration": 14,
    "start_time": "2022-03-09T07:29:10.403Z"
   },
   {
    "duration": 9,
    "start_time": "2022-03-09T07:29:10.420Z"
   },
   {
    "duration": 11,
    "start_time": "2022-03-09T07:29:10.432Z"
   },
   {
    "duration": 43,
    "start_time": "2022-03-09T07:29:10.445Z"
   },
   {
    "duration": 15,
    "start_time": "2022-03-09T07:29:10.490Z"
   },
   {
    "duration": 4,
    "start_time": "2022-03-09T07:29:10.507Z"
   },
   {
    "duration": 17,
    "start_time": "2022-03-09T07:29:10.513Z"
   },
   {
    "duration": 16,
    "start_time": "2022-03-09T07:29:10.533Z"
   },
   {
    "duration": 4,
    "start_time": "2022-03-09T07:29:10.552Z"
   },
   {
    "duration": 9,
    "start_time": "2022-03-09T07:29:10.582Z"
   },
   {
    "duration": 15,
    "start_time": "2022-03-09T07:31:11.857Z"
   },
   {
    "duration": 12,
    "start_time": "2022-03-09T07:31:28.921Z"
   },
   {
    "duration": 15,
    "start_time": "2022-03-09T07:31:30.890Z"
   },
   {
    "duration": 387,
    "start_time": "2022-03-09T07:33:16.655Z"
   },
   {
    "duration": 11,
    "start_time": "2022-03-09T07:35:20.414Z"
   },
   {
    "duration": 254,
    "start_time": "2022-03-09T07:35:25.438Z"
   },
   {
    "duration": 9,
    "start_time": "2022-03-09T07:37:05.117Z"
   },
   {
    "duration": 15,
    "start_time": "2022-03-09T07:37:08.861Z"
   },
   {
    "duration": 259,
    "start_time": "2022-03-09T07:40:52.306Z"
   },
   {
    "duration": 263,
    "start_time": "2022-03-09T07:41:02.562Z"
   },
   {
    "duration": 5,
    "start_time": "2022-03-09T07:41:43.265Z"
   },
   {
    "duration": 13,
    "start_time": "2022-03-09T07:41:48.488Z"
   },
   {
    "duration": 21,
    "start_time": "2022-03-09T07:41:50.881Z"
   },
   {
    "duration": 5,
    "start_time": "2022-03-09T07:42:03.568Z"
   },
   {
    "duration": 241,
    "start_time": "2022-03-09T07:42:06.168Z"
   },
   {
    "duration": 247,
    "start_time": "2022-03-09T07:43:46.687Z"
   },
   {
    "duration": 245,
    "start_time": "2022-03-09T07:44:12.471Z"
   },
   {
    "duration": 907,
    "start_time": "2022-03-09T07:44:28.282Z"
   },
   {
    "duration": 6,
    "start_time": "2022-03-09T07:44:29.192Z"
   },
   {
    "duration": 19,
    "start_time": "2022-03-09T07:44:29.202Z"
   },
   {
    "duration": 15,
    "start_time": "2022-03-09T07:44:29.224Z"
   },
   {
    "duration": 44,
    "start_time": "2022-03-09T07:44:29.242Z"
   },
   {
    "duration": 9,
    "start_time": "2022-03-09T07:44:29.289Z"
   },
   {
    "duration": 37,
    "start_time": "2022-03-09T07:44:29.301Z"
   },
   {
    "duration": 59,
    "start_time": "2022-03-09T07:44:29.344Z"
   },
   {
    "duration": 12,
    "start_time": "2022-03-09T07:44:29.407Z"
   },
   {
    "duration": 17,
    "start_time": "2022-03-09T07:44:29.422Z"
   },
   {
    "duration": 15,
    "start_time": "2022-03-09T07:44:29.442Z"
   },
   {
    "duration": 28,
    "start_time": "2022-03-09T07:44:29.460Z"
   },
   {
    "duration": 10,
    "start_time": "2022-03-09T07:44:29.491Z"
   },
   {
    "duration": 19,
    "start_time": "2022-03-09T07:44:29.503Z"
   },
   {
    "duration": 5,
    "start_time": "2022-03-09T07:44:29.525Z"
   },
   {
    "duration": 17,
    "start_time": "2022-03-09T07:44:29.533Z"
   },
   {
    "duration": 44,
    "start_time": "2022-03-09T07:44:29.552Z"
   },
   {
    "duration": 15,
    "start_time": "2022-03-09T07:44:29.598Z"
   },
   {
    "duration": 31,
    "start_time": "2022-03-09T07:44:29.616Z"
   },
   {
    "duration": 22,
    "start_time": "2022-03-09T07:44:29.649Z"
   },
   {
    "duration": 28,
    "start_time": "2022-03-09T07:44:29.673Z"
   },
   {
    "duration": 13,
    "start_time": "2022-03-09T07:44:29.704Z"
   },
   {
    "duration": 22,
    "start_time": "2022-03-09T07:44:29.726Z"
   },
   {
    "duration": 8,
    "start_time": "2022-03-09T07:44:29.751Z"
   },
   {
    "duration": 10,
    "start_time": "2022-03-09T07:44:29.782Z"
   },
   {
    "duration": 12,
    "start_time": "2022-03-09T07:44:29.794Z"
   },
   {
    "duration": 11,
    "start_time": "2022-03-09T07:44:29.809Z"
   },
   {
    "duration": 9,
    "start_time": "2022-03-09T07:44:29.823Z"
   },
   {
    "duration": 58,
    "start_time": "2022-03-09T07:44:29.835Z"
   },
   {
    "duration": 9,
    "start_time": "2022-03-09T07:44:29.896Z"
   },
   {
    "duration": 14,
    "start_time": "2022-03-09T07:44:29.907Z"
   },
   {
    "duration": 7,
    "start_time": "2022-03-09T07:44:29.923Z"
   },
   {
    "duration": 50,
    "start_time": "2022-03-09T07:44:29.933Z"
   },
   {
    "duration": 5,
    "start_time": "2022-03-09T07:44:29.986Z"
   },
   {
    "duration": 21,
    "start_time": "2022-03-09T07:44:29.993Z"
   },
   {
    "duration": 11,
    "start_time": "2022-03-09T07:44:30.017Z"
   },
   {
    "duration": 37008,
    "start_time": "2022-03-09T07:44:30.030Z"
   },
   {
    "duration": 9,
    "start_time": "2022-03-09T07:45:07.040Z"
   },
   {
    "duration": 33,
    "start_time": "2022-03-09T07:45:07.052Z"
   },
   {
    "duration": 29,
    "start_time": "2022-03-09T07:45:07.088Z"
   },
   {
    "duration": 24,
    "start_time": "2022-03-09T07:45:07.120Z"
   },
   {
    "duration": 52,
    "start_time": "2022-03-09T07:45:07.146Z"
   },
   {
    "duration": 17,
    "start_time": "2022-03-09T07:45:07.201Z"
   },
   {
    "duration": 20,
    "start_time": "2022-03-09T07:45:07.221Z"
   },
   {
    "duration": 50,
    "start_time": "2022-03-09T07:45:07.244Z"
   },
   {
    "duration": 17,
    "start_time": "2022-03-09T07:45:07.297Z"
   },
   {
    "duration": 10,
    "start_time": "2022-03-09T07:45:07.317Z"
   },
   {
    "duration": 52,
    "start_time": "2022-03-09T07:45:07.330Z"
   },
   {
    "duration": 16,
    "start_time": "2022-03-09T07:45:07.385Z"
   },
   {
    "duration": 17,
    "start_time": "2022-03-09T07:45:07.404Z"
   },
   {
    "duration": 10,
    "start_time": "2022-03-09T07:45:07.423Z"
   },
   {
    "duration": 15,
    "start_time": "2022-03-09T07:45:07.435Z"
   },
   {
    "duration": 6,
    "start_time": "2022-03-09T07:45:07.483Z"
   },
   {
    "duration": 12,
    "start_time": "2022-03-09T07:45:07.492Z"
   },
   {
    "duration": 7,
    "start_time": "2022-03-09T07:45:07.507Z"
   },
   {
    "duration": 457,
    "start_time": "2022-03-09T07:45:07.517Z"
   },
   {
    "duration": -39,
    "start_time": "2022-03-09T07:45:08.016Z"
   },
   {
    "duration": -42,
    "start_time": "2022-03-09T07:45:08.020Z"
   },
   {
    "duration": -45,
    "start_time": "2022-03-09T07:45:08.025Z"
   },
   {
    "duration": -46,
    "start_time": "2022-03-09T07:45:08.028Z"
   },
   {
    "duration": -48,
    "start_time": "2022-03-09T07:45:08.031Z"
   },
   {
    "duration": -48,
    "start_time": "2022-03-09T07:45:08.033Z"
   },
   {
    "duration": -51,
    "start_time": "2022-03-09T07:45:08.037Z"
   },
   {
    "duration": 239,
    "start_time": "2022-03-09T07:46:06.101Z"
   },
   {
    "duration": 15,
    "start_time": "2022-03-09T07:46:17.949Z"
   },
   {
    "duration": 5,
    "start_time": "2022-03-09T07:46:21.437Z"
   },
   {
    "duration": 10,
    "start_time": "2022-03-09T07:46:23.613Z"
   },
   {
    "duration": 9,
    "start_time": "2022-03-09T07:46:30.669Z"
   },
   {
    "duration": 10,
    "start_time": "2022-03-09T07:46:43.701Z"
   },
   {
    "duration": 16,
    "start_time": "2022-03-09T07:46:46.660Z"
   },
   {
    "duration": 16,
    "start_time": "2022-03-09T08:03:56.480Z"
   },
   {
    "duration": 15,
    "start_time": "2022-03-09T08:04:32.279Z"
   },
   {
    "duration": 22,
    "start_time": "2022-03-09T08:05:42.663Z"
   },
   {
    "duration": 784,
    "start_time": "2022-03-09T08:06:57.518Z"
   },
   {
    "duration": 5,
    "start_time": "2022-03-09T08:06:58.305Z"
   },
   {
    "duration": 17,
    "start_time": "2022-03-09T08:06:58.314Z"
   },
   {
    "duration": 7,
    "start_time": "2022-03-09T08:06:58.334Z"
   },
   {
    "duration": 49,
    "start_time": "2022-03-09T08:06:58.344Z"
   },
   {
    "duration": 7,
    "start_time": "2022-03-09T08:06:58.396Z"
   },
   {
    "duration": 38,
    "start_time": "2022-03-09T08:06:58.405Z"
   },
   {
    "duration": 54,
    "start_time": "2022-03-09T08:06:58.446Z"
   },
   {
    "duration": 6,
    "start_time": "2022-03-09T08:06:58.503Z"
   },
   {
    "duration": 7,
    "start_time": "2022-03-09T08:06:58.512Z"
   },
   {
    "duration": 9,
    "start_time": "2022-03-09T08:06:58.521Z"
   },
   {
    "duration": 13,
    "start_time": "2022-03-09T08:06:58.532Z"
   },
   {
    "duration": 37,
    "start_time": "2022-03-09T08:06:58.548Z"
   },
   {
    "duration": 15,
    "start_time": "2022-03-09T08:06:58.587Z"
   },
   {
    "duration": 5,
    "start_time": "2022-03-09T08:06:58.604Z"
   },
   {
    "duration": 11,
    "start_time": "2022-03-09T08:06:58.611Z"
   },
   {
    "duration": 10,
    "start_time": "2022-03-09T08:06:58.624Z"
   },
   {
    "duration": 49,
    "start_time": "2022-03-09T08:06:58.636Z"
   },
   {
    "duration": 16,
    "start_time": "2022-03-09T08:06:58.688Z"
   },
   {
    "duration": 19,
    "start_time": "2022-03-09T08:06:58.707Z"
   },
   {
    "duration": 12,
    "start_time": "2022-03-09T08:06:58.729Z"
   },
   {
    "duration": 43,
    "start_time": "2022-03-09T08:06:58.744Z"
   },
   {
    "duration": 19,
    "start_time": "2022-03-09T08:06:58.796Z"
   },
   {
    "duration": 10,
    "start_time": "2022-03-09T08:06:58.818Z"
   },
   {
    "duration": 52,
    "start_time": "2022-03-09T08:06:58.830Z"
   },
   {
    "duration": 9,
    "start_time": "2022-03-09T08:06:58.885Z"
   },
   {
    "duration": 20,
    "start_time": "2022-03-09T08:06:58.896Z"
   },
   {
    "duration": 14,
    "start_time": "2022-03-09T08:06:58.919Z"
   },
   {
    "duration": 59,
    "start_time": "2022-03-09T08:06:58.936Z"
   },
   {
    "duration": 9,
    "start_time": "2022-03-09T08:06:58.998Z"
   },
   {
    "duration": 15,
    "start_time": "2022-03-09T08:06:59.010Z"
   },
   {
    "duration": 10,
    "start_time": "2022-03-09T08:06:59.028Z"
   },
   {
    "duration": 46,
    "start_time": "2022-03-09T08:06:59.041Z"
   },
   {
    "duration": 8,
    "start_time": "2022-03-09T08:06:59.089Z"
   },
   {
    "duration": 25,
    "start_time": "2022-03-09T08:06:59.099Z"
   },
   {
    "duration": 11,
    "start_time": "2022-03-09T08:06:59.127Z"
   },
   {
    "duration": 35817,
    "start_time": "2022-03-09T08:06:59.141Z"
   },
   {
    "duration": 22,
    "start_time": "2022-03-09T08:07:34.961Z"
   },
   {
    "duration": 16,
    "start_time": "2022-03-09T08:07:34.986Z"
   },
   {
    "duration": 26,
    "start_time": "2022-03-09T08:07:35.005Z"
   },
   {
    "duration": 52,
    "start_time": "2022-03-09T08:07:35.034Z"
   },
   {
    "duration": 22,
    "start_time": "2022-03-09T08:07:35.089Z"
   },
   {
    "duration": 15,
    "start_time": "2022-03-09T08:07:35.114Z"
   },
   {
    "duration": 33,
    "start_time": "2022-03-09T08:07:35.132Z"
   },
   {
    "duration": 17,
    "start_time": "2022-03-09T08:07:35.183Z"
   },
   {
    "duration": 15,
    "start_time": "2022-03-09T08:07:35.202Z"
   },
   {
    "duration": 10,
    "start_time": "2022-03-09T08:07:35.219Z"
   },
   {
    "duration": 53,
    "start_time": "2022-03-09T08:07:35.231Z"
   },
   {
    "duration": 23,
    "start_time": "2022-03-09T08:07:35.287Z"
   },
   {
    "duration": 9,
    "start_time": "2022-03-09T08:07:35.313Z"
   },
   {
    "duration": 15,
    "start_time": "2022-03-09T08:07:35.325Z"
   },
   {
    "duration": 24,
    "start_time": "2022-03-09T08:07:35.342Z"
   },
   {
    "duration": 14,
    "start_time": "2022-03-09T08:07:35.369Z"
   },
   {
    "duration": 44,
    "start_time": "2022-03-09T08:07:35.386Z"
   },
   {
    "duration": 15,
    "start_time": "2022-03-09T08:07:35.433Z"
   },
   {
    "duration": 10,
    "start_time": "2022-03-09T08:07:35.451Z"
   },
   {
    "duration": 24,
    "start_time": "2022-03-09T08:07:35.464Z"
   },
   {
    "duration": 21,
    "start_time": "2022-03-09T08:07:35.491Z"
   },
   {
    "duration": 4,
    "start_time": "2022-03-09T08:07:35.515Z"
   },
   {
    "duration": 16,
    "start_time": "2022-03-09T08:07:35.521Z"
   },
   {
    "duration": 382,
    "start_time": "2022-08-07T19:49:28.139Z"
   },
   {
    "duration": 315,
    "start_time": "2022-08-07T19:49:28.523Z"
   },
   {
    "duration": 3,
    "start_time": "2022-08-07T19:49:28.840Z"
   },
   {
    "duration": 18,
    "start_time": "2022-08-07T19:49:28.845Z"
   },
   {
    "duration": 4,
    "start_time": "2022-08-07T19:49:28.865Z"
   },
   {
    "duration": 17,
    "start_time": "2022-08-07T19:49:28.871Z"
   },
   {
    "duration": 5,
    "start_time": "2022-08-07T19:49:28.890Z"
   },
   {
    "duration": 25,
    "start_time": "2022-08-07T19:49:28.896Z"
   },
   {
    "duration": 13,
    "start_time": "2022-08-07T19:49:28.923Z"
   },
   {
    "duration": 4,
    "start_time": "2022-08-07T19:49:28.940Z"
   },
   {
    "duration": 5,
    "start_time": "2022-08-07T19:49:28.946Z"
   },
   {
    "duration": 17,
    "start_time": "2022-08-07T19:49:28.952Z"
   },
   {
    "duration": 21,
    "start_time": "2022-08-07T19:49:28.970Z"
   },
   {
    "duration": 16,
    "start_time": "2022-08-07T19:49:28.993Z"
   },
   {
    "duration": 15,
    "start_time": "2022-08-07T19:49:29.011Z"
   },
   {
    "duration": 6,
    "start_time": "2022-08-07T19:49:29.028Z"
   },
   {
    "duration": 8,
    "start_time": "2022-08-07T19:49:29.036Z"
   },
   {
    "duration": 7,
    "start_time": "2022-08-07T19:49:29.046Z"
   },
   {
    "duration": 15,
    "start_time": "2022-08-07T19:49:29.054Z"
   },
   {
    "duration": 18,
    "start_time": "2022-08-07T19:49:29.070Z"
   },
   {
    "duration": 9,
    "start_time": "2022-08-07T19:49:29.090Z"
   },
   {
    "duration": 13,
    "start_time": "2022-08-07T19:49:29.100Z"
   },
   {
    "duration": 9,
    "start_time": "2022-08-07T19:49:29.114Z"
   },
   {
    "duration": 20,
    "start_time": "2022-08-07T19:49:29.125Z"
   },
   {
    "duration": 17,
    "start_time": "2022-08-07T19:49:29.147Z"
   },
   {
    "duration": 10,
    "start_time": "2022-08-07T19:49:29.165Z"
   },
   {
    "duration": 10,
    "start_time": "2022-08-07T19:49:29.176Z"
   },
   {
    "duration": 20,
    "start_time": "2022-08-07T19:49:29.190Z"
   },
   {
    "duration": 7,
    "start_time": "2022-08-07T19:49:29.211Z"
   },
   {
    "duration": 14,
    "start_time": "2022-08-07T19:49:29.219Z"
   },
   {
    "duration": 4,
    "start_time": "2022-08-07T19:49:29.235Z"
   },
   {
    "duration": 15,
    "start_time": "2022-08-07T19:49:29.241Z"
   },
   {
    "duration": 7,
    "start_time": "2022-08-07T19:49:29.257Z"
   },
   {
    "duration": 4,
    "start_time": "2022-08-07T19:49:29.266Z"
   },
   {
    "duration": 10,
    "start_time": "2022-08-07T19:49:29.271Z"
   },
   {
    "duration": 14,
    "start_time": "2022-08-07T19:49:29.308Z"
   },
   {
    "duration": 7,
    "start_time": "2022-08-07T19:49:29.324Z"
   },
   {
    "duration": 21502,
    "start_time": "2022-08-07T19:49:29.333Z"
   },
   {
    "duration": 7,
    "start_time": "2022-08-07T19:49:50.837Z"
   },
   {
    "duration": 13,
    "start_time": "2022-08-07T19:49:50.845Z"
   },
   {
    "duration": 24,
    "start_time": "2022-08-07T19:49:50.860Z"
   },
   {
    "duration": 35,
    "start_time": "2022-08-07T19:49:50.886Z"
   },
   {
    "duration": 16,
    "start_time": "2022-08-07T19:49:50.923Z"
   },
   {
    "duration": 10,
    "start_time": "2022-08-07T19:49:50.940Z"
   },
   {
    "duration": 26,
    "start_time": "2022-08-07T19:49:50.952Z"
   },
   {
    "duration": 15,
    "start_time": "2022-08-07T19:49:50.980Z"
   },
   {
    "duration": 11,
    "start_time": "2022-08-07T19:49:51.008Z"
   },
   {
    "duration": 6,
    "start_time": "2022-08-07T19:49:51.020Z"
   },
   {
    "duration": 16,
    "start_time": "2022-08-07T19:49:51.028Z"
   },
   {
    "duration": 16,
    "start_time": "2022-08-07T19:49:51.045Z"
   },
   {
    "duration": 7,
    "start_time": "2022-08-07T19:49:51.063Z"
   },
   {
    "duration": 11,
    "start_time": "2022-08-07T19:49:51.071Z"
   },
   {
    "duration": 26,
    "start_time": "2022-08-07T19:49:51.083Z"
   },
   {
    "duration": 4,
    "start_time": "2022-08-07T19:49:51.110Z"
   },
   {
    "duration": 21,
    "start_time": "2022-08-07T19:49:51.115Z"
   },
   {
    "duration": 10,
    "start_time": "2022-08-07T19:49:51.137Z"
   },
   {
    "duration": 3,
    "start_time": "2022-08-07T19:49:51.148Z"
   },
   {
    "duration": 11,
    "start_time": "2022-08-07T19:49:51.153Z"
   },
   {
    "duration": 14,
    "start_time": "2022-08-07T19:49:51.165Z"
   },
   {
    "duration": 3,
    "start_time": "2022-08-07T19:49:51.181Z"
   },
   {
    "duration": 24,
    "start_time": "2022-08-07T19:49:51.186Z"
   }
  ],
  "kernelspec": {
   "display_name": "Python 3 (ipykernel)",
   "language": "python",
   "name": "python3"
  },
  "language_info": {
   "codemirror_mode": {
    "name": "ipython",
    "version": 3
   },
   "file_extension": ".py",
   "mimetype": "text/x-python",
   "name": "python",
   "nbconvert_exporter": "python",
   "pygments_lexer": "ipython3",
   "version": "3.9.5"
  },
  "toc": {
   "base_numbering": 1,
   "nav_menu": {},
   "number_sections": true,
   "sideBar": true,
   "skip_h1_title": true,
   "title_cell": "Table of Contents",
   "title_sidebar": "Contents",
   "toc_cell": false,
   "toc_position": {},
   "toc_section_display": true,
   "toc_window_display": true
  }
 },
 "nbformat": 4,
 "nbformat_minor": 5
}
