{
 "cells": [
  {
   "cell_type": "markdown",
   "metadata": {
    "toc": true
   },
   "source": [
   ]
  },
  {
   "cell_type": "markdown",
   "metadata": {},
   "source": [
    "# Cтратегия взаимодействия с клиентами Сеть фитнес-центров «Культурист-датасаентист» "
   ]
  },
  {
   "cell_type": "markdown",
   "metadata": {},
   "source": [
    "**Цель исследования:** Сформулировать предложения по снижению оттока клиентов.\n",
    "\n",
    "**Критерий оттока клиента:** Клиент попал в отток, если за последний месяц ни разу не посетил спортзал.\n",
    "\n",
    "**План исследования:**\n",
    "1) Загрузим данные и проведем их предобработку;<br>\n",
    "2) Проведем исследовательский анализ данных; <br>\n",
    "3) Построим модель прогнозирования оттока клиентов; <br>\n",
    "4) Сделаем кластеризацию клиентов; <br>\n",
    "5) Сформулируем выводы и сделаем базовые рекомендации по работе с клиентами.\n",
    "\n",
    "**Инструменты:** Заказчик подготовил информацию в csv-файлах на основе клиентских анкет, которые содержат данные на месяц до оттока и факт оттока на определённый месяц."
   ]
  },
  {
   "cell_type": "code",
   "execution_count": 1,
   "metadata": {},
   "outputs": [],
   "source": [
    "import pandas as pd\n",
    "import numpy as np\n",
    "from sklearn.cluster import KMeans\n",
    "from sklearn.preprocessing import StandardScaler\n",
    "import seaborn as sns\n",
    "import matplotlib.pyplot as plt\n",
    "from sklearn.model_selection import train_test_split\n",
    "from sklearn.ensemble import RandomForestClassifier\n",
    "from sklearn.linear_model import LogisticRegression\n",
    "from sklearn.metrics import mean_absolute_error, mean_squared_error, r2_score, accuracy_score, precision_score, recall_score, f1_score\n",
    "from scipy.cluster.hierarchy import dendrogram, linkage "
   ]
  },
  {
   "cell_type": "markdown",
   "metadata": {},
   "source": [
    "## Загрузка данных"
   ]
  },
  {
   "cell_type": "markdown",
   "metadata": {},
   "source": [
    "Прочитаем данные из файла, сохраним в переменную df и выведем первые 5 строк."
   ]
  },
  {
   "cell_type": "code",
   "execution_count": 2,
   "metadata": {},
   "outputs": [
    {
     "data": {
      "text/html": [
       "<div>\n",
       "<style scoped>\n",
       "    .dataframe tbody tr th:only-of-type {\n",
       "        vertical-align: middle;\n",
       "    }\n",
       "\n",
       "    .dataframe tbody tr th {\n",
       "        vertical-align: top;\n",
       "    }\n",
       "\n",
       "    .dataframe thead th {\n",
       "        text-align: right;\n",
       "    }\n",
       "</style>\n",
       "<table border=\"1\" class=\"dataframe\">\n",
       "  <thead>\n",
       "    <tr style=\"text-align: right;\">\n",
       "      <th></th>\n",
       "      <th>gender</th>\n",
       "      <th>Near_Location</th>\n",
       "      <th>Partner</th>\n",
       "      <th>Promo_friends</th>\n",
       "      <th>Phone</th>\n",
       "      <th>Contract_period</th>\n",
       "      <th>Group_visits</th>\n",
       "      <th>Age</th>\n",
       "      <th>Avg_additional_charges_total</th>\n",
       "      <th>Month_to_end_contract</th>\n",
       "      <th>Lifetime</th>\n",
       "      <th>Avg_class_frequency_total</th>\n",
       "      <th>Avg_class_frequency_current_month</th>\n",
       "      <th>Churn</th>\n",
       "    </tr>\n",
       "  </thead>\n",
       "  <tbody>\n",
       "    <tr>\n",
       "      <th>0</th>\n",
       "      <td>1</td>\n",
       "      <td>1</td>\n",
       "      <td>1</td>\n",
       "      <td>1</td>\n",
       "      <td>0</td>\n",
       "      <td>6</td>\n",
       "      <td>1</td>\n",
       "      <td>29</td>\n",
       "      <td>14.227470</td>\n",
       "      <td>5.0</td>\n",
       "      <td>3</td>\n",
       "      <td>0.020398</td>\n",
       "      <td>0.000000</td>\n",
       "      <td>0</td>\n",
       "    </tr>\n",
       "    <tr>\n",
       "      <th>1</th>\n",
       "      <td>0</td>\n",
       "      <td>1</td>\n",
       "      <td>0</td>\n",
       "      <td>0</td>\n",
       "      <td>1</td>\n",
       "      <td>12</td>\n",
       "      <td>1</td>\n",
       "      <td>31</td>\n",
       "      <td>113.202938</td>\n",
       "      <td>12.0</td>\n",
       "      <td>7</td>\n",
       "      <td>1.922936</td>\n",
       "      <td>1.910244</td>\n",
       "      <td>0</td>\n",
       "    </tr>\n",
       "    <tr>\n",
       "      <th>2</th>\n",
       "      <td>0</td>\n",
       "      <td>1</td>\n",
       "      <td>1</td>\n",
       "      <td>0</td>\n",
       "      <td>1</td>\n",
       "      <td>1</td>\n",
       "      <td>0</td>\n",
       "      <td>28</td>\n",
       "      <td>129.448479</td>\n",
       "      <td>1.0</td>\n",
       "      <td>2</td>\n",
       "      <td>1.859098</td>\n",
       "      <td>1.736502</td>\n",
       "      <td>0</td>\n",
       "    </tr>\n",
       "    <tr>\n",
       "      <th>3</th>\n",
       "      <td>0</td>\n",
       "      <td>1</td>\n",
       "      <td>1</td>\n",
       "      <td>1</td>\n",
       "      <td>1</td>\n",
       "      <td>12</td>\n",
       "      <td>1</td>\n",
       "      <td>33</td>\n",
       "      <td>62.669863</td>\n",
       "      <td>12.0</td>\n",
       "      <td>2</td>\n",
       "      <td>3.205633</td>\n",
       "      <td>3.357215</td>\n",
       "      <td>0</td>\n",
       "    </tr>\n",
       "    <tr>\n",
       "      <th>4</th>\n",
       "      <td>1</td>\n",
       "      <td>1</td>\n",
       "      <td>1</td>\n",
       "      <td>1</td>\n",
       "      <td>1</td>\n",
       "      <td>1</td>\n",
       "      <td>0</td>\n",
       "      <td>26</td>\n",
       "      <td>198.362265</td>\n",
       "      <td>1.0</td>\n",
       "      <td>3</td>\n",
       "      <td>1.113884</td>\n",
       "      <td>1.120078</td>\n",
       "      <td>0</td>\n",
       "    </tr>\n",
       "  </tbody>\n",
       "</table>\n",
       "</div>"
      ],
      "text/plain": [
       "   gender  Near_Location  Partner  Promo_friends  Phone  Contract_period  \\\n",
       "0       1              1        1              1      0                6   \n",
       "1       0              1        0              0      1               12   \n",
       "2       0              1        1              0      1                1   \n",
       "3       0              1        1              1      1               12   \n",
       "4       1              1        1              1      1                1   \n",
       "\n",
       "   Group_visits  Age  Avg_additional_charges_total  Month_to_end_contract  \\\n",
       "0             1   29                     14.227470                    5.0   \n",
       "1             1   31                    113.202938                   12.0   \n",
       "2             0   28                    129.448479                    1.0   \n",
       "3             1   33                     62.669863                   12.0   \n",
       "4             0   26                    198.362265                    1.0   \n",
       "\n",
       "   Lifetime  Avg_class_frequency_total  Avg_class_frequency_current_month  \\\n",
       "0         3                   0.020398                           0.000000   \n",
       "1         7                   1.922936                           1.910244   \n",
       "2         2                   1.859098                           1.736502   \n",
       "3         2                   3.205633                           3.357215   \n",
       "4         3                   1.113884                           1.120078   \n",
       "\n",
       "   Churn  \n",
       "0      0  \n",
       "1      0  \n",
       "2      0  \n",
       "3      0  \n",
       "4      0  "
      ]
     },
     "execution_count": 2,
     "metadata": {},
     "output_type": "execute_result"
    }
   ],
   "source": [
    "df = pd.read_csv('/datasets/gym_churn.csv')\n",
    "df.head()"
   ]
  },
  {
   "cell_type": "markdown",
   "metadata": {},
   "source": [
    "Далее получим общее представление о датафрейме с помощью метода info()."
   ]
  },
  {
   "cell_type": "code",
   "execution_count": 3,
   "metadata": {},
   "outputs": [
    {
     "name": "stdout",
     "output_type": "stream",
     "text": [
      "<class 'pandas.core.frame.DataFrame'>\n",
      "RangeIndex: 4000 entries, 0 to 3999\n",
      "Data columns (total 14 columns):\n",
      " #   Column                             Non-Null Count  Dtype  \n",
      "---  ------                             --------------  -----  \n",
      " 0   gender                             4000 non-null   int64  \n",
      " 1   Near_Location                      4000 non-null   int64  \n",
      " 2   Partner                            4000 non-null   int64  \n",
      " 3   Promo_friends                      4000 non-null   int64  \n",
      " 4   Phone                              4000 non-null   int64  \n",
      " 5   Contract_period                    4000 non-null   int64  \n",
      " 6   Group_visits                       4000 non-null   int64  \n",
      " 7   Age                                4000 non-null   int64  \n",
      " 8   Avg_additional_charges_total       4000 non-null   float64\n",
      " 9   Month_to_end_contract              4000 non-null   float64\n",
      " 10  Lifetime                           4000 non-null   int64  \n",
      " 11  Avg_class_frequency_total          4000 non-null   float64\n",
      " 12  Avg_class_frequency_current_month  4000 non-null   float64\n",
      " 13  Churn                              4000 non-null   int64  \n",
      "dtypes: float64(4), int64(10)\n",
      "memory usage: 437.6 KB\n"
     ]
    }
   ],
   "source": [
    "df.info()"
   ]
  },
  {
   "cell_type": "markdown",
   "metadata": {},
   "source": [
    "Пропущенных значенией нет."
   ]
  },
  {
   "cell_type": "markdown",
   "metadata": {},
   "source": [
    "Переведем названия столбцов в нижний регистр для удобства дальнейшей работы с ними."
   ]
  },
  {
   "cell_type": "code",
   "execution_count": 4,
   "metadata": {},
   "outputs": [],
   "source": [
    "df.columns = df.columns.str.lower()"
   ]
  },
  {
   "cell_type": "markdown",
   "metadata": {},
   "source": [
    "Признаки 'gender', 'near_location', 'partner', 'promo_friends', 'phone', 'contract_period', 'group_visits', 'churn' - категориальные, остальные - числовые."
   ]
  },
  {
   "cell_type": "code",
   "execution_count": 5,
   "metadata": {},
   "outputs": [],
   "source": [
    "categoriсal_signs = ['gender', 'near_location', 'partner', 'promo_friends', \\\n",
    "                'phone', 'contract_period', 'group_visits', 'churn']"
   ]
  },
  {
   "cell_type": "code",
   "execution_count": 6,
   "metadata": {},
   "outputs": [],
   "source": [
    "number_signs_list = ['age', 'avg_additional_charges_total', 'month_to_end_contract', 'lifetime', \\\n",
    "                'avg_class_frequency_total', 'avg_class_frequency_current_month']"
   ]
  },
  {
   "cell_type": "markdown",
   "metadata": {},
   "source": [
    "Проверим категориальные признаки на корректность заполнения."
   ]
  },
  {
   "cell_type": "code",
   "execution_count": 7,
   "metadata": {},
   "outputs": [
    {
     "name": "stdout",
     "output_type": "stream",
     "text": [
      "1    2041\n",
      "0    1959\n",
      "Name: gender, dtype: int64\n",
      "1    3381\n",
      "0     619\n",
      "Name: near_location, dtype: int64\n",
      "0    2053\n",
      "1    1947\n",
      "Name: partner, dtype: int64\n",
      "0    2766\n",
      "1    1234\n",
      "Name: promo_friends, dtype: int64\n",
      "1    3614\n",
      "0     386\n",
      "Name: phone, dtype: int64\n",
      "1     2207\n",
      "12     960\n",
      "6      833\n",
      "Name: contract_period, dtype: int64\n",
      "0    2351\n",
      "1    1649\n",
      "Name: group_visits, dtype: int64\n",
      "0    2939\n",
      "1    1061\n",
      "Name: churn, dtype: int64\n"
     ]
    }
   ],
   "source": [
    "for elem in df[categoriсal_signs].columns:\n",
    "    print(df[elem].value_counts())"
   ]
  },
  {
   "cell_type": "markdown",
   "metadata": {},
   "source": [
    "Видимых проблем и лишних значений нет."
   ]
  },
  {
   "cell_type": "markdown",
   "metadata": {},
   "source": [
    "Изучим средние значения и стандартные отклонения для количественных признаков."
   ]
  },
  {
   "cell_type": "code",
   "execution_count": 8,
   "metadata": {},
   "outputs": [
    {
     "data": {
      "text/html": [
       "<div>\n",
       "<style scoped>\n",
       "    .dataframe tbody tr th:only-of-type {\n",
       "        vertical-align: middle;\n",
       "    }\n",
       "\n",
       "    .dataframe tbody tr th {\n",
       "        vertical-align: top;\n",
       "    }\n",
       "\n",
       "    .dataframe thead th {\n",
       "        text-align: right;\n",
       "    }\n",
       "</style>\n",
       "<table border=\"1\" class=\"dataframe\">\n",
       "  <thead>\n",
       "    <tr style=\"text-align: right;\">\n",
       "      <th></th>\n",
       "      <th>age</th>\n",
       "      <th>avg_additional_charges_total</th>\n",
       "      <th>month_to_end_contract</th>\n",
       "      <th>lifetime</th>\n",
       "      <th>avg_class_frequency_total</th>\n",
       "      <th>avg_class_frequency_current_month</th>\n",
       "    </tr>\n",
       "  </thead>\n",
       "  <tbody>\n",
       "    <tr>\n",
       "      <th>count</th>\n",
       "      <td>4000.000000</td>\n",
       "      <td>4000.000000</td>\n",
       "      <td>4000.000000</td>\n",
       "      <td>4000.000000</td>\n",
       "      <td>4000.000000</td>\n",
       "      <td>4000.000000</td>\n",
       "    </tr>\n",
       "    <tr>\n",
       "      <th>mean</th>\n",
       "      <td>29.184250</td>\n",
       "      <td>146.943728</td>\n",
       "      <td>4.322750</td>\n",
       "      <td>3.724750</td>\n",
       "      <td>1.879020</td>\n",
       "      <td>1.767052</td>\n",
       "    </tr>\n",
       "    <tr>\n",
       "      <th>std</th>\n",
       "      <td>3.258367</td>\n",
       "      <td>96.355602</td>\n",
       "      <td>4.191297</td>\n",
       "      <td>3.749267</td>\n",
       "      <td>0.972245</td>\n",
       "      <td>1.052906</td>\n",
       "    </tr>\n",
       "    <tr>\n",
       "      <th>min</th>\n",
       "      <td>18.000000</td>\n",
       "      <td>0.148205</td>\n",
       "      <td>1.000000</td>\n",
       "      <td>0.000000</td>\n",
       "      <td>0.000000</td>\n",
       "      <td>0.000000</td>\n",
       "    </tr>\n",
       "    <tr>\n",
       "      <th>25%</th>\n",
       "      <td>27.000000</td>\n",
       "      <td>68.868830</td>\n",
       "      <td>1.000000</td>\n",
       "      <td>1.000000</td>\n",
       "      <td>1.180875</td>\n",
       "      <td>0.963003</td>\n",
       "    </tr>\n",
       "    <tr>\n",
       "      <th>50%</th>\n",
       "      <td>29.000000</td>\n",
       "      <td>136.220159</td>\n",
       "      <td>1.000000</td>\n",
       "      <td>3.000000</td>\n",
       "      <td>1.832768</td>\n",
       "      <td>1.719574</td>\n",
       "    </tr>\n",
       "    <tr>\n",
       "      <th>75%</th>\n",
       "      <td>31.000000</td>\n",
       "      <td>210.949625</td>\n",
       "      <td>6.000000</td>\n",
       "      <td>5.000000</td>\n",
       "      <td>2.536078</td>\n",
       "      <td>2.510336</td>\n",
       "    </tr>\n",
       "    <tr>\n",
       "      <th>max</th>\n",
       "      <td>41.000000</td>\n",
       "      <td>552.590740</td>\n",
       "      <td>12.000000</td>\n",
       "      <td>31.000000</td>\n",
       "      <td>6.023668</td>\n",
       "      <td>6.146783</td>\n",
       "    </tr>\n",
       "  </tbody>\n",
       "</table>\n",
       "</div>"
      ],
      "text/plain": [
       "               age  avg_additional_charges_total  month_to_end_contract  \\\n",
       "count  4000.000000                   4000.000000            4000.000000   \n",
       "mean     29.184250                    146.943728               4.322750   \n",
       "std       3.258367                     96.355602               4.191297   \n",
       "min      18.000000                      0.148205               1.000000   \n",
       "25%      27.000000                     68.868830               1.000000   \n",
       "50%      29.000000                    136.220159               1.000000   \n",
       "75%      31.000000                    210.949625               6.000000   \n",
       "max      41.000000                    552.590740              12.000000   \n",
       "\n",
       "          lifetime  avg_class_frequency_total  \\\n",
       "count  4000.000000                4000.000000   \n",
       "mean      3.724750                   1.879020   \n",
       "std       3.749267                   0.972245   \n",
       "min       0.000000                   0.000000   \n",
       "25%       1.000000                   1.180875   \n",
       "50%       3.000000                   1.832768   \n",
       "75%       5.000000                   2.536078   \n",
       "max      31.000000                   6.023668   \n",
       "\n",
       "       avg_class_frequency_current_month  \n",
       "count                        4000.000000  \n",
       "mean                            1.767052  \n",
       "std                             1.052906  \n",
       "min                             0.000000  \n",
       "25%                             0.963003  \n",
       "50%                             1.719574  \n",
       "75%                             2.510336  \n",
       "max                             6.146783  "
      ]
     },
     "execution_count": 8,
     "metadata": {},
     "output_type": "execute_result"
    }
   ],
   "source": [
    "df[number_signs_list].describe()"
   ]
  },
  {
   "cell_type": "markdown",
   "metadata": {},
   "source": [
    "Значительных выбросов нет, данные выглядят корректно."
   ]
  },
  {
   "cell_type": "markdown",
   "metadata": {},
   "source": [
    "Проверим датафрейм на наличие явных дубликатов."
   ]
  },
  {
   "cell_type": "code",
   "execution_count": 9,
   "metadata": {},
   "outputs": [
    {
     "data": {
      "text/plain": [
       "0"
      ]
     },
     "execution_count": 9,
     "metadata": {},
     "output_type": "execute_result"
    }
   ],
   "source": [
    "df.duplicated().sum()"
   ]
  },
  {
   "cell_type": "markdown",
   "metadata": {},
   "source": [
    "**Вывод:** Имеем данные, состоящие из 4000 строк. Пропущенных значений и дубликатов нет. Выбросов нет. Переходим к следующему этапу."
   ]
  },
  {
   "cell_type": "markdown",
   "metadata": {},
   "source": [
    "## Исследовательский анализ данных"
   ]
  },
  {
   "cell_type": "markdown",
   "metadata": {},
   "source": [
    "Изучим  средние значения признаков в двух группах — тех, кто ушел в отток и тех, кто остался."
   ]
  },
  {
   "cell_type": "code",
   "execution_count": 10,
   "metadata": {},
   "outputs": [
    {
     "data": {
      "text/html": [
       "<div>\n",
       "<style scoped>\n",
       "    .dataframe tbody tr th:only-of-type {\n",
       "        vertical-align: middle;\n",
       "    }\n",
       "\n",
       "    .dataframe tbody tr th {\n",
       "        vertical-align: top;\n",
       "    }\n",
       "\n",
       "    .dataframe thead th {\n",
       "        text-align: right;\n",
       "    }\n",
       "</style>\n",
       "<table border=\"1\" class=\"dataframe\">\n",
       "  <thead>\n",
       "    <tr style=\"text-align: right;\">\n",
       "      <th></th>\n",
       "      <th>churn</th>\n",
       "      <th>gender</th>\n",
       "      <th>near_location</th>\n",
       "      <th>partner</th>\n",
       "      <th>promo_friends</th>\n",
       "      <th>phone</th>\n",
       "      <th>contract_period</th>\n",
       "      <th>group_visits</th>\n",
       "      <th>age</th>\n",
       "      <th>avg_additional_charges_total</th>\n",
       "      <th>month_to_end_contract</th>\n",
       "      <th>lifetime</th>\n",
       "      <th>avg_class_frequency_total</th>\n",
       "      <th>avg_class_frequency_current_month</th>\n",
       "    </tr>\n",
       "  </thead>\n",
       "  <tbody>\n",
       "    <tr>\n",
       "      <th>0</th>\n",
       "      <td>0</td>\n",
       "      <td>0.510037</td>\n",
       "      <td>0.873086</td>\n",
       "      <td>0.534195</td>\n",
       "      <td>0.353522</td>\n",
       "      <td>0.903709</td>\n",
       "      <td>5.747193</td>\n",
       "      <td>0.464103</td>\n",
       "      <td>29.976523</td>\n",
       "      <td>158.445715</td>\n",
       "      <td>5.283089</td>\n",
       "      <td>4.711807</td>\n",
       "      <td>2.024876</td>\n",
       "      <td>2.027882</td>\n",
       "    </tr>\n",
       "    <tr>\n",
       "      <th>1</th>\n",
       "      <td>1</td>\n",
       "      <td>0.510839</td>\n",
       "      <td>0.768143</td>\n",
       "      <td>0.355325</td>\n",
       "      <td>0.183789</td>\n",
       "      <td>0.902922</td>\n",
       "      <td>1.728558</td>\n",
       "      <td>0.268615</td>\n",
       "      <td>26.989632</td>\n",
       "      <td>115.082899</td>\n",
       "      <td>1.662582</td>\n",
       "      <td>0.990575</td>\n",
       "      <td>1.474995</td>\n",
       "      <td>1.044546</td>\n",
       "    </tr>\n",
       "  </tbody>\n",
       "</table>\n",
       "</div>"
      ],
      "text/plain": [
       "   churn    gender  near_location   partner  promo_friends     phone  \\\n",
       "0      0  0.510037       0.873086  0.534195       0.353522  0.903709   \n",
       "1      1  0.510839       0.768143  0.355325       0.183789  0.902922   \n",
       "\n",
       "   contract_period  group_visits        age  avg_additional_charges_total  \\\n",
       "0         5.747193      0.464103  29.976523                    158.445715   \n",
       "1         1.728558      0.268615  26.989632                    115.082899   \n",
       "\n",
       "   month_to_end_contract  lifetime  avg_class_frequency_total  \\\n",
       "0               5.283089  4.711807                   2.024876   \n",
       "1               1.662582  0.990575                   1.474995   \n",
       "\n",
       "   avg_class_frequency_current_month  \n",
       "0                           2.027882  \n",
       "1                           1.044546  "
      ]
     },
     "execution_count": 10,
     "metadata": {},
     "output_type": "execute_result"
    }
   ],
   "source": [
    "df.groupby('churn').mean().reset_index()"
   ]
  },
  {
   "cell_type": "markdown",
   "metadata": {},
   "source": [
    "Для большей наглядности построим столбчатые гистограммы распределения признаков тех клиентов, которые попали в отток и тех, кто остался."
   ]
  },
  {
   "cell_type": "markdown",
   "metadata": {},
   "source": [
    "Сначала изучим распределения количественных признаков."
   ]
  },
  {
   "cell_type": "code",
   "execution_count": 11,
   "metadata": {},
   "outputs": [
    {
     "data": {
      "image/png": "[encoded data removed]",
      "text/plain": [
       "<Figure size 1080x576 with 6 Axes>"
      ]
     },
     "metadata": {
      "needs_background": "light"
     },
     "output_type": "display_data"
    }
   ],
   "source": [
    "fig, ax = plt.subplots(2, 3, figsize=(15, 8))\n",
    "ax=ax.ravel()\n",
    "fig.suptitle('Распределение количественных признаков для оставшихся клиентов и попавших в отток', fontsize = 18)\n",
    "for i in range(len(number_signs_list)):\n",
    "    sns.histplot(df, x=df[number_signs_list[i]], hue='churn', ax=ax[i], kde=True)\n",
    "plt.show()"
   ]
  },
  {
   "cell_type": "markdown",
   "metadata": {},
   "source": [
    "Первые выводы, которые можно сделать, глядя на эти графики:<br>\n",
    "1) Клиенты, не попавшие в отток в среднем тратят больше денег на доп. услуги;<br>\n",
    "2) Клиенты, не попавшие в отток дольше посещают фитнес-центр;<br>\n",
    "3) Клиенты не попавшие в отток чаще посещают фитнес-центр.<br>"
   ]
  },
  {
   "cell_type": "markdown",
   "metadata": {},
   "source": [
    "Теперь изучим, как распределены категориальные признаки."
   ]
  },
  {
   "cell_type": "markdown",
   "metadata": {},
   "source": [
    "Для корректного построения гистограмм временно приведем категориальные признаки к формату строки."
   ]
  },
  {
   "cell_type": "code",
   "execution_count": 12,
   "metadata": {},
   "outputs": [],
   "source": [
    "df[categoriсal_signs] = df[categoriсal_signs].astype('str')"
   ]
  },
  {
   "cell_type": "code",
   "execution_count": 13,
   "metadata": {},
   "outputs": [
    {
     "data": {
      "image/png": "[encoded data removed]",
      "text/plain": [
       "<Figure size 1584x720 with 8 Axes>"
      ]
     },
     "metadata": {
      "needs_background": "light"
     },
     "output_type": "display_data"
    }
   ],
   "source": [
    "fig, ax = plt.subplots(2, 4, figsize=(22, 10))\n",
    "fig.suptitle('Доля оттока для категориальных признаков', fontsize = 20)\n",
    "ax=ax.ravel()\n",
    "for i in range(len(categoriсal_signs)-1):\n",
    "    sns.histplot(df, x=categoriсal_signs[i], hue='churn', ax=ax[i], discrete=False, shrink=6)\n",
    "\n",
    "plt.show()"
   ]
  },
  {
   "cell_type": "markdown",
   "metadata": {},
   "source": [
    "Можно сделать вывод, что на факт оттока влияют следующие категориальные признаки:<br>\n",
    "1) Расположен ли фитнес-центр близко от дома клиента;<br>\n",
    "2) Является ли клиент сотрудником компании-партнера;<br>\n",
    "3) Пришел ли клиент по акции \"Приведи друга\";<br>\n",
    "4) Срок абонемента;<br>\n",
    "5) Факт посещения групповых занятий."
   ]
  },
  {
   "cell_type": "code",
   "execution_count": 14,
   "metadata": {},
   "outputs": [],
   "source": [
    "# Обратно переведем значения категориальных признаков к формату int\n",
    "df[categoriсal_signs] = df[categoriсal_signs].astype('int')"
   ]
  },
  {
   "cell_type": "markdown",
   "metadata": {},
   "source": [
    "Построим матрицу корреляции."
   ]
  },
  {
   "cell_type": "code",
   "execution_count": 15,
   "metadata": {},
   "outputs": [
    {
     "data": {
      "text/plain": [
       "Text(0.5, 1.0, 'Матрица корреляции признаков')"
      ]
     },
     "execution_count": 15,
     "metadata": {},
     "output_type": "execute_result"
    },
    {
     "data": {
      "image/png": "[encoded data removed]",
      "text/plain": [
       "<Figure size 1080x1080 with 2 Axes>"
      ]
     },
     "metadata": {
      "needs_background": "light"
     },
     "output_type": "display_data"
    }
   ],
   "source": [
    "fig, ax = plt.subplots(1, 1, figsize=(15, 15))\n",
    "sns.heatmap(df.corr(), annot=True, square=True)\n",
    "plt.title('Матрица корреляции признаков', fontsize = 18)"
   ]
  },
  {
   "cell_type": "markdown",
   "metadata": {},
   "source": [
    "Матрица корреляции не показала значимых значений для целевой переменной. Между собой сильно коррелируют признаки \"частота посещений с начала действия абонемента\" и \"частота посещений в текущем месяце\", но это и так достаточно очевидно."
   ]
  },
  {
   "cell_type": "markdown",
   "metadata": {},
   "source": [
    "**Вывод:**<br> Построив гистограммы, выяснили, что на факт оттока влияют следующие признаки:<br>\n",
    "1) Суммарная выручка от других услуг фитнес-центра;<br>\n",
    "2) Время с момента первого обращения в фитнес-центр;<br>\n",
    "3) Средняя частота посещений в неделю (за последний месяц и с начала действия абонемента);<br>\n",
    "4) Проживание или работа в районе, где находится фитнес-центр;<br>\n",
    "5) Является ли клиент сотрудником компании-партнера;<br>\n",
    "6) Пришел ли клиент по акции \"Приведи друга\";<br>\n",
    "7) Срок абонемента;<br>\n",
    "8) Факт посещения групповых занятий.<br>"
   ]
  },
  {
   "cell_type": "markdown",
   "metadata": {},
   "source": [
    "Далее построим модель прогнозирования оттока клиентов."
   ]
  },
  {
   "cell_type": "markdown",
   "metadata": {},
   "source": [
    "## Модель прогнозирования оттока клиентов"
   ]
  },
  {
   "cell_type": "markdown",
   "metadata": {},
   "source": [
    "Построим модель бинарной классификации клиентов, где целевой признак — факт оттока клиента в следующем месяце."
   ]
  },
  {
   "cell_type": "markdown",
   "metadata": {},
   "source": [
    "Разделим выборку на обучающую и валидационную в отношении 80/20."
   ]
  },
  {
   "cell_type": "code",
   "execution_count": 16,
   "metadata": {},
   "outputs": [],
   "source": [
    "X = df.drop('churn', axis=1)\n",
    "y = df['churn']"
   ]
  },
  {
   "cell_type": "code",
   "execution_count": 17,
   "metadata": {},
   "outputs": [],
   "source": [
    "X_train, X_test, y_train, y_test = train_test_split(X, y, test_size=0.2, random_state=0)"
   ]
  },
  {
   "cell_type": "markdown",
   "metadata": {},
   "source": [
    "### Обучение модели методом логистической регрессии"
   ]
  },
  {
   "cell_type": "code",
   "execution_count": 18,
   "metadata": {},
   "outputs": [],
   "source": [
    "lr_model = LogisticRegression(solver='liblinear', random_state=0)"
   ]
  },
  {
   "cell_type": "code",
   "execution_count": 19,
   "metadata": {},
   "outputs": [],
   "source": [
    "# Обучаем модель\n",
    "lr_model.fit(X_train, y_train)\n",
    "# Делаем предсказания\n",
    "lr_predictions = lr_model.predict(X_test)\n",
    "# Определяем вероятность принадлежности к классу 0 или 1\n",
    "lr_probabilities = lr_model.predict_proba(X_test)[:, 1]"
   ]
  },
  {
   "cell_type": "code",
   "execution_count": 20,
   "metadata": {},
   "outputs": [
    {
     "name": "stdout",
     "output_type": "stream",
     "text": [
      "Accuracy: 0.93\n",
      "Precision: 0.86\n",
      "Recall: 0.83\n",
      "F1: 0.85\n"
     ]
    }
   ],
   "source": [
    "print('Accuracy: {:.2f}'.format(accuracy_score(y_test, lr_predictions)))\n",
    "print('Precision: {:.2f}'.format(precision_score(y_test, lr_predictions)))\n",
    "print('Recall: {:.2f}'.format(recall_score(y_test, lr_predictions)))\n",
    "print('F1: {:.2f}'.format(f1_score(y_test, lr_predictions)))"
   ]
  },
  {
   "cell_type": "markdown",
   "metadata": {},
   "source": [
    "### Обучение модели методом случайного леса"
   ]
  },
  {
   "cell_type": "code",
   "execution_count": 21,
   "metadata": {},
   "outputs": [],
   "source": [
    "rf_model = RandomForestClassifier(n_estimators = 100, random_state=0)"
   ]
  },
  {
   "cell_type": "code",
   "execution_count": 22,
   "metadata": {},
   "outputs": [],
   "source": [
    "# Обучаем модель\n",
    "rf_model.fit(X_train, y_train)\n",
    "# Делаем предсказания\n",
    "rf_predictions = rf_model.predict(X_test)\n",
    "# Определяем вероятность принадлежности к классу 0 или 1\n",
    "rf_probabilities = rf_model.predict_proba(X_test)[:, 1]"
   ]
  },
  {
   "cell_type": "code",
   "execution_count": 23,
   "metadata": {},
   "outputs": [
    {
     "name": "stdout",
     "output_type": "stream",
     "text": [
      "Accuracy: 0.92\n",
      "Precision: 0.84\n",
      "Recall: 0.82\n",
      "F1: 0.83\n"
     ]
    }
   ],
   "source": [
    "print('Accuracy: {:.2f}'.format(accuracy_score(y_test, rf_predictions)))\n",
    "print('Precision: {:.2f}'.format(precision_score(y_test, rf_predictions)))\n",
    "print('Recall: {:.2f}'.format(recall_score(y_test, rf_predictions)))\n",
    "print('F1: {:.2f}'.format(f1_score(y_test, rf_predictions)))"
   ]
  },
  {
   "cell_type": "markdown",
   "metadata": {},
   "source": [
    "**Вывод:** Оба метода показали достаточно высокие оценки метрик.\n",
    "Метод логистической регресии показал себя немного лучше, чем метод случайного леса. "
   ]
  },
  {
   "cell_type": "markdown",
   "metadata": {},
   "source": [
    "## Кластеризация пользователей"
   ]
  },
  {
   "cell_type": "markdown",
   "metadata": {},
   "source": [
    "Сперва необходимо выполнить стандартизацию данных."
   ]
  },
  {
   "cell_type": "code",
   "execution_count": 24,
   "metadata": {},
   "outputs": [],
   "source": [
    "scaler = StandardScaler()\n",
    "X_train_st = scaler.fit_transform(X_train)"
   ]
  },
  {
   "cell_type": "code",
   "execution_count": 25,
   "metadata": {},
   "outputs": [],
   "source": [
    "X_test_st = scaler.transform(X_test)"
   ]
  },
  {
   "cell_type": "markdown",
   "metadata": {},
   "source": [
    "Построим матрицу расстояний и нарисуем дендрограмму."
   ]
  },
  {
   "cell_type": "code",
   "execution_count": 26,
   "metadata": {},
   "outputs": [],
   "source": [
    "linked = linkage(X_train_st, method = 'ward') "
   ]
  },
  {
   "cell_type": "code",
   "execution_count": 27,
   "metadata": {},
   "outputs": [
    {
     "data": {
      "image/png": "[encoded data removed]",
      "text/plain": [
       "<Figure size 1080x720 with 1 Axes>"
      ]
     },
     "metadata": {
      "needs_background": "light"
     },
     "output_type": "display_data"
    }
   ],
   "source": [
    "plt.figure(figsize=(15, 10))  \n",
    "dendrogram(linked, orientation='top')\n",
    "plt.title('Иерархическая кластеризация', fontsize = 18)\n",
    "plt.show()"
   ]
  },
  {
   "cell_type": "markdown",
   "metadata": {},
   "source": [
    "На полученной дендрограмме видно, что можно выделить четыре кластера (4 разных цвета), но будем руководствоваться условиями задачи и примем количество кластеров равным пяти."
   ]
  },
  {
   "cell_type": "markdown",
   "metadata": {},
   "source": [
    "Обучим модель кластеризации алгоритмом K-Means."
   ]
  },
  {
   "cell_type": "code",
   "execution_count": 28,
   "metadata": {},
   "outputs": [],
   "source": [
    "km = KMeans(n_clusters=5, random_state=0)\n",
    "# Прогнозируем кластеры для наблюдений (алгоритм присваивает им номера от 0 до 4)\n",
    "labels = km.fit_predict(X)"
   ]
  },
  {
   "cell_type": "code",
   "execution_count": 29,
   "metadata": {},
   "outputs": [],
   "source": [
    "# Добавим значение кластера в датафрейм\n",
    "df['cluster_km'] = labels"
   ]
  },
  {
   "cell_type": "markdown",
   "metadata": {},
   "source": [
    "Изучим средние значения признаков для кластеров."
   ]
  },
  {
   "cell_type": "code",
   "execution_count": 30,
   "metadata": {},
   "outputs": [
    {
     "data": {
      "text/html": [
       "<div>\n",
       "<style scoped>\n",
       "    .dataframe tbody tr th:only-of-type {\n",
       "        vertical-align: middle;\n",
       "    }\n",
       "\n",
       "    .dataframe tbody tr th {\n",
       "        vertical-align: top;\n",
       "    }\n",
       "\n",
       "    .dataframe thead th {\n",
       "        text-align: right;\n",
       "    }\n",
       "</style>\n",
       "<table border=\"1\" class=\"dataframe\">\n",
       "  <thead>\n",
       "    <tr style=\"text-align: right;\">\n",
       "      <th></th>\n",
       "      <th>cluster_km</th>\n",
       "      <th>gender</th>\n",
       "      <th>near_location</th>\n",
       "      <th>partner</th>\n",
       "      <th>promo_friends</th>\n",
       "      <th>phone</th>\n",
       "      <th>contract_period</th>\n",
       "      <th>group_visits</th>\n",
       "      <th>age</th>\n",
       "      <th>avg_additional_charges_total</th>\n",
       "      <th>month_to_end_contract</th>\n",
       "      <th>lifetime</th>\n",
       "      <th>avg_class_frequency_total</th>\n",
       "      <th>avg_class_frequency_current_month</th>\n",
       "      <th>churn</th>\n",
       "    </tr>\n",
       "  </thead>\n",
       "  <tbody>\n",
       "    <tr>\n",
       "      <th>0</th>\n",
       "      <td>0</td>\n",
       "      <td>0.514091</td>\n",
       "      <td>0.839650</td>\n",
       "      <td>0.451895</td>\n",
       "      <td>0.279883</td>\n",
       "      <td>0.897959</td>\n",
       "      <td>4.301263</td>\n",
       "      <td>0.407191</td>\n",
       "      <td>28.973761</td>\n",
       "      <td>105.932804</td>\n",
       "      <td>3.996113</td>\n",
       "      <td>3.544218</td>\n",
       "      <td>1.852564</td>\n",
       "      <td>1.708264</td>\n",
       "      <td>0.334305</td>\n",
       "    </tr>\n",
       "    <tr>\n",
       "      <th>1</th>\n",
       "      <td>1</td>\n",
       "      <td>0.511435</td>\n",
       "      <td>0.844075</td>\n",
       "      <td>0.495842</td>\n",
       "      <td>0.320166</td>\n",
       "      <td>0.902287</td>\n",
       "      <td>4.755717</td>\n",
       "      <td>0.423077</td>\n",
       "      <td>29.401247</td>\n",
       "      <td>174.873445</td>\n",
       "      <td>4.376299</td>\n",
       "      <td>3.749480</td>\n",
       "      <td>1.895200</td>\n",
       "      <td>1.785569</td>\n",
       "      <td>0.226611</td>\n",
       "    </tr>\n",
       "    <tr>\n",
       "      <th>2</th>\n",
       "      <td>2</td>\n",
       "      <td>0.468635</td>\n",
       "      <td>0.856089</td>\n",
       "      <td>0.516605</td>\n",
       "      <td>0.332103</td>\n",
       "      <td>0.926199</td>\n",
       "      <td>5.822878</td>\n",
       "      <td>0.431734</td>\n",
       "      <td>29.845018</td>\n",
       "      <td>356.481960</td>\n",
       "      <td>5.383764</td>\n",
       "      <td>4.420664</td>\n",
       "      <td>2.019260</td>\n",
       "      <td>2.009382</td>\n",
       "      <td>0.044280</td>\n",
       "    </tr>\n",
       "    <tr>\n",
       "      <th>3</th>\n",
       "      <td>3</td>\n",
       "      <td>0.508721</td>\n",
       "      <td>0.824612</td>\n",
       "      <td>0.488372</td>\n",
       "      <td>0.293605</td>\n",
       "      <td>0.907946</td>\n",
       "      <td>4.198643</td>\n",
       "      <td>0.387597</td>\n",
       "      <td>28.908915</td>\n",
       "      <td>35.600722</td>\n",
       "      <td>3.855620</td>\n",
       "      <td>3.394380</td>\n",
       "      <td>1.836755</td>\n",
       "      <td>1.692641</td>\n",
       "      <td>0.349806</td>\n",
       "    </tr>\n",
       "    <tr>\n",
       "      <th>4</th>\n",
       "      <td>4</td>\n",
       "      <td>0.521246</td>\n",
       "      <td>0.881020</td>\n",
       "      <td>0.511331</td>\n",
       "      <td>0.347025</td>\n",
       "      <td>0.898017</td>\n",
       "      <td>5.400850</td>\n",
       "      <td>0.433428</td>\n",
       "      <td>29.344193</td>\n",
       "      <td>250.984767</td>\n",
       "      <td>5.001416</td>\n",
       "      <td>4.169972</td>\n",
       "      <td>1.903480</td>\n",
       "      <td>1.843255</td>\n",
       "      <td>0.178470</td>\n",
       "    </tr>\n",
       "  </tbody>\n",
       "</table>\n",
       "</div>"
      ],
      "text/plain": [
       "   cluster_km    gender  near_location   partner  promo_friends     phone  \\\n",
       "0           0  0.514091       0.839650  0.451895       0.279883  0.897959   \n",
       "1           1  0.511435       0.844075  0.495842       0.320166  0.902287   \n",
       "2           2  0.468635       0.856089  0.516605       0.332103  0.926199   \n",
       "3           3  0.508721       0.824612  0.488372       0.293605  0.907946   \n",
       "4           4  0.521246       0.881020  0.511331       0.347025  0.898017   \n",
       "\n",
       "   contract_period  group_visits        age  avg_additional_charges_total  \\\n",
       "0         4.301263      0.407191  28.973761                    105.932804   \n",
       "1         4.755717      0.423077  29.401247                    174.873445   \n",
       "2         5.822878      0.431734  29.845018                    356.481960   \n",
       "3         4.198643      0.387597  28.908915                     35.600722   \n",
       "4         5.400850      0.433428  29.344193                    250.984767   \n",
       "\n",
       "   month_to_end_contract  lifetime  avg_class_frequency_total  \\\n",
       "0               3.996113  3.544218                   1.852564   \n",
       "1               4.376299  3.749480                   1.895200   \n",
       "2               5.383764  4.420664                   2.019260   \n",
       "3               3.855620  3.394380                   1.836755   \n",
       "4               5.001416  4.169972                   1.903480   \n",
       "\n",
       "   avg_class_frequency_current_month     churn  \n",
       "0                           1.708264  0.334305  \n",
       "1                           1.785569  0.226611  \n",
       "2                           2.009382  0.044280  \n",
       "3                           1.692641  0.349806  \n",
       "4                           1.843255  0.178470  "
      ]
     },
     "execution_count": 30,
     "metadata": {},
     "output_type": "execute_result"
    }
   ],
   "source": [
    "df_clusters = df.groupby('cluster_km').mean().reset_index()\n",
    "df_clusters"
   ]
  },
  {
   "cell_type": "markdown",
   "metadata": {},
   "source": [
    "Среднее значение признака \"Суммарная выручка от других услуг фитнес-центра\" для кластеров 2 и 4 сильно отличается от других кластеров. По этим же кластерам имеем наименьшую долю клиентов, ушедших в отток."
   ]
  },
  {
   "cell_type": "markdown",
   "metadata": {},
   "source": [
    "Для наглядности построим распределения признаков для кластеров."
   ]
  },
  {
   "cell_type": "code",
   "execution_count": 31,
   "metadata": {},
   "outputs": [
    {
     "data": {
      "image/png": "[encoded data removed]",
      "text/plain": [
       "<Figure size 1584x1080 with 6 Axes>"
      ]
     },
     "metadata": {
      "needs_background": "light"
     },
     "output_type": "display_data"
    }
   ],
   "source": [
    "fig, ax = plt.subplots(3, 2, figsize=(22, 15))\n",
    "ax=ax.ravel()\n",
    "sns.set_theme(style=\"whitegrid\")\n",
    "\n",
    "for i in range(len(number_signs_list)):\n",
    "    sns.boxplot(x=\"cluster_km\", y=number_signs_list[i], ax=ax[i], data=df)\n",
    "    \n",
    "fig.suptitle('Распределение количественных признаков для разных кластеров', fontsize = 20)\n",
    "plt.show()   "
   ]
  },
  {
   "cell_type": "markdown",
   "metadata": {},
   "source": [
    "На этих графиках видно, что модель придает большое значение признаку \"Суммарная выручка от других услуг фитнес-центра\". Распределение других признаков примерно одинаковое. "
   ]
  },
  {
   "cell_type": "markdown",
   "metadata": {},
   "source": [
    "## Общий вывод:"
   ]
  },
  {
   "cell_type": "markdown",
   "metadata": {},
   "source": [
    "1) С помощью исследовательского анализа данных выяснили, что на факт оттока влияют следующие признаки:<br>\n",
    "- Суммарная выручка от других услуг фитнес-центра;<br>\n",
    "- Время с момента первого обращения в фитнес-центр;<br>\n",
    "- Средняя частота посещений в неделю (за последний месяц и с начала действия абонемента);<br>\n",
    "- Проживание или работа в районе, где находится фитнес-центр;<br>\n",
    "- Является ли клиент сотрудником компании-партнера;<br>\n",
    "- Пришел ли клиент по акции \"Приведи друга\";<br>\n",
    "- Срок абонемента;<br>\n",
    "- Факт посещения групповых занятий.<br>\n",
    "\n",
    "2) Методом логистической регрессии построили модель предсказания оттока клиента с достаточно высокими метриками (Accuracy: 0.93\n",
    "Precision: 0.86, Recall: 0.83, F1: 0.85)<br>\n",
    "\n",
    "3) Методом K-Means спрогнозировали кластеры клиентов. Выяснили, что модель придает большое значение признаку \"Суммарная выручка от других услуг фитнес-центра\". Те, кто больше тратит на дополнительные услуги фитнес-центра, реже попадают в отток.\n",
    "\n",
    "**Рекомендации:**\n",
    "1) Необходимо мотивировать клиентов пользоваться дополнительными услугами фитнес-центра, например, дарить дополнительные месяцы, если клиент активно пользуется дополнительными услугами. Стоит подумать о расширении ассортимента дополнительных услуг;<br>\n",
    "2) Вероятность того, что клиент останется выше, если он покупает абонемент на длительное время. Необходимо мотивировать клиента на покупку абонемента сразу на год с помощью ценовой политики или улучшить работу менеджеров по продажам; <br>\n",
    "3) Продолжать и расширять работу с компаниями-партнерами;<br>\n",
    "4) Продолжать и расширять акцию \"Приведи друга\";<br>\n",
    "5) Мотивировать клиентов приходить на групповые занятия. <br>"
   ]
  }
 ],
 "metadata": {
  "ExecuteTimeLog": [
   {
    "duration": 414,
    "start_time": "2022-07-20T20:34:40.941Z"
   },
   {
    "duration": 104,
    "start_time": "2022-07-20T20:35:09.949Z"
   },
   {
    "duration": 86,
    "start_time": "2022-07-20T20:35:20.134Z"
   },
   {
    "duration": 3,
    "start_time": "2022-07-20T20:37:23.908Z"
   },
   {
    "duration": 13,
    "start_time": "2022-07-20T20:37:53.270Z"
   },
   {
    "duration": 15,
    "start_time": "2022-07-20T20:39:27.235Z"
   },
   {
    "duration": 67,
    "start_time": "2022-07-20T20:39:39.927Z"
   },
   {
    "duration": 1414,
    "start_time": "2022-07-21T19:20:58.088Z"
   },
   {
    "duration": 252,
    "start_time": "2022-07-21T19:21:08.276Z"
   },
   {
    "duration": 21,
    "start_time": "2022-07-21T19:22:48.031Z"
   },
   {
    "duration": 18,
    "start_time": "2022-07-21T19:23:34.948Z"
   },
   {
    "duration": 15,
    "start_time": "2022-07-21T19:25:32.285Z"
   },
   {
    "duration": 96,
    "start_time": "2022-07-21T19:28:51.888Z"
   },
   {
    "duration": 8,
    "start_time": "2022-07-21T19:31:01.795Z"
   },
   {
    "duration": 9,
    "start_time": "2022-07-21T19:31:19.664Z"
   },
   {
    "duration": 9,
    "start_time": "2022-07-21T19:31:33.226Z"
   },
   {
    "duration": 4,
    "start_time": "2022-07-21T19:32:18.316Z"
   },
   {
    "duration": 3,
    "start_time": "2022-07-21T19:32:31.578Z"
   },
   {
    "duration": 14,
    "start_time": "2022-07-21T19:32:47.347Z"
   },
   {
    "duration": 4,
    "start_time": "2022-07-21T19:32:53.162Z"
   },
   {
    "duration": 9,
    "start_time": "2022-07-21T19:32:56.539Z"
   },
   {
    "duration": 1201,
    "start_time": "2022-07-21T19:33:05.557Z"
   },
   {
    "duration": 43,
    "start_time": "2022-07-21T19:33:06.760Z"
   },
   {
    "duration": 10,
    "start_time": "2022-07-21T19:33:06.804Z"
   },
   {
    "duration": 6,
    "start_time": "2022-07-21T19:33:06.816Z"
   },
   {
    "duration": 10,
    "start_time": "2022-07-21T19:33:06.824Z"
   },
   {
    "duration": 15,
    "start_time": "2022-07-21T19:33:06.835Z"
   },
   {
    "duration": 65,
    "start_time": "2022-07-21T19:33:06.852Z"
   },
   {
    "duration": 3,
    "start_time": "2022-07-21T19:33:19.095Z"
   },
   {
    "duration": 10,
    "start_time": "2022-07-21T19:33:22.313Z"
   },
   {
    "duration": 11,
    "start_time": "2022-07-21T19:37:40.478Z"
   },
   {
    "duration": 72,
    "start_time": "2022-07-21T19:39:03.144Z"
   },
   {
    "duration": 7,
    "start_time": "2022-07-21T19:41:11.214Z"
   },
   {
    "duration": 24,
    "start_time": "2022-07-21T19:51:41.281Z"
   },
   {
    "duration": 178,
    "start_time": "2022-07-21T19:55:40.194Z"
   },
   {
    "duration": 419,
    "start_time": "2022-07-21T19:56:15.040Z"
   },
   {
    "duration": 958,
    "start_time": "2022-07-21T19:56:28.175Z"
   },
   {
    "duration": 631,
    "start_time": "2022-07-21T20:06:42.304Z"
   },
   {
    "duration": 702,
    "start_time": "2022-07-21T20:07:24.145Z"
   },
   {
    "duration": 575,
    "start_time": "2022-07-21T20:07:58.350Z"
   },
   {
    "duration": 1749,
    "start_time": "2022-07-21T20:08:08.771Z"
   },
   {
    "duration": 1565,
    "start_time": "2022-07-21T20:08:36.193Z"
   },
   {
    "duration": 1227,
    "start_time": "2022-07-21T20:10:20.802Z"
   },
   {
    "duration": 1288,
    "start_time": "2022-07-21T20:10:29.617Z"
   },
   {
    "duration": 80,
    "start_time": "2022-07-22T19:52:34.495Z"
   },
   {
    "duration": 2452,
    "start_time": "2022-07-22T19:52:40.904Z"
   },
   {
    "duration": 159,
    "start_time": "2022-07-22T19:52:43.360Z"
   },
   {
    "duration": 18,
    "start_time": "2022-07-22T19:52:43.521Z"
   },
   {
    "duration": 4,
    "start_time": "2022-07-22T19:52:43.541Z"
   },
   {
    "duration": 31,
    "start_time": "2022-07-22T19:52:43.549Z"
   },
   {
    "duration": 13,
    "start_time": "2022-07-22T19:52:43.582Z"
   },
   {
    "duration": 41,
    "start_time": "2022-07-22T19:52:43.598Z"
   },
   {
    "duration": 1408,
    "start_time": "2022-07-22T19:52:43.641Z"
   },
   {
    "duration": 1263,
    "start_time": "2022-07-22T19:53:18.846Z"
   },
   {
    "duration": 50,
    "start_time": "2022-07-22T19:54:12.087Z"
   },
   {
    "duration": 46,
    "start_time": "2022-07-22T19:54:23.195Z"
   },
   {
    "duration": 9,
    "start_time": "2022-07-22T20:03:38.673Z"
   },
   {
    "duration": 43,
    "start_time": "2022-07-22T20:03:49.469Z"
   },
   {
    "duration": 15,
    "start_time": "2022-07-22T20:03:58.950Z"
   },
   {
    "duration": 8,
    "start_time": "2022-07-22T20:04:29.056Z"
   },
   {
    "duration": 14,
    "start_time": "2022-07-22T20:06:13.868Z"
   },
   {
    "duration": 4,
    "start_time": "2022-07-22T20:06:15.900Z"
   },
   {
    "duration": 38,
    "start_time": "2022-07-22T20:06:16.595Z"
   },
   {
    "duration": 7,
    "start_time": "2022-07-22T20:06:32.589Z"
   },
   {
    "duration": 94,
    "start_time": "2022-07-22T20:06:38.303Z"
   },
   {
    "duration": 6,
    "start_time": "2022-07-22T20:06:41.294Z"
   },
   {
    "duration": 9,
    "start_time": "2022-07-22T20:06:51.437Z"
   },
   {
    "duration": 1799,
    "start_time": "2022-07-22T20:09:07.625Z"
   },
   {
    "duration": 991,
    "start_time": "2022-07-22T20:09:39.710Z"
   },
   {
    "duration": 952,
    "start_time": "2022-07-22T20:09:55.997Z"
   },
   {
    "duration": 1102,
    "start_time": "2022-07-22T20:10:25.646Z"
   },
   {
    "duration": 1017,
    "start_time": "2022-07-22T20:12:00.483Z"
   },
   {
    "duration": 722,
    "start_time": "2022-07-22T20:12:30.386Z"
   },
   {
    "duration": 688,
    "start_time": "2022-07-22T20:12:49.934Z"
   },
   {
    "duration": 692,
    "start_time": "2022-07-22T20:13:19.512Z"
   },
   {
    "duration": 938,
    "start_time": "2022-07-22T20:19:47.441Z"
   },
   {
    "duration": 707,
    "start_time": "2022-07-22T20:27:30.869Z"
   },
   {
    "duration": 745,
    "start_time": "2022-07-22T20:28:11.665Z"
   },
   {
    "duration": 785,
    "start_time": "2022-07-22T20:28:25.799Z"
   },
   {
    "duration": 1212,
    "start_time": "2022-07-22T20:30:15.782Z"
   },
   {
    "duration": 909,
    "start_time": "2022-07-22T20:30:42.854Z"
   },
   {
    "duration": 923,
    "start_time": "2022-07-22T20:30:55.601Z"
   },
   {
    "duration": 829,
    "start_time": "2022-07-22T20:32:12.927Z"
   },
   {
    "duration": 34,
    "start_time": "2022-07-22T20:32:19.702Z"
   },
   {
    "duration": 14,
    "start_time": "2022-07-22T20:32:31.857Z"
   },
   {
    "duration": 171,
    "start_time": "2022-07-22T20:32:40.091Z"
   },
   {
    "duration": 193,
    "start_time": "2022-07-22T20:33:10.594Z"
   },
   {
    "duration": 597,
    "start_time": "2022-07-22T20:33:16.497Z"
   },
   {
    "duration": 548,
    "start_time": "2022-07-22T20:34:17.991Z"
   },
   {
    "duration": 860,
    "start_time": "2022-07-22T20:34:35.590Z"
   },
   {
    "duration": 710,
    "start_time": "2022-07-22T20:36:01.550Z"
   },
   {
    "duration": 595,
    "start_time": "2022-07-22T20:36:20.005Z"
   },
   {
    "duration": 590,
    "start_time": "2022-07-22T20:36:56.145Z"
   },
   {
    "duration": 753,
    "start_time": "2022-07-22T20:37:12.695Z"
   },
   {
    "duration": 1354,
    "start_time": "2022-07-22T20:37:23.262Z"
   },
   {
    "duration": 108,
    "start_time": "2022-07-22T20:39:27.987Z"
   },
   {
    "duration": 159,
    "start_time": "2022-07-22T20:39:35.245Z"
   },
   {
    "duration": 2045,
    "start_time": "2022-07-22T20:39:45.741Z"
   },
   {
    "duration": 652,
    "start_time": "2022-07-22T20:40:02.586Z"
   },
   {
    "duration": 848,
    "start_time": "2022-07-22T20:40:55.818Z"
   },
   {
    "duration": 667,
    "start_time": "2022-07-22T20:41:24.473Z"
   },
   {
    "duration": 658,
    "start_time": "2022-07-22T20:41:32.605Z"
   },
   {
    "duration": 1307,
    "start_time": "2022-07-22T20:43:49.553Z"
   },
   {
    "duration": 1026,
    "start_time": "2022-07-22T20:44:00.363Z"
   },
   {
    "duration": 2144,
    "start_time": "2022-07-22T20:44:07.495Z"
   },
   {
    "duration": 744,
    "start_time": "2022-07-22T21:16:35.318Z"
   },
   {
    "duration": 664,
    "start_time": "2022-07-22T21:16:57.463Z"
   },
   {
    "duration": 590,
    "start_time": "2022-07-22T21:17:28.566Z"
   },
   {
    "duration": 694,
    "start_time": "2022-07-22T21:18:17.483Z"
   },
   {
    "duration": 858,
    "start_time": "2022-07-22T21:19:53.637Z"
   },
   {
    "duration": 1389,
    "start_time": "2022-07-22T21:20:31.141Z"
   },
   {
    "duration": 1474,
    "start_time": "2022-07-22T21:22:26.954Z"
   },
   {
    "duration": 98,
    "start_time": "2022-07-22T21:23:24.836Z"
   },
   {
    "duration": 104,
    "start_time": "2022-07-22T21:23:39.974Z"
   },
   {
    "duration": 2222,
    "start_time": "2022-07-22T21:23:47.466Z"
   },
   {
    "duration": 2355,
    "start_time": "2022-07-22T21:24:09.437Z"
   },
   {
    "duration": 1526,
    "start_time": "2022-07-23T19:25:04.237Z"
   },
   {
    "duration": 82,
    "start_time": "2022-07-23T19:25:05.765Z"
   },
   {
    "duration": 12,
    "start_time": "2022-07-23T19:25:05.848Z"
   },
   {
    "duration": 10,
    "start_time": "2022-07-23T19:25:05.862Z"
   },
   {
    "duration": 18,
    "start_time": "2022-07-23T19:25:05.874Z"
   },
   {
    "duration": 7,
    "start_time": "2022-07-23T19:25:05.894Z"
   },
   {
    "duration": 4,
    "start_time": "2022-07-23T19:25:05.903Z"
   },
   {
    "duration": 31,
    "start_time": "2022-07-23T19:25:05.908Z"
   },
   {
    "duration": 6,
    "start_time": "2022-07-23T19:25:05.941Z"
   },
   {
    "duration": 12,
    "start_time": "2022-07-23T19:25:05.949Z"
   },
   {
    "duration": 1719,
    "start_time": "2022-07-23T19:25:05.962Z"
   },
   {
    "duration": 125,
    "start_time": "2022-07-23T19:25:07.682Z"
   },
   {
    "duration": 111,
    "start_time": "2022-07-23T19:34:45.778Z"
   },
   {
    "duration": 3,
    "start_time": "2022-07-23T19:34:49.372Z"
   },
   {
    "duration": 11,
    "start_time": "2022-07-23T19:34:50.610Z"
   },
   {
    "duration": 3,
    "start_time": "2022-07-23T19:35:16.128Z"
   },
   {
    "duration": 17,
    "start_time": "2022-07-23T19:35:17.134Z"
   },
   {
    "duration": 12,
    "start_time": "2022-07-23T19:35:47.985Z"
   },
   {
    "duration": 1213,
    "start_time": "2022-07-23T19:36:45.949Z"
   },
   {
    "duration": 1692,
    "start_time": "2022-07-23T19:36:57.304Z"
   },
   {
    "duration": 6,
    "start_time": "2022-07-23T19:41:59.130Z"
   },
   {
    "duration": 13,
    "start_time": "2022-07-23T19:42:02.488Z"
   },
   {
    "duration": 19,
    "start_time": "2022-07-23T19:42:52.509Z"
   },
   {
    "duration": 10,
    "start_time": "2022-07-23T19:42:59.030Z"
   },
   {
    "duration": 11,
    "start_time": "2022-07-23T19:43:05.132Z"
   },
   {
    "duration": 14,
    "start_time": "2022-07-23T19:43:32.446Z"
   },
   {
    "duration": 18,
    "start_time": "2022-07-23T19:44:07.447Z"
   },
   {
    "duration": 7,
    "start_time": "2022-07-23T19:44:24.871Z"
   },
   {
    "duration": 18,
    "start_time": "2022-07-23T19:44:25.405Z"
   },
   {
    "duration": 5,
    "start_time": "2022-07-23T19:44:48.929Z"
   },
   {
    "duration": 12,
    "start_time": "2022-07-23T19:44:53.722Z"
   },
   {
    "duration": 18,
    "start_time": "2022-07-23T20:02:17.391Z"
   },
   {
    "duration": 13,
    "start_time": "2022-07-23T20:02:39.982Z"
   },
   {
    "duration": 21,
    "start_time": "2022-07-23T20:08:48.344Z"
   },
   {
    "duration": 1492,
    "start_time": "2022-07-23T20:09:40.214Z"
   },
   {
    "duration": 1508,
    "start_time": "2022-07-23T20:10:01.865Z"
   },
   {
    "duration": 1412,
    "start_time": "2022-07-23T20:10:07.354Z"
   },
   {
    "duration": 1504,
    "start_time": "2022-07-23T20:10:39.565Z"
   },
   {
    "duration": 1556,
    "start_time": "2022-07-23T20:11:31.810Z"
   },
   {
    "duration": 1665,
    "start_time": "2022-07-23T20:11:40.244Z"
   },
   {
    "duration": 142,
    "start_time": "2022-07-23T20:15:08.899Z"
   },
   {
    "duration": 141,
    "start_time": "2022-07-23T20:16:42.441Z"
   },
   {
    "duration": 17,
    "start_time": "2022-07-23T20:18:13.772Z"
   },
   {
    "duration": 4,
    "start_time": "2022-07-23T20:18:24.856Z"
   },
   {
    "duration": 27,
    "start_time": "2022-07-23T20:18:31.114Z"
   },
   {
    "duration": 5,
    "start_time": "2022-07-23T20:18:50.439Z"
   },
   {
    "duration": 14,
    "start_time": "2022-07-23T20:18:54.717Z"
   },
   {
    "duration": 3,
    "start_time": "2022-07-23T20:19:38.015Z"
   },
   {
    "duration": 6,
    "start_time": "2022-07-23T20:19:44.107Z"
   },
   {
    "duration": 11,
    "start_time": "2022-07-23T20:22:49.163Z"
   },
   {
    "duration": 7,
    "start_time": "2022-07-23T20:23:08.606Z"
   },
   {
    "duration": 6,
    "start_time": "2022-07-23T20:25:33.561Z"
   },
   {
    "duration": 9,
    "start_time": "2022-07-23T20:28:20.833Z"
   },
   {
    "duration": 19,
    "start_time": "2022-07-23T20:30:39.944Z"
   },
   {
    "duration": 3,
    "start_time": "2022-07-23T20:30:53.755Z"
   },
   {
    "duration": 3,
    "start_time": "2022-07-23T20:30:59.670Z"
   },
   {
    "duration": 23753,
    "start_time": "2022-07-23T20:31:38.604Z"
   },
   {
    "duration": 26,
    "start_time": "2022-07-23T20:32:13.989Z"
   },
   {
    "duration": 32,
    "start_time": "2022-07-23T20:32:20.678Z"
   },
   {
    "duration": 25,
    "start_time": "2022-07-23T20:32:35.835Z"
   },
   {
    "duration": 4,
    "start_time": "2022-07-23T20:33:32.959Z"
   },
   {
    "duration": 13,
    "start_time": "2022-07-23T20:33:38.562Z"
   },
   {
    "duration": 7,
    "start_time": "2022-07-23T20:33:46.778Z"
   },
   {
    "duration": 9,
    "start_time": "2022-07-23T20:34:08.148Z"
   },
   {
    "duration": 7,
    "start_time": "2022-07-23T20:35:51.767Z"
   },
   {
    "duration": 4,
    "start_time": "2022-07-23T20:37:09.960Z"
   },
   {
    "duration": 7,
    "start_time": "2022-07-23T20:37:15.296Z"
   },
   {
    "duration": 5,
    "start_time": "2022-07-23T20:49:02.169Z"
   },
   {
    "duration": 2,
    "start_time": "2022-07-23T20:49:34.740Z"
   },
   {
    "duration": 741,
    "start_time": "2022-07-23T20:53:44.392Z"
   },
   {
    "duration": 10,
    "start_time": "2022-07-23T20:54:12.150Z"
   },
   {
    "duration": 1406,
    "start_time": "2022-07-23T20:54:31.701Z"
   },
   {
    "duration": 46,
    "start_time": "2022-07-23T20:54:33.109Z"
   },
   {
    "duration": 11,
    "start_time": "2022-07-23T20:54:33.157Z"
   },
   {
    "duration": 3,
    "start_time": "2022-07-23T20:54:33.170Z"
   },
   {
    "duration": 6,
    "start_time": "2022-07-23T20:54:33.174Z"
   },
   {
    "duration": 14,
    "start_time": "2022-07-23T20:54:33.181Z"
   },
   {
    "duration": 7,
    "start_time": "2022-07-23T20:54:33.196Z"
   },
   {
    "duration": 2,
    "start_time": "2022-07-23T20:54:33.205Z"
   },
   {
    "duration": 40,
    "start_time": "2022-07-23T20:54:33.208Z"
   },
   {
    "duration": 1663,
    "start_time": "2022-07-23T20:54:33.250Z"
   },
   {
    "duration": 1454,
    "start_time": "2022-07-23T20:54:34.915Z"
   },
   {
    "duration": 21,
    "start_time": "2022-07-23T20:54:36.371Z"
   },
   {
    "duration": 1671,
    "start_time": "2022-07-23T20:54:36.393Z"
   },
   {
    "duration": 4,
    "start_time": "2022-07-23T20:54:38.066Z"
   },
   {
    "duration": 8,
    "start_time": "2022-07-23T20:54:38.072Z"
   },
   {
    "duration": 10,
    "start_time": "2022-07-23T20:54:38.081Z"
   },
   {
    "duration": 48,
    "start_time": "2022-07-23T20:54:38.092Z"
   },
   {
    "duration": 183,
    "start_time": "2022-07-23T20:54:38.142Z"
   },
   {
    "duration": 9,
    "start_time": "2022-07-23T20:54:38.328Z"
   },
   {
    "duration": 185,
    "start_time": "2022-07-23T20:54:38.340Z"
   },
   {
    "duration": 7,
    "start_time": "2022-07-23T20:54:38.527Z"
   },
   {
    "duration": 8,
    "start_time": "2022-07-23T20:54:38.536Z"
   },
   {
    "duration": 5,
    "start_time": "2022-07-23T20:54:38.546Z"
   },
   {
    "duration": 107,
    "start_time": "2022-07-23T20:58:50.169Z"
   },
   {
    "duration": 5,
    "start_time": "2022-07-23T21:00:00.304Z"
   },
   {
    "duration": 3,
    "start_time": "2022-07-23T21:00:07.744Z"
   },
   {
    "duration": 3,
    "start_time": "2022-07-23T21:00:23.911Z"
   },
   {
    "duration": 40,
    "start_time": "2022-07-23T21:00:31.888Z"
   },
   {
    "duration": 3,
    "start_time": "2022-07-23T21:00:34.471Z"
   },
   {
    "duration": 354,
    "start_time": "2022-07-23T21:00:37.496Z"
   },
   {
    "duration": 9,
    "start_time": "2022-07-23T21:00:42.390Z"
   },
   {
    "duration": 3,
    "start_time": "2022-07-23T21:02:58.125Z"
   },
   {
    "duration": 11,
    "start_time": "2022-07-23T21:03:19.505Z"
   },
   {
    "duration": 13,
    "start_time": "2022-07-23T21:03:26.338Z"
   },
   {
    "duration": 8,
    "start_time": "2022-07-23T21:03:46.793Z"
   },
   {
    "duration": 31,
    "start_time": "2022-07-23T21:04:08.008Z"
   },
   {
    "duration": 9,
    "start_time": "2022-07-23T21:04:09.898Z"
   },
   {
    "duration": 8,
    "start_time": "2022-07-23T21:09:17.035Z"
   },
   {
    "duration": 4,
    "start_time": "2022-07-23T21:09:18.674Z"
   },
   {
    "duration": 3,
    "start_time": "2022-07-23T21:10:19.169Z"
   },
   {
    "duration": 1366,
    "start_time": "2022-07-23T21:10:30.170Z"
   },
   {
    "duration": 4,
    "start_time": "2022-07-23T21:11:10.844Z"
   },
   {
    "duration": 3,
    "start_time": "2022-07-23T21:11:42.021Z"
   },
   {
    "duration": 17,
    "start_time": "2022-07-23T21:11:47.535Z"
   },
   {
    "duration": 10,
    "start_time": "2022-07-23T21:12:20.459Z"
   },
   {
    "duration": 12,
    "start_time": "2022-07-23T21:12:29.297Z"
   },
   {
    "duration": 17,
    "start_time": "2022-07-23T21:12:53.143Z"
   },
   {
    "duration": 20,
    "start_time": "2022-07-23T21:13:04.579Z"
   },
   {
    "duration": 17,
    "start_time": "2022-07-23T21:14:02.430Z"
   },
   {
    "duration": 4,
    "start_time": "2022-07-23T22:22:03.871Z"
   },
   {
    "duration": 339,
    "start_time": "2022-07-23T22:23:15.914Z"
   },
   {
    "duration": 85281,
    "start_time": "2022-07-23T22:23:41.026Z"
   },
   {
    "duration": 17,
    "start_time": "2022-07-23T22:32:18.775Z"
   },
   {
    "duration": 17,
    "start_time": "2022-07-23T22:33:46.772Z"
   },
   {
    "duration": 1397,
    "start_time": "2022-07-23T22:36:20.510Z"
   },
   {
    "duration": 44,
    "start_time": "2022-07-23T22:36:21.909Z"
   },
   {
    "duration": 12,
    "start_time": "2022-07-23T22:36:21.955Z"
   },
   {
    "duration": 7,
    "start_time": "2022-07-23T22:36:21.969Z"
   },
   {
    "duration": 6,
    "start_time": "2022-07-23T22:36:21.977Z"
   },
   {
    "duration": 14,
    "start_time": "2022-07-23T22:36:21.984Z"
   },
   {
    "duration": 9,
    "start_time": "2022-07-23T22:36:21.999Z"
   },
   {
    "duration": 15,
    "start_time": "2022-07-23T22:36:22.010Z"
   },
   {
    "duration": 28,
    "start_time": "2022-07-23T22:36:22.026Z"
   },
   {
    "duration": 16,
    "start_time": "2022-07-23T22:36:22.057Z"
   },
   {
    "duration": 1679,
    "start_time": "2022-07-23T22:36:22.074Z"
   },
   {
    "duration": 1454,
    "start_time": "2022-07-23T22:36:23.755Z"
   },
   {
    "duration": 28,
    "start_time": "2022-07-23T22:36:25.211Z"
   },
   {
    "duration": 1560,
    "start_time": "2022-07-23T22:36:25.240Z"
   },
   {
    "duration": 4,
    "start_time": "2022-07-23T22:36:26.802Z"
   },
   {
    "duration": 19,
    "start_time": "2022-07-23T22:36:26.807Z"
   },
   {
    "duration": 3,
    "start_time": "2022-07-23T22:36:26.827Z"
   },
   {
    "duration": 92,
    "start_time": "2022-07-23T22:36:26.832Z"
   },
   {
    "duration": 101,
    "start_time": "2022-07-23T22:36:26.927Z"
   },
   {
    "duration": 3,
    "start_time": "2022-07-23T22:36:27.029Z"
   },
   {
    "duration": 389,
    "start_time": "2022-07-23T22:36:27.034Z"
   },
   {
    "duration": 8,
    "start_time": "2022-07-23T22:36:27.425Z"
   },
   {
    "duration": 8,
    "start_time": "2022-07-23T22:36:27.434Z"
   },
   {
    "duration": 9,
    "start_time": "2022-07-23T22:36:27.444Z"
   },
   {
    "duration": 350,
    "start_time": "2022-07-23T22:36:27.455Z"
   },
   {
    "duration": 83489,
    "start_time": "2022-07-23T22:36:27.806Z"
   },
   {
    "duration": 1427,
    "start_time": "2022-07-23T22:37:51.297Z"
   },
   {
    "duration": 3,
    "start_time": "2022-07-23T22:37:52.727Z"
   },
   {
    "duration": 21,
    "start_time": "2022-07-23T22:37:52.731Z"
   },
   {
    "duration": 19,
    "start_time": "2022-07-23T22:37:52.754Z"
   },
   {
    "duration": 20,
    "start_time": "2022-07-23T22:44:02.989Z"
   },
   {
    "duration": 7,
    "start_time": "2022-07-23T22:44:13.063Z"
   },
   {
    "duration": 11,
    "start_time": "2022-07-23T22:44:21.515Z"
   },
   {
    "duration": 1233,
    "start_time": "2022-07-23T22:57:31.202Z"
   },
   {
    "duration": 1649,
    "start_time": "2022-07-23T22:58:14.176Z"
   },
   {
    "duration": 1245,
    "start_time": "2022-07-23T22:58:32.005Z"
   },
   {
    "duration": 105,
    "start_time": "2022-07-23T23:00:16.378Z"
   },
   {
    "duration": 13,
    "start_time": "2022-07-23T23:00:32.702Z"
   },
   {
    "duration": 12,
    "start_time": "2022-07-23T23:01:57.042Z"
   },
   {
    "duration": 11,
    "start_time": "2022-07-23T23:02:38.646Z"
   },
   {
    "duration": 14,
    "start_time": "2022-07-23T23:03:06.263Z"
   },
   {
    "duration": 12,
    "start_time": "2022-07-23T23:03:44.638Z"
   },
   {
    "duration": 12,
    "start_time": "2022-07-23T23:04:20.482Z"
   },
   {
    "duration": 14,
    "start_time": "2022-07-23T23:04:25.639Z"
   },
   {
    "duration": 1771,
    "start_time": "2022-07-24T18:18:16.046Z"
   },
   {
    "duration": 87,
    "start_time": "2022-07-24T18:18:17.820Z"
   },
   {
    "duration": 16,
    "start_time": "2022-07-24T18:18:17.908Z"
   },
   {
    "duration": 17,
    "start_time": "2022-07-24T18:18:17.926Z"
   },
   {
    "duration": 8,
    "start_time": "2022-07-24T18:18:17.946Z"
   },
   {
    "duration": 9,
    "start_time": "2022-07-24T18:18:17.956Z"
   },
   {
    "duration": 19,
    "start_time": "2022-07-24T18:18:17.967Z"
   },
   {
    "duration": 30,
    "start_time": "2022-07-24T18:18:17.989Z"
   },
   {
    "duration": 11,
    "start_time": "2022-07-24T18:18:18.021Z"
   },
   {
    "duration": 48,
    "start_time": "2022-07-24T18:18:18.034Z"
   },
   {
    "duration": 1828,
    "start_time": "2022-07-24T18:18:18.084Z"
   },
   {
    "duration": 15,
    "start_time": "2022-07-24T18:18:19.914Z"
   },
   {
    "duration": 1379,
    "start_time": "2022-07-24T18:18:19.930Z"
   },
   {
    "duration": 1682,
    "start_time": "2022-07-24T18:18:21.313Z"
   },
   {
    "duration": 5,
    "start_time": "2022-07-24T18:18:22.996Z"
   },
   {
    "duration": 8,
    "start_time": "2022-07-24T18:18:23.003Z"
   },
   {
    "duration": 11,
    "start_time": "2022-07-24T18:18:23.013Z"
   },
   {
    "duration": 134,
    "start_time": "2022-07-24T18:18:23.026Z"
   },
   {
    "duration": 99,
    "start_time": "2022-07-24T18:18:23.162Z"
   },
   {
    "duration": 4,
    "start_time": "2022-07-24T18:18:23.263Z"
   },
   {
    "duration": 367,
    "start_time": "2022-07-24T18:18:23.269Z"
   },
   {
    "duration": 12,
    "start_time": "2022-07-24T18:18:23.638Z"
   },
   {
    "duration": 11,
    "start_time": "2022-07-24T18:18:23.661Z"
   },
   {
    "duration": 8,
    "start_time": "2022-07-24T18:18:23.674Z"
   },
   {
    "duration": 462,
    "start_time": "2022-07-24T18:18:23.685Z"
   },
   {
    "duration": 89534,
    "start_time": "2022-07-24T18:18:24.149Z"
   },
   {
    "duration": 1185,
    "start_time": "2022-07-24T18:19:53.684Z"
   },
   {
    "duration": 5,
    "start_time": "2022-07-24T18:19:54.871Z"
   },
   {
    "duration": 28,
    "start_time": "2022-07-24T18:19:54.878Z"
   },
   {
    "duration": 41,
    "start_time": "2022-07-24T18:19:54.908Z"
   },
   {
    "duration": 7,
    "start_time": "2022-07-24T18:20:07.239Z"
   },
   {
    "duration": 7,
    "start_time": "2022-07-24T18:20:38.289Z"
   },
   {
    "duration": 5,
    "start_time": "2022-07-24T18:21:22.619Z"
   },
   {
    "duration": 12,
    "start_time": "2022-07-24T18:21:34.013Z"
   },
   {
    "duration": 110,
    "start_time": "2022-07-24T18:23:13.001Z"
   },
   {
    "duration": 114,
    "start_time": "2022-07-24T18:23:20.862Z"
   },
   {
    "duration": 106,
    "start_time": "2022-07-24T18:23:38.415Z"
   },
   {
    "duration": 7,
    "start_time": "2022-07-24T18:24:24.808Z"
   },
   {
    "duration": 12,
    "start_time": "2022-07-24T18:24:30.437Z"
   },
   {
    "duration": 20,
    "start_time": "2022-07-24T18:24:56.447Z"
   },
   {
    "duration": 111,
    "start_time": "2022-07-24T18:24:57.324Z"
   },
   {
    "duration": 137,
    "start_time": "2022-07-24T18:25:13.265Z"
   },
   {
    "duration": 108,
    "start_time": "2022-07-24T18:25:40.396Z"
   },
   {
    "duration": 113,
    "start_time": "2022-07-24T18:25:49.151Z"
   },
   {
    "duration": 156,
    "start_time": "2022-07-24T18:26:18.229Z"
   },
   {
    "duration": 157,
    "start_time": "2022-07-24T18:26:29.751Z"
   },
   {
    "duration": 207,
    "start_time": "2022-07-24T18:27:55.878Z"
   },
   {
    "duration": 31,
    "start_time": "2022-07-24T18:38:08.403Z"
   },
   {
    "duration": 11,
    "start_time": "2022-07-24T18:38:19.389Z"
   },
   {
    "duration": 21,
    "start_time": "2022-07-24T18:38:39.545Z"
   },
   {
    "duration": 18,
    "start_time": "2022-07-24T18:38:41.385Z"
   },
   {
    "duration": 168,
    "start_time": "2022-07-24T18:39:00.384Z"
   },
   {
    "duration": 913,
    "start_time": "2022-07-24T18:39:54.297Z"
   },
   {
    "duration": 1934,
    "start_time": "2022-07-24T18:40:09.333Z"
   },
   {
    "duration": 1930,
    "start_time": "2022-07-24T18:40:35.156Z"
   },
   {
    "duration": 899,
    "start_time": "2022-07-24T18:41:11.204Z"
   },
   {
    "duration": 1056,
    "start_time": "2022-07-24T18:41:18.753Z"
   },
   {
    "duration": 922,
    "start_time": "2022-07-24T18:41:22.873Z"
   },
   {
    "duration": 1024,
    "start_time": "2022-07-24T18:42:21.007Z"
   },
   {
    "duration": 663,
    "start_time": "2022-07-24T18:42:41.570Z"
   },
   {
    "duration": 1413,
    "start_time": "2022-07-24T18:43:16.057Z"
   },
   {
    "duration": 1001,
    "start_time": "2022-07-24T18:43:21.927Z"
   },
   {
    "duration": 862,
    "start_time": "2022-07-24T18:43:29.930Z"
   },
   {
    "duration": 1166,
    "start_time": "2022-07-24T18:43:39.894Z"
   },
   {
    "duration": 1014,
    "start_time": "2022-07-24T18:43:58.163Z"
   },
   {
    "duration": 66,
    "start_time": "2022-07-24T18:44:30.454Z"
   },
   {
    "duration": 1167,
    "start_time": "2022-07-24T18:44:38.831Z"
   },
   {
    "duration": 990,
    "start_time": "2022-07-24T18:44:54.435Z"
   },
   {
    "duration": 1056,
    "start_time": "2022-07-24T18:45:17.919Z"
   },
   {
    "duration": 1196,
    "start_time": "2022-07-24T18:45:38.250Z"
   },
   {
    "duration": 674,
    "start_time": "2022-07-24T18:48:55.867Z"
   },
   {
    "duration": 799,
    "start_time": "2022-07-24T18:49:07.661Z"
   },
   {
    "duration": 574,
    "start_time": "2022-07-24T18:49:24.346Z"
   },
   {
    "duration": 1017,
    "start_time": "2022-07-24T18:49:36.862Z"
   },
   {
    "duration": 594,
    "start_time": "2022-07-24T18:50:30.300Z"
   },
   {
    "duration": 958,
    "start_time": "2022-07-24T18:50:41.896Z"
   },
   {
    "duration": 1390,
    "start_time": "2022-07-24T18:50:56.401Z"
   },
   {
    "duration": 887,
    "start_time": "2022-07-24T18:51:27.750Z"
   },
   {
    "duration": 796,
    "start_time": "2022-07-24T18:52:56.828Z"
   },
   {
    "duration": 1059,
    "start_time": "2022-07-24T18:53:02.652Z"
   },
   {
    "duration": 1314,
    "start_time": "2022-07-24T18:53:07.982Z"
   },
   {
    "duration": 709,
    "start_time": "2022-07-24T18:53:40.761Z"
   },
   {
    "duration": 898,
    "start_time": "2022-07-24T18:53:44.100Z"
   },
   {
    "duration": 559,
    "start_time": "2022-07-24T18:53:51.964Z"
   },
   {
    "duration": 582,
    "start_time": "2022-07-24T18:55:09.196Z"
   },
   {
    "duration": 1401,
    "start_time": "2022-07-24T18:55:16.455Z"
   },
   {
    "duration": 1157,
    "start_time": "2022-07-24T18:55:22.358Z"
   },
   {
    "duration": 1286,
    "start_time": "2022-07-24T18:55:31.396Z"
   },
   {
    "duration": 1134,
    "start_time": "2022-07-24T18:55:54.268Z"
   },
   {
    "duration": 1430,
    "start_time": "2022-07-24T18:57:28.712Z"
   },
   {
    "duration": 48,
    "start_time": "2022-07-24T18:57:30.144Z"
   },
   {
    "duration": 11,
    "start_time": "2022-07-24T18:57:30.195Z"
   },
   {
    "duration": 8,
    "start_time": "2022-07-24T18:57:30.208Z"
   },
   {
    "duration": 16,
    "start_time": "2022-07-24T18:57:30.217Z"
   },
   {
    "duration": 8,
    "start_time": "2022-07-24T18:57:30.235Z"
   },
   {
    "duration": 46,
    "start_time": "2022-07-24T18:57:30.244Z"
   },
   {
    "duration": 31,
    "start_time": "2022-07-24T18:57:30.292Z"
   },
   {
    "duration": 8,
    "start_time": "2022-07-24T18:57:30.325Z"
   },
   {
    "duration": 18,
    "start_time": "2022-07-24T18:57:30.335Z"
   },
   {
    "duration": 1646,
    "start_time": "2022-07-24T18:57:30.354Z"
   },
   {
    "duration": 22,
    "start_time": "2022-07-24T18:57:32.002Z"
   },
   {
    "duration": 46,
    "start_time": "2022-07-24T18:57:32.025Z"
   },
   {
    "duration": 1133,
    "start_time": "2022-07-24T18:57:32.073Z"
   },
   {
    "duration": 575,
    "start_time": "2022-07-24T18:57:33.208Z"
   },
   {
    "duration": 5,
    "start_time": "2022-07-24T18:57:33.785Z"
   },
   {
    "duration": 8,
    "start_time": "2022-07-24T18:57:33.792Z"
   },
   {
    "duration": 4,
    "start_time": "2022-07-24T18:57:33.801Z"
   },
   {
    "duration": 62,
    "start_time": "2022-07-24T18:57:33.806Z"
   },
   {
    "duration": 308,
    "start_time": "2022-07-24T18:57:33.872Z"
   },
   {
    "duration": 0,
    "start_time": "2022-07-24T18:57:34.182Z"
   },
   {
    "duration": 0,
    "start_time": "2022-07-24T18:57:34.184Z"
   },
   {
    "duration": 0,
    "start_time": "2022-07-24T18:57:34.185Z"
   },
   {
    "duration": 0,
    "start_time": "2022-07-24T18:57:34.187Z"
   },
   {
    "duration": 0,
    "start_time": "2022-07-24T18:57:34.188Z"
   },
   {
    "duration": 0,
    "start_time": "2022-07-24T18:57:34.189Z"
   },
   {
    "duration": 0,
    "start_time": "2022-07-24T18:57:34.191Z"
   },
   {
    "duration": 0,
    "start_time": "2022-07-24T18:57:34.192Z"
   },
   {
    "duration": 0,
    "start_time": "2022-07-24T18:57:34.193Z"
   },
   {
    "duration": 0,
    "start_time": "2022-07-24T18:57:34.332Z"
   },
   {
    "duration": 0,
    "start_time": "2022-07-24T18:57:34.334Z"
   },
   {
    "duration": 10,
    "start_time": "2022-07-24T18:58:31.006Z"
   },
   {
    "duration": 1362,
    "start_time": "2022-07-24T18:58:37.008Z"
   },
   {
    "duration": 46,
    "start_time": "2022-07-24T18:58:38.372Z"
   },
   {
    "duration": 11,
    "start_time": "2022-07-24T18:58:38.420Z"
   },
   {
    "duration": 3,
    "start_time": "2022-07-24T18:58:38.433Z"
   },
   {
    "duration": 23,
    "start_time": "2022-07-24T18:58:38.437Z"
   },
   {
    "duration": 14,
    "start_time": "2022-07-24T18:58:38.462Z"
   },
   {
    "duration": 26,
    "start_time": "2022-07-24T18:58:38.477Z"
   },
   {
    "duration": 24,
    "start_time": "2022-07-24T18:58:38.504Z"
   },
   {
    "duration": 7,
    "start_time": "2022-07-24T18:58:38.530Z"
   },
   {
    "duration": 21,
    "start_time": "2022-07-24T18:58:38.539Z"
   },
   {
    "duration": 1674,
    "start_time": "2022-07-24T18:58:38.562Z"
   },
   {
    "duration": 24,
    "start_time": "2022-07-24T18:58:40.238Z"
   },
   {
    "duration": 1133,
    "start_time": "2022-07-24T18:58:40.263Z"
   },
   {
    "duration": 10,
    "start_time": "2022-07-24T18:58:41.398Z"
   },
   {
    "duration": 1624,
    "start_time": "2022-07-24T18:58:41.410Z"
   },
   {
    "duration": 6,
    "start_time": "2022-07-24T18:58:43.035Z"
   },
   {
    "duration": 5,
    "start_time": "2022-07-24T18:58:43.042Z"
   },
   {
    "duration": 25,
    "start_time": "2022-07-24T18:58:43.048Z"
   },
   {
    "duration": 88,
    "start_time": "2022-07-24T18:58:43.074Z"
   },
   {
    "duration": 103,
    "start_time": "2022-07-24T18:58:43.164Z"
   },
   {
    "duration": 7,
    "start_time": "2022-07-24T18:58:43.276Z"
   },
   {
    "duration": 366,
    "start_time": "2022-07-24T18:58:43.284Z"
   },
   {
    "duration": 14,
    "start_time": "2022-07-24T18:58:43.652Z"
   },
   {
    "duration": 8,
    "start_time": "2022-07-24T18:58:43.672Z"
   },
   {
    "duration": 5,
    "start_time": "2022-07-24T18:58:43.681Z"
   },
   {
    "duration": 359,
    "start_time": "2022-07-24T18:58:43.687Z"
   },
   {
    "duration": 88658,
    "start_time": "2022-07-24T18:58:44.047Z"
   },
   {
    "duration": 1466,
    "start_time": "2022-07-24T19:00:12.708Z"
   },
   {
    "duration": 3,
    "start_time": "2022-07-24T19:00:14.177Z"
   },
   {
    "duration": 17,
    "start_time": "2022-07-24T19:00:14.182Z"
   },
   {
    "duration": 21,
    "start_time": "2022-07-24T19:00:14.201Z"
   },
   {
    "duration": 1643,
    "start_time": "2022-07-24T19:24:52.041Z"
   },
   {
    "duration": 1594,
    "start_time": "2022-07-24T19:32:29.978Z"
   },
   {
    "duration": 1436,
    "start_time": "2022-07-24T19:32:43.637Z"
   },
   {
    "duration": 47,
    "start_time": "2022-07-24T19:32:45.075Z"
   },
   {
    "duration": 11,
    "start_time": "2022-07-24T19:32:45.124Z"
   },
   {
    "duration": 11,
    "start_time": "2022-07-24T19:32:45.137Z"
   },
   {
    "duration": 6,
    "start_time": "2022-07-24T19:32:45.150Z"
   },
   {
    "duration": 5,
    "start_time": "2022-07-24T19:32:45.160Z"
   },
   {
    "duration": 20,
    "start_time": "2022-07-24T19:32:45.166Z"
   },
   {
    "duration": 27,
    "start_time": "2022-07-24T19:32:45.188Z"
   },
   {
    "duration": 8,
    "start_time": "2022-07-24T19:32:45.216Z"
   },
   {
    "duration": 51,
    "start_time": "2022-07-24T19:32:45.225Z"
   },
   {
    "duration": 1974,
    "start_time": "2022-07-24T19:32:45.278Z"
   },
   {
    "duration": 27,
    "start_time": "2022-07-24T19:32:47.254Z"
   },
   {
    "duration": 1188,
    "start_time": "2022-07-24T19:32:47.282Z"
   },
   {
    "duration": 13,
    "start_time": "2022-07-24T19:32:48.473Z"
   },
   {
    "duration": 1628,
    "start_time": "2022-07-24T19:32:48.487Z"
   },
   {
    "duration": 6,
    "start_time": "2022-07-24T19:32:50.116Z"
   },
   {
    "duration": 36,
    "start_time": "2022-07-24T19:32:50.123Z"
   },
   {
    "duration": 7,
    "start_time": "2022-07-24T19:32:50.160Z"
   },
   {
    "duration": 32,
    "start_time": "2022-07-24T19:32:50.168Z"
   },
   {
    "duration": 95,
    "start_time": "2022-07-24T19:32:50.266Z"
   },
   {
    "duration": 5,
    "start_time": "2022-07-24T19:32:50.363Z"
   },
   {
    "duration": 381,
    "start_time": "2022-07-24T19:32:50.370Z"
   },
   {
    "duration": 10,
    "start_time": "2022-07-24T19:32:50.753Z"
   },
   {
    "duration": 8,
    "start_time": "2022-07-24T19:32:50.764Z"
   },
   {
    "duration": 6,
    "start_time": "2022-07-24T19:32:50.773Z"
   },
   {
    "duration": 394,
    "start_time": "2022-07-24T19:32:50.781Z"
   },
   {
    "duration": 86144,
    "start_time": "2022-07-24T19:32:51.177Z"
   },
   {
    "duration": 1446,
    "start_time": "2022-07-24T19:34:17.323Z"
   },
   {
    "duration": 4,
    "start_time": "2022-07-24T19:34:18.770Z"
   },
   {
    "duration": 44,
    "start_time": "2022-07-24T19:34:18.776Z"
   },
   {
    "duration": 36,
    "start_time": "2022-07-24T19:34:18.822Z"
   },
   {
    "duration": 6,
    "start_time": "2022-07-24T19:35:58.203Z"
   },
   {
    "duration": 126,
    "start_time": "2022-07-24T19:51:08.679Z"
   },
   {
    "duration": 14,
    "start_time": "2022-07-24T20:33:04.256Z"
   },
   {
    "duration": 7,
    "start_time": "2022-07-24T20:33:12.756Z"
   },
   {
    "duration": 19,
    "start_time": "2022-07-24T20:33:17.136Z"
   },
   {
    "duration": 147,
    "start_time": "2022-07-24T20:34:50.393Z"
   },
   {
    "duration": 167,
    "start_time": "2022-07-24T20:35:00.449Z"
   },
   {
    "duration": 192,
    "start_time": "2022-07-24T20:35:13.955Z"
   },
   {
    "duration": 142,
    "start_time": "2022-07-24T20:35:35.732Z"
   },
   {
    "duration": 243,
    "start_time": "2022-07-24T20:36:18.383Z"
   },
   {
    "duration": 146,
    "start_time": "2022-07-24T20:36:24.797Z"
   },
   {
    "duration": 166,
    "start_time": "2022-07-24T20:37:20.459Z"
   },
   {
    "duration": 41,
    "start_time": "2022-07-24T20:37:47.754Z"
   },
   {
    "duration": 27,
    "start_time": "2022-07-24T20:39:25.451Z"
   },
   {
    "duration": 112,
    "start_time": "2022-07-24T20:39:36.962Z"
   },
   {
    "duration": 96,
    "start_time": "2022-07-24T20:39:48.694Z"
   },
   {
    "duration": 95,
    "start_time": "2022-07-24T20:40:12.446Z"
   },
   {
    "duration": 104,
    "start_time": "2022-07-24T20:40:20.754Z"
   },
   {
    "duration": 885,
    "start_time": "2022-07-24T20:41:42.838Z"
   },
   {
    "duration": 588,
    "start_time": "2022-07-24T20:42:24.230Z"
   },
   {
    "duration": 55,
    "start_time": "2022-07-24T20:44:03.727Z"
   },
   {
    "duration": 110,
    "start_time": "2022-07-24T20:44:43.915Z"
   },
   {
    "duration": 157,
    "start_time": "2022-07-24T20:45:05.521Z"
   },
   {
    "duration": 663,
    "start_time": "2022-07-24T20:46:03.551Z"
   },
   {
    "duration": 1160,
    "start_time": "2022-07-24T20:47:38.022Z"
   },
   {
    "duration": 47,
    "start_time": "2022-07-24T20:47:53.322Z"
   },
   {
    "duration": 931,
    "start_time": "2022-07-24T20:47:57.281Z"
   },
   {
    "duration": 958,
    "start_time": "2022-07-24T20:48:17.380Z"
   },
   {
    "duration": 766,
    "start_time": "2022-07-24T20:48:53.457Z"
   },
   {
    "duration": 1044,
    "start_time": "2022-07-24T20:50:41.604Z"
   },
   {
    "duration": 20,
    "start_time": "2022-07-24T20:52:09.374Z"
   },
   {
    "duration": 1106,
    "start_time": "2022-07-24T21:00:17.419Z"
   },
   {
    "duration": 1174,
    "start_time": "2022-07-24T21:00:33.332Z"
   },
   {
    "duration": 1092,
    "start_time": "2022-07-24T21:01:34.803Z"
   },
   {
    "duration": 975,
    "start_time": "2022-07-24T21:02:42.504Z"
   },
   {
    "duration": 1147,
    "start_time": "2022-07-24T21:03:14.856Z"
   },
   {
    "duration": 888,
    "start_time": "2022-07-24T21:03:53.173Z"
   },
   {
    "duration": 1036,
    "start_time": "2022-07-24T21:04:02.489Z"
   },
   {
    "duration": 1692,
    "start_time": "2022-07-24T21:04:42.239Z"
   },
   {
    "duration": 2028,
    "start_time": "2022-07-24T21:05:32.297Z"
   },
   {
    "duration": 1363,
    "start_time": "2022-07-24T21:06:02.820Z"
   },
   {
    "duration": 46,
    "start_time": "2022-07-24T21:06:04.184Z"
   },
   {
    "duration": 12,
    "start_time": "2022-07-24T21:06:04.231Z"
   },
   {
    "duration": 3,
    "start_time": "2022-07-24T21:06:04.245Z"
   },
   {
    "duration": 6,
    "start_time": "2022-07-24T21:06:04.249Z"
   },
   {
    "duration": 28,
    "start_time": "2022-07-24T21:06:04.257Z"
   },
   {
    "duration": 17,
    "start_time": "2022-07-24T21:06:04.287Z"
   },
   {
    "duration": 25,
    "start_time": "2022-07-24T21:06:04.306Z"
   },
   {
    "duration": 7,
    "start_time": "2022-07-24T21:06:04.332Z"
   },
   {
    "duration": 21,
    "start_time": "2022-07-24T21:06:04.342Z"
   },
   {
    "duration": 2028,
    "start_time": "2022-07-24T21:06:04.364Z"
   },
   {
    "duration": 33,
    "start_time": "2022-07-24T21:06:06.394Z"
   },
   {
    "duration": 1192,
    "start_time": "2022-07-24T21:06:06.429Z"
   },
   {
    "duration": 11,
    "start_time": "2022-07-24T21:06:07.623Z"
   },
   {
    "duration": 1678,
    "start_time": "2022-07-24T21:06:07.636Z"
   },
   {
    "duration": 5,
    "start_time": "2022-07-24T21:06:09.316Z"
   },
   {
    "duration": 6,
    "start_time": "2022-07-24T21:06:09.323Z"
   },
   {
    "duration": 7,
    "start_time": "2022-07-24T21:06:09.330Z"
   },
   {
    "duration": 136,
    "start_time": "2022-07-24T21:06:09.338Z"
   },
   {
    "duration": 91,
    "start_time": "2022-07-24T21:06:09.478Z"
   },
   {
    "duration": 7,
    "start_time": "2022-07-24T21:06:09.572Z"
   },
   {
    "duration": 427,
    "start_time": "2022-07-24T21:06:09.581Z"
   },
   {
    "duration": 8,
    "start_time": "2022-07-24T21:06:10.009Z"
   },
   {
    "duration": 8,
    "start_time": "2022-07-24T21:06:10.018Z"
   },
   {
    "duration": 7,
    "start_time": "2022-07-24T21:06:10.027Z"
   },
   {
    "duration": 373,
    "start_time": "2022-07-24T21:06:10.035Z"
   },
   {
    "duration": 86367,
    "start_time": "2022-07-24T21:06:10.409Z"
   },
   {
    "duration": 1203,
    "start_time": "2022-07-24T21:07:36.779Z"
   },
   {
    "duration": 85,
    "start_time": "2022-07-24T21:07:37.985Z"
   },
   {
    "duration": 21,
    "start_time": "2022-07-24T21:07:38.073Z"
   },
   {
    "duration": 853,
    "start_time": "2022-07-24T21:07:38.095Z"
   },
   {
    "duration": 2061,
    "start_time": "2022-07-24T21:07:38.950Z"
   },
   {
    "duration": 1609,
    "start_time": "2022-07-24T21:07:41.013Z"
   },
   {
    "duration": 1509,
    "start_time": "2022-07-25T17:59:46.883Z"
   },
   {
    "duration": 50,
    "start_time": "2022-07-25T17:59:48.394Z"
   },
   {
    "duration": 12,
    "start_time": "2022-07-25T17:59:48.446Z"
   },
   {
    "duration": 3,
    "start_time": "2022-07-25T17:59:48.460Z"
   },
   {
    "duration": 10,
    "start_time": "2022-07-25T17:59:48.464Z"
   },
   {
    "duration": 10,
    "start_time": "2022-07-25T17:59:48.475Z"
   },
   {
    "duration": 16,
    "start_time": "2022-07-25T17:59:48.487Z"
   },
   {
    "duration": 50,
    "start_time": "2022-07-25T17:59:48.505Z"
   },
   {
    "duration": 8,
    "start_time": "2022-07-25T17:59:48.556Z"
   },
   {
    "duration": 24,
    "start_time": "2022-07-25T17:59:48.566Z"
   },
   {
    "duration": 2027,
    "start_time": "2022-07-25T17:59:48.591Z"
   },
   {
    "duration": 38,
    "start_time": "2022-07-25T17:59:50.620Z"
   },
   {
    "duration": 1252,
    "start_time": "2022-07-25T17:59:50.660Z"
   },
   {
    "duration": 20,
    "start_time": "2022-07-25T17:59:51.913Z"
   },
   {
    "duration": 1853,
    "start_time": "2022-07-25T17:59:51.935Z"
   },
   {
    "duration": 5,
    "start_time": "2022-07-25T17:59:53.790Z"
   },
   {
    "duration": 26,
    "start_time": "2022-07-25T17:59:53.797Z"
   },
   {
    "duration": 49,
    "start_time": "2022-07-25T17:59:53.825Z"
   },
   {
    "duration": 85,
    "start_time": "2022-07-25T17:59:53.876Z"
   },
   {
    "duration": 15,
    "start_time": "2022-07-25T17:59:54.030Z"
   },
   {
    "duration": 15,
    "start_time": "2022-07-25T17:59:54.123Z"
   },
   {
    "duration": 457,
    "start_time": "2022-07-25T17:59:54.139Z"
   },
   {
    "duration": 11,
    "start_time": "2022-07-25T17:59:54.599Z"
   },
   {
    "duration": 41,
    "start_time": "2022-07-25T17:59:54.622Z"
   },
   {
    "duration": 15,
    "start_time": "2022-07-25T17:59:54.665Z"
   },
   {
    "duration": 428,
    "start_time": "2022-07-25T17:59:54.682Z"
   },
   {
    "duration": 99701,
    "start_time": "2022-07-25T17:59:55.111Z"
   },
   {
    "duration": 1307,
    "start_time": "2022-07-25T18:01:34.816Z"
   },
   {
    "duration": 4,
    "start_time": "2022-07-25T18:01:36.125Z"
   },
   {
    "duration": 38,
    "start_time": "2022-07-25T18:01:36.131Z"
   },
   {
    "duration": 1015,
    "start_time": "2022-07-25T18:01:36.170Z"
   }
  ],
  "kernelspec": {
   "display_name": "Python 3 (ipykernel)",
   "language": "python",
   "name": "python3"
  },
  "language_info": {
   "codemirror_mode": {
    "name": "ipython",
    "version": 3
   },
   "file_extension": ".py",
   "mimetype": "text/x-python",
   "name": "python",
   "nbconvert_exporter": "python",
   "pygments_lexer": "ipython3",
   "version": "3.9.5"
  },
  "toc": {
   "base_numbering": 1,
   "nav_menu": {
    "height": "169px",
    "width": "312px"
   },
   "number_sections": true,
   "sideBar": true,
   "skip_h1_title": true,
   "title_cell": "Table of Contents",
   "title_sidebar": "Contents",
   "toc_cell": true,
   "toc_position": {
    "height": "calc(100% - 180px)",
    "left": "10px",
    "top": "150px",
    "width": "244.6px"
   },
   "toc_section_display": true,
   "toc_window_display": true
  }
 },
 "nbformat": 4,
 "nbformat_minor": 2
}
