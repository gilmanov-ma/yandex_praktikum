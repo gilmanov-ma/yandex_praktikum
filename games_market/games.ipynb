{
 "cells": [
  {
   "cell_type": "markdown",
   "id": "866427f9",
   "metadata": {
    "toc": true
   },
   "source": [
    "<h1>Table of Contents<span class=\"tocSkip\"></span></h1>\n",
    "<div class=\"toc\"><ul class=\"toc-item\"><li><span><a href=\"#Получение-данных\" data-toc-modified-id=\"Получение-данных-1\"><span class=\"toc-item-num\">1&nbsp;&nbsp;</span>Получение данных</a></span></li><li><span><a href=\"#Предобработка-данных\" data-toc-modified-id=\"Предобработка-данных-2\"><span class=\"toc-item-num\">2&nbsp;&nbsp;</span>Предобработка данных</a></span><ul class=\"toc-item\"><li><span><a href=\"#Столбец-'name'\" data-toc-modified-id=\"Столбец-'name'-2.1\"><span class=\"toc-item-num\">2.1&nbsp;&nbsp;</span>Столбец 'name'</a></span></li><li><span><a href=\"#Столбец-'platform'\" data-toc-modified-id=\"Столбец-'platform'-2.2\"><span class=\"toc-item-num\">2.2&nbsp;&nbsp;</span>Столбец 'platform'</a></span></li><li><span><a href=\"#Столбец-'year_of_release'\" data-toc-modified-id=\"Столбец-'year_of_release'-2.3\"><span class=\"toc-item-num\">2.3&nbsp;&nbsp;</span>Столбец 'year_of_release'</a></span></li><li><span><a href=\"#Столбец-'genre'\" data-toc-modified-id=\"Столбец-'genre'-2.4\"><span class=\"toc-item-num\">2.4&nbsp;&nbsp;</span>Столбец 'genre'</a></span></li><li><span><a href=\"#Столбцы-'na_sales',-'eu_sales',-'jp_sales',----'other_sales'\" data-toc-modified-id=\"Столбцы-'na_sales',-'eu_sales',-'jp_sales',----'other_sales'-2.5\"><span class=\"toc-item-num\">2.5&nbsp;&nbsp;</span>Столбцы 'na_sales', 'eu_sales', 'jp_sales',    'other_sales'</a></span></li><li><span><a href=\"#Столбец-'critic_score',-'user_score'\" data-toc-modified-id=\"Столбец-'critic_score',-'user_score'-2.6\"><span class=\"toc-item-num\">2.6&nbsp;&nbsp;</span>Столбец 'critic_score', 'user_score'</a></span></li><li><span><a href=\"#Столбец-'rating'\" data-toc-modified-id=\"Столбец-'rating'-2.7\"><span class=\"toc-item-num\">2.7&nbsp;&nbsp;</span>Столбец 'rating'</a></span></li></ul></li><li><span><a href=\"#Исследовательский-анализ-данных\" data-toc-modified-id=\"Исследовательский-анализ-данных-3\"><span class=\"toc-item-num\">3&nbsp;&nbsp;</span>Исследовательский анализ данных</a></span><ul class=\"toc-item\"><li><span><a href=\"#Самые-популярные-платформы-за-весь-период\" data-toc-modified-id=\"Самые-популярные-платформы-за-весь-период-3.1\"><span class=\"toc-item-num\">3.1&nbsp;&nbsp;</span>Самые популярные платформы за весь период</a></span></li><li><span><a href=\"#Самые-актуальные-платформы\" data-toc-modified-id=\"Самые-актуальные-платформы-3.2\"><span class=\"toc-item-num\">3.2&nbsp;&nbsp;</span>Самые актуальные платформы</a></span></li><li><span><a href=\"#Распределение-продаж-по-платформам\" data-toc-modified-id=\"Распределение-продаж-по-платформам-3.3\"><span class=\"toc-item-num\">3.3&nbsp;&nbsp;</span>Распределение продаж по платформам</a></span></li><li><span><a href=\"#Влияние-оценок-критиков-на-продажи\" data-toc-modified-id=\"Влияние-оценок-критиков-на-продажи-3.4\"><span class=\"toc-item-num\">3.4&nbsp;&nbsp;</span>Влияние оценок критиков на продажи</a></span></li><li><span><a href=\"#Влияние-оценок-пользователей-на-продажи\" data-toc-modified-id=\"Влияние-оценок-пользователей-на-продажи-3.5\"><span class=\"toc-item-num\">3.5&nbsp;&nbsp;</span>Влияние оценок пользователей на продажи</a></span></li><li><span><a href=\"#Зависимость-продаж-от-жанра-игр\" data-toc-modified-id=\"Зависимость-продаж-от-жанра-игр-3.6\"><span class=\"toc-item-num\">3.6&nbsp;&nbsp;</span>Зависимость продаж от жанра игр</a></span></li></ul></li><li><span><a href=\"#Портрет-пользователя-для-каждого-региона\" data-toc-modified-id=\"Портрет-пользователя-для-каждого-региона-4\"><span class=\"toc-item-num\">4&nbsp;&nbsp;</span>Портрет пользователя для каждого региона</a></span><ul class=\"toc-item\"><li><span><a href=\"#Платформы\" data-toc-modified-id=\"Платформы-4.1\"><span class=\"toc-item-num\">4.1&nbsp;&nbsp;</span>Платформы</a></span></li><li><span><a href=\"#Популярные-жанры\" data-toc-modified-id=\"Популярные-жанры-4.2\"><span class=\"toc-item-num\">4.2&nbsp;&nbsp;</span>Популярные жанры</a></span></li><li><span><a href=\"#Влияние-рейтинга-на-продажи.\" data-toc-modified-id=\"Влияние-рейтинга-на-продажи.-4.3\"><span class=\"toc-item-num\">4.3&nbsp;&nbsp;</span>Влияние рейтинга на продажи.</a></span></li></ul></li><li><span><a href=\"#Проверка-гипотез\" data-toc-modified-id=\"Проверка-гипотез-5\"><span class=\"toc-item-num\">5&nbsp;&nbsp;</span>Проверка гипотез</a></span><ul class=\"toc-item\"><li><span><a href=\"#Гипотеза-о-равенстве-средних-пользовательских-оценок-для-платформ-Xbox-One-и-PC\" data-toc-modified-id=\"Гипотеза-о-равенстве-средних-пользовательских-оценок-для-платформ-Xbox-One-и-PC-5.1\"><span class=\"toc-item-num\">5.1&nbsp;&nbsp;</span>Гипотеза о равенстве средних пользовательских оценок для платформ Xbox One и PC</a></span></li><li><span><a href=\"#Гипотеза-о-равенстве-средних-пользовательских-рейтингов-жанров-Action-и-Sports\" data-toc-modified-id=\"Гипотеза-о-равенстве-средних-пользовательских-рейтингов-жанров-Action-и-Sports-5.2\"><span class=\"toc-item-num\">5.2&nbsp;&nbsp;</span>Гипотеза о равенстве средних пользовательских рейтингов жанров Action и Sports</a></span></li></ul></li><li><span><a href=\"#Общий-вывод\" data-toc-modified-id=\"Общий-вывод-6\"><span class=\"toc-item-num\">6&nbsp;&nbsp;</span>Общий вывод</a></span></li></ul></div>"
   ]
  },
  {
   "cell_type": "markdown",
   "id": "79d81bd0",
   "metadata": {},
   "source": [
    "# Исследование продаж компьютерных игр"
   ]
  },
  {
   "cell_type": "markdown",
   "id": "1b74132f",
   "metadata": {},
   "source": [
    "**Описание проекта:** <br>\n",
    "Интернет-магазин «Стримчик», который продаёт по всему миру компьютерные игры. Из открытых источников доступны исторические данные о продажах игр, оценки пользователей и экспертов, жанры и платформы (например, Xbox или PlayStation). \n",
    "\n",
    "Необходимо выявить определяющие успешность игры закономерности. Это позволит сделать ставку на потенциально популярный\n",
    "продукт и спланировать рекламные кампании.\n",
    "\n",
    "У нас есть данные до 2016 года. Необходимо  спланировать кампанию на 2017-й. Нужно отработать принцип работы с данными."
   ]
  },
  {
   "cell_type": "markdown",
   "id": "cd15e95d",
   "metadata": {},
   "source": [
    "**План исследования:** <br>\n",
    "1) Прочитаем файл, изучим и подготовим данные;<br>\n",
    "2) Определим самые популярные платформы и жанры игр, а также влияние оценок критиков и пользователей на продажи;<br>\n",
    "3) Составим портрет пользователя для каждого региона продаж;<br>\n",
    "4) Проверим гипотезы."
   ]
  },
  {
   "cell_type": "markdown",
   "id": "aa568fef",
   "metadata": {},
   "source": [
    "## Получение данных "
   ]
  },
  {
   "cell_type": "code",
   "execution_count": 1,
   "id": "d8fa4a15",
   "metadata": {},
   "outputs": [],
   "source": [
    "import pandas as pd\n",
    "import numpy as np\n",
    "import matplotlib.pyplot as plt\n",
    "from scipy import stats as st\n",
    "import seaborn as sns\n",
    "import pylab"
   ]
  },
  {
   "cell_type": "code",
   "execution_count": 2,
   "id": "7b811886",
   "metadata": {},
   "outputs": [
    {
     "data": {
      "text/html": [
       "<div>\n",
       "<style scoped>\n",
       "    .dataframe tbody tr th:only-of-type {\n",
       "        vertical-align: middle;\n",
       "    }\n",
       "\n",
       "    .dataframe tbody tr th {\n",
       "        vertical-align: top;\n",
       "    }\n",
       "\n",
       "    .dataframe thead th {\n",
       "        text-align: right;\n",
       "    }\n",
       "</style>\n",
       "<table border=\"1\" class=\"dataframe\">\n",
       "  <thead>\n",
       "    <tr style=\"text-align: right;\">\n",
       "      <th></th>\n",
       "      <th>Name</th>\n",
       "      <th>Platform</th>\n",
       "      <th>Year_of_Release</th>\n",
       "      <th>Genre</th>\n",
       "      <th>NA_sales</th>\n",
       "      <th>EU_sales</th>\n",
       "      <th>JP_sales</th>\n",
       "      <th>Other_sales</th>\n",
       "      <th>Critic_Score</th>\n",
       "      <th>User_Score</th>\n",
       "      <th>Rating</th>\n",
       "    </tr>\n",
       "  </thead>\n",
       "  <tbody>\n",
       "    <tr>\n",
       "      <th>0</th>\n",
       "      <td>Wii Sports</td>\n",
       "      <td>Wii</td>\n",
       "      <td>2006.0</td>\n",
       "      <td>Sports</td>\n",
       "      <td>41.36</td>\n",
       "      <td>28.96</td>\n",
       "      <td>3.77</td>\n",
       "      <td>8.45</td>\n",
       "      <td>76.0</td>\n",
       "      <td>8</td>\n",
       "      <td>E</td>\n",
       "    </tr>\n",
       "    <tr>\n",
       "      <th>1</th>\n",
       "      <td>Super Mario Bros.</td>\n",
       "      <td>NES</td>\n",
       "      <td>1985.0</td>\n",
       "      <td>Platform</td>\n",
       "      <td>29.08</td>\n",
       "      <td>3.58</td>\n",
       "      <td>6.81</td>\n",
       "      <td>0.77</td>\n",
       "      <td>NaN</td>\n",
       "      <td>NaN</td>\n",
       "      <td>NaN</td>\n",
       "    </tr>\n",
       "    <tr>\n",
       "      <th>2</th>\n",
       "      <td>Mario Kart Wii</td>\n",
       "      <td>Wii</td>\n",
       "      <td>2008.0</td>\n",
       "      <td>Racing</td>\n",
       "      <td>15.68</td>\n",
       "      <td>12.76</td>\n",
       "      <td>3.79</td>\n",
       "      <td>3.29</td>\n",
       "      <td>82.0</td>\n",
       "      <td>8.3</td>\n",
       "      <td>E</td>\n",
       "    </tr>\n",
       "    <tr>\n",
       "      <th>3</th>\n",
       "      <td>Wii Sports Resort</td>\n",
       "      <td>Wii</td>\n",
       "      <td>2009.0</td>\n",
       "      <td>Sports</td>\n",
       "      <td>15.61</td>\n",
       "      <td>10.93</td>\n",
       "      <td>3.28</td>\n",
       "      <td>2.95</td>\n",
       "      <td>80.0</td>\n",
       "      <td>8</td>\n",
       "      <td>E</td>\n",
       "    </tr>\n",
       "    <tr>\n",
       "      <th>4</th>\n",
       "      <td>Pokemon Red/Pokemon Blue</td>\n",
       "      <td>GB</td>\n",
       "      <td>1996.0</td>\n",
       "      <td>Role-Playing</td>\n",
       "      <td>11.27</td>\n",
       "      <td>8.89</td>\n",
       "      <td>10.22</td>\n",
       "      <td>1.00</td>\n",
       "      <td>NaN</td>\n",
       "      <td>NaN</td>\n",
       "      <td>NaN</td>\n",
       "    </tr>\n",
       "  </tbody>\n",
       "</table>\n",
       "</div>"
      ],
      "text/plain": [
       "                       Name Platform  Year_of_Release         Genre  NA_sales  \\\n",
       "0                Wii Sports      Wii           2006.0        Sports     41.36   \n",
       "1         Super Mario Bros.      NES           1985.0      Platform     29.08   \n",
       "2            Mario Kart Wii      Wii           2008.0        Racing     15.68   \n",
       "3         Wii Sports Resort      Wii           2009.0        Sports     15.61   \n",
       "4  Pokemon Red/Pokemon Blue       GB           1996.0  Role-Playing     11.27   \n",
       "\n",
       "   EU_sales  JP_sales  Other_sales  Critic_Score User_Score Rating  \n",
       "0     28.96      3.77         8.45          76.0          8      E  \n",
       "1      3.58      6.81         0.77           NaN        NaN    NaN  \n",
       "2     12.76      3.79         3.29          82.0        8.3      E  \n",
       "3     10.93      3.28         2.95          80.0          8      E  \n",
       "4      8.89     10.22         1.00           NaN        NaN    NaN  "
      ]
     },
     "execution_count": 2,
     "metadata": {},
     "output_type": "execute_result"
    }
   ],
   "source": [
    "df = pd.read_csv('/datasets/games.csv')\n",
    "df.head()"
   ]
  },
  {
   "cell_type": "markdown",
   "id": "059068b9",
   "metadata": {},
   "source": [
    "Name — название игры <br>\n",
    "Platform — платформа<br>\n",
    "Year_of_Release — год выпуска<br>\n",
    "Genre — жанр игры<br>\n",
    "NA_sales — продажи в Северной Америке (миллионы проданных копий)<br>\n",
    "EU_sales — продажи в Европе (миллионы проданных копий)<br>\n",
    "JP_sales — продажи в Японии (миллионы проданных копий)<br>\n",
    "Other_sales — продажи в других странах (миллионы проданных копий)<br>\n",
    "Critic_Score — оценка критиков (максимум 100)<br>\n",
    "User_Score — оценка пользователей (максимум 10)<br>\n",
    "Rating — рейтинг от организации ESRB (англ. Entertainment Software Rating Board). Эта ассоциация определяет рейтинг\n",
    "компьютерных игр и присваивает им подходящую возрастную категорию."
   ]
  },
  {
   "cell_type": "code",
   "execution_count": 3,
   "id": "56990010",
   "metadata": {},
   "outputs": [
    {
     "data": {
      "text/plain": [
       "(16715, 11)"
      ]
     },
     "execution_count": 3,
     "metadata": {},
     "output_type": "execute_result"
    }
   ],
   "source": [
    "df.shape"
   ]
  },
  {
   "cell_type": "code",
   "execution_count": 4,
   "id": "28903675",
   "metadata": {},
   "outputs": [
    {
     "name": "stdout",
     "output_type": "stream",
     "text": [
      "<class 'pandas.core.frame.DataFrame'>\n",
      "RangeIndex: 16715 entries, 0 to 16714\n",
      "Data columns (total 11 columns):\n",
      " #   Column           Non-Null Count  Dtype  \n",
      "---  ------           --------------  -----  \n",
      " 0   Name             16713 non-null  object \n",
      " 1   Platform         16715 non-null  object \n",
      " 2   Year_of_Release  16446 non-null  float64\n",
      " 3   Genre            16713 non-null  object \n",
      " 4   NA_sales         16715 non-null  float64\n",
      " 5   EU_sales         16715 non-null  float64\n",
      " 6   JP_sales         16715 non-null  float64\n",
      " 7   Other_sales      16715 non-null  float64\n",
      " 8   Critic_Score     8137 non-null   float64\n",
      " 9   User_Score       10014 non-null  object \n",
      " 10  Rating           9949 non-null   object \n",
      "dtypes: float64(6), object(5)\n",
      "memory usage: 1.4+ MB\n"
     ]
    }
   ],
   "source": [
    "df.info()"
   ]
  },
  {
   "cell_type": "markdown",
   "id": "fa964601",
   "metadata": {},
   "source": [
    "В некоторых столбцах имеются пропущенные значения. Также названия столбцов необходимо будет привести к стандарту. В некоторых столбцах необходимо изменить тип данных, например, в стобце 'Year_of_Release' вещественные числа заменить на целые."
   ]
  },
  {
   "cell_type": "markdown",
   "id": "84cd2f89",
   "metadata": {},
   "source": [
    "## Предобработка данных"
   ]
  },
  {
   "cell_type": "markdown",
   "id": "5ea62853",
   "metadata": {},
   "source": [
    "Переименуем столбцы, переведем названия всех столбцов в строчный регистр."
   ]
  },
  {
   "cell_type": "code",
   "execution_count": 5,
   "id": "6343bbec",
   "metadata": {},
   "outputs": [],
   "source": [
    "df.columns = map(str.lower, df.columns)"
   ]
  },
  {
   "cell_type": "markdown",
   "id": "58fe8540",
   "metadata": {},
   "source": [
    "Далее рассмотрим каждый столбец отдельно."
   ]
  },
  {
   "cell_type": "markdown",
   "id": "6193590a",
   "metadata": {},
   "source": [
    "### Столбец 'name'"
   ]
  },
  {
   "cell_type": "markdown",
   "id": "0fe4b2c1",
   "metadata": {},
   "source": [
    "Есть 2 строки с пропущенными значениями в этом стобце. Посмотрим на них."
   ]
  },
  {
   "cell_type": "code",
   "execution_count": 6,
   "id": "c22bbde6",
   "metadata": {},
   "outputs": [
    {
     "data": {
      "text/html": [
       "<div>\n",
       "<style scoped>\n",
       "    .dataframe tbody tr th:only-of-type {\n",
       "        vertical-align: middle;\n",
       "    }\n",
       "\n",
       "    .dataframe tbody tr th {\n",
       "        vertical-align: top;\n",
       "    }\n",
       "\n",
       "    .dataframe thead th {\n",
       "        text-align: right;\n",
       "    }\n",
       "</style>\n",
       "<table border=\"1\" class=\"dataframe\">\n",
       "  <thead>\n",
       "    <tr style=\"text-align: right;\">\n",
       "      <th></th>\n",
       "      <th>name</th>\n",
       "      <th>platform</th>\n",
       "      <th>year_of_release</th>\n",
       "      <th>genre</th>\n",
       "      <th>na_sales</th>\n",
       "      <th>eu_sales</th>\n",
       "      <th>jp_sales</th>\n",
       "      <th>other_sales</th>\n",
       "      <th>critic_score</th>\n",
       "      <th>user_score</th>\n",
       "      <th>rating</th>\n",
       "    </tr>\n",
       "  </thead>\n",
       "  <tbody>\n",
       "    <tr>\n",
       "      <th>659</th>\n",
       "      <td>NaN</td>\n",
       "      <td>GEN</td>\n",
       "      <td>1993.0</td>\n",
       "      <td>NaN</td>\n",
       "      <td>1.78</td>\n",
       "      <td>0.53</td>\n",
       "      <td>0.00</td>\n",
       "      <td>0.08</td>\n",
       "      <td>NaN</td>\n",
       "      <td>NaN</td>\n",
       "      <td>NaN</td>\n",
       "    </tr>\n",
       "    <tr>\n",
       "      <th>14244</th>\n",
       "      <td>NaN</td>\n",
       "      <td>GEN</td>\n",
       "      <td>1993.0</td>\n",
       "      <td>NaN</td>\n",
       "      <td>0.00</td>\n",
       "      <td>0.00</td>\n",
       "      <td>0.03</td>\n",
       "      <td>0.00</td>\n",
       "      <td>NaN</td>\n",
       "      <td>NaN</td>\n",
       "      <td>NaN</td>\n",
       "    </tr>\n",
       "  </tbody>\n",
       "</table>\n",
       "</div>"
      ],
      "text/plain": [
       "      name platform  year_of_release genre  na_sales  eu_sales  jp_sales  \\\n",
       "659    NaN      GEN           1993.0   NaN      1.78      0.53      0.00   \n",
       "14244  NaN      GEN           1993.0   NaN      0.00      0.00      0.03   \n",
       "\n",
       "       other_sales  critic_score user_score rating  \n",
       "659           0.08           NaN        NaN    NaN  \n",
       "14244         0.00           NaN        NaN    NaN  "
      ]
     },
     "execution_count": 6,
     "metadata": {},
     "output_type": "execute_result"
    }
   ],
   "source": [
    "df[df['name'].isna()]"
   ]
  },
  {
   "cell_type": "markdown",
   "id": "f40118be",
   "metadata": {},
   "source": [
    "В этих строках слишком много пропущенных значений, про эти игры мы не знаем практически ничего, поэтому можно сразу удалить эти строки."
   ]
  },
  {
   "cell_type": "code",
   "execution_count": 7,
   "id": "e029ae1c",
   "metadata": {},
   "outputs": [],
   "source": [
    "df.drop(df[df['name'].isna()].index, inplace=True)"
   ]
  },
  {
   "cell_type": "markdown",
   "id": "a6ea7a76",
   "metadata": {},
   "source": [
    "### Столбец 'platform'"
   ]
  },
  {
   "cell_type": "code",
   "execution_count": 8,
   "id": "011bcae3",
   "metadata": {},
   "outputs": [
    {
     "data": {
      "text/plain": [
       "PS2     2161\n",
       "DS      2151\n",
       "PS3     1331\n",
       "Wii     1320\n",
       "X360    1262\n",
       "PSP     1209\n",
       "PS      1197\n",
       "PC       974\n",
       "XB       824\n",
       "GBA      822\n",
       "GC       556\n",
       "3DS      520\n",
       "PSV      430\n",
       "PS4      392\n",
       "N64      319\n",
       "XOne     247\n",
       "SNES     239\n",
       "SAT      173\n",
       "WiiU     147\n",
       "2600     133\n",
       "GB        98\n",
       "NES       98\n",
       "DC        52\n",
       "GEN       27\n",
       "NG        12\n",
       "SCD        6\n",
       "WS         6\n",
       "3DO        3\n",
       "TG16       2\n",
       "PCFX       1\n",
       "GG         1\n",
       "Name: platform, dtype: int64"
      ]
     },
     "execution_count": 8,
     "metadata": {},
     "output_type": "execute_result"
    }
   ],
   "source": [
    "df['platform'].value_counts()"
   ]
  },
  {
   "cell_type": "markdown",
   "id": "45f0cf29",
   "metadata": {},
   "source": [
    "Какое разнообразие платформ! Большая часть из них устаревшая и не будет использоваться в анализе. Что с ними делать, решим позже. Но данные выглядят корректно."
   ]
  },
  {
   "cell_type": "markdown",
   "id": "4878fdf8",
   "metadata": {},
   "source": [
    "### Столбец 'year_of_release'"
   ]
  },
  {
   "cell_type": "markdown",
   "id": "fbead372",
   "metadata": {},
   "source": [
    "В этом столбце есть пропущенные значения и проблема с типом данных. Сначала нужно заполнить пропущенные значения."
   ]
  },
  {
   "cell_type": "markdown",
   "id": "377911a5",
   "metadata": {},
   "source": [
    "Вызовем метод describe(), чтобы определить значения, содержащиеся в столбце."
   ]
  },
  {
   "cell_type": "code",
   "execution_count": 9,
   "id": "b5e0782e",
   "metadata": {},
   "outputs": [
    {
     "data": {
      "text/plain": [
       "count    16444.000000\n",
       "mean      2006.486256\n",
       "std          5.875525\n",
       "min       1980.000000\n",
       "25%       2003.000000\n",
       "50%       2007.000000\n",
       "75%       2010.000000\n",
       "max       2016.000000\n",
       "Name: year_of_release, dtype: float64"
      ]
     },
     "execution_count": 9,
     "metadata": {},
     "output_type": "execute_result"
    }
   ],
   "source": [
    "df['year_of_release'].describe()"
   ]
  },
  {
   "cell_type": "markdown",
   "id": "9946b3c9",
   "metadata": {},
   "source": [
    "В датафрейме представлены игры, выпущенные с 1980 по 2016 год. Заполнять пропущенные значения медианным кажется не очень правильным, поэтому придется заполнить значением -1 и далее в анализе фильтровать по этому значению. Установить точный год выпуска игр можно по поиску этой информации в интернете, но, во-первых, процесс вычисления года выпуска по такому принципу будет довольно трудоемким, во-вторых, значение года не представляет особой ценности в цели исследования."
   ]
  },
  {
   "cell_type": "code",
   "execution_count": 10,
   "id": "9322b3a9",
   "metadata": {},
   "outputs": [],
   "source": [
    "# Заполняем пропущенные значения -1.\n",
    "df['year_of_release'] = df['year_of_release'].fillna(-1)"
   ]
  },
  {
   "cell_type": "markdown",
   "id": "6f9149f2",
   "metadata": {},
   "source": [
    "Из-за того, что в этой колонке содержались пропущенные значения, всем значениям автоматически присвоился вещественный тип данных. Теперь, когда мы заполнили пустые строки цифрой, можно вещественные числа перевести в целые."
   ]
  },
  {
   "cell_type": "code",
   "execution_count": 11,
   "id": "8c6e72b7",
   "metadata": {},
   "outputs": [],
   "source": [
    "df['year_of_release'] = df['year_of_release'].astype(int)"
   ]
  },
  {
   "cell_type": "markdown",
   "id": "bfb90e86",
   "metadata": {},
   "source": [
    "### Столбец 'genre'"
   ]
  },
  {
   "cell_type": "code",
   "execution_count": 12,
   "id": "091f4b56",
   "metadata": {},
   "outputs": [
    {
     "data": {
      "text/plain": [
       "Action          3369\n",
       "Sports          2348\n",
       "Misc            1750\n",
       "Role-Playing    1498\n",
       "Shooter         1323\n",
       "Adventure       1303\n",
       "Racing          1249\n",
       "Platform         888\n",
       "Simulation       873\n",
       "Fighting         849\n",
       "Strategy         683\n",
       "Puzzle           580\n",
       "Name: genre, dtype: int64"
      ]
     },
     "execution_count": 12,
     "metadata": {},
     "output_type": "execute_result"
    }
   ],
   "source": [
    "df['genre'].value_counts()"
   ]
  },
  {
   "cell_type": "markdown",
   "id": "4e6f1e47",
   "metadata": {},
   "source": [
    "В этом столбце нет проблем. Разве что переведем все названия жанров в строчный регистр, чтобы потом не путаться."
   ]
  },
  {
   "cell_type": "code",
   "execution_count": 13,
   "id": "12c0baee",
   "metadata": {},
   "outputs": [],
   "source": [
    "df['genre'] = df['genre'].str.lower()"
   ]
  },
  {
   "cell_type": "markdown",
   "id": "01e1d681",
   "metadata": {},
   "source": [
    "### Столбцы 'na_sales', 'eu_sales', 'jp_sales',\t'other_sales'"
   ]
  },
  {
   "cell_type": "markdown",
   "id": "99153a14",
   "metadata": {},
   "source": [
    "В этих столбцах вызовем метод describe, чтобы изучить диапазон значений, которые там присутствуют."
   ]
  },
  {
   "cell_type": "code",
   "execution_count": 14,
   "id": "36517028",
   "metadata": {},
   "outputs": [
    {
     "data": {
      "text/plain": [
       "count    16713.000000\n",
       "mean         0.263302\n",
       "std          0.813565\n",
       "min          0.000000\n",
       "25%          0.000000\n",
       "50%          0.080000\n",
       "75%          0.240000\n",
       "max         41.360000\n",
       "Name: na_sales, dtype: float64"
      ]
     },
     "execution_count": 14,
     "metadata": {},
     "output_type": "execute_result"
    }
   ],
   "source": [
    "df['na_sales'].describe()"
   ]
  },
  {
   "cell_type": "code",
   "execution_count": 15,
   "id": "53054e60",
   "metadata": {},
   "outputs": [
    {
     "data": {
      "text/plain": [
       "count    16713.000000\n",
       "mean         0.145045\n",
       "std          0.503359\n",
       "min          0.000000\n",
       "25%          0.000000\n",
       "50%          0.020000\n",
       "75%          0.110000\n",
       "max         28.960000\n",
       "Name: eu_sales, dtype: float64"
      ]
     },
     "execution_count": 15,
     "metadata": {},
     "output_type": "execute_result"
    }
   ],
   "source": [
    "df['eu_sales'].describe()"
   ]
  },
  {
   "cell_type": "code",
   "execution_count": 16,
   "id": "c14175b4",
   "metadata": {},
   "outputs": [
    {
     "data": {
      "text/plain": [
       "count    16713.000000\n",
       "mean         0.077625\n",
       "std          0.308871\n",
       "min          0.000000\n",
       "25%          0.000000\n",
       "50%          0.000000\n",
       "75%          0.040000\n",
       "max         10.220000\n",
       "Name: jp_sales, dtype: float64"
      ]
     },
     "execution_count": 16,
     "metadata": {},
     "output_type": "execute_result"
    }
   ],
   "source": [
    "df['jp_sales'].describe()"
   ]
  },
  {
   "cell_type": "code",
   "execution_count": 17,
   "id": "59884b9b",
   "metadata": {},
   "outputs": [
    {
     "data": {
      "text/plain": [
       "count    16713.000000\n",
       "mean         0.047343\n",
       "std          0.186742\n",
       "min          0.000000\n",
       "25%          0.000000\n",
       "50%          0.010000\n",
       "75%          0.030000\n",
       "max         10.570000\n",
       "Name: other_sales, dtype: float64"
      ]
     },
     "execution_count": 17,
     "metadata": {},
     "output_type": "execute_result"
    }
   ],
   "source": [
    "df['other_sales'].describe()"
   ]
  },
  {
   "cell_type": "markdown",
   "id": "8ad85a2a",
   "metadata": {},
   "source": [
    "Много строк с нулевыми значениями, но это можно объяснить тем, что платформ много, а период в датафрейме представлен  продолжительный, поэтому в большинстве строк стоят нули. Максимальные значения выглядят правдоподобно. Были хиты, которые разошлись тиражом почти 29 млн. шт."
   ]
  },
  {
   "cell_type": "markdown",
   "id": "27026f7a",
   "metadata": {},
   "source": [
    "Создадим сводную таблицу количества выпущенных игр  по годам и посмотрим динамику на графике."
   ]
  },
  {
   "cell_type": "code",
   "execution_count": 18,
   "id": "c12be7f6",
   "metadata": {},
   "outputs": [
    {
     "data": {
      "image/png": "[encoded data removed]",
      "text/plain": [
       "<Figure size 360x360 with 1 Axes>"
      ]
     },
     "metadata": {
      "needs_background": "light"
     },
     "output_type": "display_data"
    }
   ],
   "source": [
    "df_pivot = df[df['year_of_release'] != -1].pivot_table(index='year_of_release', values='name', aggfunc='count').reset_index()\n",
    "\n",
    "sns.relplot(x=\"year_of_release\", y=\"name\", kind=\"line\", data=df_pivot);"
   ]
  },
  {
   "cell_type": "markdown",
   "id": "46014089",
   "metadata": {},
   "source": [
    "Игровая индустрия стала выпускать меньше игр в последнее время, и после пика релизов игр в 2007-2008гг. тенденция идет на спад. Отметим, что до 2002 года общее количество продаж игр было не так велико, возможно стоит удалить эти данные вообще."
   ]
  },
  {
   "cell_type": "markdown",
   "id": "3339d076",
   "metadata": {},
   "source": [
    "Добавим столбец с суммарной выручкой по всем рынкам."
   ]
  },
  {
   "cell_type": "code",
   "execution_count": 19,
   "id": "437db29a",
   "metadata": {},
   "outputs": [],
   "source": [
    "# Для удобства восприятия добавим колонку не в конец, а сразу после колонок с объемами продаж по регионам.\n",
    "df.insert(8, 'global', 0)\n",
    "\n",
    "# Сложим значения объемов продаж по регионам\n",
    "df['global'] = df['na_sales'] + df['eu_sales'] + df['jp_sales'] + df['other_sales']"
   ]
  },
  {
   "cell_type": "markdown",
   "id": "85775365",
   "metadata": {},
   "source": [
    "### Столбец 'critic_score', 'user_score'"
   ]
  },
  {
   "cell_type": "markdown",
   "id": "57aa226b",
   "metadata": {},
   "source": [
    "Проверим столбец 'critic_score' на диапазон значений, так как он имеет формат float."
   ]
  },
  {
   "cell_type": "code",
   "execution_count": 20,
   "id": "380a0529",
   "metadata": {},
   "outputs": [
    {
     "data": {
      "text/plain": [
       "count    8137.000000\n",
       "mean       68.967679\n",
       "std        13.938165\n",
       "min        13.000000\n",
       "25%        60.000000\n",
       "50%        71.000000\n",
       "75%        79.000000\n",
       "max        98.000000\n",
       "Name: critic_score, dtype: float64"
      ]
     },
     "execution_count": 20,
     "metadata": {},
     "output_type": "execute_result"
    }
   ],
   "source": [
    "df['critic_score'].describe()"
   ]
  },
  {
   "cell_type": "markdown",
   "id": "3d2011ac",
   "metadata": {},
   "source": [
    "А столбец 'user_score' на уникальные значения, так как он имеет формат object."
   ]
  },
  {
   "cell_type": "code",
   "execution_count": 21,
   "id": "6e62df06",
   "metadata": {},
   "outputs": [
    {
     "data": {
      "text/plain": [
       "tbd    2424\n",
       "7.8     324\n",
       "8       290\n",
       "8.2     282\n",
       "8.3     254\n",
       "       ... \n",
       "1.3       2\n",
       "9.6       2\n",
       "1.9       2\n",
       "0         1\n",
       "9.7       1\n",
       "Name: user_score, Length: 96, dtype: int64"
      ]
     },
     "execution_count": 21,
     "metadata": {},
     "output_type": "execute_result"
    }
   ],
   "source": [
    "df['user_score'].value_counts()"
   ]
  },
  {
   "cell_type": "markdown",
   "id": "379a6ceb",
   "metadata": {},
   "source": [
    "Аббревиатура 'tbd' часто используется в сфере компьютерных игр и расшифровывается как To Be Determined, то есть \"Будет определено\". Очень часто подобное сокращение можно встретить в анонсах компьютерных игр в графе \"Дата выхода\". Когда разработчик той или иной игры уже сообщил о том, что она готовится к выходу, но пока еще не может назвать точную дату, именно это сокращение и используется. Для нас же это означает, что оценку мы установить не можем, поэтому придется заполнять также значением, которым в дальнейшем будем отфильтровывать данные для анализа, например -1."
   ]
  },
  {
   "cell_type": "code",
   "execution_count": 22,
   "id": "0cdf9d19",
   "metadata": {},
   "outputs": [],
   "source": [
    "df['critic_score'] = df['critic_score'].fillna(-1)\n",
    "df['user_score'] = df['user_score'].fillna(-1)"
   ]
  },
  {
   "cell_type": "code",
   "execution_count": 23,
   "id": "7788bddc",
   "metadata": {},
   "outputs": [],
   "source": [
    "df.loc[df['user_score'] == 'tbd', 'user_score'] = -1"
   ]
  },
  {
   "cell_type": "markdown",
   "id": "701223c8",
   "metadata": {},
   "source": [
    "Теперь можно перевести значения в этих столбцах из формата object к формату float, чтобы в дальнейшем можно было производить вычисления, строить графики итд."
   ]
  },
  {
   "cell_type": "code",
   "execution_count": 24,
   "id": "38b9b757",
   "metadata": {},
   "outputs": [],
   "source": [
    "df['critic_score'] = df['critic_score'].astype(float, errors = 'raise')\n",
    "df['user_score'] = df['user_score'].astype(float, errors = 'raise')"
   ]
  },
  {
   "cell_type": "markdown",
   "id": "781fb8a0",
   "metadata": {},
   "source": [
    "У нас есть оценки примерно по половине игр. В столбце с оценками критиков пропущена примерно половина значений, в столбце с оценками пользователей пропущено чуть меньше, но при этом 2424 строки содержат значение tbd, что означает, что оценки по этим играм у нас тоже нет."
   ]
  },
  {
   "cell_type": "markdown",
   "id": "327bcb6d",
   "metadata": {},
   "source": [
    "### Столбец 'rating'"
   ]
  },
  {
   "cell_type": "code",
   "execution_count": 25,
   "id": "bde94f67",
   "metadata": {},
   "outputs": [
    {
     "data": {
      "text/plain": [
       "E       3990\n",
       "T       2961\n",
       "M       1563\n",
       "E10+    1420\n",
       "EC         8\n",
       "K-A        3\n",
       "RP         3\n",
       "AO         1\n",
       "Name: rating, dtype: int64"
      ]
     },
     "execution_count": 25,
     "metadata": {},
     "output_type": "execute_result"
    }
   ],
   "source": [
    "df['rating'].value_counts()"
   ]
  },
  {
   "cell_type": "markdown",
   "id": "a917d626",
   "metadata": {},
   "source": [
    "Так как рейтинги ЕС, RP, K-A, AO имеют низкую частоту, заменим значения в этих строчках на наиболее близкие по смыслу. Например, рейтинг ЕС означает, что игра предназначена для детей младшего возраста, значит можно объединить с играми, предназначенными для всех (Е)"
   ]
  },
  {
   "cell_type": "code",
   "execution_count": 26,
   "id": "1b785655",
   "metadata": {},
   "outputs": [],
   "source": [
    "df.loc[df['rating']=='EC', 'rating'] = 'E'\n",
    "# \"Рейтинг ожидается\", то есть мы его не знаем, заменим на 'unknown'\n",
    "df.loc[df['rating']=='RP', 'rating'] = 'unknown'\n",
    "# K-A это устаревшее название рейтинга Е\n",
    "df.loc[df['rating']=='K-A', 'rating'] = 'E'\n",
    "# АО это для взрослых\n",
    "df.loc[df['rating']=='AO', 'rating'] = 'M'"
   ]
  },
  {
   "cell_type": "markdown",
   "id": "6df60c41",
   "metadata": {},
   "source": [
    "Пропущенные значения заменим на 'unknown'."
   ]
  },
  {
   "cell_type": "code",
   "execution_count": 27,
   "id": "dfc286a8",
   "metadata": {},
   "outputs": [],
   "source": [
    "df['rating'] = df['rating'].fillna('unknown')"
   ]
  },
  {
   "cell_type": "markdown",
   "id": "448103a2",
   "metadata": {},
   "source": [
    "И напоследок проверим датафрейм на наличие явных дубликатов."
   ]
  },
  {
   "cell_type": "code",
   "execution_count": 28,
   "id": "ac4c4a12",
   "metadata": {},
   "outputs": [
    {
     "data": {
      "text/plain": [
       "0"
      ]
     },
     "execution_count": 28,
     "metadata": {},
     "output_type": "execute_result"
    }
   ],
   "source": [
    "df.duplicated().sum()"
   ]
  },
  {
   "cell_type": "markdown",
   "id": "1848f927",
   "metadata": {},
   "source": [
    "Дубликатов нет, переходим к следующему шагу."
   ]
  },
  {
   "cell_type": "code",
   "execution_count": 29,
   "id": "f3c0245e",
   "metadata": {},
   "outputs": [
    {
     "name": "stdout",
     "output_type": "stream",
     "text": [
      "<class 'pandas.core.frame.DataFrame'>\n",
      "Int64Index: 16713 entries, 0 to 16714\n",
      "Data columns (total 12 columns):\n",
      " #   Column           Non-Null Count  Dtype  \n",
      "---  ------           --------------  -----  \n",
      " 0   name             16713 non-null  object \n",
      " 1   platform         16713 non-null  object \n",
      " 2   year_of_release  16713 non-null  int64  \n",
      " 3   genre            16713 non-null  object \n",
      " 4   na_sales         16713 non-null  float64\n",
      " 5   eu_sales         16713 non-null  float64\n",
      " 6   jp_sales         16713 non-null  float64\n",
      " 7   other_sales      16713 non-null  float64\n",
      " 8   global           16713 non-null  float64\n",
      " 9   critic_score     16713 non-null  float64\n",
      " 10  user_score       16713 non-null  float64\n",
      " 11  rating           16713 non-null  object \n",
      "dtypes: float64(7), int64(1), object(4)\n",
      "memory usage: 1.7+ MB\n"
     ]
    }
   ],
   "source": [
    "df.info()"
   ]
  },
  {
   "cell_type": "markdown",
   "id": "a4784361",
   "metadata": {},
   "source": [
    "## Исследовательский анализ данных"
   ]
  },
  {
   "cell_type": "markdown",
   "id": "70d854f6",
   "metadata": {},
   "source": [
    "### Самые популярные платформы за весь период"
   ]
  },
  {
   "cell_type": "markdown",
   "id": "ceef4c8a",
   "metadata": {},
   "source": [
    "Построим сводную таблицу по суммарным продажам в зависимости от платформы для того, чтобы выяснить какие платформы наиболее популярны среди пользователей."
   ]
  },
  {
   "cell_type": "code",
   "execution_count": 30,
   "id": "cedc08ac",
   "metadata": {},
   "outputs": [
    {
     "data": {
      "text/html": [
       "<div>\n",
       "<style scoped>\n",
       "    .dataframe tbody tr th:only-of-type {\n",
       "        vertical-align: middle;\n",
       "    }\n",
       "\n",
       "    .dataframe tbody tr th {\n",
       "        vertical-align: top;\n",
       "    }\n",
       "\n",
       "    .dataframe thead th {\n",
       "        text-align: right;\n",
       "    }\n",
       "</style>\n",
       "<table border=\"1\" class=\"dataframe\">\n",
       "  <thead>\n",
       "    <tr style=\"text-align: right;\">\n",
       "      <th></th>\n",
       "      <th>platform</th>\n",
       "      <th>global</th>\n",
       "    </tr>\n",
       "  </thead>\n",
       "  <tbody>\n",
       "    <tr>\n",
       "      <th>16</th>\n",
       "      <td>PS2</td>\n",
       "      <td>1255.77</td>\n",
       "    </tr>\n",
       "    <tr>\n",
       "      <th>28</th>\n",
       "      <td>X360</td>\n",
       "      <td>971.42</td>\n",
       "    </tr>\n",
       "    <tr>\n",
       "      <th>17</th>\n",
       "      <td>PS3</td>\n",
       "      <td>939.65</td>\n",
       "    </tr>\n",
       "    <tr>\n",
       "      <th>26</th>\n",
       "      <td>Wii</td>\n",
       "      <td>907.51</td>\n",
       "    </tr>\n",
       "    <tr>\n",
       "      <th>4</th>\n",
       "      <td>DS</td>\n",
       "      <td>806.12</td>\n",
       "    </tr>\n",
       "    <tr>\n",
       "      <th>15</th>\n",
       "      <td>PS</td>\n",
       "      <td>730.86</td>\n",
       "    </tr>\n",
       "    <tr>\n",
       "      <th>6</th>\n",
       "      <td>GBA</td>\n",
       "      <td>317.85</td>\n",
       "    </tr>\n",
       "    <tr>\n",
       "      <th>18</th>\n",
       "      <td>PS4</td>\n",
       "      <td>314.14</td>\n",
       "    </tr>\n",
       "    <tr>\n",
       "      <th>19</th>\n",
       "      <td>PSP</td>\n",
       "      <td>294.05</td>\n",
       "    </tr>\n",
       "    <tr>\n",
       "      <th>13</th>\n",
       "      <td>PC</td>\n",
       "      <td>259.52</td>\n",
       "    </tr>\n",
       "  </tbody>\n",
       "</table>\n",
       "</div>"
      ],
      "text/plain": [
       "   platform   global\n",
       "16      PS2  1255.77\n",
       "28     X360   971.42\n",
       "17      PS3   939.65\n",
       "26      Wii   907.51\n",
       "4        DS   806.12\n",
       "15       PS   730.86\n",
       "6       GBA   317.85\n",
       "18      PS4   314.14\n",
       "19      PSP   294.05\n",
       "13       PC   259.52"
      ]
     },
     "execution_count": 30,
     "metadata": {},
     "output_type": "execute_result"
    }
   ],
   "source": [
    "df_platform = df.pivot_table(index='platform',  values='global', aggfunc='sum').reset_index()\n",
    "\n",
    "# Отсортируем таблицу по объему продаж\n",
    "df_platform = df_platform.sort_values(by='global', ascending=False).head(10)\n",
    "df_platform"
   ]
  },
  {
   "cell_type": "markdown",
   "id": "2886f40a",
   "metadata": {},
   "source": [
    "Посмотрим, как продажи распределялись по годам, для этих платформ, построим графики."
   ]
  },
  {
   "cell_type": "code",
   "execution_count": 31,
   "id": "d81af43f",
   "metadata": {},
   "outputs": [],
   "source": [
    "df_platform_by_year = df[df['year_of_release'] != -1].pivot_table(index='year_of_release', columns='platform', values='global', aggfunc='sum').reset_index()\n",
    "df_platform_by_year = df_platform_by_year.fillna(0)"
   ]
  },
  {
   "cell_type": "code",
   "execution_count": 32,
   "id": "adb01c23",
   "metadata": {},
   "outputs": [
    {
     "data": {
      "image/png": "[encoded data removed]",
      "text/plain": [
       "<Figure size 432x288 with 1 Axes>"
      ]
     },
     "metadata": {
      "needs_background": "light"
     },
     "output_type": "display_data"
    },
    {
     "data": {
      "image/png": "[encoded data removed]",
      "text/plain": [
       "<Figure size 432x288 with 1 Axes>"
      ]
     },
     "metadata": {
      "needs_background": "light"
     },
     "output_type": "display_data"
    },
    {
     "data": {
      "image/png": "[encoded data removed]",
      "text/plain": [
       "<Figure size 432x288 with 1 Axes>"
      ]
     },
     "metadata": {
      "needs_background": "light"
     },
     "output_type": "display_data"
    },
    {
     "data": {
      "image/png": "[encoded data removed]",
      "text/plain": [
       "<Figure size 432x288 with 1 Axes>"
      ]
     },
     "metadata": {
      "needs_background": "light"
     },
     "output_type": "display_data"
    },
    {
     "data": {
      "image/png": "[encoded data removed]",
      "text/plain": [
       "<Figure size 432x288 with 1 Axes>"
      ]
     },
     "metadata": {
      "needs_background": "light"
     },
     "output_type": "display_data"
    },
    {
     "data": {
      "image/png": "[encoded data removed]",
      "text/plain": [
       "<Figure size 432x288 with 1 Axes>"
      ]
     },
     "metadata": {
      "needs_background": "light"
     },
     "output_type": "display_data"
    },
    {
     "data": {
      "image/png": "[encoded data removed]",
      "text/plain": [
       "<Figure size 432x288 with 1 Axes>"
      ]
     },
     "metadata": {
      "needs_background": "light"
     },
     "output_type": "display_data"
    },
    {
     "data": {
      "image/png": "[encoded data removed]",
      "text/plain": [
       "<Figure size 432x288 with 1 Axes>"
      ]
     },
     "metadata": {
      "needs_background": "light"
     },
     "output_type": "display_data"
    },
    {
     "data": {
      "image/png": "[encoded data removed]",
      "text/plain": [
       "<Figure size 432x288 with 1 Axes>"
      ]
     },
     "metadata": {
      "needs_background": "light"
     },
     "output_type": "display_data"
    },
    {
     "data": {
      "image/png": "[encoded data removed]",
      "text/plain": [
       "<Figure size 432x288 with 1 Axes>"
      ]
     },
     "metadata": {
      "needs_background": "light"
     },
     "output_type": "display_data"
    }
   ],
   "source": [
    "for elem in df_platform['platform']:\n",
    "    df_platform_by_year.plot(x='year_of_release', y=elem, grid=True)"
   ]
  },
  {
   "cell_type": "markdown",
   "id": "28443ef2",
   "metadata": {},
   "source": [
    "**Вывод:** Изучив графики, приходим к выводу, что в среднем срок жизни платформы составляет около 10 лет, но рост продаж длится и того меньше - около 5 лет, затем на смену приходит следующее поколение платформ.\n",
    "Следовательно, при прогнозе продаж на будущий период важно учитывать, что игровая индустрия меняется довольно быстро, а с ней меняются и предпочтения пользователей, и платформы. Отфильтруем датафрейм, оставив в нем только современные игры, начиная с 2013 года. "
   ]
  },
  {
   "cell_type": "code",
   "execution_count": 33,
   "id": "02f7b661",
   "metadata": {},
   "outputs": [],
   "source": [
    "df = df.query('year_of_release >= 2013')"
   ]
  },
  {
   "cell_type": "code",
   "execution_count": 34,
   "id": "3fc56a2b",
   "metadata": {},
   "outputs": [
    {
     "data": {
      "text/plain": [
       "(2233, 12)"
      ]
     },
     "execution_count": 34,
     "metadata": {},
     "output_type": "execute_result"
    }
   ],
   "source": [
    "df.shape"
   ]
  },
  {
   "cell_type": "markdown",
   "id": "b3a7b9b2",
   "metadata": {},
   "source": [
    "Осталось 2233 строк из 16713. Негусто, но зато данные актуальны."
   ]
  },
  {
   "cell_type": "markdown",
   "id": "6b7e58a0",
   "metadata": {},
   "source": [
    "### Самые актуальные платформы "
   ]
  },
  {
   "cell_type": "markdown",
   "id": "cf09b33a",
   "metadata": {},
   "source": [
    "Посмотрим, какие платформы за последние пять лет имеют максимальный суммарные продажи."
   ]
  },
  {
   "cell_type": "code",
   "execution_count": 35,
   "id": "7438c164",
   "metadata": {},
   "outputs": [
    {
     "data": {
      "text/html": [
       "<div>\n",
       "<style scoped>\n",
       "    .dataframe tbody tr th:only-of-type {\n",
       "        vertical-align: middle;\n",
       "    }\n",
       "\n",
       "    .dataframe tbody tr th {\n",
       "        vertical-align: top;\n",
       "    }\n",
       "\n",
       "    .dataframe thead th {\n",
       "        text-align: right;\n",
       "    }\n",
       "</style>\n",
       "<table border=\"1\" class=\"dataframe\">\n",
       "  <thead>\n",
       "    <tr style=\"text-align: right;\">\n",
       "      <th></th>\n",
       "      <th>platform</th>\n",
       "      <th>global</th>\n",
       "    </tr>\n",
       "  </thead>\n",
       "  <tbody>\n",
       "    <tr>\n",
       "      <th>0</th>\n",
       "      <td>PS4</td>\n",
       "      <td>314.14</td>\n",
       "    </tr>\n",
       "    <tr>\n",
       "      <th>1</th>\n",
       "      <td>PS3</td>\n",
       "      <td>181.43</td>\n",
       "    </tr>\n",
       "    <tr>\n",
       "      <th>2</th>\n",
       "      <td>XOne</td>\n",
       "      <td>159.32</td>\n",
       "    </tr>\n",
       "    <tr>\n",
       "      <th>3</th>\n",
       "      <td>3DS</td>\n",
       "      <td>143.25</td>\n",
       "    </tr>\n",
       "    <tr>\n",
       "      <th>4</th>\n",
       "      <td>X360</td>\n",
       "      <td>136.80</td>\n",
       "    </tr>\n",
       "    <tr>\n",
       "      <th>5</th>\n",
       "      <td>WiiU</td>\n",
       "      <td>64.63</td>\n",
       "    </tr>\n",
       "    <tr>\n",
       "      <th>6</th>\n",
       "      <td>PC</td>\n",
       "      <td>39.43</td>\n",
       "    </tr>\n",
       "    <tr>\n",
       "      <th>7</th>\n",
       "      <td>PSV</td>\n",
       "      <td>32.99</td>\n",
       "    </tr>\n",
       "    <tr>\n",
       "      <th>8</th>\n",
       "      <td>Wii</td>\n",
       "      <td>13.66</td>\n",
       "    </tr>\n",
       "    <tr>\n",
       "      <th>9</th>\n",
       "      <td>PSP</td>\n",
       "      <td>3.50</td>\n",
       "    </tr>\n",
       "  </tbody>\n",
       "</table>\n",
       "</div>"
      ],
      "text/plain": [
       "  platform  global\n",
       "0      PS4  314.14\n",
       "1      PS3  181.43\n",
       "2     XOne  159.32\n",
       "3      3DS  143.25\n",
       "4     X360  136.80\n",
       "5     WiiU   64.63\n",
       "6       PC   39.43\n",
       "7      PSV   32.99\n",
       "8      Wii   13.66\n",
       "9      PSP    3.50"
      ]
     },
     "execution_count": 35,
     "metadata": {},
     "output_type": "execute_result"
    }
   ],
   "source": [
    "df_last_years = df.pivot_table(index='platform',  values='global', aggfunc='sum').sort_values(by='global', ascending=False).reset_index().head(10)\n",
    "df_last_years"
   ]
  },
  {
   "cell_type": "markdown",
   "id": "30240500",
   "metadata": {},
   "source": [
    "Интересно, а если построить такую же таблицу, но со средними продажами по платформе. "
   ]
  },
  {
   "cell_type": "code",
   "execution_count": 36,
   "id": "575de15d",
   "metadata": {},
   "outputs": [
    {
     "data": {
      "text/html": [
       "<div>\n",
       "<style scoped>\n",
       "    .dataframe tbody tr th:only-of-type {\n",
       "        vertical-align: middle;\n",
       "    }\n",
       "\n",
       "    .dataframe tbody tr th {\n",
       "        vertical-align: top;\n",
       "    }\n",
       "\n",
       "    .dataframe thead th {\n",
       "        text-align: right;\n",
       "    }\n",
       "</style>\n",
       "<table border=\"1\" class=\"dataframe\">\n",
       "  <thead>\n",
       "    <tr style=\"text-align: right;\">\n",
       "      <th></th>\n",
       "      <th>platform</th>\n",
       "      <th>global</th>\n",
       "    </tr>\n",
       "  </thead>\n",
       "  <tbody>\n",
       "    <tr>\n",
       "      <th>0</th>\n",
       "      <td>PS4</td>\n",
       "      <td>0.801</td>\n",
       "    </tr>\n",
       "    <tr>\n",
       "      <th>1</th>\n",
       "      <td>X360</td>\n",
       "      <td>0.735</td>\n",
       "    </tr>\n",
       "    <tr>\n",
       "      <th>2</th>\n",
       "      <td>XOne</td>\n",
       "      <td>0.645</td>\n",
       "    </tr>\n",
       "    <tr>\n",
       "      <th>3</th>\n",
       "      <td>Wii</td>\n",
       "      <td>0.594</td>\n",
       "    </tr>\n",
       "    <tr>\n",
       "      <th>4</th>\n",
       "      <td>WiiU</td>\n",
       "      <td>0.562</td>\n",
       "    </tr>\n",
       "    <tr>\n",
       "      <th>5</th>\n",
       "      <td>PS3</td>\n",
       "      <td>0.526</td>\n",
       "    </tr>\n",
       "    <tr>\n",
       "      <th>6</th>\n",
       "      <td>3DS</td>\n",
       "      <td>0.473</td>\n",
       "    </tr>\n",
       "    <tr>\n",
       "      <th>7</th>\n",
       "      <td>PC</td>\n",
       "      <td>0.209</td>\n",
       "    </tr>\n",
       "    <tr>\n",
       "      <th>8</th>\n",
       "      <td>DS</td>\n",
       "      <td>0.192</td>\n",
       "    </tr>\n",
       "    <tr>\n",
       "      <th>9</th>\n",
       "      <td>PSV</td>\n",
       "      <td>0.092</td>\n",
       "    </tr>\n",
       "  </tbody>\n",
       "</table>\n",
       "</div>"
      ],
      "text/plain": [
       "  platform  global\n",
       "0      PS4   0.801\n",
       "1     X360   0.735\n",
       "2     XOne   0.645\n",
       "3      Wii   0.594\n",
       "4     WiiU   0.562\n",
       "5      PS3   0.526\n",
       "6      3DS   0.473\n",
       "7       PC   0.209\n",
       "8       DS   0.192\n",
       "9      PSV   0.092"
      ]
     },
     "execution_count": 36,
     "metadata": {},
     "output_type": "execute_result"
    }
   ],
   "source": [
    "df_last_years_mean = df.pivot_table(index='platform',  values='global', aggfunc='mean').sort_values(by='global', ascending=False).reset_index().head(10)\n",
    "df_last_years_mean.round(3)"
   ]
  },
  {
   "cell_type": "markdown",
   "id": "a074214e",
   "metadata": {},
   "source": [
    "Картина в целом похожа, но отличия всё-таки имеются. Например, по суммарным продажам PS3 занимает второе место, а по средним продажам только шестое. Возможно, это связано с тем, что мы увидели на графике по количеству выпущенных игр по годам. Сейчас тенденция идет на спад, и, по всей видимости, на платформе PS3 игр просто было выпущено больше."
   ]
  },
  {
   "cell_type": "markdown",
   "id": "50f6d6e2",
   "metadata": {},
   "source": [
    "Теперь построим сводную таблицу среднего значения глобальных продаж по годам."
   ]
  },
  {
   "cell_type": "code",
   "execution_count": 37,
   "id": "e1860450",
   "metadata": {},
   "outputs": [
    {
     "data": {
      "text/html": [
       "<div>\n",
       "<style scoped>\n",
       "    .dataframe tbody tr th:only-of-type {\n",
       "        vertical-align: middle;\n",
       "    }\n",
       "\n",
       "    .dataframe tbody tr th {\n",
       "        vertical-align: top;\n",
       "    }\n",
       "\n",
       "    .dataframe thead th {\n",
       "        text-align: right;\n",
       "    }\n",
       "</style>\n",
       "<table border=\"1\" class=\"dataframe\">\n",
       "  <thead>\n",
       "    <tr style=\"text-align: right;\">\n",
       "      <th>platform</th>\n",
       "      <th>year_of_release</th>\n",
       "      <th>3DS</th>\n",
       "      <th>DS</th>\n",
       "      <th>PC</th>\n",
       "      <th>PS3</th>\n",
       "      <th>PS4</th>\n",
       "      <th>PSP</th>\n",
       "      <th>PSV</th>\n",
       "      <th>Wii</th>\n",
       "      <th>WiiU</th>\n",
       "      <th>X360</th>\n",
       "      <th>XOne</th>\n",
       "    </tr>\n",
       "  </thead>\n",
       "  <tbody>\n",
       "    <tr>\n",
       "      <th>0</th>\n",
       "      <td>2013</td>\n",
       "      <td>0.62</td>\n",
       "      <td>0.19</td>\n",
       "      <td>0.33</td>\n",
       "      <td>0.90</td>\n",
       "      <td>1.62</td>\n",
       "      <td>0.06</td>\n",
       "      <td>0.17</td>\n",
       "      <td>0.72</td>\n",
       "      <td>0.52</td>\n",
       "      <td>1.18</td>\n",
       "      <td>1.00</td>\n",
       "    </tr>\n",
       "    <tr>\n",
       "      <th>1</th>\n",
       "      <td>2014</td>\n",
       "      <td>0.55</td>\n",
       "      <td>0.00</td>\n",
       "      <td>0.28</td>\n",
       "      <td>0.44</td>\n",
       "      <td>1.33</td>\n",
       "      <td>0.02</td>\n",
       "      <td>0.12</td>\n",
       "      <td>0.62</td>\n",
       "      <td>0.71</td>\n",
       "      <td>0.55</td>\n",
       "      <td>0.89</td>\n",
       "    </tr>\n",
       "    <tr>\n",
       "      <th>2</th>\n",
       "      <td>2015</td>\n",
       "      <td>0.32</td>\n",
       "      <td>0.00</td>\n",
       "      <td>0.17</td>\n",
       "      <td>0.23</td>\n",
       "      <td>0.87</td>\n",
       "      <td>0.04</td>\n",
       "      <td>0.06</td>\n",
       "      <td>0.28</td>\n",
       "      <td>0.58</td>\n",
       "      <td>0.34</td>\n",
       "      <td>0.75</td>\n",
       "    </tr>\n",
       "    <tr>\n",
       "      <th>3</th>\n",
       "      <td>2016</td>\n",
       "      <td>0.33</td>\n",
       "      <td>0.00</td>\n",
       "      <td>0.10</td>\n",
       "      <td>0.09</td>\n",
       "      <td>0.42</td>\n",
       "      <td>0.00</td>\n",
       "      <td>0.05</td>\n",
       "      <td>0.18</td>\n",
       "      <td>0.33</td>\n",
       "      <td>0.12</td>\n",
       "      <td>0.30</td>\n",
       "    </tr>\n",
       "  </tbody>\n",
       "</table>\n",
       "</div>"
      ],
      "text/plain": [
       "platform  year_of_release   3DS    DS    PC   PS3   PS4   PSP   PSV   Wii  \\\n",
       "0                    2013  0.62  0.19  0.33  0.90  1.62  0.06  0.17  0.72   \n",
       "1                    2014  0.55  0.00  0.28  0.44  1.33  0.02  0.12  0.62   \n",
       "2                    2015  0.32  0.00  0.17  0.23  0.87  0.04  0.06  0.28   \n",
       "3                    2016  0.33  0.00  0.10  0.09  0.42  0.00  0.05  0.18   \n",
       "\n",
       "platform  WiiU  X360  XOne  \n",
       "0         0.52  1.18  1.00  \n",
       "1         0.71  0.55  0.89  \n",
       "2         0.58  0.34  0.75  \n",
       "3         0.33  0.12  0.30  "
      ]
     },
     "execution_count": 37,
     "metadata": {},
     "output_type": "execute_result"
    }
   ],
   "source": [
    "df_sales_last_years = df.pivot_table(index='year_of_release', columns='platform', values='global', aggfunc='mean').reset_index()\n",
    "# Заполним нулями пропущенные значения. \n",
    "df_sales_last_years = df_sales_last_years.fillna(0)\n",
    "# Округлим значения до двух знаков после запятой для простоты восприятия.\n",
    "df_sales_last_years = df_sales_last_years.round(2)\n",
    "df_sales_last_years"
   ]
  },
  {
   "cell_type": "markdown",
   "id": "3820dcee",
   "metadata": {},
   "source": [
    "**Вывод:** Глядя на динамику самых популярных платформ за последние 5 лет, можно сделать вывод, что некогда популярные платформы, такие как PS3, постепенно вытесняются более новыми. Также при оценке динамики не будем забывать, что данные за 2016 год неполные, поэтому надо смотреть на динамику до 2016 года и учитывать общую тенденцию к снижению в продаж в игровой индустрии. \n",
    "\n",
    "Cамыми актуальными платформами на сегодня являются 3DS, PS4, WiiU и XOne. Динамика продаж по остальным платформам постепенно идет на спад, либо уже сошла на нет."
   ]
  },
  {
   "cell_type": "markdown",
   "id": "061f682a",
   "metadata": {},
   "source": [
    "### Распределение продаж по платформам"
   ]
  },
  {
   "cell_type": "markdown",
   "id": "ef6f6122",
   "metadata": {},
   "source": [
    "Построим график «ящик с усами» для изучения размаха показателя глобальных продаж по платформам."
   ]
  },
  {
   "cell_type": "code",
   "execution_count": 38,
   "id": "89f2b613",
   "metadata": {},
   "outputs": [],
   "source": [
    "my_list = list(df_last_years['platform'].unique())"
   ]
  },
  {
   "cell_type": "code",
   "execution_count": 39,
   "id": "aa0067c3",
   "metadata": {},
   "outputs": [
    {
     "data": {
      "text/plain": [
       "Text(0.5, 0.98, 'Распределение объемов продаж среди платформ')"
      ]
     },
     "execution_count": 39,
     "metadata": {},
     "output_type": "execute_result"
    },
    {
     "data": {
      "image/png": "[encoded data removed]",
      "text/plain": [
       "<Figure size 1080x432 with 5 Axes>"
      ]
     },
     "metadata": {
      "needs_background": "light"
     },
     "output_type": "display_data"
    }
   ],
   "source": [
    "fig, axs = plt.subplots(1, 5, figsize=(15, 6), sharey=True)\n",
    "# Выберем пятерку самых популярных платформ.\n",
    "for i in range(len(my_list[:5])):\n",
    "    # Для наглядности избавимся от выбросов, ограничив график играми, с продажами менее 1 млн. экз.\n",
    "    axs[i].boxplot(df[(df['platform']==my_list[i]) & (df['global'] < 1)]['global'])\n",
    "    axs[i].set_title(my_list[i])\n",
    "\n",
    "fig.suptitle('Распределение объемов продаж среди платформ')"
   ]
  },
  {
   "cell_type": "markdown",
   "id": "d7af34bf",
   "metadata": {},
   "source": [
    "Честно говоря, тиражи большинства игр не сильно впечатляют. Медианное значение по платформам колеблется от 100 до 150 тыс. экз., максимальное около 400 тыс. экз. Конечно, есть ряд игр, которые продаются многомилионными тиражами, но boxplot показывает нам, что это выбросы, то есть довольно редкие значения. Возможно этим и можно объяснить тенденцию к снижению количества выпущенных игр. Дело затратное, а шанс того, что игра выстрелит, небольшой."
   ]
  },
  {
   "cell_type": "markdown",
   "id": "ad4aac33",
   "metadata": {},
   "source": [
    "Теперь построим такое же распредение, но по всему диапазону объемов продаж."
   ]
  },
  {
   "cell_type": "code",
   "execution_count": 40,
   "id": "63e6446c",
   "metadata": {},
   "outputs": [
    {
     "data": {
      "text/plain": [
       "Text(0.5, 0.98, 'Распределение объемов продаж среди платформ')"
      ]
     },
     "execution_count": 40,
     "metadata": {},
     "output_type": "execute_result"
    },
    {
     "data": {
      "image/png": "[encoded data removed]",
      "text/plain": [
       "<Figure size 1080x432 with 5 Axes>"
      ]
     },
     "metadata": {
      "needs_background": "light"
     },
     "output_type": "display_data"
    }
   ],
   "source": [
    "fig, axs = plt.subplots(1, 5, figsize=(15, 6), sharey=True)\n",
    "# Выберем пятерку самых популярных платформ.\n",
    "for i in range(len(my_list[:5])):\n",
    "    axs[i].boxplot(df[df['platform']==my_list[i]]['global'])\n",
    "    axs[i].set_title(my_list[i])\n",
    "\n",
    "fig.suptitle('Распределение объемов продаж среди платформ')"
   ]
  },
  {
   "cell_type": "markdown",
   "id": "46a9b1e6",
   "metadata": {},
   "source": [
    "Видим что выбросов довольно много. Есть игры, которые становятся настоящими хитами и продаются тиражом в десятки миллионов."
   ]
  },
  {
   "cell_type": "markdown",
   "id": "65e470c4",
   "metadata": {},
   "source": [
    "### Влияние оценок критиков на продажи"
   ]
  },
  {
   "cell_type": "markdown",
   "id": "6e60feda",
   "metadata": {},
   "source": [
    "Изучим влияние оценки критиков и пользователей на объем продаж на самой популярной платформе PS3. Построим диаграмму рассеяния."
   ]
  },
  {
   "cell_type": "code",
   "execution_count": 41,
   "id": "17661a9d",
   "metadata": {},
   "outputs": [
    {
     "data": {
      "image/png": "[encoded data removed]",
      "text/plain": [
       "<Figure size 432x288 with 1 Axes>"
      ]
     },
     "metadata": {
      "needs_background": "light"
     },
     "output_type": "display_data"
    }
   ],
   "source": [
    "df[(df['platform'] == 'PS3') & (df['critic_score'] != -1)].plot(x='global', y='critic_score', grid=True, kind='scatter', title='Влияние оценки критиков на продажи PS3');"
   ]
  },
  {
   "cell_type": "code",
   "execution_count": 42,
   "id": "0087bd13",
   "metadata": {},
   "outputs": [
    {
     "data": {
      "text/plain": [
       "0.3342853393371919"
      ]
     },
     "execution_count": 42,
     "metadata": {},
     "output_type": "execute_result"
    }
   ],
   "source": [
    "df[(df['platform'] == 'PS3') & (df['critic_score'] != -1)]['global'].corr(df['critic_score'])"
   ]
  },
  {
   "cell_type": "markdown",
   "id": "79bd486b",
   "metadata": {},
   "source": [
    "А если убрать выбросы?"
   ]
  },
  {
   "cell_type": "code",
   "execution_count": 43,
   "id": "901e98d5",
   "metadata": {},
   "outputs": [
    {
     "data": {
      "image/png": "[encoded data removed]",
      "text/plain": [
       "<Figure size 432x288 with 1 Axes>"
      ]
     },
     "metadata": {
      "needs_background": "light"
     },
     "output_type": "display_data"
    }
   ],
   "source": [
    "df[(df['global'] < 4) &(df['platform'] == 'PS3') & (df['critic_score'] != -1)].plot(x='global', y='critic_score', grid=True, kind='scatter', title='Влияние оценки критиков на продажи без выбросов');"
   ]
  },
  {
   "cell_type": "markdown",
   "id": "4cf28e67",
   "metadata": {},
   "source": [
    "**Вывод:** Можно сказать, что влияния оценок критиков на количество проданных экземляров нет. Коэффициент корреляции не показывает сильной зависимости.\n",
    "Отметим, что есть игры, которые получили высокие оценки критиков, но продажи около нуля. Жизнь не всегда справедлива."
   ]
  },
  {
   "cell_type": "markdown",
   "id": "c4609238",
   "metadata": {},
   "source": [
    "Проверим коэффициент корреляции оценки критиков и глобальных продаж по другим популярным платформам."
   ]
  },
  {
   "cell_type": "code",
   "execution_count": 44,
   "id": "8764f7f7",
   "metadata": {},
   "outputs": [
    {
     "name": "stdout",
     "output_type": "stream",
     "text": [
      "PS3: 0.33\n",
      "X360: 0.35\n",
      "PS4: 0.41\n",
      "3DS: 0.36\n",
      "XOne: 0.42\n",
      "WiiU: 0.38\n",
      "Wii: nan\n",
      "PC: 0.2\n",
      "PSV: 0.25\n",
      "DS: nan\n",
      "PSP: nan\n"
     ]
    },
    {
     "name": "stderr",
     "output_type": "stream",
     "text": [
      "/opt/conda/lib/python3.9/site-packages/numpy/lib/function_base.py:2683: RuntimeWarning: Degrees of freedom <= 0 for slice\n",
      "  c = cov(x, y, rowvar, dtype=dtype)\n",
      "/opt/conda/lib/python3.9/site-packages/numpy/lib/function_base.py:2542: RuntimeWarning: divide by zero encountered in true_divide\n",
      "  c *= np.true_divide(1, fact)\n"
     ]
    }
   ],
   "source": [
    "for elem in df['platform'].unique():\n",
    "    print(elem + ':',  round(df[(df['platform'] == elem) & (df['critic_score'] != -1)]['global'].corr(df['critic_score']), 2))"
   ]
  },
  {
   "cell_type": "markdown",
   "id": "d5f5efa6",
   "metadata": {},
   "source": [
    "**Вывод:** Коэффициент корреляции примерно одинаковый, значит и для остальных платформ оценки критиков значения не  имеют."
   ]
  },
  {
   "cell_type": "markdown",
   "id": "2a0c66f4",
   "metadata": {},
   "source": [
    "### Влияние оценок пользователей на продажи"
   ]
  },
  {
   "cell_type": "markdown",
   "id": "7bb4890b",
   "metadata": {},
   "source": [
    "Подобным же образом исследуем влияние оценок пользователей на глобальные продажи."
   ]
  },
  {
   "cell_type": "code",
   "execution_count": 45,
   "id": "78ec8499",
   "metadata": {},
   "outputs": [
    {
     "data": {
      "image/png": "[encoded data removed]",
      "text/plain": [
       "<Figure size 432x288 with 1 Axes>"
      ]
     },
     "metadata": {
      "needs_background": "light"
     },
     "output_type": "display_data"
    }
   ],
   "source": [
    "df[(df['platform'] == 'PS3') & (df['user_score'] != -1) & (df['global'] < 4)].plot(x='global', y='user_score', kind='scatter', grid=True, title='Влияние оценки пользователей на продажи без выбросов');"
   ]
  },
  {
   "cell_type": "markdown",
   "id": "7e34f586",
   "metadata": {},
   "source": [
    "Судя по диаграмме рассеяния, влияние оценок пользователей на продажи еще меньше, чем влияние оценок критиков. Проверим коэффициент корреляции."
   ]
  },
  {
   "cell_type": "code",
   "execution_count": 46,
   "id": "8344ee2e",
   "metadata": {},
   "outputs": [
    {
     "data": {
      "text/plain": [
       "0.03359222076211922"
      ]
     },
     "execution_count": 46,
     "metadata": {},
     "output_type": "execute_result"
    }
   ],
   "source": [
    "df[(df['platform'] == 'PS3') & (df['user_score'] != -1) & (df['global'] < 4)]['global'].corr(df['user_score'])"
   ]
  },
  {
   "cell_type": "markdown",
   "id": "00800bdd",
   "metadata": {},
   "source": [
    "Так и есть. Влияние отсутствует.\n",
    "\n",
    "Проверим коэффициент корреляции по другим платформам."
   ]
  },
  {
   "cell_type": "code",
   "execution_count": 47,
   "id": "523d7cda",
   "metadata": {},
   "outputs": [
    {
     "name": "stdout",
     "output_type": "stream",
     "text": [
      "PS3: 0.0\n",
      "X360: -0.01\n",
      "PS4: -0.03\n",
      "3DS: 0.24\n",
      "XOne: -0.07\n",
      "WiiU: 0.42\n",
      "Wii: 0.68\n",
      "PC: -0.09\n",
      "PSV: 0.0\n",
      "DS: nan\n",
      "PSP: -1.0\n"
     ]
    },
    {
     "name": "stderr",
     "output_type": "stream",
     "text": [
      "/opt/conda/lib/python3.9/site-packages/numpy/lib/function_base.py:2683: RuntimeWarning: Degrees of freedom <= 0 for slice\n",
      "  c = cov(x, y, rowvar, dtype=dtype)\n",
      "/opt/conda/lib/python3.9/site-packages/numpy/lib/function_base.py:2542: RuntimeWarning: divide by zero encountered in true_divide\n",
      "  c *= np.true_divide(1, fact)\n"
     ]
    }
   ],
   "source": [
    "for elem in df['platform'].unique():\n",
    "    print(elem + ':',  round(df[(df['platform'] == elem) & (df['user_score'] != -1)]['global'].corr(df['user_score']), 2))"
   ]
  },
  {
   "cell_type": "markdown",
   "id": "aa5794cb",
   "metadata": {},
   "source": [
    "**Вывод:** На платформы WiiU и Wii видим коэффициент корреляции больше 0.5, что говорит нам о том, что конкретно по этим платформам есть влияние оценок пользователей на продажи."
   ]
  },
  {
   "cell_type": "markdown",
   "id": "dd1d4728",
   "metadata": {},
   "source": [
    "### Зависимость продаж от жанра игр"
   ]
  },
  {
   "cell_type": "markdown",
   "id": "a6c854a6",
   "metadata": {},
   "source": [
    "Построим сводную таблицу по среднему количеству проданных экземпляров в зависимости от жанра."
   ]
  },
  {
   "cell_type": "code",
   "execution_count": 48,
   "id": "7eabcecb",
   "metadata": {},
   "outputs": [
    {
     "data": {
      "text/html": [
       "<div>\n",
       "<style scoped>\n",
       "    .dataframe tbody tr th:only-of-type {\n",
       "        vertical-align: middle;\n",
       "    }\n",
       "\n",
       "    .dataframe tbody tr th {\n",
       "        vertical-align: top;\n",
       "    }\n",
       "\n",
       "    .dataframe thead th {\n",
       "        text-align: right;\n",
       "    }\n",
       "</style>\n",
       "<table border=\"1\" class=\"dataframe\">\n",
       "  <thead>\n",
       "    <tr style=\"text-align: right;\">\n",
       "      <th></th>\n",
       "      <th>genre</th>\n",
       "      <th>global</th>\n",
       "    </tr>\n",
       "  </thead>\n",
       "  <tbody>\n",
       "    <tr>\n",
       "      <th>8</th>\n",
       "      <td>shooter</td>\n",
       "      <td>1.245882</td>\n",
       "    </tr>\n",
       "    <tr>\n",
       "      <th>10</th>\n",
       "      <td>sports</td>\n",
       "      <td>0.703972</td>\n",
       "    </tr>\n",
       "    <tr>\n",
       "      <th>4</th>\n",
       "      <td>platform</td>\n",
       "      <td>0.576081</td>\n",
       "    </tr>\n",
       "    <tr>\n",
       "      <th>7</th>\n",
       "      <td>role-playing</td>\n",
       "      <td>0.499623</td>\n",
       "    </tr>\n",
       "    <tr>\n",
       "      <th>6</th>\n",
       "      <td>racing</td>\n",
       "      <td>0.469294</td>\n",
       "    </tr>\n",
       "    <tr>\n",
       "      <th>2</th>\n",
       "      <td>fighting</td>\n",
       "      <td>0.441375</td>\n",
       "    </tr>\n",
       "    <tr>\n",
       "      <th>0</th>\n",
       "      <td>action</td>\n",
       "      <td>0.420196</td>\n",
       "    </tr>\n",
       "    <tr>\n",
       "      <th>3</th>\n",
       "      <td>misc</td>\n",
       "      <td>0.405290</td>\n",
       "    </tr>\n",
       "    <tr>\n",
       "      <th>9</th>\n",
       "      <td>simulation</td>\n",
       "      <td>0.350968</td>\n",
       "    </tr>\n",
       "    <tr>\n",
       "      <th>5</th>\n",
       "      <td>puzzle</td>\n",
       "      <td>0.186471</td>\n",
       "    </tr>\n",
       "    <tr>\n",
       "      <th>11</th>\n",
       "      <td>strategy</td>\n",
       "      <td>0.180000</td>\n",
       "    </tr>\n",
       "    <tr>\n",
       "      <th>1</th>\n",
       "      <td>adventure</td>\n",
       "      <td>0.096490</td>\n",
       "    </tr>\n",
       "  </tbody>\n",
       "</table>\n",
       "</div>"
      ],
      "text/plain": [
       "           genre    global\n",
       "8        shooter  1.245882\n",
       "10        sports  0.703972\n",
       "4       platform  0.576081\n",
       "7   role-playing  0.499623\n",
       "6         racing  0.469294\n",
       "2       fighting  0.441375\n",
       "0         action  0.420196\n",
       "3           misc  0.405290\n",
       "9     simulation  0.350968\n",
       "5         puzzle  0.186471\n",
       "11      strategy  0.180000\n",
       "1      adventure  0.096490"
      ]
     },
     "execution_count": 48,
     "metadata": {},
     "output_type": "execute_result"
    }
   ],
   "source": [
    "df_genre = df.pivot_table(index='genre', values='global', aggfunc='mean').reset_index().sort_values(by='global', ascending=False)\n",
    "df_genre"
   ]
  },
  {
   "cell_type": "markdown",
   "id": "ab781f4e",
   "metadata": {},
   "source": [
    "Построим горизотальную гистрограмму для наглядности."
   ]
  },
  {
   "cell_type": "code",
   "execution_count": 49,
   "id": "dd24513e",
   "metadata": {},
   "outputs": [
    {
     "data": {
      "image/png": "[encoded data removed]",
      "text/plain": [
       "<Figure size 432x288 with 1 Axes>"
      ]
     },
     "metadata": {
      "needs_background": "light"
     },
     "output_type": "display_data"
    }
   ],
   "source": [
    "df_genre.plot(x='genre', y='global', kind='barh', grid=True, title='Среднее продажи по жанрам, млн. шт.');"
   ]
  },
  {
   "cell_type": "markdown",
   "id": "14a557af",
   "metadata": {},
   "source": [
    "## Портрет пользователя для каждого региона"
   ]
  },
  {
   "cell_type": "markdown",
   "id": "e6476786",
   "metadata": {},
   "source": [
    "Составим портрет пользователя каждого региона (NA, EU, JP).<br>\n",
    "1) Определим самые популярные платформы (топ-5). Опишем различия в долях продаж.<br>\n",
    "2) Определим самые популярные жанры (топ-5). <br>\n",
    "3) Определим влияние рейтинга ESRB на продажи в каждом регионе.<br>"
   ]
  },
  {
   "cell_type": "markdown",
   "id": "480ddf40",
   "metadata": {},
   "source": [
    "Чтобы не дублировать код при описании различий пользователей из разных регионов, напишем функцию, которая принимает на вход датафрейм, интересующую нас характеристику и колонку с показателем продаж для каждого региона отдельно, а возвращает сводную таблицу с суммой продаж в зависимости от характеристики. А затем просто будем вызывать функцию, подставляя нужные нам параметры."
   ]
  },
  {
   "cell_type": "code",
   "execution_count": 50,
   "id": "a9a6b4a3",
   "metadata": {},
   "outputs": [],
   "source": [
    "def rating_sales(data, index, column):\n",
    "    data = data.pivot_table(index=index, values=column, aggfunc='sum').sort_values(by=column, ascending=False).reset_index()\n",
    "    data = data.round(3)\n",
    "    # Платформы, которые не вошли в пятерку переименуем в 'other', чтобы корректно строить круговые диаграммы\n",
    "    data.loc[5:, index] = 'other'\n",
    "    # Сгруппируем еще раз получившуюся таблицу, чтобы сложить значения в строках 'other'\n",
    "    data = data.groupby(by=index).sum().reset_index()\n",
    "    return data.sort_values(by=column,ascending=False)"
   ]
  },
  {
   "cell_type": "markdown",
   "id": "0f92c7d5",
   "metadata": {},
   "source": [
    "### Платформы"
   ]
  },
  {
   "cell_type": "markdown",
   "id": "5ac1bf60",
   "metadata": {},
   "source": [
    "Изучим какие платформы предпочитают пользователи разных регионов. "
   ]
  },
  {
   "cell_type": "code",
   "execution_count": 51,
   "id": "45f575f6",
   "metadata": {},
   "outputs": [],
   "source": [
    "na_platform = rating_sales(df, 'platform', 'na_sales')\n",
    "eu_platform = rating_sales(df, 'platform', 'eu_sales')\n",
    "jp_platform = rating_sales(df, 'platform', 'jp_sales')"
   ]
  },
  {
   "cell_type": "code",
   "execution_count": 52,
   "id": "57c55805",
   "metadata": {},
   "outputs": [
    {
     "data": {
      "text/plain": [
       "Text(0.5, 0.98, 'Самые популярные платформы за последние 5 лет')"
      ]
     },
     "execution_count": 52,
     "metadata": {},
     "output_type": "execute_result"
    },
    {
     "data": {
      "image/png": "[encoded data removed]",
      "text/plain": [
       "<Figure size 1080x432 with 3 Axes>"
      ]
     },
     "metadata": {},
     "output_type": "display_data"
    }
   ],
   "source": [
    "fig, axs = plt.subplots(1, 3, figsize=(15, 6), sharey=True)\n",
    "axs[0].pie(na_platform['na_sales'], labels=na_platform['platform'], autopct='%1.1f%%')\n",
    "axs[0].set_title('Северная Америка')\n",
    "axs[1].pie(eu_platform['eu_sales'], labels=eu_platform['platform'], autopct='%1.1f%%')\n",
    "axs[1].set_title('Европа')\n",
    "axs[2].pie(jp_platform['jp_sales'], labels=jp_platform['platform'], autopct='%1.1f%%')\n",
    "axs[2].set_title('Япония')\n",
    "fig.suptitle('Самые популярные платформы за последние 5 лет')"
   ]
  },
  {
   "cell_type": "markdown",
   "id": "fb7a9cb1",
   "metadata": {},
   "source": [
    "Для Северной Америки и Европы картина в целом похожая. Пользователи предпочитают платформы для игр дома, только в Европе, в отличии от Северной Америки пользователей Playstation, больше, чем XBox. \n",
    "\n",
    "А вот в Японии больше всего любят мобильные платформы. А если играть дома, то только родной Playstaion. Xbox в Японии не признают."
   ]
  },
  {
   "cell_type": "markdown",
   "id": "9f507a89",
   "metadata": {},
   "source": [
    "### Популярные жанры"
   ]
  },
  {
   "cell_type": "markdown",
   "id": "55269d7a",
   "metadata": {},
   "source": [
    "Далее изучим какие жанровые предпочтения у пользователей разных регионов."
   ]
  },
  {
   "cell_type": "code",
   "execution_count": 53,
   "id": "42ed7bc6",
   "metadata": {},
   "outputs": [],
   "source": [
    "na_genre = rating_sales(df, 'genre', 'na_sales')\n",
    "eu_genre = rating_sales(df, 'genre', 'eu_sales')\n",
    "jp_genre = rating_sales(df, 'genre', 'jp_sales')"
   ]
  },
  {
   "cell_type": "code",
   "execution_count": 54,
   "id": "709161c3",
   "metadata": {},
   "outputs": [
    {
     "data": {
      "text/plain": [
       "Text(0.5, 0.98, 'Самые популярные жанры за последние 5 лет')"
      ]
     },
     "execution_count": 54,
     "metadata": {},
     "output_type": "execute_result"
    },
    {
     "data": {
      "image/png": "[encoded data removed]",
      "text/plain": [
       "<Figure size 1080x432 with 3 Axes>"
      ]
     },
     "metadata": {},
     "output_type": "display_data"
    }
   ],
   "source": [
    "fig, axs = plt.subplots(1, 3, figsize=(15, 6), sharey=True)\n",
    "axs[0].pie(na_genre['na_sales'], labels=na_genre['genre'], autopct='%1.1f%%')\n",
    "axs[0].set_title('Северная Америка')\n",
    "axs[1].pie(eu_genre['eu_sales'], labels=eu_genre['genre'], autopct='%1.1f%%')\n",
    "axs[1].set_title('Европа')\n",
    "axs[2].pie(jp_genre['jp_sales'], labels=jp_genre['genre'], autopct='%1.1f%%')\n",
    "axs[2].set_title('Япония')\n",
    "fig.suptitle('Самые популярные жанры за последние 5 лет')"
   ]
  },
  {
   "cell_type": "markdown",
   "id": "e2e850c3",
   "metadata": {},
   "source": [
    "Снова видим похожую картину для Европы и Северной Америки. Любимые жанры для западных пользователей - шутеры и экшены, также в почете ролевые (компьютерные) и спортивные игры. \n",
    "\n",
    "В Японии же ролевые игры на первом месте, но экшены японцы тоже любят."
   ]
  },
  {
   "cell_type": "markdown",
   "id": "4d7d02b4",
   "metadata": {},
   "source": [
    "### Влияние рейтинга на продажи."
   ]
  },
  {
   "cell_type": "code",
   "execution_count": 55,
   "id": "7ff6bdc5",
   "metadata": {},
   "outputs": [],
   "source": [
    "# Исключим из анализа игры, рейтинг которых не определен.\n",
    "na_rating = rating_sales(df, 'rating', 'na_sales')\n",
    "eu_rating = rating_sales(df, 'rating', 'eu_sales')\n",
    "jp_rating = rating_sales(df, 'rating', 'jp_sales')"
   ]
  },
  {
   "cell_type": "code",
   "execution_count": 56,
   "id": "a798df20",
   "metadata": {},
   "outputs": [
    {
     "data": {
      "text/plain": [
       "Text(0.5, 0.98, 'Продажи в зависимости от рейтинга')"
      ]
     },
     "execution_count": 56,
     "metadata": {},
     "output_type": "execute_result"
    },
    {
     "data": {
      "image/png": "[encoded data removed]",
      "text/plain": [
       "<Figure size 1080x432 with 3 Axes>"
      ]
     },
     "metadata": {},
     "output_type": "display_data"
    }
   ],
   "source": [
    "fig, axs = plt.subplots(1, 3, figsize=(15, 6), sharey=True)\n",
    "axs[0].pie(na_rating['na_sales'], labels=na_rating['rating'], autopct='%1.1f%%')\n",
    "axs[0].set_title('Северная Америка')\n",
    "axs[1].pie(eu_rating['eu_sales'], labels=eu_rating['rating'], autopct='%1.1f%%')\n",
    "axs[1].set_title('Европа')\n",
    "axs[2].pie(jp_rating['jp_sales'], labels=jp_rating['rating'], autopct='%1.1f%%')\n",
    "axs[2].set_title('Япония')\n",
    "fig.suptitle('Продажи в зависимости от рейтинга')"
   ]
  },
  {
   "cell_type": "markdown",
   "id": "8daf3e1b",
   "metadata": {},
   "source": [
    "Пользователи в Европе и Америке отдают предпочтение играм с рейтингом М, для лиц, старше 17 лет.  На втором месте игры для всех (подходят для детей от 6 лет), далее примерно одинаковую долю занимают игры для детей от 10 лет и подростков от 13 лет.\n",
    "\n",
    "В Японии основные потребители это дети и тинейджеры, если судить по полученной диаграмме."
   ]
  },
  {
   "cell_type": "markdown",
   "id": "9c7fbdc4",
   "metadata": {},
   "source": [
    "## Проверка гипотез"
   ]
  },
  {
   "cell_type": "markdown",
   "id": "f4ac0b23",
   "metadata": {},
   "source": [
    "### Гипотеза о равенстве средних пользовательских оценок для платформ Xbox One и PC"
   ]
  },
  {
   "cell_type": "markdown",
   "id": "8d66a7c6",
   "metadata": {},
   "source": [
    "Нулевая гипотеза: Средние пользовательские рейтинги платформ Xbox One и PC одинаковые.\n",
    "\n",
    "Альтернативная гипотеза: Средние пользовательские рейтинги платформ Xbox One и PC отличаются."
   ]
  },
  {
   "cell_type": "code",
   "execution_count": 57,
   "id": "939261a4",
   "metadata": {},
   "outputs": [
    {
     "name": "stdout",
     "output_type": "stream",
     "text": [
      "p-значение: 0.14012658403611647\n",
      "Не получилось отвергнуть нулевую гипотезу\n"
     ]
    }
   ],
   "source": [
    "alpha = .05 # критический уровень статистической значимости\n",
    "# если p-value окажется меньше него - отвегнем гипотезу\n",
    "\n",
    "results = st.ttest_ind(\n",
    "    df[(df['platform'] == 'XOne') & (df['user_score'] != -1)]['user_score'], \n",
    "    df[(df['platform'] == 'PC') & (df['user_score'] != -1)]['user_score'])\n",
    "\n",
    "print('p-значение:', results.pvalue)\n",
    "\n",
    "if results.pvalue < alpha:\n",
    "    print(\"Отвергаем нулевую гипотезу\")\n",
    "else:\n",
    "    print(\"Не получилось отвергнуть нулевую гипотезу\") "
   ]
  },
  {
   "cell_type": "markdown",
   "id": "7f729554",
   "metadata": {},
   "source": [
    "**Вывод:** Полученное значение p-value не позволяет отвергнуть гипотезу о равенстве средних пользовательских рейтингов для платформ XBox и PC. Возможно, так происходит потому, что у PC и Xbox одна экосистема, и игры, которые выходят на PC, как правило, доступны и на XBox."
   ]
  },
  {
   "cell_type": "markdown",
   "id": "a2653958",
   "metadata": {},
   "source": [
    "### Гипотеза о равенстве средних пользовательских рейтингов жанров Action и Sports"
   ]
  },
  {
   "cell_type": "markdown",
   "id": "8791e43b",
   "metadata": {},
   "source": [
    "Нулевая гипотеза: Средние пользовательские рейтинги жанров Action  и Sports  одинаковые.\n",
    "\n",
    "Альтернативная гипотеза: Средние пользовательские рейтинги жанров Action и Sports различаются."
   ]
  },
  {
   "cell_type": "code",
   "execution_count": 58,
   "id": "b4bf70f0",
   "metadata": {},
   "outputs": [
    {
     "name": "stdout",
     "output_type": "stream",
     "text": [
      "p-значение: 1.0517832389140023e-27\n",
      "Отвергаем нулевую гипотезу\n"
     ]
    }
   ],
   "source": [
    "alpha = .05 # критический уровень статистической значимости\n",
    "# если p-value окажется меньше него - отвегнем гипотезу\n",
    "\n",
    "results = st.ttest_ind(\n",
    "    df[(df['genre'] == 'action') & (df['user_score'] != -1)]['user_score'], \n",
    "    df[(df['genre'] == 'sports') & (df['user_score'] != -1)]['user_score'])\n",
    "\n",
    "print('p-значение:', results.pvalue)\n",
    "\n",
    "if results.pvalue < alpha:\n",
    "    print(\"Отвергаем нулевую гипотезу\")\n",
    "else:\n",
    "    print(\"Не получилось отвергнуть нулевую гипотезу\") "
   ]
  },
  {
   "cell_type": "markdown",
   "id": "51af8687",
   "metadata": {},
   "source": [
    "**Вывод:** Полученное значение p-value говорит нам о том, что вероятность случайно получить различия в средних оценках двух жанров слишком низка и нулевую гипотезу необходимо отвергнуть."
   ]
  },
  {
   "cell_type": "markdown",
   "id": "6cdef5c2",
   "metadata": {},
   "source": [
    "## Общий вывод"
   ]
  },
  {
   "cell_type": "markdown",
   "id": "3068e9b5",
   "metadata": {},
   "source": [
    "В проведенном исследовании мы установили, что после пика общего объема продаж в 2007-2008гг. наблюдается тенденция к снижению.\n",
    "Cамыми актуальными платформами на сегодня являются PS4, 3DS, WiiU, X360 и XOne. В среднем игры по всем платформам продаются в количестве 150-200 тыс. экз., однако есть некоторые игры, которые продаются многомиллионными тиражами. \n",
    "\n",
    "На продажи игр не влияют оценки критиков и оценки пользователей.\n",
    "\n",
    "В глобальных продажах с заметным отрывом лидируют шутеры, далее идут платформеры, спортивные и ролевые игры. При этом надо учитывать, что в разных регионах жанровые предпочтения пользователей отличаются. Если в Северной Америке и Европе предпочитают экшены, шутеры и спортивные игры, то в Японии на первом месте ролевые игры.\n",
    "\n",
    "Также необходимо отметить, что в зависимости от региона мы видим различия как в предпочтениях игровых платформ, так и среди целевой аудитории.\n",
    "\n",
    "В Северной Америке 24.8% аудитории это пользователи PS4, 21.3% предпочитают Xone, 18.7% играют на X360.\n",
    "В Европе 36.0% пользователи PS4, 17.3% играют на устаревшей PS3 и 13.2% на Xone.\n",
    "в Японии пользуются мобильными платформами. Почти половину объемов продаж занимает 3DS (48.2%), на втором месте PS3 (16.6%), на третьем - мобильная платформа PSV (13.2%)\n",
    "\n",
    "На Западе больше покупателей игр для взрослой аудитории от 17 лет (37% от общемго объема продаж), в Японии основная часть аудитории дети и подростки.\n",
    "\n",
    "В ходе исследования были проверены для гипотезы:<br>\n",
    "Нулевую гипотезу о равенстве средних пользовательских оценок для платформ Xbox One и PC отвергнуть не удалось   <br>\n",
    "Нулевую гипотезу о равенстве средних пользовательских рейтингов жанров Action и Sports полученное значение p-value позволило отвергнуть.\n",
    "\n"
   ]
  }
 ],
 "metadata": {
  "ExecuteTimeLog": [
   {
    "duration": 41,
    "start_time": "2022-04-09T20:38:33.379Z"
   },
   {
    "duration": 1373,
    "start_time": "2022-04-09T20:38:41.011Z"
   },
   {
    "duration": 148,
    "start_time": "2022-04-09T20:38:42.386Z"
   },
   {
    "duration": 0,
    "start_time": "2022-04-09T20:38:42.537Z"
   },
   {
    "duration": 0,
    "start_time": "2022-04-09T20:38:42.538Z"
   },
   {
    "duration": 0,
    "start_time": "2022-04-09T20:38:42.539Z"
   },
   {
    "duration": 0,
    "start_time": "2022-04-09T20:38:42.540Z"
   },
   {
    "duration": 0,
    "start_time": "2022-04-09T20:38:42.541Z"
   },
   {
    "duration": 0,
    "start_time": "2022-04-09T20:38:42.542Z"
   },
   {
    "duration": 0,
    "start_time": "2022-04-09T20:38:42.543Z"
   },
   {
    "duration": 0,
    "start_time": "2022-04-09T20:38:42.543Z"
   },
   {
    "duration": 0,
    "start_time": "2022-04-09T20:38:42.544Z"
   },
   {
    "duration": 0,
    "start_time": "2022-04-09T20:38:42.545Z"
   },
   {
    "duration": 0,
    "start_time": "2022-04-09T20:38:42.546Z"
   },
   {
    "duration": 0,
    "start_time": "2022-04-09T20:38:42.547Z"
   },
   {
    "duration": 0,
    "start_time": "2022-04-09T20:38:42.547Z"
   },
   {
    "duration": 0,
    "start_time": "2022-04-09T20:38:42.548Z"
   },
   {
    "duration": 0,
    "start_time": "2022-04-09T20:38:42.549Z"
   },
   {
    "duration": 0,
    "start_time": "2022-04-09T20:38:42.550Z"
   },
   {
    "duration": 0,
    "start_time": "2022-04-09T20:38:42.551Z"
   },
   {
    "duration": 0,
    "start_time": "2022-04-09T20:38:42.552Z"
   },
   {
    "duration": 0,
    "start_time": "2022-04-09T20:38:42.553Z"
   },
   {
    "duration": 0,
    "start_time": "2022-04-09T20:38:42.570Z"
   },
   {
    "duration": 0,
    "start_time": "2022-04-09T20:38:42.571Z"
   },
   {
    "duration": 0,
    "start_time": "2022-04-09T20:38:42.572Z"
   },
   {
    "duration": 0,
    "start_time": "2022-04-09T20:38:42.573Z"
   },
   {
    "duration": 0,
    "start_time": "2022-04-09T20:38:42.574Z"
   },
   {
    "duration": 0,
    "start_time": "2022-04-09T20:38:42.575Z"
   },
   {
    "duration": 0,
    "start_time": "2022-04-09T20:38:42.576Z"
   },
   {
    "duration": 0,
    "start_time": "2022-04-09T20:38:42.577Z"
   },
   {
    "duration": 0,
    "start_time": "2022-04-09T20:38:42.578Z"
   },
   {
    "duration": 0,
    "start_time": "2022-04-09T20:38:42.578Z"
   },
   {
    "duration": 0,
    "start_time": "2022-04-09T20:38:42.579Z"
   },
   {
    "duration": 0,
    "start_time": "2022-04-09T20:38:42.580Z"
   },
   {
    "duration": 0,
    "start_time": "2022-04-09T20:38:42.581Z"
   },
   {
    "duration": 0,
    "start_time": "2022-04-09T20:38:42.582Z"
   },
   {
    "duration": 0,
    "start_time": "2022-04-09T20:38:42.583Z"
   },
   {
    "duration": 0,
    "start_time": "2022-04-09T20:38:42.584Z"
   },
   {
    "duration": 1,
    "start_time": "2022-04-09T20:38:42.584Z"
   },
   {
    "duration": 0,
    "start_time": "2022-04-09T20:38:42.585Z"
   },
   {
    "duration": 0,
    "start_time": "2022-04-09T20:38:42.586Z"
   },
   {
    "duration": 0,
    "start_time": "2022-04-09T20:38:42.587Z"
   },
   {
    "duration": 0,
    "start_time": "2022-04-09T20:38:42.588Z"
   },
   {
    "duration": 0,
    "start_time": "2022-04-09T20:38:42.589Z"
   },
   {
    "duration": 0,
    "start_time": "2022-04-09T20:38:42.590Z"
   },
   {
    "duration": 0,
    "start_time": "2022-04-09T20:38:42.591Z"
   },
   {
    "duration": 0,
    "start_time": "2022-04-09T20:38:42.592Z"
   },
   {
    "duration": 0,
    "start_time": "2022-04-09T20:38:42.593Z"
   },
   {
    "duration": 0,
    "start_time": "2022-04-09T20:38:42.594Z"
   },
   {
    "duration": 0,
    "start_time": "2022-04-09T20:38:42.594Z"
   },
   {
    "duration": 0,
    "start_time": "2022-04-09T20:38:42.595Z"
   },
   {
    "duration": 0,
    "start_time": "2022-04-09T20:38:42.596Z"
   },
   {
    "duration": 0,
    "start_time": "2022-04-09T20:38:42.597Z"
   },
   {
    "duration": 0,
    "start_time": "2022-04-09T20:38:42.598Z"
   },
   {
    "duration": 0,
    "start_time": "2022-04-09T20:38:42.599Z"
   },
   {
    "duration": 0,
    "start_time": "2022-04-09T20:38:42.600Z"
   },
   {
    "duration": 0,
    "start_time": "2022-04-09T20:38:42.601Z"
   },
   {
    "duration": 0,
    "start_time": "2022-04-09T20:38:42.602Z"
   },
   {
    "duration": 44,
    "start_time": "2022-04-09T20:39:44.835Z"
   },
   {
    "duration": 1016,
    "start_time": "2022-04-09T20:39:54.910Z"
   },
   {
    "duration": 43,
    "start_time": "2022-04-09T20:39:55.928Z"
   },
   {
    "duration": 4,
    "start_time": "2022-04-09T20:39:55.973Z"
   },
   {
    "duration": 14,
    "start_time": "2022-04-09T20:39:55.979Z"
   },
   {
    "duration": 3,
    "start_time": "2022-04-09T20:39:55.994Z"
   },
   {
    "duration": 17,
    "start_time": "2022-04-09T20:39:55.998Z"
   },
   {
    "duration": 15,
    "start_time": "2022-04-09T20:39:56.017Z"
   },
   {
    "duration": 15,
    "start_time": "2022-04-09T20:39:56.034Z"
   },
   {
    "duration": 167,
    "start_time": "2022-04-09T20:39:56.050Z"
   },
   {
    "duration": 3,
    "start_time": "2022-04-09T20:39:56.220Z"
   },
   {
    "duration": 13,
    "start_time": "2022-04-09T20:39:56.225Z"
   },
   {
    "duration": 23,
    "start_time": "2022-04-09T20:39:56.240Z"
   },
   {
    "duration": 16,
    "start_time": "2022-04-09T20:39:56.265Z"
   },
   {
    "duration": 19,
    "start_time": "2022-04-09T20:39:56.283Z"
   },
   {
    "duration": 28,
    "start_time": "2022-04-09T20:39:56.303Z"
   },
   {
    "duration": 8,
    "start_time": "2022-04-09T20:39:56.333Z"
   },
   {
    "duration": 16,
    "start_time": "2022-04-09T20:39:56.343Z"
   },
   {
    "duration": 18,
    "start_time": "2022-04-09T20:39:56.361Z"
   },
   {
    "duration": 188,
    "start_time": "2022-04-09T20:39:56.381Z"
   },
   {
    "duration": 6,
    "start_time": "2022-04-09T20:39:56.570Z"
   },
   {
    "duration": 18,
    "start_time": "2022-04-09T20:39:56.578Z"
   },
   {
    "duration": 11,
    "start_time": "2022-04-09T20:39:56.597Z"
   },
   {
    "duration": 12,
    "start_time": "2022-04-09T20:39:56.610Z"
   },
   {
    "duration": 22,
    "start_time": "2022-04-09T20:39:56.624Z"
   },
   {
    "duration": 14,
    "start_time": "2022-04-09T20:39:56.647Z"
   },
   {
    "duration": 32,
    "start_time": "2022-04-09T20:39:56.663Z"
   },
   {
    "duration": 16,
    "start_time": "2022-04-09T20:39:56.697Z"
   },
   {
    "duration": 20,
    "start_time": "2022-04-09T20:39:56.718Z"
   },
   {
    "duration": 23,
    "start_time": "2022-04-09T20:39:56.739Z"
   },
   {
    "duration": 10,
    "start_time": "2022-04-09T20:39:56.764Z"
   },
   {
    "duration": 7,
    "start_time": "2022-04-09T20:39:56.776Z"
   },
   {
    "duration": 28,
    "start_time": "2022-04-09T20:39:56.784Z"
   },
   {
    "duration": 33,
    "start_time": "2022-04-09T20:39:56.814Z"
   },
   {
    "duration": 1147,
    "start_time": "2022-04-09T20:39:56.849Z"
   },
   {
    "duration": 92,
    "start_time": "2022-04-09T20:39:57.997Z"
   },
   {
    "duration": 199,
    "start_time": "2022-04-09T20:39:58.091Z"
   },
   {
    "duration": 8,
    "start_time": "2022-04-09T20:39:58.291Z"
   },
   {
    "duration": 38,
    "start_time": "2022-04-09T20:39:58.300Z"
   },
   {
    "duration": 113,
    "start_time": "2022-04-09T20:39:58.339Z"
   },
   {
    "duration": 18,
    "start_time": "2022-04-09T20:39:58.454Z"
   },
   {
    "duration": 145,
    "start_time": "2022-04-09T20:39:58.473Z"
   },
   {
    "duration": 3,
    "start_time": "2022-04-09T20:39:58.619Z"
   },
   {
    "duration": 15,
    "start_time": "2022-04-09T20:39:58.623Z"
   },
   {
    "duration": 13,
    "start_time": "2022-04-09T20:39:58.639Z"
   },
   {
    "duration": 17,
    "start_time": "2022-04-09T20:39:58.670Z"
   },
   {
    "duration": 12,
    "start_time": "2022-04-09T20:39:58.689Z"
   },
   {
    "duration": 13,
    "start_time": "2022-04-09T20:39:58.702Z"
   },
   {
    "duration": 15,
    "start_time": "2022-04-09T20:39:58.716Z"
   },
   {
    "duration": 41,
    "start_time": "2022-04-09T20:39:58.733Z"
   },
   {
    "duration": 12,
    "start_time": "2022-04-09T20:39:58.775Z"
   },
   {
    "duration": 16,
    "start_time": "2022-04-09T20:39:58.789Z"
   },
   {
    "duration": 15,
    "start_time": "2022-04-09T20:39:58.807Z"
   },
   {
    "duration": 5,
    "start_time": "2022-04-09T20:39:58.824Z"
   },
   {
    "duration": 11,
    "start_time": "2022-04-09T20:39:58.831Z"
   },
   {
    "duration": 34,
    "start_time": "2022-04-09T20:39:58.843Z"
   },
   {
    "duration": 7,
    "start_time": "2022-04-09T20:39:58.878Z"
   },
   {
    "duration": 6,
    "start_time": "2022-04-09T20:39:58.886Z"
   },
   {
    "duration": 83,
    "start_time": "2022-04-09T20:41:09.349Z"
   },
   {
    "duration": 8,
    "start_time": "2022-04-09T20:41:22.476Z"
   },
   {
    "duration": 9,
    "start_time": "2022-04-09T20:42:02.215Z"
   },
   {
    "duration": 9,
    "start_time": "2022-04-09T20:42:06.644Z"
   },
   {
    "duration": 12,
    "start_time": "2022-04-09T20:42:23.667Z"
   },
   {
    "duration": 7,
    "start_time": "2022-04-09T21:02:07.287Z"
   },
   {
    "duration": 10,
    "start_time": "2022-04-09T21:02:14.092Z"
   },
   {
    "duration": 64,
    "start_time": "2022-04-09T21:02:19.254Z"
   },
   {
    "duration": 87,
    "start_time": "2022-04-09T21:08:11.522Z"
   },
   {
    "duration": 72,
    "start_time": "2022-04-09T21:08:49.028Z"
   },
   {
    "duration": 90,
    "start_time": "2022-04-09T21:08:57.982Z"
   },
   {
    "duration": 71,
    "start_time": "2022-04-09T21:09:17.883Z"
   },
   {
    "duration": 8,
    "start_time": "2022-04-09T21:10:46.366Z"
   },
   {
    "duration": 9,
    "start_time": "2022-04-09T21:10:49.349Z"
   },
   {
    "duration": 75,
    "start_time": "2022-04-09T21:10:51.366Z"
   },
   {
    "duration": 10,
    "start_time": "2022-04-09T21:10:56.280Z"
   },
   {
    "duration": 74,
    "start_time": "2022-04-09T21:11:07.696Z"
   },
   {
    "duration": 13,
    "start_time": "2022-04-09T21:11:22.775Z"
   },
   {
    "duration": 14,
    "start_time": "2022-04-09T21:11:42.383Z"
   },
   {
    "duration": 18,
    "start_time": "2022-04-09T21:13:56.705Z"
   },
   {
    "duration": 2111,
    "start_time": "2022-04-09T21:14:24.811Z"
   },
   {
    "duration": 67,
    "start_time": "2022-04-09T21:14:38.061Z"
   },
   {
    "duration": 15,
    "start_time": "2022-04-09T21:18:33.704Z"
   },
   {
    "duration": 72,
    "start_time": "2022-04-09T21:23:52.701Z"
   },
   {
    "duration": 3,
    "start_time": "2022-04-09T21:23:52.775Z"
   },
   {
    "duration": 15,
    "start_time": "2022-04-09T21:24:02.541Z"
   },
   {
    "duration": 13,
    "start_time": "2022-04-09T21:24:17.468Z"
   },
   {
    "duration": 156,
    "start_time": "2022-04-09T21:24:22.380Z"
   },
   {
    "duration": 4,
    "start_time": "2022-04-09T21:25:01.723Z"
   },
   {
    "duration": 18,
    "start_time": "2022-04-09T21:25:06.286Z"
   },
   {
    "duration": 112,
    "start_time": "2022-04-09T21:25:11.430Z"
   },
   {
    "duration": 13,
    "start_time": "2022-04-09T21:25:17.589Z"
   },
   {
    "duration": 139,
    "start_time": "2022-04-09T21:26:02.705Z"
   },
   {
    "duration": 17,
    "start_time": "2022-04-09T21:26:26.211Z"
   },
   {
    "duration": 16,
    "start_time": "2022-04-09T21:30:03.309Z"
   },
   {
    "duration": 1737,
    "start_time": "2022-04-10T07:47:21.527Z"
   },
   {
    "duration": 75,
    "start_time": "2022-04-10T07:47:23.267Z"
   },
   {
    "duration": 6,
    "start_time": "2022-04-10T07:47:23.345Z"
   },
   {
    "duration": 33,
    "start_time": "2022-04-10T07:47:23.354Z"
   },
   {
    "duration": 4,
    "start_time": "2022-04-10T07:47:23.389Z"
   },
   {
    "duration": 30,
    "start_time": "2022-04-10T07:47:23.396Z"
   },
   {
    "duration": 47,
    "start_time": "2022-04-10T07:47:23.428Z"
   },
   {
    "duration": 14,
    "start_time": "2022-04-10T07:47:23.477Z"
   },
   {
    "duration": 321,
    "start_time": "2022-04-10T07:47:23.494Z"
   },
   {
    "duration": 5,
    "start_time": "2022-04-10T07:47:23.819Z"
   },
   {
    "duration": 13,
    "start_time": "2022-04-10T07:47:23.826Z"
   },
   {
    "duration": 13,
    "start_time": "2022-04-10T07:47:23.841Z"
   },
   {
    "duration": 17,
    "start_time": "2022-04-10T07:47:23.875Z"
   },
   {
    "duration": 30,
    "start_time": "2022-04-10T07:47:23.895Z"
   },
   {
    "duration": 14,
    "start_time": "2022-04-10T07:47:23.928Z"
   },
   {
    "duration": 41,
    "start_time": "2022-04-10T07:47:23.944Z"
   },
   {
    "duration": 12,
    "start_time": "2022-04-10T07:47:23.987Z"
   },
   {
    "duration": 13,
    "start_time": "2022-04-10T07:47:24.002Z"
   },
   {
    "duration": 352,
    "start_time": "2022-04-10T07:47:24.017Z"
   },
   {
    "duration": 9,
    "start_time": "2022-04-10T07:47:24.374Z"
   },
   {
    "duration": 15,
    "start_time": "2022-04-10T07:47:24.386Z"
   },
   {
    "duration": 12,
    "start_time": "2022-04-10T07:47:24.403Z"
   },
   {
    "duration": 55,
    "start_time": "2022-04-10T07:47:24.419Z"
   },
   {
    "duration": 8,
    "start_time": "2022-04-10T07:47:24.476Z"
   },
   {
    "duration": 9,
    "start_time": "2022-04-10T07:47:24.486Z"
   },
   {
    "duration": 21,
    "start_time": "2022-04-10T07:47:24.498Z"
   },
   {
    "duration": 11,
    "start_time": "2022-04-10T07:47:24.521Z"
   },
   {
    "duration": 8,
    "start_time": "2022-04-10T07:47:24.573Z"
   },
   {
    "duration": 26,
    "start_time": "2022-04-10T07:47:24.583Z"
   },
   {
    "duration": 11,
    "start_time": "2022-04-10T07:47:24.611Z"
   },
   {
    "duration": 52,
    "start_time": "2022-04-10T07:47:24.625Z"
   },
   {
    "duration": 6,
    "start_time": "2022-04-10T07:47:24.680Z"
   },
   {
    "duration": 31,
    "start_time": "2022-04-10T07:47:24.688Z"
   },
   {
    "duration": 89,
    "start_time": "2022-04-10T07:47:24.721Z"
   },
   {
    "duration": 2166,
    "start_time": "2022-04-10T07:47:24.812Z"
   },
   {
    "duration": 167,
    "start_time": "2022-04-10T07:47:26.980Z"
   },
   {
    "duration": 318,
    "start_time": "2022-04-10T07:47:27.149Z"
   },
   {
    "duration": 14,
    "start_time": "2022-04-10T07:47:27.470Z"
   },
   {
    "duration": 22,
    "start_time": "2022-04-10T07:47:27.487Z"
   },
   {
    "duration": 228,
    "start_time": "2022-04-10T07:47:27.512Z"
   },
   {
    "duration": 32,
    "start_time": "2022-04-10T07:47:27.744Z"
   },
   {
    "duration": 272,
    "start_time": "2022-04-10T07:47:27.779Z"
   },
   {
    "duration": 5,
    "start_time": "2022-04-10T07:47:28.054Z"
   },
   {
    "duration": 36,
    "start_time": "2022-04-10T07:47:28.061Z"
   },
   {
    "duration": 207,
    "start_time": "2022-04-10T07:47:28.100Z"
   },
   {
    "duration": 26,
    "start_time": "2022-04-10T07:47:28.309Z"
   },
   {
    "duration": 207,
    "start_time": "2022-04-10T07:47:28.338Z"
   },
   {
    "duration": 47,
    "start_time": "2022-04-10T07:47:28.547Z"
   },
   {
    "duration": 183,
    "start_time": "2022-04-10T07:47:28.596Z"
   },
   {
    "duration": 28,
    "start_time": "2022-04-10T07:47:28.781Z"
   },
   {
    "duration": 21,
    "start_time": "2022-04-10T07:47:28.811Z"
   },
   {
    "duration": 55,
    "start_time": "2022-04-10T07:47:28.834Z"
   },
   {
    "duration": 20,
    "start_time": "2022-04-10T07:47:28.891Z"
   },
   {
    "duration": 19,
    "start_time": "2022-04-10T07:47:28.913Z"
   },
   {
    "duration": 28,
    "start_time": "2022-04-10T07:47:28.973Z"
   },
   {
    "duration": 16,
    "start_time": "2022-04-10T07:47:29.003Z"
   },
   {
    "duration": 12,
    "start_time": "2022-04-10T07:47:29.022Z"
   },
   {
    "duration": 48,
    "start_time": "2022-04-10T07:47:29.036Z"
   },
   {
    "duration": 19,
    "start_time": "2022-04-10T07:47:29.087Z"
   },
   {
    "duration": 12,
    "start_time": "2022-04-10T07:47:29.109Z"
   },
   {
    "duration": 52,
    "start_time": "2022-04-10T07:47:29.123Z"
   },
   {
    "duration": 265,
    "start_time": "2022-04-10T07:48:21.611Z"
   },
   {
    "duration": 1583,
    "start_time": "2022-04-10T07:49:19.694Z"
   },
   {
    "duration": 76,
    "start_time": "2022-04-10T07:49:21.280Z"
   },
   {
    "duration": 16,
    "start_time": "2022-04-10T07:49:21.358Z"
   },
   {
    "duration": 26,
    "start_time": "2022-04-10T07:49:21.378Z"
   },
   {
    "duration": 5,
    "start_time": "2022-04-10T07:49:21.407Z"
   },
   {
    "duration": 31,
    "start_time": "2022-04-10T07:49:21.415Z"
   },
   {
    "duration": 28,
    "start_time": "2022-04-10T07:49:21.453Z"
   },
   {
    "duration": 41,
    "start_time": "2022-04-10T07:49:21.484Z"
   },
   {
    "duration": 306,
    "start_time": "2022-04-10T07:49:21.529Z"
   },
   {
    "duration": 5,
    "start_time": "2022-04-10T07:49:21.841Z"
   },
   {
    "duration": 10,
    "start_time": "2022-04-10T07:49:21.849Z"
   },
   {
    "duration": 13,
    "start_time": "2022-04-10T07:49:21.875Z"
   },
   {
    "duration": 12,
    "start_time": "2022-04-10T07:49:21.890Z"
   },
   {
    "duration": 21,
    "start_time": "2022-04-10T07:49:21.905Z"
   },
   {
    "duration": 47,
    "start_time": "2022-04-10T07:49:21.928Z"
   },
   {
    "duration": 12,
    "start_time": "2022-04-10T07:49:21.977Z"
   },
   {
    "duration": 13,
    "start_time": "2022-04-10T07:49:21.992Z"
   },
   {
    "duration": 13,
    "start_time": "2022-04-10T07:49:22.008Z"
   },
   {
    "duration": 341,
    "start_time": "2022-04-10T07:49:22.023Z"
   },
   {
    "duration": 13,
    "start_time": "2022-04-10T07:49:22.367Z"
   },
   {
    "duration": 21,
    "start_time": "2022-04-10T07:49:22.382Z"
   },
   {
    "duration": 13,
    "start_time": "2022-04-10T07:49:22.405Z"
   },
   {
    "duration": 8,
    "start_time": "2022-04-10T07:49:22.420Z"
   },
   {
    "duration": 8,
    "start_time": "2022-04-10T07:49:22.431Z"
   },
   {
    "duration": 8,
    "start_time": "2022-04-10T07:49:22.474Z"
   },
   {
    "duration": 24,
    "start_time": "2022-04-10T07:49:22.484Z"
   },
   {
    "duration": 18,
    "start_time": "2022-04-10T07:49:22.510Z"
   },
   {
    "duration": 41,
    "start_time": "2022-04-10T07:49:22.535Z"
   },
   {
    "duration": 27,
    "start_time": "2022-04-10T07:49:22.578Z"
   },
   {
    "duration": 11,
    "start_time": "2022-04-10T07:49:22.607Z"
   },
   {
    "duration": 10,
    "start_time": "2022-04-10T07:49:22.620Z"
   },
   {
    "duration": 41,
    "start_time": "2022-04-10T07:49:22.633Z"
   },
   {
    "duration": 22,
    "start_time": "2022-04-10T07:49:22.677Z"
   },
   {
    "duration": 76,
    "start_time": "2022-04-10T07:49:22.701Z"
   },
   {
    "duration": 2840,
    "start_time": "2022-04-10T07:49:22.779Z"
   },
   {
    "duration": 165,
    "start_time": "2022-04-10T07:49:25.622Z"
   },
   {
    "duration": 318,
    "start_time": "2022-04-10T07:49:25.790Z"
   },
   {
    "duration": 12,
    "start_time": "2022-04-10T07:49:26.110Z"
   },
   {
    "duration": 22,
    "start_time": "2022-04-10T07:49:26.124Z"
   },
   {
    "duration": 196,
    "start_time": "2022-04-10T07:49:26.173Z"
   },
   {
    "duration": 14,
    "start_time": "2022-04-10T07:49:26.371Z"
   },
   {
    "duration": 272,
    "start_time": "2022-04-10T07:49:26.387Z"
   },
   {
    "duration": 12,
    "start_time": "2022-04-10T07:49:26.662Z"
   },
   {
    "duration": 21,
    "start_time": "2022-04-10T07:49:26.677Z"
   },
   {
    "duration": 161,
    "start_time": "2022-04-10T07:49:26.700Z"
   },
   {
    "duration": 24,
    "start_time": "2022-04-10T07:49:26.864Z"
   },
   {
    "duration": 164,
    "start_time": "2022-04-10T07:49:26.890Z"
   },
   {
    "duration": 36,
    "start_time": "2022-04-10T07:49:27.056Z"
   },
   {
    "duration": 182,
    "start_time": "2022-04-10T07:49:27.094Z"
   },
   {
    "duration": 25,
    "start_time": "2022-04-10T07:49:27.279Z"
   },
   {
    "duration": 24,
    "start_time": "2022-04-10T07:49:27.306Z"
   },
   {
    "duration": 60,
    "start_time": "2022-04-10T07:49:27.333Z"
   },
   {
    "duration": 24,
    "start_time": "2022-04-10T07:49:27.395Z"
   },
   {
    "duration": 25,
    "start_time": "2022-04-10T07:49:27.421Z"
   },
   {
    "duration": 28,
    "start_time": "2022-04-10T07:49:27.473Z"
   },
   {
    "duration": 14,
    "start_time": "2022-04-10T07:49:27.504Z"
   },
   {
    "duration": 16,
    "start_time": "2022-04-10T07:49:27.521Z"
   },
   {
    "duration": 13,
    "start_time": "2022-04-10T07:49:27.573Z"
   },
   {
    "duration": 21,
    "start_time": "2022-04-10T07:49:27.590Z"
   },
   {
    "duration": 12,
    "start_time": "2022-04-10T07:49:27.615Z"
   },
   {
    "duration": 50,
    "start_time": "2022-04-10T07:49:27.629Z"
   },
   {
    "duration": 213,
    "start_time": "2022-04-10T07:50:30.706Z"
   },
   {
    "duration": 1413,
    "start_time": "2022-04-10T07:50:45.099Z"
   },
   {
    "duration": 98,
    "start_time": "2022-04-10T07:50:46.514Z"
   },
   {
    "duration": 6,
    "start_time": "2022-04-10T07:50:46.614Z"
   },
   {
    "duration": 20,
    "start_time": "2022-04-10T07:50:46.623Z"
   },
   {
    "duration": 28,
    "start_time": "2022-04-10T07:50:46.646Z"
   },
   {
    "duration": 22,
    "start_time": "2022-04-10T07:50:46.676Z"
   },
   {
    "duration": 9,
    "start_time": "2022-04-10T07:50:46.700Z"
   },
   {
    "duration": 12,
    "start_time": "2022-04-10T07:50:46.710Z"
   },
   {
    "duration": 328,
    "start_time": "2022-04-10T07:50:46.724Z"
   },
   {
    "duration": 5,
    "start_time": "2022-04-10T07:50:47.056Z"
   },
   {
    "duration": 5,
    "start_time": "2022-04-10T07:50:47.074Z"
   },
   {
    "duration": 15,
    "start_time": "2022-04-10T07:50:47.082Z"
   },
   {
    "duration": 10,
    "start_time": "2022-04-10T07:50:47.100Z"
   },
   {
    "duration": 72,
    "start_time": "2022-04-10T07:50:47.113Z"
   },
   {
    "duration": 18,
    "start_time": "2022-04-10T07:50:47.188Z"
   },
   {
    "duration": 15,
    "start_time": "2022-04-10T07:50:47.209Z"
   },
   {
    "duration": 52,
    "start_time": "2022-04-10T07:50:47.228Z"
   },
   {
    "duration": 17,
    "start_time": "2022-04-10T07:50:47.283Z"
   },
   {
    "duration": 427,
    "start_time": "2022-04-10T07:50:47.303Z"
   },
   {
    "duration": 10,
    "start_time": "2022-04-10T07:50:47.734Z"
   },
   {
    "duration": 34,
    "start_time": "2022-04-10T07:50:47.747Z"
   },
   {
    "duration": 10,
    "start_time": "2022-04-10T07:50:47.783Z"
   },
   {
    "duration": 8,
    "start_time": "2022-04-10T07:50:47.795Z"
   },
   {
    "duration": 12,
    "start_time": "2022-04-10T07:50:47.804Z"
   },
   {
    "duration": 16,
    "start_time": "2022-04-10T07:50:47.819Z"
   },
   {
    "duration": 60,
    "start_time": "2022-04-10T07:50:47.839Z"
   },
   {
    "duration": 13,
    "start_time": "2022-04-10T07:50:47.902Z"
   },
   {
    "duration": 8,
    "start_time": "2022-04-10T07:50:47.920Z"
   },
   {
    "duration": 63,
    "start_time": "2022-04-10T07:50:47.930Z"
   },
   {
    "duration": 11,
    "start_time": "2022-04-10T07:50:47.995Z"
   },
   {
    "duration": 23,
    "start_time": "2022-04-10T07:50:48.008Z"
   },
   {
    "duration": 8,
    "start_time": "2022-04-10T07:50:48.033Z"
   },
   {
    "duration": 44,
    "start_time": "2022-04-10T07:50:48.044Z"
   },
   {
    "duration": 44,
    "start_time": "2022-04-10T07:50:48.091Z"
   },
   {
    "duration": 2169,
    "start_time": "2022-04-10T07:50:48.138Z"
   },
   {
    "duration": 155,
    "start_time": "2022-04-10T07:50:50.311Z"
   },
   {
    "duration": 317,
    "start_time": "2022-04-10T07:50:50.474Z"
   },
   {
    "duration": 12,
    "start_time": "2022-04-10T07:50:50.794Z"
   },
   {
    "duration": 22,
    "start_time": "2022-04-10T07:50:50.808Z"
   },
   {
    "duration": 242,
    "start_time": "2022-04-10T07:50:50.834Z"
   },
   {
    "duration": 17,
    "start_time": "2022-04-10T07:50:51.078Z"
   },
   {
    "duration": 296,
    "start_time": "2022-04-10T07:50:51.098Z"
   },
   {
    "duration": 6,
    "start_time": "2022-04-10T07:50:51.396Z"
   },
   {
    "duration": 26,
    "start_time": "2022-04-10T07:50:51.405Z"
   },
   {
    "duration": 196,
    "start_time": "2022-04-10T07:50:51.433Z"
   },
   {
    "duration": 21,
    "start_time": "2022-04-10T07:50:51.631Z"
   },
   {
    "duration": 176,
    "start_time": "2022-04-10T07:50:51.654Z"
   },
   {
    "duration": 52,
    "start_time": "2022-04-10T07:50:51.833Z"
   },
   {
    "duration": 164,
    "start_time": "2022-04-10T07:50:51.888Z"
   },
   {
    "duration": 31,
    "start_time": "2022-04-10T07:50:52.054Z"
   },
   {
    "duration": 27,
    "start_time": "2022-04-10T07:50:52.087Z"
   },
   {
    "duration": 57,
    "start_time": "2022-04-10T07:50:52.117Z"
   },
   {
    "duration": 22,
    "start_time": "2022-04-10T07:50:52.177Z"
   },
   {
    "duration": 21,
    "start_time": "2022-04-10T07:50:52.201Z"
   },
   {
    "duration": 60,
    "start_time": "2022-04-10T07:50:52.224Z"
   },
   {
    "duration": 14,
    "start_time": "2022-04-10T07:50:52.287Z"
   },
   {
    "duration": 10,
    "start_time": "2022-04-10T07:50:52.304Z"
   },
   {
    "duration": 14,
    "start_time": "2022-04-10T07:50:52.318Z"
   },
   {
    "duration": 21,
    "start_time": "2022-04-10T07:50:52.373Z"
   },
   {
    "duration": 13,
    "start_time": "2022-04-10T07:50:52.397Z"
   },
   {
    "duration": 12,
    "start_time": "2022-04-10T07:50:52.413Z"
   },
   {
    "duration": 41,
    "start_time": "2022-04-10T11:13:49.293Z"
   },
   {
    "duration": 1157,
    "start_time": "2022-04-10T11:13:57.998Z"
   },
   {
    "duration": 42,
    "start_time": "2022-04-10T11:13:59.157Z"
   },
   {
    "duration": 4,
    "start_time": "2022-04-10T11:13:59.200Z"
   },
   {
    "duration": 14,
    "start_time": "2022-04-10T11:13:59.206Z"
   },
   {
    "duration": 2,
    "start_time": "2022-04-10T11:13:59.222Z"
   },
   {
    "duration": 13,
    "start_time": "2022-04-10T11:13:59.225Z"
   },
   {
    "duration": 6,
    "start_time": "2022-04-10T11:13:59.240Z"
   },
   {
    "duration": 24,
    "start_time": "2022-04-10T11:13:59.247Z"
   },
   {
    "duration": 157,
    "start_time": "2022-04-10T11:13:59.272Z"
   },
   {
    "duration": 3,
    "start_time": "2022-04-10T11:13:59.432Z"
   },
   {
    "duration": 6,
    "start_time": "2022-04-10T11:13:59.436Z"
   },
   {
    "duration": 6,
    "start_time": "2022-04-10T11:13:59.444Z"
   },
   {
    "duration": 19,
    "start_time": "2022-04-10T11:13:59.452Z"
   },
   {
    "duration": 13,
    "start_time": "2022-04-10T11:13:59.473Z"
   },
   {
    "duration": 8,
    "start_time": "2022-04-10T11:13:59.487Z"
   },
   {
    "duration": 6,
    "start_time": "2022-04-10T11:13:59.497Z"
   },
   {
    "duration": 6,
    "start_time": "2022-04-10T11:13:59.505Z"
   },
   {
    "duration": 7,
    "start_time": "2022-04-10T11:13:59.512Z"
   },
   {
    "duration": 145,
    "start_time": "2022-04-10T11:13:59.520Z"
   },
   {
    "duration": 5,
    "start_time": "2022-04-10T11:13:59.670Z"
   },
   {
    "duration": 13,
    "start_time": "2022-04-10T11:13:59.676Z"
   },
   {
    "duration": 11,
    "start_time": "2022-04-10T11:13:59.690Z"
   },
   {
    "duration": 4,
    "start_time": "2022-04-10T11:13:59.703Z"
   },
   {
    "duration": 4,
    "start_time": "2022-04-10T11:13:59.709Z"
   },
   {
    "duration": 6,
    "start_time": "2022-04-10T11:13:59.714Z"
   },
   {
    "duration": 12,
    "start_time": "2022-04-10T11:13:59.721Z"
   },
   {
    "duration": 8,
    "start_time": "2022-04-10T11:13:59.734Z"
   },
   {
    "duration": 4,
    "start_time": "2022-04-10T11:13:59.770Z"
   },
   {
    "duration": 14,
    "start_time": "2022-04-10T11:13:59.776Z"
   },
   {
    "duration": 7,
    "start_time": "2022-04-10T11:13:59.791Z"
   },
   {
    "duration": 6,
    "start_time": "2022-04-10T11:13:59.800Z"
   },
   {
    "duration": 5,
    "start_time": "2022-04-10T11:13:59.808Z"
   },
   {
    "duration": 19,
    "start_time": "2022-04-10T11:13:59.815Z"
   },
   {
    "duration": 50,
    "start_time": "2022-04-10T11:13:59.835Z"
   },
   {
    "duration": 1580,
    "start_time": "2022-04-10T11:13:59.887Z"
   },
   {
    "duration": 126,
    "start_time": "2022-04-10T11:14:01.471Z"
   },
   {
    "duration": 191,
    "start_time": "2022-04-10T11:14:01.599Z"
   },
   {
    "duration": 7,
    "start_time": "2022-04-10T11:14:01.792Z"
   },
   {
    "duration": 22,
    "start_time": "2022-04-10T11:14:01.801Z"
   },
   {
    "duration": 233,
    "start_time": "2022-04-10T11:14:01.825Z"
   },
   {
    "duration": 15,
    "start_time": "2022-04-10T11:14:02.060Z"
   },
   {
    "duration": 175,
    "start_time": "2022-04-10T11:14:02.077Z"
   },
   {
    "duration": 3,
    "start_time": "2022-04-10T11:14:02.254Z"
   },
   {
    "duration": 20,
    "start_time": "2022-04-10T11:14:02.259Z"
   },
   {
    "duration": 76,
    "start_time": "2022-04-10T11:14:02.281Z"
   },
   {
    "duration": 19,
    "start_time": "2022-04-10T11:14:02.359Z"
   },
   {
    "duration": 72,
    "start_time": "2022-04-10T11:14:02.380Z"
   },
   {
    "duration": 22,
    "start_time": "2022-04-10T11:14:02.454Z"
   },
   {
    "duration": 71,
    "start_time": "2022-04-10T11:14:02.477Z"
   },
   {
    "duration": 12,
    "start_time": "2022-04-10T11:14:02.550Z"
   },
   {
    "duration": 16,
    "start_time": "2022-04-10T11:14:02.563Z"
   },
   {
    "duration": 13,
    "start_time": "2022-04-10T11:14:02.580Z"
   },
   {
    "duration": 10,
    "start_time": "2022-04-10T11:14:02.594Z"
   },
   {
    "duration": 10,
    "start_time": "2022-04-10T11:14:02.606Z"
   },
   {
    "duration": 14,
    "start_time": "2022-04-10T11:14:02.618Z"
   },
   {
    "duration": 38,
    "start_time": "2022-04-10T11:14:02.633Z"
   },
   {
    "duration": 4,
    "start_time": "2022-04-10T11:14:02.673Z"
   },
   {
    "duration": 6,
    "start_time": "2022-04-10T11:14:02.679Z"
   },
   {
    "duration": 13,
    "start_time": "2022-04-10T11:14:02.686Z"
   },
   {
    "duration": 8,
    "start_time": "2022-04-10T11:14:02.700Z"
   },
   {
    "duration": 7,
    "start_time": "2022-04-10T11:14:02.709Z"
   },
   {
    "duration": 276,
    "start_time": "2022-04-10T11:26:18.279Z"
   },
   {
    "duration": 1024,
    "start_time": "2022-04-10T11:27:09.692Z"
   },
   {
    "duration": 42,
    "start_time": "2022-04-10T11:27:10.717Z"
   },
   {
    "duration": 3,
    "start_time": "2022-04-10T11:27:10.761Z"
   },
   {
    "duration": 15,
    "start_time": "2022-04-10T11:27:10.765Z"
   },
   {
    "duration": 3,
    "start_time": "2022-04-10T11:27:10.781Z"
   },
   {
    "duration": 12,
    "start_time": "2022-04-10T11:27:10.785Z"
   },
   {
    "duration": 6,
    "start_time": "2022-04-10T11:27:10.799Z"
   },
   {
    "duration": 6,
    "start_time": "2022-04-10T11:27:10.806Z"
   },
   {
    "duration": 169,
    "start_time": "2022-04-10T11:27:10.813Z"
   },
   {
    "duration": 3,
    "start_time": "2022-04-10T11:27:10.984Z"
   },
   {
    "duration": 5,
    "start_time": "2022-04-10T11:27:10.988Z"
   },
   {
    "duration": 7,
    "start_time": "2022-04-10T11:27:10.995Z"
   },
   {
    "duration": 8,
    "start_time": "2022-04-10T11:27:11.003Z"
   },
   {
    "duration": 12,
    "start_time": "2022-04-10T11:27:11.014Z"
   },
   {
    "duration": 9,
    "start_time": "2022-04-10T11:27:11.027Z"
   },
   {
    "duration": 6,
    "start_time": "2022-04-10T11:27:11.037Z"
   },
   {
    "duration": 31,
    "start_time": "2022-04-10T11:27:11.044Z"
   },
   {
    "duration": 6,
    "start_time": "2022-04-10T11:27:11.077Z"
   },
   {
    "duration": 533,
    "start_time": "2022-04-10T11:27:11.084Z"
   },
   {
    "duration": 0,
    "start_time": "2022-04-10T11:27:11.619Z"
   },
   {
    "duration": 0,
    "start_time": "2022-04-10T11:27:11.620Z"
   },
   {
    "duration": 0,
    "start_time": "2022-04-10T11:27:11.621Z"
   },
   {
    "duration": 0,
    "start_time": "2022-04-10T11:27:11.622Z"
   },
   {
    "duration": 0,
    "start_time": "2022-04-10T11:27:11.623Z"
   },
   {
    "duration": 0,
    "start_time": "2022-04-10T11:27:11.624Z"
   },
   {
    "duration": 0,
    "start_time": "2022-04-10T11:27:11.625Z"
   },
   {
    "duration": 0,
    "start_time": "2022-04-10T11:27:11.626Z"
   },
   {
    "duration": 0,
    "start_time": "2022-04-10T11:27:11.627Z"
   },
   {
    "duration": 0,
    "start_time": "2022-04-10T11:27:11.628Z"
   },
   {
    "duration": 0,
    "start_time": "2022-04-10T11:27:11.629Z"
   },
   {
    "duration": 0,
    "start_time": "2022-04-10T11:27:11.630Z"
   },
   {
    "duration": 0,
    "start_time": "2022-04-10T11:27:11.631Z"
   },
   {
    "duration": 0,
    "start_time": "2022-04-10T11:27:11.631Z"
   },
   {
    "duration": 0,
    "start_time": "2022-04-10T11:27:11.632Z"
   },
   {
    "duration": 0,
    "start_time": "2022-04-10T11:27:11.633Z"
   },
   {
    "duration": 0,
    "start_time": "2022-04-10T11:27:11.634Z"
   },
   {
    "duration": 0,
    "start_time": "2022-04-10T11:27:11.635Z"
   },
   {
    "duration": 0,
    "start_time": "2022-04-10T11:27:11.636Z"
   },
   {
    "duration": 0,
    "start_time": "2022-04-10T11:27:11.637Z"
   },
   {
    "duration": 0,
    "start_time": "2022-04-10T11:27:11.638Z"
   },
   {
    "duration": 0,
    "start_time": "2022-04-10T11:27:11.638Z"
   },
   {
    "duration": 0,
    "start_time": "2022-04-10T11:27:11.671Z"
   },
   {
    "duration": 0,
    "start_time": "2022-04-10T11:27:11.671Z"
   },
   {
    "duration": 0,
    "start_time": "2022-04-10T11:27:11.672Z"
   },
   {
    "duration": 0,
    "start_time": "2022-04-10T11:27:11.673Z"
   },
   {
    "duration": 0,
    "start_time": "2022-04-10T11:27:11.674Z"
   },
   {
    "duration": 0,
    "start_time": "2022-04-10T11:27:11.674Z"
   },
   {
    "duration": 0,
    "start_time": "2022-04-10T11:27:11.675Z"
   },
   {
    "duration": 0,
    "start_time": "2022-04-10T11:27:11.676Z"
   },
   {
    "duration": 0,
    "start_time": "2022-04-10T11:27:11.677Z"
   },
   {
    "duration": 0,
    "start_time": "2022-04-10T11:27:11.677Z"
   },
   {
    "duration": 0,
    "start_time": "2022-04-10T11:27:11.678Z"
   },
   {
    "duration": 0,
    "start_time": "2022-04-10T11:27:11.679Z"
   },
   {
    "duration": 0,
    "start_time": "2022-04-10T11:27:11.680Z"
   },
   {
    "duration": 0,
    "start_time": "2022-04-10T11:27:11.680Z"
   },
   {
    "duration": 0,
    "start_time": "2022-04-10T11:27:11.681Z"
   },
   {
    "duration": 0,
    "start_time": "2022-04-10T11:27:11.682Z"
   },
   {
    "duration": 0,
    "start_time": "2022-04-10T11:27:11.683Z"
   },
   {
    "duration": 0,
    "start_time": "2022-04-10T11:27:11.683Z"
   },
   {
    "duration": 0,
    "start_time": "2022-04-10T11:27:11.684Z"
   },
   {
    "duration": 0,
    "start_time": "2022-04-10T11:27:11.684Z"
   },
   {
    "duration": 424,
    "start_time": "2022-04-10T11:32:00.433Z"
   },
   {
    "duration": 393,
    "start_time": "2022-04-10T11:32:25.251Z"
   },
   {
    "duration": 382,
    "start_time": "2022-04-10T11:34:32.283Z"
   },
   {
    "duration": 357,
    "start_time": "2022-04-10T11:34:50.584Z"
   },
   {
    "duration": 289,
    "start_time": "2022-04-10T11:34:57.438Z"
   },
   {
    "duration": 271,
    "start_time": "2022-04-10T11:35:08.055Z"
   },
   {
    "duration": 222,
    "start_time": "2022-04-10T11:35:18.670Z"
   },
   {
    "duration": 272,
    "start_time": "2022-04-10T11:39:25.564Z"
   },
   {
    "duration": 152,
    "start_time": "2022-04-10T11:41:16.214Z"
   },
   {
    "duration": 280,
    "start_time": "2022-04-10T11:41:20.407Z"
   },
   {
    "duration": 266,
    "start_time": "2022-04-10T11:41:25.366Z"
   },
   {
    "duration": 281,
    "start_time": "2022-04-10T11:41:32.037Z"
   },
   {
    "duration": 393,
    "start_time": "2022-04-10T11:41:37.791Z"
   },
   {
    "duration": 17,
    "start_time": "2022-04-10T11:44:23.315Z"
   },
   {
    "duration": 473,
    "start_time": "2022-04-10T11:44:29.911Z"
   },
   {
    "duration": 262,
    "start_time": "2022-04-10T11:44:53.265Z"
   },
   {
    "duration": 4,
    "start_time": "2022-04-10T13:06:53.603Z"
   },
   {
    "duration": 8,
    "start_time": "2022-04-10T13:06:56.266Z"
   },
   {
    "duration": 6,
    "start_time": "2022-04-10T13:06:59.144Z"
   },
   {
    "duration": 4,
    "start_time": "2022-04-10T13:10:29.870Z"
   },
   {
    "duration": 5,
    "start_time": "2022-04-10T13:10:36.450Z"
   },
   {
    "duration": 6,
    "start_time": "2022-04-10T13:12:01.444Z"
   },
   {
    "duration": 14,
    "start_time": "2022-04-10T13:12:13.912Z"
   },
   {
    "duration": 6,
    "start_time": "2022-04-10T13:12:46.111Z"
   },
   {
    "duration": 4,
    "start_time": "2022-04-10T13:13:52.651Z"
   },
   {
    "duration": 14,
    "start_time": "2022-04-10T13:13:54.648Z"
   },
   {
    "duration": 6,
    "start_time": "2022-04-10T13:14:17.704Z"
   },
   {
    "duration": 7,
    "start_time": "2022-04-10T13:14:19.654Z"
   },
   {
    "duration": 3,
    "start_time": "2022-04-10T13:14:21.082Z"
   },
   {
    "duration": 7,
    "start_time": "2022-04-10T13:17:13.753Z"
   },
   {
    "duration": 6,
    "start_time": "2022-04-10T13:17:16.927Z"
   },
   {
    "duration": 4,
    "start_time": "2022-04-10T13:17:18.448Z"
   },
   {
    "duration": 14,
    "start_time": "2022-04-10T13:17:46.474Z"
   },
   {
    "duration": 4,
    "start_time": "2022-04-10T13:21:08.721Z"
   },
   {
    "duration": 22,
    "start_time": "2022-04-10T13:21:21.696Z"
   },
   {
    "duration": 20,
    "start_time": "2022-04-10T13:21:52.987Z"
   },
   {
    "duration": 21,
    "start_time": "2022-04-10T13:22:21.888Z"
   },
   {
    "duration": 1136,
    "start_time": "2022-04-10T13:22:44.125Z"
   },
   {
    "duration": 87,
    "start_time": "2022-04-10T13:26:28.035Z"
   },
   {
    "duration": 126,
    "start_time": "2022-04-10T13:27:21.932Z"
   },
   {
    "duration": 154,
    "start_time": "2022-04-10T13:27:25.951Z"
   },
   {
    "duration": 10,
    "start_time": "2022-04-10T13:27:39.745Z"
   },
   {
    "duration": 13,
    "start_time": "2022-04-10T13:27:55.955Z"
   },
   {
    "duration": 7,
    "start_time": "2022-04-10T13:28:07.022Z"
   },
   {
    "duration": 159,
    "start_time": "2022-04-10T13:28:12.344Z"
   },
   {
    "duration": 87,
    "start_time": "2022-04-10T13:30:34.649Z"
   },
   {
    "duration": 85,
    "start_time": "2022-04-10T13:31:47.819Z"
   },
   {
    "duration": 177,
    "start_time": "2022-04-10T13:31:53.202Z"
   },
   {
    "duration": 5,
    "start_time": "2022-04-10T13:34:24.222Z"
   },
   {
    "duration": 11,
    "start_time": "2022-04-10T13:34:56.219Z"
   },
   {
    "duration": 4,
    "start_time": "2022-04-10T13:35:11.931Z"
   },
   {
    "duration": 71,
    "start_time": "2022-04-10T13:35:21.573Z"
   },
   {
    "duration": 4,
    "start_time": "2022-04-10T13:36:48.797Z"
   },
   {
    "duration": 4,
    "start_time": "2022-04-10T13:37:11.777Z"
   },
   {
    "duration": 253,
    "start_time": "2022-04-10T13:37:30.235Z"
   },
   {
    "duration": 1276,
    "start_time": "2022-04-10T13:38:27.505Z"
   },
   {
    "duration": 1233,
    "start_time": "2022-04-10T13:38:58.139Z"
   },
   {
    "duration": 1089,
    "start_time": "2022-04-10T13:39:07.735Z"
   },
   {
    "duration": 126,
    "start_time": "2022-04-10T13:39:56.535Z"
   },
   {
    "duration": 95,
    "start_time": "2022-04-10T13:44:16.019Z"
   },
   {
    "duration": 221,
    "start_time": "2022-04-10T13:45:00.025Z"
   },
   {
    "duration": 1036,
    "start_time": "2022-04-10T13:45:58.147Z"
   },
   {
    "duration": 769,
    "start_time": "2022-04-10T13:46:11.243Z"
   },
   {
    "duration": 1067,
    "start_time": "2022-04-10T13:46:17.905Z"
   },
   {
    "duration": 15,
    "start_time": "2022-04-10T13:47:53.742Z"
   },
   {
    "duration": 77,
    "start_time": "2022-04-10T13:48:12.811Z"
   },
   {
    "duration": 13,
    "start_time": "2022-04-10T13:49:44.770Z"
   },
   {
    "duration": 181,
    "start_time": "2022-04-10T13:50:06.281Z"
   },
   {
    "duration": 98,
    "start_time": "2022-04-10T13:55:19.714Z"
   },
   {
    "duration": 80,
    "start_time": "2022-04-10T13:55:42.216Z"
   },
   {
    "duration": 278,
    "start_time": "2022-04-10T13:56:32.294Z"
   },
   {
    "duration": 186,
    "start_time": "2022-04-10T13:59:35.954Z"
   },
   {
    "duration": 1390,
    "start_time": "2022-04-10T17:28:59.842Z"
   },
   {
    "duration": 59,
    "start_time": "2022-04-10T17:29:01.234Z"
   },
   {
    "duration": 4,
    "start_time": "2022-04-10T17:29:01.295Z"
   },
   {
    "duration": 18,
    "start_time": "2022-04-10T17:29:01.309Z"
   },
   {
    "duration": 3,
    "start_time": "2022-04-10T17:29:01.329Z"
   },
   {
    "duration": 26,
    "start_time": "2022-04-10T17:29:01.334Z"
   },
   {
    "duration": 10,
    "start_time": "2022-04-10T17:29:01.362Z"
   },
   {
    "duration": 43,
    "start_time": "2022-04-10T17:29:01.374Z"
   },
   {
    "duration": 229,
    "start_time": "2022-04-10T17:29:01.420Z"
   },
   {
    "duration": 4,
    "start_time": "2022-04-10T17:29:01.651Z"
   },
   {
    "duration": 17,
    "start_time": "2022-04-10T17:29:01.657Z"
   },
   {
    "duration": 9,
    "start_time": "2022-04-10T17:29:01.676Z"
   },
   {
    "duration": 11,
    "start_time": "2022-04-10T17:29:01.687Z"
   },
   {
    "duration": 10,
    "start_time": "2022-04-10T17:29:01.708Z"
   },
   {
    "duration": 11,
    "start_time": "2022-04-10T17:29:01.720Z"
   },
   {
    "duration": 11,
    "start_time": "2022-04-10T17:29:01.733Z"
   },
   {
    "duration": 9,
    "start_time": "2022-04-10T17:29:01.746Z"
   },
   {
    "duration": 437,
    "start_time": "2022-04-10T17:29:01.756Z"
   },
   {
    "duration": 6,
    "start_time": "2022-04-10T17:29:02.195Z"
   },
   {
    "duration": 10,
    "start_time": "2022-04-10T17:29:02.209Z"
   },
   {
    "duration": 7,
    "start_time": "2022-04-10T17:29:02.220Z"
   },
   {
    "duration": 10,
    "start_time": "2022-04-10T17:29:02.229Z"
   },
   {
    "duration": 5,
    "start_time": "2022-04-10T17:29:02.241Z"
   },
   {
    "duration": 10,
    "start_time": "2022-04-10T17:29:02.248Z"
   },
   {
    "duration": 7,
    "start_time": "2022-04-10T17:29:02.259Z"
   },
   {
    "duration": 43,
    "start_time": "2022-04-10T17:29:02.267Z"
   },
   {
    "duration": 17,
    "start_time": "2022-04-10T17:29:02.312Z"
   },
   {
    "duration": 10,
    "start_time": "2022-04-10T17:29:02.333Z"
   },
   {
    "duration": 7,
    "start_time": "2022-04-10T17:29:02.345Z"
   },
   {
    "duration": 4,
    "start_time": "2022-04-10T17:29:02.354Z"
   },
   {
    "duration": 52,
    "start_time": "2022-04-10T17:29:02.360Z"
   },
   {
    "duration": 26,
    "start_time": "2022-04-10T17:29:02.414Z"
   },
   {
    "duration": 1402,
    "start_time": "2022-04-10T17:29:02.442Z"
   },
   {
    "duration": 324,
    "start_time": "2022-04-10T17:29:03.846Z"
   },
   {
    "duration": 1324,
    "start_time": "2022-04-10T17:29:04.172Z"
   },
   {
    "duration": 173,
    "start_time": "2022-04-10T17:29:05.498Z"
   },
   {
    "duration": 10,
    "start_time": "2022-04-10T17:29:05.673Z"
   },
   {
    "duration": 26,
    "start_time": "2022-04-10T17:29:05.685Z"
   },
   {
    "duration": 161,
    "start_time": "2022-04-10T17:29:05.713Z"
   },
   {
    "duration": 11,
    "start_time": "2022-04-10T17:29:05.875Z"
   },
   {
    "duration": 162,
    "start_time": "2022-04-10T17:29:05.888Z"
   },
   {
    "duration": 4,
    "start_time": "2022-04-10T17:29:06.052Z"
   },
   {
    "duration": 15,
    "start_time": "2022-04-10T17:29:06.058Z"
   },
   {
    "duration": 112,
    "start_time": "2022-04-10T17:29:06.075Z"
   },
   {
    "duration": 24,
    "start_time": "2022-04-10T17:29:06.189Z"
   },
   {
    "duration": 104,
    "start_time": "2022-04-10T17:29:06.215Z"
   },
   {
    "duration": 20,
    "start_time": "2022-04-10T17:29:06.320Z"
   },
   {
    "duration": 108,
    "start_time": "2022-04-10T17:29:06.342Z"
   },
   {
    "duration": 15,
    "start_time": "2022-04-10T17:29:06.452Z"
   },
   {
    "duration": 14,
    "start_time": "2022-04-10T17:29:06.469Z"
   },
   {
    "duration": 39,
    "start_time": "2022-04-10T17:29:06.485Z"
   },
   {
    "duration": 13,
    "start_time": "2022-04-10T17:29:06.526Z"
   },
   {
    "duration": 14,
    "start_time": "2022-04-10T17:29:06.541Z"
   },
   {
    "duration": 17,
    "start_time": "2022-04-10T17:29:06.557Z"
   },
   {
    "duration": 39,
    "start_time": "2022-04-10T17:29:06.576Z"
   },
   {
    "duration": 8,
    "start_time": "2022-04-10T17:29:06.616Z"
   },
   {
    "duration": 7,
    "start_time": "2022-04-10T17:29:06.626Z"
   },
   {
    "duration": 12,
    "start_time": "2022-04-10T17:29:06.634Z"
   },
   {
    "duration": 6,
    "start_time": "2022-04-10T17:29:06.648Z"
   },
   {
    "duration": 7,
    "start_time": "2022-04-10T17:29:06.656Z"
   },
   {
    "duration": 292,
    "start_time": "2022-04-10T17:30:26.806Z"
   },
   {
    "duration": 1165,
    "start_time": "2022-04-10T17:30:38.057Z"
   },
   {
    "duration": 55,
    "start_time": "2022-04-10T17:30:39.224Z"
   },
   {
    "duration": 4,
    "start_time": "2022-04-10T17:30:39.281Z"
   },
   {
    "duration": 29,
    "start_time": "2022-04-10T17:30:39.288Z"
   },
   {
    "duration": 3,
    "start_time": "2022-04-10T17:30:39.319Z"
   },
   {
    "duration": 17,
    "start_time": "2022-04-10T17:30:39.323Z"
   },
   {
    "duration": 7,
    "start_time": "2022-04-10T17:30:39.342Z"
   },
   {
    "duration": 7,
    "start_time": "2022-04-10T17:30:39.351Z"
   },
   {
    "duration": 229,
    "start_time": "2022-04-10T17:30:39.360Z"
   },
   {
    "duration": 3,
    "start_time": "2022-04-10T17:30:39.592Z"
   },
   {
    "duration": 14,
    "start_time": "2022-04-10T17:30:39.597Z"
   },
   {
    "duration": 8,
    "start_time": "2022-04-10T17:30:39.613Z"
   },
   {
    "duration": 9,
    "start_time": "2022-04-10T17:30:39.623Z"
   },
   {
    "duration": 10,
    "start_time": "2022-04-10T17:30:39.634Z"
   },
   {
    "duration": 9,
    "start_time": "2022-04-10T17:30:39.646Z"
   },
   {
    "duration": 54,
    "start_time": "2022-04-10T17:30:39.657Z"
   },
   {
    "duration": 9,
    "start_time": "2022-04-10T17:30:39.713Z"
   },
   {
    "duration": 324,
    "start_time": "2022-04-10T17:30:39.723Z"
   },
   {
    "duration": 6,
    "start_time": "2022-04-10T17:30:40.049Z"
   },
   {
    "duration": 15,
    "start_time": "2022-04-10T17:30:40.056Z"
   },
   {
    "duration": 8,
    "start_time": "2022-04-10T17:30:40.073Z"
   },
   {
    "duration": 28,
    "start_time": "2022-04-10T17:30:40.083Z"
   },
   {
    "duration": 7,
    "start_time": "2022-04-10T17:30:40.114Z"
   },
   {
    "duration": 9,
    "start_time": "2022-04-10T17:30:40.124Z"
   },
   {
    "duration": 13,
    "start_time": "2022-04-10T17:30:40.135Z"
   },
   {
    "duration": 9,
    "start_time": "2022-04-10T17:30:40.150Z"
   },
   {
    "duration": 49,
    "start_time": "2022-04-10T17:30:40.161Z"
   },
   {
    "duration": 8,
    "start_time": "2022-04-10T17:30:40.214Z"
   },
   {
    "duration": 16,
    "start_time": "2022-04-10T17:30:40.224Z"
   },
   {
    "duration": 5,
    "start_time": "2022-04-10T17:30:40.242Z"
   },
   {
    "duration": 16,
    "start_time": "2022-04-10T17:30:40.249Z"
   },
   {
    "duration": 51,
    "start_time": "2022-04-10T17:30:40.266Z"
   },
   {
    "duration": 1510,
    "start_time": "2022-04-10T17:30:40.319Z"
   },
   {
    "duration": 330,
    "start_time": "2022-04-10T17:30:41.831Z"
   },
   {
    "duration": 1235,
    "start_time": "2022-04-10T17:30:42.162Z"
   },
   {
    "duration": 271,
    "start_time": "2022-04-10T17:30:43.399Z"
   },
   {
    "duration": 7,
    "start_time": "2022-04-10T17:30:43.672Z"
   },
   {
    "duration": 11,
    "start_time": "2022-04-10T17:30:43.681Z"
   },
   {
    "duration": 160,
    "start_time": "2022-04-10T17:30:43.708Z"
   },
   {
    "duration": 11,
    "start_time": "2022-04-10T17:30:43.870Z"
   },
   {
    "duration": 171,
    "start_time": "2022-04-10T17:30:43.882Z"
   },
   {
    "duration": 3,
    "start_time": "2022-04-10T17:30:44.055Z"
   },
   {
    "duration": 17,
    "start_time": "2022-04-10T17:30:44.060Z"
   },
   {
    "duration": 106,
    "start_time": "2022-04-10T17:30:44.078Z"
   },
   {
    "duration": 32,
    "start_time": "2022-04-10T17:30:44.185Z"
   },
   {
    "duration": 104,
    "start_time": "2022-04-10T17:30:44.219Z"
   },
   {
    "duration": 19,
    "start_time": "2022-04-10T17:30:44.325Z"
   },
   {
    "duration": 106,
    "start_time": "2022-04-10T17:30:44.345Z"
   },
   {
    "duration": 14,
    "start_time": "2022-04-10T17:30:44.453Z"
   },
   {
    "duration": 16,
    "start_time": "2022-04-10T17:30:44.469Z"
   },
   {
    "duration": 34,
    "start_time": "2022-04-10T17:30:44.487Z"
   },
   {
    "duration": 15,
    "start_time": "2022-04-10T17:30:44.522Z"
   },
   {
    "duration": 15,
    "start_time": "2022-04-10T17:30:44.538Z"
   },
   {
    "duration": 18,
    "start_time": "2022-04-10T17:30:44.554Z"
   },
   {
    "duration": 9,
    "start_time": "2022-04-10T17:30:44.609Z"
   },
   {
    "duration": 11,
    "start_time": "2022-04-10T17:30:44.620Z"
   },
   {
    "duration": 8,
    "start_time": "2022-04-10T17:30:44.633Z"
   },
   {
    "duration": 9,
    "start_time": "2022-04-10T17:30:44.643Z"
   },
   {
    "duration": 7,
    "start_time": "2022-04-10T17:30:44.653Z"
   },
   {
    "duration": 49,
    "start_time": "2022-04-10T17:30:44.661Z"
   },
   {
    "duration": 4,
    "start_time": "2022-04-10T17:35:47.209Z"
   },
   {
    "duration": 7,
    "start_time": "2022-04-10T17:35:52.799Z"
   },
   {
    "duration": 1191,
    "start_time": "2022-04-10T17:36:12.628Z"
   },
   {
    "duration": 58,
    "start_time": "2022-04-10T17:36:13.821Z"
   },
   {
    "duration": 4,
    "start_time": "2022-04-10T17:36:13.881Z"
   },
   {
    "duration": 24,
    "start_time": "2022-04-10T17:36:13.887Z"
   },
   {
    "duration": 3,
    "start_time": "2022-04-10T17:36:13.913Z"
   },
   {
    "duration": 20,
    "start_time": "2022-04-10T17:36:13.917Z"
   },
   {
    "duration": 11,
    "start_time": "2022-04-10T17:36:13.938Z"
   },
   {
    "duration": 12,
    "start_time": "2022-04-10T17:36:13.952Z"
   },
   {
    "duration": 231,
    "start_time": "2022-04-10T17:36:13.965Z"
   },
   {
    "duration": 11,
    "start_time": "2022-04-10T17:36:14.198Z"
   },
   {
    "duration": 6,
    "start_time": "2022-04-10T17:36:14.211Z"
   },
   {
    "duration": 8,
    "start_time": "2022-04-10T17:36:14.219Z"
   },
   {
    "duration": 13,
    "start_time": "2022-04-10T17:36:14.229Z"
   },
   {
    "duration": 14,
    "start_time": "2022-04-10T17:36:14.245Z"
   },
   {
    "duration": 9,
    "start_time": "2022-04-10T17:36:14.261Z"
   },
   {
    "duration": 38,
    "start_time": "2022-04-10T17:36:14.272Z"
   },
   {
    "duration": 11,
    "start_time": "2022-04-10T17:36:14.312Z"
   },
   {
    "duration": 321,
    "start_time": "2022-04-10T17:36:14.325Z"
   },
   {
    "duration": 6,
    "start_time": "2022-04-10T17:36:14.647Z"
   },
   {
    "duration": 9,
    "start_time": "2022-04-10T17:36:14.656Z"
   },
   {
    "duration": 8,
    "start_time": "2022-04-10T17:36:14.667Z"
   },
   {
    "duration": 33,
    "start_time": "2022-04-10T17:36:14.676Z"
   },
   {
    "duration": 6,
    "start_time": "2022-04-10T17:36:14.710Z"
   },
   {
    "duration": 8,
    "start_time": "2022-04-10T17:36:14.718Z"
   },
   {
    "duration": 9,
    "start_time": "2022-04-10T17:36:14.728Z"
   },
   {
    "duration": 13,
    "start_time": "2022-04-10T17:36:14.738Z"
   },
   {
    "duration": 9,
    "start_time": "2022-04-10T17:36:14.753Z"
   },
   {
    "duration": 7,
    "start_time": "2022-04-10T17:36:14.763Z"
   },
   {
    "duration": 46,
    "start_time": "2022-04-10T17:36:14.771Z"
   },
   {
    "duration": 10,
    "start_time": "2022-04-10T17:36:14.818Z"
   },
   {
    "duration": 7,
    "start_time": "2022-04-10T17:36:14.830Z"
   },
   {
    "duration": 10,
    "start_time": "2022-04-10T17:36:14.838Z"
   },
   {
    "duration": 19,
    "start_time": "2022-04-10T17:36:14.850Z"
   },
   {
    "duration": 53,
    "start_time": "2022-04-10T17:36:14.870Z"
   },
   {
    "duration": 1425,
    "start_time": "2022-04-10T17:36:14.925Z"
   },
   {
    "duration": 346,
    "start_time": "2022-04-10T17:36:16.352Z"
   },
   {
    "duration": 1237,
    "start_time": "2022-04-10T17:36:16.700Z"
   },
   {
    "duration": 264,
    "start_time": "2022-04-10T17:36:17.939Z"
   },
   {
    "duration": 8,
    "start_time": "2022-04-10T17:36:18.205Z"
   },
   {
    "duration": 11,
    "start_time": "2022-04-10T17:36:18.216Z"
   },
   {
    "duration": 171,
    "start_time": "2022-04-10T17:36:18.232Z"
   },
   {
    "duration": 11,
    "start_time": "2022-04-10T17:36:18.405Z"
   },
   {
    "duration": 162,
    "start_time": "2022-04-10T17:36:18.418Z"
   },
   {
    "duration": 3,
    "start_time": "2022-04-10T17:36:18.582Z"
   },
   {
    "duration": 29,
    "start_time": "2022-04-10T17:36:18.587Z"
   },
   {
    "duration": 101,
    "start_time": "2022-04-10T17:36:18.619Z"
   },
   {
    "duration": 16,
    "start_time": "2022-04-10T17:36:18.722Z"
   },
   {
    "duration": 108,
    "start_time": "2022-04-10T17:36:18.740Z"
   },
   {
    "duration": 19,
    "start_time": "2022-04-10T17:36:18.849Z"
   },
   {
    "duration": 103,
    "start_time": "2022-04-10T17:36:18.870Z"
   },
   {
    "duration": 17,
    "start_time": "2022-04-10T17:36:18.975Z"
   },
   {
    "duration": 18,
    "start_time": "2022-04-10T17:36:19.009Z"
   },
   {
    "duration": 18,
    "start_time": "2022-04-10T17:36:19.029Z"
   },
   {
    "duration": 15,
    "start_time": "2022-04-10T17:36:19.049Z"
   },
   {
    "duration": 45,
    "start_time": "2022-04-10T17:36:19.065Z"
   },
   {
    "duration": 18,
    "start_time": "2022-04-10T17:36:19.112Z"
   },
   {
    "duration": 8,
    "start_time": "2022-04-10T17:36:19.132Z"
   },
   {
    "duration": 6,
    "start_time": "2022-04-10T17:36:19.142Z"
   },
   {
    "duration": 6,
    "start_time": "2022-04-10T17:36:19.150Z"
   },
   {
    "duration": 9,
    "start_time": "2022-04-10T17:36:19.157Z"
   },
   {
    "duration": 44,
    "start_time": "2022-04-10T17:36:19.168Z"
   },
   {
    "duration": 6,
    "start_time": "2022-04-10T17:36:19.214Z"
   },
   {
    "duration": 5,
    "start_time": "2022-04-10T17:36:38.517Z"
   },
   {
    "duration": 4,
    "start_time": "2022-04-10T17:37:11.745Z"
   },
   {
    "duration": 8,
    "start_time": "2022-04-10T17:37:14.444Z"
   },
   {
    "duration": 1157,
    "start_time": "2022-04-10T17:37:27.158Z"
   },
   {
    "duration": 55,
    "start_time": "2022-04-10T17:37:28.317Z"
   },
   {
    "duration": 4,
    "start_time": "2022-04-10T17:37:28.374Z"
   },
   {
    "duration": 28,
    "start_time": "2022-04-10T17:37:28.381Z"
   },
   {
    "duration": 4,
    "start_time": "2022-04-10T17:37:28.410Z"
   },
   {
    "duration": 22,
    "start_time": "2022-04-10T17:37:28.416Z"
   },
   {
    "duration": 7,
    "start_time": "2022-04-10T17:37:28.439Z"
   },
   {
    "duration": 7,
    "start_time": "2022-04-10T17:37:28.448Z"
   },
   {
    "duration": 216,
    "start_time": "2022-04-10T17:37:28.457Z"
   },
   {
    "duration": 4,
    "start_time": "2022-04-10T17:37:28.675Z"
   },
   {
    "duration": 7,
    "start_time": "2022-04-10T17:37:28.681Z"
   },
   {
    "duration": 21,
    "start_time": "2022-04-10T17:37:28.690Z"
   },
   {
    "duration": 10,
    "start_time": "2022-04-10T17:37:28.713Z"
   },
   {
    "duration": 12,
    "start_time": "2022-04-10T17:37:28.725Z"
   },
   {
    "duration": 8,
    "start_time": "2022-04-10T17:37:28.739Z"
   },
   {
    "duration": 9,
    "start_time": "2022-04-10T17:37:28.748Z"
   },
   {
    "duration": 7,
    "start_time": "2022-04-10T17:37:28.759Z"
   },
   {
    "duration": 348,
    "start_time": "2022-04-10T17:37:28.768Z"
   },
   {
    "duration": 6,
    "start_time": "2022-04-10T17:37:29.117Z"
   },
   {
    "duration": 13,
    "start_time": "2022-04-10T17:37:29.124Z"
   },
   {
    "duration": 6,
    "start_time": "2022-04-10T17:37:29.139Z"
   },
   {
    "duration": 5,
    "start_time": "2022-04-10T17:37:29.147Z"
   },
   {
    "duration": 5,
    "start_time": "2022-04-10T17:37:29.154Z"
   },
   {
    "duration": 7,
    "start_time": "2022-04-10T17:37:29.160Z"
   },
   {
    "duration": 42,
    "start_time": "2022-04-10T17:37:29.170Z"
   },
   {
    "duration": 5,
    "start_time": "2022-04-10T17:37:29.214Z"
   },
   {
    "duration": 7,
    "start_time": "2022-04-10T17:37:29.221Z"
   },
   {
    "duration": 4,
    "start_time": "2022-04-10T17:37:29.232Z"
   },
   {
    "duration": 18,
    "start_time": "2022-04-10T17:37:29.239Z"
   },
   {
    "duration": 10,
    "start_time": "2022-04-10T17:37:29.259Z"
   },
   {
    "duration": 8,
    "start_time": "2022-04-10T17:37:29.308Z"
   },
   {
    "duration": 4,
    "start_time": "2022-04-10T17:37:29.319Z"
   },
   {
    "duration": 17,
    "start_time": "2022-04-10T17:37:29.325Z"
   },
   {
    "duration": 27,
    "start_time": "2022-04-10T17:37:29.344Z"
   },
   {
    "duration": 1445,
    "start_time": "2022-04-10T17:37:29.373Z"
   },
   {
    "duration": 338,
    "start_time": "2022-04-10T17:37:30.820Z"
   },
   {
    "duration": 1219,
    "start_time": "2022-04-10T17:37:31.160Z"
   },
   {
    "duration": 255,
    "start_time": "2022-04-10T17:37:32.380Z"
   },
   {
    "duration": 6,
    "start_time": "2022-04-10T17:37:32.637Z"
   },
   {
    "duration": 16,
    "start_time": "2022-04-10T17:37:32.645Z"
   },
   {
    "duration": 161,
    "start_time": "2022-04-10T17:37:32.663Z"
   },
   {
    "duration": 10,
    "start_time": "2022-04-10T17:37:32.826Z"
   },
   {
    "duration": 165,
    "start_time": "2022-04-10T17:37:32.838Z"
   },
   {
    "duration": 3,
    "start_time": "2022-04-10T17:37:33.008Z"
   },
   {
    "duration": 19,
    "start_time": "2022-04-10T17:37:33.013Z"
   },
   {
    "duration": 101,
    "start_time": "2022-04-10T17:37:33.034Z"
   },
   {
    "duration": 14,
    "start_time": "2022-04-10T17:37:33.137Z"
   },
   {
    "duration": 105,
    "start_time": "2022-04-10T17:37:33.153Z"
   },
   {
    "duration": 17,
    "start_time": "2022-04-10T17:37:33.260Z"
   },
   {
    "duration": 100,
    "start_time": "2022-04-10T17:37:33.278Z"
   },
   {
    "duration": 15,
    "start_time": "2022-04-10T17:37:33.380Z"
   },
   {
    "duration": 14,
    "start_time": "2022-04-10T17:37:33.409Z"
   },
   {
    "duration": 16,
    "start_time": "2022-04-10T17:37:33.425Z"
   },
   {
    "duration": 14,
    "start_time": "2022-04-10T17:37:33.442Z"
   },
   {
    "duration": 13,
    "start_time": "2022-04-10T17:37:33.458Z"
   },
   {
    "duration": 16,
    "start_time": "2022-04-10T17:37:33.509Z"
   },
   {
    "duration": 7,
    "start_time": "2022-04-10T17:37:33.527Z"
   },
   {
    "duration": 6,
    "start_time": "2022-04-10T17:37:33.536Z"
   },
   {
    "duration": 8,
    "start_time": "2022-04-10T17:37:33.543Z"
   },
   {
    "duration": 10,
    "start_time": "2022-04-10T17:37:33.553Z"
   },
   {
    "duration": 6,
    "start_time": "2022-04-10T17:37:33.610Z"
   },
   {
    "duration": 9,
    "start_time": "2022-04-10T17:37:33.618Z"
   },
   {
    "duration": 8,
    "start_time": "2022-04-10T17:41:16.574Z"
   },
   {
    "duration": 1164,
    "start_time": "2022-04-10T17:41:28.362Z"
   },
   {
    "duration": 55,
    "start_time": "2022-04-10T17:41:29.529Z"
   },
   {
    "duration": 5,
    "start_time": "2022-04-10T17:41:29.586Z"
   },
   {
    "duration": 27,
    "start_time": "2022-04-10T17:41:29.593Z"
   },
   {
    "duration": 2,
    "start_time": "2022-04-10T17:41:29.624Z"
   },
   {
    "duration": 16,
    "start_time": "2022-04-10T17:41:29.628Z"
   },
   {
    "duration": 30,
    "start_time": "2022-04-10T17:41:29.646Z"
   },
   {
    "duration": 36,
    "start_time": "2022-04-10T17:41:29.677Z"
   },
   {
    "duration": 203,
    "start_time": "2022-04-10T17:41:29.714Z"
   },
   {
    "duration": 4,
    "start_time": "2022-04-10T17:41:29.919Z"
   },
   {
    "duration": 8,
    "start_time": "2022-04-10T17:41:29.925Z"
   },
   {
    "duration": 12,
    "start_time": "2022-04-10T17:41:29.935Z"
   },
   {
    "duration": 13,
    "start_time": "2022-04-10T17:41:29.949Z"
   },
   {
    "duration": 9,
    "start_time": "2022-04-10T17:41:29.966Z"
   },
   {
    "duration": 41,
    "start_time": "2022-04-10T17:41:29.977Z"
   },
   {
    "duration": 11,
    "start_time": "2022-04-10T17:41:30.020Z"
   },
   {
    "duration": 11,
    "start_time": "2022-04-10T17:41:30.033Z"
   },
   {
    "duration": 383,
    "start_time": "2022-04-10T17:41:30.046Z"
   },
   {
    "duration": 5,
    "start_time": "2022-04-10T17:41:30.431Z"
   },
   {
    "duration": 17,
    "start_time": "2022-04-10T17:41:30.438Z"
   },
   {
    "duration": 11,
    "start_time": "2022-04-10T17:41:30.457Z"
   },
   {
    "duration": 12,
    "start_time": "2022-04-10T17:41:30.469Z"
   },
   {
    "duration": 6,
    "start_time": "2022-04-10T17:41:30.483Z"
   },
   {
    "duration": 23,
    "start_time": "2022-04-10T17:41:30.490Z"
   },
   {
    "duration": 23,
    "start_time": "2022-04-10T17:41:30.515Z"
   },
   {
    "duration": 25,
    "start_time": "2022-04-10T17:41:30.540Z"
   },
   {
    "duration": 16,
    "start_time": "2022-04-10T17:41:30.567Z"
   },
   {
    "duration": 11,
    "start_time": "2022-04-10T17:41:30.586Z"
   },
   {
    "duration": 24,
    "start_time": "2022-04-10T17:41:30.599Z"
   },
   {
    "duration": 9,
    "start_time": "2022-04-10T17:41:30.625Z"
   },
   {
    "duration": 11,
    "start_time": "2022-04-10T17:41:30.635Z"
   },
   {
    "duration": 9,
    "start_time": "2022-04-10T17:41:30.648Z"
   },
   {
    "duration": 19,
    "start_time": "2022-04-10T17:41:30.659Z"
   },
   {
    "duration": 44,
    "start_time": "2022-04-10T17:41:30.680Z"
   },
   {
    "duration": 1384,
    "start_time": "2022-04-10T17:41:30.726Z"
   },
   {
    "duration": 320,
    "start_time": "2022-04-10T17:41:32.112Z"
   },
   {
    "duration": 1196,
    "start_time": "2022-04-10T17:41:32.434Z"
   },
   {
    "duration": 259,
    "start_time": "2022-04-10T17:41:33.632Z"
   },
   {
    "duration": 16,
    "start_time": "2022-04-10T17:41:33.893Z"
   },
   {
    "duration": 10,
    "start_time": "2022-04-10T17:41:33.911Z"
   },
   {
    "duration": 166,
    "start_time": "2022-04-10T17:41:33.925Z"
   },
   {
    "duration": 19,
    "start_time": "2022-04-10T17:41:34.093Z"
   },
   {
    "duration": 159,
    "start_time": "2022-04-10T17:41:34.114Z"
   },
   {
    "duration": 3,
    "start_time": "2022-04-10T17:41:34.274Z"
   },
   {
    "duration": 16,
    "start_time": "2022-04-10T17:41:34.279Z"
   },
   {
    "duration": 85,
    "start_time": "2022-04-10T17:41:34.309Z"
   },
   {
    "duration": 14,
    "start_time": "2022-04-10T17:41:34.409Z"
   },
   {
    "duration": 103,
    "start_time": "2022-04-10T17:41:34.425Z"
   },
   {
    "duration": 17,
    "start_time": "2022-04-10T17:41:34.530Z"
   },
   {
    "duration": 99,
    "start_time": "2022-04-10T17:41:34.548Z"
   },
   {
    "duration": 14,
    "start_time": "2022-04-10T17:41:34.649Z"
   },
   {
    "duration": 12,
    "start_time": "2022-04-10T17:41:34.665Z"
   },
   {
    "duration": 37,
    "start_time": "2022-04-10T17:41:34.679Z"
   },
   {
    "duration": 14,
    "start_time": "2022-04-10T17:41:34.717Z"
   },
   {
    "duration": 15,
    "start_time": "2022-04-10T17:41:34.732Z"
   },
   {
    "duration": 16,
    "start_time": "2022-04-10T17:41:34.748Z"
   },
   {
    "duration": 48,
    "start_time": "2022-04-10T17:41:34.766Z"
   },
   {
    "duration": 7,
    "start_time": "2022-04-10T17:41:34.816Z"
   },
   {
    "duration": 8,
    "start_time": "2022-04-10T17:41:34.825Z"
   },
   {
    "duration": 8,
    "start_time": "2022-04-10T17:41:34.834Z"
   },
   {
    "duration": 6,
    "start_time": "2022-04-10T17:41:34.844Z"
   },
   {
    "duration": 7,
    "start_time": "2022-04-10T17:41:34.851Z"
   },
   {
    "duration": 4,
    "start_time": "2022-04-10T17:42:44.091Z"
   },
   {
    "duration": 1120,
    "start_time": "2022-04-10T17:42:51.465Z"
   },
   {
    "duration": 55,
    "start_time": "2022-04-10T17:42:52.587Z"
   },
   {
    "duration": 4,
    "start_time": "2022-04-10T17:42:52.644Z"
   },
   {
    "duration": 17,
    "start_time": "2022-04-10T17:42:52.650Z"
   },
   {
    "duration": 2,
    "start_time": "2022-04-10T17:42:52.669Z"
   },
   {
    "duration": 14,
    "start_time": "2022-04-10T17:42:52.673Z"
   },
   {
    "duration": 22,
    "start_time": "2022-04-10T17:42:52.689Z"
   },
   {
    "duration": 7,
    "start_time": "2022-04-10T17:42:52.712Z"
   },
   {
    "duration": 196,
    "start_time": "2022-04-10T17:42:52.721Z"
   },
   {
    "duration": 3,
    "start_time": "2022-04-10T17:42:52.920Z"
   },
   {
    "duration": 8,
    "start_time": "2022-04-10T17:42:52.925Z"
   },
   {
    "duration": 7,
    "start_time": "2022-04-10T17:42:52.934Z"
   },
   {
    "duration": 9,
    "start_time": "2022-04-10T17:42:52.943Z"
   },
   {
    "duration": 10,
    "start_time": "2022-04-10T17:42:52.954Z"
   },
   {
    "duration": 8,
    "start_time": "2022-04-10T17:42:52.966Z"
   },
   {
    "duration": 39,
    "start_time": "2022-04-10T17:42:52.976Z"
   },
   {
    "duration": 7,
    "start_time": "2022-04-10T17:42:53.017Z"
   },
   {
    "duration": 298,
    "start_time": "2022-04-10T17:42:53.026Z"
   },
   {
    "duration": 6,
    "start_time": "2022-04-10T17:42:53.326Z"
   },
   {
    "duration": 15,
    "start_time": "2022-04-10T17:42:53.334Z"
   },
   {
    "duration": 8,
    "start_time": "2022-04-10T17:42:53.350Z"
   },
   {
    "duration": 6,
    "start_time": "2022-04-10T17:42:53.360Z"
   },
   {
    "duration": 5,
    "start_time": "2022-04-10T17:42:53.368Z"
   },
   {
    "duration": 34,
    "start_time": "2022-04-10T17:42:53.375Z"
   },
   {
    "duration": 7,
    "start_time": "2022-04-10T17:42:53.411Z"
   },
   {
    "duration": 10,
    "start_time": "2022-04-10T17:42:53.420Z"
   },
   {
    "duration": 4,
    "start_time": "2022-04-10T17:42:53.432Z"
   },
   {
    "duration": 16,
    "start_time": "2022-04-10T17:42:53.440Z"
   },
   {
    "duration": 9,
    "start_time": "2022-04-10T17:42:53.458Z"
   },
   {
    "duration": 44,
    "start_time": "2022-04-10T17:42:53.469Z"
   },
   {
    "duration": 5,
    "start_time": "2022-04-10T17:42:53.514Z"
   },
   {
    "duration": 15,
    "start_time": "2022-04-10T17:42:53.521Z"
   },
   {
    "duration": 25,
    "start_time": "2022-04-10T17:42:53.538Z"
   },
   {
    "duration": 1374,
    "start_time": "2022-04-10T17:42:53.565Z"
   },
   {
    "duration": 311,
    "start_time": "2022-04-10T17:42:54.941Z"
   },
   {
    "duration": 1174,
    "start_time": "2022-04-10T17:42:55.254Z"
   },
   {
    "duration": 268,
    "start_time": "2022-04-10T17:42:56.430Z"
   },
   {
    "duration": 12,
    "start_time": "2022-04-10T17:42:56.701Z"
   },
   {
    "duration": 10,
    "start_time": "2022-04-10T17:42:56.715Z"
   },
   {
    "duration": 154,
    "start_time": "2022-04-10T17:42:56.726Z"
   },
   {
    "duration": 11,
    "start_time": "2022-04-10T17:42:56.882Z"
   },
   {
    "duration": 158,
    "start_time": "2022-04-10T17:42:56.895Z"
   },
   {
    "duration": 3,
    "start_time": "2022-04-10T17:42:57.055Z"
   },
   {
    "duration": 15,
    "start_time": "2022-04-10T17:42:57.060Z"
   },
   {
    "duration": 104,
    "start_time": "2022-04-10T17:42:57.077Z"
   },
   {
    "duration": 25,
    "start_time": "2022-04-10T17:42:57.184Z"
   },
   {
    "duration": 98,
    "start_time": "2022-04-10T17:42:57.211Z"
   },
   {
    "duration": 19,
    "start_time": "2022-04-10T17:42:57.311Z"
   },
   {
    "duration": 101,
    "start_time": "2022-04-10T17:42:57.332Z"
   },
   {
    "duration": 15,
    "start_time": "2022-04-10T17:42:57.435Z"
   },
   {
    "duration": 15,
    "start_time": "2022-04-10T17:42:57.452Z"
   },
   {
    "duration": 43,
    "start_time": "2022-04-10T17:42:57.469Z"
   },
   {
    "duration": 15,
    "start_time": "2022-04-10T17:42:57.514Z"
   },
   {
    "duration": 16,
    "start_time": "2022-04-10T17:42:57.531Z"
   },
   {
    "duration": 17,
    "start_time": "2022-04-10T17:42:57.549Z"
   },
   {
    "duration": 46,
    "start_time": "2022-04-10T17:42:57.568Z"
   },
   {
    "duration": 7,
    "start_time": "2022-04-10T17:42:57.616Z"
   },
   {
    "duration": 6,
    "start_time": "2022-04-10T17:42:57.624Z"
   },
   {
    "duration": 10,
    "start_time": "2022-04-10T17:42:57.632Z"
   },
   {
    "duration": 8,
    "start_time": "2022-04-10T17:42:57.644Z"
   },
   {
    "duration": 58,
    "start_time": "2022-04-10T17:42:57.654Z"
   },
   {
    "duration": 6,
    "start_time": "2022-04-10T17:50:03.317Z"
   },
   {
    "duration": 4,
    "start_time": "2022-04-10T17:50:04.518Z"
   },
   {
    "duration": 17,
    "start_time": "2022-04-10T17:51:19.623Z"
   },
   {
    "duration": 1171,
    "start_time": "2022-04-10T17:51:42.215Z"
   },
   {
    "duration": 54,
    "start_time": "2022-04-10T17:51:43.388Z"
   },
   {
    "duration": 4,
    "start_time": "2022-04-10T17:51:43.443Z"
   },
   {
    "duration": 17,
    "start_time": "2022-04-10T17:51:43.449Z"
   },
   {
    "duration": 3,
    "start_time": "2022-04-10T17:51:43.467Z"
   },
   {
    "duration": 15,
    "start_time": "2022-04-10T17:51:43.472Z"
   },
   {
    "duration": 7,
    "start_time": "2022-04-10T17:51:43.509Z"
   },
   {
    "duration": 8,
    "start_time": "2022-04-10T17:51:43.517Z"
   },
   {
    "duration": 204,
    "start_time": "2022-04-10T17:51:43.527Z"
   },
   {
    "duration": 4,
    "start_time": "2022-04-10T17:51:43.734Z"
   },
   {
    "duration": 7,
    "start_time": "2022-04-10T17:51:43.739Z"
   },
   {
    "duration": 10,
    "start_time": "2022-04-10T17:51:43.747Z"
   },
   {
    "duration": 10,
    "start_time": "2022-04-10T17:51:43.758Z"
   },
   {
    "duration": 9,
    "start_time": "2022-04-10T17:51:43.770Z"
   },
   {
    "duration": 34,
    "start_time": "2022-04-10T17:51:43.781Z"
   },
   {
    "duration": 8,
    "start_time": "2022-04-10T17:51:43.817Z"
   },
   {
    "duration": 8,
    "start_time": "2022-04-10T17:51:43.827Z"
   },
   {
    "duration": 365,
    "start_time": "2022-04-10T17:51:43.836Z"
   },
   {
    "duration": 12,
    "start_time": "2022-04-10T17:51:44.202Z"
   },
   {
    "duration": 9,
    "start_time": "2022-04-10T17:51:44.215Z"
   },
   {
    "duration": 7,
    "start_time": "2022-04-10T17:51:44.226Z"
   },
   {
    "duration": 7,
    "start_time": "2022-04-10T17:51:44.234Z"
   },
   {
    "duration": 5,
    "start_time": "2022-04-10T17:51:44.242Z"
   },
   {
    "duration": 7,
    "start_time": "2022-04-10T17:51:44.249Z"
   },
   {
    "duration": 6,
    "start_time": "2022-04-10T17:51:44.258Z"
   },
   {
    "duration": 50,
    "start_time": "2022-04-10T17:51:44.266Z"
   },
   {
    "duration": 5,
    "start_time": "2022-04-10T17:51:44.318Z"
   },
   {
    "duration": 17,
    "start_time": "2022-04-10T17:51:44.327Z"
   },
   {
    "duration": 7,
    "start_time": "2022-04-10T17:51:44.346Z"
   },
   {
    "duration": 5,
    "start_time": "2022-04-10T17:51:44.354Z"
   },
   {
    "duration": 50,
    "start_time": "2022-04-10T17:51:44.360Z"
   },
   {
    "duration": 54,
    "start_time": "2022-04-10T17:51:44.412Z"
   },
   {
    "duration": 1513,
    "start_time": "2022-04-10T17:51:44.469Z"
   },
   {
    "duration": 582,
    "start_time": "2022-04-10T17:51:45.984Z"
   },
   {
    "duration": 3368,
    "start_time": "2022-04-10T17:51:46.568Z"
   },
   {
    "duration": 159,
    "start_time": "2022-04-10T17:51:49.938Z"
   },
   {
    "duration": 15,
    "start_time": "2022-04-10T17:51:50.099Z"
   },
   {
    "duration": 17,
    "start_time": "2022-04-10T17:51:50.116Z"
   },
   {
    "duration": 151,
    "start_time": "2022-04-10T17:51:50.135Z"
   },
   {
    "duration": 21,
    "start_time": "2022-04-10T17:51:50.288Z"
   },
   {
    "duration": 160,
    "start_time": "2022-04-10T17:51:50.311Z"
   },
   {
    "duration": 3,
    "start_time": "2022-04-10T17:51:50.473Z"
   },
   {
    "duration": 17,
    "start_time": "2022-04-10T17:51:50.477Z"
   },
   {
    "duration": 114,
    "start_time": "2022-04-10T17:51:50.496Z"
   },
   {
    "duration": 16,
    "start_time": "2022-04-10T17:51:50.612Z"
   },
   {
    "duration": 108,
    "start_time": "2022-04-10T17:51:50.630Z"
   },
   {
    "duration": 21,
    "start_time": "2022-04-10T17:51:50.740Z"
   },
   {
    "duration": 198,
    "start_time": "2022-04-10T17:51:50.763Z"
   },
   {
    "duration": 14,
    "start_time": "2022-04-10T17:51:50.963Z"
   },
   {
    "duration": 31,
    "start_time": "2022-04-10T17:51:50.979Z"
   },
   {
    "duration": 21,
    "start_time": "2022-04-10T17:51:51.011Z"
   },
   {
    "duration": 15,
    "start_time": "2022-04-10T17:51:51.034Z"
   },
   {
    "duration": 15,
    "start_time": "2022-04-10T17:51:51.050Z"
   },
   {
    "duration": 53,
    "start_time": "2022-04-10T17:51:51.067Z"
   },
   {
    "duration": 11,
    "start_time": "2022-04-10T17:51:51.121Z"
   },
   {
    "duration": 8,
    "start_time": "2022-04-10T17:51:51.133Z"
   },
   {
    "duration": 8,
    "start_time": "2022-04-10T17:51:51.142Z"
   },
   {
    "duration": 13,
    "start_time": "2022-04-10T17:51:51.151Z"
   },
   {
    "duration": 7,
    "start_time": "2022-04-10T17:51:51.166Z"
   },
   {
    "duration": 38,
    "start_time": "2022-04-10T17:51:51.175Z"
   },
   {
    "duration": 1500,
    "start_time": "2022-04-10T17:53:41.882Z"
   },
   {
    "duration": 7,
    "start_time": "2022-04-10T18:00:24.873Z"
   },
   {
    "duration": 4,
    "start_time": "2022-04-10T18:00:26.034Z"
   },
   {
    "duration": 63,
    "start_time": "2022-04-10T18:00:28.870Z"
   },
   {
    "duration": 1171,
    "start_time": "2022-04-10T18:00:51.461Z"
   },
   {
    "duration": 57,
    "start_time": "2022-04-10T18:00:52.634Z"
   },
   {
    "duration": 4,
    "start_time": "2022-04-10T18:00:52.692Z"
   },
   {
    "duration": 23,
    "start_time": "2022-04-10T18:00:52.698Z"
   },
   {
    "duration": 2,
    "start_time": "2022-04-10T18:00:52.724Z"
   },
   {
    "duration": 16,
    "start_time": "2022-04-10T18:00:52.728Z"
   },
   {
    "duration": 7,
    "start_time": "2022-04-10T18:00:52.746Z"
   },
   {
    "duration": 24,
    "start_time": "2022-04-10T18:00:52.755Z"
   },
   {
    "duration": 254,
    "start_time": "2022-04-10T18:00:52.780Z"
   },
   {
    "duration": 4,
    "start_time": "2022-04-10T18:00:53.036Z"
   },
   {
    "duration": 6,
    "start_time": "2022-04-10T18:00:53.041Z"
   },
   {
    "duration": 7,
    "start_time": "2022-04-10T18:00:53.049Z"
   },
   {
    "duration": 9,
    "start_time": "2022-04-10T18:00:53.058Z"
   },
   {
    "duration": 40,
    "start_time": "2022-04-10T18:00:53.070Z"
   },
   {
    "duration": 8,
    "start_time": "2022-04-10T18:00:53.112Z"
   },
   {
    "duration": 11,
    "start_time": "2022-04-10T18:00:53.122Z"
   },
   {
    "duration": 10,
    "start_time": "2022-04-10T18:00:53.135Z"
   },
   {
    "duration": 353,
    "start_time": "2022-04-10T18:00:53.146Z"
   },
   {
    "duration": 11,
    "start_time": "2022-04-10T18:00:53.501Z"
   },
   {
    "duration": 21,
    "start_time": "2022-04-10T18:00:53.513Z"
   },
   {
    "duration": 8,
    "start_time": "2022-04-10T18:00:53.536Z"
   },
   {
    "duration": 8,
    "start_time": "2022-04-10T18:00:53.545Z"
   },
   {
    "duration": 7,
    "start_time": "2022-04-10T18:00:53.555Z"
   },
   {
    "duration": 7,
    "start_time": "2022-04-10T18:00:53.564Z"
   },
   {
    "duration": 38,
    "start_time": "2022-04-10T18:00:53.573Z"
   },
   {
    "duration": 12,
    "start_time": "2022-04-10T18:00:53.613Z"
   },
   {
    "duration": 6,
    "start_time": "2022-04-10T18:00:53.627Z"
   },
   {
    "duration": 19,
    "start_time": "2022-04-10T18:00:53.635Z"
   },
   {
    "duration": 18,
    "start_time": "2022-04-10T18:00:53.657Z"
   },
   {
    "duration": 113,
    "start_time": "2022-04-10T18:00:53.710Z"
   },
   {
    "duration": 0,
    "start_time": "2022-04-10T18:00:53.826Z"
   },
   {
    "duration": 0,
    "start_time": "2022-04-10T18:00:53.828Z"
   },
   {
    "duration": 0,
    "start_time": "2022-04-10T18:00:53.830Z"
   },
   {
    "duration": 0,
    "start_time": "2022-04-10T18:00:53.831Z"
   },
   {
    "duration": 0,
    "start_time": "2022-04-10T18:00:53.833Z"
   },
   {
    "duration": 0,
    "start_time": "2022-04-10T18:00:53.834Z"
   },
   {
    "duration": 0,
    "start_time": "2022-04-10T18:00:53.835Z"
   },
   {
    "duration": 0,
    "start_time": "2022-04-10T18:00:53.837Z"
   },
   {
    "duration": 0,
    "start_time": "2022-04-10T18:00:53.838Z"
   },
   {
    "duration": 0,
    "start_time": "2022-04-10T18:00:53.840Z"
   },
   {
    "duration": 0,
    "start_time": "2022-04-10T18:00:53.841Z"
   },
   {
    "duration": 0,
    "start_time": "2022-04-10T18:00:53.843Z"
   },
   {
    "duration": 0,
    "start_time": "2022-04-10T18:00:53.844Z"
   },
   {
    "duration": 0,
    "start_time": "2022-04-10T18:00:53.846Z"
   },
   {
    "duration": 0,
    "start_time": "2022-04-10T18:00:53.847Z"
   },
   {
    "duration": 0,
    "start_time": "2022-04-10T18:00:53.849Z"
   },
   {
    "duration": 0,
    "start_time": "2022-04-10T18:00:53.850Z"
   },
   {
    "duration": 0,
    "start_time": "2022-04-10T18:00:53.851Z"
   },
   {
    "duration": 0,
    "start_time": "2022-04-10T18:00:53.852Z"
   },
   {
    "duration": 0,
    "start_time": "2022-04-10T18:00:53.853Z"
   },
   {
    "duration": 0,
    "start_time": "2022-04-10T18:00:53.854Z"
   },
   {
    "duration": 0,
    "start_time": "2022-04-10T18:00:53.855Z"
   },
   {
    "duration": 0,
    "start_time": "2022-04-10T18:00:53.856Z"
   },
   {
    "duration": 0,
    "start_time": "2022-04-10T18:00:53.909Z"
   },
   {
    "duration": 0,
    "start_time": "2022-04-10T18:00:53.910Z"
   },
   {
    "duration": 0,
    "start_time": "2022-04-10T18:00:53.911Z"
   },
   {
    "duration": 0,
    "start_time": "2022-04-10T18:00:53.912Z"
   },
   {
    "duration": 0,
    "start_time": "2022-04-10T18:00:53.914Z"
   },
   {
    "duration": 0,
    "start_time": "2022-04-10T18:00:53.914Z"
   },
   {
    "duration": 0,
    "start_time": "2022-04-10T18:00:53.915Z"
   },
   {
    "duration": 0,
    "start_time": "2022-04-10T18:00:53.916Z"
   },
   {
    "duration": 8,
    "start_time": "2022-04-10T18:01:45.275Z"
   },
   {
    "duration": 4,
    "start_time": "2022-04-10T18:01:46.446Z"
   },
   {
    "duration": 55,
    "start_time": "2022-04-10T18:01:55.746Z"
   },
   {
    "duration": 6,
    "start_time": "2022-04-10T18:02:15.701Z"
   },
   {
    "duration": 5,
    "start_time": "2022-04-10T18:02:16.773Z"
   },
   {
    "duration": 28,
    "start_time": "2022-04-10T18:02:18.802Z"
   },
   {
    "duration": 97,
    "start_time": "2022-04-10T18:03:40.191Z"
   },
   {
    "duration": 60,
    "start_time": "2022-04-10T18:04:11.342Z"
   },
   {
    "duration": 21,
    "start_time": "2022-04-10T18:04:24.231Z"
   },
   {
    "duration": 27,
    "start_time": "2022-04-10T18:06:17.576Z"
   },
   {
    "duration": 1850,
    "start_time": "2022-04-10T18:06:53.319Z"
   },
   {
    "duration": 1771,
    "start_time": "2022-04-10T18:10:02.684Z"
   },
   {
    "duration": 1193,
    "start_time": "2022-04-10T18:10:11.538Z"
   },
   {
    "duration": 60,
    "start_time": "2022-04-10T18:10:12.733Z"
   },
   {
    "duration": 5,
    "start_time": "2022-04-10T18:10:12.795Z"
   },
   {
    "duration": 22,
    "start_time": "2022-04-10T18:10:12.811Z"
   },
   {
    "duration": 12,
    "start_time": "2022-04-10T18:10:12.835Z"
   },
   {
    "duration": 21,
    "start_time": "2022-04-10T18:10:12.849Z"
   },
   {
    "duration": 9,
    "start_time": "2022-04-10T18:10:12.873Z"
   },
   {
    "duration": 32,
    "start_time": "2022-04-10T18:10:12.884Z"
   },
   {
    "duration": 285,
    "start_time": "2022-04-10T18:10:12.919Z"
   },
   {
    "duration": 4,
    "start_time": "2022-04-10T18:10:13.208Z"
   },
   {
    "duration": 6,
    "start_time": "2022-04-10T18:10:13.214Z"
   },
   {
    "duration": 10,
    "start_time": "2022-04-10T18:10:13.222Z"
   },
   {
    "duration": 13,
    "start_time": "2022-04-10T18:10:13.234Z"
   },
   {
    "duration": 13,
    "start_time": "2022-04-10T18:10:13.248Z"
   },
   {
    "duration": 51,
    "start_time": "2022-04-10T18:10:13.263Z"
   },
   {
    "duration": 11,
    "start_time": "2022-04-10T18:10:13.316Z"
   },
   {
    "duration": 11,
    "start_time": "2022-04-10T18:10:13.328Z"
   },
   {
    "duration": 402,
    "start_time": "2022-04-10T18:10:13.341Z"
   },
   {
    "duration": 6,
    "start_time": "2022-04-10T18:10:13.745Z"
   },
   {
    "duration": 12,
    "start_time": "2022-04-10T18:10:13.753Z"
   },
   {
    "duration": 10,
    "start_time": "2022-04-10T18:10:13.767Z"
   },
   {
    "duration": 34,
    "start_time": "2022-04-10T18:10:13.779Z"
   },
   {
    "duration": 7,
    "start_time": "2022-04-10T18:10:13.815Z"
   },
   {
    "duration": 9,
    "start_time": "2022-04-10T18:10:13.824Z"
   },
   {
    "duration": 12,
    "start_time": "2022-04-10T18:10:13.836Z"
   },
   {
    "duration": 18,
    "start_time": "2022-04-10T18:10:13.850Z"
   },
   {
    "duration": 42,
    "start_time": "2022-04-10T18:10:13.870Z"
   },
   {
    "duration": 25,
    "start_time": "2022-04-10T18:10:13.918Z"
   },
   {
    "duration": 26,
    "start_time": "2022-04-10T18:10:13.945Z"
   },
   {
    "duration": 146,
    "start_time": "2022-04-10T18:10:13.973Z"
   },
   {
    "duration": 0,
    "start_time": "2022-04-10T18:10:14.121Z"
   },
   {
    "duration": 0,
    "start_time": "2022-04-10T18:10:14.123Z"
   },
   {
    "duration": 0,
    "start_time": "2022-04-10T18:10:14.124Z"
   },
   {
    "duration": 0,
    "start_time": "2022-04-10T18:10:14.126Z"
   },
   {
    "duration": 0,
    "start_time": "2022-04-10T18:10:14.127Z"
   },
   {
    "duration": 0,
    "start_time": "2022-04-10T18:10:14.129Z"
   },
   {
    "duration": 0,
    "start_time": "2022-04-10T18:10:14.130Z"
   },
   {
    "duration": 0,
    "start_time": "2022-04-10T18:10:14.132Z"
   },
   {
    "duration": 0,
    "start_time": "2022-04-10T18:10:14.133Z"
   },
   {
    "duration": 0,
    "start_time": "2022-04-10T18:10:14.134Z"
   },
   {
    "duration": 0,
    "start_time": "2022-04-10T18:10:14.135Z"
   },
   {
    "duration": 0,
    "start_time": "2022-04-10T18:10:14.136Z"
   },
   {
    "duration": 0,
    "start_time": "2022-04-10T18:10:14.138Z"
   },
   {
    "duration": 0,
    "start_time": "2022-04-10T18:10:14.139Z"
   },
   {
    "duration": 0,
    "start_time": "2022-04-10T18:10:14.140Z"
   },
   {
    "duration": 0,
    "start_time": "2022-04-10T18:10:14.141Z"
   },
   {
    "duration": 0,
    "start_time": "2022-04-10T18:10:14.142Z"
   },
   {
    "duration": 0,
    "start_time": "2022-04-10T18:10:14.144Z"
   },
   {
    "duration": 0,
    "start_time": "2022-04-10T18:10:14.145Z"
   },
   {
    "duration": 0,
    "start_time": "2022-04-10T18:10:14.146Z"
   },
   {
    "duration": 0,
    "start_time": "2022-04-10T18:10:14.147Z"
   },
   {
    "duration": 0,
    "start_time": "2022-04-10T18:10:14.148Z"
   },
   {
    "duration": 0,
    "start_time": "2022-04-10T18:10:14.149Z"
   },
   {
    "duration": 0,
    "start_time": "2022-04-10T18:10:14.151Z"
   },
   {
    "duration": 0,
    "start_time": "2022-04-10T18:10:14.152Z"
   },
   {
    "duration": 0,
    "start_time": "2022-04-10T18:10:14.153Z"
   },
   {
    "duration": 0,
    "start_time": "2022-04-10T18:10:14.154Z"
   },
   {
    "duration": 0,
    "start_time": "2022-04-10T18:10:14.208Z"
   },
   {
    "duration": 0,
    "start_time": "2022-04-10T18:10:14.210Z"
   },
   {
    "duration": 0,
    "start_time": "2022-04-10T18:10:14.211Z"
   },
   {
    "duration": 0,
    "start_time": "2022-04-10T18:10:14.212Z"
   },
   {
    "duration": 0,
    "start_time": "2022-04-10T18:10:14.213Z"
   },
   {
    "duration": 996,
    "start_time": "2022-04-10T18:11:11.979Z"
   },
   {
    "duration": 1159,
    "start_time": "2022-04-10T18:11:27.337Z"
   },
   {
    "duration": 205,
    "start_time": "2022-04-10T18:12:47.198Z"
   },
   {
    "duration": 1165,
    "start_time": "2022-04-10T18:13:26.496Z"
   },
   {
    "duration": 1143,
    "start_time": "2022-04-10T18:13:43.171Z"
   },
   {
    "duration": 53,
    "start_time": "2022-04-10T18:13:44.316Z"
   },
   {
    "duration": 4,
    "start_time": "2022-04-10T18:13:44.370Z"
   },
   {
    "duration": 17,
    "start_time": "2022-04-10T18:13:44.376Z"
   },
   {
    "duration": 3,
    "start_time": "2022-04-10T18:13:44.409Z"
   },
   {
    "duration": 17,
    "start_time": "2022-04-10T18:13:44.413Z"
   },
   {
    "duration": 7,
    "start_time": "2022-04-10T18:13:44.431Z"
   },
   {
    "duration": 7,
    "start_time": "2022-04-10T18:13:44.440Z"
   },
   {
    "duration": 206,
    "start_time": "2022-04-10T18:13:44.449Z"
   },
   {
    "duration": 4,
    "start_time": "2022-04-10T18:13:44.658Z"
   },
   {
    "duration": 7,
    "start_time": "2022-04-10T18:13:44.663Z"
   },
   {
    "duration": 8,
    "start_time": "2022-04-10T18:13:44.671Z"
   },
   {
    "duration": 28,
    "start_time": "2022-04-10T18:13:44.681Z"
   },
   {
    "duration": 10,
    "start_time": "2022-04-10T18:13:44.711Z"
   },
   {
    "duration": 8,
    "start_time": "2022-04-10T18:13:44.722Z"
   },
   {
    "duration": 8,
    "start_time": "2022-04-10T18:13:44.732Z"
   },
   {
    "duration": 7,
    "start_time": "2022-04-10T18:13:44.742Z"
   },
   {
    "duration": 349,
    "start_time": "2022-04-10T18:13:44.751Z"
   },
   {
    "duration": 11,
    "start_time": "2022-04-10T18:13:45.101Z"
   },
   {
    "duration": 14,
    "start_time": "2022-04-10T18:13:45.114Z"
   },
   {
    "duration": 7,
    "start_time": "2022-04-10T18:13:45.130Z"
   },
   {
    "duration": 7,
    "start_time": "2022-04-10T18:13:45.139Z"
   },
   {
    "duration": 5,
    "start_time": "2022-04-10T18:13:45.147Z"
   },
   {
    "duration": 8,
    "start_time": "2022-04-10T18:13:45.153Z"
   },
   {
    "duration": 7,
    "start_time": "2022-04-10T18:13:45.162Z"
   },
   {
    "duration": 38,
    "start_time": "2022-04-10T18:13:45.171Z"
   },
   {
    "duration": 5,
    "start_time": "2022-04-10T18:13:45.210Z"
   },
   {
    "duration": 17,
    "start_time": "2022-04-10T18:13:45.219Z"
   },
   {
    "duration": 17,
    "start_time": "2022-04-10T18:13:45.237Z"
   },
   {
    "duration": 1075,
    "start_time": "2022-04-10T18:13:45.256Z"
   },
   {
    "duration": 0,
    "start_time": "2022-04-10T18:13:46.333Z"
   },
   {
    "duration": 0,
    "start_time": "2022-04-10T18:13:46.334Z"
   },
   {
    "duration": 0,
    "start_time": "2022-04-10T18:13:46.334Z"
   },
   {
    "duration": 0,
    "start_time": "2022-04-10T18:13:46.336Z"
   },
   {
    "duration": 0,
    "start_time": "2022-04-10T18:13:46.337Z"
   },
   {
    "duration": 0,
    "start_time": "2022-04-10T18:13:46.338Z"
   },
   {
    "duration": 0,
    "start_time": "2022-04-10T18:13:46.339Z"
   },
   {
    "duration": 0,
    "start_time": "2022-04-10T18:13:46.340Z"
   },
   {
    "duration": 0,
    "start_time": "2022-04-10T18:13:46.341Z"
   },
   {
    "duration": 0,
    "start_time": "2022-04-10T18:13:46.342Z"
   },
   {
    "duration": 0,
    "start_time": "2022-04-10T18:13:46.343Z"
   },
   {
    "duration": 0,
    "start_time": "2022-04-10T18:13:46.344Z"
   },
   {
    "duration": 0,
    "start_time": "2022-04-10T18:13:46.345Z"
   },
   {
    "duration": 0,
    "start_time": "2022-04-10T18:13:46.346Z"
   },
   {
    "duration": 0,
    "start_time": "2022-04-10T18:13:46.347Z"
   },
   {
    "duration": 0,
    "start_time": "2022-04-10T18:13:46.348Z"
   },
   {
    "duration": 0,
    "start_time": "2022-04-10T18:13:46.349Z"
   },
   {
    "duration": 0,
    "start_time": "2022-04-10T18:13:46.350Z"
   },
   {
    "duration": 0,
    "start_time": "2022-04-10T18:13:46.351Z"
   },
   {
    "duration": 0,
    "start_time": "2022-04-10T18:13:46.352Z"
   },
   {
    "duration": 0,
    "start_time": "2022-04-10T18:13:46.354Z"
   },
   {
    "duration": 0,
    "start_time": "2022-04-10T18:13:46.354Z"
   },
   {
    "duration": 0,
    "start_time": "2022-04-10T18:13:46.356Z"
   },
   {
    "duration": 0,
    "start_time": "2022-04-10T18:13:46.357Z"
   },
   {
    "duration": 0,
    "start_time": "2022-04-10T18:13:46.357Z"
   },
   {
    "duration": 0,
    "start_time": "2022-04-10T18:13:46.359Z"
   },
   {
    "duration": 0,
    "start_time": "2022-04-10T18:13:46.360Z"
   },
   {
    "duration": 0,
    "start_time": "2022-04-10T18:13:46.361Z"
   },
   {
    "duration": 0,
    "start_time": "2022-04-10T18:13:46.362Z"
   },
   {
    "duration": 0,
    "start_time": "2022-04-10T18:13:46.363Z"
   },
   {
    "duration": 0,
    "start_time": "2022-04-10T18:13:46.364Z"
   },
   {
    "duration": 0,
    "start_time": "2022-04-10T18:13:46.365Z"
   },
   {
    "duration": 4,
    "start_time": "2022-04-10T18:15:33.965Z"
   },
   {
    "duration": 11,
    "start_time": "2022-04-10T18:18:56.554Z"
   },
   {
    "duration": 53,
    "start_time": "2022-04-10T18:18:59.413Z"
   },
   {
    "duration": 1402,
    "start_time": "2022-04-10T18:19:07.064Z"
   },
   {
    "duration": 8,
    "start_time": "2022-04-10T18:22:20.413Z"
   },
   {
    "duration": 4,
    "start_time": "2022-04-10T18:22:21.248Z"
   },
   {
    "duration": 85,
    "start_time": "2022-04-10T18:22:33.929Z"
   },
   {
    "duration": 25,
    "start_time": "2022-04-10T18:22:39.042Z"
   },
   {
    "duration": 17,
    "start_time": "2022-04-10T18:24:36.104Z"
   },
   {
    "duration": 1183,
    "start_time": "2022-04-10T18:27:58.114Z"
   },
   {
    "duration": 52,
    "start_time": "2022-04-10T18:27:59.299Z"
   },
   {
    "duration": 6,
    "start_time": "2022-04-10T18:27:59.353Z"
   },
   {
    "duration": 15,
    "start_time": "2022-04-10T18:27:59.361Z"
   },
   {
    "duration": 3,
    "start_time": "2022-04-10T18:27:59.377Z"
   },
   {
    "duration": 33,
    "start_time": "2022-04-10T18:27:59.382Z"
   },
   {
    "duration": 6,
    "start_time": "2022-04-10T18:27:59.417Z"
   },
   {
    "duration": 8,
    "start_time": "2022-04-10T18:27:59.424Z"
   },
   {
    "duration": 208,
    "start_time": "2022-04-10T18:27:59.433Z"
   },
   {
    "duration": 4,
    "start_time": "2022-04-10T18:27:59.645Z"
   },
   {
    "duration": 6,
    "start_time": "2022-04-10T18:27:59.650Z"
   },
   {
    "duration": 7,
    "start_time": "2022-04-10T18:27:59.658Z"
   },
   {
    "duration": 9,
    "start_time": "2022-04-10T18:27:59.667Z"
   },
   {
    "duration": 39,
    "start_time": "2022-04-10T18:27:59.678Z"
   },
   {
    "duration": 9,
    "start_time": "2022-04-10T18:27:59.719Z"
   },
   {
    "duration": 8,
    "start_time": "2022-04-10T18:27:59.729Z"
   },
   {
    "duration": 8,
    "start_time": "2022-04-10T18:27:59.739Z"
   },
   {
    "duration": 350,
    "start_time": "2022-04-10T18:27:59.748Z"
   },
   {
    "duration": 13,
    "start_time": "2022-04-10T18:28:00.100Z"
   },
   {
    "duration": 12,
    "start_time": "2022-04-10T18:28:00.115Z"
   },
   {
    "duration": 7,
    "start_time": "2022-04-10T18:28:00.129Z"
   },
   {
    "duration": 6,
    "start_time": "2022-04-10T18:28:00.139Z"
   },
   {
    "duration": 5,
    "start_time": "2022-04-10T18:28:00.147Z"
   },
   {
    "duration": 12,
    "start_time": "2022-04-10T18:28:00.154Z"
   },
   {
    "duration": 42,
    "start_time": "2022-04-10T18:28:00.168Z"
   },
   {
    "duration": 10,
    "start_time": "2022-04-10T18:28:00.212Z"
   },
   {
    "duration": 12,
    "start_time": "2022-04-10T18:28:00.224Z"
   },
   {
    "duration": 21,
    "start_time": "2022-04-10T18:28:00.240Z"
   },
   {
    "duration": 21,
    "start_time": "2022-04-10T18:28:00.263Z"
   },
   {
    "duration": 65,
    "start_time": "2022-04-10T18:28:00.286Z"
   },
   {
    "duration": 1410,
    "start_time": "2022-04-10T18:28:00.353Z"
   },
   {
    "duration": 5,
    "start_time": "2022-04-10T18:28:01.765Z"
   },
   {
    "duration": 8,
    "start_time": "2022-04-10T18:28:01.772Z"
   },
   {
    "duration": 4,
    "start_time": "2022-04-10T18:28:01.782Z"
   },
   {
    "duration": 34,
    "start_time": "2022-04-10T18:28:01.788Z"
   },
   {
    "duration": 323,
    "start_time": "2022-04-10T18:28:01.823Z"
   },
   {
    "duration": 1276,
    "start_time": "2022-04-10T18:28:02.148Z"
   },
   {
    "duration": 169,
    "start_time": "2022-04-10T18:28:03.426Z"
   },
   {
    "duration": 18,
    "start_time": "2022-04-10T18:28:03.597Z"
   },
   {
    "duration": 10,
    "start_time": "2022-04-10T18:28:03.617Z"
   },
   {
    "duration": 157,
    "start_time": "2022-04-10T18:28:03.629Z"
   },
   {
    "duration": 21,
    "start_time": "2022-04-10T18:28:03.788Z"
   },
   {
    "duration": 157,
    "start_time": "2022-04-10T18:28:03.811Z"
   },
   {
    "duration": 3,
    "start_time": "2022-04-10T18:28:03.969Z"
   },
   {
    "duration": 17,
    "start_time": "2022-04-10T18:28:03.974Z"
   },
   {
    "duration": 105,
    "start_time": "2022-04-10T18:28:03.993Z"
   },
   {
    "duration": 16,
    "start_time": "2022-04-10T18:28:04.109Z"
   },
   {
    "duration": 111,
    "start_time": "2022-04-10T18:28:04.127Z"
   },
   {
    "duration": 22,
    "start_time": "2022-04-10T18:28:04.240Z"
   },
   {
    "duration": 103,
    "start_time": "2022-04-10T18:28:04.264Z"
   },
   {
    "duration": 15,
    "start_time": "2022-04-10T18:28:04.369Z"
   },
   {
    "duration": 32,
    "start_time": "2022-04-10T18:28:04.386Z"
   },
   {
    "duration": 17,
    "start_time": "2022-04-10T18:28:04.420Z"
   },
   {
    "duration": 15,
    "start_time": "2022-04-10T18:28:04.439Z"
   },
   {
    "duration": 15,
    "start_time": "2022-04-10T18:28:04.455Z"
   },
   {
    "duration": 46,
    "start_time": "2022-04-10T18:28:04.472Z"
   },
   {
    "duration": 10,
    "start_time": "2022-04-10T18:28:04.520Z"
   },
   {
    "duration": 9,
    "start_time": "2022-04-10T18:28:04.531Z"
   },
   {
    "duration": 7,
    "start_time": "2022-04-10T18:28:04.542Z"
   },
   {
    "duration": 10,
    "start_time": "2022-04-10T18:28:04.551Z"
   },
   {
    "duration": 7,
    "start_time": "2022-04-10T18:28:04.563Z"
   },
   {
    "duration": 8,
    "start_time": "2022-04-10T18:28:04.609Z"
   },
   {
    "duration": 15,
    "start_time": "2022-04-10T18:28:38.964Z"
   },
   {
    "duration": 2049,
    "start_time": "2022-04-10T18:29:30.107Z"
   },
   {
    "duration": 1245,
    "start_time": "2022-04-10T18:30:05.089Z"
   },
   {
    "duration": 54,
    "start_time": "2022-04-10T18:30:06.336Z"
   },
   {
    "duration": 5,
    "start_time": "2022-04-10T18:30:06.391Z"
   },
   {
    "duration": 16,
    "start_time": "2022-04-10T18:30:06.410Z"
   },
   {
    "duration": 3,
    "start_time": "2022-04-10T18:30:06.428Z"
   },
   {
    "duration": 16,
    "start_time": "2022-04-10T18:30:06.433Z"
   },
   {
    "duration": 8,
    "start_time": "2022-04-10T18:30:06.451Z"
   },
   {
    "duration": 9,
    "start_time": "2022-04-10T18:30:06.461Z"
   },
   {
    "duration": 255,
    "start_time": "2022-04-10T18:30:06.472Z"
   },
   {
    "duration": 4,
    "start_time": "2022-04-10T18:30:06.731Z"
   },
   {
    "duration": 8,
    "start_time": "2022-04-10T18:30:06.737Z"
   },
   {
    "duration": 11,
    "start_time": "2022-04-10T18:30:06.747Z"
   },
   {
    "duration": 9,
    "start_time": "2022-04-10T18:30:06.761Z"
   },
   {
    "duration": 39,
    "start_time": "2022-04-10T18:30:06.773Z"
   },
   {
    "duration": 11,
    "start_time": "2022-04-10T18:30:06.814Z"
   },
   {
    "duration": 14,
    "start_time": "2022-04-10T18:30:06.827Z"
   },
   {
    "duration": 9,
    "start_time": "2022-04-10T18:30:06.843Z"
   },
   {
    "duration": 364,
    "start_time": "2022-04-10T18:30:06.854Z"
   },
   {
    "duration": 5,
    "start_time": "2022-04-10T18:30:07.220Z"
   },
   {
    "duration": 11,
    "start_time": "2022-04-10T18:30:07.227Z"
   },
   {
    "duration": 7,
    "start_time": "2022-04-10T18:30:07.239Z"
   },
   {
    "duration": 46,
    "start_time": "2022-04-10T18:30:07.248Z"
   },
   {
    "duration": 5,
    "start_time": "2022-04-10T18:30:07.296Z"
   },
   {
    "duration": 9,
    "start_time": "2022-04-10T18:30:07.303Z"
   },
   {
    "duration": 7,
    "start_time": "2022-04-10T18:30:07.314Z"
   },
   {
    "duration": 10,
    "start_time": "2022-04-10T18:30:07.323Z"
   },
   {
    "duration": 6,
    "start_time": "2022-04-10T18:30:07.336Z"
   },
   {
    "duration": 24,
    "start_time": "2022-04-10T18:30:07.348Z"
   },
   {
    "duration": 51,
    "start_time": "2022-04-10T18:30:07.374Z"
   },
   {
    "duration": 17,
    "start_time": "2022-04-10T18:30:07.427Z"
   },
   {
    "duration": 1520,
    "start_time": "2022-04-10T18:30:07.446Z"
   },
   {
    "duration": 9,
    "start_time": "2022-04-10T18:30:08.968Z"
   },
   {
    "duration": 5,
    "start_time": "2022-04-10T18:30:08.979Z"
   },
   {
    "duration": 38,
    "start_time": "2022-04-10T18:30:08.986Z"
   },
   {
    "duration": 350,
    "start_time": "2022-04-10T18:30:09.026Z"
   },
   {
    "duration": 1409,
    "start_time": "2022-04-10T18:30:09.378Z"
   },
   {
    "duration": 235,
    "start_time": "2022-04-10T18:30:10.789Z"
   },
   {
    "duration": 8,
    "start_time": "2022-04-10T18:30:11.026Z"
   },
   {
    "duration": 15,
    "start_time": "2022-04-10T18:30:11.036Z"
   },
   {
    "duration": 356,
    "start_time": "2022-04-10T18:30:11.053Z"
   },
   {
    "duration": 14,
    "start_time": "2022-04-10T18:30:11.411Z"
   },
   {
    "duration": 302,
    "start_time": "2022-04-10T18:30:11.427Z"
   },
   {
    "duration": 3,
    "start_time": "2022-04-10T18:30:11.731Z"
   },
   {
    "duration": 74,
    "start_time": "2022-04-10T18:30:11.737Z"
   },
   {
    "duration": 207,
    "start_time": "2022-04-10T18:30:11.813Z"
   },
   {
    "duration": 16,
    "start_time": "2022-04-10T18:30:12.022Z"
   },
   {
    "duration": 201,
    "start_time": "2022-04-10T18:30:12.040Z"
   },
   {
    "duration": 69,
    "start_time": "2022-04-10T18:30:12.243Z"
   },
   {
    "duration": 138,
    "start_time": "2022-04-10T18:30:12.314Z"
   },
   {
    "duration": 17,
    "start_time": "2022-04-10T18:30:12.508Z"
   },
   {
    "duration": 16,
    "start_time": "2022-04-10T18:30:12.527Z"
   },
   {
    "duration": 76,
    "start_time": "2022-04-10T18:30:12.545Z"
   },
   {
    "duration": 16,
    "start_time": "2022-04-10T18:30:12.622Z"
   },
   {
    "duration": 73,
    "start_time": "2022-04-10T18:30:12.640Z"
   },
   {
    "duration": 22,
    "start_time": "2022-04-10T18:30:12.715Z"
   },
   {
    "duration": 10,
    "start_time": "2022-04-10T18:30:12.739Z"
   },
   {
    "duration": 13,
    "start_time": "2022-04-10T18:30:12.750Z"
   },
   {
    "duration": 9,
    "start_time": "2022-04-10T18:30:12.765Z"
   },
   {
    "duration": 39,
    "start_time": "2022-04-10T18:30:12.776Z"
   },
   {
    "duration": 7,
    "start_time": "2022-04-10T18:30:12.817Z"
   },
   {
    "duration": 8,
    "start_time": "2022-04-10T18:30:12.825Z"
   },
   {
    "duration": 1479,
    "start_time": "2022-04-10T18:30:38.878Z"
   },
   {
    "duration": 22,
    "start_time": "2022-04-10T18:33:25.686Z"
   },
   {
    "duration": 49,
    "start_time": "2022-04-10T18:33:34.574Z"
   },
   {
    "duration": 1153,
    "start_time": "2022-04-10T18:33:52.465Z"
   },
   {
    "duration": 53,
    "start_time": "2022-04-10T18:33:53.620Z"
   },
   {
    "duration": 5,
    "start_time": "2022-04-10T18:33:53.675Z"
   },
   {
    "duration": 28,
    "start_time": "2022-04-10T18:33:53.682Z"
   },
   {
    "duration": 3,
    "start_time": "2022-04-10T18:33:53.712Z"
   },
   {
    "duration": 16,
    "start_time": "2022-04-10T18:33:53.717Z"
   },
   {
    "duration": 8,
    "start_time": "2022-04-10T18:33:53.735Z"
   },
   {
    "duration": 7,
    "start_time": "2022-04-10T18:33:53.745Z"
   },
   {
    "duration": 220,
    "start_time": "2022-04-10T18:33:53.755Z"
   },
   {
    "duration": 3,
    "start_time": "2022-04-10T18:33:53.979Z"
   },
   {
    "duration": 9,
    "start_time": "2022-04-10T18:33:53.983Z"
   },
   {
    "duration": 16,
    "start_time": "2022-04-10T18:33:53.994Z"
   },
   {
    "duration": 10,
    "start_time": "2022-04-10T18:33:54.012Z"
   },
   {
    "duration": 9,
    "start_time": "2022-04-10T18:33:54.023Z"
   },
   {
    "duration": 9,
    "start_time": "2022-04-10T18:33:54.033Z"
   },
   {
    "duration": 9,
    "start_time": "2022-04-10T18:33:54.043Z"
   },
   {
    "duration": 9,
    "start_time": "2022-04-10T18:33:54.054Z"
   },
   {
    "duration": 350,
    "start_time": "2022-04-10T18:33:54.064Z"
   },
   {
    "duration": 6,
    "start_time": "2022-04-10T18:33:54.416Z"
   },
   {
    "duration": 14,
    "start_time": "2022-04-10T18:33:54.423Z"
   },
   {
    "duration": 7,
    "start_time": "2022-04-10T18:33:54.439Z"
   },
   {
    "duration": 6,
    "start_time": "2022-04-10T18:33:54.449Z"
   },
   {
    "duration": 6,
    "start_time": "2022-04-10T18:33:54.457Z"
   },
   {
    "duration": 44,
    "start_time": "2022-04-10T18:33:54.466Z"
   },
   {
    "duration": 6,
    "start_time": "2022-04-10T18:33:54.512Z"
   },
   {
    "duration": 10,
    "start_time": "2022-04-10T18:33:54.520Z"
   },
   {
    "duration": 5,
    "start_time": "2022-04-10T18:33:54.532Z"
   },
   {
    "duration": 21,
    "start_time": "2022-04-10T18:33:54.540Z"
   },
   {
    "duration": 17,
    "start_time": "2022-04-10T18:33:54.563Z"
   },
   {
    "duration": 42,
    "start_time": "2022-04-10T18:33:54.582Z"
   },
   {
    "duration": 1430,
    "start_time": "2022-04-10T18:33:54.626Z"
   },
   {
    "duration": 7,
    "start_time": "2022-04-10T18:33:56.058Z"
   },
   {
    "duration": 4,
    "start_time": "2022-04-10T18:33:56.066Z"
   },
   {
    "duration": 37,
    "start_time": "2022-04-10T18:33:56.072Z"
   },
   {
    "duration": 132,
    "start_time": "2022-04-10T18:33:56.111Z"
   },
   {
    "duration": 245,
    "start_time": "2022-04-10T18:33:56.245Z"
   },
   {
    "duration": 1263,
    "start_time": "2022-04-10T18:33:56.492Z"
   },
   {
    "duration": 179,
    "start_time": "2022-04-10T18:33:57.758Z"
   },
   {
    "duration": 9,
    "start_time": "2022-04-10T18:33:57.939Z"
   },
   {
    "duration": 11,
    "start_time": "2022-04-10T18:33:57.950Z"
   },
   {
    "duration": 260,
    "start_time": "2022-04-10T18:33:57.962Z"
   },
   {
    "duration": 12,
    "start_time": "2022-04-10T18:33:58.224Z"
   },
   {
    "duration": 392,
    "start_time": "2022-04-10T18:33:58.238Z"
   },
   {
    "duration": 3,
    "start_time": "2022-04-10T18:33:58.631Z"
   },
   {
    "duration": 18,
    "start_time": "2022-04-10T18:33:58.636Z"
   },
   {
    "duration": 200,
    "start_time": "2022-04-10T18:33:58.709Z"
   },
   {
    "duration": 15,
    "start_time": "2022-04-10T18:33:58.911Z"
   },
   {
    "duration": 191,
    "start_time": "2022-04-10T18:33:58.928Z"
   },
   {
    "duration": 17,
    "start_time": "2022-04-10T18:33:59.121Z"
   },
   {
    "duration": 179,
    "start_time": "2022-04-10T18:33:59.140Z"
   },
   {
    "duration": 15,
    "start_time": "2022-04-10T18:33:59.321Z"
   },
   {
    "duration": 15,
    "start_time": "2022-04-10T18:33:59.337Z"
   },
   {
    "duration": 18,
    "start_time": "2022-04-10T18:33:59.409Z"
   },
   {
    "duration": 14,
    "start_time": "2022-04-10T18:33:59.428Z"
   },
   {
    "duration": 67,
    "start_time": "2022-04-10T18:33:59.443Z"
   },
   {
    "duration": 17,
    "start_time": "2022-04-10T18:33:59.511Z"
   },
   {
    "duration": 9,
    "start_time": "2022-04-10T18:33:59.529Z"
   },
   {
    "duration": 8,
    "start_time": "2022-04-10T18:33:59.539Z"
   },
   {
    "duration": 63,
    "start_time": "2022-04-10T18:33:59.549Z"
   },
   {
    "duration": 12,
    "start_time": "2022-04-10T18:33:59.614Z"
   },
   {
    "duration": 6,
    "start_time": "2022-04-10T18:33:59.628Z"
   },
   {
    "duration": 7,
    "start_time": "2022-04-10T18:33:59.636Z"
   },
   {
    "duration": 1220,
    "start_time": "2022-04-10T19:32:03.390Z"
   },
   {
    "duration": 51,
    "start_time": "2022-04-10T19:32:04.611Z"
   },
   {
    "duration": 3,
    "start_time": "2022-04-10T19:32:04.664Z"
   },
   {
    "duration": 16,
    "start_time": "2022-04-10T19:32:04.670Z"
   },
   {
    "duration": 22,
    "start_time": "2022-04-10T19:32:04.688Z"
   },
   {
    "duration": 16,
    "start_time": "2022-04-10T19:32:04.712Z"
   },
   {
    "duration": 6,
    "start_time": "2022-04-10T19:32:04.730Z"
   },
   {
    "duration": 8,
    "start_time": "2022-04-10T19:32:04.738Z"
   },
   {
    "duration": 219,
    "start_time": "2022-04-10T19:32:04.747Z"
   },
   {
    "duration": 4,
    "start_time": "2022-04-10T19:32:04.970Z"
   },
   {
    "duration": 7,
    "start_time": "2022-04-10T19:32:04.975Z"
   },
   {
    "duration": 7,
    "start_time": "2022-04-10T19:32:04.984Z"
   },
   {
    "duration": 10,
    "start_time": "2022-04-10T19:32:05.009Z"
   },
   {
    "duration": 10,
    "start_time": "2022-04-10T19:32:05.020Z"
   },
   {
    "duration": 7,
    "start_time": "2022-04-10T19:32:05.033Z"
   },
   {
    "duration": 9,
    "start_time": "2022-04-10T19:32:05.042Z"
   },
   {
    "duration": 9,
    "start_time": "2022-04-10T19:32:05.052Z"
   },
   {
    "duration": 346,
    "start_time": "2022-04-10T19:32:05.063Z"
   },
   {
    "duration": 7,
    "start_time": "2022-04-10T19:32:05.410Z"
   },
   {
    "duration": 13,
    "start_time": "2022-04-10T19:32:05.419Z"
   },
   {
    "duration": 8,
    "start_time": "2022-04-10T19:32:05.434Z"
   },
   {
    "duration": 7,
    "start_time": "2022-04-10T19:32:05.444Z"
   },
   {
    "duration": 6,
    "start_time": "2022-04-10T19:32:05.453Z"
   },
   {
    "duration": 48,
    "start_time": "2022-04-10T19:32:05.461Z"
   },
   {
    "duration": 9,
    "start_time": "2022-04-10T19:32:05.511Z"
   },
   {
    "duration": 11,
    "start_time": "2022-04-10T19:32:05.522Z"
   },
   {
    "duration": 4,
    "start_time": "2022-04-10T19:32:05.535Z"
   },
   {
    "duration": 16,
    "start_time": "2022-04-10T19:32:05.544Z"
   },
   {
    "duration": 48,
    "start_time": "2022-04-10T19:32:05.562Z"
   },
   {
    "duration": 19,
    "start_time": "2022-04-10T19:32:05.612Z"
   },
   {
    "duration": 1487,
    "start_time": "2022-04-10T19:32:05.633Z"
   },
   {
    "duration": 7,
    "start_time": "2022-04-10T19:32:07.122Z"
   },
   {
    "duration": 6,
    "start_time": "2022-04-10T19:32:07.130Z"
   },
   {
    "duration": 17,
    "start_time": "2022-04-10T19:32:07.138Z"
   },
   {
    "duration": 146,
    "start_time": "2022-04-10T19:32:07.157Z"
   },
   {
    "duration": 238,
    "start_time": "2022-04-10T19:32:07.304Z"
   },
   {
    "duration": 1266,
    "start_time": "2022-04-10T19:32:07.544Z"
   },
   {
    "duration": 166,
    "start_time": "2022-04-10T19:32:08.812Z"
   },
   {
    "duration": 7,
    "start_time": "2022-04-10T19:32:08.980Z"
   },
   {
    "duration": 26,
    "start_time": "2022-04-10T19:32:08.989Z"
   },
   {
    "duration": 149,
    "start_time": "2022-04-10T19:32:09.017Z"
   },
   {
    "duration": 10,
    "start_time": "2022-04-10T19:32:09.168Z"
   },
   {
    "duration": 151,
    "start_time": "2022-04-10T19:32:09.180Z"
   },
   {
    "duration": 3,
    "start_time": "2022-04-10T19:32:09.333Z"
   },
   {
    "duration": 17,
    "start_time": "2022-04-10T19:32:09.337Z"
   },
   {
    "duration": 106,
    "start_time": "2022-04-10T19:32:09.355Z"
   },
   {
    "duration": 14,
    "start_time": "2022-04-10T19:32:09.463Z"
   },
   {
    "duration": 101,
    "start_time": "2022-04-10T19:32:09.479Z"
   },
   {
    "duration": 28,
    "start_time": "2022-04-10T19:32:09.582Z"
   },
   {
    "duration": 78,
    "start_time": "2022-04-10T19:32:09.611Z"
   },
   {
    "duration": 29,
    "start_time": "2022-04-10T19:32:09.690Z"
   },
   {
    "duration": 14,
    "start_time": "2022-04-10T19:32:09.721Z"
   },
   {
    "duration": 17,
    "start_time": "2022-04-10T19:32:09.736Z"
   },
   {
    "duration": 13,
    "start_time": "2022-04-10T19:32:09.754Z"
   },
   {
    "duration": 42,
    "start_time": "2022-04-10T19:32:09.768Z"
   },
   {
    "duration": 16,
    "start_time": "2022-04-10T19:32:09.812Z"
   },
   {
    "duration": 8,
    "start_time": "2022-04-10T19:32:09.829Z"
   },
   {
    "duration": 10,
    "start_time": "2022-04-10T19:32:09.838Z"
   },
   {
    "duration": 7,
    "start_time": "2022-04-10T19:32:09.849Z"
   },
   {
    "duration": 9,
    "start_time": "2022-04-10T19:32:09.858Z"
   },
   {
    "duration": 43,
    "start_time": "2022-04-10T19:32:09.868Z"
   },
   {
    "duration": 8,
    "start_time": "2022-04-10T19:32:09.913Z"
   },
   {
    "duration": 122,
    "start_time": "2022-04-10T19:33:06.446Z"
   },
   {
    "duration": 131,
    "start_time": "2022-04-10T19:33:27.448Z"
   },
   {
    "duration": 178,
    "start_time": "2022-04-10T19:33:38.643Z"
   },
   {
    "duration": 9,
    "start_time": "2022-04-10T19:34:10.381Z"
   },
   {
    "duration": 60,
    "start_time": "2022-04-10T19:35:45.921Z"
   },
   {
    "duration": 9,
    "start_time": "2022-04-10T19:42:43.192Z"
   },
   {
    "duration": 1083,
    "start_time": "2022-04-10T19:42:50.213Z"
   },
   {
    "duration": 51,
    "start_time": "2022-04-10T19:42:51.298Z"
   },
   {
    "duration": 4,
    "start_time": "2022-04-10T19:42:51.351Z"
   },
   {
    "duration": 15,
    "start_time": "2022-04-10T19:42:51.357Z"
   },
   {
    "duration": 3,
    "start_time": "2022-04-10T19:42:51.374Z"
   },
   {
    "duration": 36,
    "start_time": "2022-04-10T19:42:51.378Z"
   },
   {
    "duration": 6,
    "start_time": "2022-04-10T19:42:51.416Z"
   },
   {
    "duration": 7,
    "start_time": "2022-04-10T19:42:51.423Z"
   },
   {
    "duration": 196,
    "start_time": "2022-04-10T19:42:51.432Z"
   },
   {
    "duration": 3,
    "start_time": "2022-04-10T19:42:51.632Z"
   },
   {
    "duration": 5,
    "start_time": "2022-04-10T19:42:51.637Z"
   },
   {
    "duration": 7,
    "start_time": "2022-04-10T19:42:51.644Z"
   },
   {
    "duration": 9,
    "start_time": "2022-04-10T19:42:51.652Z"
   },
   {
    "duration": 9,
    "start_time": "2022-04-10T19:42:51.662Z"
   },
   {
    "duration": 37,
    "start_time": "2022-04-10T19:42:51.673Z"
   },
   {
    "duration": 8,
    "start_time": "2022-04-10T19:42:51.711Z"
   },
   {
    "duration": 7,
    "start_time": "2022-04-10T19:42:51.721Z"
   },
   {
    "duration": 294,
    "start_time": "2022-04-10T19:42:51.730Z"
   },
   {
    "duration": 5,
    "start_time": "2022-04-10T19:42:52.026Z"
   },
   {
    "duration": 9,
    "start_time": "2022-04-10T19:42:52.033Z"
   },
   {
    "duration": 7,
    "start_time": "2022-04-10T19:42:52.043Z"
   },
   {
    "duration": 6,
    "start_time": "2022-04-10T19:42:52.052Z"
   },
   {
    "duration": 7,
    "start_time": "2022-04-10T19:42:52.059Z"
   },
   {
    "duration": 7,
    "start_time": "2022-04-10T19:42:52.068Z"
   },
   {
    "duration": 39,
    "start_time": "2022-04-10T19:42:52.076Z"
   },
   {
    "duration": 10,
    "start_time": "2022-04-10T19:42:52.117Z"
   },
   {
    "duration": 4,
    "start_time": "2022-04-10T19:42:52.128Z"
   },
   {
    "duration": 16,
    "start_time": "2022-04-10T19:42:52.136Z"
   },
   {
    "duration": 17,
    "start_time": "2022-04-10T19:42:52.153Z"
   },
   {
    "duration": 51,
    "start_time": "2022-04-10T19:42:52.172Z"
   },
   {
    "duration": 1411,
    "start_time": "2022-04-10T19:42:52.224Z"
   },
   {
    "duration": 7,
    "start_time": "2022-04-10T19:42:53.637Z"
   },
   {
    "duration": 5,
    "start_time": "2022-04-10T19:42:53.646Z"
   },
   {
    "duration": 17,
    "start_time": "2022-04-10T19:42:53.652Z"
   },
   {
    "duration": 151,
    "start_time": "2022-04-10T19:42:53.670Z"
   },
   {
    "duration": 229,
    "start_time": "2022-04-10T19:42:53.823Z"
   },
   {
    "duration": 1240,
    "start_time": "2022-04-10T19:42:54.053Z"
   },
   {
    "duration": 164,
    "start_time": "2022-04-10T19:42:55.294Z"
   },
   {
    "duration": 6,
    "start_time": "2022-04-10T19:42:55.460Z"
   },
   {
    "duration": 16,
    "start_time": "2022-04-10T19:42:55.467Z"
   },
   {
    "duration": 138,
    "start_time": "2022-04-10T19:42:55.484Z"
   },
   {
    "duration": 10,
    "start_time": "2022-04-10T19:42:55.624Z"
   },
   {
    "duration": 151,
    "start_time": "2022-04-10T19:42:55.636Z"
   },
   {
    "duration": 3,
    "start_time": "2022-04-10T19:42:55.788Z"
   },
   {
    "duration": 25,
    "start_time": "2022-04-10T19:42:55.792Z"
   },
   {
    "duration": 82,
    "start_time": "2022-04-10T19:42:55.819Z"
   },
   {
    "duration": 19,
    "start_time": "2022-04-10T19:42:55.902Z"
   },
   {
    "duration": 100,
    "start_time": "2022-04-10T19:42:55.922Z"
   },
   {
    "duration": 17,
    "start_time": "2022-04-10T19:42:56.023Z"
   },
   {
    "duration": 90,
    "start_time": "2022-04-10T19:42:56.041Z"
   },
   {
    "duration": 13,
    "start_time": "2022-04-10T19:42:56.132Z"
   },
   {
    "duration": 14,
    "start_time": "2022-04-10T19:42:56.147Z"
   },
   {
    "duration": 17,
    "start_time": "2022-04-10T19:42:56.162Z"
   },
   {
    "duration": 40,
    "start_time": "2022-04-10T19:42:56.180Z"
   },
   {
    "duration": 13,
    "start_time": "2022-04-10T19:42:56.222Z"
   },
   {
    "duration": 16,
    "start_time": "2022-04-10T19:42:56.237Z"
   },
   {
    "duration": 7,
    "start_time": "2022-04-10T19:42:56.254Z"
   },
   {
    "duration": 5,
    "start_time": "2022-04-10T19:42:56.263Z"
   },
   {
    "duration": 40,
    "start_time": "2022-04-10T19:42:56.269Z"
   },
   {
    "duration": 8,
    "start_time": "2022-04-10T19:42:56.311Z"
   },
   {
    "duration": 8,
    "start_time": "2022-04-10T19:42:56.321Z"
   },
   {
    "duration": 6,
    "start_time": "2022-04-10T19:42:56.330Z"
   },
   {
    "duration": 64,
    "start_time": "2022-04-10T19:43:48.761Z"
   },
   {
    "duration": 11,
    "start_time": "2022-04-10T19:44:25.006Z"
   },
   {
    "duration": 13,
    "start_time": "2022-04-10T19:44:39.232Z"
   },
   {
    "duration": 1108,
    "start_time": "2022-04-10T19:44:51.154Z"
   },
   {
    "duration": 50,
    "start_time": "2022-04-10T19:44:52.264Z"
   },
   {
    "duration": 4,
    "start_time": "2022-04-10T19:44:52.316Z"
   },
   {
    "duration": 14,
    "start_time": "2022-04-10T19:44:52.322Z"
   },
   {
    "duration": 3,
    "start_time": "2022-04-10T19:44:52.337Z"
   },
   {
    "duration": 14,
    "start_time": "2022-04-10T19:44:52.342Z"
   },
   {
    "duration": 7,
    "start_time": "2022-04-10T19:44:52.357Z"
   },
   {
    "duration": 7,
    "start_time": "2022-04-10T19:44:52.365Z"
   },
   {
    "duration": 211,
    "start_time": "2022-04-10T19:44:52.373Z"
   },
   {
    "duration": 3,
    "start_time": "2022-04-10T19:44:52.587Z"
   },
   {
    "duration": 18,
    "start_time": "2022-04-10T19:44:52.592Z"
   },
   {
    "duration": 6,
    "start_time": "2022-04-10T19:44:52.611Z"
   },
   {
    "duration": 9,
    "start_time": "2022-04-10T19:44:52.619Z"
   },
   {
    "duration": 7,
    "start_time": "2022-04-10T19:44:52.630Z"
   },
   {
    "duration": 7,
    "start_time": "2022-04-10T19:44:52.639Z"
   },
   {
    "duration": 7,
    "start_time": "2022-04-10T19:44:52.648Z"
   },
   {
    "duration": 7,
    "start_time": "2022-04-10T19:44:52.657Z"
   },
   {
    "duration": 328,
    "start_time": "2022-04-10T19:44:52.666Z"
   },
   {
    "duration": 5,
    "start_time": "2022-04-10T19:44:53.008Z"
   },
   {
    "duration": 24,
    "start_time": "2022-04-10T19:44:53.015Z"
   },
   {
    "duration": 6,
    "start_time": "2022-04-10T19:44:53.040Z"
   },
   {
    "duration": 8,
    "start_time": "2022-04-10T19:44:53.048Z"
   },
   {
    "duration": 5,
    "start_time": "2022-04-10T19:44:53.058Z"
   },
   {
    "duration": 6,
    "start_time": "2022-04-10T19:44:53.064Z"
   },
   {
    "duration": 8,
    "start_time": "2022-04-10T19:44:53.071Z"
   },
   {
    "duration": 31,
    "start_time": "2022-04-10T19:44:53.080Z"
   },
   {
    "duration": 4,
    "start_time": "2022-04-10T19:44:53.113Z"
   },
   {
    "duration": 14,
    "start_time": "2022-04-10T19:44:53.120Z"
   },
   {
    "duration": 15,
    "start_time": "2022-04-10T19:44:53.136Z"
   },
   {
    "duration": 15,
    "start_time": "2022-04-10T19:44:53.153Z"
   },
   {
    "duration": 1371,
    "start_time": "2022-04-10T19:44:53.170Z"
   },
   {
    "duration": 7,
    "start_time": "2022-04-10T19:44:54.542Z"
   },
   {
    "duration": 5,
    "start_time": "2022-04-10T19:44:54.551Z"
   },
   {
    "duration": 16,
    "start_time": "2022-04-10T19:44:54.558Z"
   },
   {
    "duration": 141,
    "start_time": "2022-04-10T19:44:54.576Z"
   },
   {
    "duration": 246,
    "start_time": "2022-04-10T19:44:54.719Z"
   },
   {
    "duration": 1208,
    "start_time": "2022-04-10T19:44:54.966Z"
   },
   {
    "duration": 166,
    "start_time": "2022-04-10T19:44:56.175Z"
   },
   {
    "duration": 6,
    "start_time": "2022-04-10T19:44:56.343Z"
   },
   {
    "duration": 14,
    "start_time": "2022-04-10T19:44:56.351Z"
   },
   {
    "duration": 146,
    "start_time": "2022-04-10T19:44:56.367Z"
   },
   {
    "duration": 10,
    "start_time": "2022-04-10T19:44:56.515Z"
   },
   {
    "duration": 154,
    "start_time": "2022-04-10T19:44:56.526Z"
   },
   {
    "duration": 3,
    "start_time": "2022-04-10T19:44:56.682Z"
   },
   {
    "duration": 27,
    "start_time": "2022-04-10T19:44:56.686Z"
   },
   {
    "duration": 80,
    "start_time": "2022-04-10T19:44:56.714Z"
   },
   {
    "duration": 13,
    "start_time": "2022-04-10T19:44:56.808Z"
   },
   {
    "duration": 96,
    "start_time": "2022-04-10T19:44:56.822Z"
   },
   {
    "duration": 16,
    "start_time": "2022-04-10T19:44:56.920Z"
   },
   {
    "duration": 86,
    "start_time": "2022-04-10T19:44:56.938Z"
   },
   {
    "duration": 14,
    "start_time": "2022-04-10T19:44:57.025Z"
   },
   {
    "duration": 13,
    "start_time": "2022-04-10T19:44:57.040Z"
   },
   {
    "duration": 15,
    "start_time": "2022-04-10T19:44:57.055Z"
   },
   {
    "duration": 42,
    "start_time": "2022-04-10T19:44:57.071Z"
   },
   {
    "duration": 14,
    "start_time": "2022-04-10T19:44:57.114Z"
   },
   {
    "duration": 15,
    "start_time": "2022-04-10T19:44:57.129Z"
   },
   {
    "duration": 7,
    "start_time": "2022-04-10T19:44:57.146Z"
   },
   {
    "duration": 7,
    "start_time": "2022-04-10T19:44:57.154Z"
   },
   {
    "duration": 6,
    "start_time": "2022-04-10T19:44:57.162Z"
   },
   {
    "duration": 46,
    "start_time": "2022-04-10T19:44:57.169Z"
   },
   {
    "duration": 8,
    "start_time": "2022-04-10T19:44:57.216Z"
   },
   {
    "duration": 6,
    "start_time": "2022-04-10T19:44:57.225Z"
   },
   {
    "duration": 50,
    "start_time": "2022-04-10T19:49:18.221Z"
   },
   {
    "duration": 24,
    "start_time": "2022-04-10T19:49:40.256Z"
   },
   {
    "duration": 23,
    "start_time": "2022-04-10T19:49:48.343Z"
   },
   {
    "duration": 24,
    "start_time": "2022-04-10T19:49:56.199Z"
   },
   {
    "duration": 1212,
    "start_time": "2022-04-10T19:50:08.092Z"
   },
   {
    "duration": 54,
    "start_time": "2022-04-10T19:50:09.306Z"
   },
   {
    "duration": 4,
    "start_time": "2022-04-10T19:50:09.361Z"
   },
   {
    "duration": 16,
    "start_time": "2022-04-10T19:50:09.367Z"
   },
   {
    "duration": 2,
    "start_time": "2022-04-10T19:50:09.385Z"
   },
   {
    "duration": 32,
    "start_time": "2022-04-10T19:50:09.388Z"
   },
   {
    "duration": 9,
    "start_time": "2022-04-10T19:50:09.421Z"
   },
   {
    "duration": 7,
    "start_time": "2022-04-10T19:50:09.432Z"
   },
   {
    "duration": 218,
    "start_time": "2022-04-10T19:50:09.441Z"
   },
   {
    "duration": 3,
    "start_time": "2022-04-10T19:50:09.662Z"
   },
   {
    "duration": 5,
    "start_time": "2022-04-10T19:50:09.667Z"
   },
   {
    "duration": 8,
    "start_time": "2022-04-10T19:50:09.674Z"
   },
   {
    "duration": 27,
    "start_time": "2022-04-10T19:50:09.683Z"
   },
   {
    "duration": 9,
    "start_time": "2022-04-10T19:50:09.712Z"
   },
   {
    "duration": 8,
    "start_time": "2022-04-10T19:50:09.723Z"
   },
   {
    "duration": 9,
    "start_time": "2022-04-10T19:50:09.732Z"
   },
   {
    "duration": 9,
    "start_time": "2022-04-10T19:50:09.742Z"
   },
   {
    "duration": 362,
    "start_time": "2022-04-10T19:50:09.753Z"
   },
   {
    "duration": 5,
    "start_time": "2022-04-10T19:50:10.117Z"
   },
   {
    "duration": 10,
    "start_time": "2022-04-10T19:50:10.124Z"
   },
   {
    "duration": 8,
    "start_time": "2022-04-10T19:50:10.136Z"
   },
   {
    "duration": 6,
    "start_time": "2022-04-10T19:50:10.145Z"
   },
   {
    "duration": 5,
    "start_time": "2022-04-10T19:50:10.152Z"
   },
   {
    "duration": 7,
    "start_time": "2022-04-10T19:50:10.159Z"
   },
   {
    "duration": 43,
    "start_time": "2022-04-10T19:50:10.167Z"
   },
   {
    "duration": 12,
    "start_time": "2022-04-10T19:50:10.212Z"
   },
   {
    "duration": 5,
    "start_time": "2022-04-10T19:50:10.225Z"
   },
   {
    "duration": 25,
    "start_time": "2022-04-10T19:50:10.234Z"
   },
   {
    "duration": 20,
    "start_time": "2022-04-10T19:50:10.261Z"
   },
   {
    "duration": 47,
    "start_time": "2022-04-10T19:50:10.283Z"
   },
   {
    "duration": 1456,
    "start_time": "2022-04-10T19:50:10.332Z"
   },
   {
    "duration": 19,
    "start_time": "2022-04-10T19:50:11.790Z"
   },
   {
    "duration": 4,
    "start_time": "2022-04-10T19:50:11.810Z"
   },
   {
    "duration": 19,
    "start_time": "2022-04-10T19:50:11.815Z"
   },
   {
    "duration": 119,
    "start_time": "2022-04-10T19:50:11.836Z"
   },
   {
    "duration": 254,
    "start_time": "2022-04-10T19:50:11.956Z"
   },
   {
    "duration": 1298,
    "start_time": "2022-04-10T19:50:12.212Z"
   },
   {
    "duration": 166,
    "start_time": "2022-04-10T19:50:13.512Z"
   },
   {
    "duration": 8,
    "start_time": "2022-04-10T19:50:13.680Z"
   },
   {
    "duration": 23,
    "start_time": "2022-04-10T19:50:13.689Z"
   },
   {
    "duration": 155,
    "start_time": "2022-04-10T19:50:13.713Z"
   },
   {
    "duration": 11,
    "start_time": "2022-04-10T19:50:13.870Z"
   },
   {
    "duration": 166,
    "start_time": "2022-04-10T19:50:13.882Z"
   },
   {
    "duration": 4,
    "start_time": "2022-04-10T19:50:14.049Z"
   },
   {
    "duration": 21,
    "start_time": "2022-04-10T19:50:14.054Z"
   },
   {
    "duration": 108,
    "start_time": "2022-04-10T19:50:14.077Z"
   },
   {
    "duration": 24,
    "start_time": "2022-04-10T19:50:14.186Z"
   },
   {
    "duration": 100,
    "start_time": "2022-04-10T19:50:14.212Z"
   },
   {
    "duration": 38,
    "start_time": "2022-04-10T19:50:14.313Z"
   },
   {
    "duration": 94,
    "start_time": "2022-04-10T19:50:14.353Z"
   },
   {
    "duration": 15,
    "start_time": "2022-04-10T19:50:14.448Z"
   },
   {
    "duration": 20,
    "start_time": "2022-04-10T19:50:14.465Z"
   },
   {
    "duration": 27,
    "start_time": "2022-04-10T19:50:14.487Z"
   },
   {
    "duration": 13,
    "start_time": "2022-04-10T19:50:14.516Z"
   },
   {
    "duration": 14,
    "start_time": "2022-04-10T19:50:14.531Z"
   },
   {
    "duration": 19,
    "start_time": "2022-04-10T19:50:14.546Z"
   },
   {
    "duration": 9,
    "start_time": "2022-04-10T19:50:14.566Z"
   },
   {
    "duration": 35,
    "start_time": "2022-04-10T19:50:14.576Z"
   },
   {
    "duration": 7,
    "start_time": "2022-04-10T19:50:14.613Z"
   },
   {
    "duration": 19,
    "start_time": "2022-04-10T19:50:14.622Z"
   },
   {
    "duration": 7,
    "start_time": "2022-04-10T19:50:14.643Z"
   },
   {
    "duration": 21,
    "start_time": "2022-04-10T19:50:14.652Z"
   },
   {
    "duration": 1103,
    "start_time": "2022-04-10T19:52:27.703Z"
   },
   {
    "duration": 50,
    "start_time": "2022-04-10T19:52:28.809Z"
   },
   {
    "duration": 4,
    "start_time": "2022-04-10T19:52:28.861Z"
   },
   {
    "duration": 16,
    "start_time": "2022-04-10T19:52:28.866Z"
   },
   {
    "duration": 3,
    "start_time": "2022-04-10T19:52:28.883Z"
   },
   {
    "duration": 14,
    "start_time": "2022-04-10T19:52:28.908Z"
   },
   {
    "duration": 7,
    "start_time": "2022-04-10T19:52:28.923Z"
   },
   {
    "duration": 7,
    "start_time": "2022-04-10T19:52:28.932Z"
   },
   {
    "duration": 195,
    "start_time": "2022-04-10T19:52:28.942Z"
   },
   {
    "duration": 3,
    "start_time": "2022-04-10T19:52:29.138Z"
   },
   {
    "duration": 8,
    "start_time": "2022-04-10T19:52:29.143Z"
   },
   {
    "duration": 7,
    "start_time": "2022-04-10T19:52:29.152Z"
   },
   {
    "duration": 9,
    "start_time": "2022-04-10T19:52:29.160Z"
   },
   {
    "duration": 12,
    "start_time": "2022-04-10T19:52:29.170Z"
   },
   {
    "duration": 30,
    "start_time": "2022-04-10T19:52:29.184Z"
   },
   {
    "duration": 7,
    "start_time": "2022-04-10T19:52:29.216Z"
   },
   {
    "duration": 9,
    "start_time": "2022-04-10T19:52:29.224Z"
   },
   {
    "duration": 345,
    "start_time": "2022-04-10T19:52:29.234Z"
   },
   {
    "duration": 5,
    "start_time": "2022-04-10T19:52:29.580Z"
   },
   {
    "duration": 22,
    "start_time": "2022-04-10T19:52:29.587Z"
   },
   {
    "duration": 8,
    "start_time": "2022-04-10T19:52:29.610Z"
   },
   {
    "duration": 7,
    "start_time": "2022-04-10T19:52:29.619Z"
   },
   {
    "duration": 6,
    "start_time": "2022-04-10T19:52:29.627Z"
   },
   {
    "duration": 8,
    "start_time": "2022-04-10T19:52:29.634Z"
   },
   {
    "duration": 6,
    "start_time": "2022-04-10T19:52:29.644Z"
   },
   {
    "duration": 9,
    "start_time": "2022-04-10T19:52:29.651Z"
   },
   {
    "duration": 4,
    "start_time": "2022-04-10T19:52:29.664Z"
   },
   {
    "duration": 53,
    "start_time": "2022-04-10T19:52:29.669Z"
   },
   {
    "duration": 16,
    "start_time": "2022-04-10T19:52:29.723Z"
   },
   {
    "duration": 15,
    "start_time": "2022-04-10T19:52:29.740Z"
   },
   {
    "duration": 1281,
    "start_time": "2022-04-10T19:52:29.757Z"
   },
   {
    "duration": 7,
    "start_time": "2022-04-10T19:52:31.040Z"
   },
   {
    "duration": 9,
    "start_time": "2022-04-10T19:52:31.049Z"
   },
   {
    "duration": 15,
    "start_time": "2022-04-10T19:52:31.059Z"
   },
   {
    "duration": 39,
    "start_time": "2022-04-10T19:52:31.076Z"
   },
   {
    "duration": 312,
    "start_time": "2022-04-10T19:52:31.116Z"
   },
   {
    "duration": 1106,
    "start_time": "2022-04-10T19:52:31.429Z"
   },
   {
    "duration": 249,
    "start_time": "2022-04-10T19:52:32.537Z"
   },
   {
    "duration": 7,
    "start_time": "2022-04-10T19:52:32.788Z"
   },
   {
    "duration": 15,
    "start_time": "2022-04-10T19:52:32.797Z"
   },
   {
    "duration": 139,
    "start_time": "2022-04-10T19:52:32.814Z"
   },
   {
    "duration": 11,
    "start_time": "2022-04-10T19:52:32.954Z"
   },
   {
    "duration": 143,
    "start_time": "2022-04-10T19:52:32.967Z"
   },
   {
    "duration": 3,
    "start_time": "2022-04-10T19:52:33.112Z"
   },
   {
    "duration": 17,
    "start_time": "2022-04-10T19:52:33.117Z"
   },
   {
    "duration": 98,
    "start_time": "2022-04-10T19:52:33.136Z"
   },
   {
    "duration": 13,
    "start_time": "2022-04-10T19:52:33.236Z"
   },
   {
    "duration": 99,
    "start_time": "2022-04-10T19:52:33.250Z"
   },
   {
    "duration": 17,
    "start_time": "2022-04-10T19:52:33.351Z"
   },
   {
    "duration": 90,
    "start_time": "2022-04-10T19:52:33.369Z"
   },
   {
    "duration": 13,
    "start_time": "2022-04-10T19:52:33.460Z"
   },
   {
    "duration": 12,
    "start_time": "2022-04-10T19:52:33.475Z"
   },
   {
    "duration": 15,
    "start_time": "2022-04-10T19:52:33.509Z"
   },
   {
    "duration": 13,
    "start_time": "2022-04-10T19:52:33.525Z"
   },
   {
    "duration": 14,
    "start_time": "2022-04-10T19:52:33.539Z"
   },
   {
    "duration": 15,
    "start_time": "2022-04-10T19:52:33.554Z"
   },
   {
    "duration": 8,
    "start_time": "2022-04-10T19:52:33.570Z"
   },
   {
    "duration": 34,
    "start_time": "2022-04-10T19:52:33.579Z"
   },
   {
    "duration": 9,
    "start_time": "2022-04-10T19:52:33.615Z"
   },
   {
    "duration": 8,
    "start_time": "2022-04-10T19:52:33.625Z"
   },
   {
    "duration": 5,
    "start_time": "2022-04-10T19:52:33.635Z"
   },
   {
    "duration": 5,
    "start_time": "2022-04-10T19:52:33.642Z"
   },
   {
    "duration": 14,
    "start_time": "2022-04-10T19:54:44.907Z"
   },
   {
    "duration": 1706,
    "start_time": "2022-04-10T19:54:45.635Z"
   },
   {
    "duration": 1096,
    "start_time": "2022-04-10T19:54:54.304Z"
   },
   {
    "duration": 55,
    "start_time": "2022-04-10T19:54:55.402Z"
   },
   {
    "duration": 4,
    "start_time": "2022-04-10T19:54:55.458Z"
   },
   {
    "duration": 17,
    "start_time": "2022-04-10T19:54:55.463Z"
   },
   {
    "duration": 2,
    "start_time": "2022-04-10T19:54:55.482Z"
   },
   {
    "duration": 27,
    "start_time": "2022-04-10T19:54:55.486Z"
   },
   {
    "duration": 5,
    "start_time": "2022-04-10T19:54:55.515Z"
   },
   {
    "duration": 7,
    "start_time": "2022-04-10T19:54:55.522Z"
   },
   {
    "duration": 201,
    "start_time": "2022-04-10T19:54:55.530Z"
   },
   {
    "duration": 4,
    "start_time": "2022-04-10T19:54:55.733Z"
   },
   {
    "duration": 8,
    "start_time": "2022-04-10T19:54:55.738Z"
   },
   {
    "duration": 7,
    "start_time": "2022-04-10T19:54:55.748Z"
   },
   {
    "duration": 10,
    "start_time": "2022-04-10T19:54:55.756Z"
   },
   {
    "duration": 11,
    "start_time": "2022-04-10T19:54:55.768Z"
   },
   {
    "duration": 35,
    "start_time": "2022-04-10T19:54:55.781Z"
   },
   {
    "duration": 11,
    "start_time": "2022-04-10T19:54:55.818Z"
   },
   {
    "duration": 9,
    "start_time": "2022-04-10T19:54:55.831Z"
   },
   {
    "duration": 351,
    "start_time": "2022-04-10T19:54:55.842Z"
   },
   {
    "duration": 15,
    "start_time": "2022-04-10T19:54:56.195Z"
   },
   {
    "duration": 9,
    "start_time": "2022-04-10T19:54:56.212Z"
   },
   {
    "duration": 7,
    "start_time": "2022-04-10T19:54:56.223Z"
   },
   {
    "duration": 6,
    "start_time": "2022-04-10T19:54:56.231Z"
   },
   {
    "duration": 6,
    "start_time": "2022-04-10T19:54:56.238Z"
   },
   {
    "duration": 6,
    "start_time": "2022-04-10T19:54:56.246Z"
   },
   {
    "duration": 10,
    "start_time": "2022-04-10T19:54:56.253Z"
   },
   {
    "duration": 11,
    "start_time": "2022-04-10T19:54:56.264Z"
   },
   {
    "duration": 33,
    "start_time": "2022-04-10T19:54:56.276Z"
   },
   {
    "duration": 17,
    "start_time": "2022-04-10T19:54:56.313Z"
   },
   {
    "duration": 16,
    "start_time": "2022-04-10T19:54:56.331Z"
   },
   {
    "duration": 15,
    "start_time": "2022-04-10T19:54:56.349Z"
   },
   {
    "duration": 1379,
    "start_time": "2022-04-10T19:54:56.365Z"
   },
   {
    "duration": 7,
    "start_time": "2022-04-10T19:54:57.745Z"
   },
   {
    "duration": 4,
    "start_time": "2022-04-10T19:54:57.753Z"
   },
   {
    "duration": 15,
    "start_time": "2022-04-10T19:54:57.759Z"
   },
   {
    "duration": 118,
    "start_time": "2022-04-10T19:54:57.775Z"
   },
   {
    "duration": 239,
    "start_time": "2022-04-10T19:54:57.894Z"
   },
   {
    "duration": 1235,
    "start_time": "2022-04-10T19:54:58.134Z"
   },
   {
    "duration": 162,
    "start_time": "2022-04-10T19:54:59.370Z"
   },
   {
    "duration": 7,
    "start_time": "2022-04-10T19:54:59.534Z"
   },
   {
    "duration": 10,
    "start_time": "2022-04-10T19:54:59.543Z"
   },
   {
    "duration": 148,
    "start_time": "2022-04-10T19:54:59.555Z"
   },
   {
    "duration": 10,
    "start_time": "2022-04-10T19:54:59.708Z"
   },
   {
    "duration": 149,
    "start_time": "2022-04-10T19:54:59.720Z"
   },
   {
    "duration": 3,
    "start_time": "2022-04-10T19:54:59.871Z"
   },
   {
    "duration": 15,
    "start_time": "2022-04-10T19:54:59.876Z"
   },
   {
    "duration": 96,
    "start_time": "2022-04-10T19:54:59.893Z"
   },
   {
    "duration": 26,
    "start_time": "2022-04-10T19:54:59.991Z"
   },
   {
    "duration": 106,
    "start_time": "2022-04-10T19:55:00.019Z"
   },
   {
    "duration": 18,
    "start_time": "2022-04-10T19:55:00.127Z"
   },
   {
    "duration": 88,
    "start_time": "2022-04-10T19:55:00.147Z"
   },
   {
    "duration": 14,
    "start_time": "2022-04-10T19:55:00.236Z"
   },
   {
    "duration": 14,
    "start_time": "2022-04-10T19:55:00.252Z"
   },
   {
    "duration": 43,
    "start_time": "2022-04-10T19:55:00.267Z"
   },
   {
    "duration": 14,
    "start_time": "2022-04-10T19:55:00.311Z"
   },
   {
    "duration": 16,
    "start_time": "2022-04-10T19:55:00.327Z"
   },
   {
    "duration": 16,
    "start_time": "2022-04-10T19:55:00.344Z"
   },
   {
    "duration": 8,
    "start_time": "2022-04-10T19:55:00.362Z"
   },
   {
    "duration": 39,
    "start_time": "2022-04-10T19:55:00.371Z"
   },
   {
    "duration": 7,
    "start_time": "2022-04-10T19:55:00.411Z"
   },
   {
    "duration": 14,
    "start_time": "2022-04-10T19:55:00.419Z"
   },
   {
    "duration": 20,
    "start_time": "2022-04-10T19:55:00.434Z"
   },
   {
    "duration": 19,
    "start_time": "2022-04-10T19:55:00.455Z"
   },
   {
    "duration": 131,
    "start_time": "2022-04-10T20:10:30.171Z"
   },
   {
    "duration": 153,
    "start_time": "2022-04-10T20:11:42.373Z"
   },
   {
    "duration": 161,
    "start_time": "2022-04-10T20:12:07.238Z"
   },
   {
    "duration": 124,
    "start_time": "2022-04-10T20:12:49.888Z"
   },
   {
    "duration": 98,
    "start_time": "2022-04-10T20:13:35.979Z"
   },
   {
    "duration": 7,
    "start_time": "2022-04-10T20:14:01.173Z"
   },
   {
    "duration": 215,
    "start_time": "2022-04-10T20:15:56.080Z"
   },
   {
    "duration": 128,
    "start_time": "2022-04-10T20:19:49.656Z"
   },
   {
    "duration": 154,
    "start_time": "2022-04-10T20:20:02.827Z"
   },
   {
    "duration": 6057,
    "start_time": "2022-04-10T20:21:19.548Z"
   },
   {
    "duration": 8641,
    "start_time": "2022-04-10T20:21:47.117Z"
   },
   {
    "duration": 28,
    "start_time": "2022-04-10T20:22:28.681Z"
   },
   {
    "duration": 57,
    "start_time": "2022-04-10T20:23:59.364Z"
   },
   {
    "duration": 10,
    "start_time": "2022-04-10T20:26:44.751Z"
   },
   {
    "duration": 29,
    "start_time": "2022-04-10T20:26:57.563Z"
   },
   {
    "duration": 115,
    "start_time": "2022-04-10T20:36:40.767Z"
   },
   {
    "duration": 135,
    "start_time": "2022-04-10T20:37:26.151Z"
   },
   {
    "duration": 7,
    "start_time": "2022-04-10T20:38:28.391Z"
   },
   {
    "duration": 8,
    "start_time": "2022-04-10T20:38:51.840Z"
   },
   {
    "duration": 8,
    "start_time": "2022-04-10T20:40:14.491Z"
   },
   {
    "duration": 30,
    "start_time": "2022-04-10T20:41:25.937Z"
   },
   {
    "duration": 131,
    "start_time": "2022-04-10T20:41:48.849Z"
   },
   {
    "duration": 136,
    "start_time": "2022-04-10T20:41:53.542Z"
   },
   {
    "duration": 117,
    "start_time": "2022-04-10T20:42:04.658Z"
   },
   {
    "duration": 143,
    "start_time": "2022-04-10T20:42:30.349Z"
   },
   {
    "duration": 134,
    "start_time": "2022-04-10T20:42:42.469Z"
   },
   {
    "duration": 70,
    "start_time": "2022-04-10T20:44:34.135Z"
   },
   {
    "duration": 316,
    "start_time": "2022-04-10T20:47:49.968Z"
   },
   {
    "duration": 308,
    "start_time": "2022-04-10T20:48:07.448Z"
   },
   {
    "duration": 1217,
    "start_time": "2022-04-10T20:48:18.388Z"
   },
   {
    "duration": 53,
    "start_time": "2022-04-10T20:48:19.610Z"
   },
   {
    "duration": 5,
    "start_time": "2022-04-10T20:48:19.665Z"
   },
   {
    "duration": 16,
    "start_time": "2022-04-10T20:48:19.673Z"
   },
   {
    "duration": 3,
    "start_time": "2022-04-10T20:48:19.710Z"
   },
   {
    "duration": 15,
    "start_time": "2022-04-10T20:48:19.715Z"
   },
   {
    "duration": 8,
    "start_time": "2022-04-10T20:48:19.732Z"
   },
   {
    "duration": 8,
    "start_time": "2022-04-10T20:48:19.742Z"
   },
   {
    "duration": 215,
    "start_time": "2022-04-10T20:48:19.752Z"
   },
   {
    "duration": 3,
    "start_time": "2022-04-10T20:48:19.970Z"
   },
   {
    "duration": 6,
    "start_time": "2022-04-10T20:48:19.975Z"
   },
   {
    "duration": 10,
    "start_time": "2022-04-10T20:48:19.982Z"
   },
   {
    "duration": 8,
    "start_time": "2022-04-10T20:48:20.009Z"
   },
   {
    "duration": 12,
    "start_time": "2022-04-10T20:48:20.019Z"
   },
   {
    "duration": 8,
    "start_time": "2022-04-10T20:48:20.032Z"
   },
   {
    "duration": 7,
    "start_time": "2022-04-10T20:48:20.042Z"
   },
   {
    "duration": 7,
    "start_time": "2022-04-10T20:48:20.051Z"
   },
   {
    "duration": 338,
    "start_time": "2022-04-10T20:48:20.060Z"
   },
   {
    "duration": 5,
    "start_time": "2022-04-10T20:48:20.409Z"
   },
   {
    "duration": 10,
    "start_time": "2022-04-10T20:48:20.416Z"
   },
   {
    "duration": 7,
    "start_time": "2022-04-10T20:48:20.428Z"
   },
   {
    "duration": 6,
    "start_time": "2022-04-10T20:48:20.436Z"
   },
   {
    "duration": 5,
    "start_time": "2022-04-10T20:48:20.443Z"
   },
   {
    "duration": 17,
    "start_time": "2022-04-10T20:48:20.450Z"
   },
   {
    "duration": 7,
    "start_time": "2022-04-10T20:48:20.469Z"
   },
   {
    "duration": 36,
    "start_time": "2022-04-10T20:48:20.478Z"
   },
   {
    "duration": 5,
    "start_time": "2022-04-10T20:48:20.516Z"
   },
   {
    "duration": 32,
    "start_time": "2022-04-10T20:48:20.525Z"
   },
   {
    "duration": 16,
    "start_time": "2022-04-10T20:48:20.559Z"
   },
   {
    "duration": 21,
    "start_time": "2022-04-10T20:48:20.577Z"
   },
   {
    "duration": 1391,
    "start_time": "2022-04-10T20:48:20.609Z"
   },
   {
    "duration": 9,
    "start_time": "2022-04-10T20:48:22.001Z"
   },
   {
    "duration": 4,
    "start_time": "2022-04-10T20:48:22.011Z"
   },
   {
    "duration": 17,
    "start_time": "2022-04-10T20:48:22.016Z"
   },
   {
    "duration": 127,
    "start_time": "2022-04-10T20:48:22.034Z"
   },
   {
    "duration": 235,
    "start_time": "2022-04-10T20:48:22.162Z"
   },
   {
    "duration": 1196,
    "start_time": "2022-04-10T20:48:22.399Z"
   },
   {
    "duration": 135,
    "start_time": "2022-04-10T20:48:23.597Z"
   },
   {
    "duration": 8,
    "start_time": "2022-04-10T20:48:23.733Z"
   },
   {
    "duration": 149,
    "start_time": "2022-04-10T20:48:23.742Z"
   },
   {
    "duration": 36,
    "start_time": "2022-04-10T20:48:23.892Z"
   },
   {
    "duration": 64,
    "start_time": "2022-04-10T20:48:23.929Z"
   },
   {
    "duration": 0,
    "start_time": "2022-04-10T20:48:23.994Z"
   },
   {
    "duration": 0,
    "start_time": "2022-04-10T20:48:23.995Z"
   },
   {
    "duration": 0,
    "start_time": "2022-04-10T20:48:23.996Z"
   },
   {
    "duration": 0,
    "start_time": "2022-04-10T20:48:23.997Z"
   },
   {
    "duration": 0,
    "start_time": "2022-04-10T20:48:23.998Z"
   },
   {
    "duration": 0,
    "start_time": "2022-04-10T20:48:23.999Z"
   },
   {
    "duration": 0,
    "start_time": "2022-04-10T20:48:24.000Z"
   },
   {
    "duration": 0,
    "start_time": "2022-04-10T20:48:24.001Z"
   },
   {
    "duration": 0,
    "start_time": "2022-04-10T20:48:24.003Z"
   },
   {
    "duration": 0,
    "start_time": "2022-04-10T20:48:24.004Z"
   },
   {
    "duration": 0,
    "start_time": "2022-04-10T20:48:24.005Z"
   },
   {
    "duration": 0,
    "start_time": "2022-04-10T20:48:24.006Z"
   },
   {
    "duration": 0,
    "start_time": "2022-04-10T20:48:24.007Z"
   },
   {
    "duration": 0,
    "start_time": "2022-04-10T20:48:24.008Z"
   },
   {
    "duration": 0,
    "start_time": "2022-04-10T20:48:24.009Z"
   },
   {
    "duration": 0,
    "start_time": "2022-04-10T20:48:24.009Z"
   },
   {
    "duration": 0,
    "start_time": "2022-04-10T20:48:24.011Z"
   },
   {
    "duration": 0,
    "start_time": "2022-04-10T20:48:24.011Z"
   },
   {
    "duration": 0,
    "start_time": "2022-04-10T20:48:24.013Z"
   },
   {
    "duration": 0,
    "start_time": "2022-04-10T20:48:24.014Z"
   },
   {
    "duration": 0,
    "start_time": "2022-04-10T20:48:24.015Z"
   },
   {
    "duration": 0,
    "start_time": "2022-04-10T20:48:24.016Z"
   },
   {
    "duration": 0,
    "start_time": "2022-04-10T20:48:24.016Z"
   },
   {
    "duration": 0,
    "start_time": "2022-04-10T20:48:24.018Z"
   },
   {
    "duration": 131,
    "start_time": "2022-04-10T20:48:58.566Z"
   },
   {
    "duration": 10,
    "start_time": "2022-04-10T20:49:25.302Z"
   },
   {
    "duration": 32,
    "start_time": "2022-04-10T20:50:17.145Z"
   },
   {
    "duration": 10,
    "start_time": "2022-04-10T20:50:22.058Z"
   },
   {
    "duration": 15,
    "start_time": "2022-04-10T20:50:40.352Z"
   },
   {
    "duration": 138,
    "start_time": "2022-04-10T20:50:59.956Z"
   },
   {
    "duration": 1330,
    "start_time": "2022-04-11T08:12:35.018Z"
   },
   {
    "duration": 52,
    "start_time": "2022-04-11T08:12:36.350Z"
   },
   {
    "duration": 5,
    "start_time": "2022-04-11T08:12:36.403Z"
   },
   {
    "duration": 20,
    "start_time": "2022-04-11T08:12:36.409Z"
   },
   {
    "duration": 17,
    "start_time": "2022-04-11T08:12:36.430Z"
   },
   {
    "duration": 20,
    "start_time": "2022-04-11T08:12:36.448Z"
   },
   {
    "duration": 11,
    "start_time": "2022-04-11T08:12:36.469Z"
   },
   {
    "duration": 6,
    "start_time": "2022-04-11T08:12:36.482Z"
   },
   {
    "duration": 183,
    "start_time": "2022-04-11T08:12:36.490Z"
   },
   {
    "duration": 3,
    "start_time": "2022-04-11T08:12:36.676Z"
   },
   {
    "duration": 7,
    "start_time": "2022-04-11T08:12:36.681Z"
   },
   {
    "duration": 10,
    "start_time": "2022-04-11T08:12:36.690Z"
   },
   {
    "duration": 10,
    "start_time": "2022-04-11T08:12:36.701Z"
   },
   {
    "duration": 9,
    "start_time": "2022-04-11T08:12:36.712Z"
   },
   {
    "duration": 32,
    "start_time": "2022-04-11T08:12:36.722Z"
   },
   {
    "duration": 8,
    "start_time": "2022-04-11T08:12:36.755Z"
   },
   {
    "duration": 8,
    "start_time": "2022-04-11T08:12:36.765Z"
   },
   {
    "duration": 400,
    "start_time": "2022-04-11T08:12:36.774Z"
   },
   {
    "duration": 5,
    "start_time": "2022-04-11T08:12:37.176Z"
   },
   {
    "duration": 18,
    "start_time": "2022-04-11T08:12:37.182Z"
   },
   {
    "duration": 16,
    "start_time": "2022-04-11T08:12:37.201Z"
   },
   {
    "duration": 7,
    "start_time": "2022-04-11T08:12:37.219Z"
   },
   {
    "duration": 6,
    "start_time": "2022-04-11T08:12:37.227Z"
   },
   {
    "duration": 16,
    "start_time": "2022-04-11T08:12:37.234Z"
   },
   {
    "duration": 6,
    "start_time": "2022-04-11T08:12:37.252Z"
   },
   {
    "duration": 13,
    "start_time": "2022-04-11T08:12:37.259Z"
   },
   {
    "duration": 5,
    "start_time": "2022-04-11T08:12:37.274Z"
   },
   {
    "duration": 15,
    "start_time": "2022-04-11T08:12:37.282Z"
   },
   {
    "duration": 16,
    "start_time": "2022-04-11T08:12:37.298Z"
   },
   {
    "duration": 40,
    "start_time": "2022-04-11T08:12:37.315Z"
   },
   {
    "duration": 1298,
    "start_time": "2022-04-11T08:12:37.357Z"
   },
   {
    "duration": 7,
    "start_time": "2022-04-11T08:12:38.657Z"
   },
   {
    "duration": 6,
    "start_time": "2022-04-11T08:12:38.666Z"
   },
   {
    "duration": 16,
    "start_time": "2022-04-11T08:12:38.674Z"
   },
   {
    "duration": 124,
    "start_time": "2022-04-11T08:12:38.691Z"
   },
   {
    "duration": 222,
    "start_time": "2022-04-11T08:12:38.817Z"
   },
   {
    "duration": 1177,
    "start_time": "2022-04-11T08:12:39.041Z"
   },
   {
    "duration": 134,
    "start_time": "2022-04-11T08:12:40.220Z"
   },
   {
    "duration": 7,
    "start_time": "2022-04-11T08:12:40.356Z"
   },
   {
    "duration": 150,
    "start_time": "2022-04-11T08:12:40.365Z"
   },
   {
    "duration": 38,
    "start_time": "2022-04-11T08:12:40.517Z"
   },
   {
    "duration": 136,
    "start_time": "2022-04-11T08:12:40.557Z"
   },
   {
    "duration": 7,
    "start_time": "2022-04-11T08:12:40.695Z"
   },
   {
    "duration": 45,
    "start_time": "2022-04-11T08:12:40.703Z"
   },
   {
    "duration": 14,
    "start_time": "2022-04-11T08:12:40.750Z"
   },
   {
    "duration": 148,
    "start_time": "2022-04-11T08:12:40.765Z"
   },
   {
    "duration": 2,
    "start_time": "2022-04-11T08:12:40.915Z"
   },
   {
    "duration": 17,
    "start_time": "2022-04-11T08:12:40.919Z"
   },
   {
    "duration": 88,
    "start_time": "2022-04-11T08:12:40.938Z"
   },
   {
    "duration": 27,
    "start_time": "2022-04-11T08:12:41.028Z"
   },
   {
    "duration": 83,
    "start_time": "2022-04-11T08:12:41.056Z"
   },
   {
    "duration": 17,
    "start_time": "2022-04-11T08:12:41.146Z"
   },
   {
    "duration": 83,
    "start_time": "2022-04-11T08:12:41.164Z"
   },
   {
    "duration": 13,
    "start_time": "2022-04-11T08:12:41.249Z"
   },
   {
    "duration": 21,
    "start_time": "2022-04-11T08:12:41.264Z"
   },
   {
    "duration": 15,
    "start_time": "2022-04-11T08:12:41.287Z"
   },
   {
    "duration": 19,
    "start_time": "2022-04-11T08:12:41.303Z"
   },
   {
    "duration": 28,
    "start_time": "2022-04-11T08:12:41.324Z"
   },
   {
    "duration": 22,
    "start_time": "2022-04-11T08:12:41.354Z"
   },
   {
    "duration": 15,
    "start_time": "2022-04-11T08:12:41.378Z"
   },
   {
    "duration": 21,
    "start_time": "2022-04-11T08:12:41.395Z"
   },
   {
    "duration": 28,
    "start_time": "2022-04-11T08:12:41.418Z"
   },
   {
    "duration": 22,
    "start_time": "2022-04-11T08:12:41.447Z"
   },
   {
    "duration": 37,
    "start_time": "2022-04-11T08:12:41.471Z"
   },
   {
    "duration": 9,
    "start_time": "2022-04-11T08:12:41.510Z"
   },
   {
    "duration": 28,
    "start_time": "2022-04-11T08:24:13.563Z"
   },
   {
    "duration": 25,
    "start_time": "2022-04-11T08:24:41.466Z"
   },
   {
    "duration": 28,
    "start_time": "2022-04-11T08:26:36.497Z"
   },
   {
    "duration": 32,
    "start_time": "2022-04-11T08:26:40.984Z"
   },
   {
    "duration": 29,
    "start_time": "2022-04-11T08:26:47.833Z"
   },
   {
    "duration": 29,
    "start_time": "2022-04-11T08:27:04.160Z"
   },
   {
    "duration": 29,
    "start_time": "2022-04-11T08:27:47.136Z"
   },
   {
    "duration": 112,
    "start_time": "2022-04-11T08:32:17.564Z"
   },
   {
    "duration": 11,
    "start_time": "2022-04-11T08:32:23.540Z"
   },
   {
    "duration": 14,
    "start_time": "2022-04-11T08:32:28.403Z"
   },
   {
    "duration": 101,
    "start_time": "2022-04-11T09:10:17.147Z"
   },
   {
    "duration": 17,
    "start_time": "2022-04-11T09:10:23.688Z"
   },
   {
    "duration": 15,
    "start_time": "2022-04-11T09:10:56.777Z"
   },
   {
    "duration": 13,
    "start_time": "2022-04-11T09:11:11.729Z"
   },
   {
    "duration": 16,
    "start_time": "2022-04-11T09:11:17.784Z"
   },
   {
    "duration": 11,
    "start_time": "2022-04-11T09:11:40.652Z"
   },
   {
    "duration": 18,
    "start_time": "2022-04-11T09:11:45.015Z"
   },
   {
    "duration": 16,
    "start_time": "2022-04-11T09:11:49.579Z"
   },
   {
    "duration": 28,
    "start_time": "2022-04-11T09:12:12.367Z"
   },
   {
    "duration": 21,
    "start_time": "2022-04-11T09:13:02.637Z"
   },
   {
    "duration": 20,
    "start_time": "2022-04-11T09:13:07.960Z"
   },
   {
    "duration": 154,
    "start_time": "2022-04-11T09:21:19.024Z"
   },
   {
    "duration": 135,
    "start_time": "2022-04-11T09:22:23.923Z"
   },
   {
    "duration": 133,
    "start_time": "2022-04-11T09:23:49.471Z"
   },
   {
    "duration": 431,
    "start_time": "2022-04-11T09:36:38.592Z"
   },
   {
    "duration": 284,
    "start_time": "2022-04-11T09:36:43.368Z"
   },
   {
    "duration": 1142,
    "start_time": "2022-04-11T09:36:48.791Z"
   },
   {
    "duration": 55,
    "start_time": "2022-04-11T09:36:49.935Z"
   },
   {
    "duration": 4,
    "start_time": "2022-04-11T09:36:49.992Z"
   },
   {
    "duration": 19,
    "start_time": "2022-04-11T09:36:49.998Z"
   },
   {
    "duration": 3,
    "start_time": "2022-04-11T09:36:50.019Z"
   },
   {
    "duration": 26,
    "start_time": "2022-04-11T09:36:50.024Z"
   },
   {
    "duration": 8,
    "start_time": "2022-04-11T09:36:50.052Z"
   },
   {
    "duration": 21,
    "start_time": "2022-04-11T09:36:50.062Z"
   },
   {
    "duration": 180,
    "start_time": "2022-04-11T09:36:50.084Z"
   },
   {
    "duration": 3,
    "start_time": "2022-04-11T09:36:50.267Z"
   },
   {
    "duration": 9,
    "start_time": "2022-04-11T09:36:50.272Z"
   },
   {
    "duration": 11,
    "start_time": "2022-04-11T09:36:50.283Z"
   },
   {
    "duration": 11,
    "start_time": "2022-04-11T09:36:50.296Z"
   },
   {
    "duration": 19,
    "start_time": "2022-04-11T09:36:50.309Z"
   },
   {
    "duration": 21,
    "start_time": "2022-04-11T09:36:50.329Z"
   },
   {
    "duration": 11,
    "start_time": "2022-04-11T09:36:50.352Z"
   },
   {
    "duration": 8,
    "start_time": "2022-04-11T09:36:50.365Z"
   },
   {
    "duration": 359,
    "start_time": "2022-04-11T09:36:50.374Z"
   },
   {
    "duration": 18,
    "start_time": "2022-04-11T09:36:50.734Z"
   },
   {
    "duration": 20,
    "start_time": "2022-04-11T09:36:50.754Z"
   },
   {
    "duration": 7,
    "start_time": "2022-04-11T09:36:50.775Z"
   },
   {
    "duration": 16,
    "start_time": "2022-04-11T09:36:50.784Z"
   },
   {
    "duration": 14,
    "start_time": "2022-04-11T09:36:50.802Z"
   },
   {
    "duration": 16,
    "start_time": "2022-04-11T09:36:50.818Z"
   },
   {
    "duration": 13,
    "start_time": "2022-04-11T09:36:50.835Z"
   },
   {
    "duration": 25,
    "start_time": "2022-04-11T09:36:50.850Z"
   },
   {
    "duration": 10,
    "start_time": "2022-04-11T09:36:50.877Z"
   },
   {
    "duration": 19,
    "start_time": "2022-04-11T09:36:50.891Z"
   },
   {
    "duration": 15,
    "start_time": "2022-04-11T09:36:50.912Z"
   },
   {
    "duration": 25,
    "start_time": "2022-04-11T09:36:50.929Z"
   },
   {
    "duration": 1294,
    "start_time": "2022-04-11T09:36:50.955Z"
   },
   {
    "duration": 7,
    "start_time": "2022-04-11T09:36:52.251Z"
   },
   {
    "duration": 6,
    "start_time": "2022-04-11T09:36:52.259Z"
   },
   {
    "duration": 18,
    "start_time": "2022-04-11T09:36:52.266Z"
   },
   {
    "duration": 133,
    "start_time": "2022-04-11T09:36:52.285Z"
   },
   {
    "duration": 222,
    "start_time": "2022-04-11T09:36:52.419Z"
   },
   {
    "duration": 1186,
    "start_time": "2022-04-11T09:36:52.646Z"
   },
   {
    "duration": 145,
    "start_time": "2022-04-11T09:36:53.833Z"
   },
   {
    "duration": 8,
    "start_time": "2022-04-11T09:36:53.979Z"
   },
   {
    "duration": 148,
    "start_time": "2022-04-11T09:36:53.988Z"
   },
   {
    "duration": 37,
    "start_time": "2022-04-11T09:36:54.138Z"
   },
   {
    "duration": 156,
    "start_time": "2022-04-11T09:36:54.177Z"
   },
   {
    "duration": 14,
    "start_time": "2022-04-11T09:36:54.334Z"
   },
   {
    "duration": 30,
    "start_time": "2022-04-11T09:36:54.349Z"
   },
   {
    "duration": 14,
    "start_time": "2022-04-11T09:36:54.380Z"
   },
   {
    "duration": 226,
    "start_time": "2022-04-11T09:36:54.396Z"
   },
   {
    "duration": 0,
    "start_time": "2022-04-11T09:36:54.624Z"
   },
   {
    "duration": 0,
    "start_time": "2022-04-11T09:36:54.625Z"
   },
   {
    "duration": 0,
    "start_time": "2022-04-11T09:36:54.626Z"
   },
   {
    "duration": 0,
    "start_time": "2022-04-11T09:36:54.627Z"
   },
   {
    "duration": 0,
    "start_time": "2022-04-11T09:36:54.628Z"
   },
   {
    "duration": 0,
    "start_time": "2022-04-11T09:36:54.630Z"
   },
   {
    "duration": 0,
    "start_time": "2022-04-11T09:36:54.647Z"
   },
   {
    "duration": 0,
    "start_time": "2022-04-11T09:36:54.648Z"
   },
   {
    "duration": 0,
    "start_time": "2022-04-11T09:36:54.649Z"
   },
   {
    "duration": 0,
    "start_time": "2022-04-11T09:36:54.650Z"
   },
   {
    "duration": 0,
    "start_time": "2022-04-11T09:36:54.651Z"
   },
   {
    "duration": 0,
    "start_time": "2022-04-11T09:36:54.652Z"
   },
   {
    "duration": 0,
    "start_time": "2022-04-11T09:36:54.653Z"
   },
   {
    "duration": 0,
    "start_time": "2022-04-11T09:36:54.654Z"
   },
   {
    "duration": 0,
    "start_time": "2022-04-11T09:36:54.655Z"
   },
   {
    "duration": 0,
    "start_time": "2022-04-11T09:36:54.656Z"
   },
   {
    "duration": 0,
    "start_time": "2022-04-11T09:36:54.657Z"
   },
   {
    "duration": 0,
    "start_time": "2022-04-11T09:36:54.658Z"
   },
   {
    "duration": 0,
    "start_time": "2022-04-11T09:36:54.659Z"
   },
   {
    "duration": 147,
    "start_time": "2022-04-11T09:38:42.811Z"
   },
   {
    "duration": 175,
    "start_time": "2022-04-11T09:40:04.553Z"
   },
   {
    "duration": 11,
    "start_time": "2022-04-11T09:40:34.281Z"
   },
   {
    "duration": 16,
    "start_time": "2022-04-11T09:40:41.457Z"
   },
   {
    "duration": 172,
    "start_time": "2022-04-11T09:43:23.191Z"
   },
   {
    "duration": 3,
    "start_time": "2022-04-11T09:47:20.077Z"
   },
   {
    "duration": 14,
    "start_time": "2022-04-11T09:47:23.072Z"
   },
   {
    "duration": 4,
    "start_time": "2022-04-11T09:48:43.259Z"
   },
   {
    "duration": 15,
    "start_time": "2022-04-11T09:48:45.940Z"
   },
   {
    "duration": 80,
    "start_time": "2022-04-11T09:48:56.178Z"
   },
   {
    "duration": 148,
    "start_time": "2022-04-11T09:55:39.655Z"
   },
   {
    "duration": 5,
    "start_time": "2022-04-11T09:56:49.349Z"
   },
   {
    "duration": 3,
    "start_time": "2022-04-11T10:42:49.314Z"
   },
   {
    "duration": 16,
    "start_time": "2022-04-11T10:42:52.361Z"
   },
   {
    "duration": 4,
    "start_time": "2022-04-11T10:44:21.301Z"
   },
   {
    "duration": 16,
    "start_time": "2022-04-11T10:44:25.759Z"
   },
   {
    "duration": 6,
    "start_time": "2022-04-11T10:46:33.716Z"
   },
   {
    "duration": 4,
    "start_time": "2022-04-11T10:49:21.666Z"
   },
   {
    "duration": 23,
    "start_time": "2022-04-11T10:49:23.762Z"
   },
   {
    "duration": 3,
    "start_time": "2022-04-11T10:49:47.212Z"
   },
   {
    "duration": 21,
    "start_time": "2022-04-11T10:49:48.049Z"
   },
   {
    "duration": 3,
    "start_time": "2022-04-11T10:50:08.979Z"
   },
   {
    "duration": 19,
    "start_time": "2022-04-11T10:50:09.810Z"
   },
   {
    "duration": 4,
    "start_time": "2022-04-11T10:50:55.081Z"
   },
   {
    "duration": 19,
    "start_time": "2022-04-11T10:50:55.938Z"
   },
   {
    "duration": 4,
    "start_time": "2022-04-11T10:51:05.201Z"
   },
   {
    "duration": 15,
    "start_time": "2022-04-11T10:51:05.976Z"
   },
   {
    "duration": 3,
    "start_time": "2022-04-11T10:51:48.466Z"
   },
   {
    "duration": 18,
    "start_time": "2022-04-11T10:51:49.185Z"
   },
   {
    "duration": 3,
    "start_time": "2022-04-11T10:54:27.487Z"
   },
   {
    "duration": 3,
    "start_time": "2022-04-11T10:54:29.335Z"
   },
   {
    "duration": 14,
    "start_time": "2022-04-11T10:54:30.789Z"
   },
   {
    "duration": 4,
    "start_time": "2022-04-11T10:54:46.903Z"
   },
   {
    "duration": 17,
    "start_time": "2022-04-11T10:54:47.670Z"
   },
   {
    "duration": 113,
    "start_time": "2022-04-11T10:54:58.974Z"
   },
   {
    "duration": 126,
    "start_time": "2022-04-11T10:55:11.239Z"
   },
   {
    "duration": 3,
    "start_time": "2022-04-11T10:55:24.806Z"
   },
   {
    "duration": 16,
    "start_time": "2022-04-11T10:56:00.972Z"
   },
   {
    "duration": 4,
    "start_time": "2022-04-11T10:56:42.502Z"
   },
   {
    "duration": 18,
    "start_time": "2022-04-11T10:56:44.372Z"
   },
   {
    "duration": 3,
    "start_time": "2022-04-11T10:57:15.165Z"
   },
   {
    "duration": 26,
    "start_time": "2022-04-11T10:57:16.124Z"
   },
   {
    "duration": 1180,
    "start_time": "2022-04-11T10:57:43.749Z"
   },
   {
    "duration": 49,
    "start_time": "2022-04-11T10:57:44.931Z"
   },
   {
    "duration": 4,
    "start_time": "2022-04-11T10:57:44.982Z"
   },
   {
    "duration": 16,
    "start_time": "2022-04-11T10:57:44.988Z"
   },
   {
    "duration": 18,
    "start_time": "2022-04-11T10:57:45.006Z"
   },
   {
    "duration": 30,
    "start_time": "2022-04-11T10:57:45.026Z"
   },
   {
    "duration": 11,
    "start_time": "2022-04-11T10:57:45.058Z"
   },
   {
    "duration": 19,
    "start_time": "2022-04-11T10:57:45.071Z"
   },
   {
    "duration": 172,
    "start_time": "2022-04-11T10:57:45.092Z"
   },
   {
    "duration": 4,
    "start_time": "2022-04-11T10:57:45.266Z"
   },
   {
    "duration": 26,
    "start_time": "2022-04-11T10:57:45.271Z"
   },
   {
    "duration": 18,
    "start_time": "2022-04-11T10:57:45.298Z"
   },
   {
    "duration": 23,
    "start_time": "2022-04-11T10:57:45.318Z"
   },
   {
    "duration": 23,
    "start_time": "2022-04-11T10:57:45.343Z"
   },
   {
    "duration": 12,
    "start_time": "2022-04-11T10:57:45.367Z"
   },
   {
    "duration": 8,
    "start_time": "2022-04-11T10:57:45.380Z"
   },
   {
    "duration": 15,
    "start_time": "2022-04-11T10:57:45.389Z"
   },
   {
    "duration": 328,
    "start_time": "2022-04-11T10:57:45.406Z"
   },
   {
    "duration": 14,
    "start_time": "2022-04-11T10:57:45.736Z"
   },
   {
    "duration": 21,
    "start_time": "2022-04-11T10:57:45.751Z"
   },
   {
    "duration": 7,
    "start_time": "2022-04-11T10:57:45.773Z"
   },
   {
    "duration": 39,
    "start_time": "2022-04-11T10:57:45.782Z"
   },
   {
    "duration": 26,
    "start_time": "2022-04-11T10:57:45.822Z"
   },
   {
    "duration": 19,
    "start_time": "2022-04-11T10:57:45.850Z"
   },
   {
    "duration": 19,
    "start_time": "2022-04-11T10:57:45.870Z"
   },
   {
    "duration": 20,
    "start_time": "2022-04-11T10:57:45.891Z"
   },
   {
    "duration": 16,
    "start_time": "2022-04-11T10:57:45.913Z"
   },
   {
    "duration": 29,
    "start_time": "2022-04-11T10:57:45.932Z"
   },
   {
    "duration": 16,
    "start_time": "2022-04-11T10:57:45.962Z"
   },
   {
    "duration": 20,
    "start_time": "2022-04-11T10:57:45.979Z"
   },
   {
    "duration": 1274,
    "start_time": "2022-04-11T10:57:46.001Z"
   },
   {
    "duration": 7,
    "start_time": "2022-04-11T10:57:47.276Z"
   },
   {
    "duration": 4,
    "start_time": "2022-04-11T10:57:47.285Z"
   },
   {
    "duration": 25,
    "start_time": "2022-04-11T10:57:47.291Z"
   },
   {
    "duration": 111,
    "start_time": "2022-04-11T10:57:47.318Z"
   },
   {
    "duration": 223,
    "start_time": "2022-04-11T10:57:47.430Z"
   },
   {
    "duration": 1156,
    "start_time": "2022-04-11T10:57:47.655Z"
   },
   {
    "duration": 127,
    "start_time": "2022-04-11T10:57:48.813Z"
   },
   {
    "duration": 7,
    "start_time": "2022-04-11T10:57:48.947Z"
   },
   {
    "duration": 138,
    "start_time": "2022-04-11T10:57:48.955Z"
   },
   {
    "duration": 27,
    "start_time": "2022-04-11T10:57:49.094Z"
   },
   {
    "duration": 154,
    "start_time": "2022-04-11T10:57:49.123Z"
   },
   {
    "duration": 8,
    "start_time": "2022-04-11T10:57:49.278Z"
   },
   {
    "duration": 33,
    "start_time": "2022-04-11T10:57:49.287Z"
   },
   {
    "duration": 33,
    "start_time": "2022-04-11T10:57:49.321Z"
   },
   {
    "duration": 157,
    "start_time": "2022-04-11T10:57:49.356Z"
   },
   {
    "duration": 2,
    "start_time": "2022-04-11T10:57:49.515Z"
   },
   {
    "duration": 26,
    "start_time": "2022-04-11T10:57:49.518Z"
   },
   {
    "duration": 24,
    "start_time": "2022-04-11T10:57:49.545Z"
   },
   {
    "duration": 21,
    "start_time": "2022-04-11T10:57:49.571Z"
   },
   {
    "duration": 14,
    "start_time": "2022-04-11T10:57:49.593Z"
   },
   {
    "duration": 11,
    "start_time": "2022-04-11T10:57:49.608Z"
   },
   {
    "duration": 140,
    "start_time": "2022-04-11T10:57:49.621Z"
   },
   {
    "duration": 15,
    "start_time": "2022-04-11T10:57:49.763Z"
   },
   {
    "duration": 144,
    "start_time": "2022-04-11T10:57:49.780Z"
   },
   {
    "duration": 26,
    "start_time": "2022-04-11T10:57:49.925Z"
   },
   {
    "duration": 72,
    "start_time": "2022-04-11T10:57:49.952Z"
   },
   {
    "duration": 24,
    "start_time": "2022-04-11T10:57:50.026Z"
   },
   {
    "duration": 21,
    "start_time": "2022-04-11T10:57:50.052Z"
   },
   {
    "duration": 17,
    "start_time": "2022-04-11T10:57:50.075Z"
   },
   {
    "duration": 14,
    "start_time": "2022-04-11T10:57:50.093Z"
   },
   {
    "duration": 13,
    "start_time": "2022-04-11T10:57:50.109Z"
   },
   {
    "duration": 38,
    "start_time": "2022-04-11T10:57:50.124Z"
   },
   {
    "duration": 8,
    "start_time": "2022-04-11T10:57:50.163Z"
   },
   {
    "duration": 6,
    "start_time": "2022-04-11T10:57:50.172Z"
   },
   {
    "duration": 8,
    "start_time": "2022-04-11T10:57:50.179Z"
   },
   {
    "duration": 7,
    "start_time": "2022-04-11T10:57:50.189Z"
   },
   {
    "duration": 5,
    "start_time": "2022-04-11T10:57:50.198Z"
   },
   {
    "duration": 8,
    "start_time": "2022-04-11T10:57:50.204Z"
   },
   {
    "duration": 3,
    "start_time": "2022-04-11T10:59:25.831Z"
   },
   {
    "duration": 107,
    "start_time": "2022-04-11T10:59:26.975Z"
   },
   {
    "duration": 1197,
    "start_time": "2022-04-11T10:59:42.248Z"
   },
   {
    "duration": 49,
    "start_time": "2022-04-11T10:59:43.448Z"
   },
   {
    "duration": 3,
    "start_time": "2022-04-11T10:59:43.499Z"
   },
   {
    "duration": 24,
    "start_time": "2022-04-11T10:59:43.504Z"
   },
   {
    "duration": 3,
    "start_time": "2022-04-11T10:59:43.530Z"
   },
   {
    "duration": 13,
    "start_time": "2022-04-11T10:59:43.547Z"
   },
   {
    "duration": 9,
    "start_time": "2022-04-11T10:59:43.562Z"
   },
   {
    "duration": 7,
    "start_time": "2022-04-11T10:59:43.573Z"
   },
   {
    "duration": 221,
    "start_time": "2022-04-11T10:59:43.582Z"
   },
   {
    "duration": 4,
    "start_time": "2022-04-11T10:59:43.805Z"
   },
   {
    "duration": 14,
    "start_time": "2022-04-11T10:59:43.811Z"
   },
   {
    "duration": 7,
    "start_time": "2022-04-11T10:59:43.827Z"
   },
   {
    "duration": 9,
    "start_time": "2022-04-11T10:59:43.846Z"
   },
   {
    "duration": 13,
    "start_time": "2022-04-11T10:59:43.857Z"
   },
   {
    "duration": 8,
    "start_time": "2022-04-11T10:59:43.872Z"
   },
   {
    "duration": 10,
    "start_time": "2022-04-11T10:59:43.881Z"
   },
   {
    "duration": 22,
    "start_time": "2022-04-11T10:59:43.893Z"
   },
   {
    "duration": 317,
    "start_time": "2022-04-11T10:59:43.916Z"
   },
   {
    "duration": 6,
    "start_time": "2022-04-11T10:59:44.247Z"
   },
   {
    "duration": 12,
    "start_time": "2022-04-11T10:59:44.254Z"
   },
   {
    "duration": 7,
    "start_time": "2022-04-11T10:59:44.268Z"
   },
   {
    "duration": 10,
    "start_time": "2022-04-11T10:59:44.276Z"
   },
   {
    "duration": 6,
    "start_time": "2022-04-11T10:59:44.287Z"
   },
   {
    "duration": 8,
    "start_time": "2022-04-11T10:59:44.295Z"
   },
   {
    "duration": 8,
    "start_time": "2022-04-11T10:59:44.305Z"
   },
   {
    "duration": 40,
    "start_time": "2022-04-11T10:59:44.315Z"
   },
   {
    "duration": 20,
    "start_time": "2022-04-11T10:59:44.357Z"
   },
   {
    "duration": 20,
    "start_time": "2022-04-11T10:59:44.382Z"
   },
   {
    "duration": 18,
    "start_time": "2022-04-11T10:59:44.404Z"
   },
   {
    "duration": 30,
    "start_time": "2022-04-11T10:59:44.424Z"
   },
   {
    "duration": 1308,
    "start_time": "2022-04-11T10:59:44.455Z"
   },
   {
    "duration": 7,
    "start_time": "2022-04-11T10:59:45.765Z"
   },
   {
    "duration": 5,
    "start_time": "2022-04-11T10:59:45.774Z"
   },
   {
    "duration": 18,
    "start_time": "2022-04-11T10:59:45.781Z"
   },
   {
    "duration": 142,
    "start_time": "2022-04-11T10:59:45.801Z"
   },
   {
    "duration": 239,
    "start_time": "2022-04-11T10:59:45.948Z"
   },
   {
    "duration": 1187,
    "start_time": "2022-04-11T10:59:46.188Z"
   },
   {
    "duration": 135,
    "start_time": "2022-04-11T10:59:47.377Z"
   },
   {
    "duration": 7,
    "start_time": "2022-04-11T10:59:47.514Z"
   },
   {
    "duration": 147,
    "start_time": "2022-04-11T10:59:47.523Z"
   },
   {
    "duration": 31,
    "start_time": "2022-04-11T10:59:47.672Z"
   },
   {
    "duration": 155,
    "start_time": "2022-04-11T10:59:47.704Z"
   },
   {
    "duration": 8,
    "start_time": "2022-04-11T10:59:47.861Z"
   },
   {
    "duration": 32,
    "start_time": "2022-04-11T10:59:47.870Z"
   },
   {
    "duration": 14,
    "start_time": "2022-04-11T10:59:47.903Z"
   },
   {
    "duration": 158,
    "start_time": "2022-04-11T10:59:47.948Z"
   },
   {
    "duration": 3,
    "start_time": "2022-04-11T10:59:48.108Z"
   },
   {
    "duration": 6,
    "start_time": "2022-04-11T10:59:48.113Z"
   },
   {
    "duration": 121,
    "start_time": "2022-04-11T10:59:48.121Z"
   },
   {
    "duration": 0,
    "start_time": "2022-04-11T10:59:48.244Z"
   },
   {
    "duration": 0,
    "start_time": "2022-04-11T10:59:48.245Z"
   },
   {
    "duration": 0,
    "start_time": "2022-04-11T10:59:48.247Z"
   },
   {
    "duration": 0,
    "start_time": "2022-04-11T10:59:48.248Z"
   },
   {
    "duration": 0,
    "start_time": "2022-04-11T10:59:48.249Z"
   },
   {
    "duration": 0,
    "start_time": "2022-04-11T10:59:48.250Z"
   },
   {
    "duration": 0,
    "start_time": "2022-04-11T10:59:48.251Z"
   },
   {
    "duration": 0,
    "start_time": "2022-04-11T10:59:48.252Z"
   },
   {
    "duration": 0,
    "start_time": "2022-04-11T10:59:48.253Z"
   },
   {
    "duration": 0,
    "start_time": "2022-04-11T10:59:48.254Z"
   },
   {
    "duration": 0,
    "start_time": "2022-04-11T10:59:48.255Z"
   },
   {
    "duration": 0,
    "start_time": "2022-04-11T10:59:48.256Z"
   },
   {
    "duration": 0,
    "start_time": "2022-04-11T10:59:48.257Z"
   },
   {
    "duration": 0,
    "start_time": "2022-04-11T10:59:48.258Z"
   },
   {
    "duration": 0,
    "start_time": "2022-04-11T10:59:48.259Z"
   },
   {
    "duration": 0,
    "start_time": "2022-04-11T10:59:48.260Z"
   },
   {
    "duration": 0,
    "start_time": "2022-04-11T10:59:48.261Z"
   },
   {
    "duration": 0,
    "start_time": "2022-04-11T10:59:48.262Z"
   },
   {
    "duration": 0,
    "start_time": "2022-04-11T10:59:48.263Z"
   },
   {
    "duration": 0,
    "start_time": "2022-04-11T10:59:48.264Z"
   },
   {
    "duration": 3,
    "start_time": "2022-04-11T11:00:48.119Z"
   },
   {
    "duration": 16,
    "start_time": "2022-04-11T11:00:55.089Z"
   },
   {
    "duration": 3,
    "start_time": "2022-04-11T11:07:44.177Z"
   },
   {
    "duration": 25,
    "start_time": "2022-04-11T11:07:45.435Z"
   },
   {
    "duration": 27,
    "start_time": "2022-04-11T11:08:36.409Z"
   },
   {
    "duration": 3,
    "start_time": "2022-04-11T11:08:38.057Z"
   },
   {
    "duration": 22,
    "start_time": "2022-04-11T11:08:40.418Z"
   },
   {
    "duration": 4,
    "start_time": "2022-04-11T11:08:51.649Z"
   },
   {
    "duration": 2104,
    "start_time": "2022-04-11T11:08:53.331Z"
   },
   {
    "duration": 4,
    "start_time": "2022-04-11T11:09:17.424Z"
   },
   {
    "duration": 24,
    "start_time": "2022-04-11T11:09:18.456Z"
   },
   {
    "duration": 3,
    "start_time": "2022-04-11T11:15:33.597Z"
   },
   {
    "duration": 21,
    "start_time": "2022-04-11T11:15:35.396Z"
   },
   {
    "duration": 4,
    "start_time": "2022-04-11T11:15:42.049Z"
   },
   {
    "duration": 25,
    "start_time": "2022-04-11T11:15:43.813Z"
   },
   {
    "duration": 3,
    "start_time": "2022-04-11T11:15:51.061Z"
   },
   {
    "duration": 16,
    "start_time": "2022-04-11T11:15:52.652Z"
   },
   {
    "duration": 4,
    "start_time": "2022-04-11T11:16:06.235Z"
   },
   {
    "duration": 13,
    "start_time": "2022-04-11T11:16:06.780Z"
   },
   {
    "duration": 3,
    "start_time": "2022-04-11T11:16:21.510Z"
   },
   {
    "duration": 15,
    "start_time": "2022-04-11T11:16:22.180Z"
   },
   {
    "duration": 4,
    "start_time": "2022-04-11T11:20:23.216Z"
   },
   {
    "duration": 28,
    "start_time": "2022-04-11T11:20:23.274Z"
   },
   {
    "duration": 3,
    "start_time": "2022-04-11T11:20:37.393Z"
   },
   {
    "duration": 25,
    "start_time": "2022-04-11T11:20:46.985Z"
   },
   {
    "duration": 4,
    "start_time": "2022-04-11T11:21:29.600Z"
   },
   {
    "duration": 17,
    "start_time": "2022-04-11T11:21:32.944Z"
   },
   {
    "duration": 4,
    "start_time": "2022-04-11T11:22:02.264Z"
   },
   {
    "duration": 20,
    "start_time": "2022-04-11T11:22:02.783Z"
   },
   {
    "duration": 4,
    "start_time": "2022-04-11T11:22:47.192Z"
   },
   {
    "duration": 22,
    "start_time": "2022-04-11T11:22:47.750Z"
   },
   {
    "duration": 2051,
    "start_time": "2022-04-11T11:22:57.903Z"
   },
   {
    "duration": 54,
    "start_time": "2022-04-11T11:22:59.956Z"
   },
   {
    "duration": 4,
    "start_time": "2022-04-11T11:23:00.012Z"
   },
   {
    "duration": 36,
    "start_time": "2022-04-11T11:23:00.018Z"
   },
   {
    "duration": 3,
    "start_time": "2022-04-11T11:23:00.056Z"
   },
   {
    "duration": 18,
    "start_time": "2022-04-11T11:23:00.060Z"
   },
   {
    "duration": 10,
    "start_time": "2022-04-11T11:23:00.080Z"
   },
   {
    "duration": 10,
    "start_time": "2022-04-11T11:23:00.092Z"
   },
   {
    "duration": 201,
    "start_time": "2022-04-11T11:23:00.103Z"
   },
   {
    "duration": 4,
    "start_time": "2022-04-11T11:23:00.307Z"
   },
   {
    "duration": 62,
    "start_time": "2022-04-11T11:23:00.312Z"
   },
   {
    "duration": 15,
    "start_time": "2022-04-11T11:23:00.376Z"
   },
   {
    "duration": 13,
    "start_time": "2022-04-11T11:23:00.393Z"
   },
   {
    "duration": 11,
    "start_time": "2022-04-11T11:23:00.407Z"
   },
   {
    "duration": 7,
    "start_time": "2022-04-11T11:23:00.420Z"
   },
   {
    "duration": 12,
    "start_time": "2022-04-11T11:23:00.429Z"
   },
   {
    "duration": 26,
    "start_time": "2022-04-11T11:23:00.443Z"
   },
   {
    "duration": 342,
    "start_time": "2022-04-11T11:23:00.471Z"
   },
   {
    "duration": 6,
    "start_time": "2022-04-11T11:23:00.815Z"
   },
   {
    "duration": 38,
    "start_time": "2022-04-11T11:23:00.823Z"
   },
   {
    "duration": 6,
    "start_time": "2022-04-11T11:23:00.863Z"
   },
   {
    "duration": 15,
    "start_time": "2022-04-11T11:23:00.871Z"
   },
   {
    "duration": 14,
    "start_time": "2022-04-11T11:23:00.888Z"
   },
   {
    "duration": 19,
    "start_time": "2022-04-11T11:23:00.904Z"
   },
   {
    "duration": 8,
    "start_time": "2022-04-11T11:23:00.925Z"
   },
   {
    "duration": 14,
    "start_time": "2022-04-11T11:23:00.935Z"
   },
   {
    "duration": 4,
    "start_time": "2022-04-11T11:23:00.951Z"
   },
   {
    "duration": 28,
    "start_time": "2022-04-11T11:23:00.959Z"
   },
   {
    "duration": 22,
    "start_time": "2022-04-11T11:23:00.989Z"
   },
   {
    "duration": 17,
    "start_time": "2022-04-11T11:23:01.014Z"
   },
   {
    "duration": 1407,
    "start_time": "2022-04-11T11:23:01.033Z"
   },
   {
    "duration": 8,
    "start_time": "2022-04-11T11:23:02.441Z"
   },
   {
    "duration": 9,
    "start_time": "2022-04-11T11:23:02.450Z"
   },
   {
    "duration": 19,
    "start_time": "2022-04-11T11:23:02.461Z"
   },
   {
    "duration": 142,
    "start_time": "2022-04-11T11:23:02.481Z"
   },
   {
    "duration": 224,
    "start_time": "2022-04-11T11:23:02.625Z"
   },
   {
    "duration": 1285,
    "start_time": "2022-04-11T11:23:02.850Z"
   },
   {
    "duration": 134,
    "start_time": "2022-04-11T11:23:04.136Z"
   },
   {
    "duration": 8,
    "start_time": "2022-04-11T11:23:04.271Z"
   },
   {
    "duration": 158,
    "start_time": "2022-04-11T11:23:04.281Z"
   },
   {
    "duration": 33,
    "start_time": "2022-04-11T11:23:04.441Z"
   },
   {
    "duration": 154,
    "start_time": "2022-04-11T11:23:04.476Z"
   },
   {
    "duration": 17,
    "start_time": "2022-04-11T11:23:04.632Z"
   },
   {
    "duration": 33,
    "start_time": "2022-04-11T11:23:04.651Z"
   },
   {
    "duration": 15,
    "start_time": "2022-04-11T11:23:04.685Z"
   },
   {
    "duration": 169,
    "start_time": "2022-04-11T11:23:04.702Z"
   },
   {
    "duration": 3,
    "start_time": "2022-04-11T11:23:04.873Z"
   },
   {
    "duration": 6,
    "start_time": "2022-04-11T11:23:04.878Z"
   },
   {
    "duration": 121,
    "start_time": "2022-04-11T11:23:04.886Z"
   },
   {
    "duration": 0,
    "start_time": "2022-04-11T11:23:05.009Z"
   },
   {
    "duration": 0,
    "start_time": "2022-04-11T11:23:05.010Z"
   },
   {
    "duration": 0,
    "start_time": "2022-04-11T11:23:05.012Z"
   },
   {
    "duration": 0,
    "start_time": "2022-04-11T11:23:05.013Z"
   },
   {
    "duration": 0,
    "start_time": "2022-04-11T11:23:05.014Z"
   },
   {
    "duration": 0,
    "start_time": "2022-04-11T11:23:05.015Z"
   },
   {
    "duration": 0,
    "start_time": "2022-04-11T11:23:05.016Z"
   },
   {
    "duration": 0,
    "start_time": "2022-04-11T11:23:05.016Z"
   },
   {
    "duration": 0,
    "start_time": "2022-04-11T11:23:05.017Z"
   },
   {
    "duration": 0,
    "start_time": "2022-04-11T11:23:05.018Z"
   },
   {
    "duration": 0,
    "start_time": "2022-04-11T11:23:05.019Z"
   },
   {
    "duration": 0,
    "start_time": "2022-04-11T11:23:05.020Z"
   },
   {
    "duration": 0,
    "start_time": "2022-04-11T11:23:05.021Z"
   },
   {
    "duration": 0,
    "start_time": "2022-04-11T11:23:05.022Z"
   },
   {
    "duration": 0,
    "start_time": "2022-04-11T11:23:05.048Z"
   },
   {
    "duration": 0,
    "start_time": "2022-04-11T11:23:05.049Z"
   },
   {
    "duration": 0,
    "start_time": "2022-04-11T11:23:05.050Z"
   },
   {
    "duration": 0,
    "start_time": "2022-04-11T11:23:05.051Z"
   },
   {
    "duration": 0,
    "start_time": "2022-04-11T11:23:05.052Z"
   },
   {
    "duration": 0,
    "start_time": "2022-04-11T11:23:05.053Z"
   },
   {
    "duration": 3,
    "start_time": "2022-04-11T11:23:19.938Z"
   },
   {
    "duration": 27,
    "start_time": "2022-04-11T11:23:20.505Z"
   },
   {
    "duration": 3,
    "start_time": "2022-04-11T11:23:56.466Z"
   },
   {
    "duration": 16,
    "start_time": "2022-04-11T11:23:57.220Z"
   },
   {
    "duration": 4,
    "start_time": "2022-04-11T11:24:43.666Z"
   },
   {
    "duration": 16,
    "start_time": "2022-04-11T11:24:44.105Z"
   },
   {
    "duration": 4,
    "start_time": "2022-04-11T11:24:53.169Z"
   },
   {
    "duration": 14,
    "start_time": "2022-04-11T11:24:53.593Z"
   },
   {
    "duration": 4,
    "start_time": "2022-04-11T11:25:03.472Z"
   },
   {
    "duration": 19,
    "start_time": "2022-04-11T11:25:03.928Z"
   },
   {
    "duration": 4,
    "start_time": "2022-04-11T11:26:02.112Z"
   },
   {
    "duration": 19,
    "start_time": "2022-04-11T11:26:02.649Z"
   },
   {
    "duration": 5,
    "start_time": "2022-04-11T11:26:30.794Z"
   },
   {
    "duration": 19,
    "start_time": "2022-04-11T11:26:31.496Z"
   },
   {
    "duration": 4,
    "start_time": "2022-04-11T11:26:46.304Z"
   },
   {
    "duration": 22,
    "start_time": "2022-04-11T11:26:47.168Z"
   },
   {
    "duration": 17,
    "start_time": "2022-04-11T11:26:52.992Z"
   },
   {
    "duration": 19,
    "start_time": "2022-04-11T11:29:27.510Z"
   },
   {
    "duration": 5,
    "start_time": "2022-04-11T11:29:35.254Z"
   },
   {
    "duration": 94,
    "start_time": "2022-04-11T11:29:40.015Z"
   },
   {
    "duration": 11,
    "start_time": "2022-04-11T11:32:29.204Z"
   },
   {
    "duration": 214,
    "start_time": "2022-04-11T11:32:40.564Z"
   },
   {
    "duration": 15,
    "start_time": "2022-04-11T11:33:01.099Z"
   },
   {
    "duration": 181,
    "start_time": "2022-04-11T11:33:02.906Z"
   },
   {
    "duration": 267,
    "start_time": "2022-04-11T11:34:29.258Z"
   },
   {
    "duration": 14,
    "start_time": "2022-04-11T11:34:35.740Z"
   },
   {
    "duration": 189,
    "start_time": "2022-04-11T11:34:41.539Z"
   },
   {
    "duration": 261,
    "start_time": "2022-04-11T11:35:05.259Z"
   },
   {
    "duration": 267,
    "start_time": "2022-04-11T11:38:50.503Z"
   },
   {
    "duration": 248,
    "start_time": "2022-04-11T11:40:16.166Z"
   },
   {
    "duration": 261,
    "start_time": "2022-04-11T11:40:29.351Z"
   },
   {
    "duration": 356,
    "start_time": "2022-04-11T11:41:23.462Z"
   },
   {
    "duration": 210,
    "start_time": "2022-04-11T11:41:43.911Z"
   },
   {
    "duration": 252,
    "start_time": "2022-04-11T11:41:57.644Z"
   },
   {
    "duration": 172,
    "start_time": "2022-04-11T11:42:17.237Z"
   },
   {
    "duration": 252,
    "start_time": "2022-04-11T11:42:31.251Z"
   },
   {
    "duration": 359,
    "start_time": "2022-04-11T11:42:43.613Z"
   },
   {
    "duration": 237,
    "start_time": "2022-04-11T11:42:47.675Z"
   },
   {
    "duration": 246,
    "start_time": "2022-04-11T11:43:36.635Z"
   },
   {
    "duration": 173,
    "start_time": "2022-04-11T11:43:44.429Z"
   },
   {
    "duration": 241,
    "start_time": "2022-04-11T11:43:55.499Z"
   },
   {
    "duration": 110,
    "start_time": "2022-04-11T11:48:02.248Z"
   },
   {
    "duration": 337,
    "start_time": "2022-04-11T11:48:26.800Z"
   },
   {
    "duration": 242,
    "start_time": "2022-04-11T11:50:33.599Z"
   },
   {
    "duration": 171,
    "start_time": "2022-04-11T11:50:44.382Z"
   },
   {
    "duration": 239,
    "start_time": "2022-04-11T11:51:06.367Z"
   },
   {
    "duration": 245,
    "start_time": "2022-04-11T11:51:16.670Z"
   },
   {
    "duration": 187,
    "start_time": "2022-04-11T11:53:42.851Z"
   },
   {
    "duration": 290,
    "start_time": "2022-04-11T11:54:04.059Z"
   },
   {
    "duration": 282,
    "start_time": "2022-04-11T11:54:31.781Z"
   },
   {
    "duration": 279,
    "start_time": "2022-04-11T11:54:42.795Z"
   },
   {
    "duration": 179,
    "start_time": "2022-04-11T11:56:03.617Z"
   },
   {
    "duration": 425,
    "start_time": "2022-04-11T11:56:23.347Z"
   },
   {
    "duration": 341,
    "start_time": "2022-04-11T11:56:44.948Z"
   },
   {
    "duration": 192,
    "start_time": "2022-04-11T11:57:06.898Z"
   },
   {
    "duration": 287,
    "start_time": "2022-04-11T11:57:21.899Z"
   },
   {
    "duration": 280,
    "start_time": "2022-04-11T11:59:02.288Z"
   },
   {
    "duration": 124,
    "start_time": "2022-04-11T12:07:56.977Z"
   },
   {
    "duration": 111,
    "start_time": "2022-04-11T12:08:01.801Z"
   },
   {
    "duration": 531,
    "start_time": "2022-04-11T12:32:15.871Z"
   },
   {
    "duration": 240,
    "start_time": "2022-04-11T12:36:19.353Z"
   },
   {
    "duration": 250,
    "start_time": "2022-04-11T12:36:40.754Z"
   },
   {
    "duration": 375,
    "start_time": "2022-04-11T12:36:50.002Z"
   },
   {
    "duration": 455,
    "start_time": "2022-04-11T12:36:58.859Z"
   },
   {
    "duration": 353,
    "start_time": "2022-04-11T12:37:05.569Z"
   },
   {
    "duration": 361,
    "start_time": "2022-04-11T12:37:15.225Z"
   },
   {
    "duration": 214,
    "start_time": "2022-04-11T12:37:21.169Z"
   },
   {
    "duration": 486,
    "start_time": "2022-04-11T12:37:26.473Z"
   },
   {
    "duration": 244,
    "start_time": "2022-04-11T12:37:41.850Z"
   },
   {
    "duration": 357,
    "start_time": "2022-04-11T12:37:48.713Z"
   },
   {
    "duration": 338,
    "start_time": "2022-04-11T12:37:59.089Z"
   },
   {
    "duration": 500,
    "start_time": "2022-04-11T12:38:02.640Z"
   },
   {
    "duration": 350,
    "start_time": "2022-04-11T12:38:12.723Z"
   },
   {
    "duration": 423,
    "start_time": "2022-04-11T12:38:20.536Z"
   },
   {
    "duration": 217,
    "start_time": "2022-04-11T12:38:26.088Z"
   },
   {
    "duration": 365,
    "start_time": "2022-04-11T12:38:34.369Z"
   },
   {
    "duration": 242,
    "start_time": "2022-04-11T12:38:44.216Z"
   },
   {
    "duration": 163,
    "start_time": "2022-04-11T12:41:10.049Z"
   },
   {
    "duration": 249,
    "start_time": "2022-04-11T12:41:17.664Z"
   },
   {
    "duration": 7,
    "start_time": "2022-04-11T12:42:16.117Z"
   },
   {
    "duration": 4,
    "start_time": "2022-04-11T12:42:16.749Z"
   },
   {
    "duration": 1225,
    "start_time": "2022-04-11T12:42:24.716Z"
   },
   {
    "duration": 56,
    "start_time": "2022-04-11T12:42:25.943Z"
   },
   {
    "duration": 4,
    "start_time": "2022-04-11T12:42:26.000Z"
   },
   {
    "duration": 15,
    "start_time": "2022-04-11T12:42:26.006Z"
   },
   {
    "duration": 2,
    "start_time": "2022-04-11T12:42:26.023Z"
   },
   {
    "duration": 28,
    "start_time": "2022-04-11T12:42:26.027Z"
   },
   {
    "duration": 8,
    "start_time": "2022-04-11T12:42:26.057Z"
   },
   {
    "duration": 8,
    "start_time": "2022-04-11T12:42:26.067Z"
   },
   {
    "duration": 180,
    "start_time": "2022-04-11T12:42:26.077Z"
   },
   {
    "duration": 4,
    "start_time": "2022-04-11T12:42:26.259Z"
   },
   {
    "duration": 7,
    "start_time": "2022-04-11T12:42:26.264Z"
   },
   {
    "duration": 8,
    "start_time": "2022-04-11T12:42:26.272Z"
   },
   {
    "duration": 9,
    "start_time": "2022-04-11T12:42:26.281Z"
   },
   {
    "duration": 10,
    "start_time": "2022-04-11T12:42:26.292Z"
   },
   {
    "duration": 7,
    "start_time": "2022-04-11T12:42:26.303Z"
   },
   {
    "duration": 36,
    "start_time": "2022-04-11T12:42:26.311Z"
   },
   {
    "duration": 8,
    "start_time": "2022-04-11T12:42:26.349Z"
   },
   {
    "duration": 278,
    "start_time": "2022-04-11T12:42:26.358Z"
   },
   {
    "duration": 13,
    "start_time": "2022-04-11T12:42:26.638Z"
   },
   {
    "duration": 11,
    "start_time": "2022-04-11T12:42:26.652Z"
   },
   {
    "duration": 6,
    "start_time": "2022-04-11T12:42:26.665Z"
   },
   {
    "duration": 7,
    "start_time": "2022-04-11T12:42:26.673Z"
   },
   {
    "duration": 5,
    "start_time": "2022-04-11T12:42:26.682Z"
   },
   {
    "duration": 9,
    "start_time": "2022-04-11T12:42:26.689Z"
   },
   {
    "duration": 7,
    "start_time": "2022-04-11T12:42:26.700Z"
   },
   {
    "duration": 42,
    "start_time": "2022-04-11T12:42:26.708Z"
   },
   {
    "duration": 23,
    "start_time": "2022-04-11T12:42:26.752Z"
   },
   {
    "duration": 18,
    "start_time": "2022-04-11T12:42:26.779Z"
   },
   {
    "duration": 16,
    "start_time": "2022-04-11T12:42:26.799Z"
   },
   {
    "duration": 17,
    "start_time": "2022-04-11T12:42:26.817Z"
   },
   {
    "duration": 1284,
    "start_time": "2022-04-11T12:42:26.835Z"
   },
   {
    "duration": 6,
    "start_time": "2022-04-11T12:42:28.121Z"
   },
   {
    "duration": 19,
    "start_time": "2022-04-11T12:42:28.129Z"
   },
   {
    "duration": 17,
    "start_time": "2022-04-11T12:42:28.150Z"
   },
   {
    "duration": 123,
    "start_time": "2022-04-11T12:42:28.168Z"
   },
   {
    "duration": 215,
    "start_time": "2022-04-11T12:42:28.293Z"
   },
   {
    "duration": 1094,
    "start_time": "2022-04-11T12:42:28.509Z"
   },
   {
    "duration": 132,
    "start_time": "2022-04-11T12:42:29.605Z"
   },
   {
    "duration": 7,
    "start_time": "2022-04-11T12:42:29.747Z"
   },
   {
    "duration": 150,
    "start_time": "2022-04-11T12:42:29.755Z"
   },
   {
    "duration": 25,
    "start_time": "2022-04-11T12:42:29.906Z"
   },
   {
    "duration": 157,
    "start_time": "2022-04-11T12:42:29.946Z"
   },
   {
    "duration": 8,
    "start_time": "2022-04-11T12:42:30.105Z"
   },
   {
    "duration": 42,
    "start_time": "2022-04-11T12:42:30.114Z"
   },
   {
    "duration": 14,
    "start_time": "2022-04-11T12:42:30.157Z"
   },
   {
    "duration": 163,
    "start_time": "2022-04-11T12:42:30.172Z"
   },
   {
    "duration": 4,
    "start_time": "2022-04-11T12:42:30.336Z"
   },
   {
    "duration": 15,
    "start_time": "2022-04-11T12:42:30.347Z"
   },
   {
    "duration": 46,
    "start_time": "2022-04-11T12:42:30.364Z"
   },
   {
    "duration": 23,
    "start_time": "2022-04-11T12:42:30.411Z"
   },
   {
    "duration": 35,
    "start_time": "2022-04-11T12:42:30.435Z"
   },
   {
    "duration": 15,
    "start_time": "2022-04-11T12:42:30.471Z"
   },
   {
    "duration": 21,
    "start_time": "2022-04-11T12:42:30.487Z"
   },
   {
    "duration": 110,
    "start_time": "2022-04-11T12:42:30.510Z"
   },
   {
    "duration": 0,
    "start_time": "2022-04-11T12:42:30.622Z"
   },
   {
    "duration": 0,
    "start_time": "2022-04-11T12:42:30.623Z"
   },
   {
    "duration": 0,
    "start_time": "2022-04-11T12:42:30.624Z"
   },
   {
    "duration": 0,
    "start_time": "2022-04-11T12:42:30.626Z"
   },
   {
    "duration": 0,
    "start_time": "2022-04-11T12:42:30.627Z"
   },
   {
    "duration": 0,
    "start_time": "2022-04-11T12:42:30.628Z"
   },
   {
    "duration": 0,
    "start_time": "2022-04-11T12:42:30.629Z"
   },
   {
    "duration": 0,
    "start_time": "2022-04-11T12:42:30.630Z"
   },
   {
    "duration": 0,
    "start_time": "2022-04-11T12:42:30.647Z"
   },
   {
    "duration": 0,
    "start_time": "2022-04-11T12:42:30.648Z"
   },
   {
    "duration": 0,
    "start_time": "2022-04-11T12:42:30.649Z"
   },
   {
    "duration": 0,
    "start_time": "2022-04-11T12:42:30.650Z"
   },
   {
    "duration": 0,
    "start_time": "2022-04-11T12:42:30.651Z"
   },
   {
    "duration": 0,
    "start_time": "2022-04-11T12:42:30.652Z"
   },
   {
    "duration": 0,
    "start_time": "2022-04-11T12:42:30.653Z"
   },
   {
    "duration": 239,
    "start_time": "2022-04-11T12:42:58.866Z"
   },
   {
    "duration": 6,
    "start_time": "2022-04-11T12:44:02.268Z"
   },
   {
    "duration": 4,
    "start_time": "2022-04-11T12:44:02.856Z"
   },
   {
    "duration": 1158,
    "start_time": "2022-04-11T12:44:08.477Z"
   },
   {
    "duration": 54,
    "start_time": "2022-04-11T12:44:09.637Z"
   },
   {
    "duration": 4,
    "start_time": "2022-04-11T12:44:09.693Z"
   },
   {
    "duration": 17,
    "start_time": "2022-04-11T12:44:09.699Z"
   },
   {
    "duration": 3,
    "start_time": "2022-04-11T12:44:09.717Z"
   },
   {
    "duration": 20,
    "start_time": "2022-04-11T12:44:09.721Z"
   },
   {
    "duration": 6,
    "start_time": "2022-04-11T12:44:09.748Z"
   },
   {
    "duration": 10,
    "start_time": "2022-04-11T12:44:09.755Z"
   },
   {
    "duration": 185,
    "start_time": "2022-04-11T12:44:09.766Z"
   },
   {
    "duration": 3,
    "start_time": "2022-04-11T12:44:09.954Z"
   },
   {
    "duration": 12,
    "start_time": "2022-04-11T12:44:09.958Z"
   },
   {
    "duration": 9,
    "start_time": "2022-04-11T12:44:09.972Z"
   },
   {
    "duration": 10,
    "start_time": "2022-04-11T12:44:09.982Z"
   },
   {
    "duration": 11,
    "start_time": "2022-04-11T12:44:09.993Z"
   },
   {
    "duration": 8,
    "start_time": "2022-04-11T12:44:10.005Z"
   },
   {
    "duration": 8,
    "start_time": "2022-04-11T12:44:10.015Z"
   },
   {
    "duration": 8,
    "start_time": "2022-04-11T12:44:10.048Z"
   },
   {
    "duration": 277,
    "start_time": "2022-04-11T12:44:10.058Z"
   },
   {
    "duration": 14,
    "start_time": "2022-04-11T12:44:10.337Z"
   },
   {
    "duration": 9,
    "start_time": "2022-04-11T12:44:10.353Z"
   },
   {
    "duration": 7,
    "start_time": "2022-04-11T12:44:10.364Z"
   },
   {
    "duration": 7,
    "start_time": "2022-04-11T12:44:10.373Z"
   },
   {
    "duration": 26,
    "start_time": "2022-04-11T12:44:10.382Z"
   },
   {
    "duration": 10,
    "start_time": "2022-04-11T12:44:10.410Z"
   },
   {
    "duration": 20,
    "start_time": "2022-04-11T12:44:10.422Z"
   },
   {
    "duration": 20,
    "start_time": "2022-04-11T12:44:10.446Z"
   },
   {
    "duration": 8,
    "start_time": "2022-04-11T12:44:10.468Z"
   },
   {
    "duration": 17,
    "start_time": "2022-04-11T12:44:10.481Z"
   },
   {
    "duration": 17,
    "start_time": "2022-04-11T12:44:10.500Z"
   },
   {
    "duration": 35,
    "start_time": "2022-04-11T12:44:10.519Z"
   },
   {
    "duration": 1275,
    "start_time": "2022-04-11T12:44:10.556Z"
   },
   {
    "duration": 14,
    "start_time": "2022-04-11T12:44:11.833Z"
   },
   {
    "duration": 4,
    "start_time": "2022-04-11T12:44:11.849Z"
   },
   {
    "duration": 19,
    "start_time": "2022-04-11T12:44:11.855Z"
   },
   {
    "duration": 129,
    "start_time": "2022-04-11T12:44:11.875Z"
   },
   {
    "duration": 229,
    "start_time": "2022-04-11T12:44:12.006Z"
   },
   {
    "duration": 1166,
    "start_time": "2022-04-11T12:44:12.237Z"
   },
   {
    "duration": 127,
    "start_time": "2022-04-11T12:44:13.405Z"
   },
   {
    "duration": 15,
    "start_time": "2022-04-11T12:44:13.533Z"
   },
   {
    "duration": 141,
    "start_time": "2022-04-11T12:44:13.550Z"
   },
   {
    "duration": 28,
    "start_time": "2022-04-11T12:44:13.693Z"
   },
   {
    "duration": 161,
    "start_time": "2022-04-11T12:44:13.723Z"
   },
   {
    "duration": 9,
    "start_time": "2022-04-11T12:44:13.885Z"
   },
   {
    "duration": 29,
    "start_time": "2022-04-11T12:44:13.895Z"
   },
   {
    "duration": 35,
    "start_time": "2022-04-11T12:44:13.925Z"
   },
   {
    "duration": 158,
    "start_time": "2022-04-11T12:44:13.962Z"
   },
   {
    "duration": 3,
    "start_time": "2022-04-11T12:44:14.121Z"
   },
   {
    "duration": 6,
    "start_time": "2022-04-11T12:44:14.126Z"
   },
   {
    "duration": 25,
    "start_time": "2022-04-11T12:44:14.134Z"
   },
   {
    "duration": 15,
    "start_time": "2022-04-11T12:44:14.160Z"
   },
   {
    "duration": 20,
    "start_time": "2022-04-11T12:44:14.176Z"
   },
   {
    "duration": 14,
    "start_time": "2022-04-11T12:44:14.197Z"
   },
   {
    "duration": 45,
    "start_time": "2022-04-11T12:44:14.212Z"
   },
   {
    "duration": 254,
    "start_time": "2022-04-11T12:44:14.259Z"
   },
   {
    "duration": 16,
    "start_time": "2022-04-11T12:44:14.515Z"
   },
   {
    "duration": 145,
    "start_time": "2022-04-11T12:44:14.547Z"
   },
   {
    "duration": 20,
    "start_time": "2022-04-11T12:44:14.694Z"
   },
   {
    "duration": 89,
    "start_time": "2022-04-11T12:44:14.715Z"
   },
   {
    "duration": 16,
    "start_time": "2022-04-11T12:44:14.806Z"
   },
   {
    "duration": 29,
    "start_time": "2022-04-11T12:44:14.823Z"
   },
   {
    "duration": 18,
    "start_time": "2022-04-11T12:44:14.853Z"
   },
   {
    "duration": 16,
    "start_time": "2022-04-11T12:44:14.872Z"
   },
   {
    "duration": 20,
    "start_time": "2022-04-11T12:44:14.889Z"
   },
   {
    "duration": 7,
    "start_time": "2022-04-11T12:44:14.911Z"
   },
   {
    "duration": 7,
    "start_time": "2022-04-11T12:44:14.947Z"
   },
   {
    "duration": 9,
    "start_time": "2022-04-11T12:44:14.955Z"
   },
   {
    "duration": 12,
    "start_time": "2022-04-11T12:44:14.966Z"
   },
   {
    "duration": 5,
    "start_time": "2022-04-11T12:44:14.980Z"
   },
   {
    "duration": 10,
    "start_time": "2022-04-11T12:44:14.987Z"
   },
   {
    "duration": 203,
    "start_time": "2022-04-11T12:57:05.810Z"
   },
   {
    "duration": 130,
    "start_time": "2022-04-11T12:57:33.003Z"
   },
   {
    "duration": 4,
    "start_time": "2022-04-11T12:57:40.708Z"
   },
   {
    "duration": 381,
    "start_time": "2022-04-11T12:58:57.760Z"
   },
   {
    "duration": 236,
    "start_time": "2022-04-11T12:59:10.008Z"
   },
   {
    "duration": 249,
    "start_time": "2022-04-11T12:59:28.769Z"
   },
   {
    "duration": 262,
    "start_time": "2022-04-11T12:59:57.223Z"
   },
   {
    "duration": 39,
    "start_time": "2022-04-11T13:00:29.632Z"
   },
   {
    "duration": 271,
    "start_time": "2022-04-11T13:00:35.927Z"
   },
   {
    "duration": 269,
    "start_time": "2022-04-11T13:03:40.602Z"
   },
   {
    "duration": 25,
    "start_time": "2022-04-11T13:03:45.957Z"
   },
   {
    "duration": 719,
    "start_time": "2022-04-11T13:03:47.749Z"
   },
   {
    "duration": 41,
    "start_time": "2022-04-11T13:04:01.966Z"
   },
   {
    "duration": 284,
    "start_time": "2022-04-11T13:04:04.028Z"
   },
   {
    "duration": 40,
    "start_time": "2022-04-11T13:32:39.018Z"
   },
   {
    "duration": 34,
    "start_time": "2022-04-11T13:33:25.315Z"
   },
   {
    "duration": 2271,
    "start_time": "2022-04-11T13:33:35.777Z"
   },
   {
    "duration": 204,
    "start_time": "2022-04-11T13:33:51.785Z"
   },
   {
    "duration": 217,
    "start_time": "2022-04-11T13:38:00.256Z"
   },
   {
    "duration": 260,
    "start_time": "2022-04-11T13:38:08.814Z"
   },
   {
    "duration": 227,
    "start_time": "2022-04-11T13:39:48.172Z"
   },
   {
    "duration": 214,
    "start_time": "2022-04-11T13:40:00.646Z"
   },
   {
    "duration": 374,
    "start_time": "2022-04-11T13:40:07.134Z"
   },
   {
    "duration": 259,
    "start_time": "2022-04-11T13:42:44.365Z"
   },
   {
    "duration": 270,
    "start_time": "2022-04-11T13:43:48.218Z"
   },
   {
    "duration": 276,
    "start_time": "2022-04-11T13:43:55.477Z"
   },
   {
    "duration": 108,
    "start_time": "2022-04-11T13:47:45.611Z"
   },
   {
    "duration": 169,
    "start_time": "2022-04-11T13:47:53.177Z"
   },
   {
    "duration": 10,
    "start_time": "2022-04-11T13:51:33.406Z"
   },
   {
    "duration": 6,
    "start_time": "2022-04-11T13:51:36.373Z"
   },
   {
    "duration": 7,
    "start_time": "2022-04-11T13:51:45.860Z"
   },
   {
    "duration": 8,
    "start_time": "2022-04-11T13:51:47.692Z"
   },
   {
    "duration": 2264,
    "start_time": "2022-04-11T14:08:12.959Z"
   },
   {
    "duration": 280,
    "start_time": "2022-04-11T14:08:26.709Z"
   },
   {
    "duration": 10,
    "start_time": "2022-04-11T14:10:15.535Z"
   },
   {
    "duration": 7,
    "start_time": "2022-04-11T14:10:23.113Z"
   },
   {
    "duration": 7,
    "start_time": "2022-04-11T14:10:24.579Z"
   },
   {
    "duration": 39,
    "start_time": "2022-04-11T14:13:36.131Z"
   },
   {
    "duration": 218,
    "start_time": "2022-04-11T14:13:46.705Z"
   },
   {
    "duration": 399,
    "start_time": "2022-04-11T14:33:39.524Z"
   },
   {
    "duration": 129,
    "start_time": "2022-04-11T14:35:41.338Z"
   },
   {
    "duration": 96,
    "start_time": "2022-04-11T14:35:49.792Z"
   },
   {
    "duration": 101,
    "start_time": "2022-04-11T14:36:20.106Z"
   },
   {
    "duration": 5,
    "start_time": "2022-04-11T14:36:58.424Z"
   },
   {
    "duration": 94,
    "start_time": "2022-04-11T14:37:03.721Z"
   },
   {
    "duration": 86,
    "start_time": "2022-04-11T14:37:27.712Z"
   },
   {
    "duration": 91,
    "start_time": "2022-04-11T14:37:36.631Z"
   },
   {
    "duration": 93,
    "start_time": "2022-04-11T14:37:43.336Z"
   },
   {
    "duration": 300,
    "start_time": "2022-04-11T14:43:06.036Z"
   },
   {
    "duration": 280,
    "start_time": "2022-04-11T14:43:34.955Z"
   },
   {
    "duration": 292,
    "start_time": "2022-04-11T14:44:07.735Z"
   },
   {
    "duration": 294,
    "start_time": "2022-04-11T14:45:18.985Z"
   },
   {
    "duration": 479,
    "start_time": "2022-04-11T14:45:30.035Z"
   },
   {
    "duration": 282,
    "start_time": "2022-04-11T14:45:34.667Z"
   },
   {
    "duration": 1225,
    "start_time": "2022-04-11T14:45:45.721Z"
   },
   {
    "duration": 57,
    "start_time": "2022-04-11T14:45:46.948Z"
   },
   {
    "duration": 5,
    "start_time": "2022-04-11T14:45:47.009Z"
   },
   {
    "duration": 19,
    "start_time": "2022-04-11T14:45:47.015Z"
   },
   {
    "duration": 12,
    "start_time": "2022-04-11T14:45:47.036Z"
   },
   {
    "duration": 15,
    "start_time": "2022-04-11T14:45:47.050Z"
   },
   {
    "duration": 14,
    "start_time": "2022-04-11T14:45:47.067Z"
   },
   {
    "duration": 11,
    "start_time": "2022-04-11T14:45:47.083Z"
   },
   {
    "duration": 196,
    "start_time": "2022-04-11T14:45:47.097Z"
   },
   {
    "duration": 3,
    "start_time": "2022-04-11T14:45:47.295Z"
   },
   {
    "duration": 9,
    "start_time": "2022-04-11T14:45:47.300Z"
   },
   {
    "duration": 14,
    "start_time": "2022-04-11T14:45:47.311Z"
   },
   {
    "duration": 20,
    "start_time": "2022-04-11T14:45:47.327Z"
   },
   {
    "duration": 12,
    "start_time": "2022-04-11T14:45:47.349Z"
   },
   {
    "duration": 10,
    "start_time": "2022-04-11T14:45:47.363Z"
   },
   {
    "duration": 8,
    "start_time": "2022-04-11T14:45:47.375Z"
   },
   {
    "duration": 9,
    "start_time": "2022-04-11T14:45:47.384Z"
   },
   {
    "duration": 337,
    "start_time": "2022-04-11T14:45:47.394Z"
   },
   {
    "duration": 17,
    "start_time": "2022-04-11T14:45:47.733Z"
   },
   {
    "duration": 13,
    "start_time": "2022-04-11T14:45:47.752Z"
   },
   {
    "duration": 8,
    "start_time": "2022-04-11T14:45:47.766Z"
   },
   {
    "duration": 7,
    "start_time": "2022-04-11T14:45:47.776Z"
   },
   {
    "duration": 12,
    "start_time": "2022-04-11T14:45:47.785Z"
   },
   {
    "duration": 13,
    "start_time": "2022-04-11T14:45:47.798Z"
   },
   {
    "duration": 8,
    "start_time": "2022-04-11T14:45:47.813Z"
   },
   {
    "duration": 30,
    "start_time": "2022-04-11T14:45:47.823Z"
   },
   {
    "duration": 5,
    "start_time": "2022-04-11T14:45:47.856Z"
   },
   {
    "duration": 22,
    "start_time": "2022-04-11T14:45:47.862Z"
   },
   {
    "duration": 17,
    "start_time": "2022-04-11T14:45:47.886Z"
   },
   {
    "duration": 46,
    "start_time": "2022-04-11T14:45:47.906Z"
   },
   {
    "duration": 1371,
    "start_time": "2022-04-11T14:45:47.954Z"
   },
   {
    "duration": 7,
    "start_time": "2022-04-11T14:45:49.327Z"
   },
   {
    "duration": 14,
    "start_time": "2022-04-11T14:45:49.336Z"
   },
   {
    "duration": 18,
    "start_time": "2022-04-11T14:45:49.351Z"
   },
   {
    "duration": 139,
    "start_time": "2022-04-11T14:45:49.371Z"
   },
   {
    "duration": 233,
    "start_time": "2022-04-11T14:45:49.512Z"
   },
   {
    "duration": 5,
    "start_time": "2022-04-11T14:45:49.747Z"
   },
   {
    "duration": 97,
    "start_time": "2022-04-11T14:45:49.754Z"
   },
   {
    "duration": 307,
    "start_time": "2022-04-11T14:45:49.853Z"
   },
   {
    "duration": 139,
    "start_time": "2022-04-11T14:45:50.163Z"
   },
   {
    "duration": 8,
    "start_time": "2022-04-11T14:45:50.304Z"
   },
   {
    "duration": 156,
    "start_time": "2022-04-11T14:45:50.314Z"
   },
   {
    "duration": 30,
    "start_time": "2022-04-11T14:45:50.472Z"
   },
   {
    "duration": 166,
    "start_time": "2022-04-11T14:45:50.504Z"
   },
   {
    "duration": 9,
    "start_time": "2022-04-11T14:45:50.672Z"
   },
   {
    "duration": 33,
    "start_time": "2022-04-11T14:45:50.683Z"
   },
   {
    "duration": 38,
    "start_time": "2022-04-11T14:45:50.717Z"
   },
   {
    "duration": 190,
    "start_time": "2022-04-11T14:45:50.757Z"
   },
   {
    "duration": 4,
    "start_time": "2022-04-11T14:45:50.949Z"
   },
   {
    "duration": 9,
    "start_time": "2022-04-11T14:45:50.954Z"
   },
   {
    "duration": 21,
    "start_time": "2022-04-11T14:45:50.965Z"
   },
   {
    "duration": 16,
    "start_time": "2022-04-11T14:45:50.988Z"
   },
   {
    "duration": 59,
    "start_time": "2022-04-11T14:45:51.005Z"
   },
   {
    "duration": 283,
    "start_time": "2022-04-11T14:45:51.066Z"
   },
   {
    "duration": 36,
    "start_time": "2022-04-11T14:45:51.351Z"
   },
   {
    "duration": 397,
    "start_time": "2022-04-11T14:45:51.388Z"
   },
   {
    "duration": 40,
    "start_time": "2022-04-11T14:45:51.787Z"
   },
   {
    "duration": 245,
    "start_time": "2022-04-11T14:45:51.828Z"
   },
   {
    "duration": 10,
    "start_time": "2022-04-11T14:45:52.075Z"
   },
   {
    "duration": 9,
    "start_time": "2022-04-11T14:45:52.087Z"
   },
   {
    "duration": 122,
    "start_time": "2022-04-11T14:54:46.509Z"
   },
   {
    "duration": 4,
    "start_time": "2022-04-11T14:54:57.077Z"
   },
   {
    "duration": 118,
    "start_time": "2022-04-11T14:55:00.476Z"
   },
   {
    "duration": 4,
    "start_time": "2022-04-11T14:55:11.403Z"
   },
   {
    "duration": 21,
    "start_time": "2022-04-11T14:55:14.125Z"
   },
   {
    "duration": 1209,
    "start_time": "2022-04-11T14:55:25.321Z"
   },
   {
    "duration": 56,
    "start_time": "2022-04-11T14:55:26.532Z"
   },
   {
    "duration": 4,
    "start_time": "2022-04-11T14:55:26.594Z"
   },
   {
    "duration": 19,
    "start_time": "2022-04-11T14:55:26.600Z"
   },
   {
    "duration": 3,
    "start_time": "2022-04-11T14:55:26.621Z"
   },
   {
    "duration": 15,
    "start_time": "2022-04-11T14:55:26.648Z"
   },
   {
    "duration": 10,
    "start_time": "2022-04-11T14:55:26.665Z"
   },
   {
    "duration": 11,
    "start_time": "2022-04-11T14:55:26.677Z"
   },
   {
    "duration": 198,
    "start_time": "2022-04-11T14:55:26.692Z"
   },
   {
    "duration": 4,
    "start_time": "2022-04-11T14:55:26.892Z"
   },
   {
    "duration": 7,
    "start_time": "2022-04-11T14:55:26.898Z"
   },
   {
    "duration": 8,
    "start_time": "2022-04-11T14:55:26.907Z"
   },
   {
    "duration": 9,
    "start_time": "2022-04-11T14:55:26.916Z"
   },
   {
    "duration": 10,
    "start_time": "2022-04-11T14:55:26.947Z"
   },
   {
    "duration": 9,
    "start_time": "2022-04-11T14:55:26.959Z"
   },
   {
    "duration": 9,
    "start_time": "2022-04-11T14:55:26.970Z"
   },
   {
    "duration": 9,
    "start_time": "2022-04-11T14:55:26.980Z"
   },
   {
    "duration": 340,
    "start_time": "2022-04-11T14:55:26.991Z"
   },
   {
    "duration": 16,
    "start_time": "2022-04-11T14:55:27.333Z"
   },
   {
    "duration": 9,
    "start_time": "2022-04-11T14:55:27.350Z"
   },
   {
    "duration": 8,
    "start_time": "2022-04-11T14:55:27.361Z"
   },
   {
    "duration": 7,
    "start_time": "2022-04-11T14:55:27.370Z"
   },
   {
    "duration": 6,
    "start_time": "2022-04-11T14:55:27.378Z"
   },
   {
    "duration": 9,
    "start_time": "2022-04-11T14:55:27.386Z"
   },
   {
    "duration": 8,
    "start_time": "2022-04-11T14:55:27.397Z"
   },
   {
    "duration": 46,
    "start_time": "2022-04-11T14:55:27.407Z"
   },
   {
    "duration": 5,
    "start_time": "2022-04-11T14:55:27.458Z"
   },
   {
    "duration": 22,
    "start_time": "2022-04-11T14:55:27.464Z"
   },
   {
    "duration": 19,
    "start_time": "2022-04-11T14:55:27.487Z"
   },
   {
    "duration": 43,
    "start_time": "2022-04-11T14:55:27.508Z"
   },
   {
    "duration": 1333,
    "start_time": "2022-04-11T14:55:27.553Z"
   },
   {
    "duration": 7,
    "start_time": "2022-04-11T14:55:28.888Z"
   },
   {
    "duration": 8,
    "start_time": "2022-04-11T14:55:28.897Z"
   },
   {
    "duration": 16,
    "start_time": "2022-04-11T14:55:28.907Z"
   },
   {
    "duration": 151,
    "start_time": "2022-04-11T14:55:28.925Z"
   },
   {
    "duration": 231,
    "start_time": "2022-04-11T14:55:29.078Z"
   },
   {
    "duration": 5,
    "start_time": "2022-04-11T14:55:29.312Z"
   },
   {
    "duration": 98,
    "start_time": "2022-04-11T14:55:29.319Z"
   },
   {
    "duration": 297,
    "start_time": "2022-04-11T14:55:29.419Z"
   },
   {
    "duration": 133,
    "start_time": "2022-04-11T14:55:29.718Z"
   },
   {
    "duration": 8,
    "start_time": "2022-04-11T14:55:29.853Z"
   },
   {
    "duration": 142,
    "start_time": "2022-04-11T14:55:29.863Z"
   },
   {
    "duration": 50,
    "start_time": "2022-04-11T14:55:30.007Z"
   },
   {
    "duration": 149,
    "start_time": "2022-04-11T14:55:30.059Z"
   },
   {
    "duration": 8,
    "start_time": "2022-04-11T14:55:30.210Z"
   },
   {
    "duration": 48,
    "start_time": "2022-04-11T14:55:30.220Z"
   },
   {
    "duration": 15,
    "start_time": "2022-04-11T14:55:30.269Z"
   },
   {
    "duration": 194,
    "start_time": "2022-04-11T14:55:30.286Z"
   },
   {
    "duration": 3,
    "start_time": "2022-04-11T14:55:30.482Z"
   },
   {
    "duration": 23,
    "start_time": "2022-04-11T14:55:30.487Z"
   },
   {
    "duration": 35,
    "start_time": "2022-04-11T14:55:30.513Z"
   },
   {
    "duration": 15,
    "start_time": "2022-04-11T14:55:30.549Z"
   },
   {
    "duration": 52,
    "start_time": "2022-04-11T14:55:30.566Z"
   },
   {
    "duration": 245,
    "start_time": "2022-04-11T14:55:30.619Z"
   },
   {
    "duration": 35,
    "start_time": "2022-04-11T14:55:30.866Z"
   },
   {
    "duration": 749,
    "start_time": "2022-04-11T14:55:30.903Z"
   },
   {
    "duration": 2368,
    "start_time": "2022-04-11T14:55:31.654Z"
   },
   {
    "duration": 0,
    "start_time": "2022-04-11T14:55:34.024Z"
   },
   {
    "duration": 0,
    "start_time": "2022-04-11T14:55:34.025Z"
   },
   {
    "duration": 0,
    "start_time": "2022-04-11T14:55:34.026Z"
   },
   {
    "duration": 4,
    "start_time": "2022-04-11T14:57:51.213Z"
   },
   {
    "duration": 19,
    "start_time": "2022-04-11T14:57:52.036Z"
   },
   {
    "duration": 5,
    "start_time": "2022-04-11T14:58:33.605Z"
   },
   {
    "duration": 20,
    "start_time": "2022-04-11T14:58:34.180Z"
   },
   {
    "duration": 5,
    "start_time": "2022-04-11T14:59:19.958Z"
   },
   {
    "duration": 30,
    "start_time": "2022-04-11T14:59:20.782Z"
   },
   {
    "duration": 5,
    "start_time": "2022-04-11T15:00:02.555Z"
   },
   {
    "duration": 23,
    "start_time": "2022-04-11T15:00:03.683Z"
   },
   {
    "duration": 4,
    "start_time": "2022-04-11T15:00:26.355Z"
   },
   {
    "duration": 21,
    "start_time": "2022-04-11T15:00:26.915Z"
   },
   {
    "duration": 1186,
    "start_time": "2022-04-11T15:00:37.069Z"
   },
   {
    "duration": 51,
    "start_time": "2022-04-11T15:00:38.258Z"
   },
   {
    "duration": 3,
    "start_time": "2022-04-11T15:00:38.312Z"
   },
   {
    "duration": 30,
    "start_time": "2022-04-11T15:00:38.318Z"
   },
   {
    "duration": 4,
    "start_time": "2022-04-11T15:00:38.349Z"
   },
   {
    "duration": 17,
    "start_time": "2022-04-11T15:00:38.355Z"
   },
   {
    "duration": 10,
    "start_time": "2022-04-11T15:00:38.373Z"
   },
   {
    "duration": 10,
    "start_time": "2022-04-11T15:00:38.385Z"
   },
   {
    "duration": 215,
    "start_time": "2022-04-11T15:00:38.397Z"
   },
   {
    "duration": 4,
    "start_time": "2022-04-11T15:00:38.615Z"
   },
   {
    "duration": 9,
    "start_time": "2022-04-11T15:00:38.620Z"
   },
   {
    "duration": 25,
    "start_time": "2022-04-11T15:00:38.631Z"
   },
   {
    "duration": 12,
    "start_time": "2022-04-11T15:00:38.658Z"
   },
   {
    "duration": 17,
    "start_time": "2022-04-11T15:00:38.672Z"
   },
   {
    "duration": 13,
    "start_time": "2022-04-11T15:00:38.691Z"
   },
   {
    "duration": 9,
    "start_time": "2022-04-11T15:00:38.706Z"
   },
   {
    "duration": 38,
    "start_time": "2022-04-11T15:00:38.717Z"
   },
   {
    "duration": 298,
    "start_time": "2022-04-11T15:00:38.757Z"
   },
   {
    "duration": 6,
    "start_time": "2022-04-11T15:00:39.057Z"
   },
   {
    "duration": 16,
    "start_time": "2022-04-11T15:00:39.065Z"
   },
   {
    "duration": 11,
    "start_time": "2022-04-11T15:00:39.083Z"
   },
   {
    "duration": 7,
    "start_time": "2022-04-11T15:00:39.096Z"
   },
   {
    "duration": 7,
    "start_time": "2022-04-11T15:00:39.105Z"
   },
   {
    "duration": 35,
    "start_time": "2022-04-11T15:00:39.114Z"
   },
   {
    "duration": 9,
    "start_time": "2022-04-11T15:00:39.151Z"
   },
   {
    "duration": 21,
    "start_time": "2022-04-11T15:00:39.162Z"
   },
   {
    "duration": 6,
    "start_time": "2022-04-11T15:00:39.185Z"
   },
   {
    "duration": 19,
    "start_time": "2022-04-11T15:00:39.196Z"
   },
   {
    "duration": 42,
    "start_time": "2022-04-11T15:00:39.217Z"
   },
   {
    "duration": 16,
    "start_time": "2022-04-11T15:00:39.261Z"
   },
   {
    "duration": 1451,
    "start_time": "2022-04-11T15:00:39.279Z"
   },
   {
    "duration": 18,
    "start_time": "2022-04-11T15:00:40.732Z"
   },
   {
    "duration": 10,
    "start_time": "2022-04-11T15:00:40.752Z"
   },
   {
    "duration": 24,
    "start_time": "2022-04-11T15:00:40.763Z"
   },
   {
    "duration": 137,
    "start_time": "2022-04-11T15:00:40.789Z"
   },
   {
    "duration": 231,
    "start_time": "2022-04-11T15:00:40.928Z"
   },
   {
    "duration": 5,
    "start_time": "2022-04-11T15:00:41.161Z"
   },
   {
    "duration": 103,
    "start_time": "2022-04-11T15:00:41.168Z"
   },
   {
    "duration": 312,
    "start_time": "2022-04-11T15:00:41.273Z"
   },
   {
    "duration": 153,
    "start_time": "2022-04-11T15:00:41.587Z"
   },
   {
    "duration": 12,
    "start_time": "2022-04-11T15:00:41.741Z"
   },
   {
    "duration": 160,
    "start_time": "2022-04-11T15:00:41.754Z"
   },
   {
    "duration": 50,
    "start_time": "2022-04-11T15:00:41.915Z"
   },
   {
    "duration": 167,
    "start_time": "2022-04-11T15:00:41.967Z"
   },
   {
    "duration": 15,
    "start_time": "2022-04-11T15:00:42.136Z"
   },
   {
    "duration": 32,
    "start_time": "2022-04-11T15:00:42.152Z"
   },
   {
    "duration": 17,
    "start_time": "2022-04-11T15:00:42.186Z"
   },
   {
    "duration": 207,
    "start_time": "2022-04-11T15:00:42.205Z"
   },
   {
    "duration": 4,
    "start_time": "2022-04-11T15:00:42.415Z"
   },
   {
    "duration": 11,
    "start_time": "2022-04-11T15:00:42.421Z"
   },
   {
    "duration": 117,
    "start_time": "2022-04-11T15:00:42.434Z"
   },
   {
    "duration": 0,
    "start_time": "2022-04-11T15:00:42.553Z"
   },
   {
    "duration": 0,
    "start_time": "2022-04-11T15:00:42.554Z"
   },
   {
    "duration": 0,
    "start_time": "2022-04-11T15:00:42.556Z"
   },
   {
    "duration": 0,
    "start_time": "2022-04-11T15:00:42.557Z"
   },
   {
    "duration": 0,
    "start_time": "2022-04-11T15:00:42.559Z"
   },
   {
    "duration": 0,
    "start_time": "2022-04-11T15:00:42.560Z"
   },
   {
    "duration": 1,
    "start_time": "2022-04-11T15:00:42.561Z"
   },
   {
    "duration": 0,
    "start_time": "2022-04-11T15:00:42.563Z"
   },
   {
    "duration": 0,
    "start_time": "2022-04-11T15:00:42.564Z"
   },
   {
    "duration": 4,
    "start_time": "2022-04-11T15:01:29.957Z"
   },
   {
    "duration": 21,
    "start_time": "2022-04-11T15:01:30.829Z"
   },
   {
    "duration": 3,
    "start_time": "2022-04-11T15:01:39.493Z"
   },
   {
    "duration": 22,
    "start_time": "2022-04-11T15:01:40.013Z"
   },
   {
    "duration": 4,
    "start_time": "2022-04-11T15:01:56.165Z"
   },
   {
    "duration": 29,
    "start_time": "2022-04-11T15:01:56.837Z"
   },
   {
    "duration": 5,
    "start_time": "2022-04-11T15:02:33.940Z"
   },
   {
    "duration": 6,
    "start_time": "2022-04-11T15:02:49.308Z"
   },
   {
    "duration": 28,
    "start_time": "2022-04-11T15:02:50.183Z"
   },
   {
    "duration": 4,
    "start_time": "2022-04-11T15:03:08.340Z"
   },
   {
    "duration": 19,
    "start_time": "2022-04-11T15:03:08.963Z"
   },
   {
    "duration": 4,
    "start_time": "2022-04-11T15:03:44.038Z"
   },
   {
    "duration": 19,
    "start_time": "2022-04-11T15:03:44.755Z"
   },
   {
    "duration": 20,
    "start_time": "2022-04-11T15:03:48.075Z"
   },
   {
    "duration": 49,
    "start_time": "2022-04-11T15:03:58.027Z"
   },
   {
    "duration": 279,
    "start_time": "2022-04-11T15:03:59.075Z"
   },
   {
    "duration": 37,
    "start_time": "2022-04-11T15:05:20.073Z"
   },
   {
    "duration": 409,
    "start_time": "2022-04-11T15:05:20.883Z"
   },
   {
    "duration": 38,
    "start_time": "2022-04-11T15:05:24.625Z"
   },
   {
    "duration": 220,
    "start_time": "2022-04-11T15:05:25.425Z"
   },
   {
    "duration": 1563,
    "start_time": "2022-04-11T18:30:33.241Z"
   },
   {
    "duration": 57,
    "start_time": "2022-04-11T18:30:34.806Z"
   },
   {
    "duration": 4,
    "start_time": "2022-04-11T18:30:34.865Z"
   },
   {
    "duration": 29,
    "start_time": "2022-04-11T18:30:34.872Z"
   },
   {
    "duration": 3,
    "start_time": "2022-04-11T18:30:34.903Z"
   },
   {
    "duration": 19,
    "start_time": "2022-04-11T18:30:34.908Z"
   },
   {
    "duration": 7,
    "start_time": "2022-04-11T18:30:34.931Z"
   },
   {
    "duration": 8,
    "start_time": "2022-04-11T18:30:34.940Z"
   },
   {
    "duration": 187,
    "start_time": "2022-04-11T18:30:34.950Z"
   },
   {
    "duration": 2,
    "start_time": "2022-04-11T18:30:35.141Z"
   },
   {
    "duration": 5,
    "start_time": "2022-04-11T18:30:35.145Z"
   },
   {
    "duration": 7,
    "start_time": "2022-04-11T18:30:35.151Z"
   },
   {
    "duration": 24,
    "start_time": "2022-04-11T18:30:35.160Z"
   },
   {
    "duration": 8,
    "start_time": "2022-04-11T18:30:35.185Z"
   },
   {
    "duration": 8,
    "start_time": "2022-04-11T18:30:35.194Z"
   },
   {
    "duration": 7,
    "start_time": "2022-04-11T18:30:35.204Z"
   },
   {
    "duration": 7,
    "start_time": "2022-04-11T18:30:35.213Z"
   },
   {
    "duration": 379,
    "start_time": "2022-04-11T18:30:35.221Z"
   },
   {
    "duration": 6,
    "start_time": "2022-04-11T18:30:35.602Z"
   },
   {
    "duration": 11,
    "start_time": "2022-04-11T18:30:35.609Z"
   },
   {
    "duration": 6,
    "start_time": "2022-04-11T18:30:35.621Z"
   },
   {
    "duration": 8,
    "start_time": "2022-04-11T18:30:35.629Z"
   },
   {
    "duration": 5,
    "start_time": "2022-04-11T18:30:35.638Z"
   },
   {
    "duration": 6,
    "start_time": "2022-04-11T18:30:35.645Z"
   },
   {
    "duration": 29,
    "start_time": "2022-04-11T18:30:35.652Z"
   },
   {
    "duration": 8,
    "start_time": "2022-04-11T18:30:35.683Z"
   },
   {
    "duration": 7,
    "start_time": "2022-04-11T18:30:35.693Z"
   },
   {
    "duration": 15,
    "start_time": "2022-04-11T18:30:35.704Z"
   },
   {
    "duration": 16,
    "start_time": "2022-04-11T18:30:35.720Z"
   },
   {
    "duration": 14,
    "start_time": "2022-04-11T18:30:35.738Z"
   },
   {
    "duration": 1226,
    "start_time": "2022-04-11T18:30:35.754Z"
   },
   {
    "duration": 7,
    "start_time": "2022-04-11T18:30:36.982Z"
   },
   {
    "duration": 3,
    "start_time": "2022-04-11T18:30:36.991Z"
   },
   {
    "duration": 13,
    "start_time": "2022-04-11T18:30:36.996Z"
   },
   {
    "duration": 118,
    "start_time": "2022-04-11T18:30:37.011Z"
   },
   {
    "duration": 208,
    "start_time": "2022-04-11T18:30:37.131Z"
   },
   {
    "duration": 5,
    "start_time": "2022-04-11T18:30:37.340Z"
   },
   {
    "duration": 92,
    "start_time": "2022-04-11T18:30:37.347Z"
   },
   {
    "duration": 276,
    "start_time": "2022-04-11T18:30:37.440Z"
   },
   {
    "duration": 123,
    "start_time": "2022-04-11T18:30:37.718Z"
   },
   {
    "duration": 7,
    "start_time": "2022-04-11T18:30:37.842Z"
   },
   {
    "duration": 141,
    "start_time": "2022-04-11T18:30:37.850Z"
   },
   {
    "duration": 26,
    "start_time": "2022-04-11T18:30:37.992Z"
   },
   {
    "duration": 142,
    "start_time": "2022-04-11T18:30:38.019Z"
   },
   {
    "duration": 21,
    "start_time": "2022-04-11T18:30:38.162Z"
   },
   {
    "duration": 29,
    "start_time": "2022-04-11T18:30:38.184Z"
   },
   {
    "duration": 12,
    "start_time": "2022-04-11T18:30:38.215Z"
   },
   {
    "duration": 194,
    "start_time": "2022-04-11T18:30:38.229Z"
   },
   {
    "duration": 3,
    "start_time": "2022-04-11T18:30:38.425Z"
   },
   {
    "duration": 21,
    "start_time": "2022-04-11T18:30:38.429Z"
   },
   {
    "duration": 42,
    "start_time": "2022-04-11T18:30:38.452Z"
   },
   {
    "duration": 257,
    "start_time": "2022-04-11T18:30:38.496Z"
   },
   {
    "duration": 97,
    "start_time": "2022-04-11T18:30:38.755Z"
   },
   {
    "duration": 0,
    "start_time": "2022-04-11T18:30:38.854Z"
   },
   {
    "duration": 0,
    "start_time": "2022-04-11T18:30:38.855Z"
   },
   {
    "duration": 0,
    "start_time": "2022-04-11T18:30:38.857Z"
   },
   {
    "duration": 0,
    "start_time": "2022-04-11T18:30:38.858Z"
   },
   {
    "duration": 0,
    "start_time": "2022-04-11T18:30:38.860Z"
   },
   {
    "duration": 29,
    "start_time": "2022-04-11T18:32:26.411Z"
   },
   {
    "duration": 319,
    "start_time": "2022-04-11T18:32:27.836Z"
   },
   {
    "duration": 9,
    "start_time": "2022-04-11T18:32:48.757Z"
   },
   {
    "duration": 36,
    "start_time": "2022-04-11T18:33:00.981Z"
   },
   {
    "duration": 199,
    "start_time": "2022-04-11T18:33:02.071Z"
   },
   {
    "duration": 201,
    "start_time": "2022-04-11T18:34:14.322Z"
   },
   {
    "duration": 9,
    "start_time": "2022-04-11T18:34:27.685Z"
   },
   {
    "duration": 8,
    "start_time": "2022-04-11T18:34:33.003Z"
   },
   {
    "duration": 265,
    "start_time": "2022-04-11T18:35:10.759Z"
   },
   {
    "duration": 325,
    "start_time": "2022-04-11T18:36:22.421Z"
   },
   {
    "duration": 285,
    "start_time": "2022-04-11T18:38:24.357Z"
   },
   {
    "duration": 19,
    "start_time": "2022-04-11T18:41:51.971Z"
   },
   {
    "duration": 3819,
    "start_time": "2022-04-11T18:41:52.660Z"
   },
   {
    "duration": 1127,
    "start_time": "2022-04-11T18:42:15.729Z"
   },
   {
    "duration": 54,
    "start_time": "2022-04-11T18:42:16.858Z"
   },
   {
    "duration": 4,
    "start_time": "2022-04-11T18:42:16.914Z"
   },
   {
    "duration": 22,
    "start_time": "2022-04-11T18:42:16.921Z"
   },
   {
    "duration": 3,
    "start_time": "2022-04-11T18:42:16.944Z"
   },
   {
    "duration": 20,
    "start_time": "2022-04-11T18:42:16.949Z"
   },
   {
    "duration": 16,
    "start_time": "2022-04-11T18:42:16.970Z"
   },
   {
    "duration": 8,
    "start_time": "2022-04-11T18:42:16.988Z"
   },
   {
    "duration": 255,
    "start_time": "2022-04-11T18:42:16.998Z"
   },
   {
    "duration": 4,
    "start_time": "2022-04-11T18:42:17.256Z"
   },
   {
    "duration": 18,
    "start_time": "2022-04-11T18:42:17.262Z"
   },
   {
    "duration": 6,
    "start_time": "2022-04-11T18:42:17.282Z"
   },
   {
    "duration": 15,
    "start_time": "2022-04-11T18:42:17.290Z"
   },
   {
    "duration": 7,
    "start_time": "2022-04-11T18:42:17.307Z"
   },
   {
    "duration": 9,
    "start_time": "2022-04-11T18:42:17.315Z"
   },
   {
    "duration": 7,
    "start_time": "2022-04-11T18:42:17.325Z"
   },
   {
    "duration": 6,
    "start_time": "2022-04-11T18:42:17.333Z"
   },
   {
    "duration": 330,
    "start_time": "2022-04-11T18:42:17.340Z"
   },
   {
    "duration": 14,
    "start_time": "2022-04-11T18:42:17.671Z"
   },
   {
    "duration": 11,
    "start_time": "2022-04-11T18:42:17.687Z"
   },
   {
    "duration": 7,
    "start_time": "2022-04-11T18:42:17.699Z"
   },
   {
    "duration": 6,
    "start_time": "2022-04-11T18:42:17.707Z"
   },
   {
    "duration": 13,
    "start_time": "2022-04-11T18:42:17.714Z"
   },
   {
    "duration": 7,
    "start_time": "2022-04-11T18:42:17.728Z"
   },
   {
    "duration": 8,
    "start_time": "2022-04-11T18:42:17.737Z"
   },
   {
    "duration": 40,
    "start_time": "2022-04-11T18:42:17.746Z"
   },
   {
    "duration": 4,
    "start_time": "2022-04-11T18:42:17.787Z"
   },
   {
    "duration": 16,
    "start_time": "2022-04-11T18:42:17.794Z"
   },
   {
    "duration": 14,
    "start_time": "2022-04-11T18:42:17.811Z"
   },
   {
    "duration": 15,
    "start_time": "2022-04-11T18:42:17.826Z"
   },
   {
    "duration": 1322,
    "start_time": "2022-04-11T18:42:17.842Z"
   },
   {
    "duration": 15,
    "start_time": "2022-04-11T18:42:19.166Z"
   },
   {
    "duration": 4,
    "start_time": "2022-04-11T18:42:19.182Z"
   },
   {
    "duration": 15,
    "start_time": "2022-04-11T18:42:19.187Z"
   },
   {
    "duration": 112,
    "start_time": "2022-04-11T18:42:19.203Z"
   },
   {
    "duration": 4,
    "start_time": "2022-04-11T18:42:19.317Z"
   },
   {
    "duration": 306,
    "start_time": "2022-04-11T18:42:19.322Z"
   },
   {
    "duration": 0,
    "start_time": "2022-04-11T18:42:19.630Z"
   },
   {
    "duration": 0,
    "start_time": "2022-04-11T18:42:19.631Z"
   },
   {
    "duration": 0,
    "start_time": "2022-04-11T18:42:19.632Z"
   },
   {
    "duration": 0,
    "start_time": "2022-04-11T18:42:19.633Z"
   },
   {
    "duration": 0,
    "start_time": "2022-04-11T18:42:19.634Z"
   },
   {
    "duration": 0,
    "start_time": "2022-04-11T18:42:19.635Z"
   },
   {
    "duration": 0,
    "start_time": "2022-04-11T18:42:19.636Z"
   },
   {
    "duration": 0,
    "start_time": "2022-04-11T18:42:19.637Z"
   },
   {
    "duration": 0,
    "start_time": "2022-04-11T18:42:19.638Z"
   },
   {
    "duration": 0,
    "start_time": "2022-04-11T18:42:19.639Z"
   },
   {
    "duration": 0,
    "start_time": "2022-04-11T18:42:19.640Z"
   },
   {
    "duration": 0,
    "start_time": "2022-04-11T18:42:19.640Z"
   },
   {
    "duration": 0,
    "start_time": "2022-04-11T18:42:19.641Z"
   },
   {
    "duration": 0,
    "start_time": "2022-04-11T18:42:19.642Z"
   },
   {
    "duration": 0,
    "start_time": "2022-04-11T18:42:19.643Z"
   },
   {
    "duration": 0,
    "start_time": "2022-04-11T18:42:19.644Z"
   },
   {
    "duration": 0,
    "start_time": "2022-04-11T18:42:19.645Z"
   },
   {
    "duration": 0,
    "start_time": "2022-04-11T18:42:19.646Z"
   },
   {
    "duration": 0,
    "start_time": "2022-04-11T18:42:19.647Z"
   },
   {
    "duration": 201,
    "start_time": "2022-04-11T18:47:06.466Z"
   },
   {
    "duration": 222,
    "start_time": "2022-04-11T18:48:17.809Z"
   },
   {
    "duration": 6,
    "start_time": "2022-04-11T18:53:30.769Z"
   },
   {
    "duration": 74,
    "start_time": "2022-04-11T18:56:42.557Z"
   },
   {
    "duration": 92,
    "start_time": "2022-04-11T18:57:10.135Z"
   },
   {
    "duration": 91,
    "start_time": "2022-04-11T18:59:17.821Z"
   },
   {
    "duration": 101,
    "start_time": "2022-04-11T18:59:31.624Z"
   },
   {
    "duration": 190,
    "start_time": "2022-04-11T19:06:29.663Z"
   },
   {
    "duration": 544,
    "start_time": "2022-04-11T19:08:56.688Z"
   },
   {
    "duration": 216,
    "start_time": "2022-04-11T19:09:43.617Z"
   },
   {
    "duration": 5,
    "start_time": "2022-04-11T19:11:52.232Z"
   },
   {
    "duration": 4,
    "start_time": "2022-04-11T19:12:34.563Z"
   },
   {
    "duration": 228,
    "start_time": "2022-04-11T19:12:45.080Z"
   },
   {
    "duration": 211,
    "start_time": "2022-04-11T19:13:15.342Z"
   },
   {
    "duration": 213,
    "start_time": "2022-04-11T19:13:35.910Z"
   },
   {
    "duration": 4,
    "start_time": "2022-04-11T19:16:12.634Z"
   },
   {
    "duration": 707,
    "start_time": "2022-04-11T19:16:14.249Z"
   },
   {
    "duration": 1034,
    "start_time": "2022-04-11T19:16:26.782Z"
   },
   {
    "duration": 1187,
    "start_time": "2022-04-11T19:17:03.551Z"
   },
   {
    "duration": 5,
    "start_time": "2022-04-11T19:17:27.605Z"
   },
   {
    "duration": 1365,
    "start_time": "2022-04-11T19:17:48.216Z"
   },
   {
    "duration": 609,
    "start_time": "2022-04-11T19:19:06.934Z"
   },
   {
    "duration": 1715,
    "start_time": "2022-04-11T19:19:27.041Z"
   },
   {
    "duration": 720,
    "start_time": "2022-04-11T19:19:33.399Z"
   },
   {
    "duration": 5112,
    "start_time": "2022-04-11T19:20:19.057Z"
   },
   {
    "duration": 21,
    "start_time": "2022-04-11T19:21:04.646Z"
   },
   {
    "duration": 5,
    "start_time": "2022-04-11T19:21:13.212Z"
   },
   {
    "duration": 661,
    "start_time": "2022-04-11T19:21:43.593Z"
   },
   {
    "duration": 874,
    "start_time": "2022-04-11T19:21:54.745Z"
   },
   {
    "duration": 522,
    "start_time": "2022-04-11T19:22:33.565Z"
   },
   {
    "duration": 311,
    "start_time": "2022-04-11T19:22:40.881Z"
   },
   {
    "duration": 1615,
    "start_time": "2022-04-11T19:24:14.546Z"
   },
   {
    "duration": 77,
    "start_time": "2022-04-11T19:24:16.163Z"
   },
   {
    "duration": 5,
    "start_time": "2022-04-11T19:24:16.242Z"
   },
   {
    "duration": 34,
    "start_time": "2022-04-11T19:24:16.249Z"
   },
   {
    "duration": 3,
    "start_time": "2022-04-11T19:24:16.285Z"
   },
   {
    "duration": 20,
    "start_time": "2022-04-11T19:24:16.290Z"
   },
   {
    "duration": 8,
    "start_time": "2022-04-11T19:24:16.312Z"
   },
   {
    "duration": 8,
    "start_time": "2022-04-11T19:24:16.321Z"
   },
   {
    "duration": 263,
    "start_time": "2022-04-11T19:24:16.331Z"
   },
   {
    "duration": 4,
    "start_time": "2022-04-11T19:24:16.597Z"
   },
   {
    "duration": 6,
    "start_time": "2022-04-11T19:24:16.602Z"
   },
   {
    "duration": 9,
    "start_time": "2022-04-11T19:24:16.610Z"
   },
   {
    "duration": 12,
    "start_time": "2022-04-11T19:24:16.621Z"
   },
   {
    "duration": 7,
    "start_time": "2022-04-11T19:24:16.634Z"
   },
   {
    "duration": 38,
    "start_time": "2022-04-11T19:24:16.643Z"
   },
   {
    "duration": 7,
    "start_time": "2022-04-11T19:24:16.683Z"
   },
   {
    "duration": 8,
    "start_time": "2022-04-11T19:24:16.692Z"
   },
   {
    "duration": 303,
    "start_time": "2022-04-11T19:24:16.702Z"
   },
   {
    "duration": 6,
    "start_time": "2022-04-11T19:24:17.007Z"
   },
   {
    "duration": 11,
    "start_time": "2022-04-11T19:24:17.015Z"
   },
   {
    "duration": 7,
    "start_time": "2022-04-11T19:24:17.027Z"
   },
   {
    "duration": 7,
    "start_time": "2022-04-11T19:24:17.036Z"
   },
   {
    "duration": 6,
    "start_time": "2022-04-11T19:24:17.045Z"
   },
   {
    "duration": 31,
    "start_time": "2022-04-11T19:24:17.053Z"
   },
   {
    "duration": 6,
    "start_time": "2022-04-11T19:24:17.085Z"
   },
   {
    "duration": 16,
    "start_time": "2022-04-11T19:24:17.093Z"
   },
   {
    "duration": 6,
    "start_time": "2022-04-11T19:24:17.110Z"
   },
   {
    "duration": 15,
    "start_time": "2022-04-11T19:24:17.119Z"
   },
   {
    "duration": 15,
    "start_time": "2022-04-11T19:24:17.135Z"
   },
   {
    "duration": 42,
    "start_time": "2022-04-11T19:24:17.151Z"
   },
   {
    "duration": 1230,
    "start_time": "2022-04-11T19:24:17.195Z"
   },
   {
    "duration": 8,
    "start_time": "2022-04-11T19:24:18.427Z"
   },
   {
    "duration": 5,
    "start_time": "2022-04-11T19:24:18.437Z"
   },
   {
    "duration": 17,
    "start_time": "2022-04-11T19:24:18.444Z"
   },
   {
    "duration": 136,
    "start_time": "2022-04-11T19:24:18.481Z"
   },
   {
    "duration": 3216,
    "start_time": "2022-04-11T19:24:18.619Z"
   },
   {
    "duration": 0,
    "start_time": "2022-04-11T19:24:21.838Z"
   },
   {
    "duration": 0,
    "start_time": "2022-04-11T19:24:21.839Z"
   },
   {
    "duration": 0,
    "start_time": "2022-04-11T19:24:21.841Z"
   },
   {
    "duration": 0,
    "start_time": "2022-04-11T19:24:21.843Z"
   },
   {
    "duration": 0,
    "start_time": "2022-04-11T19:24:21.845Z"
   },
   {
    "duration": 0,
    "start_time": "2022-04-11T19:24:21.846Z"
   },
   {
    "duration": 0,
    "start_time": "2022-04-11T19:24:21.847Z"
   },
   {
    "duration": 0,
    "start_time": "2022-04-11T19:24:21.849Z"
   },
   {
    "duration": 0,
    "start_time": "2022-04-11T19:24:21.851Z"
   },
   {
    "duration": 0,
    "start_time": "2022-04-11T19:24:21.852Z"
   },
   {
    "duration": 0,
    "start_time": "2022-04-11T19:24:21.854Z"
   },
   {
    "duration": 0,
    "start_time": "2022-04-11T19:24:21.855Z"
   },
   {
    "duration": 0,
    "start_time": "2022-04-11T19:24:21.857Z"
   },
   {
    "duration": 0,
    "start_time": "2022-04-11T19:24:21.858Z"
   },
   {
    "duration": 0,
    "start_time": "2022-04-11T19:24:21.860Z"
   },
   {
    "duration": 0,
    "start_time": "2022-04-11T19:24:21.862Z"
   },
   {
    "duration": 0,
    "start_time": "2022-04-11T19:24:21.863Z"
   },
   {
    "duration": 0,
    "start_time": "2022-04-11T19:24:21.865Z"
   },
   {
    "duration": 0,
    "start_time": "2022-04-11T19:24:21.866Z"
   },
   {
    "duration": 0,
    "start_time": "2022-04-11T19:24:21.867Z"
   },
   {
    "duration": 26,
    "start_time": "2022-04-11T19:26:01.295Z"
   },
   {
    "duration": 14,
    "start_time": "2022-04-11T19:26:10.600Z"
   },
   {
    "duration": 3,
    "start_time": "2022-04-11T19:26:23.434Z"
   },
   {
    "duration": 577,
    "start_time": "2022-04-11T19:26:25.909Z"
   },
   {
    "duration": 1178,
    "start_time": "2022-04-11T19:29:41.083Z"
   },
   {
    "duration": 74,
    "start_time": "2022-04-11T19:29:42.262Z"
   },
   {
    "duration": 3,
    "start_time": "2022-04-11T19:29:42.338Z"
   },
   {
    "duration": 15,
    "start_time": "2022-04-11T19:29:42.343Z"
   },
   {
    "duration": 3,
    "start_time": "2022-04-11T19:29:42.359Z"
   },
   {
    "duration": 26,
    "start_time": "2022-04-11T19:29:42.363Z"
   },
   {
    "duration": 7,
    "start_time": "2022-04-11T19:29:42.390Z"
   },
   {
    "duration": 7,
    "start_time": "2022-04-11T19:29:42.398Z"
   },
   {
    "duration": 172,
    "start_time": "2022-04-11T19:29:42.406Z"
   },
   {
    "duration": 4,
    "start_time": "2022-04-11T19:29:42.582Z"
   },
   {
    "duration": 6,
    "start_time": "2022-04-11T19:29:42.587Z"
   },
   {
    "duration": 8,
    "start_time": "2022-04-11T19:29:42.594Z"
   },
   {
    "duration": 9,
    "start_time": "2022-04-11T19:29:42.604Z"
   },
   {
    "duration": 9,
    "start_time": "2022-04-11T19:29:42.614Z"
   },
   {
    "duration": 8,
    "start_time": "2022-04-11T19:29:42.624Z"
   },
   {
    "duration": 7,
    "start_time": "2022-04-11T19:29:42.633Z"
   },
   {
    "duration": 41,
    "start_time": "2022-04-11T19:29:42.641Z"
   },
   {
    "duration": 272,
    "start_time": "2022-04-11T19:29:42.683Z"
   },
   {
    "duration": 5,
    "start_time": "2022-04-11T19:29:42.957Z"
   },
   {
    "duration": 25,
    "start_time": "2022-04-11T19:29:42.963Z"
   },
   {
    "duration": 8,
    "start_time": "2022-04-11T19:29:42.990Z"
   },
   {
    "duration": 5,
    "start_time": "2022-04-11T19:29:42.999Z"
   },
   {
    "duration": 4,
    "start_time": "2022-04-11T19:29:43.006Z"
   },
   {
    "duration": 7,
    "start_time": "2022-04-11T19:29:43.011Z"
   },
   {
    "duration": 6,
    "start_time": "2022-04-11T19:29:43.019Z"
   },
   {
    "duration": 8,
    "start_time": "2022-04-11T19:29:43.027Z"
   },
   {
    "duration": 5,
    "start_time": "2022-04-11T19:29:43.037Z"
   },
   {
    "duration": 50,
    "start_time": "2022-04-11T19:29:43.045Z"
   },
   {
    "duration": 21,
    "start_time": "2022-04-11T19:29:43.096Z"
   },
   {
    "duration": 22,
    "start_time": "2022-04-11T19:29:43.119Z"
   },
   {
    "duration": 2082,
    "start_time": "2022-04-11T19:29:43.144Z"
   },
   {
    "duration": 10,
    "start_time": "2022-04-11T19:29:45.228Z"
   },
   {
    "duration": 6,
    "start_time": "2022-04-11T19:29:45.240Z"
   },
   {
    "duration": 36,
    "start_time": "2022-04-11T19:29:45.248Z"
   },
   {
    "duration": 131,
    "start_time": "2022-04-11T19:29:45.286Z"
   },
   {
    "duration": 3,
    "start_time": "2022-04-11T19:29:45.419Z"
   },
   {
    "duration": 298,
    "start_time": "2022-04-11T19:29:45.424Z"
   },
   {
    "duration": 128,
    "start_time": "2022-04-11T19:29:45.723Z"
   },
   {
    "duration": 9,
    "start_time": "2022-04-11T19:29:45.853Z"
   },
   {
    "duration": 143,
    "start_time": "2022-04-11T19:29:45.863Z"
   },
   {
    "duration": 29,
    "start_time": "2022-04-11T19:29:46.008Z"
   },
   {
    "duration": 159,
    "start_time": "2022-04-11T19:29:46.039Z"
   },
   {
    "duration": 8,
    "start_time": "2022-04-11T19:29:46.200Z"
   },
   {
    "duration": 38,
    "start_time": "2022-04-11T19:29:46.210Z"
   },
   {
    "duration": 14,
    "start_time": "2022-04-11T19:29:46.250Z"
   },
   {
    "duration": 174,
    "start_time": "2022-04-11T19:29:46.265Z"
   },
   {
    "duration": 3,
    "start_time": "2022-04-11T19:29:46.441Z"
   },
   {
    "duration": 19,
    "start_time": "2022-04-11T19:29:46.445Z"
   },
   {
    "duration": 40,
    "start_time": "2022-04-11T19:29:46.466Z"
   },
   {
    "duration": 257,
    "start_time": "2022-04-11T19:29:46.507Z"
   },
   {
    "duration": 36,
    "start_time": "2022-04-11T19:29:46.765Z"
   },
   {
    "duration": 274,
    "start_time": "2022-04-11T19:29:46.802Z"
   },
   {
    "duration": 34,
    "start_time": "2022-04-11T19:29:47.080Z"
   },
   {
    "duration": 354,
    "start_time": "2022-04-11T19:29:47.115Z"
   },
   {
    "duration": 14,
    "start_time": "2022-04-11T19:29:47.472Z"
   },
   {
    "duration": 11,
    "start_time": "2022-04-11T19:29:47.488Z"
   },
   {
    "duration": 49,
    "start_time": "2022-04-12T10:47:25.217Z"
   },
   {
    "duration": 1397,
    "start_time": "2022-04-12T10:47:29.823Z"
   },
   {
    "duration": 55,
    "start_time": "2022-04-12T10:47:31.222Z"
   },
   {
    "duration": 4,
    "start_time": "2022-04-12T10:47:31.278Z"
   },
   {
    "duration": 25,
    "start_time": "2022-04-12T10:47:31.284Z"
   },
   {
    "duration": 3,
    "start_time": "2022-04-12T10:47:31.311Z"
   },
   {
    "duration": 16,
    "start_time": "2022-04-12T10:47:31.315Z"
   },
   {
    "duration": 8,
    "start_time": "2022-04-12T10:47:31.332Z"
   },
   {
    "duration": 6,
    "start_time": "2022-04-12T10:47:31.342Z"
   },
   {
    "duration": 14,
    "start_time": "2022-04-12T10:47:31.349Z"
   },
   {
    "duration": 3,
    "start_time": "2022-04-12T10:47:31.366Z"
   },
   {
    "duration": 7,
    "start_time": "2022-04-12T10:47:31.370Z"
   },
   {
    "duration": 35,
    "start_time": "2022-04-12T10:47:31.378Z"
   },
   {
    "duration": 8,
    "start_time": "2022-04-12T10:47:31.415Z"
   },
   {
    "duration": 10,
    "start_time": "2022-04-12T10:47:31.425Z"
   },
   {
    "duration": 8,
    "start_time": "2022-04-12T10:47:31.437Z"
   },
   {
    "duration": 8,
    "start_time": "2022-04-12T10:47:31.447Z"
   },
   {
    "duration": 8,
    "start_time": "2022-04-12T10:47:31.457Z"
   },
   {
    "duration": 387,
    "start_time": "2022-04-12T10:47:31.467Z"
   },
   {
    "duration": 5,
    "start_time": "2022-04-12T10:47:31.856Z"
   },
   {
    "duration": 11,
    "start_time": "2022-04-12T10:47:31.863Z"
   },
   {
    "duration": 9,
    "start_time": "2022-04-12T10:47:31.875Z"
   },
   {
    "duration": 24,
    "start_time": "2022-04-12T10:47:31.886Z"
   },
   {
    "duration": 5,
    "start_time": "2022-04-12T10:47:31.912Z"
   },
   {
    "duration": 8,
    "start_time": "2022-04-12T10:47:31.918Z"
   },
   {
    "duration": 12,
    "start_time": "2022-04-12T10:47:31.927Z"
   },
   {
    "duration": 18,
    "start_time": "2022-04-12T10:47:31.941Z"
   },
   {
    "duration": 16,
    "start_time": "2022-04-12T10:47:31.961Z"
   },
   {
    "duration": 47,
    "start_time": "2022-04-12T10:47:31.980Z"
   },
   {
    "duration": 17,
    "start_time": "2022-04-12T10:47:32.028Z"
   },
   {
    "duration": 17,
    "start_time": "2022-04-12T10:47:32.046Z"
   },
   {
    "duration": 1505,
    "start_time": "2022-04-12T10:47:32.064Z"
   },
   {
    "duration": 7,
    "start_time": "2022-04-12T10:47:33.571Z"
   },
   {
    "duration": 10,
    "start_time": "2022-04-12T10:47:33.580Z"
   },
   {
    "duration": 31,
    "start_time": "2022-04-12T10:47:33.592Z"
   },
   {
    "duration": 18,
    "start_time": "2022-04-12T10:47:33.625Z"
   },
   {
    "duration": 5,
    "start_time": "2022-04-12T10:47:33.644Z"
   },
   {
    "duration": 446,
    "start_time": "2022-04-12T10:47:33.651Z"
   },
   {
    "duration": 145,
    "start_time": "2022-04-12T10:47:34.098Z"
   },
   {
    "duration": 7,
    "start_time": "2022-04-12T10:47:34.245Z"
   },
   {
    "duration": 157,
    "start_time": "2022-04-12T10:47:34.254Z"
   },
   {
    "duration": 31,
    "start_time": "2022-04-12T10:47:34.412Z"
   },
   {
    "duration": 175,
    "start_time": "2022-04-12T10:47:34.444Z"
   },
   {
    "duration": 8,
    "start_time": "2022-04-12T10:47:34.621Z"
   },
   {
    "duration": 41,
    "start_time": "2022-04-12T10:47:34.630Z"
   },
   {
    "duration": 36,
    "start_time": "2022-04-12T10:47:34.673Z"
   },
   {
    "duration": 199,
    "start_time": "2022-04-12T10:47:34.711Z"
   },
   {
    "duration": 4,
    "start_time": "2022-04-12T10:47:34.912Z"
   },
   {
    "duration": 29,
    "start_time": "2022-04-12T10:47:34.917Z"
   },
   {
    "duration": 32,
    "start_time": "2022-04-12T10:47:34.948Z"
   },
   {
    "duration": 318,
    "start_time": "2022-04-12T10:47:34.981Z"
   },
   {
    "duration": 34,
    "start_time": "2022-04-12T10:47:35.301Z"
   },
   {
    "duration": 321,
    "start_time": "2022-04-12T10:47:35.337Z"
   },
   {
    "duration": 49,
    "start_time": "2022-04-12T10:47:35.660Z"
   },
   {
    "duration": 262,
    "start_time": "2022-04-12T10:47:35.710Z"
   },
   {
    "duration": 9,
    "start_time": "2022-04-12T10:47:35.974Z"
   },
   {
    "duration": 28,
    "start_time": "2022-04-12T10:47:35.985Z"
   },
   {
    "duration": 1230,
    "start_time": "2022-04-12T11:11:07.485Z"
   },
   {
    "duration": 55,
    "start_time": "2022-04-12T11:11:08.717Z"
   },
   {
    "duration": 5,
    "start_time": "2022-04-12T11:11:08.773Z"
   },
   {
    "duration": 30,
    "start_time": "2022-04-12T11:11:08.780Z"
   },
   {
    "duration": 3,
    "start_time": "2022-04-12T11:11:08.812Z"
   },
   {
    "duration": 19,
    "start_time": "2022-04-12T11:11:08.816Z"
   },
   {
    "duration": 8,
    "start_time": "2022-04-12T11:11:08.840Z"
   },
   {
    "duration": 10,
    "start_time": "2022-04-12T11:11:08.852Z"
   },
   {
    "duration": 52,
    "start_time": "2022-04-12T11:11:08.864Z"
   },
   {
    "duration": 5,
    "start_time": "2022-04-12T11:11:08.920Z"
   },
   {
    "duration": 5,
    "start_time": "2022-04-12T11:11:08.927Z"
   },
   {
    "duration": 9,
    "start_time": "2022-04-12T11:11:08.934Z"
   },
   {
    "duration": 15,
    "start_time": "2022-04-12T11:11:08.945Z"
   },
   {
    "duration": 55,
    "start_time": "2022-04-12T11:11:08.962Z"
   },
   {
    "duration": 9,
    "start_time": "2022-04-12T11:11:09.019Z"
   },
   {
    "duration": 9,
    "start_time": "2022-04-12T11:11:09.030Z"
   },
   {
    "duration": 9,
    "start_time": "2022-04-12T11:11:09.041Z"
   },
   {
    "duration": 376,
    "start_time": "2022-04-12T11:11:09.052Z"
   },
   {
    "duration": 6,
    "start_time": "2022-04-12T11:11:09.430Z"
   },
   {
    "duration": 11,
    "start_time": "2022-04-12T11:11:09.437Z"
   },
   {
    "duration": 7,
    "start_time": "2022-04-12T11:11:09.450Z"
   },
   {
    "duration": 6,
    "start_time": "2022-04-12T11:11:09.459Z"
   },
   {
    "duration": 5,
    "start_time": "2022-04-12T11:11:09.466Z"
   },
   {
    "duration": 37,
    "start_time": "2022-04-12T11:11:09.472Z"
   },
   {
    "duration": 9,
    "start_time": "2022-04-12T11:11:09.510Z"
   },
   {
    "duration": 11,
    "start_time": "2022-04-12T11:11:09.520Z"
   },
   {
    "duration": 6,
    "start_time": "2022-04-12T11:11:09.532Z"
   },
   {
    "duration": 16,
    "start_time": "2022-04-12T11:11:09.543Z"
   },
   {
    "duration": 58,
    "start_time": "2022-04-12T11:11:09.560Z"
   },
   {
    "duration": 902,
    "start_time": "2022-04-12T11:11:09.619Z"
   },
   {
    "duration": 0,
    "start_time": "2022-04-12T11:11:10.522Z"
   },
   {
    "duration": 0,
    "start_time": "2022-04-12T11:11:10.524Z"
   },
   {
    "duration": 0,
    "start_time": "2022-04-12T11:11:10.525Z"
   },
   {
    "duration": 0,
    "start_time": "2022-04-12T11:11:10.527Z"
   },
   {
    "duration": 0,
    "start_time": "2022-04-12T11:11:10.527Z"
   },
   {
    "duration": 0,
    "start_time": "2022-04-12T11:11:10.528Z"
   },
   {
    "duration": 0,
    "start_time": "2022-04-12T11:11:10.529Z"
   },
   {
    "duration": 0,
    "start_time": "2022-04-12T11:11:10.531Z"
   },
   {
    "duration": 0,
    "start_time": "2022-04-12T11:11:10.532Z"
   },
   {
    "duration": 0,
    "start_time": "2022-04-12T11:11:10.533Z"
   },
   {
    "duration": 0,
    "start_time": "2022-04-12T11:11:10.534Z"
   },
   {
    "duration": 0,
    "start_time": "2022-04-12T11:11:10.534Z"
   },
   {
    "duration": 0,
    "start_time": "2022-04-12T11:11:10.535Z"
   },
   {
    "duration": 0,
    "start_time": "2022-04-12T11:11:10.537Z"
   },
   {
    "duration": 0,
    "start_time": "2022-04-12T11:11:10.538Z"
   },
   {
    "duration": 0,
    "start_time": "2022-04-12T11:11:10.538Z"
   },
   {
    "duration": 0,
    "start_time": "2022-04-12T11:11:10.539Z"
   },
   {
    "duration": 0,
    "start_time": "2022-04-12T11:11:10.540Z"
   },
   {
    "duration": 0,
    "start_time": "2022-04-12T11:11:10.541Z"
   },
   {
    "duration": 0,
    "start_time": "2022-04-12T11:11:10.542Z"
   },
   {
    "duration": 0,
    "start_time": "2022-04-12T11:11:10.543Z"
   },
   {
    "duration": 0,
    "start_time": "2022-04-12T11:11:10.544Z"
   },
   {
    "duration": 0,
    "start_time": "2022-04-12T11:11:10.545Z"
   },
   {
    "duration": 0,
    "start_time": "2022-04-12T11:11:10.545Z"
   },
   {
    "duration": 0,
    "start_time": "2022-04-12T11:11:10.546Z"
   },
   {
    "duration": 0,
    "start_time": "2022-04-12T11:11:10.548Z"
   },
   {
    "duration": 0,
    "start_time": "2022-04-12T11:11:10.549Z"
   },
   {
    "duration": 84,
    "start_time": "2022-04-12T11:11:48.840Z"
   },
   {
    "duration": 12,
    "start_time": "2022-04-12T11:12:02.970Z"
   },
   {
    "duration": 15,
    "start_time": "2022-04-12T11:12:12.190Z"
   },
   {
    "duration": 23,
    "start_time": "2022-04-12T11:13:27.873Z"
   },
   {
    "duration": 1443,
    "start_time": "2022-04-12T11:14:37.679Z"
   },
   {
    "duration": 7,
    "start_time": "2022-04-12T11:15:06.863Z"
   },
   {
    "duration": 4,
    "start_time": "2022-04-12T11:15:07.479Z"
   },
   {
    "duration": 15,
    "start_time": "2022-04-12T11:15:25.782Z"
   },
   {
    "duration": 15,
    "start_time": "2022-04-12T11:16:15.143Z"
   },
   {
    "duration": 22,
    "start_time": "2022-04-12T11:20:09.764Z"
   },
   {
    "duration": 18,
    "start_time": "2022-04-12T11:21:33.914Z"
   },
   {
    "duration": 16,
    "start_time": "2022-04-12T11:21:45.802Z"
   },
   {
    "duration": 22,
    "start_time": "2022-04-12T11:22:01.722Z"
   },
   {
    "duration": 1242,
    "start_time": "2022-04-12T11:22:18.380Z"
   },
   {
    "duration": 56,
    "start_time": "2022-04-12T11:22:19.624Z"
   },
   {
    "duration": 5,
    "start_time": "2022-04-12T11:22:19.682Z"
   },
   {
    "duration": 29,
    "start_time": "2022-04-12T11:22:19.690Z"
   },
   {
    "duration": 3,
    "start_time": "2022-04-12T11:22:19.721Z"
   },
   {
    "duration": 15,
    "start_time": "2022-04-12T11:22:19.727Z"
   },
   {
    "duration": 8,
    "start_time": "2022-04-12T11:22:19.744Z"
   },
   {
    "duration": 7,
    "start_time": "2022-04-12T11:22:19.754Z"
   },
   {
    "duration": 46,
    "start_time": "2022-04-12T11:22:19.763Z"
   },
   {
    "duration": 4,
    "start_time": "2022-04-12T11:22:19.812Z"
   },
   {
    "duration": 6,
    "start_time": "2022-04-12T11:22:19.818Z"
   },
   {
    "duration": 7,
    "start_time": "2022-04-12T11:22:19.825Z"
   },
   {
    "duration": 8,
    "start_time": "2022-04-12T11:22:19.834Z"
   },
   {
    "duration": 9,
    "start_time": "2022-04-12T11:22:19.844Z"
   },
   {
    "duration": 9,
    "start_time": "2022-04-12T11:22:19.854Z"
   },
   {
    "duration": 46,
    "start_time": "2022-04-12T11:22:19.864Z"
   },
   {
    "duration": 9,
    "start_time": "2022-04-12T11:22:19.912Z"
   },
   {
    "duration": 318,
    "start_time": "2022-04-12T11:22:19.922Z"
   },
   {
    "duration": 7,
    "start_time": "2022-04-12T11:22:20.242Z"
   },
   {
    "duration": 11,
    "start_time": "2022-04-12T11:22:20.250Z"
   },
   {
    "duration": 7,
    "start_time": "2022-04-12T11:22:20.263Z"
   },
   {
    "duration": 6,
    "start_time": "2022-04-12T11:22:20.272Z"
   },
   {
    "duration": 8,
    "start_time": "2022-04-12T11:22:20.308Z"
   },
   {
    "duration": 8,
    "start_time": "2022-04-12T11:22:20.318Z"
   },
   {
    "duration": 14,
    "start_time": "2022-04-12T11:22:20.327Z"
   },
   {
    "duration": 14,
    "start_time": "2022-04-12T11:22:20.343Z"
   },
   {
    "duration": 7,
    "start_time": "2022-04-12T11:22:20.358Z"
   },
   {
    "duration": 21,
    "start_time": "2022-04-12T11:22:20.369Z"
   },
   {
    "duration": 18,
    "start_time": "2022-04-12T11:22:20.409Z"
   },
   {
    "duration": 18,
    "start_time": "2022-04-12T11:22:20.429Z"
   },
   {
    "duration": 1568,
    "start_time": "2022-04-12T11:22:20.449Z"
   },
   {
    "duration": 8,
    "start_time": "2022-04-12T11:22:22.019Z"
   },
   {
    "duration": 7,
    "start_time": "2022-04-12T11:22:22.028Z"
   },
   {
    "duration": 19,
    "start_time": "2022-04-12T11:22:22.036Z"
   },
   {
    "duration": 17,
    "start_time": "2022-04-12T11:22:22.057Z"
   },
   {
    "duration": 50,
    "start_time": "2022-04-12T11:22:22.076Z"
   },
   {
    "duration": 2,
    "start_time": "2022-04-12T11:22:22.128Z"
   },
   {
    "duration": 439,
    "start_time": "2022-04-12T11:22:22.132Z"
   },
   {
    "duration": 167,
    "start_time": "2022-04-12T11:22:22.573Z"
   },
   {
    "duration": 9,
    "start_time": "2022-04-12T11:22:22.742Z"
   },
   {
    "duration": 168,
    "start_time": "2022-04-12T11:22:22.753Z"
   },
   {
    "duration": 34,
    "start_time": "2022-04-12T11:22:22.924Z"
   },
   {
    "duration": 177,
    "start_time": "2022-04-12T11:22:22.960Z"
   },
   {
    "duration": 8,
    "start_time": "2022-04-12T11:22:23.139Z"
   },
   {
    "duration": 32,
    "start_time": "2022-04-12T11:22:23.149Z"
   },
   {
    "duration": 42,
    "start_time": "2022-04-12T11:22:23.183Z"
   },
   {
    "duration": 217,
    "start_time": "2022-04-12T11:22:23.227Z"
   },
   {
    "duration": 4,
    "start_time": "2022-04-12T11:22:23.445Z"
   },
   {
    "duration": 22,
    "start_time": "2022-04-12T11:22:23.451Z"
   },
   {
    "duration": 54,
    "start_time": "2022-04-12T11:22:23.474Z"
   },
   {
    "duration": 314,
    "start_time": "2022-04-12T11:22:23.530Z"
   },
   {
    "duration": 35,
    "start_time": "2022-04-12T11:22:23.846Z"
   },
   {
    "duration": 336,
    "start_time": "2022-04-12T11:22:23.883Z"
   },
   {
    "duration": 40,
    "start_time": "2022-04-12T11:22:24.221Z"
   },
   {
    "duration": 275,
    "start_time": "2022-04-12T11:22:24.263Z"
   },
   {
    "duration": 8,
    "start_time": "2022-04-12T11:22:24.540Z"
   },
   {
    "duration": 8,
    "start_time": "2022-04-12T11:22:24.550Z"
   },
   {
    "duration": 31,
    "start_time": "2022-04-12T11:23:03.329Z"
   },
   {
    "duration": 1209,
    "start_time": "2022-04-12T11:23:13.519Z"
   },
   {
    "duration": 55,
    "start_time": "2022-04-12T11:23:14.730Z"
   },
   {
    "duration": 3,
    "start_time": "2022-04-12T11:23:14.787Z"
   },
   {
    "duration": 31,
    "start_time": "2022-04-12T11:23:14.792Z"
   },
   {
    "duration": 3,
    "start_time": "2022-04-12T11:23:14.825Z"
   },
   {
    "duration": 17,
    "start_time": "2022-04-12T11:23:14.829Z"
   },
   {
    "duration": 7,
    "start_time": "2022-04-12T11:23:14.847Z"
   },
   {
    "duration": 7,
    "start_time": "2022-04-12T11:23:14.855Z"
   },
   {
    "duration": 10,
    "start_time": "2022-04-12T11:23:14.864Z"
   },
   {
    "duration": 3,
    "start_time": "2022-04-12T11:23:14.876Z"
   },
   {
    "duration": 4,
    "start_time": "2022-04-12T11:23:14.910Z"
   },
   {
    "duration": 8,
    "start_time": "2022-04-12T11:23:14.915Z"
   },
   {
    "duration": 10,
    "start_time": "2022-04-12T11:23:14.925Z"
   },
   {
    "duration": 11,
    "start_time": "2022-04-12T11:23:14.936Z"
   },
   {
    "duration": 8,
    "start_time": "2022-04-12T11:23:14.948Z"
   },
   {
    "duration": 8,
    "start_time": "2022-04-12T11:23:14.957Z"
   },
   {
    "duration": 42,
    "start_time": "2022-04-12T11:23:14.967Z"
   },
   {
    "duration": 319,
    "start_time": "2022-04-12T11:23:15.010Z"
   },
   {
    "duration": 6,
    "start_time": "2022-04-12T11:23:15.330Z"
   },
   {
    "duration": 11,
    "start_time": "2022-04-12T11:23:15.337Z"
   },
   {
    "duration": 7,
    "start_time": "2022-04-12T11:23:15.350Z"
   },
   {
    "duration": 7,
    "start_time": "2022-04-12T11:23:15.359Z"
   },
   {
    "duration": 5,
    "start_time": "2022-04-12T11:23:15.368Z"
   },
   {
    "duration": 39,
    "start_time": "2022-04-12T11:23:15.374Z"
   },
   {
    "duration": 8,
    "start_time": "2022-04-12T11:23:15.415Z"
   },
   {
    "duration": 11,
    "start_time": "2022-04-12T11:23:15.425Z"
   },
   {
    "duration": 5,
    "start_time": "2022-04-12T11:23:15.437Z"
   },
   {
    "duration": 18,
    "start_time": "2022-04-12T11:23:15.445Z"
   },
   {
    "duration": 46,
    "start_time": "2022-04-12T11:23:15.464Z"
   },
   {
    "duration": 18,
    "start_time": "2022-04-12T11:23:15.511Z"
   },
   {
    "duration": 1506,
    "start_time": "2022-04-12T11:23:15.530Z"
   },
   {
    "duration": 9,
    "start_time": "2022-04-12T11:23:17.037Z"
   },
   {
    "duration": 5,
    "start_time": "2022-04-12T11:23:17.048Z"
   },
   {
    "duration": 18,
    "start_time": "2022-04-12T11:23:17.055Z"
   },
   {
    "duration": 48,
    "start_time": "2022-04-12T11:23:17.075Z"
   },
   {
    "duration": 31,
    "start_time": "2022-04-12T11:23:17.125Z"
   },
   {
    "duration": 3,
    "start_time": "2022-04-12T11:23:17.158Z"
   },
   {
    "duration": 461,
    "start_time": "2022-04-12T11:23:17.164Z"
   },
   {
    "duration": 151,
    "start_time": "2022-04-12T11:23:17.627Z"
   },
   {
    "duration": 8,
    "start_time": "2022-04-12T11:23:17.779Z"
   },
   {
    "duration": 153,
    "start_time": "2022-04-12T11:23:17.789Z"
   },
   {
    "duration": 30,
    "start_time": "2022-04-12T11:23:17.943Z"
   },
   {
    "duration": 166,
    "start_time": "2022-04-12T11:23:17.975Z"
   },
   {
    "duration": 8,
    "start_time": "2022-04-12T11:23:18.143Z"
   },
   {
    "duration": 31,
    "start_time": "2022-04-12T11:23:18.153Z"
   },
   {
    "duration": 37,
    "start_time": "2022-04-12T11:23:18.186Z"
   },
   {
    "duration": 204,
    "start_time": "2022-04-12T11:23:18.225Z"
   },
   {
    "duration": 3,
    "start_time": "2022-04-12T11:23:18.431Z"
   },
   {
    "duration": 22,
    "start_time": "2022-04-12T11:23:18.436Z"
   },
   {
    "duration": 50,
    "start_time": "2022-04-12T11:23:18.459Z"
   },
   {
    "duration": 305,
    "start_time": "2022-04-12T11:23:18.511Z"
   },
   {
    "duration": 36,
    "start_time": "2022-04-12T11:23:18.818Z"
   },
   {
    "duration": 311,
    "start_time": "2022-04-12T11:23:18.856Z"
   },
   {
    "duration": 49,
    "start_time": "2022-04-12T11:23:19.168Z"
   },
   {
    "duration": 251,
    "start_time": "2022-04-12T11:23:19.219Z"
   },
   {
    "duration": 9,
    "start_time": "2022-04-12T11:23:19.472Z"
   },
   {
    "duration": 26,
    "start_time": "2022-04-12T11:23:19.483Z"
   },
   {
    "duration": 376,
    "start_time": "2022-04-12T11:38:50.194Z"
   },
   {
    "duration": 4,
    "start_time": "2022-04-12T11:53:33.889Z"
   },
   {
    "duration": 34,
    "start_time": "2022-04-12T11:53:35.784Z"
   },
   {
    "duration": 279,
    "start_time": "2022-04-12T11:53:36.544Z"
   },
   {
    "duration": 4,
    "start_time": "2022-04-12T11:55:57.606Z"
   },
   {
    "duration": 32,
    "start_time": "2022-04-12T11:55:59.662Z"
   },
   {
    "duration": 272,
    "start_time": "2022-04-12T11:56:01.189Z"
   },
   {
    "duration": 130,
    "start_time": "2022-04-12T12:50:21.306Z"
   },
   {
    "duration": 321,
    "start_time": "2022-04-12T12:50:35.268Z"
   },
   {
    "duration": 1134,
    "start_time": "2022-04-12T12:51:43.168Z"
   },
   {
    "duration": 51,
    "start_time": "2022-04-12T12:51:44.304Z"
   },
   {
    "duration": 4,
    "start_time": "2022-04-12T12:51:44.357Z"
   },
   {
    "duration": 16,
    "start_time": "2022-04-12T12:51:44.362Z"
   },
   {
    "duration": 3,
    "start_time": "2022-04-12T12:51:44.380Z"
   },
   {
    "duration": 33,
    "start_time": "2022-04-12T12:51:44.385Z"
   },
   {
    "duration": 6,
    "start_time": "2022-04-12T12:51:44.420Z"
   },
   {
    "duration": 6,
    "start_time": "2022-04-12T12:51:44.428Z"
   },
   {
    "duration": 10,
    "start_time": "2022-04-12T12:51:44.436Z"
   },
   {
    "duration": 3,
    "start_time": "2022-04-12T12:51:44.447Z"
   },
   {
    "duration": 5,
    "start_time": "2022-04-12T12:51:44.452Z"
   },
   {
    "duration": 6,
    "start_time": "2022-04-12T12:51:44.458Z"
   },
   {
    "duration": 42,
    "start_time": "2022-04-12T12:51:44.466Z"
   },
   {
    "duration": 8,
    "start_time": "2022-04-12T12:51:44.512Z"
   },
   {
    "duration": 7,
    "start_time": "2022-04-12T12:51:44.522Z"
   },
   {
    "duration": 8,
    "start_time": "2022-04-12T12:51:44.530Z"
   },
   {
    "duration": 8,
    "start_time": "2022-04-12T12:51:44.539Z"
   },
   {
    "duration": 344,
    "start_time": "2022-04-12T12:51:44.548Z"
   },
   {
    "duration": 293,
    "start_time": "2022-04-12T12:51:44.894Z"
   },
   {
    "duration": 298,
    "start_time": "2022-04-12T12:51:45.189Z"
   },
   {
    "duration": 121,
    "start_time": "2022-04-12T12:51:45.489Z"
   },
   {
    "duration": 0,
    "start_time": "2022-04-12T12:51:45.613Z"
   },
   {
    "duration": 0,
    "start_time": "2022-04-12T12:51:45.615Z"
   },
   {
    "duration": 0,
    "start_time": "2022-04-12T12:51:45.616Z"
   },
   {
    "duration": 0,
    "start_time": "2022-04-12T12:51:45.617Z"
   },
   {
    "duration": 0,
    "start_time": "2022-04-12T12:51:45.619Z"
   },
   {
    "duration": 0,
    "start_time": "2022-04-12T12:51:45.620Z"
   },
   {
    "duration": 0,
    "start_time": "2022-04-12T12:51:45.622Z"
   },
   {
    "duration": 0,
    "start_time": "2022-04-12T12:51:45.623Z"
   },
   {
    "duration": 0,
    "start_time": "2022-04-12T12:51:45.625Z"
   },
   {
    "duration": 0,
    "start_time": "2022-04-12T12:51:45.627Z"
   },
   {
    "duration": 0,
    "start_time": "2022-04-12T12:51:45.629Z"
   },
   {
    "duration": 0,
    "start_time": "2022-04-12T12:51:45.630Z"
   },
   {
    "duration": 0,
    "start_time": "2022-04-12T12:51:45.631Z"
   },
   {
    "duration": 0,
    "start_time": "2022-04-12T12:51:45.633Z"
   },
   {
    "duration": 0,
    "start_time": "2022-04-12T12:51:45.634Z"
   },
   {
    "duration": 0,
    "start_time": "2022-04-12T12:51:45.635Z"
   },
   {
    "duration": 0,
    "start_time": "2022-04-12T12:51:45.637Z"
   },
   {
    "duration": 0,
    "start_time": "2022-04-12T12:51:45.638Z"
   },
   {
    "duration": 0,
    "start_time": "2022-04-12T12:51:45.639Z"
   },
   {
    "duration": 0,
    "start_time": "2022-04-12T12:51:45.641Z"
   },
   {
    "duration": 0,
    "start_time": "2022-04-12T12:51:45.642Z"
   },
   {
    "duration": 0,
    "start_time": "2022-04-12T12:51:45.643Z"
   },
   {
    "duration": 0,
    "start_time": "2022-04-12T12:51:45.645Z"
   },
   {
    "duration": 0,
    "start_time": "2022-04-12T12:51:45.646Z"
   },
   {
    "duration": 0,
    "start_time": "2022-04-12T12:51:45.647Z"
   },
   {
    "duration": 0,
    "start_time": "2022-04-12T12:51:45.649Z"
   },
   {
    "duration": 0,
    "start_time": "2022-04-12T12:51:45.650Z"
   },
   {
    "duration": 0,
    "start_time": "2022-04-12T12:51:45.708Z"
   },
   {
    "duration": 0,
    "start_time": "2022-04-12T12:51:45.710Z"
   },
   {
    "duration": 0,
    "start_time": "2022-04-12T12:51:45.711Z"
   },
   {
    "duration": 0,
    "start_time": "2022-04-12T12:51:45.712Z"
   },
   {
    "duration": 0,
    "start_time": "2022-04-12T12:51:45.714Z"
   },
   {
    "duration": 0,
    "start_time": "2022-04-12T12:51:45.715Z"
   },
   {
    "duration": 0,
    "start_time": "2022-04-12T12:51:45.717Z"
   },
   {
    "duration": 0,
    "start_time": "2022-04-12T12:51:45.718Z"
   },
   {
    "duration": 0,
    "start_time": "2022-04-12T12:51:45.720Z"
   },
   {
    "duration": 0,
    "start_time": "2022-04-12T12:51:45.721Z"
   },
   {
    "duration": 0,
    "start_time": "2022-04-12T12:51:45.722Z"
   },
   {
    "duration": 288,
    "start_time": "2022-04-12T12:52:28.205Z"
   },
   {
    "duration": 303,
    "start_time": "2022-04-12T12:52:56.204Z"
   },
   {
    "duration": 325,
    "start_time": "2022-04-12T12:53:07.468Z"
   },
   {
    "duration": 329,
    "start_time": "2022-04-12T12:53:12.348Z"
   },
   {
    "duration": 317,
    "start_time": "2022-04-12T12:54:25.555Z"
   },
   {
    "duration": 393,
    "start_time": "2022-04-12T12:55:04.195Z"
   },
   {
    "duration": 335,
    "start_time": "2022-04-12T12:55:15.746Z"
   },
   {
    "duration": 308,
    "start_time": "2022-04-12T12:55:24.410Z"
   },
   {
    "duration": 308,
    "start_time": "2022-04-12T12:55:51.105Z"
   },
   {
    "duration": 326,
    "start_time": "2022-04-12T12:58:26.151Z"
   },
   {
    "duration": 306,
    "start_time": "2022-04-12T12:59:37.047Z"
   },
   {
    "duration": 6,
    "start_time": "2022-04-12T13:01:24.484Z"
   },
   {
    "duration": 9,
    "start_time": "2022-04-12T13:01:27.742Z"
   },
   {
    "duration": 1086,
    "start_time": "2022-04-12T13:01:36.239Z"
   },
   {
    "duration": 60,
    "start_time": "2022-04-12T13:01:37.327Z"
   },
   {
    "duration": 4,
    "start_time": "2022-04-12T13:01:37.388Z"
   },
   {
    "duration": 20,
    "start_time": "2022-04-12T13:01:37.394Z"
   },
   {
    "duration": 2,
    "start_time": "2022-04-12T13:01:37.416Z"
   },
   {
    "duration": 15,
    "start_time": "2022-04-12T13:01:37.419Z"
   },
   {
    "duration": 7,
    "start_time": "2022-04-12T13:01:37.435Z"
   },
   {
    "duration": 6,
    "start_time": "2022-04-12T13:01:37.444Z"
   },
   {
    "duration": 10,
    "start_time": "2022-04-12T13:01:37.451Z"
   },
   {
    "duration": 3,
    "start_time": "2022-04-12T13:01:37.464Z"
   },
   {
    "duration": 5,
    "start_time": "2022-04-12T13:01:37.468Z"
   },
   {
    "duration": 7,
    "start_time": "2022-04-12T13:01:37.507Z"
   },
   {
    "duration": 9,
    "start_time": "2022-04-12T13:01:37.516Z"
   },
   {
    "duration": 9,
    "start_time": "2022-04-12T13:01:37.526Z"
   },
   {
    "duration": 8,
    "start_time": "2022-04-12T13:01:37.537Z"
   },
   {
    "duration": 9,
    "start_time": "2022-04-12T13:01:37.546Z"
   },
   {
    "duration": 9,
    "start_time": "2022-04-12T13:01:37.556Z"
   },
   {
    "duration": 345,
    "start_time": "2022-04-12T13:01:37.567Z"
   },
   {
    "duration": 5,
    "start_time": "2022-04-12T13:01:37.914Z"
   },
   {
    "duration": 11,
    "start_time": "2022-04-12T13:01:37.921Z"
   },
   {
    "duration": 7,
    "start_time": "2022-04-12T13:01:37.933Z"
   },
   {
    "duration": 5,
    "start_time": "2022-04-12T13:01:37.941Z"
   },
   {
    "duration": 4,
    "start_time": "2022-04-12T13:01:37.948Z"
   },
   {
    "duration": 8,
    "start_time": "2022-04-12T13:01:37.954Z"
   },
   {
    "duration": 6,
    "start_time": "2022-04-12T13:01:37.963Z"
   },
   {
    "duration": 40,
    "start_time": "2022-04-12T13:01:37.970Z"
   },
   {
    "duration": 6,
    "start_time": "2022-04-12T13:01:38.012Z"
   },
   {
    "duration": 15,
    "start_time": "2022-04-12T13:01:38.021Z"
   },
   {
    "duration": 16,
    "start_time": "2022-04-12T13:01:38.038Z"
   },
   {
    "duration": 16,
    "start_time": "2022-04-12T13:01:38.056Z"
   },
   {
    "duration": 1468,
    "start_time": "2022-04-12T13:01:38.074Z"
   },
   {
    "duration": 7,
    "start_time": "2022-04-12T13:01:39.544Z"
   },
   {
    "duration": 4,
    "start_time": "2022-04-12T13:01:39.553Z"
   },
   {
    "duration": 16,
    "start_time": "2022-04-12T13:01:39.559Z"
   },
   {
    "duration": 33,
    "start_time": "2022-04-12T13:01:39.576Z"
   },
   {
    "duration": 31,
    "start_time": "2022-04-12T13:01:39.610Z"
   },
   {
    "duration": 3,
    "start_time": "2022-04-12T13:01:39.643Z"
   },
   {
    "duration": 460,
    "start_time": "2022-04-12T13:01:39.648Z"
   },
   {
    "duration": 137,
    "start_time": "2022-04-12T13:01:40.110Z"
   },
   {
    "duration": 7,
    "start_time": "2022-04-12T13:01:40.249Z"
   },
   {
    "duration": 158,
    "start_time": "2022-04-12T13:01:40.258Z"
   },
   {
    "duration": 30,
    "start_time": "2022-04-12T13:01:40.418Z"
   },
   {
    "duration": 157,
    "start_time": "2022-04-12T13:01:40.450Z"
   },
   {
    "duration": 8,
    "start_time": "2022-04-12T13:01:40.609Z"
   },
   {
    "duration": 38,
    "start_time": "2022-04-12T13:01:40.619Z"
   },
   {
    "duration": 14,
    "start_time": "2022-04-12T13:01:40.659Z"
   },
   {
    "duration": 204,
    "start_time": "2022-04-12T13:01:40.675Z"
   },
   {
    "duration": 4,
    "start_time": "2022-04-12T13:01:40.881Z"
   },
   {
    "duration": 44,
    "start_time": "2022-04-12T13:01:40.887Z"
   },
   {
    "duration": 295,
    "start_time": "2022-04-12T13:01:40.933Z"
   },
   {
    "duration": 34,
    "start_time": "2022-04-12T13:01:41.230Z"
   },
   {
    "duration": 315,
    "start_time": "2022-04-12T13:01:41.266Z"
   },
   {
    "duration": 47,
    "start_time": "2022-04-12T13:01:41.582Z"
   },
   {
    "duration": 243,
    "start_time": "2022-04-12T13:01:41.631Z"
   },
   {
    "duration": 9,
    "start_time": "2022-04-12T13:01:41.875Z"
   },
   {
    "duration": 25,
    "start_time": "2022-04-12T13:01:41.886Z"
   },
   {
    "duration": 1059,
    "start_time": "2022-04-12T13:41:48.542Z"
   },
   {
    "duration": 56,
    "start_time": "2022-04-12T13:41:49.602Z"
   },
   {
    "duration": 4,
    "start_time": "2022-04-12T13:41:49.660Z"
   },
   {
    "duration": 15,
    "start_time": "2022-04-12T13:41:49.666Z"
   },
   {
    "duration": 3,
    "start_time": "2022-04-12T13:41:49.682Z"
   },
   {
    "duration": 30,
    "start_time": "2022-04-12T13:41:49.687Z"
   },
   {
    "duration": 6,
    "start_time": "2022-04-12T13:41:49.719Z"
   },
   {
    "duration": 9,
    "start_time": "2022-04-12T13:41:49.726Z"
   },
   {
    "duration": 9,
    "start_time": "2022-04-12T13:41:49.736Z"
   },
   {
    "duration": 3,
    "start_time": "2022-04-12T13:41:49.748Z"
   },
   {
    "duration": 8,
    "start_time": "2022-04-12T13:41:49.752Z"
   },
   {
    "duration": 7,
    "start_time": "2022-04-12T13:41:49.761Z"
   },
   {
    "duration": 37,
    "start_time": "2022-04-12T13:41:49.770Z"
   },
   {
    "duration": 9,
    "start_time": "2022-04-12T13:41:49.809Z"
   },
   {
    "duration": 8,
    "start_time": "2022-04-12T13:41:49.819Z"
   },
   {
    "duration": 7,
    "start_time": "2022-04-12T13:41:49.829Z"
   },
   {
    "duration": 7,
    "start_time": "2022-04-12T13:41:49.837Z"
   },
   {
    "duration": 342,
    "start_time": "2022-04-12T13:41:49.845Z"
   },
   {
    "duration": 5,
    "start_time": "2022-04-12T13:41:50.189Z"
   },
   {
    "duration": 19,
    "start_time": "2022-04-12T13:41:50.195Z"
   },
   {
    "duration": 11,
    "start_time": "2022-04-12T13:41:50.215Z"
   },
   {
    "duration": 6,
    "start_time": "2022-04-12T13:41:50.228Z"
   },
   {
    "duration": 9,
    "start_time": "2022-04-12T13:41:50.235Z"
   },
   {
    "duration": 7,
    "start_time": "2022-04-12T13:41:50.245Z"
   },
   {
    "duration": 9,
    "start_time": "2022-04-12T13:41:50.253Z"
   },
   {
    "duration": 10,
    "start_time": "2022-04-12T13:41:50.264Z"
   },
   {
    "duration": 33,
    "start_time": "2022-04-12T13:41:50.276Z"
   },
   {
    "duration": 16,
    "start_time": "2022-04-12T13:41:50.313Z"
   },
   {
    "duration": 15,
    "start_time": "2022-04-12T13:41:50.331Z"
   },
   {
    "duration": 15,
    "start_time": "2022-04-12T13:41:50.348Z"
   },
   {
    "duration": 1368,
    "start_time": "2022-04-12T13:41:50.364Z"
   },
   {
    "duration": 7,
    "start_time": "2022-04-12T13:41:51.734Z"
   },
   {
    "duration": 6,
    "start_time": "2022-04-12T13:41:51.742Z"
   },
   {
    "duration": 15,
    "start_time": "2022-04-12T13:41:51.750Z"
   },
   {
    "duration": 15,
    "start_time": "2022-04-12T13:41:51.767Z"
   },
   {
    "duration": 51,
    "start_time": "2022-04-12T13:41:51.783Z"
   },
   {
    "duration": 2,
    "start_time": "2022-04-12T13:41:51.836Z"
   },
   {
    "duration": 432,
    "start_time": "2022-04-12T13:41:51.840Z"
   },
   {
    "duration": 140,
    "start_time": "2022-04-12T13:41:52.274Z"
   },
   {
    "duration": 7,
    "start_time": "2022-04-12T13:41:52.416Z"
   },
   {
    "duration": 149,
    "start_time": "2022-04-12T13:41:52.425Z"
   },
   {
    "duration": 39,
    "start_time": "2022-04-12T13:41:52.576Z"
   },
   {
    "duration": 154,
    "start_time": "2022-04-12T13:41:52.616Z"
   },
   {
    "duration": 8,
    "start_time": "2022-04-12T13:41:52.771Z"
   },
   {
    "duration": 45,
    "start_time": "2022-04-12T13:41:52.781Z"
   },
   {
    "duration": 16,
    "start_time": "2022-04-12T13:41:52.828Z"
   },
   {
    "duration": 204,
    "start_time": "2022-04-12T13:41:52.846Z"
   },
   {
    "duration": 4,
    "start_time": "2022-04-12T13:41:53.052Z"
   },
   {
    "duration": 64,
    "start_time": "2022-04-12T13:41:53.058Z"
   },
   {
    "duration": 302,
    "start_time": "2022-04-12T13:41:53.124Z"
   },
   {
    "duration": 33,
    "start_time": "2022-04-12T13:41:53.428Z"
   },
   {
    "duration": 318,
    "start_time": "2022-04-12T13:41:53.462Z"
   },
   {
    "duration": 45,
    "start_time": "2022-04-12T13:41:53.782Z"
   },
   {
    "duration": 239,
    "start_time": "2022-04-12T13:41:53.829Z"
   },
   {
    "duration": 9,
    "start_time": "2022-04-12T13:41:54.070Z"
   },
   {
    "duration": 26,
    "start_time": "2022-04-12T13:41:54.081Z"
   },
   {
    "duration": 3,
    "start_time": "2022-04-12T13:53:11.615Z"
   },
   {
    "duration": 1136,
    "start_time": "2022-04-12T13:53:18.368Z"
   },
   {
    "duration": 60,
    "start_time": "2022-04-12T13:53:19.506Z"
   },
   {
    "duration": 4,
    "start_time": "2022-04-12T13:53:19.567Z"
   },
   {
    "duration": 17,
    "start_time": "2022-04-12T13:53:19.574Z"
   },
   {
    "duration": 3,
    "start_time": "2022-04-12T13:53:19.593Z"
   },
   {
    "duration": 14,
    "start_time": "2022-04-12T13:53:19.607Z"
   },
   {
    "duration": 7,
    "start_time": "2022-04-12T13:53:19.623Z"
   },
   {
    "duration": 7,
    "start_time": "2022-04-12T13:53:19.631Z"
   },
   {
    "duration": 10,
    "start_time": "2022-04-12T13:53:19.640Z"
   },
   {
    "duration": 4,
    "start_time": "2022-04-12T13:53:19.652Z"
   },
   {
    "duration": 6,
    "start_time": "2022-04-12T13:53:19.657Z"
   },
   {
    "duration": 43,
    "start_time": "2022-04-12T13:53:19.664Z"
   },
   {
    "duration": 9,
    "start_time": "2022-04-12T13:53:19.709Z"
   },
   {
    "duration": 11,
    "start_time": "2022-04-12T13:53:19.720Z"
   },
   {
    "duration": 8,
    "start_time": "2022-04-12T13:53:19.733Z"
   },
   {
    "duration": 8,
    "start_time": "2022-04-12T13:53:19.742Z"
   },
   {
    "duration": 7,
    "start_time": "2022-04-12T13:53:19.752Z"
   },
   {
    "duration": 373,
    "start_time": "2022-04-12T13:53:19.761Z"
   },
   {
    "duration": 7,
    "start_time": "2022-04-12T13:53:20.136Z"
   },
   {
    "duration": 13,
    "start_time": "2022-04-12T13:53:20.144Z"
   },
   {
    "duration": 8,
    "start_time": "2022-04-12T13:53:20.158Z"
   },
   {
    "duration": 7,
    "start_time": "2022-04-12T13:53:20.167Z"
   },
   {
    "duration": 5,
    "start_time": "2022-04-12T13:53:20.175Z"
   },
   {
    "duration": 32,
    "start_time": "2022-04-12T13:53:20.181Z"
   },
   {
    "duration": 7,
    "start_time": "2022-04-12T13:53:20.215Z"
   },
   {
    "duration": 12,
    "start_time": "2022-04-12T13:53:20.223Z"
   },
   {
    "duration": 4,
    "start_time": "2022-04-12T13:53:20.236Z"
   },
   {
    "duration": 63,
    "start_time": "2022-04-12T13:53:20.244Z"
   },
   {
    "duration": 17,
    "start_time": "2022-04-12T13:53:20.309Z"
   },
   {
    "duration": 17,
    "start_time": "2022-04-12T13:53:20.328Z"
   },
   {
    "duration": 2298,
    "start_time": "2022-04-12T13:53:20.347Z"
   },
   {
    "duration": 8,
    "start_time": "2022-04-12T13:53:22.646Z"
   },
   {
    "duration": 4,
    "start_time": "2022-04-12T13:53:22.708Z"
   },
   {
    "duration": 17,
    "start_time": "2022-04-12T13:53:22.714Z"
   },
   {
    "duration": 16,
    "start_time": "2022-04-12T13:53:22.733Z"
   },
   {
    "duration": 84,
    "start_time": "2022-04-12T13:53:22.750Z"
   },
   {
    "duration": 3,
    "start_time": "2022-04-12T13:53:22.836Z"
   },
   {
    "duration": 433,
    "start_time": "2022-04-12T13:53:22.841Z"
   },
   {
    "duration": 142,
    "start_time": "2022-04-12T13:53:23.276Z"
   },
   {
    "duration": 7,
    "start_time": "2022-04-12T13:53:23.419Z"
   },
   {
    "duration": 154,
    "start_time": "2022-04-12T13:53:23.428Z"
   },
   {
    "duration": 39,
    "start_time": "2022-04-12T13:53:23.584Z"
   },
   {
    "duration": 161,
    "start_time": "2022-04-12T13:53:23.624Z"
   },
   {
    "duration": 8,
    "start_time": "2022-04-12T13:53:23.786Z"
   },
   {
    "duration": 29,
    "start_time": "2022-04-12T13:53:23.808Z"
   },
   {
    "duration": 15,
    "start_time": "2022-04-12T13:53:23.839Z"
   },
   {
    "duration": 212,
    "start_time": "2022-04-12T13:53:23.855Z"
   },
   {
    "duration": 4,
    "start_time": "2022-04-12T13:53:24.068Z"
   },
   {
    "duration": 44,
    "start_time": "2022-04-12T13:53:24.073Z"
   },
   {
    "duration": 294,
    "start_time": "2022-04-12T13:53:24.119Z"
   },
   {
    "duration": 31,
    "start_time": "2022-04-12T13:53:24.414Z"
   },
   {
    "duration": 319,
    "start_time": "2022-04-12T13:53:24.446Z"
   },
   {
    "duration": 46,
    "start_time": "2022-04-12T13:53:24.767Z"
   },
   {
    "duration": 237,
    "start_time": "2022-04-12T13:53:24.815Z"
   },
   {
    "duration": 9,
    "start_time": "2022-04-12T13:53:25.054Z"
   },
   {
    "duration": 9,
    "start_time": "2022-04-12T13:53:25.065Z"
   },
   {
    "duration": 13,
    "start_time": "2022-04-12T14:01:06.332Z"
   },
   {
    "duration": 1143,
    "start_time": "2022-04-12T14:13:09.077Z"
   },
   {
    "duration": 54,
    "start_time": "2022-04-12T14:13:10.223Z"
   },
   {
    "duration": 4,
    "start_time": "2022-04-12T14:13:10.279Z"
   },
   {
    "duration": 30,
    "start_time": "2022-04-12T14:13:10.285Z"
   },
   {
    "duration": 6,
    "start_time": "2022-04-12T14:13:10.316Z"
   },
   {
    "duration": 16,
    "start_time": "2022-04-12T14:13:10.325Z"
   },
   {
    "duration": 10,
    "start_time": "2022-04-12T14:13:10.343Z"
   },
   {
    "duration": 10,
    "start_time": "2022-04-12T14:13:10.355Z"
   },
   {
    "duration": 12,
    "start_time": "2022-04-12T14:13:10.366Z"
   },
   {
    "duration": 5,
    "start_time": "2022-04-12T14:13:10.406Z"
   },
   {
    "duration": 6,
    "start_time": "2022-04-12T14:13:10.413Z"
   },
   {
    "duration": 10,
    "start_time": "2022-04-12T14:13:10.421Z"
   },
   {
    "duration": 10,
    "start_time": "2022-04-12T14:13:10.434Z"
   },
   {
    "duration": 13,
    "start_time": "2022-04-12T14:13:10.445Z"
   },
   {
    "duration": 8,
    "start_time": "2022-04-12T14:13:10.459Z"
   },
   {
    "duration": 48,
    "start_time": "2022-04-12T14:13:10.469Z"
   },
   {
    "duration": 10,
    "start_time": "2022-04-12T14:13:10.520Z"
   },
   {
    "duration": 385,
    "start_time": "2022-04-12T14:13:10.532Z"
   },
   {
    "duration": 7,
    "start_time": "2022-04-12T14:13:10.918Z"
   },
   {
    "duration": 9,
    "start_time": "2022-04-12T14:13:10.927Z"
   },
   {
    "duration": 9,
    "start_time": "2022-04-12T14:13:10.938Z"
   },
   {
    "duration": 6,
    "start_time": "2022-04-12T14:13:10.949Z"
   },
   {
    "duration": 5,
    "start_time": "2022-04-12T14:13:10.956Z"
   },
   {
    "duration": 6,
    "start_time": "2022-04-12T14:13:10.963Z"
   },
   {
    "duration": 15,
    "start_time": "2022-04-12T14:13:11.007Z"
   },
   {
    "duration": 13,
    "start_time": "2022-04-12T14:13:11.024Z"
   },
   {
    "duration": 5,
    "start_time": "2022-04-12T14:13:11.039Z"
   },
   {
    "duration": 17,
    "start_time": "2022-04-12T14:13:11.048Z"
   },
   {
    "duration": 41,
    "start_time": "2022-04-12T14:13:11.066Z"
   },
   {
    "duration": 19,
    "start_time": "2022-04-12T14:13:11.109Z"
   },
   {
    "duration": 1485,
    "start_time": "2022-04-12T14:13:11.130Z"
   },
   {
    "duration": 8,
    "start_time": "2022-04-12T14:13:12.617Z"
   },
   {
    "duration": 6,
    "start_time": "2022-04-12T14:13:12.627Z"
   },
   {
    "duration": 21,
    "start_time": "2022-04-12T14:13:12.634Z"
   },
   {
    "duration": 17,
    "start_time": "2022-04-12T14:13:12.656Z"
   },
   {
    "duration": 71,
    "start_time": "2022-04-12T14:13:12.674Z"
   },
   {
    "duration": 4,
    "start_time": "2022-04-12T14:13:12.746Z"
   },
   {
    "duration": 472,
    "start_time": "2022-04-12T14:13:12.751Z"
   },
   {
    "duration": 175,
    "start_time": "2022-04-12T14:13:13.225Z"
   },
   {
    "duration": 8,
    "start_time": "2022-04-12T14:13:13.406Z"
   },
   {
    "duration": 164,
    "start_time": "2022-04-12T14:13:13.416Z"
   },
   {
    "duration": 44,
    "start_time": "2022-04-12T14:13:13.581Z"
   },
   {
    "duration": 168,
    "start_time": "2022-04-12T14:13:13.627Z"
   },
   {
    "duration": 16,
    "start_time": "2022-04-12T14:13:13.797Z"
   },
   {
    "duration": 32,
    "start_time": "2022-04-12T14:13:13.815Z"
   },
   {
    "duration": 15,
    "start_time": "2022-04-12T14:13:13.848Z"
   },
   {
    "duration": 213,
    "start_time": "2022-04-12T14:13:13.865Z"
   },
   {
    "duration": 4,
    "start_time": "2022-04-12T14:13:14.080Z"
   },
   {
    "duration": 47,
    "start_time": "2022-04-12T14:13:14.085Z"
   },
   {
    "duration": 298,
    "start_time": "2022-04-12T14:13:14.133Z"
   },
   {
    "duration": 33,
    "start_time": "2022-04-12T14:13:14.432Z"
   },
   {
    "duration": 317,
    "start_time": "2022-04-12T14:13:14.467Z"
   },
   {
    "duration": 46,
    "start_time": "2022-04-12T14:13:14.786Z"
   },
   {
    "duration": 256,
    "start_time": "2022-04-12T14:13:14.833Z"
   },
   {
    "duration": 16,
    "start_time": "2022-04-12T14:13:15.091Z"
   },
   {
    "duration": 11,
    "start_time": "2022-04-12T14:13:15.110Z"
   },
   {
    "duration": 154,
    "start_time": "2022-04-22T10:07:24.461Z"
   },
   {
    "duration": 164,
    "start_time": "2022-04-22T10:08:34.753Z"
   },
   {
    "duration": 190,
    "start_time": "2022-04-22T10:15:34.427Z"
   },
   {
    "duration": 177,
    "start_time": "2022-04-22T10:17:44.152Z"
   },
   {
    "duration": 157,
    "start_time": "2022-04-22T10:20:05.394Z"
   },
   {
    "duration": 162,
    "start_time": "2022-04-22T10:22:57.801Z"
   },
   {
    "duration": 70,
    "start_time": "2022-04-22T10:25:28.374Z"
   },
   {
    "duration": 1170,
    "start_time": "2022-04-22T10:25:39.387Z"
   },
   {
    "duration": 52,
    "start_time": "2022-04-22T10:25:40.559Z"
   },
   {
    "duration": 4,
    "start_time": "2022-04-22T10:25:40.613Z"
   },
   {
    "duration": 17,
    "start_time": "2022-04-22T10:25:40.618Z"
   },
   {
    "duration": 18,
    "start_time": "2022-04-22T10:25:40.637Z"
   },
   {
    "duration": 15,
    "start_time": "2022-04-22T10:25:40.657Z"
   },
   {
    "duration": 10,
    "start_time": "2022-04-22T10:25:40.674Z"
   },
   {
    "duration": 7,
    "start_time": "2022-04-22T10:25:40.685Z"
   },
   {
    "duration": 9,
    "start_time": "2022-04-22T10:25:40.694Z"
   },
   {
    "duration": 4,
    "start_time": "2022-04-22T10:25:40.704Z"
   },
   {
    "duration": 7,
    "start_time": "2022-04-22T10:25:40.709Z"
   },
   {
    "duration": 7,
    "start_time": "2022-04-22T10:25:40.717Z"
   },
   {
    "duration": 8,
    "start_time": "2022-04-22T10:25:40.755Z"
   },
   {
    "duration": 9,
    "start_time": "2022-04-22T10:25:40.766Z"
   },
   {
    "duration": 8,
    "start_time": "2022-04-22T10:25:40.777Z"
   },
   {
    "duration": 8,
    "start_time": "2022-04-22T10:25:40.787Z"
   },
   {
    "duration": 8,
    "start_time": "2022-04-22T10:25:40.796Z"
   },
   {
    "duration": 350,
    "start_time": "2022-04-22T10:25:40.806Z"
   },
   {
    "duration": 6,
    "start_time": "2022-04-22T10:25:41.158Z"
   },
   {
    "duration": 9,
    "start_time": "2022-04-22T10:25:41.165Z"
   },
   {
    "duration": 7,
    "start_time": "2022-04-22T10:25:41.176Z"
   },
   {
    "duration": 6,
    "start_time": "2022-04-22T10:25:41.184Z"
   },
   {
    "duration": 5,
    "start_time": "2022-04-22T10:25:41.192Z"
   },
   {
    "duration": 7,
    "start_time": "2022-04-22T10:25:41.198Z"
   },
   {
    "duration": 7,
    "start_time": "2022-04-22T10:25:41.207Z"
   },
   {
    "duration": 47,
    "start_time": "2022-04-22T10:25:41.216Z"
   },
   {
    "duration": 6,
    "start_time": "2022-04-22T10:25:41.264Z"
   },
   {
    "duration": 18,
    "start_time": "2022-04-22T10:25:41.271Z"
   },
   {
    "duration": 13,
    "start_time": "2022-04-22T10:25:41.291Z"
   },
   {
    "duration": 15,
    "start_time": "2022-04-22T10:25:41.306Z"
   },
   {
    "duration": 17,
    "start_time": "2022-04-22T10:25:41.355Z"
   },
   {
    "duration": 1255,
    "start_time": "2022-04-22T10:25:41.373Z"
   },
   {
    "duration": 8,
    "start_time": "2022-04-22T10:25:42.630Z"
   },
   {
    "duration": 17,
    "start_time": "2022-04-22T10:25:42.639Z"
   },
   {
    "duration": 25,
    "start_time": "2022-04-22T10:25:42.658Z"
   },
   {
    "duration": 21,
    "start_time": "2022-04-22T10:25:42.685Z"
   },
   {
    "duration": 29,
    "start_time": "2022-04-22T10:25:42.708Z"
   },
   {
    "duration": 3,
    "start_time": "2022-04-22T10:25:42.739Z"
   },
   {
    "duration": 378,
    "start_time": "2022-04-22T10:25:42.744Z"
   },
   {
    "duration": 131,
    "start_time": "2022-04-22T10:25:43.124Z"
   },
   {
    "duration": 8,
    "start_time": "2022-04-22T10:25:43.259Z"
   },
   {
    "duration": 132,
    "start_time": "2022-04-22T10:25:43.269Z"
   },
   {
    "duration": 27,
    "start_time": "2022-04-22T10:25:43.403Z"
   },
   {
    "duration": 148,
    "start_time": "2022-04-22T10:25:43.432Z"
   },
   {
    "duration": 8,
    "start_time": "2022-04-22T10:25:43.581Z"
   },
   {
    "duration": 48,
    "start_time": "2022-04-22T10:25:43.590Z"
   },
   {
    "duration": 15,
    "start_time": "2022-04-22T10:25:43.640Z"
   },
   {
    "duration": 173,
    "start_time": "2022-04-22T10:25:43.656Z"
   },
   {
    "duration": 3,
    "start_time": "2022-04-22T10:25:43.831Z"
   },
   {
    "duration": 46,
    "start_time": "2022-04-22T10:25:43.836Z"
   },
   {
    "duration": 249,
    "start_time": "2022-04-22T10:25:43.884Z"
   },
   {
    "duration": 40,
    "start_time": "2022-04-22T10:25:44.135Z"
   },
   {
    "duration": 265,
    "start_time": "2022-04-22T10:25:44.176Z"
   },
   {
    "duration": 39,
    "start_time": "2022-04-22T10:25:44.443Z"
   },
   {
    "duration": 230,
    "start_time": "2022-04-22T10:25:44.484Z"
   },
   {
    "duration": 10,
    "start_time": "2022-04-22T10:25:44.716Z"
   },
   {
    "duration": 24,
    "start_time": "2022-04-22T10:25:44.727Z"
   },
   {
    "duration": 211,
    "start_time": "2022-04-22T11:04:45.233Z"
   },
   {
    "duration": 148,
    "start_time": "2022-04-22T11:06:52.413Z"
   },
   {
    "duration": 181,
    "start_time": "2022-04-22T11:08:34.009Z"
   },
   {
    "duration": 171,
    "start_time": "2022-04-22T11:11:30.720Z"
   },
   {
    "duration": 155,
    "start_time": "2022-04-22T11:12:05.769Z"
   },
   {
    "duration": 143,
    "start_time": "2022-04-22T11:12:49.404Z"
   },
   {
    "duration": 288,
    "start_time": "2022-04-22T11:14:06.397Z"
   },
   {
    "duration": 143,
    "start_time": "2022-04-22T11:16:04.881Z"
   },
   {
    "duration": 1605,
    "start_time": "2022-04-22T11:19:24.201Z"
   },
   {
    "duration": 73,
    "start_time": "2022-04-22T11:19:25.810Z"
   },
   {
    "duration": 3,
    "start_time": "2022-04-22T11:19:25.885Z"
   },
   {
    "duration": 25,
    "start_time": "2022-04-22T11:19:25.890Z"
   },
   {
    "duration": 4,
    "start_time": "2022-04-22T11:19:25.918Z"
   },
   {
    "duration": 35,
    "start_time": "2022-04-22T11:19:25.924Z"
   },
   {
    "duration": 9,
    "start_time": "2022-04-22T11:19:25.962Z"
   },
   {
    "duration": 10,
    "start_time": "2022-04-22T11:19:25.973Z"
   },
   {
    "duration": 13,
    "start_time": "2022-04-22T11:19:25.985Z"
   },
   {
    "duration": 4,
    "start_time": "2022-04-22T11:19:26.000Z"
   },
   {
    "duration": 7,
    "start_time": "2022-04-22T11:19:26.006Z"
   },
   {
    "duration": 41,
    "start_time": "2022-04-22T11:19:26.015Z"
   },
   {
    "duration": 13,
    "start_time": "2022-04-22T11:19:26.058Z"
   },
   {
    "duration": 12,
    "start_time": "2022-04-22T11:19:26.075Z"
   },
   {
    "duration": 11,
    "start_time": "2022-04-22T11:19:26.089Z"
   },
   {
    "duration": 10,
    "start_time": "2022-04-22T11:19:26.102Z"
   },
   {
    "duration": 42,
    "start_time": "2022-04-22T11:19:26.114Z"
   },
   {
    "duration": 316,
    "start_time": "2022-04-22T11:19:26.158Z"
   },
   {
    "duration": 7,
    "start_time": "2022-04-22T11:19:26.475Z"
   },
   {
    "duration": 16,
    "start_time": "2022-04-22T11:19:26.484Z"
   },
   {
    "duration": 8,
    "start_time": "2022-04-22T11:19:26.501Z"
   },
   {
    "duration": 10,
    "start_time": "2022-04-22T11:19:26.511Z"
   },
   {
    "duration": 32,
    "start_time": "2022-04-22T11:19:26.523Z"
   },
   {
    "duration": 18,
    "start_time": "2022-04-22T11:19:26.556Z"
   },
   {
    "duration": 9,
    "start_time": "2022-04-22T11:19:26.576Z"
   },
   {
    "duration": 11,
    "start_time": "2022-04-22T11:19:26.587Z"
   },
   {
    "duration": 4,
    "start_time": "2022-04-22T11:19:26.600Z"
   },
   {
    "duration": 21,
    "start_time": "2022-04-22T11:19:26.606Z"
   },
   {
    "duration": 35,
    "start_time": "2022-04-22T11:19:26.629Z"
   },
   {
    "duration": 15,
    "start_time": "2022-04-22T11:19:26.666Z"
   },
   {
    "duration": 17,
    "start_time": "2022-04-22T11:19:26.683Z"
   },
   {
    "duration": 1338,
    "start_time": "2022-04-22T11:19:26.702Z"
   },
   {
    "duration": 13,
    "start_time": "2022-04-22T11:19:28.041Z"
   },
   {
    "duration": 4,
    "start_time": "2022-04-22T11:19:28.056Z"
   },
   {
    "duration": 18,
    "start_time": "2022-04-22T11:19:28.061Z"
   },
   {
    "duration": 16,
    "start_time": "2022-04-22T11:19:28.080Z"
   },
   {
    "duration": 27,
    "start_time": "2022-04-22T11:19:28.098Z"
   },
   {
    "duration": 28,
    "start_time": "2022-04-22T11:19:28.127Z"
   },
   {
    "duration": 425,
    "start_time": "2022-04-22T11:19:28.156Z"
   },
   {
    "duration": 131,
    "start_time": "2022-04-22T11:19:28.583Z"
   },
   {
    "duration": 7,
    "start_time": "2022-04-22T11:19:28.718Z"
   },
   {
    "duration": 142,
    "start_time": "2022-04-22T11:19:28.727Z"
   },
   {
    "duration": 27,
    "start_time": "2022-04-22T11:19:28.871Z"
   },
   {
    "duration": 144,
    "start_time": "2022-04-22T11:19:28.899Z"
   },
   {
    "duration": 16,
    "start_time": "2022-04-22T11:19:29.045Z"
   },
   {
    "duration": 37,
    "start_time": "2022-04-22T11:19:29.063Z"
   },
   {
    "duration": 15,
    "start_time": "2022-04-22T11:19:29.101Z"
   },
   {
    "duration": 195,
    "start_time": "2022-04-22T11:19:29.118Z"
   },
   {
    "duration": 4,
    "start_time": "2022-04-22T11:19:29.315Z"
   },
   {
    "duration": 44,
    "start_time": "2022-04-22T11:19:29.321Z"
   },
   {
    "duration": 270,
    "start_time": "2022-04-22T11:19:29.367Z"
   },
   {
    "duration": 40,
    "start_time": "2022-04-22T11:19:29.639Z"
   },
   {
    "duration": 291,
    "start_time": "2022-04-22T11:19:29.680Z"
   },
   {
    "duration": 37,
    "start_time": "2022-04-22T11:19:29.973Z"
   },
   {
    "duration": 322,
    "start_time": "2022-04-22T11:19:30.012Z"
   },
   {
    "duration": 20,
    "start_time": "2022-04-22T11:19:30.336Z"
   },
   {
    "duration": 16,
    "start_time": "2022-04-22T11:19:30.357Z"
   },
   {
    "duration": 1356,
    "start_time": "2022-04-23T18:22:49.223Z"
   },
   {
    "duration": 57,
    "start_time": "2022-04-23T18:22:50.581Z"
   },
   {
    "duration": 5,
    "start_time": "2022-04-23T18:22:50.640Z"
   },
   {
    "duration": 17,
    "start_time": "2022-04-23T18:22:50.647Z"
   },
   {
    "duration": 3,
    "start_time": "2022-04-23T18:22:50.666Z"
   },
   {
    "duration": 20,
    "start_time": "2022-04-23T18:22:50.670Z"
   },
   {
    "duration": 33,
    "start_time": "2022-04-23T18:22:50.691Z"
   },
   {
    "duration": 11,
    "start_time": "2022-04-23T18:22:50.730Z"
   },
   {
    "duration": 13,
    "start_time": "2022-04-23T18:22:50.743Z"
   },
   {
    "duration": 4,
    "start_time": "2022-04-23T18:22:50.759Z"
   },
   {
    "duration": 6,
    "start_time": "2022-04-23T18:22:50.764Z"
   },
   {
    "duration": 8,
    "start_time": "2022-04-23T18:22:50.772Z"
   },
   {
    "duration": 10,
    "start_time": "2022-04-23T18:22:50.782Z"
   },
   {
    "duration": 31,
    "start_time": "2022-04-23T18:22:50.794Z"
   },
   {
    "duration": 14,
    "start_time": "2022-04-23T18:22:50.827Z"
   },
   {
    "duration": 11,
    "start_time": "2022-04-23T18:22:50.843Z"
   },
   {
    "duration": 11,
    "start_time": "2022-04-23T18:22:50.856Z"
   },
   {
    "duration": 468,
    "start_time": "2022-04-23T18:22:50.869Z"
   },
   {
    "duration": 6,
    "start_time": "2022-04-23T18:22:51.339Z"
   },
   {
    "duration": 11,
    "start_time": "2022-04-23T18:22:51.347Z"
   },
   {
    "duration": 22,
    "start_time": "2022-04-23T18:22:51.360Z"
   },
   {
    "duration": 10,
    "start_time": "2022-04-23T18:22:51.384Z"
   },
   {
    "duration": 17,
    "start_time": "2022-04-23T18:22:51.396Z"
   },
   {
    "duration": 15,
    "start_time": "2022-04-23T18:22:51.414Z"
   },
   {
    "duration": 16,
    "start_time": "2022-04-23T18:22:51.435Z"
   },
   {
    "duration": 16,
    "start_time": "2022-04-23T18:22:51.453Z"
   },
   {
    "duration": 17,
    "start_time": "2022-04-23T18:22:51.471Z"
   },
   {
    "duration": 16,
    "start_time": "2022-04-23T18:22:51.492Z"
   },
   {
    "duration": 13,
    "start_time": "2022-04-23T18:22:51.510Z"
   },
   {
    "duration": 21,
    "start_time": "2022-04-23T18:22:51.525Z"
   },
   {
    "duration": 23,
    "start_time": "2022-04-23T18:22:51.548Z"
   },
   {
    "duration": 1349,
    "start_time": "2022-04-23T18:22:51.572Z"
   },
   {
    "duration": 10,
    "start_time": "2022-04-23T18:22:52.923Z"
   },
   {
    "duration": 12,
    "start_time": "2022-04-23T18:22:52.934Z"
   },
   {
    "duration": 17,
    "start_time": "2022-04-23T18:22:52.947Z"
   },
   {
    "duration": 14,
    "start_time": "2022-04-23T18:22:52.966Z"
   },
   {
    "duration": 50,
    "start_time": "2022-04-23T18:22:52.981Z"
   },
   {
    "duration": 4,
    "start_time": "2022-04-23T18:22:53.032Z"
   },
   {
    "duration": 444,
    "start_time": "2022-04-23T18:22:53.038Z"
   },
   {
    "duration": 143,
    "start_time": "2022-04-23T18:22:53.484Z"
   },
   {
    "duration": 11,
    "start_time": "2022-04-23T18:22:53.630Z"
   },
   {
    "duration": 226,
    "start_time": "2022-04-23T18:22:53.643Z"
   },
   {
    "duration": 59,
    "start_time": "2022-04-23T18:22:53.872Z"
   },
   {
    "duration": 149,
    "start_time": "2022-04-23T18:22:53.934Z"
   },
   {
    "duration": 8,
    "start_time": "2022-04-23T18:22:54.084Z"
   },
   {
    "duration": 54,
    "start_time": "2022-04-23T18:22:54.094Z"
   },
   {
    "duration": 15,
    "start_time": "2022-04-23T18:22:54.150Z"
   },
   {
    "duration": 295,
    "start_time": "2022-04-23T18:22:54.167Z"
   },
   {
    "duration": 6,
    "start_time": "2022-04-23T18:22:54.464Z"
   },
   {
    "duration": 59,
    "start_time": "2022-04-23T18:22:54.472Z"
   },
   {
    "duration": 443,
    "start_time": "2022-04-23T18:22:54.534Z"
   },
   {
    "duration": 32,
    "start_time": "2022-04-23T18:22:54.979Z"
   },
   {
    "duration": 287,
    "start_time": "2022-04-23T18:22:55.023Z"
   },
   {
    "duration": 49,
    "start_time": "2022-04-23T18:22:55.312Z"
   },
   {
    "duration": 238,
    "start_time": "2022-04-23T18:22:55.363Z"
   },
   {
    "duration": 9,
    "start_time": "2022-04-23T18:22:55.602Z"
   },
   {
    "duration": 11,
    "start_time": "2022-04-23T18:22:55.623Z"
   },
   {
    "duration": 192,
    "start_time": "2022-04-23T18:24:23.456Z"
   },
   {
    "duration": 7,
    "start_time": "2022-04-23T18:30:09.225Z"
   },
   {
    "duration": 1130,
    "start_time": "2022-04-23T18:32:29.583Z"
   },
   {
    "duration": 52,
    "start_time": "2022-04-23T18:32:30.715Z"
   },
   {
    "duration": 4,
    "start_time": "2022-04-23T18:32:30.769Z"
   },
   {
    "duration": 18,
    "start_time": "2022-04-23T18:32:30.774Z"
   },
   {
    "duration": 7,
    "start_time": "2022-04-23T18:32:30.794Z"
   },
   {
    "duration": 29,
    "start_time": "2022-04-23T18:32:30.804Z"
   },
   {
    "duration": 24,
    "start_time": "2022-04-23T18:32:30.835Z"
   },
   {
    "duration": 11,
    "start_time": "2022-04-23T18:32:30.861Z"
   },
   {
    "duration": 17,
    "start_time": "2022-04-23T18:32:30.874Z"
   },
   {
    "duration": 8,
    "start_time": "2022-04-23T18:32:30.893Z"
   },
   {
    "duration": 7,
    "start_time": "2022-04-23T18:32:30.903Z"
   },
   {
    "duration": 19,
    "start_time": "2022-04-23T18:32:30.911Z"
   },
   {
    "duration": 10,
    "start_time": "2022-04-23T18:32:30.935Z"
   },
   {
    "duration": 21,
    "start_time": "2022-04-23T18:32:30.947Z"
   },
   {
    "duration": 23,
    "start_time": "2022-04-23T18:32:30.969Z"
   },
   {
    "duration": 20,
    "start_time": "2022-04-23T18:32:30.994Z"
   },
   {
    "duration": 16,
    "start_time": "2022-04-23T18:32:31.015Z"
   },
   {
    "duration": 328,
    "start_time": "2022-04-23T18:32:31.032Z"
   },
   {
    "duration": 7,
    "start_time": "2022-04-23T18:32:31.362Z"
   },
   {
    "duration": 17,
    "start_time": "2022-04-23T18:32:31.372Z"
   },
   {
    "duration": 16,
    "start_time": "2022-04-23T18:32:31.390Z"
   },
   {
    "duration": 15,
    "start_time": "2022-04-23T18:32:31.408Z"
   },
   {
    "duration": 13,
    "start_time": "2022-04-23T18:32:31.427Z"
   },
   {
    "duration": 14,
    "start_time": "2022-04-23T18:32:31.442Z"
   },
   {
    "duration": 8,
    "start_time": "2022-04-23T18:32:31.458Z"
   },
   {
    "duration": 9,
    "start_time": "2022-04-23T18:32:31.468Z"
   },
   {
    "duration": 7,
    "start_time": "2022-04-23T18:32:31.479Z"
   },
   {
    "duration": 15,
    "start_time": "2022-04-23T18:32:31.490Z"
   },
   {
    "duration": 38,
    "start_time": "2022-04-23T18:32:31.507Z"
   },
   {
    "duration": 16,
    "start_time": "2022-04-23T18:32:31.546Z"
   },
   {
    "duration": 17,
    "start_time": "2022-04-23T18:32:31.564Z"
   },
   {
    "duration": 1266,
    "start_time": "2022-04-23T18:32:31.583Z"
   },
   {
    "duration": 8,
    "start_time": "2022-04-23T18:32:32.851Z"
   },
   {
    "duration": 4,
    "start_time": "2022-04-23T18:32:32.861Z"
   },
   {
    "duration": 18,
    "start_time": "2022-04-23T18:32:32.866Z"
   },
   {
    "duration": 15,
    "start_time": "2022-04-23T18:32:32.885Z"
   },
   {
    "duration": 61,
    "start_time": "2022-04-23T18:32:32.901Z"
   },
   {
    "duration": 2,
    "start_time": "2022-04-23T18:32:32.964Z"
   },
   {
    "duration": 386,
    "start_time": "2022-04-23T18:32:32.968Z"
   },
   {
    "duration": 124,
    "start_time": "2022-04-23T18:32:33.356Z"
   },
   {
    "duration": 7,
    "start_time": "2022-04-23T18:32:33.481Z"
   },
   {
    "duration": 151,
    "start_time": "2022-04-23T18:32:33.490Z"
   },
   {
    "duration": 26,
    "start_time": "2022-04-23T18:32:33.642Z"
   },
   {
    "duration": 147,
    "start_time": "2022-04-23T18:32:33.670Z"
   },
   {
    "duration": 11,
    "start_time": "2022-04-23T18:32:33.818Z"
   },
   {
    "duration": 48,
    "start_time": "2022-04-23T18:32:33.831Z"
   },
   {
    "duration": 20,
    "start_time": "2022-04-23T18:32:33.881Z"
   },
   {
    "duration": 275,
    "start_time": "2022-04-23T18:32:33.903Z"
   },
   {
    "duration": 5,
    "start_time": "2022-04-23T18:32:34.180Z"
   },
   {
    "duration": 59,
    "start_time": "2022-04-23T18:32:34.187Z"
   },
   {
    "duration": 263,
    "start_time": "2022-04-23T18:32:34.249Z"
   },
   {
    "duration": 40,
    "start_time": "2022-04-23T18:32:34.513Z"
   },
   {
    "duration": 268,
    "start_time": "2022-04-23T18:32:34.555Z"
   },
   {
    "duration": 30,
    "start_time": "2022-04-23T18:32:34.826Z"
   },
   {
    "duration": 244,
    "start_time": "2022-04-23T18:32:34.858Z"
   },
   {
    "duration": 7,
    "start_time": "2022-04-23T18:32:35.104Z"
   },
   {
    "duration": 33,
    "start_time": "2022-04-23T18:32:35.112Z"
   },
   {
    "duration": 128,
    "start_time": "2022-04-23T18:35:09.199Z"
   },
   {
    "duration": 236,
    "start_time": "2022-04-23T18:38:58.459Z"
   },
   {
    "duration": 612,
    "start_time": "2022-04-23T18:39:18.120Z"
   },
   {
    "duration": 1243,
    "start_time": "2022-04-23T18:40:50.566Z"
   },
   {
    "duration": 57,
    "start_time": "2022-04-23T18:40:51.812Z"
   },
   {
    "duration": 5,
    "start_time": "2022-04-23T18:40:51.871Z"
   },
   {
    "duration": 16,
    "start_time": "2022-04-23T18:40:51.879Z"
   },
   {
    "duration": 3,
    "start_time": "2022-04-23T18:40:51.898Z"
   },
   {
    "duration": 16,
    "start_time": "2022-04-23T18:40:51.924Z"
   },
   {
    "duration": 25,
    "start_time": "2022-04-23T18:40:51.942Z"
   },
   {
    "duration": 9,
    "start_time": "2022-04-23T18:40:51.969Z"
   },
   {
    "duration": 19,
    "start_time": "2022-04-23T18:40:51.980Z"
   },
   {
    "duration": 3,
    "start_time": "2022-04-23T18:40:52.001Z"
   },
   {
    "duration": 21,
    "start_time": "2022-04-23T18:40:52.006Z"
   },
   {
    "duration": 17,
    "start_time": "2022-04-23T18:40:52.028Z"
   },
   {
    "duration": 10,
    "start_time": "2022-04-23T18:40:52.050Z"
   },
   {
    "duration": 12,
    "start_time": "2022-04-23T18:40:52.063Z"
   },
   {
    "duration": 9,
    "start_time": "2022-04-23T18:40:52.076Z"
   },
   {
    "duration": 9,
    "start_time": "2022-04-23T18:40:52.086Z"
   },
   {
    "duration": 38,
    "start_time": "2022-04-23T18:40:52.097Z"
   },
   {
    "duration": 379,
    "start_time": "2022-04-23T18:40:52.138Z"
   },
   {
    "duration": 6,
    "start_time": "2022-04-23T18:40:52.526Z"
   },
   {
    "duration": 22,
    "start_time": "2022-04-23T18:40:52.534Z"
   },
   {
    "duration": 10,
    "start_time": "2022-04-23T18:40:52.557Z"
   },
   {
    "duration": 10,
    "start_time": "2022-04-23T18:40:52.569Z"
   },
   {
    "duration": 14,
    "start_time": "2022-04-23T18:40:52.581Z"
   },
   {
    "duration": 12,
    "start_time": "2022-04-23T18:40:52.597Z"
   },
   {
    "duration": 19,
    "start_time": "2022-04-23T18:40:52.611Z"
   },
   {
    "duration": 25,
    "start_time": "2022-04-23T18:40:52.631Z"
   },
   {
    "duration": 5,
    "start_time": "2022-04-23T18:40:52.659Z"
   },
   {
    "duration": 26,
    "start_time": "2022-04-23T18:40:52.666Z"
   },
   {
    "duration": 30,
    "start_time": "2022-04-23T18:40:52.694Z"
   },
   {
    "duration": 19,
    "start_time": "2022-04-23T18:40:52.726Z"
   },
   {
    "duration": 19,
    "start_time": "2022-04-23T18:40:52.747Z"
   },
   {
    "duration": 1604,
    "start_time": "2022-04-23T18:40:52.767Z"
   },
   {
    "duration": 8,
    "start_time": "2022-04-23T18:40:54.373Z"
   },
   {
    "duration": 15,
    "start_time": "2022-04-23T18:40:54.383Z"
   },
   {
    "duration": 37,
    "start_time": "2022-04-23T18:40:54.400Z"
   },
   {
    "duration": 22,
    "start_time": "2022-04-23T18:40:54.438Z"
   },
   {
    "duration": 33,
    "start_time": "2022-04-23T18:40:54.461Z"
   },
   {
    "duration": 4,
    "start_time": "2022-04-23T18:40:54.496Z"
   },
   {
    "duration": 494,
    "start_time": "2022-04-23T18:40:54.502Z"
   },
   {
    "duration": 764,
    "start_time": "2022-04-23T18:40:54.999Z"
   },
   {
    "duration": 0,
    "start_time": "2022-04-23T18:40:55.766Z"
   },
   {
    "duration": 0,
    "start_time": "2022-04-23T18:40:55.768Z"
   },
   {
    "duration": 0,
    "start_time": "2022-04-23T18:40:55.769Z"
   },
   {
    "duration": 0,
    "start_time": "2022-04-23T18:40:55.773Z"
   },
   {
    "duration": 0,
    "start_time": "2022-04-23T18:40:55.774Z"
   },
   {
    "duration": 0,
    "start_time": "2022-04-23T18:40:55.775Z"
   },
   {
    "duration": 0,
    "start_time": "2022-04-23T18:40:55.777Z"
   },
   {
    "duration": 0,
    "start_time": "2022-04-23T18:40:55.779Z"
   },
   {
    "duration": 0,
    "start_time": "2022-04-23T18:40:55.780Z"
   },
   {
    "duration": 0,
    "start_time": "2022-04-23T18:40:55.782Z"
   },
   {
    "duration": 0,
    "start_time": "2022-04-23T18:40:55.783Z"
   },
   {
    "duration": 0,
    "start_time": "2022-04-23T18:40:55.784Z"
   },
   {
    "duration": 0,
    "start_time": "2022-04-23T18:40:55.786Z"
   },
   {
    "duration": 0,
    "start_time": "2022-04-23T18:40:55.787Z"
   },
   {
    "duration": 0,
    "start_time": "2022-04-23T18:40:55.788Z"
   },
   {
    "duration": 0,
    "start_time": "2022-04-23T18:40:55.789Z"
   },
   {
    "duration": 0,
    "start_time": "2022-04-23T18:40:55.790Z"
   },
   {
    "duration": 0,
    "start_time": "2022-04-23T18:40:55.833Z"
   },
   {
    "duration": 306,
    "start_time": "2022-04-23T18:41:42.683Z"
   },
   {
    "duration": 113,
    "start_time": "2022-04-23T18:45:23.795Z"
   },
   {
    "duration": 8,
    "start_time": "2022-04-23T18:45:37.446Z"
   },
   {
    "duration": 140,
    "start_time": "2022-04-23T18:45:44.461Z"
   },
   {
    "duration": 24,
    "start_time": "2022-04-23T18:46:07.689Z"
   },
   {
    "duration": 138,
    "start_time": "2022-04-23T18:49:12.675Z"
   },
   {
    "duration": 209,
    "start_time": "2022-04-23T18:49:39.129Z"
   },
   {
    "duration": 7,
    "start_time": "2022-04-23T18:49:44.051Z"
   },
   {
    "duration": 27,
    "start_time": "2022-04-23T18:50:28.039Z"
   },
   {
    "duration": 13,
    "start_time": "2022-04-23T18:58:07.444Z"
   },
   {
    "duration": 164,
    "start_time": "2022-04-23T18:58:10.862Z"
   },
   {
    "duration": 5,
    "start_time": "2022-04-23T18:58:41.506Z"
   },
   {
    "duration": 33,
    "start_time": "2022-04-23T18:58:46.110Z"
   },
   {
    "duration": 249,
    "start_time": "2022-04-23T18:58:47.174Z"
   },
   {
    "duration": 34,
    "start_time": "2022-04-23T18:59:44.441Z"
   },
   {
    "duration": 360,
    "start_time": "2022-04-23T18:59:45.789Z"
   },
   {
    "duration": 32,
    "start_time": "2022-04-23T19:00:34.374Z"
   },
   {
    "duration": 380,
    "start_time": "2022-04-23T19:00:43.800Z"
   },
   {
    "duration": 8,
    "start_time": "2022-04-23T19:04:01.197Z"
   },
   {
    "duration": 14,
    "start_time": "2022-04-23T19:04:12.725Z"
   },
   {
    "duration": 1520,
    "start_time": "2022-04-23T19:21:51.343Z"
   },
   {
    "duration": 77,
    "start_time": "2022-04-23T19:21:52.865Z"
   },
   {
    "duration": 4,
    "start_time": "2022-04-23T19:21:52.943Z"
   },
   {
    "duration": 17,
    "start_time": "2022-04-23T19:21:52.949Z"
   },
   {
    "duration": 3,
    "start_time": "2022-04-23T19:21:52.968Z"
   },
   {
    "duration": 14,
    "start_time": "2022-04-23T19:21:52.972Z"
   },
   {
    "duration": 10,
    "start_time": "2022-04-23T19:21:52.987Z"
   },
   {
    "duration": 41,
    "start_time": "2022-04-23T19:21:52.999Z"
   },
   {
    "duration": 12,
    "start_time": "2022-04-23T19:21:53.043Z"
   },
   {
    "duration": 3,
    "start_time": "2022-04-23T19:21:53.057Z"
   },
   {
    "duration": 12,
    "start_time": "2022-04-23T19:21:53.062Z"
   },
   {
    "duration": 8,
    "start_time": "2022-04-23T19:21:53.076Z"
   },
   {
    "duration": 11,
    "start_time": "2022-04-23T19:21:53.086Z"
   },
   {
    "duration": 8,
    "start_time": "2022-04-23T19:21:53.119Z"
   },
   {
    "duration": 18,
    "start_time": "2022-04-23T19:21:53.129Z"
   },
   {
    "duration": 13,
    "start_time": "2022-04-23T19:21:53.149Z"
   },
   {
    "duration": 10,
    "start_time": "2022-04-23T19:21:53.164Z"
   },
   {
    "duration": 380,
    "start_time": "2022-04-23T19:21:53.175Z"
   },
   {
    "duration": 6,
    "start_time": "2022-04-23T19:21:53.556Z"
   },
   {
    "duration": 10,
    "start_time": "2022-04-23T19:21:53.564Z"
   },
   {
    "duration": 7,
    "start_time": "2022-04-23T19:21:53.576Z"
   },
   {
    "duration": 10,
    "start_time": "2022-04-23T19:21:53.585Z"
   },
   {
    "duration": 6,
    "start_time": "2022-04-23T19:21:53.597Z"
   },
   {
    "duration": 11,
    "start_time": "2022-04-23T19:21:53.626Z"
   },
   {
    "duration": 9,
    "start_time": "2022-04-23T19:21:53.639Z"
   },
   {
    "duration": 10,
    "start_time": "2022-04-23T19:21:53.649Z"
   },
   {
    "duration": 5,
    "start_time": "2022-04-23T19:21:53.661Z"
   },
   {
    "duration": 19,
    "start_time": "2022-04-23T19:21:53.667Z"
   },
   {
    "duration": 15,
    "start_time": "2022-04-23T19:21:53.687Z"
   },
   {
    "duration": 18,
    "start_time": "2022-04-23T19:21:53.730Z"
   },
   {
    "duration": 17,
    "start_time": "2022-04-23T19:21:53.749Z"
   },
   {
    "duration": 1489,
    "start_time": "2022-04-23T19:21:53.767Z"
   },
   {
    "duration": 7,
    "start_time": "2022-04-23T19:21:55.259Z"
   },
   {
    "duration": 9,
    "start_time": "2022-04-23T19:21:55.268Z"
   },
   {
    "duration": 21,
    "start_time": "2022-04-23T19:21:55.279Z"
   },
   {
    "duration": 33,
    "start_time": "2022-04-23T19:21:55.301Z"
   },
   {
    "duration": 29,
    "start_time": "2022-04-23T19:21:55.336Z"
   },
   {
    "duration": 5,
    "start_time": "2022-04-23T19:21:55.367Z"
   },
   {
    "duration": 429,
    "start_time": "2022-04-23T19:21:55.374Z"
   },
   {
    "duration": 620,
    "start_time": "2022-04-23T19:21:55.806Z"
   },
   {
    "duration": 134,
    "start_time": "2022-04-23T19:21:56.432Z"
   },
   {
    "duration": 910,
    "start_time": "2022-04-23T19:21:56.568Z"
   },
   {
    "duration": 145,
    "start_time": "2022-04-23T19:21:57.480Z"
   },
   {
    "duration": 30,
    "start_time": "2022-04-23T19:21:57.629Z"
   },
   {
    "duration": 294,
    "start_time": "2022-04-23T19:21:57.661Z"
   },
   {
    "duration": 425,
    "start_time": "2022-04-23T19:21:57.957Z"
   },
   {
    "duration": 204,
    "start_time": "2022-04-23T19:21:58.385Z"
   },
   {
    "duration": 13,
    "start_time": "2022-04-23T19:21:58.591Z"
   },
   {
    "duration": 163,
    "start_time": "2022-04-23T19:21:58.606Z"
   },
   {
    "duration": 4,
    "start_time": "2022-04-23T19:21:58.771Z"
   },
   {
    "duration": 35,
    "start_time": "2022-04-23T19:21:58.777Z"
   },
   {
    "duration": 421,
    "start_time": "2022-04-23T19:21:58.814Z"
   },
   {
    "duration": 48,
    "start_time": "2022-04-23T19:21:59.238Z"
   },
   {
    "duration": 429,
    "start_time": "2022-04-23T19:21:59.288Z"
   },
   {
    "duration": 38,
    "start_time": "2022-04-23T19:21:59.724Z"
   },
   {
    "duration": 340,
    "start_time": "2022-04-23T19:21:59.764Z"
   },
   {
    "duration": 9,
    "start_time": "2022-04-23T19:22:00.106Z"
   },
   {
    "duration": 24,
    "start_time": "2022-04-23T19:22:00.126Z"
   },
   {
    "duration": 1241,
    "start_time": "2022-04-24T09:58:34.186Z"
   },
   {
    "duration": 58,
    "start_time": "2022-04-24T09:58:35.429Z"
   },
   {
    "duration": 4,
    "start_time": "2022-04-24T09:58:35.488Z"
   },
   {
    "duration": 20,
    "start_time": "2022-04-24T09:58:35.494Z"
   },
   {
    "duration": 7,
    "start_time": "2022-04-24T09:58:35.517Z"
   },
   {
    "duration": 16,
    "start_time": "2022-04-24T09:58:35.526Z"
   },
   {
    "duration": 8,
    "start_time": "2022-04-24T09:58:35.543Z"
   },
   {
    "duration": 6,
    "start_time": "2022-04-24T09:58:35.553Z"
   },
   {
    "duration": 10,
    "start_time": "2022-04-24T09:58:35.561Z"
   },
   {
    "duration": 4,
    "start_time": "2022-04-24T09:58:35.573Z"
   },
   {
    "duration": 8,
    "start_time": "2022-04-24T09:58:35.578Z"
   },
   {
    "duration": 35,
    "start_time": "2022-04-24T09:58:35.588Z"
   },
   {
    "duration": 8,
    "start_time": "2022-04-24T09:58:35.625Z"
   },
   {
    "duration": 9,
    "start_time": "2022-04-24T09:58:35.637Z"
   },
   {
    "duration": 7,
    "start_time": "2022-04-24T09:58:35.647Z"
   },
   {
    "duration": 11,
    "start_time": "2022-04-24T09:58:35.656Z"
   },
   {
    "duration": 8,
    "start_time": "2022-04-24T09:58:35.668Z"
   },
   {
    "duration": 323,
    "start_time": "2022-04-24T09:58:35.677Z"
   },
   {
    "duration": 7,
    "start_time": "2022-04-24T09:58:36.002Z"
   },
   {
    "duration": 11,
    "start_time": "2022-04-24T09:58:36.024Z"
   },
   {
    "duration": 10,
    "start_time": "2022-04-24T09:58:36.037Z"
   },
   {
    "duration": 7,
    "start_time": "2022-04-24T09:58:36.049Z"
   },
   {
    "duration": 7,
    "start_time": "2022-04-24T09:58:36.058Z"
   },
   {
    "duration": 10,
    "start_time": "2022-04-24T09:58:36.067Z"
   },
   {
    "duration": 8,
    "start_time": "2022-04-24T09:58:36.079Z"
   },
   {
    "duration": 44,
    "start_time": "2022-04-24T09:58:36.089Z"
   },
   {
    "duration": 5,
    "start_time": "2022-04-24T09:58:36.136Z"
   },
   {
    "duration": 22,
    "start_time": "2022-04-24T09:58:36.143Z"
   },
   {
    "duration": 13,
    "start_time": "2022-04-24T09:58:36.167Z"
   },
   {
    "duration": 42,
    "start_time": "2022-04-24T09:58:36.182Z"
   },
   {
    "duration": 17,
    "start_time": "2022-04-24T09:58:36.225Z"
   },
   {
    "duration": 1313,
    "start_time": "2022-04-24T09:58:36.244Z"
   },
   {
    "duration": 7,
    "start_time": "2022-04-24T09:58:37.559Z"
   },
   {
    "duration": 6,
    "start_time": "2022-04-24T09:58:37.568Z"
   },
   {
    "duration": 18,
    "start_time": "2022-04-24T09:58:37.576Z"
   },
   {
    "duration": 32,
    "start_time": "2022-04-24T09:58:37.595Z"
   },
   {
    "duration": 25,
    "start_time": "2022-04-24T09:58:37.629Z"
   },
   {
    "duration": 3,
    "start_time": "2022-04-24T09:58:37.656Z"
   },
   {
    "duration": 405,
    "start_time": "2022-04-24T09:58:37.661Z"
   },
   {
    "duration": 382,
    "start_time": "2022-04-24T09:58:38.068Z"
   },
   {
    "duration": 139,
    "start_time": "2022-04-24T09:58:38.454Z"
   },
   {
    "duration": 9,
    "start_time": "2022-04-24T09:58:38.595Z"
   },
   {
    "duration": 170,
    "start_time": "2022-04-24T09:58:38.606Z"
   },
   {
    "duration": 28,
    "start_time": "2022-04-24T09:58:38.777Z"
   },
   {
    "duration": 175,
    "start_time": "2022-04-24T09:58:38.823Z"
   },
   {
    "duration": 9,
    "start_time": "2022-04-24T09:58:39.000Z"
   },
   {
    "duration": 35,
    "start_time": "2022-04-24T09:58:39.011Z"
   },
   {
    "duration": 15,
    "start_time": "2022-04-24T09:58:39.047Z"
   },
   {
    "duration": 287,
    "start_time": "2022-04-24T09:58:39.063Z"
   },
   {
    "duration": 6,
    "start_time": "2022-04-24T09:58:39.352Z"
   },
   {
    "duration": 46,
    "start_time": "2022-04-24T09:58:39.360Z"
   },
   {
    "duration": 408,
    "start_time": "2022-04-24T09:58:39.408Z"
   },
   {
    "duration": 33,
    "start_time": "2022-04-24T09:58:39.822Z"
   },
   {
    "duration": 423,
    "start_time": "2022-04-24T09:58:39.856Z"
   },
   {
    "duration": 52,
    "start_time": "2022-04-24T09:58:40.280Z"
   },
   {
    "duration": 252,
    "start_time": "2022-04-24T09:58:40.334Z"
   },
   {
    "duration": 9,
    "start_time": "2022-04-24T09:58:40.587Z"
   },
   {
    "duration": 30,
    "start_time": "2022-04-24T09:58:40.599Z"
   },
   {
    "duration": 321,
    "start_time": "2022-04-24T09:59:19.468Z"
   },
   {
    "duration": 355,
    "start_time": "2022-04-24T09:59:36.700Z"
   },
   {
    "duration": 301,
    "start_time": "2022-04-24T09:59:42.572Z"
   },
   {
    "duration": 244,
    "start_time": "2022-04-24T10:00:25.766Z"
   },
   {
    "duration": 201,
    "start_time": "2022-04-24T10:04:13.287Z"
   },
   {
    "duration": 28,
    "start_time": "2022-04-24T10:09:44.811Z"
   },
   {
    "duration": 207,
    "start_time": "2022-04-24T10:12:33.064Z"
   },
   {
    "duration": 1167,
    "start_time": "2022-04-24T10:13:54.168Z"
   },
   {
    "duration": 58,
    "start_time": "2022-04-24T10:13:55.337Z"
   },
   {
    "duration": 4,
    "start_time": "2022-04-24T10:13:55.396Z"
   },
   {
    "duration": 22,
    "start_time": "2022-04-24T10:13:55.401Z"
   },
   {
    "duration": 3,
    "start_time": "2022-04-24T10:13:55.425Z"
   },
   {
    "duration": 15,
    "start_time": "2022-04-24T10:13:55.429Z"
   },
   {
    "duration": 6,
    "start_time": "2022-04-24T10:13:55.446Z"
   },
   {
    "duration": 6,
    "start_time": "2022-04-24T10:13:55.454Z"
   },
   {
    "duration": 13,
    "start_time": "2022-04-24T10:13:55.462Z"
   },
   {
    "duration": 4,
    "start_time": "2022-04-24T10:13:55.476Z"
   },
   {
    "duration": 10,
    "start_time": "2022-04-24T10:13:55.481Z"
   },
   {
    "duration": 36,
    "start_time": "2022-04-24T10:13:55.492Z"
   },
   {
    "duration": 10,
    "start_time": "2022-04-24T10:13:55.530Z"
   },
   {
    "duration": 9,
    "start_time": "2022-04-24T10:13:55.544Z"
   },
   {
    "duration": 11,
    "start_time": "2022-04-24T10:13:55.554Z"
   },
   {
    "duration": 9,
    "start_time": "2022-04-24T10:13:55.567Z"
   },
   {
    "duration": 9,
    "start_time": "2022-04-24T10:13:55.578Z"
   },
   {
    "duration": 304,
    "start_time": "2022-04-24T10:13:55.622Z"
   },
   {
    "duration": 5,
    "start_time": "2022-04-24T10:13:55.927Z"
   },
   {
    "duration": 10,
    "start_time": "2022-04-24T10:13:55.934Z"
   },
   {
    "duration": 6,
    "start_time": "2022-04-24T10:13:55.946Z"
   },
   {
    "duration": 4,
    "start_time": "2022-04-24T10:13:55.954Z"
   },
   {
    "duration": 6,
    "start_time": "2022-04-24T10:13:55.960Z"
   },
   {
    "duration": 7,
    "start_time": "2022-04-24T10:13:55.967Z"
   },
   {
    "duration": 10,
    "start_time": "2022-04-24T10:13:55.975Z"
   },
   {
    "duration": 10,
    "start_time": "2022-04-24T10:13:56.022Z"
   },
   {
    "duration": 4,
    "start_time": "2022-04-24T10:13:56.034Z"
   },
   {
    "duration": 19,
    "start_time": "2022-04-24T10:13:56.039Z"
   },
   {
    "duration": 13,
    "start_time": "2022-04-24T10:13:56.060Z"
   },
   {
    "duration": 53,
    "start_time": "2022-04-24T10:13:56.075Z"
   },
   {
    "duration": 16,
    "start_time": "2022-04-24T10:13:56.129Z"
   },
   {
    "duration": 1319,
    "start_time": "2022-04-24T10:13:56.147Z"
   },
   {
    "duration": 6,
    "start_time": "2022-04-24T10:13:57.468Z"
   },
   {
    "duration": 6,
    "start_time": "2022-04-24T10:13:57.476Z"
   },
   {
    "duration": 14,
    "start_time": "2022-04-24T10:13:57.484Z"
   },
   {
    "duration": 37,
    "start_time": "2022-04-24T10:13:57.500Z"
   },
   {
    "duration": 26,
    "start_time": "2022-04-24T10:13:57.538Z"
   },
   {
    "duration": 3,
    "start_time": "2022-04-24T10:13:57.566Z"
   },
   {
    "duration": 409,
    "start_time": "2022-04-24T10:13:57.570Z"
   },
   {
    "duration": 305,
    "start_time": "2022-04-24T10:13:57.981Z"
   },
   {
    "duration": 135,
    "start_time": "2022-04-24T10:13:58.289Z"
   },
   {
    "duration": 7,
    "start_time": "2022-04-24T10:13:58.426Z"
   },
   {
    "duration": 157,
    "start_time": "2022-04-24T10:13:58.435Z"
   },
   {
    "duration": 38,
    "start_time": "2022-04-24T10:13:58.594Z"
   },
   {
    "duration": 136,
    "start_time": "2022-04-24T10:13:58.634Z"
   },
   {
    "duration": 8,
    "start_time": "2022-04-24T10:13:58.772Z"
   },
   {
    "duration": 42,
    "start_time": "2022-04-24T10:13:58.781Z"
   },
   {
    "duration": 15,
    "start_time": "2022-04-24T10:13:58.825Z"
   },
   {
    "duration": 175,
    "start_time": "2022-04-24T10:13:58.841Z"
   },
   {
    "duration": 4,
    "start_time": "2022-04-24T10:13:59.022Z"
   },
   {
    "duration": 34,
    "start_time": "2022-04-24T10:13:59.027Z"
   },
   {
    "duration": 274,
    "start_time": "2022-04-24T10:13:59.062Z"
   },
   {
    "duration": 31,
    "start_time": "2022-04-24T10:13:59.338Z"
   },
   {
    "duration": 437,
    "start_time": "2022-04-24T10:13:59.370Z"
   },
   {
    "duration": 57,
    "start_time": "2022-04-24T10:13:59.810Z"
   },
   {
    "duration": 516,
    "start_time": "2022-04-24T10:13:59.869Z"
   },
   {
    "duration": 12,
    "start_time": "2022-04-24T10:14:00.387Z"
   },
   {
    "duration": 30,
    "start_time": "2022-04-24T10:14:00.401Z"
   }
  ],
  "kernelspec": {
   "display_name": "Python 3 (ipykernel)",
   "language": "python",
   "name": "python3"
  },
  "language_info": {
   "codemirror_mode": {
    "name": "ipython",
    "version": 3
   },
   "file_extension": ".py",
   "mimetype": "text/x-python",
   "name": "python",
   "nbconvert_exporter": "python",
   "pygments_lexer": "ipython3",
   "version": "3.9.5"
  },
  "toc": {
   "base_numbering": 1,
   "nav_menu": {
    "height": "169px",
    "width": "160px"
   },
   "number_sections": true,
   "sideBar": true,
   "skip_h1_title": true,
   "title_cell": "Table of Contents",
   "title_sidebar": "Contents",
   "toc_cell": true,
   "toc_position": {
    "height": "calc(100% - 180px)",
    "left": "10px",
    "top": "150px",
    "width": "303.828px"
   },
   "toc_section_display": true,
   "toc_window_display": true
  }
 },
 "nbformat": 4,
 "nbformat_minor": 5
}
