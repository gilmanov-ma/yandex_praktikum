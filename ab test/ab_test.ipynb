{
 "cells": [
  {
   "cell_type": "markdown",
   "metadata": {
    "toc": true
   },
   "source": [
    "<h1>Table of Contents<span class=\"tocSkip\"></span></h1>\n",
    "<div class=\"toc\"><ul class=\"toc-item\"><li><span><a href=\"#A/B-тест-гипотезы\" data-toc-modified-id=\"A/B-тест-гипотезы-1\">A/B тест гипотезы</a></span><ul class=\"toc-item\"><li><span><a href=\"#Приоритизация-гипотез\" data-toc-modified-id=\"Приоритизация-гипотез-1.1\">Приоритизация гипотез</a></span><ul class=\"toc-item\"><li><span><a href=\"#Фреймворк-ICE-для-приоритизации-гипотез\" data-toc-modified-id=\"Фреймворк-ICE-для-приоритизации-гипотез-1.1.1\">Фреймворк ICE для приоритизации гипотез</a></span></li><li><span><a href=\"#Фреймворк-RICE-для-приоритизации-гипотез\" data-toc-modified-id=\"Фреймворк-RICE-для-приоритизации-гипотез-1.1.2\">Фреймворк RICE для приоритизации гипотез</a></span></li></ul></li><li><span><a href=\"#Предобработка-данных\" data-toc-modified-id=\"Предобработка-данных-1.2\">Предобработка данных</a></span><ul class=\"toc-item\"><li><span><a href=\"#Таблица-'orders'\" data-toc-modified-id=\"Таблица-'orders'-1.2.1\">Таблица 'orders'</a></span></li><li><span><a href=\"#Таблица-'visitors'\" data-toc-modified-id=\"Таблица-'visitors'-1.2.2\">Таблица 'visitors'</a></span></li><li><span><a href=\"#Подготовка-общей-таблицы\" data-toc-modified-id=\"Подготовка-общей-таблицы-1.2.3\">Подготовка общей таблицы</a></span></li></ul></li><li><span><a href=\"#Анализ-A/B-теста\" data-toc-modified-id=\"Анализ-A/B-теста-1.3\">Анализ A/B-теста</a></span><ul class=\"toc-item\"><li><span><a href=\"#График-кумулятивной-выручки-по-группам\" data-toc-modified-id=\"График-кумулятивной-выручки-по-группам-1.3.1\">График кумулятивной выручки по группам</a></span></li><li><span><a href=\"#График-кумулятивного-среднего-чека-по-группам\" data-toc-modified-id=\"График-кумулятивного-среднего-чека-по-группам-1.3.2\">График кумулятивного среднего чека по группам</a></span></li><li><span><a href=\"#График-относительного-изменения-кумулятивного-среднего-чека-группы-B-к-группе-A\" data-toc-modified-id=\"График-относительного-изменения-кумулятивного-среднего-чека-группы-B-к-группе-A-1.3.3\">График относительного изменения кумулятивного среднего чека группы B к группе A</a></span></li><li><span><a href=\"#График-кумулятивной-конверсии-по-группам.\" data-toc-modified-id=\"График-кумулятивной-конверсии-по-группам.-1.3.4\">График кумулятивной конверсии по группам.</a></span></li><li><span><a href=\"#График-относительного-изменения-кумулятивной-конверсии-группы-B-к-группе-A.\" data-toc-modified-id=\"График-относительного-изменения-кумулятивной-конверсии-группы-B-к-группе-A.-1.3.5\">График относительного изменения кумулятивной конверсии группы B к группе A.</a></span></li><li><span><a href=\"#Точечный-график-количества-заказов-по-пользователям\" data-toc-modified-id=\"Точечный-график-количества-заказов-по-пользователям-1.3.6\">Точечный график количества заказов по пользователям</a></span></li><li><span><a href=\"#Точечный-график-стоимостей-заказов\" data-toc-modified-id=\"Точечный-график-стоимостей-заказов-1.3.7\">Точечный график стоимостей заказов</a></span></li></ul></li><li><span><a href=\"#Проверка-гипотез\" data-toc-modified-id=\"Проверка-гипотез-1.4\">Проверка гипотез</a></span><ul class=\"toc-item\"><li><span><a href=\"#Гипотеза-о-различии-в-конверсии-между-группами-по-«сырым»-данным\" data-toc-modified-id=\"Гипотеза-о-различии-в-конверсии-между-группами-по-«сырым»-данным-1.4.1\">Гипотеза о различии в конверсии между группами по «сырым» данным</a></span></li><li><span><a href=\"#Гипотеза-о-различии-в-среднем-чеке-между-группами-по-«сырым»-данным\" data-toc-modified-id=\"Гипотеза-о-различии-в-среднем-чеке-между-группами-по-«сырым»-данным-1.4.2\">Гипотеза о различии в среднем чеке между группами по «сырым» данным</a></span></li><li><span>-1.4.3\"></span></li><li><span><a href=\"#Гипотеза-о-равенстве-конверсии-между-группами-без-выбросов\" data-toc-modified-id=\"Гипотеза-о-равенстве-конверсии-между-группами-без-выбросов-1.4.4\">Гипотеза о равенстве конверсии между группами без выбросов</a></span></li><li><span><a href=\"#Гипотеза-о-различии-в-среднем-чеке-между-группами-по-очищенным-данным\" data-toc-modified-id=\"Гипотеза-о-различии-в-среднем-чеке-между-группами-по-очищенным-данным-1.4.5\">Гипотеза о различии в среднем чеке между группами по очищенным данным</a></span></li></ul></li><li><span><a href=\"#Общий-вывод\" data-toc-modified-id=\"Общий-вывод-1.5\">Общий вывод</a></span></li></ul></li></ul></div>"
   ]
  },
  {
   "cell_type": "markdown",
   "metadata": {},
   "source": [
    "# A/B тест гипотезы"
   ]
  },
  {
   "cell_type": "markdown",
   "metadata": {},
   "source": [
    "**Описание исследования:** Совместно с отделом маркетинга подготовлен список гипотез для увеличения выручки.\n",
    "Необходимо приоритизировать гипотезы, запустить A/B-тест и проанализировать результаты.\n",
    "\n",
    "**План исследования:**\n",
    "<br>\n",
    "1) Изучим предложенные для тестирования гипотезы и выберем приоритетную;\n",
    "<br>\n",
    "2) Изучим данные, полученные после А/В теста;\n",
    "<br>\n",
    "3) Проверим гипотезы о равенстве среднего чека и конверсии и сделаем выводы."
   ]
  },
  {
   "cell_type": "code",
   "execution_count": 1,
   "metadata": {},
   "outputs": [],
   "source": [
    "import pandas as pd\n",
    "import matplotlib.pyplot as plt\n",
    "import numpy as np\n",
    "import scipy.stats as stats"
   ]
  },
  {
   "cell_type": "markdown",
   "metadata": {},
   "source": [
    "## Приоритизация гипотез"
   ]
  },
  {
   "cell_type": "markdown",
   "metadata": {},
   "source": [
    "Загрузим файл с гипотезами по увеличению выручки интернет-магазина с параметрами Reach, Impact, Confidence, Effort."
   ]
  },
  {
   "cell_type": "code",
   "execution_count": 2,
   "metadata": {},
   "outputs": [
    {
     "data": {
      "text/html": [
       "<div>\n",
       "<style scoped>\n",
       "    .dataframe tbody tr th:only-of-type {\n",
       "        vertical-align: middle;\n",
       "    }\n",
       "\n",
       "    .dataframe tbody tr th {\n",
       "        vertical-align: top;\n",
       "    }\n",
       "\n",
       "    .dataframe thead th {\n",
       "        text-align: right;\n",
       "    }\n",
       "</style>\n",
       "<table border=\"1\" class=\"dataframe\">\n",
       "  <thead>\n",
       "    <tr style=\"text-align: right;\">\n",
       "      <th></th>\n",
       "      <th>Hypothesis</th>\n",
       "      <th>Reach</th>\n",
       "      <th>Impact</th>\n",
       "      <th>Confidence</th>\n",
       "      <th>Efforts</th>\n",
       "    </tr>\n",
       "  </thead>\n",
       "  <tbody>\n",
       "    <tr>\n",
       "      <th>0</th>\n",
       "      <td>Добавить два новых канала привлечения трафика, что позволит привлекать на 30% больше пользователей</td>\n",
       "      <td>3</td>\n",
       "      <td>10</td>\n",
       "      <td>8</td>\n",
       "      <td>6</td>\n",
       "    </tr>\n",
       "    <tr>\n",
       "      <th>1</th>\n",
       "      <td>Запустить собственную службу доставки, что сократит срок доставки заказов</td>\n",
       "      <td>2</td>\n",
       "      <td>5</td>\n",
       "      <td>4</td>\n",
       "      <td>10</td>\n",
       "    </tr>\n",
       "    <tr>\n",
       "      <th>2</th>\n",
       "      <td>Добавить блоки рекомендаций товаров на сайт интернет магазина, чтобы повысить конверсию и средний чек заказа</td>\n",
       "      <td>8</td>\n",
       "      <td>3</td>\n",
       "      <td>7</td>\n",
       "      <td>3</td>\n",
       "    </tr>\n",
       "    <tr>\n",
       "      <th>3</th>\n",
       "      <td>Изменить структура категорий, что увеличит конверсию, т.к. пользователи быстрее найдут нужный товар</td>\n",
       "      <td>8</td>\n",
       "      <td>3</td>\n",
       "      <td>3</td>\n",
       "      <td>8</td>\n",
       "    </tr>\n",
       "    <tr>\n",
       "      <th>4</th>\n",
       "      <td>Изменить цвет фона главной страницы, чтобы увеличить вовлеченность пользователей</td>\n",
       "      <td>3</td>\n",
       "      <td>1</td>\n",
       "      <td>1</td>\n",
       "      <td>1</td>\n",
       "    </tr>\n",
       "    <tr>\n",
       "      <th>5</th>\n",
       "      <td>Добавить страницу отзывов клиентов о магазине, что позволит увеличить количество заказов</td>\n",
       "      <td>3</td>\n",
       "      <td>2</td>\n",
       "      <td>2</td>\n",
       "      <td>3</td>\n",
       "    </tr>\n",
       "    <tr>\n",
       "      <th>6</th>\n",
       "      <td>Показать на главной странице баннеры с актуальными акциями и распродажами, чтобы увеличить конверсию</td>\n",
       "      <td>5</td>\n",
       "      <td>3</td>\n",
       "      <td>8</td>\n",
       "      <td>3</td>\n",
       "    </tr>\n",
       "    <tr>\n",
       "      <th>7</th>\n",
       "      <td>Добавить форму подписки на все основные страницы, чтобы собрать базу клиентов для email-рассылок</td>\n",
       "      <td>10</td>\n",
       "      <td>7</td>\n",
       "      <td>8</td>\n",
       "      <td>5</td>\n",
       "    </tr>\n",
       "    <tr>\n",
       "      <th>8</th>\n",
       "      <td>Запустить акцию, дающую скидку на товар в день рождения</td>\n",
       "      <td>1</td>\n",
       "      <td>9</td>\n",
       "      <td>9</td>\n",
       "      <td>5</td>\n",
       "    </tr>\n",
       "  </tbody>\n",
       "</table>\n",
       "</div>"
      ],
      "text/plain": [
       "                                                                                                     Hypothesis  \\\n",
       "0            Добавить два новых канала привлечения трафика, что позволит привлекать на 30% больше пользователей   \n",
       "1                                     Запустить собственную службу доставки, что сократит срок доставки заказов   \n",
       "2  Добавить блоки рекомендаций товаров на сайт интернет магазина, чтобы повысить конверсию и средний чек заказа   \n",
       "3           Изменить структура категорий, что увеличит конверсию, т.к. пользователи быстрее найдут нужный товар   \n",
       "4                              Изменить цвет фона главной страницы, чтобы увеличить вовлеченность пользователей   \n",
       "5                      Добавить страницу отзывов клиентов о магазине, что позволит увеличить количество заказов   \n",
       "6          Показать на главной странице баннеры с актуальными акциями и распродажами, чтобы увеличить конверсию   \n",
       "7              Добавить форму подписки на все основные страницы, чтобы собрать базу клиентов для email-рассылок   \n",
       "8                                                       Запустить акцию, дающую скидку на товар в день рождения   \n",
       "\n",
       "   Reach  Impact  Confidence  Efforts  \n",
       "0      3      10           8        6  \n",
       "1      2       5           4       10  \n",
       "2      8       3           7        3  \n",
       "3      8       3           3        8  \n",
       "4      3       1           1        1  \n",
       "5      3       2           2        3  \n",
       "6      5       3           8        3  \n",
       "7     10       7           8        5  \n",
       "8      1       9           9        5  "
      ]
     },
     "execution_count": 2,
     "metadata": {},
     "output_type": "execute_result"
    }
   ],
   "source": [
    "data = pd.read_csv('/datasets/hypothesis.csv')\n",
    "pd.options.display.max_colwidth = 120\n",
    "data"
   ]
  },
  {
   "cell_type": "markdown",
   "metadata": {},
   "source": [
    "### Фреймворк ICE для приоритизации гипотез"
   ]
  },
  {
   "cell_type": "markdown",
   "metadata": {},
   "source": [
    "Применим фреймворк RICE для приоритизации гипотез."
   ]
  },
  {
   "cell_type": "markdown",
   "metadata": {},
   "source": [
    "ICE score = (Impact * Confidence) / Efforts"
   ]
  },
  {
   "cell_type": "code",
   "execution_count": 3,
   "metadata": {},
   "outputs": [
    {
     "data": {
      "text/html": [
       "<div>\n",
       "<style scoped>\n",
       "    .dataframe tbody tr th:only-of-type {\n",
       "        vertical-align: middle;\n",
       "    }\n",
       "\n",
       "    .dataframe tbody tr th {\n",
       "        vertical-align: top;\n",
       "    }\n",
       "\n",
       "    .dataframe thead th {\n",
       "        text-align: right;\n",
       "    }\n",
       "</style>\n",
       "<table border=\"1\" class=\"dataframe\">\n",
       "  <thead>\n",
       "    <tr style=\"text-align: right;\">\n",
       "      <th></th>\n",
       "      <th>Hypothesis</th>\n",
       "      <th>ICE</th>\n",
       "    </tr>\n",
       "  </thead>\n",
       "  <tbody>\n",
       "    <tr>\n",
       "      <th>8</th>\n",
       "      <td>Запустить акцию, дающую скидку на товар в день рождения</td>\n",
       "      <td>16.2</td>\n",
       "    </tr>\n",
       "    <tr>\n",
       "      <th>0</th>\n",
       "      <td>Добавить два новых канала привлечения трафика, что позволит привлекать на 30% больше пользователей</td>\n",
       "      <td>13.3</td>\n",
       "    </tr>\n",
       "    <tr>\n",
       "      <th>7</th>\n",
       "      <td>Добавить форму подписки на все основные страницы, чтобы собрать базу клиентов для email-рассылок</td>\n",
       "      <td>11.2</td>\n",
       "    </tr>\n",
       "    <tr>\n",
       "      <th>6</th>\n",
       "      <td>Показать на главной странице баннеры с актуальными акциями и распродажами, чтобы увеличить конверсию</td>\n",
       "      <td>8.0</td>\n",
       "    </tr>\n",
       "    <tr>\n",
       "      <th>2</th>\n",
       "      <td>Добавить блоки рекомендаций товаров на сайт интернет магазина, чтобы повысить конверсию и средний чек заказа</td>\n",
       "      <td>7.0</td>\n",
       "    </tr>\n",
       "    <tr>\n",
       "      <th>1</th>\n",
       "      <td>Запустить собственную службу доставки, что сократит срок доставки заказов</td>\n",
       "      <td>2.0</td>\n",
       "    </tr>\n",
       "    <tr>\n",
       "      <th>5</th>\n",
       "      <td>Добавить страницу отзывов клиентов о магазине, что позволит увеличить количество заказов</td>\n",
       "      <td>1.3</td>\n",
       "    </tr>\n",
       "    <tr>\n",
       "      <th>3</th>\n",
       "      <td>Изменить структура категорий, что увеличит конверсию, т.к. пользователи быстрее найдут нужный товар</td>\n",
       "      <td>1.1</td>\n",
       "    </tr>\n",
       "    <tr>\n",
       "      <th>4</th>\n",
       "      <td>Изменить цвет фона главной страницы, чтобы увеличить вовлеченность пользователей</td>\n",
       "      <td>1.0</td>\n",
       "    </tr>\n",
       "  </tbody>\n",
       "</table>\n",
       "</div>"
      ],
      "text/plain": [
       "                                                                                                     Hypothesis  \\\n",
       "8                                                       Запустить акцию, дающую скидку на товар в день рождения   \n",
       "0            Добавить два новых канала привлечения трафика, что позволит привлекать на 30% больше пользователей   \n",
       "7              Добавить форму подписки на все основные страницы, чтобы собрать базу клиентов для email-рассылок   \n",
       "6          Показать на главной странице баннеры с актуальными акциями и распродажами, чтобы увеличить конверсию   \n",
       "2  Добавить блоки рекомендаций товаров на сайт интернет магазина, чтобы повысить конверсию и средний чек заказа   \n",
       "1                                     Запустить собственную службу доставки, что сократит срок доставки заказов   \n",
       "5                      Добавить страницу отзывов клиентов о магазине, что позволит увеличить количество заказов   \n",
       "3           Изменить структура категорий, что увеличит конверсию, т.к. пользователи быстрее найдут нужный товар   \n",
       "4                              Изменить цвет фона главной страницы, чтобы увеличить вовлеченность пользователей   \n",
       "\n",
       "    ICE  \n",
       "8  16.2  \n",
       "0  13.3  \n",
       "7  11.2  \n",
       "6   8.0  \n",
       "2   7.0  \n",
       "1   2.0  \n",
       "5   1.3  \n",
       "3   1.1  \n",
       "4   1.0  "
      ]
     },
     "execution_count": 3,
     "metadata": {},
     "output_type": "execute_result"
    }
   ],
   "source": [
    "data['ICE'] = data['Impact'] * data['Confidence'] / data['Efforts']\n",
    "pd.options.display.max_colwidth = 120\n",
    "data[['Hypothesis', 'ICE']].sort_values(by='ICE', ascending=False).round(1)"
   ]
  },
  {
   "cell_type": "markdown",
   "metadata": {},
   "source": [
    "**Вывод:** Если следовать фреймворку ICE, то самый высокий приоритет имеет гипотеза \"Запустить акцию, дающую скидку на товар в день рождения\""
   ]
  },
  {
   "cell_type": "markdown",
   "metadata": {},
   "source": [
    "### Фреймворк RICE для приоритизации гипотез"
   ]
  },
  {
   "cell_type": "markdown",
   "metadata": {},
   "source": [
    "RICE score = (Reach * Impact * Confidence) / Efforts"
   ]
  },
  {
   "cell_type": "code",
   "execution_count": 4,
   "metadata": {},
   "outputs": [
    {
     "data": {
      "text/html": [
       "<div>\n",
       "<style scoped>\n",
       "    .dataframe tbody tr th:only-of-type {\n",
       "        vertical-align: middle;\n",
       "    }\n",
       "\n",
       "    .dataframe tbody tr th {\n",
       "        vertical-align: top;\n",
       "    }\n",
       "\n",
       "    .dataframe thead th {\n",
       "        text-align: right;\n",
       "    }\n",
       "</style>\n",
       "<table border=\"1\" class=\"dataframe\">\n",
       "  <thead>\n",
       "    <tr style=\"text-align: right;\">\n",
       "      <th></th>\n",
       "      <th>Hypothesis</th>\n",
       "      <th>RICE</th>\n",
       "    </tr>\n",
       "  </thead>\n",
       "  <tbody>\n",
       "    <tr>\n",
       "      <th>7</th>\n",
       "      <td>Добавить форму подписки на все основные страницы, чтобы собрать базу клиентов для email-рассылок</td>\n",
       "      <td>112.0</td>\n",
       "    </tr>\n",
       "    <tr>\n",
       "      <th>2</th>\n",
       "      <td>Добавить блоки рекомендаций товаров на сайт интернет магазина, чтобы повысить конверсию и средний чек заказа</td>\n",
       "      <td>56.0</td>\n",
       "    </tr>\n",
       "    <tr>\n",
       "      <th>0</th>\n",
       "      <td>Добавить два новых канала привлечения трафика, что позволит привлекать на 30% больше пользователей</td>\n",
       "      <td>40.0</td>\n",
       "    </tr>\n",
       "    <tr>\n",
       "      <th>6</th>\n",
       "      <td>Показать на главной странице баннеры с актуальными акциями и распродажами, чтобы увеличить конверсию</td>\n",
       "      <td>40.0</td>\n",
       "    </tr>\n",
       "    <tr>\n",
       "      <th>8</th>\n",
       "      <td>Запустить акцию, дающую скидку на товар в день рождения</td>\n",
       "      <td>16.2</td>\n",
       "    </tr>\n",
       "    <tr>\n",
       "      <th>3</th>\n",
       "      <td>Изменить структура категорий, что увеличит конверсию, т.к. пользователи быстрее найдут нужный товар</td>\n",
       "      <td>9.0</td>\n",
       "    </tr>\n",
       "    <tr>\n",
       "      <th>1</th>\n",
       "      <td>Запустить собственную службу доставки, что сократит срок доставки заказов</td>\n",
       "      <td>4.0</td>\n",
       "    </tr>\n",
       "    <tr>\n",
       "      <th>5</th>\n",
       "      <td>Добавить страницу отзывов клиентов о магазине, что позволит увеличить количество заказов</td>\n",
       "      <td>4.0</td>\n",
       "    </tr>\n",
       "    <tr>\n",
       "      <th>4</th>\n",
       "      <td>Изменить цвет фона главной страницы, чтобы увеличить вовлеченность пользователей</td>\n",
       "      <td>3.0</td>\n",
       "    </tr>\n",
       "  </tbody>\n",
       "</table>\n",
       "</div>"
      ],
      "text/plain": [
       "                                                                                                     Hypothesis  \\\n",
       "7              Добавить форму подписки на все основные страницы, чтобы собрать базу клиентов для email-рассылок   \n",
       "2  Добавить блоки рекомендаций товаров на сайт интернет магазина, чтобы повысить конверсию и средний чек заказа   \n",
       "0            Добавить два новых канала привлечения трафика, что позволит привлекать на 30% больше пользователей   \n",
       "6          Показать на главной странице баннеры с актуальными акциями и распродажами, чтобы увеличить конверсию   \n",
       "8                                                       Запустить акцию, дающую скидку на товар в день рождения   \n",
       "3           Изменить структура категорий, что увеличит конверсию, т.к. пользователи быстрее найдут нужный товар   \n",
       "1                                     Запустить собственную службу доставки, что сократит срок доставки заказов   \n",
       "5                      Добавить страницу отзывов клиентов о магазине, что позволит увеличить количество заказов   \n",
       "4                              Изменить цвет фона главной страницы, чтобы увеличить вовлеченность пользователей   \n",
       "\n",
       "    RICE  \n",
       "7  112.0  \n",
       "2   56.0  \n",
       "0   40.0  \n",
       "6   40.0  \n",
       "8   16.2  \n",
       "3    9.0  \n",
       "1    4.0  \n",
       "5    4.0  \n",
       "4    3.0  "
      ]
     },
     "execution_count": 4,
     "metadata": {},
     "output_type": "execute_result"
    }
   ],
   "source": [
    "data['RICE'] = data['Reach'] * data['Impact'] * data['Confidence'] / data['Efforts']\n",
    "pd.options.display.max_colwidth = 120\n",
    "data[['Hypothesis', 'RICE']].sort_values(by='RICE', ascending=False).round(1)"
   ]
  },
  {
   "cell_type": "markdown",
   "metadata": {},
   "source": [
    "**Вывод:** Если следовать фреймворку RICE, то самый высокий приоритет имеет гипотеза \"Добавить форму подписки на все основные страницы, чтобы собрать базу клиентов для email-рассылок\""
   ]
  },
  {
   "cell_type": "markdown",
   "metadata": {},
   "source": [
    "Следуя разным фреймворкам, на выходе получили разные гипотезы. Во фреймворке ICE не учитывается параметр Reach (охват пользователей). Так как гипотеза \"Запустить акцию, дающую скидку на товар в день рождения\" распространяется только на небольшую часть пользователей, но при этом имеет высокие оценки параметров Impact (силы воздействия) и Confidence (уверенности в оценке остальных параметров), она заняла первое место в списке приоритетных гипотез. \n",
    "\n",
    "Однако параметр Reach также является важным, он показывает на какое количество пользователей распространяется нововведение. При учитывании этого параметра, гипотеза  \"Запустить акцию, дающую скидку на товар в день рождения\" занимает только четвертое место, а на первом находится гипотеза \"Добавить форму подписки на все основные страницы, чтобы собрать базу клиентов для email-рассылок\". Ею и займемся в первую очередь."
   ]
  },
  {
   "cell_type": "markdown",
   "metadata": {},
   "source": [
    "После проведения теста у нас есть два файла - первый с информацией о заказах, второй с данными о посещении пользователей.\n",
    "\n",
    "Загрузим данные и проведем предобработку."
   ]
  },
  {
   "cell_type": "markdown",
   "metadata": {},
   "source": [
    "## Предобработка данных"
   ]
  },
  {
   "cell_type": "markdown",
   "metadata": {},
   "source": [
    "### Таблица 'orders'"
   ]
  },
  {
   "cell_type": "markdown",
   "metadata": {},
   "source": [
    "Загрузим первую таблицу с заказами."
   ]
  },
  {
   "cell_type": "code",
   "execution_count": 5,
   "metadata": {},
   "outputs": [
    {
     "name": "stdout",
     "output_type": "stream",
     "text": [
      "<class 'pandas.core.frame.DataFrame'>\n",
      "RangeIndex: 1197 entries, 0 to 1196\n",
      "Data columns (total 5 columns):\n",
      " #   Column         Non-Null Count  Dtype \n",
      "---  ------         --------------  ----- \n",
      " 0   transactionId  1197 non-null   int64 \n",
      " 1   visitorId      1197 non-null   int64 \n",
      " 2   date           1197 non-null   object\n",
      " 3   revenue        1197 non-null   int64 \n",
      " 4   group          1197 non-null   object\n",
      "dtypes: int64(3), object(2)\n",
      "memory usage: 46.9+ KB\n"
     ]
    }
   ],
   "source": [
    "orders = pd.read_csv('/datasets/orders.csv')\n",
    "orders.info()"
   ]
  },
  {
   "cell_type": "markdown",
   "metadata": {},
   "source": [
    "Видимых проблем с данными нет. Переведем данные в столбце \"date\" в формат даты. "
   ]
  },
  {
   "cell_type": "code",
   "execution_count": 6,
   "metadata": {},
   "outputs": [],
   "source": [
    "orders['date'] = pd.to_datetime(orders['date'])"
   ]
  },
  {
   "cell_type": "markdown",
   "metadata": {},
   "source": [
    "Изменим названия столбцов 'transactionId' и 'visitorId'"
   ]
  },
  {
   "cell_type": "code",
   "execution_count": 7,
   "metadata": {},
   "outputs": [],
   "source": [
    "orders.rename(columns={'transactionId': 'transaction_id', 'visitorId': 'visitor_id'}, inplace=True)"
   ]
  },
  {
   "cell_type": "markdown",
   "metadata": {},
   "source": [
    "Проверим данные в столбце revenue на корректность."
   ]
  },
  {
   "cell_type": "code",
   "execution_count": 8,
   "metadata": {},
   "outputs": [
    {
     "data": {
      "image/png": "[encoded data removed]",
      "text/plain": [
       "<Figure size 432x288 with 1 Axes>"
      ]
     },
     "metadata": {
      "needs_background": "light"
     },
     "output_type": "display_data"
    }
   ],
   "source": [
    "orders['revenue'].hist(bins=50)\n",
    "plt.title(\"Распределение сумм заказов\", fontsize=12)\n",
    "plt.xlabel(\"Сумма заказа\", fontsize=10)\n",
    "plt.ylabel(\"Количество заказов\", fontsize=10);"
   ]
  },
  {
   "cell_type": "markdown",
   "metadata": {},
   "source": [
    "Такая гистограмма не дает понятного представления о разбросе цен. "
   ]
  },
  {
   "cell_type": "code",
   "execution_count": 9,
   "metadata": {},
   "outputs": [
    {
     "data": {
      "text/plain": [
       "50"
      ]
     },
     "metadata": {},
     "output_type": "display_data"
    },
    {
     "data": {
      "text/plain": [
       "1294500"
      ]
     },
     "metadata": {},
     "output_type": "display_data"
    },
    {
     "data": {
      "text/plain": [
       "8348.005847953216"
      ]
     },
     "metadata": {},
     "output_type": "display_data"
    },
    {
     "data": {
      "text/plain": [
       "2978.0"
      ]
     },
     "metadata": {},
     "output_type": "display_data"
    }
   ],
   "source": [
    "display(orders['revenue'].min())\n",
    "display(orders['revenue'].max())\n",
    "display(orders['revenue'].mean())\n",
    "display(orders['revenue'].median())"
   ]
  },
  {
   "cell_type": "markdown",
   "metadata": {},
   "source": [
    "Очень широкий разброс сумм заказов от 50 руб. до 1 295 500 руб, медианное значение около 3000 руб."
   ]
  },
  {
   "cell_type": "code",
   "execution_count": 10,
   "metadata": {},
   "outputs": [
    {
     "data": {
      "image/png": "[encoded data removed]",
      "text/plain": [
       "<Figure size 432x288 with 1 Axes>"
      ]
     },
     "metadata": {
      "needs_background": "light"
     },
     "output_type": "display_data"
    }
   ],
   "source": [
    "orders[orders['revenue'] < 10000]['revenue'].hist(bins=30)\n",
    "plt.title(\"Распределение сумм заказов\", fontsize=12)\n",
    "plt.xlabel(\"Сумма заказа\", fontsize=10)\n",
    "plt.ylabel(\"Количество заказов\", fontsize=10);"
   ]
  },
  {
   "cell_type": "markdown",
   "metadata": {},
   "source": [
    "Выручка с одного заказа в основном до 2000 рублей."
   ]
  },
  {
   "cell_type": "code",
   "execution_count": 11,
   "metadata": {},
   "outputs": [
    {
     "data": {
      "text/plain": [
       "0    990\n",
       "dtype: int64"
      ]
     },
     "execution_count": 11,
     "metadata": {},
     "output_type": "execute_result"
    }
   ],
   "source": [
    "orders['revenue'].mode()"
   ]
  },
  {
   "cell_type": "markdown",
   "metadata": {},
   "source": [
    "А чаще всего клиенты делают заказы на 990 руб."
   ]
  },
  {
   "cell_type": "markdown",
   "metadata": {},
   "source": [
    "Проверим последний столбец на корректность заполнения."
   ]
  },
  {
   "cell_type": "code",
   "execution_count": 12,
   "metadata": {},
   "outputs": [
    {
     "data": {
      "text/plain": [
       "B    640\n",
       "A    557\n",
       "Name: group, dtype: int64"
      ]
     },
     "execution_count": 12,
     "metadata": {},
     "output_type": "execute_result"
    }
   ],
   "source": [
    "orders['group'].value_counts()"
   ]
  },
  {
   "cell_type": "markdown",
   "metadata": {},
   "source": [
    "Проверим на наличие дубликатов."
   ]
  },
  {
   "cell_type": "code",
   "execution_count": 13,
   "metadata": {},
   "outputs": [
    {
     "data": {
      "text/plain": [
       "0"
      ]
     },
     "execution_count": 13,
     "metadata": {},
     "output_type": "execute_result"
    }
   ],
   "source": [
    "orders.duplicated().sum()"
   ]
  },
  {
   "cell_type": "markdown",
   "metadata": {},
   "source": [
    "### Таблица 'visitors'"
   ]
  },
  {
   "cell_type": "code",
   "execution_count": 14,
   "metadata": {},
   "outputs": [
    {
     "name": "stdout",
     "output_type": "stream",
     "text": [
      "<class 'pandas.core.frame.DataFrame'>\n",
      "RangeIndex: 62 entries, 0 to 61\n",
      "Data columns (total 3 columns):\n",
      " #   Column    Non-Null Count  Dtype \n",
      "---  ------    --------------  ----- \n",
      " 0   date      62 non-null     object\n",
      " 1   group     62 non-null     object\n",
      " 2   visitors  62 non-null     int64 \n",
      "dtypes: int64(1), object(2)\n",
      "memory usage: 1.6+ KB\n"
     ]
    }
   ],
   "source": [
    "visitors = pd.read_csv('/datasets/visitors.csv')\n",
    "visitors.info()"
   ]
  },
  {
   "cell_type": "markdown",
   "metadata": {},
   "source": [
    "Приведем данные в столбце 'date' к формату времени."
   ]
  },
  {
   "cell_type": "code",
   "execution_count": 15,
   "metadata": {},
   "outputs": [],
   "source": [
    "visitors['date'] = pd.to_datetime(visitors['date'])"
   ]
  },
  {
   "cell_type": "markdown",
   "metadata": {},
   "source": [
    "Проверим столбец 'group' на корректность заполнения."
   ]
  },
  {
   "cell_type": "code",
   "execution_count": 16,
   "metadata": {},
   "outputs": [
    {
     "data": {
      "text/plain": [
       "B    31\n",
       "A    31\n",
       "Name: group, dtype: int64"
      ]
     },
     "execution_count": 16,
     "metadata": {},
     "output_type": "execute_result"
    }
   ],
   "source": [
    "visitors['group'].value_counts()"
   ]
  },
  {
   "cell_type": "markdown",
   "metadata": {},
   "source": [
    "Проверим на наличие дубликатов."
   ]
  },
  {
   "cell_type": "code",
   "execution_count": 17,
   "metadata": {},
   "outputs": [
    {
     "data": {
      "text/plain": [
       "0"
      ]
     },
     "execution_count": 17,
     "metadata": {},
     "output_type": "execute_result"
    }
   ],
   "source": [
    "visitors.duplicated().sum()"
   ]
  },
  {
   "cell_type": "markdown",
   "metadata": {},
   "source": [
    "### Подготовка общей таблицы"
   ]
  },
  {
   "cell_type": "markdown",
   "metadata": {},
   "source": [
    "Уточним даты проведения теста."
   ]
  },
  {
   "cell_type": "code",
   "execution_count": 18,
   "metadata": {},
   "outputs": [
    {
     "data": {
      "text/plain": [
       "Timestamp('2019-08-01 00:00:00')"
      ]
     },
     "metadata": {},
     "output_type": "display_data"
    },
    {
     "data": {
      "text/plain": [
       "Timestamp('2019-08-31 00:00:00')"
      ]
     },
     "execution_count": 18,
     "metadata": {},
     "output_type": "execute_result"
    }
   ],
   "source": [
    "display(visitors['date'].min())\n",
    "visitors['date'].max()"
   ]
  },
  {
   "cell_type": "markdown",
   "metadata": {},
   "source": [
    "У нас данные с 01.08.2019г. по 31.08.2019г. Тест проводился ровно месяц."
   ]
  },
  {
   "cell_type": "markdown",
   "metadata": {},
   "source": [
    "Проверим, не попадают ли какие-либо пользователи в обе группы, например, вследствие ошибки при настройке или проведении теста. "
   ]
  },
  {
   "cell_type": "code",
   "execution_count": 19,
   "metadata": {},
   "outputs": [
    {
     "data": {
      "text/plain": [
       "89"
      ]
     },
     "execution_count": 19,
     "metadata": {},
     "output_type": "execute_result"
    }
   ],
   "source": [
    "orders[orders['group'] == 'A']['visitor_id'].isin(orders[orders['group'] == 'B']['visitor_id']).sum()"
   ]
  },
  {
   "cell_type": "markdown",
   "metadata": {},
   "source": [
    "Данные о заказах 89 пользователей из группы А находятся также и в группе B. Придется избавиться от этих строк, чтобы результаты эксперимента меньше искажались."
   ]
  },
  {
   "cell_type": "code",
   "execution_count": 20,
   "metadata": {},
   "outputs": [],
   "source": [
    "wrong_users = pd.Series(list(set(orders[orders['group'] == 'A']['visitor_id'])\\\n",
    "                             .intersection(set(orders[orders['group'] == 'B']['visitor_id']))))"
   ]
  },
  {
   "cell_type": "code",
   "execution_count": 21,
   "metadata": {},
   "outputs": [],
   "source": [
    "orders = orders.loc[~orders['visitor_id'].isin(list(wrong_users))]"
   ]
  },
  {
   "cell_type": "markdown",
   "metadata": {},
   "source": [
    "Посчитаем количество посетителей и кумулятивное количество посетителей по дням для каждой из групп."
   ]
  },
  {
   "cell_type": "markdown",
   "metadata": {},
   "source": [
    "Сначала для группы А:"
   ]
  },
  {
   "cell_type": "code",
   "execution_count": 22,
   "metadata": {},
   "outputs": [],
   "source": [
    "# Делаем выборку количеству посетителей из группы А из таблицы visitors\n",
    "visitors_a_daily = visitors[visitors['group'] == 'A'][['date', 'visitors']]"
   ]
  },
  {
   "cell_type": "code",
   "execution_count": 23,
   "metadata": {},
   "outputs": [],
   "source": [
    "# Переименовываем столбцы\n",
    "visitors_a_daily.columns = ['date', 'visitors_per_date_a']"
   ]
  },
  {
   "cell_type": "code",
   "execution_count": 24,
   "metadata": {},
   "outputs": [
    {
     "data": {
      "text/html": [
       "<div>\n",
       "<style scoped>\n",
       "    .dataframe tbody tr th:only-of-type {\n",
       "        vertical-align: middle;\n",
       "    }\n",
       "\n",
       "    .dataframe tbody tr th {\n",
       "        vertical-align: top;\n",
       "    }\n",
       "\n",
       "    .dataframe thead th {\n",
       "        text-align: right;\n",
       "    }\n",
       "</style>\n",
       "<table border=\"1\" class=\"dataframe\">\n",
       "  <thead>\n",
       "    <tr style=\"text-align: right;\">\n",
       "      <th></th>\n",
       "      <th>date</th>\n",
       "      <th>visitors_cummulative_a</th>\n",
       "    </tr>\n",
       "  </thead>\n",
       "  <tbody>\n",
       "    <tr>\n",
       "      <th>0</th>\n",
       "      <td>2019-08-01</td>\n",
       "      <td>719</td>\n",
       "    </tr>\n",
       "    <tr>\n",
       "      <th>1</th>\n",
       "      <td>2019-08-02</td>\n",
       "      <td>1338</td>\n",
       "    </tr>\n",
       "    <tr>\n",
       "      <th>2</th>\n",
       "      <td>2019-08-03</td>\n",
       "      <td>1845</td>\n",
       "    </tr>\n",
       "    <tr>\n",
       "      <th>3</th>\n",
       "      <td>2019-08-04</td>\n",
       "      <td>2562</td>\n",
       "    </tr>\n",
       "    <tr>\n",
       "      <th>4</th>\n",
       "      <td>2019-08-05</td>\n",
       "      <td>3318</td>\n",
       "    </tr>\n",
       "  </tbody>\n",
       "</table>\n",
       "</div>"
      ],
      "text/plain": [
       "        date  visitors_cummulative_a\n",
       "0 2019-08-01                     719\n",
       "1 2019-08-02                    1338\n",
       "2 2019-08-03                    1845\n",
       "3 2019-08-04                    2562\n",
       "4 2019-08-05                    3318"
      ]
     },
     "execution_count": 24,
     "metadata": {},
     "output_type": "execute_result"
    }
   ],
   "source": [
    "# Считаем кумулятивное количество пользователей из группы А\n",
    "visitors_a_cummulative = visitors_a_daily.apply(\n",
    "    lambda x: visitors_a_daily[visitors_a_daily['date'] <= x['date']].agg({'date': 'max', 'visitors_per_date_a': 'sum'}),\n",
    "    axis=1,)\n",
    "visitors_a_cummulative.columns = ['date', 'visitors_cummulative_a']\n",
    "visitors_a_cummulative.head()"
   ]
  },
  {
   "cell_type": "markdown",
   "metadata": {},
   "source": [
    "Теперь проделаем те же операции для группы B:"
   ]
  },
  {
   "cell_type": "code",
   "execution_count": 25,
   "metadata": {},
   "outputs": [],
   "source": [
    "visitors_b_daily = visitors[visitors['group'] == 'B'][['date', 'visitors']]\n",
    "visitors_b_daily.columns = ['date', 'visitors_per_date_b']"
   ]
  },
  {
   "cell_type": "code",
   "execution_count": 26,
   "metadata": {},
   "outputs": [
    {
     "data": {
      "text/html": [
       "<div>\n",
       "<style scoped>\n",
       "    .dataframe tbody tr th:only-of-type {\n",
       "        vertical-align: middle;\n",
       "    }\n",
       "\n",
       "    .dataframe tbody tr th {\n",
       "        vertical-align: top;\n",
       "    }\n",
       "\n",
       "    .dataframe thead th {\n",
       "        text-align: right;\n",
       "    }\n",
       "</style>\n",
       "<table border=\"1\" class=\"dataframe\">\n",
       "  <thead>\n",
       "    <tr style=\"text-align: right;\">\n",
       "      <th></th>\n",
       "      <th>date</th>\n",
       "      <th>visitors_cummulative_b</th>\n",
       "    </tr>\n",
       "  </thead>\n",
       "  <tbody>\n",
       "    <tr>\n",
       "      <th>31</th>\n",
       "      <td>2019-08-01</td>\n",
       "      <td>713</td>\n",
       "    </tr>\n",
       "    <tr>\n",
       "      <th>32</th>\n",
       "      <td>2019-08-02</td>\n",
       "      <td>1294</td>\n",
       "    </tr>\n",
       "    <tr>\n",
       "      <th>33</th>\n",
       "      <td>2019-08-03</td>\n",
       "      <td>1803</td>\n",
       "    </tr>\n",
       "    <tr>\n",
       "      <th>34</th>\n",
       "      <td>2019-08-04</td>\n",
       "      <td>2573</td>\n",
       "    </tr>\n",
       "    <tr>\n",
       "      <th>35</th>\n",
       "      <td>2019-08-05</td>\n",
       "      <td>3280</td>\n",
       "    </tr>\n",
       "  </tbody>\n",
       "</table>\n",
       "</div>"
      ],
      "text/plain": [
       "         date  visitors_cummulative_b\n",
       "31 2019-08-01                     713\n",
       "32 2019-08-02                    1294\n",
       "33 2019-08-03                    1803\n",
       "34 2019-08-04                    2573\n",
       "35 2019-08-05                    3280"
      ]
     },
     "execution_count": 26,
     "metadata": {},
     "output_type": "execute_result"
    }
   ],
   "source": [
    "visitors_b_cummulative = visitors_b_daily.apply(\n",
    "    lambda x: visitors_b_daily[visitors_b_daily['date'] <= x['date']].agg({'date': 'max', 'visitors_per_date_b': 'sum'}),\n",
    "    axis=1)\n",
    "visitors_b_cummulative.columns = ['date', 'visitors_cummulative_b']\n",
    "visitors_b_cummulative.head()"
   ]
  },
  {
   "cell_type": "markdown",
   "metadata": {},
   "source": [
    "Посчитаем выручку и количество заказов по дням для каждой из групп."
   ]
  },
  {
   "cell_type": "code",
   "execution_count": 27,
   "metadata": {},
   "outputs": [
    {
     "data": {
      "text/html": [
       "<div>\n",
       "<style scoped>\n",
       "    .dataframe tbody tr th:only-of-type {\n",
       "        vertical-align: middle;\n",
       "    }\n",
       "\n",
       "    .dataframe tbody tr th {\n",
       "        vertical-align: top;\n",
       "    }\n",
       "\n",
       "    .dataframe thead th {\n",
       "        text-align: right;\n",
       "    }\n",
       "</style>\n",
       "<table border=\"1\" class=\"dataframe\">\n",
       "  <thead>\n",
       "    <tr style=\"text-align: right;\">\n",
       "      <th></th>\n",
       "      <th>date</th>\n",
       "      <th>orders_per_date_a</th>\n",
       "      <th>revenue_per_date_a</th>\n",
       "    </tr>\n",
       "  </thead>\n",
       "  <tbody>\n",
       "    <tr>\n",
       "      <th>0</th>\n",
       "      <td>2019-08-01</td>\n",
       "      <td>23</td>\n",
       "      <td>142779</td>\n",
       "    </tr>\n",
       "    <tr>\n",
       "      <th>1</th>\n",
       "      <td>2019-08-02</td>\n",
       "      <td>19</td>\n",
       "      <td>91602</td>\n",
       "    </tr>\n",
       "    <tr>\n",
       "      <th>2</th>\n",
       "      <td>2019-08-03</td>\n",
       "      <td>24</td>\n",
       "      <td>112473</td>\n",
       "    </tr>\n",
       "    <tr>\n",
       "      <th>3</th>\n",
       "      <td>2019-08-04</td>\n",
       "      <td>11</td>\n",
       "      <td>41176</td>\n",
       "    </tr>\n",
       "    <tr>\n",
       "      <th>4</th>\n",
       "      <td>2019-08-05</td>\n",
       "      <td>22</td>\n",
       "      <td>86383</td>\n",
       "    </tr>\n",
       "  </tbody>\n",
       "</table>\n",
       "</div>"
      ],
      "text/plain": [
       "        date  orders_per_date_a  revenue_per_date_a\n",
       "0 2019-08-01                 23              142779\n",
       "1 2019-08-02                 19               91602\n",
       "2 2019-08-03                 24              112473\n",
       "3 2019-08-04                 11               41176\n",
       "4 2019-08-05                 22               86383"
      ]
     },
     "execution_count": 27,
     "metadata": {},
     "output_type": "execute_result"
    }
   ],
   "source": [
    "# Количество и сумма заказов в день для группы А\n",
    "orders_a_daily = (\n",
    "    orders[orders['group'] == 'A'][['date', 'transaction_id', 'visitor_id', 'revenue']].groupby('date', as_index=False)\\\n",
    "    .agg({'transaction_id': pd.Series.nunique, 'revenue': 'sum'}) \n",
    ")\n",
    "orders_a_daily.columns = ['date', 'orders_per_date_a', 'revenue_per_date_a']\n",
    "orders_a_daily.head()"
   ]
  },
  {
   "cell_type": "code",
   "execution_count": 28,
   "metadata": {},
   "outputs": [
    {
     "data": {
      "text/html": [
       "<div>\n",
       "<style scoped>\n",
       "    .dataframe tbody tr th:only-of-type {\n",
       "        vertical-align: middle;\n",
       "    }\n",
       "\n",
       "    .dataframe tbody tr th {\n",
       "        vertical-align: top;\n",
       "    }\n",
       "\n",
       "    .dataframe thead th {\n",
       "        text-align: right;\n",
       "    }\n",
       "</style>\n",
       "<table border=\"1\" class=\"dataframe\">\n",
       "  <thead>\n",
       "    <tr style=\"text-align: right;\">\n",
       "      <th></th>\n",
       "      <th>date</th>\n",
       "      <th>orders_per_date_b</th>\n",
       "      <th>revenue_per_date_b</th>\n",
       "    </tr>\n",
       "  </thead>\n",
       "  <tbody>\n",
       "    <tr>\n",
       "      <th>0</th>\n",
       "      <td>2019-08-01</td>\n",
       "      <td>17</td>\n",
       "      <td>59758</td>\n",
       "    </tr>\n",
       "    <tr>\n",
       "      <th>1</th>\n",
       "      <td>2019-08-02</td>\n",
       "      <td>23</td>\n",
       "      <td>162043</td>\n",
       "    </tr>\n",
       "    <tr>\n",
       "      <th>2</th>\n",
       "      <td>2019-08-03</td>\n",
       "      <td>14</td>\n",
       "      <td>67049</td>\n",
       "    </tr>\n",
       "    <tr>\n",
       "      <th>3</th>\n",
       "      <td>2019-08-04</td>\n",
       "      <td>14</td>\n",
       "      <td>96890</td>\n",
       "    </tr>\n",
       "    <tr>\n",
       "      <th>4</th>\n",
       "      <td>2019-08-05</td>\n",
       "      <td>21</td>\n",
       "      <td>89908</td>\n",
       "    </tr>\n",
       "  </tbody>\n",
       "</table>\n",
       "</div>"
      ],
      "text/plain": [
       "        date  orders_per_date_b  revenue_per_date_b\n",
       "0 2019-08-01                 17               59758\n",
       "1 2019-08-02                 23              162043\n",
       "2 2019-08-03                 14               67049\n",
       "3 2019-08-04                 14               96890\n",
       "4 2019-08-05                 21               89908"
      ]
     },
     "execution_count": 28,
     "metadata": {},
     "output_type": "execute_result"
    }
   ],
   "source": [
    "# Количество и сумма заказов в день для группы В\n",
    "orders_b_daily = orders[orders['group'] == 'B'].groupby('date', as_index=False)\\\n",
    ".agg({'transaction_id': 'nunique', 'revenue': 'sum'})\n",
    "\n",
    "orders_b_daily.columns = ['date', 'orders_per_date_b', 'revenue_per_date_b']\n",
    "orders_b_daily.head()"
   ]
  },
  {
   "cell_type": "markdown",
   "metadata": {},
   "source": [
    "Далее посчитаем кумулятивную выручку и кумулятивное количество заказов по дням для каждой из групп."
   ]
  },
  {
   "cell_type": "code",
   "execution_count": 29,
   "metadata": {},
   "outputs": [
    {
     "data": {
      "text/html": [
       "<div>\n",
       "<style scoped>\n",
       "    .dataframe tbody tr th:only-of-type {\n",
       "        vertical-align: middle;\n",
       "    }\n",
       "\n",
       "    .dataframe tbody tr th {\n",
       "        vertical-align: top;\n",
       "    }\n",
       "\n",
       "    .dataframe thead th {\n",
       "        text-align: right;\n",
       "    }\n",
       "</style>\n",
       "<table border=\"1\" class=\"dataframe\">\n",
       "  <thead>\n",
       "    <tr style=\"text-align: right;\">\n",
       "      <th></th>\n",
       "      <th>date</th>\n",
       "      <th>orders_cummulative_a</th>\n",
       "      <th>revenue_cummulative_a</th>\n",
       "    </tr>\n",
       "  </thead>\n",
       "  <tbody>\n",
       "    <tr>\n",
       "      <th>0</th>\n",
       "      <td>2019-08-01</td>\n",
       "      <td>23</td>\n",
       "      <td>142779</td>\n",
       "    </tr>\n",
       "    <tr>\n",
       "      <th>1</th>\n",
       "      <td>2019-08-02</td>\n",
       "      <td>42</td>\n",
       "      <td>234381</td>\n",
       "    </tr>\n",
       "    <tr>\n",
       "      <th>2</th>\n",
       "      <td>2019-08-03</td>\n",
       "      <td>66</td>\n",
       "      <td>346854</td>\n",
       "    </tr>\n",
       "    <tr>\n",
       "      <th>3</th>\n",
       "      <td>2019-08-04</td>\n",
       "      <td>77</td>\n",
       "      <td>388030</td>\n",
       "    </tr>\n",
       "    <tr>\n",
       "      <th>4</th>\n",
       "      <td>2019-08-05</td>\n",
       "      <td>99</td>\n",
       "      <td>474413</td>\n",
       "    </tr>\n",
       "  </tbody>\n",
       "</table>\n",
       "</div>"
      ],
      "text/plain": [
       "        date  orders_cummulative_a  revenue_cummulative_a\n",
       "0 2019-08-01                    23                 142779\n",
       "1 2019-08-02                    42                 234381\n",
       "2 2019-08-03                    66                 346854\n",
       "3 2019-08-04                    77                 388030\n",
       "4 2019-08-05                    99                 474413"
      ]
     },
     "execution_count": 29,
     "metadata": {},
     "output_type": "execute_result"
    }
   ],
   "source": [
    "# Кумулятивная выручка и кумулятивное количество заказов для группы А\n",
    "orders_a_cummulative = orders_a_daily.apply(\n",
    "    lambda x: orders_a_daily[orders_a_daily['date'] <= x['date']].agg(\n",
    "    {'date': 'max', 'orders_per_date_a': 'sum', 'revenue_per_date_a': 'sum'}),axis=1).sort_values(by=['date'])\n",
    "\n",
    "orders_a_cummulative.columns = ['date', 'orders_cummulative_a', 'revenue_cummulative_a']\n",
    "orders_a_cummulative.head()"
   ]
  },
  {
   "cell_type": "code",
   "execution_count": 30,
   "metadata": {},
   "outputs": [
    {
     "data": {
      "text/html": [
       "<div>\n",
       "<style scoped>\n",
       "    .dataframe tbody tr th:only-of-type {\n",
       "        vertical-align: middle;\n",
       "    }\n",
       "\n",
       "    .dataframe tbody tr th {\n",
       "        vertical-align: top;\n",
       "    }\n",
       "\n",
       "    .dataframe thead th {\n",
       "        text-align: right;\n",
       "    }\n",
       "</style>\n",
       "<table border=\"1\" class=\"dataframe\">\n",
       "  <thead>\n",
       "    <tr style=\"text-align: right;\">\n",
       "      <th></th>\n",
       "      <th>date</th>\n",
       "      <th>orders_cummulative_b</th>\n",
       "      <th>revenue_cummulative_b</th>\n",
       "    </tr>\n",
       "  </thead>\n",
       "  <tbody>\n",
       "    <tr>\n",
       "      <th>0</th>\n",
       "      <td>2019-08-01</td>\n",
       "      <td>17</td>\n",
       "      <td>59758</td>\n",
       "    </tr>\n",
       "    <tr>\n",
       "      <th>1</th>\n",
       "      <td>2019-08-02</td>\n",
       "      <td>40</td>\n",
       "      <td>221801</td>\n",
       "    </tr>\n",
       "    <tr>\n",
       "      <th>2</th>\n",
       "      <td>2019-08-03</td>\n",
       "      <td>54</td>\n",
       "      <td>288850</td>\n",
       "    </tr>\n",
       "    <tr>\n",
       "      <th>3</th>\n",
       "      <td>2019-08-04</td>\n",
       "      <td>68</td>\n",
       "      <td>385740</td>\n",
       "    </tr>\n",
       "    <tr>\n",
       "      <th>4</th>\n",
       "      <td>2019-08-05</td>\n",
       "      <td>89</td>\n",
       "      <td>475648</td>\n",
       "    </tr>\n",
       "  </tbody>\n",
       "</table>\n",
       "</div>"
      ],
      "text/plain": [
       "        date  orders_cummulative_b  revenue_cummulative_b\n",
       "0 2019-08-01                    17                  59758\n",
       "1 2019-08-02                    40                 221801\n",
       "2 2019-08-03                    54                 288850\n",
       "3 2019-08-04                    68                 385740\n",
       "4 2019-08-05                    89                 475648"
      ]
     },
     "execution_count": 30,
     "metadata": {},
     "output_type": "execute_result"
    }
   ],
   "source": [
    "# Кумулятивная выручка и кумулятивное количество заказов для группы В\n",
    "orders_b_cummulative = orders_b_daily.apply(\n",
    "    lambda x: orders_b_daily[orders_b_daily['date'] <= x['date']].agg(\n",
    "        {'date': 'max', 'orders_per_date_b': 'sum', 'revenue_per_date_b': 'sum'}), axis=1).sort_values(by=['date'])\n",
    "\n",
    "orders_b_cummulative.columns = ['date', 'orders_cummulative_b','revenue_cummulative_b']\n",
    "orders_b_cummulative.head()"
   ]
  },
  {
   "cell_type": "markdown",
   "metadata": {},
   "source": [
    "Теперь объединим все получившиеся данные в один датафрейм."
   ]
  },
  {
   "cell_type": "code",
   "execution_count": 31,
   "metadata": {},
   "outputs": [],
   "source": [
    "data = (\n",
    "    orders_a_daily.merge(orders_b_daily, on='date', how='left')\n",
    "    .merge(orders_a_cummulative, on='date', how='left')\n",
    "    .merge(orders_b_cummulative, on='date', how='left')\n",
    "    .merge(visitors_a_daily, on='date', how='left')\n",
    "    .merge(visitors_b_daily, on='date', how='left')\n",
    "    .merge(visitors_a_cummulative, on='date', how='left')\n",
    "    .merge(visitors_b_cummulative, on='date', how='left')\n",
    ")"
   ]
  },
  {
   "cell_type": "code",
   "execution_count": 32,
   "metadata": {},
   "outputs": [
    {
     "data": {
      "text/html": [
       "<div>\n",
       "<style scoped>\n",
       "    .dataframe tbody tr th:only-of-type {\n",
       "        vertical-align: middle;\n",
       "    }\n",
       "\n",
       "    .dataframe tbody tr th {\n",
       "        vertical-align: top;\n",
       "    }\n",
       "\n",
       "    .dataframe thead th {\n",
       "        text-align: right;\n",
       "    }\n",
       "</style>\n",
       "<table border=\"1\" class=\"dataframe\">\n",
       "  <thead>\n",
       "    <tr style=\"text-align: right;\">\n",
       "      <th></th>\n",
       "      <th>date</th>\n",
       "      <th>orders_per_date_a</th>\n",
       "      <th>revenue_per_date_a</th>\n",
       "      <th>orders_per_date_b</th>\n",
       "      <th>revenue_per_date_b</th>\n",
       "      <th>orders_cummulative_a</th>\n",
       "      <th>revenue_cummulative_a</th>\n",
       "      <th>orders_cummulative_b</th>\n",
       "      <th>revenue_cummulative_b</th>\n",
       "      <th>visitors_per_date_a</th>\n",
       "      <th>visitors_per_date_b</th>\n",
       "      <th>visitors_cummulative_a</th>\n",
       "      <th>visitors_cummulative_b</th>\n",
       "    </tr>\n",
       "  </thead>\n",
       "  <tbody>\n",
       "    <tr>\n",
       "      <th>0</th>\n",
       "      <td>2019-08-01</td>\n",
       "      <td>23</td>\n",
       "      <td>142779</td>\n",
       "      <td>17</td>\n",
       "      <td>59758</td>\n",
       "      <td>23</td>\n",
       "      <td>142779</td>\n",
       "      <td>17</td>\n",
       "      <td>59758</td>\n",
       "      <td>719</td>\n",
       "      <td>713</td>\n",
       "      <td>719</td>\n",
       "      <td>713</td>\n",
       "    </tr>\n",
       "    <tr>\n",
       "      <th>1</th>\n",
       "      <td>2019-08-02</td>\n",
       "      <td>19</td>\n",
       "      <td>91602</td>\n",
       "      <td>23</td>\n",
       "      <td>162043</td>\n",
       "      <td>42</td>\n",
       "      <td>234381</td>\n",
       "      <td>40</td>\n",
       "      <td>221801</td>\n",
       "      <td>619</td>\n",
       "      <td>581</td>\n",
       "      <td>1338</td>\n",
       "      <td>1294</td>\n",
       "    </tr>\n",
       "    <tr>\n",
       "      <th>2</th>\n",
       "      <td>2019-08-03</td>\n",
       "      <td>24</td>\n",
       "      <td>112473</td>\n",
       "      <td>14</td>\n",
       "      <td>67049</td>\n",
       "      <td>66</td>\n",
       "      <td>346854</td>\n",
       "      <td>54</td>\n",
       "      <td>288850</td>\n",
       "      <td>507</td>\n",
       "      <td>509</td>\n",
       "      <td>1845</td>\n",
       "      <td>1803</td>\n",
       "    </tr>\n",
       "    <tr>\n",
       "      <th>3</th>\n",
       "      <td>2019-08-04</td>\n",
       "      <td>11</td>\n",
       "      <td>41176</td>\n",
       "      <td>14</td>\n",
       "      <td>96890</td>\n",
       "      <td>77</td>\n",
       "      <td>388030</td>\n",
       "      <td>68</td>\n",
       "      <td>385740</td>\n",
       "      <td>717</td>\n",
       "      <td>770</td>\n",
       "      <td>2562</td>\n",
       "      <td>2573</td>\n",
       "    </tr>\n",
       "    <tr>\n",
       "      <th>4</th>\n",
       "      <td>2019-08-05</td>\n",
       "      <td>22</td>\n",
       "      <td>86383</td>\n",
       "      <td>21</td>\n",
       "      <td>89908</td>\n",
       "      <td>99</td>\n",
       "      <td>474413</td>\n",
       "      <td>89</td>\n",
       "      <td>475648</td>\n",
       "      <td>756</td>\n",
       "      <td>707</td>\n",
       "      <td>3318</td>\n",
       "      <td>3280</td>\n",
       "    </tr>\n",
       "  </tbody>\n",
       "</table>\n",
       "</div>"
      ],
      "text/plain": [
       "        date  orders_per_date_a  revenue_per_date_a  orders_per_date_b  \\\n",
       "0 2019-08-01                 23              142779                 17   \n",
       "1 2019-08-02                 19               91602                 23   \n",
       "2 2019-08-03                 24              112473                 14   \n",
       "3 2019-08-04                 11               41176                 14   \n",
       "4 2019-08-05                 22               86383                 21   \n",
       "\n",
       "   revenue_per_date_b  orders_cummulative_a  revenue_cummulative_a  \\\n",
       "0               59758                    23                 142779   \n",
       "1              162043                    42                 234381   \n",
       "2               67049                    66                 346854   \n",
       "3               96890                    77                 388030   \n",
       "4               89908                    99                 474413   \n",
       "\n",
       "   orders_cummulative_b  revenue_cummulative_b  visitors_per_date_a  \\\n",
       "0                    17                  59758                  719   \n",
       "1                    40                 221801                  619   \n",
       "2                    54                 288850                  507   \n",
       "3                    68                 385740                  717   \n",
       "4                    89                 475648                  756   \n",
       "\n",
       "   visitors_per_date_b  visitors_cummulative_a  visitors_cummulative_b  \n",
       "0                  713                     719                     713  \n",
       "1                  581                    1338                    1294  \n",
       "2                  509                    1845                    1803  \n",
       "3                  770                    2562                    2573  \n",
       "4                  707                    3318                    3280  "
      ]
     },
     "execution_count": 32,
     "metadata": {},
     "output_type": "execute_result"
    }
   ],
   "source": [
    "data.head()"
   ]
  },
  {
   "cell_type": "markdown",
   "metadata": {},
   "source": [
    "Можно переходить к анализу данных."
   ]
  },
  {
   "cell_type": "markdown",
   "metadata": {},
   "source": [
    "## Анализ A/B-теста"
   ]
  },
  {
   "cell_type": "markdown",
   "metadata": {},
   "source": [
    "###  График кумулятивной выручки по группам"
   ]
  },
  {
   "cell_type": "code",
   "execution_count": 33,
   "metadata": {},
   "outputs": [
    {
     "data": {
      "image/png": "[encoded data removed]",
      "text/plain": [
       "<Figure size 1440x360 with 1 Axes>"
      ]
     },
     "metadata": {
      "needs_background": "light"
     },
     "output_type": "display_data"
    }
   ],
   "source": [
    "plt.figure(figsize=(20, 5))\n",
    "plt.plot(data['date'], data['revenue_cummulative_a'], label='A')\n",
    "plt.plot(data['date'], data['revenue_cummulative_b'], label='B')\n",
    "plt.legend()\n",
    "plt.title(\"График кумулятивной выручки по группам\", fontsize=18)\n",
    "plt.xlabel(\"Дата\", fontsize=12)\n",
    "plt.ylabel(\"Кумулятивная выручка\", fontsize=12)\n",
    "plt.show()"
   ]
  },
  {
   "cell_type": "markdown",
   "metadata": {},
   "source": [
    "График кумулятивной выручки по группе А растет равномерно.\n",
    "График кумулятивной выручки по группе B растет равномерно, но примерно в середине эксперимента наблюдается резкий рост. Далее кумулятивная выручка снова растет равномерно. Можно сделать вывод, что 19.08.2019г. был один или несколько заказов на крупную сумму."
   ]
  },
  {
   "cell_type": "markdown",
   "metadata": {},
   "source": [
    "###  График кумулятивного среднего чека по группам"
   ]
  },
  {
   "cell_type": "code",
   "execution_count": 34,
   "metadata": {},
   "outputs": [
    {
     "data": {
      "image/png": "[encoded data removed]",
      "text/plain": [
       "<Figure size 1440x360 with 1 Axes>"
      ]
     },
     "metadata": {
      "needs_background": "light"
     },
     "output_type": "display_data"
    }
   ],
   "source": [
    "plt.figure(figsize=(20, 5))\n",
    "plt.plot(data['date'], data['revenue_cummulative_a'] / data['orders_cummulative_a'], label='A')\n",
    "plt.plot(data['date'], data['revenue_cummulative_b'] / data['orders_cummulative_b'], label='B')\n",
    "plt.title(\"График кумулятивной среднего чека по группам\", fontsize=18)\n",
    "plt.xlabel(\"Дата\", fontsize=12)\n",
    "plt.ylabel(\"Кумулятивный средний чек\", fontsize=12)\n",
    "plt.legend()\n",
    "plt.show()"
   ]
  },
  {
   "cell_type": "markdown",
   "metadata": {},
   "source": [
    "График кумулятивного среднего чека растут неравномерно. У группы А кумулятивный средний чек сначала снижается, затем растет и после пика 13.08.2019 стабилизируется примерно на одном уровне. У группы B наблюдаем тот же скачок 19.08.2019г. из-за крупного  заказа."
   ]
  },
  {
   "cell_type": "markdown",
   "metadata": {},
   "source": [
    "### График относительного изменения кумулятивного среднего чека группы B к группе A"
   ]
  },
  {
   "cell_type": "code",
   "execution_count": 35,
   "metadata": {},
   "outputs": [
    {
     "data": {
      "image/png": "[encoded data removed]",
      "text/plain": [
       "<Figure size 1440x360 with 1 Axes>"
      ]
     },
     "metadata": {
      "needs_background": "light"
     },
     "output_type": "display_data"
    }
   ],
   "source": [
    "plt.figure(figsize=(20, 5))\n",
    "# cтроим отношение средних чеков\n",
    "plt.plot(data['date'], (data['revenue_cummulative_b'] / data['orders_cummulative_b']) / (data['revenue_cummulative_a'] / data['orders_cummulative_a'])-1)\n",
    "\n",
    " #добавляем ось X\n",
    "plt.axhline(y=0, color='black', linestyle='--') \n",
    "\n",
    "plt.title(\"График относительного изменения кумулятивного среднего чека группы B к группе A\", fontsize=18)\n",
    "plt.xlabel(\"Дата\", fontsize=12)\n",
    "plt.ylabel(\"Величина относительного изменения\", fontsize=12)\n",
    "\n",
    "plt.show()"
   ]
  },
  {
   "cell_type": "markdown",
   "metadata": {},
   "source": [
    "График получился неравномерным. По всей видимости, картину портят круные заказы и выбросы."
   ]
  },
  {
   "cell_type": "markdown",
   "metadata": {},
   "source": [
    "### График кумулятивной конверсии по группам."
   ]
  },
  {
   "cell_type": "code",
   "execution_count": 36,
   "metadata": {
    "scrolled": true
   },
   "outputs": [
    {
     "data": {
      "image/png": "[encoded data removed]",
      "text/plain": [
       "<Figure size 1440x360 with 1 Axes>"
      ]
     },
     "metadata": {
      "needs_background": "light"
     },
     "output_type": "display_data"
    }
   ],
   "source": [
    "plt.figure(figsize=(20, 5))\n",
    "plt.plot(data['date'], data['orders_cummulative_a'] / data['visitors_cummulative_a'], label='A')\n",
    "plt.plot(data['date'], data['orders_cummulative_b'] / data['visitors_cummulative_b'], label='B')\n",
    "\n",
    "plt.title(\"График кумулятивной конверсии по группам\", fontsize=18)\n",
    "plt.xlabel(\"Дата\", fontsize=14)\n",
    "plt.ylabel(\"Кумулятивная конверсия\", fontsize=14)\n",
    "\n",
    "plt.legend()\n",
    "plt.show()"
   ]
  },
  {
   "cell_type": "markdown",
   "metadata": {},
   "source": [
    "Судя по графику, кумулятивная конверсия группы B выше, чем у группы А за исключением первых 6 дней эксперимента. Затем конверсия стабилизировалась у обеих групп."
   ]
  },
  {
   "cell_type": "markdown",
   "metadata": {},
   "source": [
    "### График относительного изменения кумулятивной конверсии группы B к группе A."
   ]
  },
  {
   "cell_type": "code",
   "execution_count": 37,
   "metadata": {},
   "outputs": [
    {
     "data": {
      "image/png": "[encoded data removed]",
      "text/plain": [
       "<Figure size 1440x360 with 1 Axes>"
      ]
     },
     "metadata": {
      "needs_background": "light"
     },
     "output_type": "display_data"
    }
   ],
   "source": [
    "plt.figure(figsize=(20, 5))\n",
    "\n",
    "plt.plot(data['date'], (data['orders_cummulative_b'] / data['visitors_cummulative_b']) / (data['orders_cummulative_a'] / data['visitors_cummulative_a'])-1, label=\"Относительный прирост конверсии группы B относительно группы A\")\n",
    "plt.axhline(y=0, color='black', linestyle='--')\n",
    "plt.axhline(y=0.1, color='grey', linestyle='--')\n",
    "\n",
    "plt.title(\"График относительного изменения кумулятивной конверсии группы B к группе A\", fontsize=18)\n",
    "plt.xlabel(\"Дата\", fontsize=12)\n",
    "plt.ylabel(\"Величина относительного изменения\", fontsize=12)\n",
    "\n",
    "plt.legend()\n",
    "plt.show()"
   ]
  },
  {
   "cell_type": "markdown",
   "metadata": {},
   "source": [
    "В начале теста группа B проигрывала группе A, но уже на шестой день теста значительно вырвалась вперед. Начиная с середины теста прирост конверсии B несколько снижается относительно группы А, но все равно стабильно выше 10%"
   ]
  },
  {
   "cell_type": "markdown",
   "metadata": {},
   "source": [
    "### Точечный график количества заказов по пользователям"
   ]
  },
  {
   "cell_type": "code",
   "execution_count": 38,
   "metadata": {},
   "outputs": [],
   "source": [
    "orders_per_user = orders.groupby('visitor_id').agg({'transaction_id': 'nunique'}).reset_index()\n",
    "orders_per_user.columns = ['visitor_id', 'orders_total']"
   ]
  },
  {
   "cell_type": "code",
   "execution_count": 39,
   "metadata": {},
   "outputs": [
    {
     "data": {
      "image/png": "[encoded data removed]",
      "text/plain": [
       "<Figure size 432x288 with 1 Axes>"
      ]
     },
     "metadata": {
      "needs_background": "light"
     },
     "output_type": "display_data"
    }
   ],
   "source": [
    "x_values = pd.Series(range(0, len(orders_per_user['orders_total'])))\n",
    "plt.title(\"Точечный график количества заказов по пользователям\", fontsize=12)\n",
    "plt.ylabel(\"Количество заказов\", fontsize=10)\n",
    "plt.scatter(x_values, orders_per_user['orders_total']);"
   ]
  },
  {
   "cell_type": "markdown",
   "metadata": {},
   "source": [
    "В основном пользователи сделали только 1 заказ."
   ]
  },
  {
   "cell_type": "code",
   "execution_count": 40,
   "metadata": {},
   "outputs": [
    {
     "data": {
      "text/plain": [
       "array([1., 2.])"
      ]
     },
     "execution_count": 40,
     "metadata": {},
     "output_type": "execute_result"
    }
   ],
   "source": [
    "percentile_orders = np.percentile(orders_per_user['orders_total'], [95, 99])\n",
    "percentile_orders"
   ]
  },
  {
   "cell_type": "markdown",
   "metadata": {},
   "source": [
    "Не более 5% пользователей сделали больше 1 заказа и не более 1% сделали 2 и более заказов."
   ]
  },
  {
   "cell_type": "markdown",
   "metadata": {},
   "source": [
    "Границей аномальных значений по количеству заказов будет 1 заказ. Больше 1 - это аномальные значения."
   ]
  },
  {
   "cell_type": "markdown",
   "metadata": {},
   "source": [
    "### Точечный график стоимостей заказов"
   ]
  },
  {
   "cell_type": "code",
   "execution_count": 41,
   "metadata": {},
   "outputs": [
    {
     "data": {
      "image/png": "[encoded data removed]",
      "text/plain": [
       "<Figure size 432x288 with 1 Axes>"
      ]
     },
     "metadata": {
      "needs_background": "light"
     },
     "output_type": "display_data"
    }
   ],
   "source": [
    "x_values = pd.Series(range(0, len(orders['revenue'])))\n",
    "plt.title(\"Точечный график стоимостей заказов\", fontsize=12)\n",
    "plt.ylabel(\"Стоимость заказов\", fontsize=10)\n",
    "plt.scatter(x_values, orders['revenue']);"
   ]
  },
  {
   "cell_type": "markdown",
   "metadata": {},
   "source": [
    "Определим 95 и 99 перцентиль"
   ]
  },
  {
   "cell_type": "code",
   "execution_count": 42,
   "metadata": {},
   "outputs": [
    {
     "data": {
      "text/plain": [
       "array([26785., 53904.])"
      ]
     },
     "execution_count": 42,
     "metadata": {},
     "output_type": "execute_result"
    }
   ],
   "source": [
    "percentile_revenue = np.percentile(orders['revenue'], [95, 99])\n",
    "percentile_revenue"
   ]
  },
  {
   "cell_type": "markdown",
   "metadata": {},
   "source": [
    "Не более 5% пользователей сделали заказ сумму 26785 руб. и не больше 1% сделали заказов на общую сумму 53904 руб.\n",
    "Границей аномальных значений по сумме заказов будет 26785 руб. Если сумма больше, то это аномальные значения."
   ]
  },
  {
   "cell_type": "markdown",
   "metadata": {},
   "source": [
    "## Проверка гипотез"
   ]
  },
  {
   "cell_type": "markdown",
   "metadata": {},
   "source": [
    "Для проверки всех гипотез будем использовать непараметрический тест Манна-Уитни с уровнем значимости 0.05"
   ]
  },
  {
   "cell_type": "markdown",
   "metadata": {},
   "source": [
    "### Гипотеза о различии в конверсии между группами по «сырым» данным"
   ]
  },
  {
   "cell_type": "markdown",
   "metadata": {},
   "source": [
    "Н0: Различий в конверсии между группами нет.\n",
    "<br>\n",
    "H1: Различия в конверсии между группами есть."
   ]
  },
  {
   "cell_type": "markdown",
   "metadata": {},
   "source": [
    "Создадим переменные orders_by_users_a и orders_by_users_b со столбцами ['visitor_id', 'orders']. В них для пользователей, которые заказывали хотя бы 1 раз, укажем число совершённых заказов."
   ]
  },
  {
   "cell_type": "code",
   "execution_count": 43,
   "metadata": {},
   "outputs": [],
   "source": [
    "orders_by_users_a = (\n",
    "    orders[orders['group'] == 'A']\n",
    "    .groupby('visitor_id', as_index=False)\n",
    "    .agg({'transaction_id': 'nunique'})\n",
    ")\n",
    "orders_by_users_a.columns = ['visitor_id', 'orders']"
   ]
  },
  {
   "cell_type": "code",
   "execution_count": 44,
   "metadata": {},
   "outputs": [],
   "source": [
    "orders_by_users_b = (\n",
    "    orders[orders['group'] == 'B']\n",
    "    .groupby('visitor_id', as_index=False)\n",
    "    .agg({'transaction_id': 'nunique'})\n",
    ")\n",
    "orders_by_users_b.columns = ['visitor_id', 'orders']"
   ]
  },
  {
   "cell_type": "markdown",
   "metadata": {},
   "source": [
    "Теперь добавим пользователей, которые ничего не заказали и присвоим им нули в столбце с количеством заказов."
   ]
  },
  {
   "cell_type": "code",
   "execution_count": 45,
   "metadata": {},
   "outputs": [],
   "source": [
    "sample_a = pd.concat([orders_by_users_a['orders'], pd.Series(0, index=np.arange(data['visitors_per_date_a'].sum() - len(orders_by_users_a['orders'])), name='orders')],axis=0)"
   ]
  },
  {
   "cell_type": "code",
   "execution_count": 46,
   "metadata": {},
   "outputs": [],
   "source": [
    "sample_b = pd.concat([orders_by_users_b['orders'], pd.Series(0, index=np.arange(data['visitors_per_date_b'].sum() - len(orders_by_users_b['orders'])), name='orders')],axis=0)"
   ]
  },
  {
   "cell_type": "markdown",
   "metadata": {},
   "source": [
    "Проверим гипотезу о равенстве конверсий между группами А и B, используя непараметрический тест Манна-Уитни."
   ]
  },
  {
   "cell_type": "code",
   "execution_count": 47,
   "metadata": {},
   "outputs": [
    {
     "name": "stdout",
     "output_type": "stream",
     "text": [
      "Отвергаем нулевую гипотезу. Разница статистически значима. Значение p-value 0.011\n"
     ]
    }
   ],
   "source": [
    "alpha = .05\n",
    "result = (stats.mannwhitneyu(sample_a, sample_b)[1]).astype(float)\n",
    "if result < alpha:\n",
    "    print(f'Отвергаем нулевую гипотезу. Разница статистически значима. Значение p-value {\"{0:.3f}\".format(result)}')\n",
    "else:\n",
    "    print(f'Не получилось отвергнуть нулевую гипотезу, вывод о различии сделать нельзя. Значение p-value {\"{0:.3f}\".format(result)}')"
   ]
  },
  {
   "cell_type": "markdown",
   "metadata": {},
   "source": [
    "Посчитаем относительную разницу в среднем показателе конверсии между двумя группами."
   ]
  },
  {
   "cell_type": "code",
   "execution_count": 48,
   "metadata": {},
   "outputs": [
    {
     "data": {
      "text/plain": [
       "'0.160'"
      ]
     },
     "execution_count": 48,
     "metadata": {},
     "output_type": "execute_result"
    }
   ],
   "source": [
    "\"{0:.3f}\".format(sample_b.mean() / sample_a.mean() - 1)"
   ]
  },
  {
   "cell_type": "markdown",
   "metadata": {},
   "source": [
    "**Вывод:** Гипотеза о равенстве конверсии между группами А и В по \"сырым данным\" не подтверждена. Разница в конверсии составляет 16.0%"
   ]
  },
  {
   "cell_type": "markdown",
   "metadata": {},
   "source": [
    "### Гипотеза о различии в среднем чеке между группами по «сырым» данным"
   ]
  },
  {
   "cell_type": "markdown",
   "metadata": {},
   "source": [
    "Н0: Различий в среднем чеке между группами нет.\n",
    "<br>\n",
    "H1: Различия в среднем чеке между группами есть."
   ]
  },
  {
   "cell_type": "code",
   "execution_count": 49,
   "metadata": {},
   "outputs": [
    {
     "name": "stdout",
     "output_type": "stream",
     "text": [
      "Не получилось отвергнуть нулевую гипотезу, вывод о различии сделать нельзя. Значение p-value 0.829\n"
     ]
    }
   ],
   "source": [
    "alpha = .05\n",
    "result = stats.mannwhitneyu(orders[orders['group'] == 'A']['revenue'], orders[orders['group'] == 'B']['revenue'])[1].astype(float)\n",
    "if result < alpha:\n",
    "    print(f'Отвергаем нулевую гипотезу. Разница статистически значима. Значение p-value {\"{0:.3f}\".format(result)}')\n",
    "else:\n",
    "    print(f'Не получилось отвергнуть нулевую гипотезу, вывод о различии сделать нельзя. Значение p-value {\"{0:.3f}\".format(result)}')"
   ]
  },
  {
   "cell_type": "markdown",
   "metadata": {},
   "source": [
    "Посчитаем относительную разницу в среднем показателе конверсии между двумя группами."
   ]
  },
  {
   "cell_type": "code",
   "execution_count": 50,
   "metadata": {},
   "outputs": [
    {
     "data": {
      "text/plain": [
       "'0.287'"
      ]
     },
     "execution_count": 50,
     "metadata": {},
     "output_type": "execute_result"
    }
   ],
   "source": [
    "'{0:.3f}'.format(orders[orders['group']=='B']['revenue'].mean()/orders[orders['group']=='A']['revenue'].mean()-1)"
   ]
  },
  {
   "cell_type": "markdown",
   "metadata": {},
   "source": [
    "**Вывод:** Нет оснований отвергать нулевую гипотезу о равенстве среднего чека между двумя группами, хотя простой арифметический подсчет показывает, что средний чек группы B на 28.7% больше группы А. Но это произошло, вероятно, из-за выбросов, от которых нужно избавиться."
   ]
  },
 
  {
   "cell_type": "markdown",
   "metadata": {},
   "source": [
    "### Гипотеза о равенстве конверсии между группами без выбросов"
   ]
  },
  {
   "cell_type": "markdown",
   "metadata": {},
   "source": [
    "На основании точечных графиков количества и стоимости заказов, было установлено, что аномальным количеством заказов являются количество больше 1, а аномальной общей суммой заказов является сумма больше 26 785 руб. Сделаем фильтр по этим значениям и выберем id пользователей, которые сделали аномальные заказы по количеству или стоимости."
   ]
  },
  {
   "cell_type": "code",
   "execution_count": 51,
   "metadata": {},
   "outputs": [
    {
     "data": {
      "text/plain": [
       "36      366673373\n",
       "58      611059232\n",
       "64      678354126\n",
       "72      759473111\n",
       "171    1617417821\n",
       "Name: visitor_id, dtype: int64"
      ]
     },
     "metadata": {},
     "output_type": "display_data"
    },
    {
     "data": {
      "text/plain": [
       "86"
      ]
     },
     "metadata": {},
     "output_type": "display_data"
    }
   ],
   "source": [
    "users_with_many_orders = pd.concat([orders_by_users_a[orders_by_users_a['orders'] > percentile_orders[0]]['visitor_id'],\n",
    "        orders_by_users_b[orders_by_users_b['orders'] > percentile_orders[0]]['visitor_id']], axis=0)\n",
    "\n",
    "users_with_expensive_orders = orders[orders['revenue'] > percentile_revenue[0]]['visitor_id']\n",
    "abnormal_users = pd.concat([users_with_many_orders, users_with_expensive_orders], axis=0).drop_duplicates()\n",
    "\n",
    "display(abnormal_users.head(5))\n",
    "display(abnormal_users.shape[0]) "
   ]
  },
  {
   "cell_type": "markdown",
   "metadata": {},
   "source": [
    "Таких пользователей получилось 86. Подготовим данные для анализа, удалив id пользователей, находящихся в списке аномальных и добавив нули в столбце 'orders' у тех пользователей, которые не сделали заказов."
   ]
  },
  {
   "cell_type": "code",
   "execution_count": 52,
   "metadata": {},
   "outputs": [],
   "source": [
    "sample_a_filtered = pd.concat(\n",
    "    [orders_by_users_a[np.logical_not(orders_by_users_a['visitor_id'].isin(abnormal_users))]['orders']\\\n",
    "    , pd.Series(0, index=np.arange(data['visitors_per_date_a'].sum() - len(orders_by_users_a['orders'])), name='orders')]\\\n",
    "    , axis=0)\n",
    "\n",
    "sample_b_filtered = pd.concat(\n",
    "    [orders_by_users_b[np.logical_not(orders_by_users_b['visitor_id'].isin(abnormal_users))]['orders']\\\n",
    "    , pd.Series(0, index=np.arange(data['visitors_per_date_b'].sum() - len(orders_by_users_b['orders'])), name='orders')]\\\n",
    "    , axis=0)"
   ]
  },
  {
   "cell_type": "markdown",
   "metadata": {},
   "source": [
    "Снова проверим гипотезу о равенстве конверсии для двух групп, но уже по данным без аномальных значений."
   ]
  },
  {
   "cell_type": "markdown",
   "metadata": {},
   "source": [
    "Н0: Различий в конверсии между группами нет.\n",
    "<br>\n",
    "H1: Различия в конверсии между группами есть."
   ]
  },
  {
   "cell_type": "code",
   "execution_count": 53,
   "metadata": {},
   "outputs": [
    {
     "name": "stdout",
     "output_type": "stream",
     "text": [
      "Отвергаем нулевую гипотезу. Разница статистически значима. Значение p-value 0.016\n"
     ]
    }
   ],
   "source": [
    "alpha = .05\n",
    "result = (stats.mannwhitneyu(sample_a_filtered, sample_b_filtered)[1]).astype(float)\n",
    "if result < alpha:\n",
    "    print(f'Отвергаем нулевую гипотезу. Разница статистически значима. Значение p-value {\"{0:.3f}\".format(result)}')\n",
    "else:\n",
    "    print(f'Не получилось отвергнуть нулевую гипотезу, вывод о различии сделать нельзя. Значение p-value {\"{0:.3f}\".format(result)}')"
   ]
  },
  {
   "cell_type": "markdown",
   "metadata": {},
   "source": [
    "И посчитаем арифметически разницу между средними показателями конверсии."
   ]
  },
  {
   "cell_type": "code",
   "execution_count": 54,
   "metadata": {},
   "outputs": [
    {
     "data": {
      "text/plain": [
       "'0.174'"
      ]
     },
     "execution_count": 54,
     "metadata": {},
     "output_type": "execute_result"
    }
   ],
   "source": [
    "'{0:.3f}'.format(sample_b_filtered.mean()/sample_a_filtered.mean()-1)"
   ]
  },
  {
   "cell_type": "markdown",
   "metadata": {},
   "source": [
    "**Вывод:** Полученное значение p-value по очищенным данным снова позволяет отвергнуть гипотезу о равенстве конверсии между двумя группами. По очищенным данным конверсия группы B выше конверсии группы А на 17,4%. Разница в конверсии по очищенным данным даже выросла на 1,4%, а p-value остался примерно на том же уровне."
   ]
  },
  {
   "cell_type": "markdown",
   "metadata": {},
   "source": [
    "### Гипотеза о различии в среднем чеке между группами по очищенным данным"
   ]
  },
  {
   "cell_type": "markdown",
   "metadata": {},
   "source": [
    "Н0: Различий в среднем чеке между группами нет.\n",
    "<br>\n",
    "H1: Различия в среднем чеке между группами есть."
   ]
  },
  {
   "cell_type": "code",
   "execution_count": 55,
   "metadata": {},
   "outputs": [
    {
     "name": "stdout",
     "output_type": "stream",
     "text": [
      "Не получилось отвергнуть нулевую гипотезу, вывод о различии сделать нельзя. Значение p-value 0.727\n"
     ]
    }
   ],
   "source": [
    "alpha = .05\n",
    "result = stats.mannwhitneyu(orders[np.logical_and(orders['group'] == 'A', np.logical_not(orders['visitor_id'].isin(abnormal_users)))]['revenue']\\\n",
    "                        , orders[np.logical_and(orders['group'] == 'B', np.logical_not(orders['visitor_id'].isin(abnormal_users)))]['revenue'])[1].astype(float)\n",
    "if result < alpha:\n",
    "    print(f'Отвергаем нулевую гипотезу. Разница статистически значима. Значение p-value {\"{0:.3f}\".format(result)}')\n",
    "else:\n",
    "    print(f'Не получилось отвергнуть нулевую гипотезу, вывод о различии сделать нельзя. Значение p-value {\"{0:.3f}\".format(result)}')"
   ]
  },
  {
   "cell_type": "markdown",
   "metadata": {},
   "source": [
    "Рассчитаем относительную разницу в среднем чеке между двумя группами."
   ]
  },
  {
   "cell_type": "code",
   "execution_count": 56,
   "metadata": {},
   "outputs": [
    {
     "data": {
      "text/plain": [
       "'-0.034'"
      ]
     },
     "execution_count": 56,
     "metadata": {},
     "output_type": "execute_result"
    }
   ],
   "source": [
    "\"{0:.3f}\".format(orders[np.logical_and(orders['group'] == 'B', np.logical_not(orders['visitor_id'].isin(abnormal_users)))]['revenue'].mean()\n",
    "        / orders[np.logical_and(orders['group'] == 'A', np.logical_not(orders['visitor_id'].isin(abnormal_users)))]['revenue'].mean() - 1\n",
    "    )"
   ]
  },
  {
   "cell_type": "markdown",
   "metadata": {},
   "source": [
    "**Вывод:** Отвергнуть гипотезу о равенстве среднего чека двух групп снова не удалось, но без учета аномалий арифметический расчет также показывает минимальную разницу."
   ]
  },
  {
   "cell_type": "markdown",
   "metadata": {},
   "source": [
    "## Общий вывод"
   ]
  },
  {
   "cell_type": "markdown",
   "metadata": {},
   "source": [
    "Есть статистически значимое различие по конверсии между группами по «сырым» (p-value = 0.011, относительная разница 16,0%) и очищенным от аномальных значений данным (p-value = 0.016, относительная разница 17,4%);\n",
    "<br>\n",
    "<br>\n",
    "Нет статистически значимого различия по среднему чеку между группами ни по «сырым» (p-value = 0.829, относительная разница 28,7 %), ни очищенным от аномальных значений данным (p-value = 0.727, относительная разница -3,4%);\n",
    "<br>\n",
    "<br>\n",
    "Эксперимент можно остановить и признать его успешным. \n",
    "Несмотря на то что полученное значение p-value не позволило установить разницу в среднем чеке между двумя группами, конверсия группы B показала статистически значимое различие относительно группы А."
   ]
  },
  {
   "cell_type": "code",
   "execution_count": null,
   "metadata": {},
   "outputs": [],
   "source": []
  }
 ],
 "metadata": {
  "ExecuteTimeLog": [
   {
    "duration": 861,
    "start_time": "2022-05-20T07:48:00.315Z"
   },
   {
    "duration": 88,
    "start_time": "2022-05-20T07:48:25.517Z"
   },
   {
    "duration": 25,
    "start_time": "2022-05-20T07:50:19.096Z"
   },
   {
    "duration": 32,
    "start_time": "2022-05-20T07:50:23.767Z"
   },
   {
    "duration": 33,
    "start_time": "2022-05-20T07:50:53.888Z"
   },
   {
    "duration": 30,
    "start_time": "2022-05-20T07:51:03.119Z"
   },
   {
    "duration": 3,
    "start_time": "2022-05-20T07:52:45.272Z"
   },
   {
    "duration": 421,
    "start_time": "2022-05-20T07:56:31.994Z"
   },
   {
    "duration": 70,
    "start_time": "2022-05-20T07:56:55.169Z"
   },
   {
    "duration": 8,
    "start_time": "2022-05-20T07:57:08.354Z"
   },
   {
    "duration": 8,
    "start_time": "2022-05-20T07:59:32.457Z"
   },
   {
    "duration": 8,
    "start_time": "2022-05-20T07:59:38.560Z"
   },
   {
    "duration": 11,
    "start_time": "2022-05-20T08:03:12.863Z"
   },
   {
    "duration": 11,
    "start_time": "2022-05-20T08:03:23.509Z"
   },
   {
    "duration": 12,
    "start_time": "2022-05-20T08:03:28.285Z"
   },
   {
    "duration": 13,
    "start_time": "2022-05-20T08:15:03.733Z"
   },
   {
    "duration": 104,
    "start_time": "2022-05-20T08:26:22.164Z"
   },
   {
    "duration": 54,
    "start_time": "2022-05-20T08:26:37.012Z"
   },
   {
    "duration": 79,
    "start_time": "2022-05-20T08:28:33.211Z"
   },
   {
    "duration": 31,
    "start_time": "2022-05-20T08:28:53.227Z"
   },
   {
    "duration": 4,
    "start_time": "2022-05-20T08:30:40.442Z"
   },
   {
    "duration": 12,
    "start_time": "2022-05-20T08:30:48.401Z"
   },
   {
    "duration": 5,
    "start_time": "2022-05-20T08:31:29.808Z"
   },
   {
    "duration": 5,
    "start_time": "2022-05-20T08:31:37.760Z"
   },
   {
    "duration": 939,
    "start_time": "2022-05-20T08:32:02.208Z"
   },
   {
    "duration": 7,
    "start_time": "2022-05-20T08:32:55.568Z"
   },
   {
    "duration": 18,
    "start_time": "2022-05-20T08:33:26.432Z"
   },
   {
    "duration": 127,
    "start_time": "2022-05-20T08:33:31.432Z"
   },
   {
    "duration": 10,
    "start_time": "2022-05-20T08:34:05.112Z"
   },
   {
    "duration": 8,
    "start_time": "2022-05-20T08:34:12.910Z"
   },
   {
    "duration": 114,
    "start_time": "2022-05-20T08:34:22.559Z"
   },
   {
    "duration": 3,
    "start_time": "2022-05-20T08:34:45.167Z"
   },
   {
    "duration": 6,
    "start_time": "2022-05-20T08:34:53.541Z"
   },
   {
    "duration": 6,
    "start_time": "2022-05-20T08:35:10.990Z"
   },
   {
    "duration": 58,
    "start_time": "2022-05-21T11:31:00.033Z"
   },
   {
    "duration": 451,
    "start_time": "2022-05-21T11:31:07.069Z"
   },
   {
    "duration": 126,
    "start_time": "2022-05-21T11:31:07.525Z"
   },
   {
    "duration": 18,
    "start_time": "2022-05-21T11:31:07.653Z"
   },
   {
    "duration": 15,
    "start_time": "2022-05-21T11:31:07.673Z"
   },
   {
    "duration": 156,
    "start_time": "2022-05-21T11:31:07.690Z"
   },
   {
    "duration": 5,
    "start_time": "2022-05-21T11:31:07.848Z"
   },
   {
    "duration": 37,
    "start_time": "2022-05-21T11:31:07.854Z"
   },
   {
    "duration": 114,
    "start_time": "2022-05-21T11:31:07.893Z"
   },
   {
    "duration": 0,
    "start_time": "2022-05-21T11:31:08.010Z"
   },
   {
    "duration": 0,
    "start_time": "2022-05-21T11:31:08.011Z"
   },
   {
    "duration": 0,
    "start_time": "2022-05-21T11:31:08.012Z"
   },
   {
    "duration": 0,
    "start_time": "2022-05-21T11:31:08.013Z"
   },
   {
    "duration": 0,
    "start_time": "2022-05-21T11:31:08.015Z"
   },
   {
    "duration": 657,
    "start_time": "2022-05-21T11:31:21.272Z"
   },
   {
    "duration": 17,
    "start_time": "2022-05-21T11:34:20.719Z"
   },
   {
    "duration": 5,
    "start_time": "2022-05-21T11:34:35.178Z"
   },
   {
    "duration": 105,
    "start_time": "2022-05-21T11:34:38.277Z"
   },
   {
    "duration": 5,
    "start_time": "2022-05-21T11:34:43.318Z"
   },
   {
    "duration": 6,
    "start_time": "2022-05-21T11:34:45.833Z"
   },
   {
    "duration": 7,
    "start_time": "2022-05-21T11:34:49.228Z"
   },
   {
    "duration": 7,
    "start_time": "2022-05-21T11:34:55.366Z"
   },
   {
    "duration": 9,
    "start_time": "2022-05-21T11:35:00.577Z"
   },
   {
    "duration": 25,
    "start_time": "2022-05-21T11:35:43.379Z"
   },
   {
    "duration": 3,
    "start_time": "2022-05-21T11:36:19.421Z"
   },
   {
    "duration": 44,
    "start_time": "2022-05-21T11:36:26.933Z"
   },
   {
    "duration": 8,
    "start_time": "2022-05-21T11:36:33.465Z"
   },
   {
    "duration": 6,
    "start_time": "2022-05-21T11:38:40.726Z"
   },
   {
    "duration": 10,
    "start_time": "2022-05-21T11:39:10.422Z"
   },
   {
    "duration": 49,
    "start_time": "2022-05-21T11:39:46.079Z"
   },
   {
    "duration": 52,
    "start_time": "2022-05-21T11:39:59.107Z"
   },
   {
    "duration": 12,
    "start_time": "2022-05-21T11:43:02.976Z"
   },
   {
    "duration": 35,
    "start_time": "2022-05-21T11:45:49.590Z"
   },
   {
    "duration": 8,
    "start_time": "2022-05-21T11:51:15.772Z"
   },
   {
    "duration": 5,
    "start_time": "2022-05-21T11:52:26.830Z"
   },
   {
    "duration": 5,
    "start_time": "2022-05-21T11:52:31.282Z"
   },
   {
    "duration": 5,
    "start_time": "2022-05-21T11:54:19.365Z"
   },
   {
    "duration": 4,
    "start_time": "2022-05-21T11:54:20.374Z"
   },
   {
    "duration": 7,
    "start_time": "2022-05-21T11:54:47.512Z"
   },
   {
    "duration": 4,
    "start_time": "2022-05-21T11:54:48.409Z"
   },
   {
    "duration": 5,
    "start_time": "2022-05-21T11:55:07.008Z"
   },
   {
    "duration": 5,
    "start_time": "2022-05-21T11:55:07.505Z"
   },
   {
    "duration": 14,
    "start_time": "2022-05-21T11:55:49.557Z"
   },
   {
    "duration": 9,
    "start_time": "2022-05-21T11:55:50.267Z"
   },
   {
    "duration": 8,
    "start_time": "2022-05-21T11:55:59.710Z"
   },
   {
    "duration": 9,
    "start_time": "2022-05-21T11:56:04.465Z"
   },
   {
    "duration": 16,
    "start_time": "2022-05-21T12:03:40.785Z"
   },
   {
    "duration": 7,
    "start_time": "2022-05-21T12:03:58.041Z"
   },
   {
    "duration": 15,
    "start_time": "2022-05-21T12:04:08.083Z"
   },
   {
    "duration": 4,
    "start_time": "2022-05-21T12:05:48.077Z"
   },
   {
    "duration": 17,
    "start_time": "2022-05-21T12:05:54.994Z"
   },
   {
    "duration": 8,
    "start_time": "2022-05-21T12:06:44.367Z"
   },
   {
    "duration": 436,
    "start_time": "2022-05-21T12:09:32.314Z"
   },
   {
    "duration": 39,
    "start_time": "2022-05-21T12:09:32.753Z"
   },
   {
    "duration": 27,
    "start_time": "2022-05-21T12:09:32.795Z"
   },
   {
    "duration": 19,
    "start_time": "2022-05-21T12:09:32.824Z"
   },
   {
    "duration": 46,
    "start_time": "2022-05-21T12:09:32.846Z"
   },
   {
    "duration": 10,
    "start_time": "2022-05-21T12:09:32.894Z"
   },
   {
    "duration": 37,
    "start_time": "2022-05-21T12:09:32.906Z"
   },
   {
    "duration": 9,
    "start_time": "2022-05-21T12:09:32.945Z"
   },
   {
    "duration": 475,
    "start_time": "2022-05-21T12:09:32.956Z"
   },
   {
    "duration": 5,
    "start_time": "2022-05-21T12:09:33.433Z"
   },
   {
    "duration": 26,
    "start_time": "2022-05-21T12:09:33.439Z"
   },
   {
    "duration": 4,
    "start_time": "2022-05-21T12:09:33.467Z"
   },
   {
    "duration": 12,
    "start_time": "2022-05-21T12:09:33.472Z"
   },
   {
    "duration": 28,
    "start_time": "2022-05-21T12:09:33.487Z"
   },
   {
    "duration": 15,
    "start_time": "2022-05-21T12:09:33.517Z"
   },
   {
    "duration": 8,
    "start_time": "2022-05-21T12:09:33.533Z"
   },
   {
    "duration": 54,
    "start_time": "2022-05-21T12:09:33.542Z"
   },
   {
    "duration": 32,
    "start_time": "2022-05-21T12:09:33.604Z"
   },
   {
    "duration": 12,
    "start_time": "2022-05-21T12:09:33.638Z"
   },
   {
    "duration": 60,
    "start_time": "2022-05-21T12:09:33.651Z"
   },
   {
    "duration": 96,
    "start_time": "2022-05-21T12:09:33.714Z"
   },
   {
    "duration": 0,
    "start_time": "2022-05-21T12:09:33.818Z"
   },
   {
    "duration": 0,
    "start_time": "2022-05-21T12:09:33.818Z"
   },
   {
    "duration": 0,
    "start_time": "2022-05-21T12:09:33.819Z"
   },
   {
    "duration": 419,
    "start_time": "2022-05-21T12:14:55.734Z"
   },
   {
    "duration": 92,
    "start_time": "2022-05-21T12:14:56.155Z"
   },
   {
    "duration": 16,
    "start_time": "2022-05-21T12:14:56.248Z"
   },
   {
    "duration": 13,
    "start_time": "2022-05-21T12:14:56.266Z"
   },
   {
    "duration": 64,
    "start_time": "2022-05-21T12:14:56.281Z"
   },
   {
    "duration": 5,
    "start_time": "2022-05-21T12:14:56.347Z"
   },
   {
    "duration": 8,
    "start_time": "2022-05-21T12:14:56.354Z"
   },
   {
    "duration": 9,
    "start_time": "2022-05-21T12:14:56.363Z"
   },
   {
    "duration": 506,
    "start_time": "2022-05-21T12:14:56.374Z"
   },
   {
    "duration": 28,
    "start_time": "2022-05-21T12:14:56.884Z"
   },
   {
    "duration": 44,
    "start_time": "2022-05-21T12:14:56.917Z"
   },
   {
    "duration": 3,
    "start_time": "2022-05-21T12:14:56.963Z"
   },
   {
    "duration": 12,
    "start_time": "2022-05-21T12:14:56.968Z"
   },
   {
    "duration": 9,
    "start_time": "2022-05-21T12:14:56.981Z"
   },
   {
    "duration": 5,
    "start_time": "2022-05-21T12:14:56.992Z"
   },
   {
    "duration": 42,
    "start_time": "2022-05-21T12:14:56.998Z"
   },
   {
    "duration": 69,
    "start_time": "2022-05-21T12:14:57.042Z"
   },
   {
    "duration": 13,
    "start_time": "2022-05-21T12:14:57.122Z"
   },
   {
    "duration": 11,
    "start_time": "2022-05-21T12:14:57.138Z"
   },
   {
    "duration": 73,
    "start_time": "2022-05-21T12:14:57.150Z"
   },
   {
    "duration": 31,
    "start_time": "2022-05-21T12:14:57.231Z"
   },
   {
    "duration": 9,
    "start_time": "2022-05-21T12:14:57.265Z"
   },
   {
    "duration": 15,
    "start_time": "2022-05-21T12:14:57.276Z"
   },
   {
    "duration": 52,
    "start_time": "2022-05-21T12:14:57.293Z"
   },
   {
    "duration": 10,
    "start_time": "2022-05-21T12:18:07.779Z"
   },
   {
    "duration": 13,
    "start_time": "2022-05-21T12:18:08.643Z"
   },
   {
    "duration": 106,
    "start_time": "2022-05-21T12:18:30.279Z"
   },
   {
    "duration": 20,
    "start_time": "2022-05-21T12:18:35.506Z"
   },
   {
    "duration": 15,
    "start_time": "2022-05-21T12:18:56.627Z"
   },
   {
    "duration": 17,
    "start_time": "2022-05-21T12:19:06.000Z"
   },
   {
    "duration": 9,
    "start_time": "2022-05-21T12:19:07.082Z"
   },
   {
    "duration": 9,
    "start_time": "2022-05-21T12:21:50.475Z"
   },
   {
    "duration": 33,
    "start_time": "2022-05-21T12:22:29.000Z"
   },
   {
    "duration": 12,
    "start_time": "2022-05-21T12:22:30.117Z"
   },
   {
    "duration": 79,
    "start_time": "2022-05-21T12:22:35.645Z"
   },
   {
    "duration": 10,
    "start_time": "2022-05-21T12:22:42.711Z"
   },
   {
    "duration": 23,
    "start_time": "2022-05-21T12:23:35.441Z"
   },
   {
    "duration": 17,
    "start_time": "2022-05-21T12:23:36.247Z"
   },
   {
    "duration": 15,
    "start_time": "2022-05-21T12:23:43.521Z"
   },
   {
    "duration": 17,
    "start_time": "2022-05-21T12:23:44.022Z"
   },
   {
    "duration": 84,
    "start_time": "2022-05-21T12:25:47.336Z"
   },
   {
    "duration": 12,
    "start_time": "2022-05-21T12:25:53.421Z"
   },
   {
    "duration": 32,
    "start_time": "2022-05-21T12:27:14.622Z"
   },
   {
    "duration": 13,
    "start_time": "2022-05-21T12:28:00.222Z"
   },
   {
    "duration": 29,
    "start_time": "2022-05-21T12:28:07.035Z"
   },
   {
    "duration": 17,
    "start_time": "2022-05-21T12:28:35.022Z"
   },
   {
    "duration": 73,
    "start_time": "2022-05-21T12:28:42.407Z"
   },
   {
    "duration": 52,
    "start_time": "2022-05-21T12:29:05.636Z"
   },
   {
    "duration": 96,
    "start_time": "2022-05-21T12:29:12.104Z"
   },
   {
    "duration": 26,
    "start_time": "2022-05-21T12:36:11.233Z"
   },
   {
    "duration": 18,
    "start_time": "2022-05-21T12:36:16.337Z"
   },
   {
    "duration": 28,
    "start_time": "2022-05-21T12:43:21.892Z"
   },
   {
    "duration": 23,
    "start_time": "2022-05-21T12:43:31.732Z"
   },
   {
    "duration": 452,
    "start_time": "2022-05-21T12:44:53.635Z"
   },
   {
    "duration": 65,
    "start_time": "2022-05-21T12:44:54.089Z"
   },
   {
    "duration": 15,
    "start_time": "2022-05-21T12:44:54.157Z"
   },
   {
    "duration": 15,
    "start_time": "2022-05-21T12:44:54.174Z"
   },
   {
    "duration": 92,
    "start_time": "2022-05-21T12:44:54.191Z"
   },
   {
    "duration": 7,
    "start_time": "2022-05-21T12:44:54.285Z"
   },
   {
    "duration": 58,
    "start_time": "2022-05-21T12:44:54.294Z"
   },
   {
    "duration": 12,
    "start_time": "2022-05-21T12:44:54.354Z"
   },
   {
    "duration": 483,
    "start_time": "2022-05-21T12:44:54.367Z"
   },
   {
    "duration": 6,
    "start_time": "2022-05-21T12:44:54.852Z"
   },
   {
    "duration": 26,
    "start_time": "2022-05-21T12:44:54.860Z"
   },
   {
    "duration": 14,
    "start_time": "2022-05-21T12:44:54.888Z"
   },
   {
    "duration": 52,
    "start_time": "2022-05-21T12:44:54.904Z"
   },
   {
    "duration": 7,
    "start_time": "2022-05-21T12:44:54.961Z"
   },
   {
    "duration": 6,
    "start_time": "2022-05-21T12:44:54.970Z"
   },
   {
    "duration": 9,
    "start_time": "2022-05-21T12:44:54.979Z"
   },
   {
    "duration": 164,
    "start_time": "2022-05-21T12:44:54.990Z"
   },
   {
    "duration": 0,
    "start_time": "2022-05-21T12:44:55.155Z"
   },
   {
    "duration": 0,
    "start_time": "2022-05-21T12:44:55.157Z"
   },
   {
    "duration": 0,
    "start_time": "2022-05-21T12:44:55.158Z"
   },
   {
    "duration": 0,
    "start_time": "2022-05-21T12:44:55.160Z"
   },
   {
    "duration": 0,
    "start_time": "2022-05-21T12:44:55.161Z"
   },
   {
    "duration": 0,
    "start_time": "2022-05-21T12:44:55.163Z"
   },
   {
    "duration": 0,
    "start_time": "2022-05-21T12:44:55.164Z"
   },
   {
    "duration": 0,
    "start_time": "2022-05-21T12:44:55.165Z"
   },
   {
    "duration": 0,
    "start_time": "2022-05-21T12:44:55.166Z"
   },
   {
    "duration": 0,
    "start_time": "2022-05-21T12:44:55.167Z"
   },
   {
    "duration": 0,
    "start_time": "2022-05-21T12:44:55.168Z"
   },
   {
    "duration": 0,
    "start_time": "2022-05-21T12:44:55.170Z"
   },
   {
    "duration": 9,
    "start_time": "2022-05-21T12:46:15.945Z"
   },
   {
    "duration": 427,
    "start_time": "2022-05-21T12:47:29.766Z"
   },
   {
    "duration": 68,
    "start_time": "2022-05-21T12:47:30.197Z"
   },
   {
    "duration": 17,
    "start_time": "2022-05-21T12:47:30.267Z"
   },
   {
    "duration": 20,
    "start_time": "2022-05-21T12:47:30.285Z"
   },
   {
    "duration": 132,
    "start_time": "2022-05-21T12:47:30.308Z"
   },
   {
    "duration": 5,
    "start_time": "2022-05-21T12:47:30.442Z"
   },
   {
    "duration": 22,
    "start_time": "2022-05-21T12:47:30.448Z"
   },
   {
    "duration": 30,
    "start_time": "2022-05-21T12:47:30.472Z"
   },
   {
    "duration": 543,
    "start_time": "2022-05-21T12:47:30.505Z"
   },
   {
    "duration": 6,
    "start_time": "2022-05-21T12:47:31.050Z"
   },
   {
    "duration": 33,
    "start_time": "2022-05-21T12:47:31.057Z"
   },
   {
    "duration": 8,
    "start_time": "2022-05-21T12:47:31.092Z"
   },
   {
    "duration": 36,
    "start_time": "2022-05-21T12:47:31.112Z"
   },
   {
    "duration": 15,
    "start_time": "2022-05-21T12:47:31.152Z"
   },
   {
    "duration": 19,
    "start_time": "2022-05-21T12:47:31.169Z"
   },
   {
    "duration": 56,
    "start_time": "2022-05-21T12:47:31.190Z"
   },
   {
    "duration": 114,
    "start_time": "2022-05-21T12:47:31.247Z"
   },
   {
    "duration": 0,
    "start_time": "2022-05-21T12:47:31.362Z"
   },
   {
    "duration": 0,
    "start_time": "2022-05-21T12:47:31.364Z"
   },
   {
    "duration": 0,
    "start_time": "2022-05-21T12:47:31.365Z"
   },
   {
    "duration": 0,
    "start_time": "2022-05-21T12:47:31.366Z"
   },
   {
    "duration": 0,
    "start_time": "2022-05-21T12:47:31.367Z"
   },
   {
    "duration": 0,
    "start_time": "2022-05-21T12:47:31.368Z"
   },
   {
    "duration": 0,
    "start_time": "2022-05-21T12:47:31.369Z"
   },
   {
    "duration": 0,
    "start_time": "2022-05-21T12:47:31.370Z"
   },
   {
    "duration": 0,
    "start_time": "2022-05-21T12:47:31.370Z"
   },
   {
    "duration": 0,
    "start_time": "2022-05-21T12:47:31.372Z"
   },
   {
    "duration": 0,
    "start_time": "2022-05-21T12:47:31.373Z"
   },
   {
    "duration": 0,
    "start_time": "2022-05-21T12:47:31.375Z"
   },
   {
    "duration": 63,
    "start_time": "2022-05-21T12:48:20.743Z"
   },
   {
    "duration": 20,
    "start_time": "2022-05-21T12:48:22.839Z"
   },
   {
    "duration": 14,
    "start_time": "2022-05-21T12:48:34.454Z"
   },
   {
    "duration": 19,
    "start_time": "2022-05-21T12:48:43.023Z"
   },
   {
    "duration": 87,
    "start_time": "2022-05-21T12:48:52.489Z"
   },
   {
    "duration": 22,
    "start_time": "2022-05-21T12:49:00.753Z"
   },
   {
    "duration": 15,
    "start_time": "2022-05-21T12:49:02.058Z"
   },
   {
    "duration": 20,
    "start_time": "2022-05-21T12:49:10.989Z"
   },
   {
    "duration": 12,
    "start_time": "2022-05-21T12:49:11.653Z"
   },
   {
    "duration": 13,
    "start_time": "2022-05-21T12:49:15.556Z"
   },
   {
    "duration": 66,
    "start_time": "2022-05-21T12:49:22.245Z"
   },
   {
    "duration": 23,
    "start_time": "2022-05-21T12:49:27.330Z"
   },
   {
    "duration": 75,
    "start_time": "2022-05-21T12:49:42.350Z"
   },
   {
    "duration": 21,
    "start_time": "2022-05-21T12:49:49.543Z"
   },
   {
    "duration": 28,
    "start_time": "2022-05-21T12:49:54.129Z"
   },
   {
    "duration": 67,
    "start_time": "2022-05-21T12:51:17.934Z"
   },
   {
    "duration": 7,
    "start_time": "2022-05-21T12:51:18.544Z"
   },
   {
    "duration": 33,
    "start_time": "2022-05-21T12:51:29.942Z"
   },
   {
    "duration": 21,
    "start_time": "2022-05-21T12:51:30.834Z"
   },
   {
    "duration": 182,
    "start_time": "2022-05-21T12:55:18.325Z"
   },
   {
    "duration": 159,
    "start_time": "2022-05-21T12:55:30.622Z"
   },
   {
    "duration": 213,
    "start_time": "2022-05-21T12:59:01.626Z"
   },
   {
    "duration": 3,
    "start_time": "2022-05-21T13:02:26.748Z"
   },
   {
    "duration": 147,
    "start_time": "2022-05-21T13:02:34.101Z"
   },
   {
    "duration": 129,
    "start_time": "2022-05-21T13:02:45.638Z"
   },
   {
    "duration": 677,
    "start_time": "2022-05-21T13:08:36.547Z"
   },
   {
    "duration": 296,
    "start_time": "2022-05-21T13:09:16.992Z"
   },
   {
    "duration": 195,
    "start_time": "2022-05-21T13:09:31.582Z"
   },
   {
    "duration": 844,
    "start_time": "2022-05-21T13:11:04.186Z"
   },
   {
    "duration": 177,
    "start_time": "2022-05-21T13:11:13.614Z"
   },
   {
    "duration": 178,
    "start_time": "2022-05-21T13:13:44.609Z"
   },
   {
    "duration": 195,
    "start_time": "2022-05-21T13:21:08.274Z"
   },
   {
    "duration": 223,
    "start_time": "2022-05-21T13:21:19.490Z"
   },
   {
    "duration": 253,
    "start_time": "2022-05-21T13:21:50.594Z"
   },
   {
    "duration": 243,
    "start_time": "2022-05-21T13:22:03.162Z"
   },
   {
    "duration": 217,
    "start_time": "2022-05-21T13:22:10.530Z"
   },
   {
    "duration": 189,
    "start_time": "2022-05-21T13:22:48.688Z"
   },
   {
    "duration": 208,
    "start_time": "2022-05-21T13:23:01.081Z"
   },
   {
    "duration": 381,
    "start_time": "2022-05-21T13:23:15.562Z"
   },
   {
    "duration": 197,
    "start_time": "2022-05-21T13:29:05.988Z"
   },
   {
    "duration": 209,
    "start_time": "2022-05-21T13:29:55.165Z"
   },
   {
    "duration": 207,
    "start_time": "2022-05-21T13:30:02.533Z"
   },
   {
    "duration": 259,
    "start_time": "2022-05-21T13:30:11.987Z"
   },
   {
    "duration": 218,
    "start_time": "2022-05-21T13:30:39.265Z"
   },
   {
    "duration": 115,
    "start_time": "2022-05-21T13:36:15.429Z"
   },
   {
    "duration": 9,
    "start_time": "2022-05-21T13:36:21.558Z"
   },
   {
    "duration": 55,
    "start_time": "2022-05-21T13:38:55.093Z"
   },
   {
    "duration": 296,
    "start_time": "2022-05-21T13:39:00.461Z"
   },
   {
    "duration": 331,
    "start_time": "2022-05-21T13:39:21.674Z"
   },
   {
    "duration": 305,
    "start_time": "2022-05-21T13:39:31.562Z"
   },
   {
    "duration": 881,
    "start_time": "2022-05-21T13:46:13.057Z"
   },
   {
    "duration": 266,
    "start_time": "2022-05-21T13:46:36.367Z"
   },
   {
    "duration": 210,
    "start_time": "2022-05-21T13:56:32.246Z"
   },
   {
    "duration": 402,
    "start_time": "2022-05-21T13:57:26.755Z"
   },
   {
    "duration": 697,
    "start_time": "2022-05-21T14:53:08.409Z"
   },
   {
    "duration": 35,
    "start_time": "2022-05-21T14:53:09.108Z"
   },
   {
    "duration": 14,
    "start_time": "2022-05-21T14:53:09.145Z"
   },
   {
    "duration": 13,
    "start_time": "2022-05-21T14:53:09.161Z"
   },
   {
    "duration": 47,
    "start_time": "2022-05-21T14:53:09.175Z"
   },
   {
    "duration": 6,
    "start_time": "2022-05-21T14:53:09.224Z"
   },
   {
    "duration": 7,
    "start_time": "2022-05-21T14:53:09.231Z"
   },
   {
    "duration": 9,
    "start_time": "2022-05-21T14:53:09.240Z"
   },
   {
    "duration": 188,
    "start_time": "2022-05-21T14:53:09.251Z"
   },
   {
    "duration": 6,
    "start_time": "2022-05-21T14:53:09.441Z"
   },
   {
    "duration": 55,
    "start_time": "2022-05-21T14:53:09.448Z"
   },
   {
    "duration": 4,
    "start_time": "2022-05-21T14:53:09.504Z"
   },
   {
    "duration": 10,
    "start_time": "2022-05-21T14:53:09.509Z"
   },
   {
    "duration": 7,
    "start_time": "2022-05-21T14:53:09.521Z"
   },
   {
    "duration": 7,
    "start_time": "2022-05-21T14:53:09.530Z"
   },
   {
    "duration": 8,
    "start_time": "2022-05-21T14:53:09.539Z"
   },
   {
    "duration": 71,
    "start_time": "2022-05-21T14:53:09.549Z"
   },
   {
    "duration": 8,
    "start_time": "2022-05-21T14:53:09.621Z"
   },
   {
    "duration": 11,
    "start_time": "2022-05-21T14:53:09.631Z"
   },
   {
    "duration": 69,
    "start_time": "2022-05-21T14:53:09.643Z"
   },
   {
    "duration": 20,
    "start_time": "2022-05-21T14:53:09.713Z"
   },
   {
    "duration": 7,
    "start_time": "2022-05-21T14:53:09.735Z"
   },
   {
    "duration": 9,
    "start_time": "2022-05-21T14:53:09.744Z"
   },
   {
    "duration": 7,
    "start_time": "2022-05-21T14:53:09.755Z"
   },
   {
    "duration": 76,
    "start_time": "2022-05-21T14:53:09.764Z"
   },
   {
    "duration": 11,
    "start_time": "2022-05-21T14:53:09.842Z"
   },
   {
    "duration": 75,
    "start_time": "2022-05-21T14:53:09.855Z"
   },
   {
    "duration": 31,
    "start_time": "2022-05-21T14:53:09.934Z"
   },
   {
    "duration": 11,
    "start_time": "2022-05-21T14:53:09.966Z"
   },
   {
    "duration": 318,
    "start_time": "2022-05-21T14:53:09.979Z"
   },
   {
    "duration": 215,
    "start_time": "2022-05-21T14:53:10.299Z"
   },
   {
    "duration": 298,
    "start_time": "2022-05-21T14:53:10.516Z"
   },
   {
    "duration": 228,
    "start_time": "2022-05-21T14:53:10.816Z"
   },
   {
    "duration": 300,
    "start_time": "2022-05-21T14:53:11.046Z"
   },
   {
    "duration": 133,
    "start_time": "2022-05-21T14:55:56.283Z"
   },
   {
    "duration": 223,
    "start_time": "2022-05-21T14:56:09.082Z"
   },
   {
    "duration": 6,
    "start_time": "2022-05-21T14:56:40.581Z"
   },
   {
    "duration": 157,
    "start_time": "2022-05-21T14:56:56.173Z"
   },
   {
    "duration": 173,
    "start_time": "2022-05-21T14:57:03.961Z"
   },
   {
    "duration": 143,
    "start_time": "2022-05-21T15:00:33.491Z"
   },
   {
    "duration": 6,
    "start_time": "2022-05-21T15:05:55.599Z"
   },
   {
    "duration": 129,
    "start_time": "2022-05-21T15:06:15.206Z"
   },
   {
    "duration": 12,
    "start_time": "2022-05-21T15:08:31.425Z"
   },
   {
    "duration": 6,
    "start_time": "2022-05-21T15:09:48.801Z"
   },
   {
    "duration": 10,
    "start_time": "2022-05-21T15:09:53.929Z"
   },
   {
    "duration": 37,
    "start_time": "2022-05-21T15:10:12.533Z"
   },
   {
    "duration": 92,
    "start_time": "2022-05-21T15:10:16.733Z"
   },
   {
    "duration": 13,
    "start_time": "2022-05-21T15:10:27.137Z"
   },
   {
    "duration": 7,
    "start_time": "2022-05-21T15:12:02.150Z"
   },
   {
    "duration": 13,
    "start_time": "2022-05-21T15:12:08.905Z"
   },
   {
    "duration": 125,
    "start_time": "2022-05-21T15:12:57.024Z"
   },
   {
    "duration": 111,
    "start_time": "2022-05-21T15:13:58.149Z"
   },
   {
    "duration": 8,
    "start_time": "2022-05-21T15:14:32.110Z"
   },
   {
    "duration": 3,
    "start_time": "2022-05-21T15:14:52.433Z"
   },
   {
    "duration": 4,
    "start_time": "2022-05-21T15:15:00.220Z"
   },
   {
    "duration": 13,
    "start_time": "2022-05-21T15:21:40.086Z"
   },
   {
    "duration": 133,
    "start_time": "2022-05-21T15:22:16.830Z"
   },
   {
    "duration": 4,
    "start_time": "2022-05-21T15:23:32.436Z"
   },
   {
    "duration": 6,
    "start_time": "2022-05-21T15:33:49.487Z"
   },
   {
    "duration": 66,
    "start_time": "2022-05-21T15:47:09.174Z"
   },
   {
    "duration": 73,
    "start_time": "2022-05-21T15:47:16.715Z"
   },
   {
    "duration": 7,
    "start_time": "2022-05-21T15:48:13.616Z"
   },
   {
    "duration": 105,
    "start_time": "2022-05-21T15:48:14.582Z"
   },
   {
    "duration": 4,
    "start_time": "2022-05-21T15:48:24.711Z"
   },
   {
    "duration": 127,
    "start_time": "2022-05-21T15:49:13.496Z"
   },
   {
    "duration": 81,
    "start_time": "2022-05-21T15:49:19.219Z"
   },
   {
    "duration": 5,
    "start_time": "2022-05-21T15:53:49.576Z"
   },
   {
    "duration": 5,
    "start_time": "2022-05-21T15:53:56.769Z"
   },
   {
    "duration": 5,
    "start_time": "2022-05-21T15:54:50.025Z"
   },
   {
    "duration": 19,
    "start_time": "2022-05-21T15:55:48.886Z"
   },
   {
    "duration": 789,
    "start_time": "2022-05-21T15:56:49.730Z"
   },
   {
    "duration": 39,
    "start_time": "2022-05-21T15:56:56.782Z"
   },
   {
    "duration": 34,
    "start_time": "2022-05-21T15:57:22.806Z"
   },
   {
    "duration": 4,
    "start_time": "2022-05-21T15:58:24.644Z"
   },
   {
    "duration": 5,
    "start_time": "2022-05-21T15:58:40.835Z"
   },
   {
    "duration": 15,
    "start_time": "2022-05-21T16:03:40.210Z"
   },
   {
    "duration": 13,
    "start_time": "2022-05-21T16:06:05.971Z"
   },
   {
    "duration": 40,
    "start_time": "2022-05-21T16:06:54.037Z"
   },
   {
    "duration": 40,
    "start_time": "2022-05-21T16:07:00.657Z"
   },
   {
    "duration": 4,
    "start_time": "2022-05-21T16:07:23.003Z"
   },
   {
    "duration": 5,
    "start_time": "2022-05-21T16:07:35.823Z"
   },
   {
    "duration": 10,
    "start_time": "2022-05-21T16:16:10.974Z"
   },
   {
    "duration": 10,
    "start_time": "2022-05-21T16:17:21.971Z"
   },
   {
    "duration": 5,
    "start_time": "2022-05-21T16:23:20.669Z"
   },
   {
    "duration": 8,
    "start_time": "2022-05-21T16:23:26.968Z"
   },
   {
    "duration": 12,
    "start_time": "2022-05-21T16:24:15.986Z"
   },
   {
    "duration": 8,
    "start_time": "2022-05-21T16:24:21.937Z"
   },
   {
    "duration": 8,
    "start_time": "2022-05-21T16:24:35.626Z"
   },
   {
    "duration": 9,
    "start_time": "2022-05-21T16:25:30.281Z"
   },
   {
    "duration": 29,
    "start_time": "2022-05-21T16:26:09.855Z"
   },
   {
    "duration": 32,
    "start_time": "2022-05-21T16:26:30.170Z"
   },
   {
    "duration": 17,
    "start_time": "2022-05-21T16:32:10.917Z"
   },
   {
    "duration": 1278,
    "start_time": "2022-05-23T08:43:27.320Z"
   },
   {
    "duration": 87,
    "start_time": "2022-05-23T08:43:28.601Z"
   },
   {
    "duration": 15,
    "start_time": "2022-05-23T08:43:28.690Z"
   },
   {
    "duration": 12,
    "start_time": "2022-05-23T08:43:28.707Z"
   },
   {
    "duration": 102,
    "start_time": "2022-05-23T08:43:28.720Z"
   },
   {
    "duration": 5,
    "start_time": "2022-05-23T08:43:28.823Z"
   },
   {
    "duration": 5,
    "start_time": "2022-05-23T08:43:28.829Z"
   },
   {
    "duration": 8,
    "start_time": "2022-05-23T08:43:28.836Z"
   },
   {
    "duration": 196,
    "start_time": "2022-05-23T08:43:28.845Z"
   },
   {
    "duration": 6,
    "start_time": "2022-05-23T08:43:29.043Z"
   },
   {
    "duration": 69,
    "start_time": "2022-05-23T08:43:29.050Z"
   },
   {
    "duration": 3,
    "start_time": "2022-05-23T08:43:29.121Z"
   },
   {
    "duration": 7,
    "start_time": "2022-05-23T08:43:29.125Z"
   },
   {
    "duration": 6,
    "start_time": "2022-05-23T08:43:29.134Z"
   },
   {
    "duration": 9,
    "start_time": "2022-05-23T08:43:29.141Z"
   },
   {
    "duration": 5,
    "start_time": "2022-05-23T08:43:29.152Z"
   },
   {
    "duration": 117,
    "start_time": "2022-05-23T08:43:29.158Z"
   },
   {
    "duration": 10,
    "start_time": "2022-05-23T08:43:29.277Z"
   },
   {
    "duration": 12,
    "start_time": "2022-05-23T08:43:29.289Z"
   },
   {
    "duration": 48,
    "start_time": "2022-05-23T08:43:29.303Z"
   },
   {
    "duration": 43,
    "start_time": "2022-05-23T08:43:29.352Z"
   },
   {
    "duration": 12,
    "start_time": "2022-05-23T08:43:29.397Z"
   },
   {
    "duration": 8,
    "start_time": "2022-05-23T08:43:29.410Z"
   },
   {
    "duration": 7,
    "start_time": "2022-05-23T08:43:29.419Z"
   },
   {
    "duration": 78,
    "start_time": "2022-05-23T08:43:29.427Z"
   },
   {
    "duration": 10,
    "start_time": "2022-05-23T08:43:29.506Z"
   },
   {
    "duration": 52,
    "start_time": "2022-05-23T08:43:29.517Z"
   },
   {
    "duration": 31,
    "start_time": "2022-05-23T08:43:29.576Z"
   },
   {
    "duration": 9,
    "start_time": "2022-05-23T08:43:29.609Z"
   },
   {
    "duration": 363,
    "start_time": "2022-05-23T08:43:29.619Z"
   },
   {
    "duration": 193,
    "start_time": "2022-05-23T08:43:29.984Z"
   },
   {
    "duration": 334,
    "start_time": "2022-05-23T08:43:30.179Z"
   },
   {
    "duration": 213,
    "start_time": "2022-05-23T08:43:30.515Z"
   },
   {
    "duration": 290,
    "start_time": "2022-05-23T08:43:30.729Z"
   },
   {
    "duration": 5,
    "start_time": "2022-05-23T08:43:31.021Z"
   },
   {
    "duration": 116,
    "start_time": "2022-05-23T08:43:31.027Z"
   },
   {
    "duration": 4,
    "start_time": "2022-05-23T08:43:31.145Z"
   },
   {
    "duration": 22,
    "start_time": "2022-05-23T08:43:31.150Z"
   },
   {
    "duration": 121,
    "start_time": "2022-05-23T08:43:31.174Z"
   },
   {
    "duration": 5,
    "start_time": "2022-05-23T08:43:31.296Z"
   },
   {
    "duration": 85,
    "start_time": "2022-05-23T08:43:31.303Z"
   },
   {
    "duration": 99,
    "start_time": "2022-05-23T08:43:31.390Z"
   },
   {
    "duration": 7,
    "start_time": "2022-05-23T08:43:31.492Z"
   },
   {
    "duration": 12,
    "start_time": "2022-05-23T08:43:31.500Z"
   },
   {
    "duration": 31,
    "start_time": "2022-05-23T08:43:31.513Z"
   },
   {
    "duration": 39,
    "start_time": "2022-05-23T08:43:31.546Z"
   },
   {
    "duration": 10,
    "start_time": "2022-05-23T08:43:31.586Z"
   },
   {
    "duration": 30,
    "start_time": "2022-05-23T08:43:31.598Z"
   },
   {
    "duration": 36,
    "start_time": "2022-05-23T08:43:31.630Z"
   },
   {
    "duration": 15,
    "start_time": "2022-05-23T08:43:31.668Z"
   },
   {
    "duration": 8,
    "start_time": "2022-05-23T08:59:29.461Z"
   },
   {
    "duration": 5,
    "start_time": "2022-05-23T09:03:49.818Z"
   },
   {
    "duration": 4,
    "start_time": "2022-05-23T09:03:56.057Z"
   },
   {
    "duration": 4,
    "start_time": "2022-05-23T09:04:08.842Z"
   },
   {
    "duration": 9,
    "start_time": "2022-05-23T09:04:30.596Z"
   },
   {
    "duration": 7,
    "start_time": "2022-05-23T09:04:39.633Z"
   },
   {
    "duration": 5,
    "start_time": "2022-05-23T09:04:42.730Z"
   },
   {
    "duration": 5,
    "start_time": "2022-05-23T09:04:49.345Z"
   },
   {
    "duration": 832,
    "start_time": "2022-05-23T09:06:26.168Z"
   },
   {
    "duration": 240,
    "start_time": "2022-05-23T09:06:51.290Z"
   },
   {
    "duration": 240,
    "start_time": "2022-05-23T09:07:02.746Z"
   },
   {
    "duration": 181,
    "start_time": "2022-05-23T09:07:15.833Z"
   },
   {
    "duration": 210,
    "start_time": "2022-05-23T09:07:23.960Z"
   },
   {
    "duration": 256,
    "start_time": "2022-05-23T09:07:29.054Z"
   },
   {
    "duration": 273,
    "start_time": "2022-05-23T09:07:39.377Z"
   },
   {
    "duration": 373,
    "start_time": "2022-05-23T09:07:45.768Z"
   },
   {
    "duration": 186,
    "start_time": "2022-05-23T09:08:13.550Z"
   },
   {
    "duration": 167,
    "start_time": "2022-05-23T09:08:18.454Z"
   },
   {
    "duration": 8,
    "start_time": "2022-05-23T09:10:09.014Z"
   },
   {
    "duration": 12,
    "start_time": "2022-05-23T09:12:06.894Z"
   },
   {
    "duration": 5,
    "start_time": "2022-05-23T09:12:15.968Z"
   },
   {
    "duration": 78,
    "start_time": "2022-05-23T09:12:57.427Z"
   },
   {
    "duration": 78,
    "start_time": "2022-05-23T09:20:45.518Z"
   },
   {
    "duration": 4,
    "start_time": "2022-05-23T09:20:55.534Z"
   },
   {
    "duration": 6,
    "start_time": "2022-05-23T09:24:31.740Z"
   },
   {
    "duration": 49,
    "start_time": "2022-05-23T11:05:36.390Z"
   },
   {
    "duration": 48,
    "start_time": "2022-05-23T11:09:45.749Z"
   },
   {
    "duration": 1034,
    "start_time": "2022-05-23T11:09:57.911Z"
   },
   {
    "duration": 34,
    "start_time": "2022-05-23T11:09:58.947Z"
   },
   {
    "duration": 12,
    "start_time": "2022-05-23T11:09:58.982Z"
   },
   {
    "duration": 11,
    "start_time": "2022-05-23T11:09:58.996Z"
   },
   {
    "duration": 43,
    "start_time": "2022-05-23T11:09:59.008Z"
   },
   {
    "duration": 4,
    "start_time": "2022-05-23T11:09:59.053Z"
   },
   {
    "duration": 10,
    "start_time": "2022-05-23T11:09:59.059Z"
   },
   {
    "duration": 186,
    "start_time": "2022-05-23T11:09:59.070Z"
   },
   {
    "duration": 19,
    "start_time": "2022-05-23T11:09:59.257Z"
   },
   {
    "duration": 159,
    "start_time": "2022-05-23T11:09:59.278Z"
   },
   {
    "duration": 6,
    "start_time": "2022-05-23T11:09:59.439Z"
   },
   {
    "duration": 13,
    "start_time": "2022-05-23T11:09:59.446Z"
   },
   {
    "duration": 24,
    "start_time": "2022-05-23T11:09:59.461Z"
   },
   {
    "duration": 41,
    "start_time": "2022-05-23T11:09:59.486Z"
   },
   {
    "duration": 3,
    "start_time": "2022-05-23T11:09:59.528Z"
   },
   {
    "duration": 9,
    "start_time": "2022-05-23T11:09:59.533Z"
   },
   {
    "duration": 23,
    "start_time": "2022-05-23T11:09:59.543Z"
   },
   {
    "duration": 6,
    "start_time": "2022-05-23T11:09:59.568Z"
   },
   {
    "duration": 19,
    "start_time": "2022-05-23T11:09:59.575Z"
   },
   {
    "duration": 109,
    "start_time": "2022-05-23T11:09:59.596Z"
   },
   {
    "duration": 11,
    "start_time": "2022-05-23T11:09:59.707Z"
   },
   {
    "duration": 77,
    "start_time": "2022-05-23T11:09:59.719Z"
   },
   {
    "duration": 33,
    "start_time": "2022-05-23T11:09:59.798Z"
   },
   {
    "duration": 42,
    "start_time": "2022-05-23T11:09:59.833Z"
   },
   {
    "duration": 64,
    "start_time": "2022-05-23T11:09:59.876Z"
   },
   {
    "duration": 52,
    "start_time": "2022-05-23T11:09:59.941Z"
   },
   {
    "duration": 76,
    "start_time": "2022-05-23T11:09:59.994Z"
   },
   {
    "duration": 32,
    "start_time": "2022-05-23T11:10:00.073Z"
   },
   {
    "duration": 67,
    "start_time": "2022-05-23T11:10:00.106Z"
   },
   {
    "duration": 34,
    "start_time": "2022-05-23T11:10:00.175Z"
   },
   {
    "duration": 17,
    "start_time": "2022-05-23T11:10:00.212Z"
   },
   {
    "duration": 338,
    "start_time": "2022-05-23T11:10:00.231Z"
   },
   {
    "duration": 191,
    "start_time": "2022-05-23T11:10:00.570Z"
   },
   {
    "duration": 314,
    "start_time": "2022-05-23T11:10:00.763Z"
   },
   {
    "duration": 214,
    "start_time": "2022-05-23T11:10:01.078Z"
   },
   {
    "duration": 302,
    "start_time": "2022-05-23T11:10:01.294Z"
   },
   {
    "duration": 6,
    "start_time": "2022-05-23T11:10:01.597Z"
   },
   {
    "duration": 122,
    "start_time": "2022-05-23T11:10:01.605Z"
   },
   {
    "duration": 4,
    "start_time": "2022-05-23T11:10:01.729Z"
   },
   {
    "duration": 29,
    "start_time": "2022-05-23T11:10:01.734Z"
   },
   {
    "duration": 149,
    "start_time": "2022-05-23T11:10:01.765Z"
   },
   {
    "duration": 6,
    "start_time": "2022-05-23T11:10:01.915Z"
   },
   {
    "duration": 97,
    "start_time": "2022-05-23T11:10:01.922Z"
   },
   {
    "duration": 83,
    "start_time": "2022-05-23T11:10:02.020Z"
   },
   {
    "duration": 37,
    "start_time": "2022-05-23T11:10:02.104Z"
   },
   {
    "duration": 29,
    "start_time": "2022-05-23T11:10:02.143Z"
   },
   {
    "duration": 52,
    "start_time": "2022-05-23T11:10:02.174Z"
   },
   {
    "duration": 12,
    "start_time": "2022-05-23T11:10:02.227Z"
   },
   {
    "duration": 36,
    "start_time": "2022-05-23T11:10:02.241Z"
   },
   {
    "duration": 31,
    "start_time": "2022-05-23T11:10:02.278Z"
   },
   {
    "duration": 63,
    "start_time": "2022-05-23T11:10:02.310Z"
   },
   {
    "duration": 11,
    "start_time": "2022-05-23T11:10:02.375Z"
   },
   {
    "duration": 21,
    "start_time": "2022-05-23T11:13:18.286Z"
   },
   {
    "duration": 78,
    "start_time": "2022-05-23T11:22:03.036Z"
   },
   {
    "duration": 9,
    "start_time": "2022-05-23T11:22:05.026Z"
   },
   {
    "duration": 69,
    "start_time": "2022-05-23T11:22:47.369Z"
   },
   {
    "duration": 54,
    "start_time": "2022-05-23T11:24:48.472Z"
   },
   {
    "duration": 65,
    "start_time": "2022-05-23T12:39:47.535Z"
   },
   {
    "duration": 14,
    "start_time": "2022-05-23T12:40:13.734Z"
   },
   {
    "duration": 75,
    "start_time": "2022-05-23T12:40:22.127Z"
   },
   {
    "duration": 13,
    "start_time": "2022-05-23T12:40:31.942Z"
   },
   {
    "duration": 8,
    "start_time": "2022-05-23T12:40:39.207Z"
   },
   {
    "duration": 8,
    "start_time": "2022-05-23T12:40:41.446Z"
   },
   {
    "duration": 48,
    "start_time": "2022-05-23T13:00:39.156Z"
   },
   {
    "duration": 122,
    "start_time": "2022-05-23T13:05:13.401Z"
   },
   {
    "duration": 32,
    "start_time": "2022-05-23T13:05:32.456Z"
   },
   {
    "duration": 27,
    "start_time": "2022-05-23T13:06:11.889Z"
   },
   {
    "duration": 25,
    "start_time": "2022-05-23T13:06:28.758Z"
   },
   {
    "duration": 5,
    "start_time": "2022-05-23T13:09:03.370Z"
   },
   {
    "duration": 3,
    "start_time": "2022-05-23T13:18:10.447Z"
   },
   {
    "duration": 5,
    "start_time": "2022-05-23T13:19:26.598Z"
   },
   {
    "duration": 8,
    "start_time": "2022-05-23T13:19:33.934Z"
   },
   {
    "duration": 35,
    "start_time": "2022-05-23T13:21:24.956Z"
   },
   {
    "duration": 6,
    "start_time": "2022-05-23T13:27:04.320Z"
   },
   {
    "duration": 12,
    "start_time": "2022-05-23T13:32:36.508Z"
   },
   {
    "duration": 10,
    "start_time": "2022-05-23T13:32:44.371Z"
   },
   {
    "duration": 9,
    "start_time": "2022-05-23T13:33:14.778Z"
   },
   {
    "duration": 8,
    "start_time": "2022-05-23T13:33:21.946Z"
   },
   {
    "duration": 8,
    "start_time": "2022-05-23T13:33:54.306Z"
   },
   {
    "duration": 7,
    "start_time": "2022-05-23T13:38:07.510Z"
   },
   {
    "duration": 27,
    "start_time": "2022-05-23T13:40:38.268Z"
   },
   {
    "duration": 5,
    "start_time": "2022-05-23T13:42:40.227Z"
   },
   {
    "duration": 41,
    "start_time": "2022-05-23T14:04:31.513Z"
   },
   {
    "duration": 57,
    "start_time": "2022-05-23T14:14:03.218Z"
   },
   {
    "duration": 70,
    "start_time": "2022-05-23T14:19:30.150Z"
   },
   {
    "duration": 97,
    "start_time": "2022-05-23T14:20:24.716Z"
   },
   {
    "duration": 41,
    "start_time": "2022-05-23T14:21:09.804Z"
   },
   {
    "duration": 13,
    "start_time": "2022-05-23T14:22:59.858Z"
   },
   {
    "duration": 9,
    "start_time": "2022-05-23T14:24:47.088Z"
   },
   {
    "duration": 1144,
    "start_time": "2022-05-23T14:49:50.677Z"
   },
   {
    "duration": 35,
    "start_time": "2022-05-23T14:49:51.823Z"
   },
   {
    "duration": 16,
    "start_time": "2022-05-23T14:49:51.859Z"
   },
   {
    "duration": 21,
    "start_time": "2022-05-23T14:49:51.878Z"
   },
   {
    "duration": 45,
    "start_time": "2022-05-23T14:49:51.901Z"
   },
   {
    "duration": 6,
    "start_time": "2022-05-23T14:49:51.948Z"
   },
   {
    "duration": 14,
    "start_time": "2022-05-23T14:49:51.956Z"
   },
   {
    "duration": 203,
    "start_time": "2022-05-23T14:49:51.972Z"
   },
   {
    "duration": 11,
    "start_time": "2022-05-23T14:49:52.176Z"
   },
   {
    "duration": 239,
    "start_time": "2022-05-23T14:49:52.190Z"
   },
   {
    "duration": 6,
    "start_time": "2022-05-23T14:49:52.432Z"
   },
   {
    "duration": 13,
    "start_time": "2022-05-23T14:49:52.441Z"
   },
   {
    "duration": 21,
    "start_time": "2022-05-23T14:49:52.455Z"
   },
   {
    "duration": 37,
    "start_time": "2022-05-23T14:49:52.479Z"
   },
   {
    "duration": 5,
    "start_time": "2022-05-23T14:49:52.518Z"
   },
   {
    "duration": 11,
    "start_time": "2022-05-23T14:49:52.525Z"
   },
   {
    "duration": 14,
    "start_time": "2022-05-23T14:49:52.537Z"
   },
   {
    "duration": 15,
    "start_time": "2022-05-23T14:49:52.553Z"
   },
   {
    "duration": 9,
    "start_time": "2022-05-23T14:49:52.570Z"
   },
   {
    "duration": 122,
    "start_time": "2022-05-23T14:49:52.581Z"
   },
   {
    "duration": 11,
    "start_time": "2022-05-23T14:49:52.705Z"
   },
   {
    "duration": 92,
    "start_time": "2022-05-23T14:49:52.718Z"
   },
   {
    "duration": 28,
    "start_time": "2022-05-23T14:49:52.812Z"
   },
   {
    "duration": 18,
    "start_time": "2022-05-23T14:49:52.842Z"
   },
   {
    "duration": 82,
    "start_time": "2022-05-23T14:49:52.862Z"
   },
   {
    "duration": 86,
    "start_time": "2022-05-23T14:49:52.946Z"
   },
   {
    "duration": 23,
    "start_time": "2022-05-23T14:49:53.034Z"
   },
   {
    "duration": 11,
    "start_time": "2022-05-23T14:49:53.074Z"
   },
   {
    "duration": 293,
    "start_time": "2022-05-23T14:49:53.087Z"
   },
   {
    "duration": 203,
    "start_time": "2022-05-23T14:49:53.383Z"
   },
   {
    "duration": 294,
    "start_time": "2022-05-23T14:49:53.587Z"
   },
   {
    "duration": 246,
    "start_time": "2022-05-23T14:49:53.883Z"
   },
   {
    "duration": 305,
    "start_time": "2022-05-23T14:49:54.131Z"
   },
   {
    "duration": 7,
    "start_time": "2022-05-23T14:49:54.437Z"
   },
   {
    "duration": 123,
    "start_time": "2022-05-23T14:49:54.445Z"
   },
   {
    "duration": 5,
    "start_time": "2022-05-23T14:49:54.575Z"
   },
   {
    "duration": 11,
    "start_time": "2022-05-23T14:49:54.581Z"
   },
   {
    "duration": 125,
    "start_time": "2022-05-23T14:49:54.593Z"
   },
   {
    "duration": 5,
    "start_time": "2022-05-23T14:49:54.719Z"
   },
   {
    "duration": 10,
    "start_time": "2022-05-23T14:49:54.725Z"
   },
   {
    "duration": 10,
    "start_time": "2022-05-23T14:49:54.736Z"
   },
   {
    "duration": 9,
    "start_time": "2022-05-23T14:49:54.747Z"
   },
   {
    "duration": 20,
    "start_time": "2022-05-23T14:49:54.757Z"
   },
   {
    "duration": 30,
    "start_time": "2022-05-23T14:49:54.778Z"
   },
   {
    "duration": 4,
    "start_time": "2022-05-23T14:49:54.809Z"
   },
   {
    "duration": 14,
    "start_time": "2022-05-23T14:49:54.814Z"
   },
   {
    "duration": 7,
    "start_time": "2022-05-23T14:49:54.830Z"
   },
   {
    "duration": 13,
    "start_time": "2022-05-23T14:49:54.839Z"
   },
   {
    "duration": 7,
    "start_time": "2022-05-23T14:49:54.874Z"
   },
   {
    "duration": 31,
    "start_time": "2022-05-23T14:49:54.882Z"
   },
   {
    "duration": 3,
    "start_time": "2022-05-23T14:49:54.915Z"
   },
   {
    "duration": 14,
    "start_time": "2022-05-23T14:49:54.920Z"
   },
   {
    "duration": 10,
    "start_time": "2022-05-23T14:49:54.935Z"
   },
   {
    "duration": 1042,
    "start_time": "2022-05-24T11:00:18.095Z"
   },
   {
    "duration": 43,
    "start_time": "2022-05-24T11:00:19.141Z"
   },
   {
    "duration": 20,
    "start_time": "2022-05-24T11:00:19.186Z"
   },
   {
    "duration": 13,
    "start_time": "2022-05-24T11:00:19.209Z"
   },
   {
    "duration": 43,
    "start_time": "2022-05-24T11:00:19.224Z"
   },
   {
    "duration": 5,
    "start_time": "2022-05-24T11:00:19.269Z"
   },
   {
    "duration": 6,
    "start_time": "2022-05-24T11:00:19.276Z"
   },
   {
    "duration": 281,
    "start_time": "2022-05-24T11:00:19.284Z"
   },
   {
    "duration": 11,
    "start_time": "2022-05-24T11:00:19.567Z"
   },
   {
    "duration": 467,
    "start_time": "2022-05-24T11:00:19.582Z"
   },
   {
    "duration": 6,
    "start_time": "2022-05-24T11:00:20.051Z"
   },
   {
    "duration": 17,
    "start_time": "2022-05-24T11:00:20.059Z"
   },
   {
    "duration": 65,
    "start_time": "2022-05-24T11:00:20.078Z"
   },
   {
    "duration": 29,
    "start_time": "2022-05-24T11:00:20.146Z"
   },
   {
    "duration": 7,
    "start_time": "2022-05-24T11:00:20.177Z"
   },
   {
    "duration": 63,
    "start_time": "2022-05-24T11:00:20.186Z"
   },
   {
    "duration": 12,
    "start_time": "2022-05-24T11:00:20.252Z"
   },
   {
    "duration": 14,
    "start_time": "2022-05-24T11:00:20.265Z"
   },
   {
    "duration": 6,
    "start_time": "2022-05-24T11:00:20.281Z"
   },
   {
    "duration": 118,
    "start_time": "2022-05-24T11:00:20.289Z"
   },
   {
    "duration": 4,
    "start_time": "2022-05-24T11:00:20.409Z"
   },
   {
    "duration": 54,
    "start_time": "2022-05-24T11:00:20.415Z"
   },
   {
    "duration": 30,
    "start_time": "2022-05-24T11:00:20.471Z"
   },
   {
    "duration": 39,
    "start_time": "2022-05-24T11:00:20.504Z"
   },
   {
    "duration": 205,
    "start_time": "2022-05-24T11:00:20.545Z"
   },
   {
    "duration": 104,
    "start_time": "2022-05-24T11:00:20.752Z"
   },
   {
    "duration": 27,
    "start_time": "2022-05-24T11:00:20.859Z"
   },
   {
    "duration": 12,
    "start_time": "2022-05-24T11:00:20.940Z"
   },
   {
    "duration": 432,
    "start_time": "2022-05-24T11:00:20.953Z"
   },
   {
    "duration": 240,
    "start_time": "2022-05-24T11:00:21.387Z"
   },
   {
    "duration": 337,
    "start_time": "2022-05-24T11:00:21.629Z"
   },
   {
    "duration": 254,
    "start_time": "2022-05-24T11:00:21.968Z"
   },
   {
    "duration": 361,
    "start_time": "2022-05-24T11:00:22.223Z"
   },
   {
    "duration": 8,
    "start_time": "2022-05-24T11:00:22.586Z"
   },
   {
    "duration": 175,
    "start_time": "2022-05-24T11:00:22.596Z"
   },
   {
    "duration": 6,
    "start_time": "2022-05-24T11:00:22.773Z"
   },
   {
    "duration": 11,
    "start_time": "2022-05-24T11:00:22.781Z"
   },
   {
    "duration": 145,
    "start_time": "2022-05-24T11:00:22.794Z"
   },
   {
    "duration": 7,
    "start_time": "2022-05-24T11:00:22.941Z"
   },
   {
    "duration": 12,
    "start_time": "2022-05-24T11:00:22.949Z"
   },
   {
    "duration": 8,
    "start_time": "2022-05-24T11:00:22.962Z"
   },
   {
    "duration": 10,
    "start_time": "2022-05-24T11:00:22.972Z"
   },
   {
    "duration": 8,
    "start_time": "2022-05-24T11:00:22.984Z"
   },
   {
    "duration": 61,
    "start_time": "2022-05-24T11:00:22.993Z"
   },
   {
    "duration": 5,
    "start_time": "2022-05-24T11:00:23.055Z"
   },
   {
    "duration": 12,
    "start_time": "2022-05-24T11:00:23.061Z"
   },
   {
    "duration": 7,
    "start_time": "2022-05-24T11:00:23.075Z"
   },
   {
    "duration": 10,
    "start_time": "2022-05-24T11:00:23.084Z"
   },
   {
    "duration": 50,
    "start_time": "2022-05-24T11:00:23.096Z"
   },
   {
    "duration": 41,
    "start_time": "2022-05-24T11:00:23.148Z"
   },
   {
    "duration": 6,
    "start_time": "2022-05-24T11:00:23.190Z"
   },
   {
    "duration": 13,
    "start_time": "2022-05-24T11:00:23.198Z"
   },
   {
    "duration": 37,
    "start_time": "2022-05-24T11:00:23.213Z"
   },
   {
    "duration": 9,
    "start_time": "2022-05-24T11:04:51.903Z"
   },
   {
    "duration": 55,
    "start_time": "2022-05-24T11:21:28.862Z"
   },
   {
    "duration": 1290,
    "start_time": "2022-05-24T11:21:35.510Z"
   },
   {
    "duration": 80,
    "start_time": "2022-05-24T11:21:36.803Z"
   },
   {
    "duration": 13,
    "start_time": "2022-05-24T11:21:36.885Z"
   },
   {
    "duration": 13,
    "start_time": "2022-05-24T11:21:36.900Z"
   },
   {
    "duration": 111,
    "start_time": "2022-05-24T11:21:36.915Z"
   },
   {
    "duration": 5,
    "start_time": "2022-05-24T11:21:37.028Z"
   },
   {
    "duration": 12,
    "start_time": "2022-05-24T11:21:37.034Z"
   },
   {
    "duration": 232,
    "start_time": "2022-05-24T11:21:37.048Z"
   },
   {
    "duration": 16,
    "start_time": "2022-05-24T11:21:37.282Z"
   },
   {
    "duration": 202,
    "start_time": "2022-05-24T11:21:37.302Z"
   },
   {
    "duration": 4,
    "start_time": "2022-05-24T11:21:37.506Z"
   },
   {
    "duration": 7,
    "start_time": "2022-05-24T11:21:37.512Z"
   },
   {
    "duration": 9,
    "start_time": "2022-05-24T11:21:37.520Z"
   },
   {
    "duration": 62,
    "start_time": "2022-05-24T11:21:37.531Z"
   },
   {
    "duration": 4,
    "start_time": "2022-05-24T11:21:37.594Z"
   },
   {
    "duration": 9,
    "start_time": "2022-05-24T11:21:37.599Z"
   },
   {
    "duration": 6,
    "start_time": "2022-05-24T11:21:37.610Z"
   },
   {
    "duration": 5,
    "start_time": "2022-05-24T11:21:37.617Z"
   },
   {
    "duration": 5,
    "start_time": "2022-05-24T11:21:37.624Z"
   },
   {
    "duration": 129,
    "start_time": "2022-05-24T11:21:37.630Z"
   },
   {
    "duration": 9,
    "start_time": "2022-05-24T11:21:37.761Z"
   },
   {
    "duration": 66,
    "start_time": "2022-05-24T11:21:37.771Z"
   },
   {
    "duration": 18,
    "start_time": "2022-05-24T11:21:37.838Z"
   },
   {
    "duration": 13,
    "start_time": "2022-05-24T11:21:37.857Z"
   },
   {
    "duration": 73,
    "start_time": "2022-05-24T11:21:37.872Z"
   },
   {
    "duration": 60,
    "start_time": "2022-05-24T11:21:37.947Z"
   },
   {
    "duration": 22,
    "start_time": "2022-05-24T11:21:38.009Z"
   },
   {
    "duration": 9,
    "start_time": "2022-05-24T11:21:38.035Z"
   },
   {
    "duration": 337,
    "start_time": "2022-05-24T11:21:38.046Z"
   },
   {
    "duration": 210,
    "start_time": "2022-05-24T11:21:38.385Z"
   },
   {
    "duration": 350,
    "start_time": "2022-05-24T11:21:38.597Z"
   },
   {
    "duration": 227,
    "start_time": "2022-05-24T11:21:38.949Z"
   },
   {
    "duration": 354,
    "start_time": "2022-05-24T11:21:39.177Z"
   },
   {
    "duration": 6,
    "start_time": "2022-05-24T11:21:39.532Z"
   },
   {
    "duration": 120,
    "start_time": "2022-05-24T11:21:39.540Z"
   },
   {
    "duration": 5,
    "start_time": "2022-05-24T11:21:39.661Z"
   },
   {
    "duration": 7,
    "start_time": "2022-05-24T11:21:39.668Z"
   },
   {
    "duration": 135,
    "start_time": "2022-05-24T11:21:39.677Z"
   },
   {
    "duration": 5,
    "start_time": "2022-05-24T11:21:39.814Z"
   },
   {
    "duration": 9,
    "start_time": "2022-05-24T11:21:39.821Z"
   },
   {
    "duration": 7,
    "start_time": "2022-05-24T11:21:39.832Z"
   },
   {
    "duration": 4,
    "start_time": "2022-05-24T11:21:39.841Z"
   },
   {
    "duration": 6,
    "start_time": "2022-05-24T11:21:39.847Z"
   },
   {
    "duration": 58,
    "start_time": "2022-05-24T11:21:39.855Z"
   },
   {
    "duration": 5,
    "start_time": "2022-05-24T11:21:39.915Z"
   },
   {
    "duration": 12,
    "start_time": "2022-05-24T11:21:39.922Z"
   },
   {
    "duration": 7,
    "start_time": "2022-05-24T11:21:39.936Z"
   },
   {
    "duration": 14,
    "start_time": "2022-05-24T11:21:39.945Z"
   },
   {
    "duration": 10,
    "start_time": "2022-05-24T11:21:39.961Z"
   },
   {
    "duration": 48,
    "start_time": "2022-05-24T11:21:39.973Z"
   },
   {
    "duration": 5,
    "start_time": "2022-05-24T11:21:40.022Z"
   },
   {
    "duration": 14,
    "start_time": "2022-05-24T11:21:40.028Z"
   },
   {
    "duration": 11,
    "start_time": "2022-05-24T11:21:40.044Z"
   },
   {
    "duration": 3,
    "start_time": "2022-05-24T11:22:33.688Z"
   },
   {
    "duration": 6,
    "start_time": "2022-05-24T11:31:39.232Z"
   },
   {
    "duration": 4,
    "start_time": "2022-05-24T11:31:46.679Z"
   },
   {
    "duration": 6,
    "start_time": "2022-05-24T11:31:56.714Z"
   },
   {
    "duration": 726,
    "start_time": "2022-05-24T11:37:22.253Z"
   },
   {
    "duration": 6,
    "start_time": "2022-05-24T11:37:52.388Z"
   },
   {
    "duration": 8,
    "start_time": "2022-05-24T11:38:11.162Z"
   },
   {
    "duration": 7,
    "start_time": "2022-05-24T11:38:19.454Z"
   },
   {
    "duration": 20,
    "start_time": "2022-05-24T11:39:34.521Z"
   },
   {
    "duration": 7,
    "start_time": "2022-05-24T11:39:55.251Z"
   },
   {
    "duration": 15,
    "start_time": "2022-05-24T11:40:20.057Z"
   },
   {
    "duration": 10,
    "start_time": "2022-05-24T11:43:11.079Z"
   },
   {
    "duration": 459,
    "start_time": "2022-05-24T11:43:39.615Z"
   },
   {
    "duration": 18,
    "start_time": "2022-05-24T11:44:05.553Z"
   },
   {
    "duration": 10,
    "start_time": "2022-05-24T11:44:28.366Z"
   },
   {
    "duration": 14,
    "start_time": "2022-05-24T11:46:11.947Z"
   },
   {
    "duration": 12,
    "start_time": "2022-05-24T11:47:25.941Z"
   },
   {
    "duration": 12,
    "start_time": "2022-05-24T11:47:39.980Z"
   },
   {
    "duration": 261,
    "start_time": "2022-05-24T11:52:30.255Z"
   },
   {
    "duration": 237,
    "start_time": "2022-05-24T11:52:37.777Z"
   },
   {
    "duration": 231,
    "start_time": "2022-05-24T11:52:44.950Z"
   },
   {
    "duration": 317,
    "start_time": "2022-05-24T11:55:10.888Z"
   },
   {
    "duration": 208,
    "start_time": "2022-05-24T11:55:33.669Z"
   },
   {
    "duration": 230,
    "start_time": "2022-05-24T11:56:29.797Z"
   },
   {
    "duration": 336,
    "start_time": "2022-05-24T11:57:03.636Z"
   },
   {
    "duration": 329,
    "start_time": "2022-05-24T11:57:08.408Z"
   },
   {
    "duration": 224,
    "start_time": "2022-05-24T11:57:12.924Z"
   },
   {
    "duration": 217,
    "start_time": "2022-05-24T11:57:23.332Z"
   },
   {
    "duration": 286,
    "start_time": "2022-05-24T11:58:15.932Z"
   },
   {
    "duration": 100,
    "start_time": "2022-05-24T11:58:36.978Z"
   },
   {
    "duration": 247,
    "start_time": "2022-05-24T12:00:14.955Z"
   },
   {
    "duration": 278,
    "start_time": "2022-05-24T12:00:22.714Z"
   },
   {
    "duration": 419,
    "start_time": "2022-05-24T12:03:42.064Z"
   },
   {
    "duration": 425,
    "start_time": "2022-05-24T12:03:49.959Z"
   },
   {
    "duration": 535,
    "start_time": "2022-05-24T12:04:44.745Z"
   },
   {
    "duration": 497,
    "start_time": "2022-05-24T12:05:27.410Z"
   },
   {
    "duration": 324,
    "start_time": "2022-05-24T12:06:05.496Z"
   },
   {
    "duration": 165,
    "start_time": "2022-05-24T12:06:56.012Z"
   },
   {
    "duration": 134,
    "start_time": "2022-05-24T12:07:04.964Z"
   },
   {
    "duration": 144,
    "start_time": "2022-05-24T12:07:11.427Z"
   },
   {
    "duration": 251,
    "start_time": "2022-05-24T12:08:17.339Z"
   },
   {
    "duration": 157,
    "start_time": "2022-05-24T12:08:36.266Z"
   },
   {
    "duration": 181,
    "start_time": "2022-05-24T12:09:22.256Z"
   },
   {
    "duration": 213,
    "start_time": "2022-05-24T12:10:54.376Z"
   },
   {
    "duration": 267,
    "start_time": "2022-05-24T12:11:58.054Z"
   },
   {
    "duration": 194,
    "start_time": "2022-05-24T12:12:05.137Z"
   },
   {
    "duration": 438,
    "start_time": "2022-05-24T12:12:16.031Z"
   },
   {
    "duration": 302,
    "start_time": "2022-05-24T12:12:30.361Z"
   },
   {
    "duration": 4,
    "start_time": "2022-05-24T12:38:32.033Z"
   },
   {
    "duration": 7,
    "start_time": "2022-05-24T12:38:38.690Z"
   },
   {
    "duration": 18,
    "start_time": "2022-05-24T12:38:55.795Z"
   },
   {
    "duration": 151,
    "start_time": "2022-05-24T12:39:11.601Z"
   },
   {
    "duration": 6,
    "start_time": "2022-05-24T12:39:50.674Z"
   },
   {
    "duration": 8,
    "start_time": "2022-05-24T12:46:29.283Z"
   },
   {
    "duration": 9,
    "start_time": "2022-05-24T12:46:35.674Z"
   },
   {
    "duration": 53,
    "start_time": "2022-05-24T12:46:38.171Z"
   },
   {
    "duration": 6,
    "start_time": "2022-05-24T12:46:47.235Z"
   },
   {
    "duration": 10,
    "start_time": "2022-05-24T12:47:10.855Z"
   },
   {
    "duration": 10,
    "start_time": "2022-05-24T12:47:13.131Z"
   },
   {
    "duration": 296,
    "start_time": "2022-05-24T12:47:52.339Z"
   },
   {
    "duration": 231,
    "start_time": "2022-05-24T12:48:11.659Z"
   },
   {
    "duration": 226,
    "start_time": "2022-05-24T12:48:20.859Z"
   },
   {
    "duration": 6,
    "start_time": "2022-05-24T13:03:56.234Z"
   },
   {
    "duration": 6,
    "start_time": "2022-05-24T13:04:03.449Z"
   },
   {
    "duration": 6,
    "start_time": "2022-05-24T13:04:10.817Z"
   },
   {
    "duration": 4,
    "start_time": "2022-05-24T13:05:08.824Z"
   },
   {
    "duration": 12,
    "start_time": "2022-05-24T13:05:16.229Z"
   },
   {
    "duration": 47,
    "start_time": "2022-05-24T13:05:57.120Z"
   },
   {
    "duration": 1166,
    "start_time": "2022-05-24T13:06:12.481Z"
   },
   {
    "duration": 37,
    "start_time": "2022-05-24T13:06:13.649Z"
   },
   {
    "duration": 18,
    "start_time": "2022-05-24T13:06:13.688Z"
   },
   {
    "duration": 28,
    "start_time": "2022-05-24T13:06:13.709Z"
   },
   {
    "duration": 67,
    "start_time": "2022-05-24T13:06:13.740Z"
   },
   {
    "duration": 6,
    "start_time": "2022-05-24T13:06:13.809Z"
   },
   {
    "duration": 9,
    "start_time": "2022-05-24T13:06:13.817Z"
   },
   {
    "duration": 237,
    "start_time": "2022-05-24T13:06:13.828Z"
   },
   {
    "duration": 10,
    "start_time": "2022-05-24T13:06:14.067Z"
   },
   {
    "duration": 209,
    "start_time": "2022-05-24T13:06:14.080Z"
   },
   {
    "duration": 12,
    "start_time": "2022-05-24T13:06:14.298Z"
   },
   {
    "duration": 9,
    "start_time": "2022-05-24T13:06:14.312Z"
   },
   {
    "duration": 13,
    "start_time": "2022-05-24T13:06:14.323Z"
   },
   {
    "duration": 30,
    "start_time": "2022-05-24T13:06:14.337Z"
   },
   {
    "duration": 4,
    "start_time": "2022-05-24T13:06:14.369Z"
   },
   {
    "duration": 11,
    "start_time": "2022-05-24T13:06:14.375Z"
   },
   {
    "duration": 25,
    "start_time": "2022-05-24T13:06:14.387Z"
   },
   {
    "duration": 9,
    "start_time": "2022-05-24T13:06:14.414Z"
   },
   {
    "duration": 14,
    "start_time": "2022-05-24T13:06:14.424Z"
   },
   {
    "duration": 202,
    "start_time": "2022-05-24T13:06:14.440Z"
   },
   {
    "duration": 0,
    "start_time": "2022-05-24T13:06:14.644Z"
   },
   {
    "duration": 0,
    "start_time": "2022-05-24T13:06:14.645Z"
   },
   {
    "duration": 0,
    "start_time": "2022-05-24T13:06:14.647Z"
   },
   {
    "duration": 0,
    "start_time": "2022-05-24T13:06:14.648Z"
   },
   {
    "duration": 0,
    "start_time": "2022-05-24T13:06:14.649Z"
   },
   {
    "duration": 0,
    "start_time": "2022-05-24T13:06:14.650Z"
   },
   {
    "duration": 0,
    "start_time": "2022-05-24T13:06:14.651Z"
   },
   {
    "duration": 0,
    "start_time": "2022-05-24T13:06:14.652Z"
   },
   {
    "duration": 0,
    "start_time": "2022-05-24T13:06:14.653Z"
   },
   {
    "duration": 0,
    "start_time": "2022-05-24T13:06:14.654Z"
   },
   {
    "duration": 0,
    "start_time": "2022-05-24T13:06:14.655Z"
   },
   {
    "duration": 0,
    "start_time": "2022-05-24T13:06:14.656Z"
   },
   {
    "duration": 0,
    "start_time": "2022-05-24T13:06:14.656Z"
   },
   {
    "duration": 0,
    "start_time": "2022-05-24T13:06:14.657Z"
   },
   {
    "duration": 0,
    "start_time": "2022-05-24T13:06:14.658Z"
   },
   {
    "duration": 0,
    "start_time": "2022-05-24T13:06:14.659Z"
   },
   {
    "duration": 0,
    "start_time": "2022-05-24T13:06:14.660Z"
   },
   {
    "duration": 0,
    "start_time": "2022-05-24T13:06:14.661Z"
   },
   {
    "duration": 0,
    "start_time": "2022-05-24T13:06:14.662Z"
   },
   {
    "duration": 0,
    "start_time": "2022-05-24T13:06:14.694Z"
   },
   {
    "duration": 0,
    "start_time": "2022-05-24T13:06:14.695Z"
   },
   {
    "duration": 0,
    "start_time": "2022-05-24T13:06:14.696Z"
   },
   {
    "duration": 0,
    "start_time": "2022-05-24T13:06:14.697Z"
   },
   {
    "duration": 0,
    "start_time": "2022-05-24T13:06:14.697Z"
   },
   {
    "duration": 0,
    "start_time": "2022-05-24T13:06:14.698Z"
   },
   {
    "duration": 0,
    "start_time": "2022-05-24T13:06:14.701Z"
   },
   {
    "duration": 0,
    "start_time": "2022-05-24T13:06:14.701Z"
   },
   {
    "duration": 0,
    "start_time": "2022-05-24T13:06:14.702Z"
   },
   {
    "duration": 0,
    "start_time": "2022-05-24T13:06:14.705Z"
   },
   {
    "duration": 0,
    "start_time": "2022-05-24T13:06:14.706Z"
   },
   {
    "duration": 0,
    "start_time": "2022-05-24T13:06:14.707Z"
   },
   {
    "duration": 0,
    "start_time": "2022-05-24T13:06:14.707Z"
   },
   {
    "duration": 0,
    "start_time": "2022-05-24T13:06:14.708Z"
   },
   {
    "duration": 0,
    "start_time": "2022-05-24T13:06:14.708Z"
   },
   {
    "duration": 0,
    "start_time": "2022-05-24T13:06:14.709Z"
   },
   {
    "duration": 0,
    "start_time": "2022-05-24T13:06:14.710Z"
   },
   {
    "duration": 0,
    "start_time": "2022-05-24T13:06:14.710Z"
   },
   {
    "duration": 0,
    "start_time": "2022-05-24T13:06:14.711Z"
   },
   {
    "duration": 1369,
    "start_time": "2022-05-24T13:21:58.174Z"
   },
   {
    "duration": 47,
    "start_time": "2022-05-24T13:21:59.546Z"
   },
   {
    "duration": 22,
    "start_time": "2022-05-24T13:21:59.596Z"
   },
   {
    "duration": 24,
    "start_time": "2022-05-24T13:21:59.622Z"
   },
   {
    "duration": 84,
    "start_time": "2022-05-24T13:21:59.649Z"
   },
   {
    "duration": 8,
    "start_time": "2022-05-24T13:21:59.735Z"
   },
   {
    "duration": 12,
    "start_time": "2022-05-24T13:21:59.746Z"
   },
   {
    "duration": 400,
    "start_time": "2022-05-24T13:21:59.760Z"
   },
   {
    "duration": 16,
    "start_time": "2022-05-24T13:22:00.163Z"
   },
   {
    "duration": 292,
    "start_time": "2022-05-24T13:22:00.201Z"
   },
   {
    "duration": 10,
    "start_time": "2022-05-24T13:22:00.495Z"
   },
   {
    "duration": 45,
    "start_time": "2022-05-24T13:22:00.507Z"
   },
   {
    "duration": 30,
    "start_time": "2022-05-24T13:22:00.554Z"
   },
   {
    "duration": 75,
    "start_time": "2022-05-24T13:22:00.586Z"
   },
   {
    "duration": 6,
    "start_time": "2022-05-24T13:22:00.664Z"
   },
   {
    "duration": 28,
    "start_time": "2022-05-24T13:22:00.673Z"
   },
   {
    "duration": 23,
    "start_time": "2022-05-24T13:22:00.704Z"
   },
   {
    "duration": 30,
    "start_time": "2022-05-24T13:22:00.730Z"
   },
   {
    "duration": 24,
    "start_time": "2022-05-24T13:22:00.763Z"
   },
   {
    "duration": 90,
    "start_time": "2022-05-24T13:22:00.789Z"
   },
   {
    "duration": 40,
    "start_time": "2022-05-24T13:22:00.881Z"
   },
   {
    "duration": 53,
    "start_time": "2022-05-24T13:22:00.924Z"
   },
   {
    "duration": 15,
    "start_time": "2022-05-24T13:22:00.979Z"
   },
   {
    "duration": 33,
    "start_time": "2022-05-24T13:22:00.997Z"
   },
   {
    "duration": 112,
    "start_time": "2022-05-24T13:22:01.033Z"
   },
   {
    "duration": 9,
    "start_time": "2022-05-24T13:22:01.147Z"
   },
   {
    "duration": 68,
    "start_time": "2022-05-24T13:22:01.158Z"
   },
   {
    "duration": 36,
    "start_time": "2022-05-24T13:22:01.230Z"
   },
   {
    "duration": 42,
    "start_time": "2022-05-24T13:22:01.269Z"
   },
   {
    "duration": 102,
    "start_time": "2022-05-24T13:22:01.313Z"
   },
   {
    "duration": 136,
    "start_time": "2022-05-24T13:22:01.417Z"
   },
   {
    "duration": 55,
    "start_time": "2022-05-24T13:22:01.555Z"
   },
   {
    "duration": 40,
    "start_time": "2022-05-24T13:22:01.613Z"
   },
   {
    "duration": 649,
    "start_time": "2022-05-24T13:22:01.655Z"
   },
   {
    "duration": 280,
    "start_time": "2022-05-24T13:22:02.307Z"
   },
   {
    "duration": 410,
    "start_time": "2022-05-24T13:22:02.589Z"
   },
   {
    "duration": 381,
    "start_time": "2022-05-24T13:22:03.001Z"
   },
   {
    "duration": 425,
    "start_time": "2022-05-24T13:22:03.385Z"
   },
   {
    "duration": 9,
    "start_time": "2022-05-24T13:22:03.812Z"
   },
   {
    "duration": 150,
    "start_time": "2022-05-24T13:22:03.824Z"
   },
   {
    "duration": 5,
    "start_time": "2022-05-24T13:22:03.977Z"
   },
   {
    "duration": 170,
    "start_time": "2022-05-24T13:22:03.996Z"
   },
   {
    "duration": 6,
    "start_time": "2022-05-24T13:22:04.168Z"
   },
   {
    "duration": 24,
    "start_time": "2022-05-24T13:22:04.176Z"
   },
   {
    "duration": 11,
    "start_time": "2022-05-24T13:22:04.202Z"
   },
   {
    "duration": 12,
    "start_time": "2022-05-24T13:22:04.215Z"
   },
   {
    "duration": 15,
    "start_time": "2022-05-24T13:22:04.230Z"
   },
   {
    "duration": 46,
    "start_time": "2022-05-24T13:22:04.249Z"
   },
   {
    "duration": 6,
    "start_time": "2022-05-24T13:22:04.297Z"
   },
   {
    "duration": 13,
    "start_time": "2022-05-24T13:22:04.306Z"
   },
   {
    "duration": 11,
    "start_time": "2022-05-24T13:22:04.321Z"
   },
   {
    "duration": 13,
    "start_time": "2022-05-24T13:22:04.334Z"
   },
   {
    "duration": 45,
    "start_time": "2022-05-24T13:22:04.350Z"
   },
   {
    "duration": 32,
    "start_time": "2022-05-24T13:22:04.397Z"
   },
   {
    "duration": 6,
    "start_time": "2022-05-24T13:22:04.432Z"
   },
   {
    "duration": 12,
    "start_time": "2022-05-24T13:22:04.440Z"
   },
   {
    "duration": 42,
    "start_time": "2022-05-24T13:22:04.454Z"
   },
   {
    "duration": 124,
    "start_time": "2022-05-24T13:32:05.874Z"
   },
   {
    "duration": 20,
    "start_time": "2022-05-24T13:32:31.529Z"
   },
   {
    "duration": 7,
    "start_time": "2022-05-24T13:33:49.791Z"
   },
   {
    "duration": 221,
    "start_time": "2022-05-24T13:34:30.167Z"
   },
   {
    "duration": 9,
    "start_time": "2022-05-24T13:34:50.687Z"
   },
   {
    "duration": 9,
    "start_time": "2022-05-24T13:35:08.486Z"
   },
   {
    "duration": 5,
    "start_time": "2022-05-24T13:48:09.413Z"
   },
   {
    "duration": 7,
    "start_time": "2022-05-24T13:48:13.619Z"
   },
   {
    "duration": 16,
    "start_time": "2022-05-24T13:49:04.433Z"
   },
   {
    "duration": 340,
    "start_time": "2022-05-24T13:51:50.120Z"
   },
   {
    "duration": 346,
    "start_time": "2022-05-24T13:51:54.162Z"
   },
   {
    "duration": 377,
    "start_time": "2022-05-24T13:51:58.072Z"
   },
   {
    "duration": 50,
    "start_time": "2022-05-24T13:54:01.358Z"
   },
   {
    "duration": 4,
    "start_time": "2022-05-24T13:54:10.438Z"
   },
   {
    "duration": 9,
    "start_time": "2022-05-24T13:54:29.045Z"
   },
   {
    "duration": 409,
    "start_time": "2022-05-24T14:03:02.160Z"
   },
   {
    "duration": 7,
    "start_time": "2022-05-24T14:03:36.257Z"
   },
   {
    "duration": 6,
    "start_time": "2022-05-24T14:04:38.652Z"
   },
   {
    "duration": 6,
    "start_time": "2022-05-24T14:04:48.233Z"
   },
   {
    "duration": 6,
    "start_time": "2022-05-24T14:04:52.663Z"
   },
   {
    "duration": 14,
    "start_time": "2022-05-24T14:08:10.958Z"
   },
   {
    "duration": 10,
    "start_time": "2022-05-24T14:08:39.477Z"
   },
   {
    "duration": 12,
    "start_time": "2022-05-24T14:11:17.643Z"
   },
   {
    "duration": 7,
    "start_time": "2022-05-24T14:11:42.420Z"
   },
   {
    "duration": 16,
    "start_time": "2022-05-24T14:11:58.913Z"
   },
   {
    "duration": 6,
    "start_time": "2022-05-24T14:12:38.650Z"
   },
   {
    "duration": 9,
    "start_time": "2022-05-24T14:12:44.228Z"
   },
   {
    "duration": 19,
    "start_time": "2022-05-24T14:12:59.041Z"
   },
   {
    "duration": 95,
    "start_time": "2022-05-24T14:17:41.574Z"
   },
   {
    "duration": 4,
    "start_time": "2022-05-24T14:17:43.166Z"
   },
   {
    "duration": 12,
    "start_time": "2022-05-24T14:17:49.014Z"
   },
   {
    "duration": 5,
    "start_time": "2022-05-24T14:19:37.808Z"
   },
   {
    "duration": 15,
    "start_time": "2022-05-24T14:19:44.959Z"
   },
   {
    "duration": 5,
    "start_time": "2022-05-24T14:20:48.612Z"
   },
   {
    "duration": 13,
    "start_time": "2022-05-24T14:20:53.060Z"
   },
   {
    "duration": 11,
    "start_time": "2022-05-24T14:21:45.491Z"
   },
   {
    "duration": 7,
    "start_time": "2022-05-24T14:21:55.346Z"
   },
   {
    "duration": 1024,
    "start_time": "2022-05-24T14:22:38.363Z"
   },
   {
    "duration": 41,
    "start_time": "2022-05-24T14:22:39.389Z"
   },
   {
    "duration": 14,
    "start_time": "2022-05-24T14:22:39.432Z"
   },
   {
    "duration": 12,
    "start_time": "2022-05-24T14:22:39.448Z"
   },
   {
    "duration": 57,
    "start_time": "2022-05-24T14:22:39.461Z"
   },
   {
    "duration": 4,
    "start_time": "2022-05-24T14:22:39.520Z"
   },
   {
    "duration": 6,
    "start_time": "2022-05-24T14:22:39.526Z"
   },
   {
    "duration": 183,
    "start_time": "2022-05-24T14:22:39.533Z"
   },
   {
    "duration": 11,
    "start_time": "2022-05-24T14:22:39.718Z"
   },
   {
    "duration": 177,
    "start_time": "2022-05-24T14:22:39.732Z"
   },
   {
    "duration": 5,
    "start_time": "2022-05-24T14:22:39.912Z"
   },
   {
    "duration": 8,
    "start_time": "2022-05-24T14:22:39.919Z"
   },
   {
    "duration": 7,
    "start_time": "2022-05-24T14:22:39.929Z"
   },
   {
    "duration": 22,
    "start_time": "2022-05-24T14:22:39.938Z"
   },
   {
    "duration": 3,
    "start_time": "2022-05-24T14:22:39.962Z"
   },
   {
    "duration": 7,
    "start_time": "2022-05-24T14:22:39.967Z"
   },
   {
    "duration": 5,
    "start_time": "2022-05-24T14:22:39.995Z"
   },
   {
    "duration": 10,
    "start_time": "2022-05-24T14:22:40.002Z"
   },
   {
    "duration": 94,
    "start_time": "2022-05-24T14:22:40.014Z"
   },
   {
    "duration": 12,
    "start_time": "2022-05-24T14:22:40.110Z"
   },
   {
    "duration": 13,
    "start_time": "2022-05-24T14:22:40.124Z"
   },
   {
    "duration": 12,
    "start_time": "2022-05-24T14:22:40.139Z"
   },
   {
    "duration": 9,
    "start_time": "2022-05-24T14:22:40.152Z"
   },
   {
    "duration": 36,
    "start_time": "2022-05-24T14:22:40.162Z"
   },
   {
    "duration": 7,
    "start_time": "2022-05-24T14:22:40.200Z"
   },
   {
    "duration": 15,
    "start_time": "2022-05-24T14:22:40.208Z"
   },
   {
    "duration": 7,
    "start_time": "2022-05-24T14:22:40.225Z"
   },
   {
    "duration": 4,
    "start_time": "2022-05-24T14:22:40.236Z"
   },
   {
    "duration": 5,
    "start_time": "2022-05-24T14:22:40.242Z"
   },
   {
    "duration": 75,
    "start_time": "2022-05-24T14:22:40.249Z"
   },
   {
    "duration": 4,
    "start_time": "2022-05-24T14:22:40.326Z"
   },
   {
    "duration": 47,
    "start_time": "2022-05-24T14:22:40.331Z"
   },
   {
    "duration": 28,
    "start_time": "2022-05-24T14:22:40.380Z"
   },
   {
    "duration": 12,
    "start_time": "2022-05-24T14:22:40.409Z"
   },
   {
    "duration": 72,
    "start_time": "2022-05-24T14:22:40.423Z"
   },
   {
    "duration": 51,
    "start_time": "2022-05-24T14:22:40.496Z"
   },
   {
    "duration": 20,
    "start_time": "2022-05-24T14:22:40.549Z"
   },
   {
    "duration": 29,
    "start_time": "2022-05-24T14:22:40.571Z"
   },
   {
    "duration": 327,
    "start_time": "2022-05-24T14:22:40.601Z"
   },
   {
    "duration": 212,
    "start_time": "2022-05-24T14:22:40.930Z"
   },
   {
    "duration": 288,
    "start_time": "2022-05-24T14:22:41.144Z"
   },
   {
    "duration": 225,
    "start_time": "2022-05-24T14:22:41.433Z"
   },
   {
    "duration": 322,
    "start_time": "2022-05-24T14:22:41.659Z"
   },
   {
    "duration": 13,
    "start_time": "2022-05-24T14:22:41.983Z"
   },
   {
    "duration": 122,
    "start_time": "2022-05-24T14:22:41.998Z"
   },
   {
    "duration": 3,
    "start_time": "2022-05-24T14:22:42.122Z"
   },
   {
    "duration": 148,
    "start_time": "2022-05-24T14:22:42.126Z"
   },
   {
    "duration": 5,
    "start_time": "2022-05-24T14:22:42.276Z"
   },
   {
    "duration": 14,
    "start_time": "2022-05-24T14:22:42.282Z"
   },
   {
    "duration": 7,
    "start_time": "2022-05-24T14:22:42.297Z"
   },
   {
    "duration": 6,
    "start_time": "2022-05-24T14:22:42.305Z"
   },
   {
    "duration": 5,
    "start_time": "2022-05-24T14:22:42.313Z"
   },
   {
    "duration": 27,
    "start_time": "2022-05-24T14:22:42.319Z"
   },
   {
    "duration": 4,
    "start_time": "2022-05-24T14:22:42.347Z"
   },
   {
    "duration": 10,
    "start_time": "2022-05-24T14:22:42.352Z"
   },
   {
    "duration": 31,
    "start_time": "2022-05-24T14:22:42.364Z"
   },
   {
    "duration": 9,
    "start_time": "2022-05-24T14:22:42.397Z"
   },
   {
    "duration": 9,
    "start_time": "2022-05-24T14:22:42.407Z"
   },
   {
    "duration": 29,
    "start_time": "2022-05-24T14:22:42.418Z"
   },
   {
    "duration": 4,
    "start_time": "2022-05-24T14:22:42.449Z"
   },
   {
    "duration": 10,
    "start_time": "2022-05-24T14:22:42.454Z"
   },
   {
    "duration": 32,
    "start_time": "2022-05-24T14:22:42.465Z"
   },
   {
    "duration": 102,
    "start_time": "2022-05-24T14:27:00.762Z"
   },
   {
    "duration": 15,
    "start_time": "2022-05-24T14:27:22.482Z"
   },
   {
    "duration": 13,
    "start_time": "2022-05-24T14:31:49.409Z"
   },
   {
    "duration": 13,
    "start_time": "2022-05-24T14:32:03.510Z"
   },
   {
    "duration": 13,
    "start_time": "2022-05-24T14:32:14.424Z"
   },
   {
    "duration": 15,
    "start_time": "2022-05-24T14:32:25.119Z"
   },
   {
    "duration": 14,
    "start_time": "2022-05-24T14:32:57.662Z"
   },
   {
    "duration": 1068,
    "start_time": "2022-05-24T14:33:08.142Z"
   },
   {
    "duration": 36,
    "start_time": "2022-05-24T14:33:09.212Z"
   },
   {
    "duration": 13,
    "start_time": "2022-05-24T14:33:09.249Z"
   },
   {
    "duration": 12,
    "start_time": "2022-05-24T14:33:09.264Z"
   },
   {
    "duration": 48,
    "start_time": "2022-05-24T14:33:09.277Z"
   },
   {
    "duration": 5,
    "start_time": "2022-05-24T14:33:09.326Z"
   },
   {
    "duration": 7,
    "start_time": "2022-05-24T14:33:09.332Z"
   },
   {
    "duration": 215,
    "start_time": "2022-05-24T14:33:09.340Z"
   },
   {
    "duration": 10,
    "start_time": "2022-05-24T14:33:09.557Z"
   },
   {
    "duration": 186,
    "start_time": "2022-05-24T14:33:09.570Z"
   },
   {
    "duration": 5,
    "start_time": "2022-05-24T14:33:09.758Z"
   },
   {
    "duration": 9,
    "start_time": "2022-05-24T14:33:09.764Z"
   },
   {
    "duration": 8,
    "start_time": "2022-05-24T14:33:09.775Z"
   },
   {
    "duration": 46,
    "start_time": "2022-05-24T14:33:09.785Z"
   },
   {
    "duration": 4,
    "start_time": "2022-05-24T14:33:09.833Z"
   },
   {
    "duration": 12,
    "start_time": "2022-05-24T14:33:09.838Z"
   },
   {
    "duration": 9,
    "start_time": "2022-05-24T14:33:09.852Z"
   },
   {
    "duration": 8,
    "start_time": "2022-05-24T14:33:09.862Z"
   },
   {
    "duration": 99,
    "start_time": "2022-05-24T14:33:09.872Z"
   },
   {
    "duration": 12,
    "start_time": "2022-05-24T14:33:09.973Z"
   },
   {
    "duration": 30,
    "start_time": "2022-05-24T14:33:09.987Z"
   },
   {
    "duration": 14,
    "start_time": "2022-05-24T14:33:10.018Z"
   },
   {
    "duration": 7,
    "start_time": "2022-05-24T14:33:10.034Z"
   },
   {
    "duration": 8,
    "start_time": "2022-05-24T14:33:10.043Z"
   },
   {
    "duration": 8,
    "start_time": "2022-05-24T14:33:10.052Z"
   },
   {
    "duration": 47,
    "start_time": "2022-05-24T14:33:10.061Z"
   },
   {
    "duration": 8,
    "start_time": "2022-05-24T14:33:10.109Z"
   },
   {
    "duration": 4,
    "start_time": "2022-05-24T14:33:10.122Z"
   },
   {
    "duration": 5,
    "start_time": "2022-05-24T14:33:10.128Z"
   },
   {
    "duration": 79,
    "start_time": "2022-05-24T14:33:10.134Z"
   },
   {
    "duration": 5,
    "start_time": "2022-05-24T14:33:10.216Z"
   },
   {
    "duration": 53,
    "start_time": "2022-05-24T14:33:10.222Z"
   },
   {
    "duration": 28,
    "start_time": "2022-05-24T14:33:10.277Z"
   },
   {
    "duration": 18,
    "start_time": "2022-05-24T14:33:10.307Z"
   },
   {
    "duration": 9,
    "start_time": "2022-05-24T14:33:10.326Z"
   },
   {
    "duration": 63,
    "start_time": "2022-05-24T14:33:10.336Z"
   },
   {
    "duration": 28,
    "start_time": "2022-05-24T14:33:10.401Z"
   },
   {
    "duration": 8,
    "start_time": "2022-05-24T14:33:10.431Z"
   },
   {
    "duration": 327,
    "start_time": "2022-05-24T14:33:10.440Z"
   },
   {
    "duration": 199,
    "start_time": "2022-05-24T14:33:10.768Z"
   },
   {
    "duration": 305,
    "start_time": "2022-05-24T14:33:10.968Z"
   },
   {
    "duration": 197,
    "start_time": "2022-05-24T14:33:11.274Z"
   },
   {
    "duration": 363,
    "start_time": "2022-05-24T14:33:11.472Z"
   },
   {
    "duration": 6,
    "start_time": "2022-05-24T14:33:11.837Z"
   },
   {
    "duration": 174,
    "start_time": "2022-05-24T14:33:11.845Z"
   },
   {
    "duration": 4,
    "start_time": "2022-05-24T14:33:12.020Z"
   },
   {
    "duration": 180,
    "start_time": "2022-05-24T14:33:12.025Z"
   },
   {
    "duration": 8,
    "start_time": "2022-05-24T14:33:12.207Z"
   },
   {
    "duration": 21,
    "start_time": "2022-05-24T14:33:12.217Z"
   },
   {
    "duration": 35,
    "start_time": "2022-05-24T14:33:12.240Z"
   },
   {
    "duration": 13,
    "start_time": "2022-05-24T14:33:12.277Z"
   },
   {
    "duration": 51,
    "start_time": "2022-05-24T14:33:12.292Z"
   },
   {
    "duration": 133,
    "start_time": "2022-05-24T14:33:12.344Z"
   },
   {
    "duration": 0,
    "start_time": "2022-05-24T14:33:12.478Z"
   },
   {
    "duration": 0,
    "start_time": "2022-05-24T14:33:12.479Z"
   },
   {
    "duration": 0,
    "start_time": "2022-05-24T14:33:12.481Z"
   },
   {
    "duration": 0,
    "start_time": "2022-05-24T14:33:12.481Z"
   },
   {
    "duration": 0,
    "start_time": "2022-05-24T14:33:12.482Z"
   },
   {
    "duration": 0,
    "start_time": "2022-05-24T14:33:12.483Z"
   },
   {
    "duration": 0,
    "start_time": "2022-05-24T14:33:12.484Z"
   },
   {
    "duration": 0,
    "start_time": "2022-05-24T14:33:12.485Z"
   },
   {
    "duration": 0,
    "start_time": "2022-05-24T14:33:12.504Z"
   },
   {
    "duration": 1197,
    "start_time": "2022-05-24T14:35:06.614Z"
   },
   {
    "duration": 36,
    "start_time": "2022-05-24T14:35:07.813Z"
   },
   {
    "duration": 14,
    "start_time": "2022-05-24T14:35:07.851Z"
   },
   {
    "duration": 12,
    "start_time": "2022-05-24T14:35:07.867Z"
   },
   {
    "duration": 54,
    "start_time": "2022-05-24T14:35:07.880Z"
   },
   {
    "duration": 6,
    "start_time": "2022-05-24T14:35:07.935Z"
   },
   {
    "duration": 10,
    "start_time": "2022-05-24T14:35:07.942Z"
   },
   {
    "duration": 224,
    "start_time": "2022-05-24T14:35:07.953Z"
   },
   {
    "duration": 23,
    "start_time": "2022-05-24T14:35:08.179Z"
   },
   {
    "duration": 183,
    "start_time": "2022-05-24T14:35:08.206Z"
   },
   {
    "duration": 19,
    "start_time": "2022-05-24T14:35:08.391Z"
   },
   {
    "duration": 13,
    "start_time": "2022-05-24T14:35:08.411Z"
   },
   {
    "duration": 13,
    "start_time": "2022-05-24T14:35:08.425Z"
   },
   {
    "duration": 23,
    "start_time": "2022-05-24T14:35:08.440Z"
   },
   {
    "duration": 4,
    "start_time": "2022-05-24T14:35:08.465Z"
   },
   {
    "duration": 10,
    "start_time": "2022-05-24T14:35:08.471Z"
   },
   {
    "duration": 26,
    "start_time": "2022-05-24T14:35:08.482Z"
   },
   {
    "duration": 17,
    "start_time": "2022-05-24T14:35:08.510Z"
   },
   {
    "duration": 89,
    "start_time": "2022-05-24T14:35:08.529Z"
   },
   {
    "duration": 17,
    "start_time": "2022-05-24T14:35:08.620Z"
   },
   {
    "duration": 16,
    "start_time": "2022-05-24T14:35:08.639Z"
   },
   {
    "duration": 20,
    "start_time": "2022-05-24T14:35:08.657Z"
   },
   {
    "duration": 33,
    "start_time": "2022-05-24T14:35:08.679Z"
   },
   {
    "duration": 5,
    "start_time": "2022-05-24T14:35:08.713Z"
   },
   {
    "duration": 8,
    "start_time": "2022-05-24T14:35:08.720Z"
   },
   {
    "duration": 56,
    "start_time": "2022-05-24T14:35:08.729Z"
   },
   {
    "duration": 21,
    "start_time": "2022-05-24T14:35:08.786Z"
   },
   {
    "duration": 59,
    "start_time": "2022-05-24T14:35:08.811Z"
   },
   {
    "duration": 16,
    "start_time": "2022-05-24T14:35:08.871Z"
   },
   {
    "duration": 24,
    "start_time": "2022-05-24T14:35:08.888Z"
   },
   {
    "duration": 8,
    "start_time": "2022-05-24T14:35:08.914Z"
   },
   {
    "duration": 58,
    "start_time": "2022-05-24T14:35:08.924Z"
   },
   {
    "duration": 44,
    "start_time": "2022-05-24T14:35:08.984Z"
   },
   {
    "duration": 19,
    "start_time": "2022-05-24T14:35:09.029Z"
   },
   {
    "duration": 309,
    "start_time": "2022-05-24T14:35:09.050Z"
   },
   {
    "duration": 192,
    "start_time": "2022-05-24T14:35:09.361Z"
   },
   {
    "duration": 267,
    "start_time": "2022-05-24T14:35:09.554Z"
   },
   {
    "duration": 203,
    "start_time": "2022-05-24T14:35:09.823Z"
   },
   {
    "duration": 305,
    "start_time": "2022-05-24T14:35:10.028Z"
   },
   {
    "duration": 7,
    "start_time": "2022-05-24T14:35:10.334Z"
   },
   {
    "duration": 144,
    "start_time": "2022-05-24T14:35:10.342Z"
   },
   {
    "duration": 18,
    "start_time": "2022-05-24T14:35:10.488Z"
   },
   {
    "duration": 130,
    "start_time": "2022-05-24T14:35:10.508Z"
   },
   {
    "duration": 5,
    "start_time": "2022-05-24T14:35:10.639Z"
   },
   {
    "duration": 8,
    "start_time": "2022-05-24T14:35:10.645Z"
   },
   {
    "duration": 9,
    "start_time": "2022-05-24T14:35:10.654Z"
   },
   {
    "duration": 5,
    "start_time": "2022-05-24T14:35:10.664Z"
   },
   {
    "duration": 6,
    "start_time": "2022-05-24T14:35:10.670Z"
   },
   {
    "duration": 132,
    "start_time": "2022-05-24T14:35:10.678Z"
   },
   {
    "duration": 0,
    "start_time": "2022-05-24T14:35:10.811Z"
   },
   {
    "duration": 0,
    "start_time": "2022-05-24T14:35:10.813Z"
   },
   {
    "duration": 0,
    "start_time": "2022-05-24T14:35:10.813Z"
   },
   {
    "duration": 0,
    "start_time": "2022-05-24T14:35:10.814Z"
   },
   {
    "duration": 0,
    "start_time": "2022-05-24T14:35:10.815Z"
   },
   {
    "duration": 0,
    "start_time": "2022-05-24T14:35:10.816Z"
   },
   {
    "duration": 0,
    "start_time": "2022-05-24T14:35:10.817Z"
   },
   {
    "duration": 0,
    "start_time": "2022-05-24T14:35:10.818Z"
   },
   {
    "duration": 0,
    "start_time": "2022-05-24T14:35:10.819Z"
   },
   {
    "duration": 13,
    "start_time": "2022-05-24T14:37:45.860Z"
   },
   {
    "duration": 19,
    "start_time": "2022-05-24T14:38:27.996Z"
   },
   {
    "duration": 15,
    "start_time": "2022-05-24T14:39:00.322Z"
   },
   {
    "duration": 11,
    "start_time": "2022-05-24T14:39:30.538Z"
   },
   {
    "duration": 5,
    "start_time": "2022-05-24T14:39:36.730Z"
   },
   {
    "duration": 16,
    "start_time": "2022-05-24T14:39:40.310Z"
   },
   {
    "duration": 7,
    "start_time": "2022-05-24T14:40:41.257Z"
   },
   {
    "duration": 7,
    "start_time": "2022-05-24T14:40:49.864Z"
   },
   {
    "duration": 1118,
    "start_time": "2022-05-24T14:40:57.573Z"
   },
   {
    "duration": 45,
    "start_time": "2022-05-24T14:40:58.696Z"
   },
   {
    "duration": 15,
    "start_time": "2022-05-24T14:40:58.743Z"
   },
   {
    "duration": 12,
    "start_time": "2022-05-24T14:40:58.761Z"
   },
   {
    "duration": 55,
    "start_time": "2022-05-24T14:40:58.774Z"
   },
   {
    "duration": 5,
    "start_time": "2022-05-24T14:40:58.831Z"
   },
   {
    "duration": 10,
    "start_time": "2022-05-24T14:40:58.837Z"
   },
   {
    "duration": 210,
    "start_time": "2022-05-24T14:40:58.848Z"
   },
   {
    "duration": 10,
    "start_time": "2022-05-24T14:40:59.060Z"
   },
   {
    "duration": 199,
    "start_time": "2022-05-24T14:40:59.073Z"
   },
   {
    "duration": 5,
    "start_time": "2022-05-24T14:40:59.274Z"
   },
   {
    "duration": 32,
    "start_time": "2022-05-24T14:40:59.280Z"
   },
   {
    "duration": 6,
    "start_time": "2022-05-24T14:40:59.314Z"
   },
   {
    "duration": 25,
    "start_time": "2022-05-24T14:40:59.322Z"
   },
   {
    "duration": 4,
    "start_time": "2022-05-24T14:40:59.349Z"
   },
   {
    "duration": 10,
    "start_time": "2022-05-24T14:40:59.354Z"
   },
   {
    "duration": 8,
    "start_time": "2022-05-24T14:40:59.365Z"
   },
   {
    "duration": 7,
    "start_time": "2022-05-24T14:40:59.374Z"
   },
   {
    "duration": 96,
    "start_time": "2022-05-24T14:40:59.382Z"
   },
   {
    "duration": 33,
    "start_time": "2022-05-24T14:40:59.479Z"
   },
   {
    "duration": 12,
    "start_time": "2022-05-24T14:40:59.514Z"
   },
   {
    "duration": 16,
    "start_time": "2022-05-24T14:40:59.528Z"
   },
   {
    "duration": 6,
    "start_time": "2022-05-24T14:40:59.546Z"
   },
   {
    "duration": 10,
    "start_time": "2022-05-24T14:40:59.553Z"
   },
   {
    "duration": 5,
    "start_time": "2022-05-24T14:40:59.564Z"
   },
   {
    "duration": 68,
    "start_time": "2022-05-24T14:40:59.571Z"
   },
   {
    "duration": 4,
    "start_time": "2022-05-24T14:40:59.641Z"
   },
   {
    "duration": 62,
    "start_time": "2022-05-24T14:40:59.648Z"
   },
   {
    "duration": 26,
    "start_time": "2022-05-24T14:40:59.712Z"
   },
   {
    "duration": 15,
    "start_time": "2022-05-24T14:40:59.739Z"
   },
   {
    "duration": 77,
    "start_time": "2022-05-24T14:40:59.756Z"
   },
   {
    "duration": 81,
    "start_time": "2022-05-24T14:40:59.834Z"
   },
   {
    "duration": 24,
    "start_time": "2022-05-24T14:40:59.918Z"
   },
   {
    "duration": 11,
    "start_time": "2022-05-24T14:40:59.943Z"
   },
   {
    "duration": 374,
    "start_time": "2022-05-24T14:40:59.955Z"
   },
   {
    "duration": 240,
    "start_time": "2022-05-24T14:41:00.331Z"
   },
   {
    "duration": 362,
    "start_time": "2022-05-24T14:41:00.573Z"
   },
   {
    "duration": 246,
    "start_time": "2022-05-24T14:41:00.937Z"
   },
   {
    "duration": 375,
    "start_time": "2022-05-24T14:41:01.185Z"
   },
   {
    "duration": 7,
    "start_time": "2022-05-24T14:41:01.562Z"
   },
   {
    "duration": 151,
    "start_time": "2022-05-24T14:41:01.570Z"
   },
   {
    "duration": 4,
    "start_time": "2022-05-24T14:41:01.723Z"
   },
   {
    "duration": 184,
    "start_time": "2022-05-24T14:41:01.728Z"
   },
   {
    "duration": 5,
    "start_time": "2022-05-24T14:41:01.914Z"
   },
   {
    "duration": 30,
    "start_time": "2022-05-24T14:41:01.921Z"
   },
   {
    "duration": 28,
    "start_time": "2022-05-24T14:41:01.953Z"
   },
   {
    "duration": 31,
    "start_time": "2022-05-24T14:41:01.983Z"
   },
   {
    "duration": 25,
    "start_time": "2022-05-24T14:41:02.016Z"
   },
   {
    "duration": 61,
    "start_time": "2022-05-24T14:41:02.043Z"
   },
   {
    "duration": 5,
    "start_time": "2022-05-24T14:41:02.108Z"
   },
   {
    "duration": 16,
    "start_time": "2022-05-24T14:41:02.114Z"
   },
   {
    "duration": 26,
    "start_time": "2022-05-24T14:41:02.132Z"
   },
   {
    "duration": 32,
    "start_time": "2022-05-24T14:41:02.159Z"
   },
   {
    "duration": 29,
    "start_time": "2022-05-24T14:41:02.193Z"
   },
   {
    "duration": 65,
    "start_time": "2022-05-24T14:41:02.224Z"
   },
   {
    "duration": 10,
    "start_time": "2022-05-24T14:41:02.291Z"
   },
   {
    "duration": 39,
    "start_time": "2022-05-24T14:41:02.307Z"
   },
   {
    "duration": 21,
    "start_time": "2022-05-24T14:41:02.348Z"
   },
   {
    "duration": 7,
    "start_time": "2022-05-24T14:42:17.650Z"
   },
   {
    "duration": 9,
    "start_time": "2022-05-24T14:44:10.352Z"
   },
   {
    "duration": 8,
    "start_time": "2022-05-24T14:44:15.830Z"
   },
   {
    "duration": 38,
    "start_time": "2022-05-24T14:44:17.582Z"
   },
   {
    "duration": 6,
    "start_time": "2022-05-24T14:44:23.527Z"
   },
   {
    "duration": 1113,
    "start_time": "2022-05-24T14:47:18.119Z"
   },
   {
    "duration": 37,
    "start_time": "2022-05-24T14:47:19.234Z"
   },
   {
    "duration": 13,
    "start_time": "2022-05-24T14:47:19.273Z"
   },
   {
    "duration": 21,
    "start_time": "2022-05-24T14:47:19.288Z"
   },
   {
    "duration": 55,
    "start_time": "2022-05-24T14:47:19.311Z"
   },
   {
    "duration": 5,
    "start_time": "2022-05-24T14:47:19.368Z"
   },
   {
    "duration": 9,
    "start_time": "2022-05-24T14:47:19.375Z"
   },
   {
    "duration": 243,
    "start_time": "2022-05-24T14:47:19.386Z"
   },
   {
    "duration": 9,
    "start_time": "2022-05-24T14:47:19.631Z"
   },
   {
    "duration": 184,
    "start_time": "2022-05-24T14:47:19.642Z"
   },
   {
    "duration": 5,
    "start_time": "2022-05-24T14:47:19.828Z"
   },
   {
    "duration": 12,
    "start_time": "2022-05-24T14:47:19.834Z"
   },
   {
    "duration": 7,
    "start_time": "2022-05-24T14:47:19.847Z"
   },
   {
    "duration": 25,
    "start_time": "2022-05-24T14:47:19.856Z"
   },
   {
    "duration": 4,
    "start_time": "2022-05-24T14:47:19.882Z"
   },
   {
    "duration": 29,
    "start_time": "2022-05-24T14:47:19.888Z"
   },
   {
    "duration": 12,
    "start_time": "2022-05-24T14:47:19.919Z"
   },
   {
    "duration": 20,
    "start_time": "2022-05-24T14:47:19.933Z"
   },
   {
    "duration": 16,
    "start_time": "2022-05-24T14:47:19.954Z"
   },
   {
    "duration": 19,
    "start_time": "2022-05-24T14:47:19.972Z"
   },
   {
    "duration": 155,
    "start_time": "2022-05-24T14:47:19.993Z"
   },
   {
    "duration": 7,
    "start_time": "2022-05-24T14:47:20.149Z"
   },
   {
    "duration": 63,
    "start_time": "2022-05-24T14:47:20.158Z"
   },
   {
    "duration": 43,
    "start_time": "2022-05-24T14:47:20.223Z"
   },
   {
    "duration": 16,
    "start_time": "2022-05-24T14:47:20.268Z"
   },
   {
    "duration": 64,
    "start_time": "2022-05-24T14:47:20.285Z"
   },
   {
    "duration": 71,
    "start_time": "2022-05-24T14:47:20.351Z"
   },
   {
    "duration": 22,
    "start_time": "2022-05-24T14:47:20.426Z"
   },
   {
    "duration": 10,
    "start_time": "2022-05-24T14:47:20.449Z"
   },
   {
    "duration": 378,
    "start_time": "2022-05-24T14:47:20.461Z"
   },
   {
    "duration": 249,
    "start_time": "2022-05-24T14:47:20.840Z"
   },
   {
    "duration": 357,
    "start_time": "2022-05-24T14:47:21.090Z"
   },
   {
    "duration": 260,
    "start_time": "2022-05-24T14:47:21.448Z"
   },
   {
    "duration": 378,
    "start_time": "2022-05-24T14:47:21.710Z"
   },
   {
    "duration": 14,
    "start_time": "2022-05-24T14:47:22.090Z"
   },
   {
    "duration": 151,
    "start_time": "2022-05-24T14:47:22.107Z"
   },
   {
    "duration": 6,
    "start_time": "2022-05-24T14:47:22.260Z"
   },
   {
    "duration": 178,
    "start_time": "2022-05-24T14:47:22.268Z"
   },
   {
    "duration": 6,
    "start_time": "2022-05-24T14:47:22.448Z"
   },
   {
    "duration": 16,
    "start_time": "2022-05-24T14:47:22.455Z"
   },
   {
    "duration": 11,
    "start_time": "2022-05-24T14:47:22.473Z"
   },
   {
    "duration": 5,
    "start_time": "2022-05-24T14:47:22.485Z"
   },
   {
    "duration": 19,
    "start_time": "2022-05-24T14:47:22.491Z"
   },
   {
    "duration": 33,
    "start_time": "2022-05-24T14:47:22.512Z"
   },
   {
    "duration": 4,
    "start_time": "2022-05-24T14:47:22.547Z"
   },
   {
    "duration": 15,
    "start_time": "2022-05-24T14:47:22.553Z"
   },
   {
    "duration": 9,
    "start_time": "2022-05-24T14:47:22.569Z"
   },
   {
    "duration": 25,
    "start_time": "2022-05-24T14:47:22.579Z"
   },
   {
    "duration": 15,
    "start_time": "2022-05-24T14:47:22.606Z"
   },
   {
    "duration": 27,
    "start_time": "2022-05-24T14:47:22.622Z"
   },
   {
    "duration": 5,
    "start_time": "2022-05-24T14:47:22.650Z"
   },
   {
    "duration": 11,
    "start_time": "2022-05-24T14:47:22.656Z"
   },
   {
    "duration": 10,
    "start_time": "2022-05-24T14:47:22.669Z"
   },
   {
    "duration": 21,
    "start_time": "2022-05-24T14:53:24.580Z"
   },
   {
    "duration": 1385,
    "start_time": "2022-05-24T18:15:34.784Z"
   },
   {
    "duration": 75,
    "start_time": "2022-05-24T18:15:36.171Z"
   },
   {
    "duration": 16,
    "start_time": "2022-05-24T18:15:36.248Z"
   },
   {
    "duration": 32,
    "start_time": "2022-05-24T18:15:36.267Z"
   },
   {
    "duration": 119,
    "start_time": "2022-05-24T18:15:36.301Z"
   },
   {
    "duration": 6,
    "start_time": "2022-05-24T18:15:36.422Z"
   },
   {
    "duration": 31,
    "start_time": "2022-05-24T18:15:36.430Z"
   },
   {
    "duration": 250,
    "start_time": "2022-05-24T18:15:36.463Z"
   },
   {
    "duration": 27,
    "start_time": "2022-05-24T18:15:36.715Z"
   },
   {
    "duration": 185,
    "start_time": "2022-05-24T18:15:36.746Z"
   },
   {
    "duration": 20,
    "start_time": "2022-05-24T18:15:36.933Z"
   },
   {
    "duration": 16,
    "start_time": "2022-05-24T18:15:36.962Z"
   },
   {
    "duration": 16,
    "start_time": "2022-05-24T18:15:36.980Z"
   },
   {
    "duration": 70,
    "start_time": "2022-05-24T18:15:36.997Z"
   },
   {
    "duration": 4,
    "start_time": "2022-05-24T18:15:37.069Z"
   },
   {
    "duration": 9,
    "start_time": "2022-05-24T18:15:37.075Z"
   },
   {
    "duration": 14,
    "start_time": "2022-05-24T18:15:37.086Z"
   },
   {
    "duration": 11,
    "start_time": "2022-05-24T18:15:37.102Z"
   },
   {
    "duration": 96,
    "start_time": "2022-05-24T18:15:37.114Z"
   },
   {
    "duration": 6,
    "start_time": "2022-05-24T18:15:37.212Z"
   },
   {
    "duration": 30,
    "start_time": "2022-05-24T18:15:37.228Z"
   },
   {
    "duration": 86,
    "start_time": "2022-05-24T18:15:37.260Z"
   },
   {
    "duration": 6,
    "start_time": "2022-05-24T18:15:37.349Z"
   },
   {
    "duration": 54,
    "start_time": "2022-05-24T18:15:37.357Z"
   },
   {
    "duration": 32,
    "start_time": "2022-05-24T18:15:37.415Z"
   },
   {
    "duration": 20,
    "start_time": "2022-05-24T18:15:37.449Z"
   },
   {
    "duration": 84,
    "start_time": "2022-05-24T18:15:37.471Z"
   },
   {
    "duration": 69,
    "start_time": "2022-05-24T18:15:37.560Z"
   },
   {
    "duration": 24,
    "start_time": "2022-05-24T18:15:37.631Z"
   },
   {
    "duration": 12,
    "start_time": "2022-05-24T18:15:37.658Z"
   },
   {
    "duration": 376,
    "start_time": "2022-05-24T18:15:37.672Z"
   },
   {
    "duration": 236,
    "start_time": "2022-05-24T18:15:38.051Z"
   },
   {
    "duration": 405,
    "start_time": "2022-05-24T18:15:38.289Z"
   },
   {
    "duration": 270,
    "start_time": "2022-05-24T18:15:38.696Z"
   },
   {
    "duration": 369,
    "start_time": "2022-05-24T18:15:38.969Z"
   },
   {
    "duration": 11,
    "start_time": "2022-05-24T18:15:39.340Z"
   },
   {
    "duration": 141,
    "start_time": "2022-05-24T18:15:39.354Z"
   },
   {
    "duration": 7,
    "start_time": "2022-05-24T18:15:39.498Z"
   },
   {
    "duration": 164,
    "start_time": "2022-05-24T18:15:39.507Z"
   },
   {
    "duration": 6,
    "start_time": "2022-05-24T18:15:39.674Z"
   },
   {
    "duration": 14,
    "start_time": "2022-05-24T18:15:39.682Z"
   },
   {
    "duration": 10,
    "start_time": "2022-05-24T18:15:39.698Z"
   },
   {
    "duration": 20,
    "start_time": "2022-05-24T18:15:39.710Z"
   },
   {
    "duration": 25,
    "start_time": "2022-05-24T18:15:39.732Z"
   },
   {
    "duration": 28,
    "start_time": "2022-05-24T18:15:39.759Z"
   },
   {
    "duration": 5,
    "start_time": "2022-05-24T18:15:39.789Z"
   },
   {
    "duration": 9,
    "start_time": "2022-05-24T18:15:39.796Z"
   },
   {
    "duration": 25,
    "start_time": "2022-05-24T18:15:39.807Z"
   },
   {
    "duration": 11,
    "start_time": "2022-05-24T18:15:39.834Z"
   },
   {
    "duration": 18,
    "start_time": "2022-05-24T18:15:39.847Z"
   },
   {
    "duration": 33,
    "start_time": "2022-05-24T18:15:39.867Z"
   },
   {
    "duration": 5,
    "start_time": "2022-05-24T18:15:39.901Z"
   },
   {
    "duration": 35,
    "start_time": "2022-05-24T18:15:39.908Z"
   },
   {
    "duration": 17,
    "start_time": "2022-05-24T18:15:39.945Z"
   },
   {
    "duration": 608,
    "start_time": "2022-05-24T18:17:53.108Z"
   },
   {
    "duration": 9,
    "start_time": "2022-05-24T18:18:17.793Z"
   },
   {
    "duration": 7,
    "start_time": "2022-05-24T18:18:35.412Z"
   },
   {
    "duration": 9,
    "start_time": "2022-05-24T18:18:57.629Z"
   },
   {
    "duration": 13,
    "start_time": "2022-05-24T18:19:35.466Z"
   },
   {
    "duration": 51,
    "start_time": "2022-05-24T18:21:26.599Z"
   },
   {
    "duration": 16,
    "start_time": "2022-05-24T18:21:52.003Z"
   },
   {
    "duration": 7,
    "start_time": "2022-05-24T18:21:58.212Z"
   },
   {
    "duration": 8,
    "start_time": "2022-05-24T18:22:06.149Z"
   },
   {
    "duration": 29,
    "start_time": "2022-05-24T18:22:12.792Z"
   },
   {
    "duration": 1068,
    "start_time": "2022-05-24T18:22:58.462Z"
   },
   {
    "duration": 39,
    "start_time": "2022-05-24T18:22:59.532Z"
   },
   {
    "duration": 16,
    "start_time": "2022-05-24T18:22:59.574Z"
   },
   {
    "duration": 14,
    "start_time": "2022-05-24T18:22:59.593Z"
   },
   {
    "duration": 48,
    "start_time": "2022-05-24T18:22:59.609Z"
   },
   {
    "duration": 6,
    "start_time": "2022-05-24T18:22:59.659Z"
   },
   {
    "duration": 14,
    "start_time": "2022-05-24T18:22:59.669Z"
   },
   {
    "duration": 250,
    "start_time": "2022-05-24T18:22:59.685Z"
   },
   {
    "duration": 17,
    "start_time": "2022-05-24T18:22:59.937Z"
   },
   {
    "duration": 206,
    "start_time": "2022-05-24T18:22:59.958Z"
   },
   {
    "duration": 6,
    "start_time": "2022-05-24T18:23:00.166Z"
   },
   {
    "duration": 17,
    "start_time": "2022-05-24T18:23:00.174Z"
   },
   {
    "duration": 10,
    "start_time": "2022-05-24T18:23:00.192Z"
   },
   {
    "duration": 26,
    "start_time": "2022-05-24T18:23:00.204Z"
   },
   {
    "duration": 5,
    "start_time": "2022-05-24T18:23:00.232Z"
   },
   {
    "duration": 17,
    "start_time": "2022-05-24T18:23:00.238Z"
   },
   {
    "duration": 15,
    "start_time": "2022-05-24T18:23:00.258Z"
   },
   {
    "duration": 21,
    "start_time": "2022-05-24T18:23:00.276Z"
   },
   {
    "duration": 16,
    "start_time": "2022-05-24T18:23:00.298Z"
   },
   {
    "duration": 12,
    "start_time": "2022-05-24T18:23:00.316Z"
   },
   {
    "duration": 243,
    "start_time": "2022-05-24T18:23:00.330Z"
   },
   {
    "duration": 0,
    "start_time": "2022-05-24T18:23:00.577Z"
   },
   {
    "duration": 0,
    "start_time": "2022-05-24T18:23:00.579Z"
   },
   {
    "duration": 0,
    "start_time": "2022-05-24T18:23:00.581Z"
   },
   {
    "duration": 0,
    "start_time": "2022-05-24T18:23:00.581Z"
   },
   {
    "duration": 0,
    "start_time": "2022-05-24T18:23:00.582Z"
   },
   {
    "duration": 0,
    "start_time": "2022-05-24T18:23:00.582Z"
   },
   {
    "duration": 0,
    "start_time": "2022-05-24T18:23:00.584Z"
   },
   {
    "duration": 0,
    "start_time": "2022-05-24T18:23:00.585Z"
   },
   {
    "duration": 0,
    "start_time": "2022-05-24T18:23:00.586Z"
   },
   {
    "duration": 0,
    "start_time": "2022-05-24T18:23:00.588Z"
   },
   {
    "duration": 0,
    "start_time": "2022-05-24T18:23:00.589Z"
   },
   {
    "duration": 0,
    "start_time": "2022-05-24T18:23:00.590Z"
   },
   {
    "duration": 0,
    "start_time": "2022-05-24T18:23:00.591Z"
   },
   {
    "duration": 0,
    "start_time": "2022-05-24T18:23:00.593Z"
   },
   {
    "duration": 0,
    "start_time": "2022-05-24T18:23:00.594Z"
   },
   {
    "duration": 0,
    "start_time": "2022-05-24T18:23:00.595Z"
   },
   {
    "duration": 1,
    "start_time": "2022-05-24T18:23:00.596Z"
   },
   {
    "duration": 0,
    "start_time": "2022-05-24T18:23:00.628Z"
   },
   {
    "duration": 0,
    "start_time": "2022-05-24T18:23:00.629Z"
   },
   {
    "duration": 0,
    "start_time": "2022-05-24T18:23:00.631Z"
   },
   {
    "duration": 0,
    "start_time": "2022-05-24T18:23:00.635Z"
   },
   {
    "duration": 1,
    "start_time": "2022-05-24T18:23:00.636Z"
   },
   {
    "duration": 0,
    "start_time": "2022-05-24T18:23:00.639Z"
   },
   {
    "duration": 0,
    "start_time": "2022-05-24T18:23:00.640Z"
   },
   {
    "duration": 0,
    "start_time": "2022-05-24T18:23:00.642Z"
   },
   {
    "duration": 0,
    "start_time": "2022-05-24T18:23:00.643Z"
   },
   {
    "duration": 0,
    "start_time": "2022-05-24T18:23:00.645Z"
   },
   {
    "duration": 0,
    "start_time": "2022-05-24T18:23:00.647Z"
   },
   {
    "duration": 0,
    "start_time": "2022-05-24T18:23:00.648Z"
   },
   {
    "duration": 0,
    "start_time": "2022-05-24T18:23:00.650Z"
   },
   {
    "duration": 0,
    "start_time": "2022-05-24T18:23:00.651Z"
   },
   {
    "duration": 0,
    "start_time": "2022-05-24T18:23:00.653Z"
   },
   {
    "duration": 0,
    "start_time": "2022-05-24T18:23:00.655Z"
   },
   {
    "duration": 0,
    "start_time": "2022-05-24T18:23:00.656Z"
   },
   {
    "duration": 0,
    "start_time": "2022-05-24T18:23:00.657Z"
   },
   {
    "duration": 3,
    "start_time": "2022-05-24T18:23:22.205Z"
   },
   {
    "duration": 27,
    "start_time": "2022-05-24T18:23:30.284Z"
   },
   {
    "duration": 3,
    "start_time": "2022-05-24T18:24:05.276Z"
   },
   {
    "duration": 40,
    "start_time": "2022-05-24T18:24:08.332Z"
   },
   {
    "duration": 12,
    "start_time": "2022-05-24T18:26:59.893Z"
   },
   {
    "duration": 12,
    "start_time": "2022-05-24T18:27:36.112Z"
   },
   {
    "duration": 1042,
    "start_time": "2022-05-24T18:28:38.863Z"
   },
   {
    "duration": 35,
    "start_time": "2022-05-24T18:28:39.907Z"
   },
   {
    "duration": 14,
    "start_time": "2022-05-24T18:28:39.943Z"
   },
   {
    "duration": 12,
    "start_time": "2022-05-24T18:28:39.959Z"
   },
   {
    "duration": 45,
    "start_time": "2022-05-24T18:28:39.972Z"
   },
   {
    "duration": 6,
    "start_time": "2022-05-24T18:28:40.018Z"
   },
   {
    "duration": 9,
    "start_time": "2022-05-24T18:28:40.025Z"
   },
   {
    "duration": 187,
    "start_time": "2022-05-24T18:28:40.035Z"
   },
   {
    "duration": 9,
    "start_time": "2022-05-24T18:28:40.223Z"
   },
   {
    "duration": 164,
    "start_time": "2022-05-24T18:28:40.234Z"
   },
   {
    "duration": 4,
    "start_time": "2022-05-24T18:28:40.400Z"
   },
   {
    "duration": 22,
    "start_time": "2022-05-24T18:28:40.406Z"
   },
   {
    "duration": 6,
    "start_time": "2022-05-24T18:28:40.429Z"
   },
   {
    "duration": 22,
    "start_time": "2022-05-24T18:28:40.437Z"
   },
   {
    "duration": 3,
    "start_time": "2022-05-24T18:28:40.460Z"
   },
   {
    "duration": 8,
    "start_time": "2022-05-24T18:28:40.465Z"
   },
   {
    "duration": 13,
    "start_time": "2022-05-24T18:28:40.475Z"
   },
   {
    "duration": 13,
    "start_time": "2022-05-24T18:28:40.490Z"
   },
   {
    "duration": 24,
    "start_time": "2022-05-24T18:28:40.505Z"
   },
   {
    "duration": 3,
    "start_time": "2022-05-24T18:28:40.531Z"
   },
   {
    "duration": 97,
    "start_time": "2022-05-24T18:28:40.535Z"
   },
   {
    "duration": 7,
    "start_time": "2022-05-24T18:28:40.634Z"
   },
   {
    "duration": 5,
    "start_time": "2022-05-24T18:28:40.643Z"
   },
   {
    "duration": 51,
    "start_time": "2022-05-24T18:28:40.650Z"
   },
   {
    "duration": 4,
    "start_time": "2022-05-24T18:28:40.703Z"
   },
   {
    "duration": 52,
    "start_time": "2022-05-24T18:28:40.726Z"
   },
   {
    "duration": 27,
    "start_time": "2022-05-24T18:28:40.779Z"
   },
   {
    "duration": 13,
    "start_time": "2022-05-24T18:28:40.827Z"
   },
   {
    "duration": 58,
    "start_time": "2022-05-24T18:28:40.842Z"
   },
   {
    "duration": 79,
    "start_time": "2022-05-24T18:28:40.902Z"
   },
   {
    "duration": 31,
    "start_time": "2022-05-24T18:28:40.983Z"
   },
   {
    "duration": 9,
    "start_time": "2022-05-24T18:28:41.028Z"
   },
   {
    "duration": 321,
    "start_time": "2022-05-24T18:28:41.039Z"
   },
   {
    "duration": 216,
    "start_time": "2022-05-24T18:28:41.362Z"
   },
   {
    "duration": 291,
    "start_time": "2022-05-24T18:28:41.579Z"
   },
   {
    "duration": 256,
    "start_time": "2022-05-24T18:28:41.871Z"
   },
   {
    "duration": 333,
    "start_time": "2022-05-24T18:28:42.129Z"
   },
   {
    "duration": 7,
    "start_time": "2022-05-24T18:28:42.463Z"
   },
   {
    "duration": 137,
    "start_time": "2022-05-24T18:28:42.471Z"
   },
   {
    "duration": 5,
    "start_time": "2022-05-24T18:28:42.610Z"
   },
   {
    "duration": 127,
    "start_time": "2022-05-24T18:28:42.627Z"
   },
   {
    "duration": 5,
    "start_time": "2022-05-24T18:28:42.755Z"
   },
   {
    "duration": 9,
    "start_time": "2022-05-24T18:28:42.762Z"
   },
   {
    "duration": 11,
    "start_time": "2022-05-24T18:28:42.772Z"
   },
   {
    "duration": 6,
    "start_time": "2022-05-24T18:28:42.784Z"
   },
   {
    "duration": 7,
    "start_time": "2022-05-24T18:28:42.791Z"
   },
   {
    "duration": 45,
    "start_time": "2022-05-24T18:28:42.800Z"
   },
   {
    "duration": 5,
    "start_time": "2022-05-24T18:28:42.846Z"
   },
   {
    "duration": 12,
    "start_time": "2022-05-24T18:28:42.852Z"
   },
   {
    "duration": 7,
    "start_time": "2022-05-24T18:28:42.865Z"
   },
   {
    "duration": 10,
    "start_time": "2022-05-24T18:28:42.874Z"
   },
   {
    "duration": 10,
    "start_time": "2022-05-24T18:28:42.886Z"
   },
   {
    "duration": 56,
    "start_time": "2022-05-24T18:28:42.898Z"
   },
   {
    "duration": 6,
    "start_time": "2022-05-24T18:28:42.956Z"
   },
   {
    "duration": 12,
    "start_time": "2022-05-24T18:28:42.963Z"
   },
   {
    "duration": 10,
    "start_time": "2022-05-24T18:28:42.978Z"
   },
   {
    "duration": 11,
    "start_time": "2022-05-24T18:40:50.541Z"
   },
   {
    "duration": 9,
    "start_time": "2022-05-24T18:41:02.056Z"
   },
   {
    "duration": 1117,
    "start_time": "2022-05-24T18:41:09.616Z"
   },
   {
    "duration": 36,
    "start_time": "2022-05-24T18:41:10.735Z"
   },
   {
    "duration": 13,
    "start_time": "2022-05-24T18:41:10.773Z"
   },
   {
    "duration": 11,
    "start_time": "2022-05-24T18:41:10.788Z"
   },
   {
    "duration": 45,
    "start_time": "2022-05-24T18:41:10.801Z"
   },
   {
    "duration": 5,
    "start_time": "2022-05-24T18:41:10.848Z"
   },
   {
    "duration": 6,
    "start_time": "2022-05-24T18:41:10.856Z"
   },
   {
    "duration": 183,
    "start_time": "2022-05-24T18:41:10.864Z"
   },
   {
    "duration": 9,
    "start_time": "2022-05-24T18:41:11.049Z"
   },
   {
    "duration": 170,
    "start_time": "2022-05-24T18:41:11.061Z"
   },
   {
    "duration": 5,
    "start_time": "2022-05-24T18:41:11.232Z"
   },
   {
    "duration": 9,
    "start_time": "2022-05-24T18:41:11.238Z"
   },
   {
    "duration": 20,
    "start_time": "2022-05-24T18:41:11.248Z"
   },
   {
    "duration": 35,
    "start_time": "2022-05-24T18:41:11.270Z"
   },
   {
    "duration": 4,
    "start_time": "2022-05-24T18:41:11.307Z"
   },
   {
    "duration": 15,
    "start_time": "2022-05-24T18:41:11.312Z"
   },
   {
    "duration": 10,
    "start_time": "2022-05-24T18:41:11.328Z"
   },
   {
    "duration": 10,
    "start_time": "2022-05-24T18:41:11.339Z"
   },
   {
    "duration": 7,
    "start_time": "2022-05-24T18:41:11.350Z"
   },
   {
    "duration": 8,
    "start_time": "2022-05-24T18:41:11.358Z"
   },
   {
    "duration": 10,
    "start_time": "2022-05-24T18:41:11.367Z"
   },
   {
    "duration": 87,
    "start_time": "2022-05-24T18:41:11.379Z"
   },
   {
    "duration": 26,
    "start_time": "2022-05-24T18:41:11.468Z"
   },
   {
    "duration": 39,
    "start_time": "2022-05-24T18:41:11.495Z"
   },
   {
    "duration": 51,
    "start_time": "2022-05-24T18:41:11.536Z"
   },
   {
    "duration": 4,
    "start_time": "2022-05-24T18:41:11.589Z"
   },
   {
    "duration": 62,
    "start_time": "2022-05-24T18:41:11.594Z"
   },
   {
    "duration": 18,
    "start_time": "2022-05-24T18:41:11.660Z"
   },
   {
    "duration": 12,
    "start_time": "2022-05-24T18:41:11.679Z"
   },
   {
    "duration": 75,
    "start_time": "2022-05-24T18:41:11.693Z"
   },
   {
    "duration": 66,
    "start_time": "2022-05-24T18:41:11.770Z"
   },
   {
    "duration": 20,
    "start_time": "2022-05-24T18:41:11.838Z"
   },
   {
    "duration": 13,
    "start_time": "2022-05-24T18:41:11.859Z"
   },
   {
    "duration": 328,
    "start_time": "2022-05-24T18:41:11.874Z"
   },
   {
    "duration": 217,
    "start_time": "2022-05-24T18:41:12.204Z"
   },
   {
    "duration": 372,
    "start_time": "2022-05-24T18:41:12.427Z"
   },
   {
    "duration": 233,
    "start_time": "2022-05-24T18:41:12.800Z"
   },
   {
    "duration": 353,
    "start_time": "2022-05-24T18:41:13.035Z"
   },
   {
    "duration": 6,
    "start_time": "2022-05-24T18:41:13.390Z"
   },
   {
    "duration": 167,
    "start_time": "2022-05-24T18:41:13.398Z"
   },
   {
    "duration": 10,
    "start_time": "2022-05-24T18:41:13.567Z"
   },
   {
    "duration": 139,
    "start_time": "2022-05-24T18:41:13.580Z"
   },
   {
    "duration": 5,
    "start_time": "2022-05-24T18:41:13.727Z"
   },
   {
    "duration": 23,
    "start_time": "2022-05-24T18:41:13.734Z"
   },
   {
    "duration": 24,
    "start_time": "2022-05-24T18:41:13.758Z"
   },
   {
    "duration": 36,
    "start_time": "2022-05-24T18:41:13.783Z"
   },
   {
    "duration": 57,
    "start_time": "2022-05-24T18:41:13.821Z"
   },
   {
    "duration": 70,
    "start_time": "2022-05-24T18:41:13.883Z"
   },
   {
    "duration": 5,
    "start_time": "2022-05-24T18:41:13.955Z"
   },
   {
    "duration": 58,
    "start_time": "2022-05-24T18:41:13.962Z"
   },
   {
    "duration": 40,
    "start_time": "2022-05-24T18:41:14.022Z"
   },
   {
    "duration": 22,
    "start_time": "2022-05-24T18:41:14.063Z"
   },
   {
    "duration": 53,
    "start_time": "2022-05-24T18:41:14.087Z"
   },
   {
    "duration": 42,
    "start_time": "2022-05-24T18:41:14.142Z"
   },
   {
    "duration": 4,
    "start_time": "2022-05-24T18:41:14.186Z"
   },
   {
    "duration": 33,
    "start_time": "2022-05-24T18:41:14.192Z"
   },
   {
    "duration": 52,
    "start_time": "2022-05-24T18:41:14.227Z"
   },
   {
    "duration": 11,
    "start_time": "2022-05-24T18:48:46.834Z"
   },
   {
    "duration": 371,
    "start_time": "2022-05-24T18:50:53.525Z"
   },
   {
    "duration": 11,
    "start_time": "2022-05-24T18:55:33.476Z"
   },
   {
    "duration": 37,
    "start_time": "2022-05-24T19:02:25.148Z"
   },
   {
    "duration": 1088,
    "start_time": "2022-05-24T19:02:56.928Z"
   },
   {
    "duration": 36,
    "start_time": "2022-05-24T19:02:58.018Z"
   },
   {
    "duration": 12,
    "start_time": "2022-05-24T19:02:58.056Z"
   },
   {
    "duration": 11,
    "start_time": "2022-05-24T19:02:58.070Z"
   },
   {
    "duration": 46,
    "start_time": "2022-05-24T19:02:58.083Z"
   },
   {
    "duration": 5,
    "start_time": "2022-05-24T19:02:58.130Z"
   },
   {
    "duration": 6,
    "start_time": "2022-05-24T19:02:58.136Z"
   },
   {
    "duration": 192,
    "start_time": "2022-05-24T19:02:58.143Z"
   },
   {
    "duration": 8,
    "start_time": "2022-05-24T19:02:58.337Z"
   },
   {
    "duration": 157,
    "start_time": "2022-05-24T19:02:58.347Z"
   },
   {
    "duration": 4,
    "start_time": "2022-05-24T19:02:58.506Z"
   },
   {
    "duration": 16,
    "start_time": "2022-05-24T19:02:58.511Z"
   },
   {
    "duration": 5,
    "start_time": "2022-05-24T19:02:58.529Z"
   },
   {
    "duration": 21,
    "start_time": "2022-05-24T19:02:58.535Z"
   },
   {
    "duration": 3,
    "start_time": "2022-05-24T19:02:58.557Z"
   },
   {
    "duration": 8,
    "start_time": "2022-05-24T19:02:58.562Z"
   },
   {
    "duration": 8,
    "start_time": "2022-05-24T19:02:58.571Z"
   },
   {
    "duration": 7,
    "start_time": "2022-05-24T19:02:58.580Z"
   },
   {
    "duration": 7,
    "start_time": "2022-05-24T19:02:58.589Z"
   },
   {
    "duration": 5,
    "start_time": "2022-05-24T19:02:58.597Z"
   },
   {
    "duration": 92,
    "start_time": "2022-05-24T19:02:58.603Z"
   },
   {
    "duration": 4,
    "start_time": "2022-05-24T19:02:58.696Z"
   },
   {
    "duration": 6,
    "start_time": "2022-05-24T19:02:58.702Z"
   },
   {
    "duration": 59,
    "start_time": "2022-05-24T19:02:58.709Z"
   },
   {
    "duration": 4,
    "start_time": "2022-05-24T19:02:58.769Z"
   },
   {
    "duration": 60,
    "start_time": "2022-05-24T19:02:58.775Z"
   },
   {
    "duration": 21,
    "start_time": "2022-05-24T19:02:58.837Z"
   },
   {
    "duration": 13,
    "start_time": "2022-05-24T19:02:58.862Z"
   },
   {
    "duration": 67,
    "start_time": "2022-05-24T19:02:58.876Z"
   },
   {
    "duration": 53,
    "start_time": "2022-05-24T19:02:58.944Z"
   },
   {
    "duration": 33,
    "start_time": "2022-05-24T19:02:58.998Z"
   },
   {
    "duration": 9,
    "start_time": "2022-05-24T19:02:59.033Z"
   },
   {
    "duration": 313,
    "start_time": "2022-05-24T19:02:59.044Z"
   },
   {
    "duration": 218,
    "start_time": "2022-05-24T19:02:59.359Z"
   },
   {
    "duration": 281,
    "start_time": "2022-05-24T19:02:59.578Z"
   },
   {
    "duration": 223,
    "start_time": "2022-05-24T19:02:59.860Z"
   },
   {
    "duration": 300,
    "start_time": "2022-05-24T19:03:00.084Z"
   },
   {
    "duration": 6,
    "start_time": "2022-05-24T19:03:00.386Z"
   },
   {
    "duration": 138,
    "start_time": "2022-05-24T19:03:00.393Z"
   },
   {
    "duration": 5,
    "start_time": "2022-05-24T19:03:00.532Z"
   },
   {
    "duration": 133,
    "start_time": "2022-05-24T19:03:00.539Z"
   },
   {
    "duration": 5,
    "start_time": "2022-05-24T19:03:00.674Z"
   },
   {
    "duration": 26,
    "start_time": "2022-05-24T19:03:00.680Z"
   },
   {
    "duration": 12,
    "start_time": "2022-05-24T19:03:00.708Z"
   },
   {
    "duration": 14,
    "start_time": "2022-05-24T19:03:00.721Z"
   },
   {
    "duration": 11,
    "start_time": "2022-05-24T19:03:00.736Z"
   },
   {
    "duration": 35,
    "start_time": "2022-05-24T19:03:00.748Z"
   },
   {
    "duration": 5,
    "start_time": "2022-05-24T19:03:00.785Z"
   },
   {
    "duration": 17,
    "start_time": "2022-05-24T19:03:00.792Z"
   },
   {
    "duration": 17,
    "start_time": "2022-05-24T19:03:00.811Z"
   },
   {
    "duration": 33,
    "start_time": "2022-05-24T19:03:00.829Z"
   },
   {
    "duration": 13,
    "start_time": "2022-05-24T19:03:00.864Z"
   },
   {
    "duration": 39,
    "start_time": "2022-05-24T19:03:00.878Z"
   },
   {
    "duration": 4,
    "start_time": "2022-05-24T19:03:00.919Z"
   },
   {
    "duration": 31,
    "start_time": "2022-05-24T19:03:00.925Z"
   },
   {
    "duration": 24,
    "start_time": "2022-05-24T19:03:00.958Z"
   },
   {
    "duration": 1182,
    "start_time": "2022-05-25T15:04:46.498Z"
   },
   {
    "duration": 92,
    "start_time": "2022-05-25T15:04:47.682Z"
   },
   {
    "duration": 13,
    "start_time": "2022-05-25T15:04:47.776Z"
   },
   {
    "duration": 15,
    "start_time": "2022-05-25T15:04:47.791Z"
   },
   {
    "duration": 86,
    "start_time": "2022-05-25T15:04:47.808Z"
   },
   {
    "duration": 6,
    "start_time": "2022-05-25T15:04:47.895Z"
   },
   {
    "duration": 10,
    "start_time": "2022-05-25T15:04:47.903Z"
   },
   {
    "duration": 246,
    "start_time": "2022-05-25T15:04:47.915Z"
   },
   {
    "duration": 10,
    "start_time": "2022-05-25T15:04:48.163Z"
   },
   {
    "duration": 201,
    "start_time": "2022-05-25T15:04:48.176Z"
   },
   {
    "duration": 5,
    "start_time": "2022-05-25T15:04:48.379Z"
   },
   {
    "duration": 8,
    "start_time": "2022-05-25T15:04:48.385Z"
   },
   {
    "duration": 26,
    "start_time": "2022-05-25T15:04:48.394Z"
   },
   {
    "duration": 75,
    "start_time": "2022-05-25T15:04:48.421Z"
   },
   {
    "duration": 4,
    "start_time": "2022-05-25T15:04:48.497Z"
   },
   {
    "duration": 11,
    "start_time": "2022-05-25T15:04:48.502Z"
   },
   {
    "duration": 41,
    "start_time": "2022-05-25T15:04:48.519Z"
   },
   {
    "duration": 15,
    "start_time": "2022-05-25T15:04:48.561Z"
   },
   {
    "duration": 9,
    "start_time": "2022-05-25T15:04:48.578Z"
   },
   {
    "duration": 7,
    "start_time": "2022-05-25T15:04:48.588Z"
   },
   {
    "duration": 80,
    "start_time": "2022-05-25T15:04:48.596Z"
   },
   {
    "duration": 14,
    "start_time": "2022-05-25T15:04:48.677Z"
   },
   {
    "duration": 4,
    "start_time": "2022-05-25T15:04:48.693Z"
   },
   {
    "duration": 31,
    "start_time": "2022-05-25T15:04:48.699Z"
   },
   {
    "duration": 69,
    "start_time": "2022-05-25T15:04:48.731Z"
   },
   {
    "duration": 5,
    "start_time": "2022-05-25T15:04:48.801Z"
   },
   {
    "duration": 59,
    "start_time": "2022-05-25T15:04:48.807Z"
   },
   {
    "duration": 20,
    "start_time": "2022-05-25T15:04:48.871Z"
   },
   {
    "duration": 29,
    "start_time": "2022-05-25T15:04:48.893Z"
   },
   {
    "duration": 65,
    "start_time": "2022-05-25T15:04:48.936Z"
   },
   {
    "duration": 62,
    "start_time": "2022-05-25T15:04:49.003Z"
   },
   {
    "duration": 20,
    "start_time": "2022-05-25T15:04:49.068Z"
   },
   {
    "duration": 38,
    "start_time": "2022-05-25T15:04:49.090Z"
   },
   {
    "duration": 364,
    "start_time": "2022-05-25T15:04:49.130Z"
   },
   {
    "duration": 261,
    "start_time": "2022-05-25T15:04:49.496Z"
   },
   {
    "duration": 315,
    "start_time": "2022-05-25T15:04:49.760Z"
   },
   {
    "duration": 261,
    "start_time": "2022-05-25T15:04:50.076Z"
   },
   {
    "duration": 339,
    "start_time": "2022-05-25T15:04:50.343Z"
   },
   {
    "duration": 7,
    "start_time": "2022-05-25T15:04:50.684Z"
   },
   {
    "duration": 164,
    "start_time": "2022-05-25T15:04:50.692Z"
   },
   {
    "duration": 5,
    "start_time": "2022-05-25T15:04:50.858Z"
   },
   {
    "duration": 158,
    "start_time": "2022-05-25T15:04:50.864Z"
   },
   {
    "duration": 17,
    "start_time": "2022-05-25T15:04:51.026Z"
   },
   {
    "duration": 13,
    "start_time": "2022-05-25T15:04:51.045Z"
   },
   {
    "duration": 8,
    "start_time": "2022-05-25T15:04:51.060Z"
   },
   {
    "duration": 6,
    "start_time": "2022-05-25T15:04:51.070Z"
   },
   {
    "duration": 12,
    "start_time": "2022-05-25T15:04:51.078Z"
   },
   {
    "duration": 43,
    "start_time": "2022-05-25T15:04:51.092Z"
   },
   {
    "duration": 8,
    "start_time": "2022-05-25T15:04:51.142Z"
   },
   {
    "duration": 13,
    "start_time": "2022-05-25T15:04:51.153Z"
   },
   {
    "duration": 10,
    "start_time": "2022-05-25T15:04:51.168Z"
   },
   {
    "duration": 45,
    "start_time": "2022-05-25T15:04:51.180Z"
   },
   {
    "duration": 51,
    "start_time": "2022-05-25T15:04:51.226Z"
   },
   {
    "duration": 66,
    "start_time": "2022-05-25T15:04:51.279Z"
   },
   {
    "duration": 6,
    "start_time": "2022-05-25T15:04:51.349Z"
   },
   {
    "duration": 10,
    "start_time": "2022-05-25T15:04:51.356Z"
   },
   {
    "duration": 11,
    "start_time": "2022-05-25T15:04:51.367Z"
   },
   {
    "duration": 7,
    "start_time": "2022-05-25T15:05:27.042Z"
   },
   {
    "duration": 4,
    "start_time": "2022-05-25T15:05:38.445Z"
   },
   {
    "duration": 11,
    "start_time": "2022-05-25T15:11:31.907Z"
   },
   {
    "duration": 1310,
    "start_time": "2022-05-25T17:52:29.014Z"
   },
   {
    "duration": 78,
    "start_time": "2022-05-25T17:52:30.326Z"
   },
   {
    "duration": 13,
    "start_time": "2022-05-25T17:52:30.406Z"
   },
   {
    "duration": 17,
    "start_time": "2022-05-25T17:52:30.421Z"
   },
   {
    "duration": 89,
    "start_time": "2022-05-25T17:52:30.440Z"
   },
   {
    "duration": 5,
    "start_time": "2022-05-25T17:52:30.531Z"
   },
   {
    "duration": 30,
    "start_time": "2022-05-25T17:52:30.538Z"
   },
   {
    "duration": 204,
    "start_time": "2022-05-25T17:52:30.570Z"
   },
   {
    "duration": 9,
    "start_time": "2022-05-25T17:52:30.776Z"
   },
   {
    "duration": 159,
    "start_time": "2022-05-25T17:52:30.788Z"
   },
   {
    "duration": 5,
    "start_time": "2022-05-25T17:52:30.949Z"
   },
   {
    "duration": 52,
    "start_time": "2022-05-25T17:52:30.956Z"
   },
   {
    "duration": 40,
    "start_time": "2022-05-25T17:52:31.010Z"
   },
   {
    "duration": 77,
    "start_time": "2022-05-25T17:52:31.052Z"
   },
   {
    "duration": 5,
    "start_time": "2022-05-25T17:52:31.131Z"
   },
   {
    "duration": 21,
    "start_time": "2022-05-25T17:52:31.138Z"
   },
   {
    "duration": 9,
    "start_time": "2022-05-25T17:52:31.161Z"
   },
   {
    "duration": 10,
    "start_time": "2022-05-25T17:52:31.172Z"
   },
   {
    "duration": 20,
    "start_time": "2022-05-25T17:52:31.183Z"
   },
   {
    "duration": 97,
    "start_time": "2022-05-25T17:52:31.205Z"
   },
   {
    "duration": 28,
    "start_time": "2022-05-25T17:52:31.304Z"
   },
   {
    "duration": 14,
    "start_time": "2022-05-25T17:52:31.334Z"
   },
   {
    "duration": 12,
    "start_time": "2022-05-25T17:52:31.350Z"
   },
   {
    "duration": 62,
    "start_time": "2022-05-25T17:52:31.364Z"
   },
   {
    "duration": 4,
    "start_time": "2022-05-25T17:52:31.428Z"
   },
   {
    "duration": 53,
    "start_time": "2022-05-25T17:52:31.434Z"
   },
   {
    "duration": 22,
    "start_time": "2022-05-25T17:52:31.489Z"
   },
   {
    "duration": 12,
    "start_time": "2022-05-25T17:52:31.527Z"
   },
   {
    "duration": 66,
    "start_time": "2022-05-25T17:52:31.540Z"
   },
   {
    "duration": 58,
    "start_time": "2022-05-25T17:52:31.608Z"
   },
   {
    "duration": 23,
    "start_time": "2022-05-25T17:52:31.668Z"
   },
   {
    "duration": 12,
    "start_time": "2022-05-25T17:52:31.693Z"
   },
   {
    "duration": 336,
    "start_time": "2022-05-25T17:52:31.706Z"
   },
   {
    "duration": 231,
    "start_time": "2022-05-25T17:52:32.044Z"
   },
   {
    "duration": 395,
    "start_time": "2022-05-25T17:52:32.277Z"
   },
   {
    "duration": 228,
    "start_time": "2022-05-25T17:52:32.674Z"
   },
   {
    "duration": 343,
    "start_time": "2022-05-25T17:52:32.904Z"
   },
   {
    "duration": 7,
    "start_time": "2022-05-25T17:52:33.250Z"
   },
   {
    "duration": 147,
    "start_time": "2022-05-25T17:52:33.259Z"
   },
   {
    "duration": 6,
    "start_time": "2022-05-25T17:52:33.408Z"
   },
   {
    "duration": 128,
    "start_time": "2022-05-25T17:52:33.430Z"
   },
   {
    "duration": 6,
    "start_time": "2022-05-25T17:52:33.559Z"
   },
   {
    "duration": 15,
    "start_time": "2022-05-25T17:52:33.566Z"
   },
   {
    "duration": 6,
    "start_time": "2022-05-25T17:52:33.583Z"
   },
   {
    "duration": 9,
    "start_time": "2022-05-25T17:52:33.591Z"
   },
   {
    "duration": 6,
    "start_time": "2022-05-25T17:52:33.601Z"
   },
   {
    "duration": 40,
    "start_time": "2022-05-25T17:52:33.608Z"
   },
   {
    "duration": 5,
    "start_time": "2022-05-25T17:52:33.650Z"
   },
   {
    "duration": 14,
    "start_time": "2022-05-25T17:52:33.656Z"
   },
   {
    "duration": 8,
    "start_time": "2022-05-25T17:52:33.672Z"
   },
   {
    "duration": 14,
    "start_time": "2022-05-25T17:52:33.682Z"
   },
   {
    "duration": 30,
    "start_time": "2022-05-25T17:52:33.697Z"
   },
   {
    "duration": 27,
    "start_time": "2022-05-25T17:52:33.729Z"
   },
   {
    "duration": 5,
    "start_time": "2022-05-25T17:52:33.758Z"
   },
   {
    "duration": 11,
    "start_time": "2022-05-25T17:52:33.765Z"
   },
   {
    "duration": 11,
    "start_time": "2022-05-25T17:52:33.778Z"
   }
  ],
  "celltoolbar": "Необработанный формат ячейки",
  "kernelspec": {
   "display_name": "Python 3 (ipykernel)",
   "language": "python",
   "name": "python3"
  },
  "language_info": {
   "codemirror_mode": {
    "name": "ipython",
    "version": 3
   },
   "file_extension": ".py",
   "mimetype": "text/x-python",
   "name": "python",
   "nbconvert_exporter": "python",
   "pygments_lexer": "ipython3",
   "version": "3.9.5"
  },
  "toc": {
   "base_numbering": 1,
   "nav_menu": {
    "height": "480px",
    "width": "384px"
   },
   "number_sections": false,
   "sideBar": true,
   "skip_h1_title": false,
   "title_cell": "Table of Contents",
   "title_sidebar": "Contents",
   "toc_cell": true,
   "toc_position": {
    "height": "calc(100% - 180px)",
    "left": "10px",
    "top": "150px",
    "width": "329.388px"
   },
   "toc_section_display": true,
   "toc_window_display": false
  }
 },
 "nbformat": 4,
 "nbformat_minor": 2
}
