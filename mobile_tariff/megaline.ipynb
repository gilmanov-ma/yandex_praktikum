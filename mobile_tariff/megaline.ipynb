{
 "cells": [
  {
   "cell_type": "markdown",
   "metadata": {
    "toc": true
   },
   "source": [
    "<h1>Содержание<span class=\"tocSkip\"></span></h1>\n",
    "<div class=\"toc\"><ul class=\"toc-item\"><li><span><a href=\"#Получение-и-подготовка-данных\" data-toc-modified-id=\"Получение-и-подготовка-данных-1\"><span class=\"toc-item-num\">1&nbsp;&nbsp;</span>Получение и подготовка данных</a></span><ul class=\"toc-item\"><li><span><a href=\"#Звонки\" data-toc-modified-id=\"Звонки-1.1\"><span class=\"toc-item-num\">1.1&nbsp;&nbsp;</span>Звонки</a></span></li><li><span><a href=\"#Интернет\" data-toc-modified-id=\"Интернет-1.2\"><span class=\"toc-item-num\">1.2&nbsp;&nbsp;</span>Интернет</a></span></li><li><span><a href=\"#Сообщения\" data-toc-modified-id=\"Сообщения-1.3\"><span class=\"toc-item-num\">1.3&nbsp;&nbsp;</span>Сообщения</a></span></li><li><span><a href=\"#Тарифы\" data-toc-modified-id=\"Тарифы-1.4\"><span class=\"toc-item-num\">1.4&nbsp;&nbsp;</span>Тарифы</a></span></li><li><span><a href=\"#Пользователи\" data-toc-modified-id=\"Пользователи-1.5\"><span class=\"toc-item-num\">1.5&nbsp;&nbsp;</span>Пользователи</a></span></li><li><span><a href=\"#Формирование-общей-таблицы\" data-toc-modified-id=\"Формирование-общей-таблицы-1.6\"><span class=\"toc-item-num\">1.6&nbsp;&nbsp;</span>Формирование общей таблицы</a></span></li></ul></li><li><span><a href=\"#Анализ-данных\" data-toc-modified-id=\"Анализ-данных-2\"><span class=\"toc-item-num\">2&nbsp;&nbsp;</span>Анализ данных</a></span><ul class=\"toc-item\"><li><span><a href=\"#Тариф-&quot;Ультра&quot;\" data-toc-modified-id=\"Тариф-&quot;Ультра&quot;-2.1\"><span class=\"toc-item-num\">2.1&nbsp;&nbsp;</span>Тариф \"Ультра\"</a></span><ul class=\"toc-item\"><li><span><a href=\"#Звонки\" data-toc-modified-id=\"Звонки-2.1.1\"><span class=\"toc-item-num\">2.1.1&nbsp;&nbsp;</span>Звонки</a></span></li><li><span><a href=\"#Интернет\" data-toc-modified-id=\"Интернет-2.1.2\"><span class=\"toc-item-num\">2.1.2&nbsp;&nbsp;</span>Интернет</a></span></li><li><span><a href=\"#Сообщения\" data-toc-modified-id=\"Сообщения-2.1.3\"><span class=\"toc-item-num\">2.1.3&nbsp;&nbsp;</span>Сообщения</a></span></li></ul></li><li><span><a href=\"#Тариф-&quot;Смарт&quot;\" data-toc-modified-id=\"Тариф-&quot;Смарт&quot;-2.2\"><span class=\"toc-item-num\">2.2&nbsp;&nbsp;</span>Тариф \"Смарт\"</a></span><ul class=\"toc-item\"><li><span><a href=\"#Звонки\" data-toc-modified-id=\"Звонки-2.2.1\"><span class=\"toc-item-num\">2.2.1&nbsp;&nbsp;</span>Звонки</a></span></li><li><span><a href=\"#Интернет\" data-toc-modified-id=\"Интернет-2.2.2\"><span class=\"toc-item-num\">2.2.2&nbsp;&nbsp;</span>Интернет</a></span></li><li><span><a href=\"#Сообщения\" data-toc-modified-id=\"Сообщения-2.2.3\"><span class=\"toc-item-num\">2.2.3&nbsp;&nbsp;</span>Сообщения</a></span></li></ul></li></ul></li><li><span><a href=\"#Проверка-гипотез\" data-toc-modified-id=\"Проверка-гипотез-3\"><span class=\"toc-item-num\">3&nbsp;&nbsp;</span>Проверка гипотез</a></span><ul class=\"toc-item\"><li><span><a href=\"#Зависимость-выручки-от-тарифа\" data-toc-modified-id=\"Зависимость-выручки-от-тарифа-3.1\"><span class=\"toc-item-num\">3.1&nbsp;&nbsp;</span>Зависимость выручки от тарифа</a></span></li><li><span><a href=\"#Зависимость-выручки-от-города\" data-toc-modified-id=\"Зависимость-выручки-от-города-3.2\"><span class=\"toc-item-num\">3.2&nbsp;&nbsp;</span>Зависимость выручки от города</a></span></li></ul></li><li><span><a href=\"#Общий-вывод\" data-toc-modified-id=\"Общий-вывод-4\"><span class=\"toc-item-num\">4&nbsp;&nbsp;</span>Общий вывод</a></span></li></ul></div>"
   ]
  },
  {
   "cell_type": "markdown",
   "metadata": {},
   "source": [
    "# Определение перспективного тарифа для \"Мегалайн\""
   ]
  },
  {
   "cell_type": "markdown",
   "metadata": {},
   "source": [
    "**Задача проекта:** Чтобы скорректировать рекламный бюджет необходимо понять, какой из тарифов  «Смарт» или «Ультра» приносит больше денег.\n",
    "\n",
    "\n",
    "**Описание проекта:** Предварительный анализ тарифов сделаем на небольшой выборке клиентов. В нашем распоряжении данные 500 пользователей «Мегалайна»: кто они, откуда, каким тарифом пользуются, сколько звонков и сообщений каждый отправил за 2018 год. Нужно проанализировать поведение клиентов и сделать вывод — какой тариф лучше.\n",
    "\n",
    "**План исследования:**\n",
    "1) Изучим данные, с которыми предстоит работать;\n",
    "\n",
    "2) Проведем предобработку данных;\n",
    "\n",
    "3) На основе полученных данных проведем анализ поведения клиентов, проверим гипотезы о разнице показателя выручки в зависимости от тарифа и от города."
   ]
  },
  {
   "cell_type": "markdown",
   "metadata": {},
   "source": [
    "Для начала загрузим необходимые для работы библиотеки и изучим каждую из полученных для исследования таблиц."
   ]
  },
  {
   "cell_type": "markdown",
   "metadata": {},
   "source": [
    "## Получение и подготовка данных"
   ]
  },
  {
   "cell_type": "code",
   "execution_count": 1,
   "metadata": {},
   "outputs": [],
   "source": [
    "import pandas as pd\n",
    "import math    \n",
    "import numpy as np\n",
    "from scipy import stats as st"
   ]
  },
  {
   "cell_type": "markdown",
   "metadata": {},
   "source": [
    "Для каждой таблицы проделаем следующие действия:\n",
    "\n",
    "1) Прочитаем файл;\n",
    "\n",
    "2) Выведем первые несколько строк методом head() для получения представления о данных;\n",
    "\n",
    "3) Вызовем метод info() для проверки таблицы на пропуски значений и проверки типов данных;\n",
    "\n",
    "4) Проверим таблицу на наличие дубликатов;\n",
    "\n",
    "5) Проведем необходимую предобработку и проверку на корректность данных."
   ]
  },
  {
   "cell_type": "markdown",
   "metadata": {},
   "source": [
    "### Звонки"
   ]
  },
  {
   "cell_type": "code",
   "execution_count": 2,
   "metadata": {},
   "outputs": [
    {
     "data": {
      "text/html": [
       "<div>\n",
       "<style scoped>\n",
       "    .dataframe tbody tr th:only-of-type {\n",
       "        vertical-align: middle;\n",
       "    }\n",
       "\n",
       "    .dataframe tbody tr th {\n",
       "        vertical-align: top;\n",
       "    }\n",
       "\n",
       "    .dataframe thead th {\n",
       "        text-align: right;\n",
       "    }\n",
       "</style>\n",
       "<table border=\"1\" class=\"dataframe\">\n",
       "  <thead>\n",
       "    <tr style=\"text-align: right;\">\n",
       "      <th></th>\n",
       "      <th>id</th>\n",
       "      <th>call_date</th>\n",
       "      <th>duration</th>\n",
       "      <th>user_id</th>\n",
       "    </tr>\n",
       "  </thead>\n",
       "  <tbody>\n",
       "    <tr>\n",
       "      <th>0</th>\n",
       "      <td>1000_0</td>\n",
       "      <td>2018-07-25</td>\n",
       "      <td>0.00</td>\n",
       "      <td>1000</td>\n",
       "    </tr>\n",
       "    <tr>\n",
       "      <th>1</th>\n",
       "      <td>1000_1</td>\n",
       "      <td>2018-08-17</td>\n",
       "      <td>0.00</td>\n",
       "      <td>1000</td>\n",
       "    </tr>\n",
       "    <tr>\n",
       "      <th>2</th>\n",
       "      <td>1000_2</td>\n",
       "      <td>2018-06-11</td>\n",
       "      <td>2.85</td>\n",
       "      <td>1000</td>\n",
       "    </tr>\n",
       "    <tr>\n",
       "      <th>3</th>\n",
       "      <td>1000_3</td>\n",
       "      <td>2018-09-21</td>\n",
       "      <td>13.80</td>\n",
       "      <td>1000</td>\n",
       "    </tr>\n",
       "    <tr>\n",
       "      <th>4</th>\n",
       "      <td>1000_4</td>\n",
       "      <td>2018-12-15</td>\n",
       "      <td>5.18</td>\n",
       "      <td>1000</td>\n",
       "    </tr>\n",
       "  </tbody>\n",
       "</table>\n",
       "</div>"
      ],
      "text/plain": [
       "       id   call_date  duration  user_id\n",
       "0  1000_0  2018-07-25      0.00     1000\n",
       "1  1000_1  2018-08-17      0.00     1000\n",
       "2  1000_2  2018-06-11      2.85     1000\n",
       "3  1000_3  2018-09-21     13.80     1000\n",
       "4  1000_4  2018-12-15      5.18     1000"
      ]
     },
     "execution_count": 2,
     "metadata": {},
     "output_type": "execute_result"
    }
   ],
   "source": [
    "# Каждому датафрейму присвоим имя, соответствующее его содержанию\n",
    "df_calls = pd.read_csv('/datasets/calls.csv')\n",
    "df_calls.head()"
   ]
  },
  {
   "cell_type": "code",
   "execution_count": 3,
   "metadata": {},
   "outputs": [
    {
     "name": "stdout",
     "output_type": "stream",
     "text": [
      "<class 'pandas.core.frame.DataFrame'>\n",
      "RangeIndex: 202607 entries, 0 to 202606\n",
      "Data columns (total 4 columns):\n",
      " #   Column     Non-Null Count   Dtype  \n",
      "---  ------     --------------   -----  \n",
      " 0   id         202607 non-null  object \n",
      " 1   call_date  202607 non-null  object \n",
      " 2   duration   202607 non-null  float64\n",
      " 3   user_id    202607 non-null  int64  \n",
      "dtypes: float64(1), int64(1), object(2)\n",
      "memory usage: 6.2+ MB\n"
     ]
    }
   ],
   "source": [
    "df_calls.info()"
   ]
  },
  {
   "cell_type": "markdown",
   "metadata": {},
   "source": [
    "Пропущенных значений нет, на первый взгляд всё корректно."
   ]
  },
  {
   "cell_type": "code",
   "execution_count": 4,
   "metadata": {},
   "outputs": [
    {
     "data": {
      "text/plain": [
       "0"
      ]
     },
     "execution_count": 4,
     "metadata": {},
     "output_type": "execute_result"
    }
   ],
   "source": [
    "df_calls.duplicated().sum()"
   ]
  },
  {
   "cell_type": "markdown",
   "metadata": {},
   "source": [
    "Явных дубликатов нет."
   ]
  },
  {
   "cell_type": "markdown",
   "metadata": {},
   "source": [
    "Построим гистограмму по столбцу 'duration', чтобы проверить аномальные или выпадающие значения."
   ]
  },
  {
   "cell_type": "code",
   "execution_count": 5,
   "metadata": {},
   "outputs": [
    {
     "data": {
      "text/plain": [
       "<AxesSubplot:>"
      ]
     },
     "execution_count": 5,
     "metadata": {},
     "output_type": "execute_result"
    },
    {
     "data": {
      "image/png": "[encoded data removed]",
      "text/plain": [
       "<Figure size 432x288 with 1 Axes>"
      ]
     },
     "metadata": {
      "needs_background": "light"
     },
     "output_type": "display_data"
    }
   ],
   "source": [
    "df_calls['duration'].hist(bins=50)"
   ]
  },
  {
   "cell_type": "markdown",
   "metadata": {},
   "source": [
    "Много звонков с продолжительность 0 минут, но мы знаем, что это несостоявшиеся звонки, поэтому здесь всё должно быть корректно. Аномальных значений нет, данные выглядят правдоподобно."
   ]
  },
  {
   "cell_type": "markdown",
   "metadata": {},
   "source": [
    "Проведем небольшую предобработку данных в этом датафрейме:\n",
    "1) С помошью метода to_datetime выделим в отдельный стоблец месяц."
   ]
  },
  {
   "cell_type": "code",
   "execution_count": 6,
   "metadata": {},
   "outputs": [],
   "source": [
    "# Переведем значения в столбце 'call_date' к типу данных datetime с помощью метода pd.to_datetime()\n",
    "df_calls['call_date'] = pd.to_datetime(df_calls['call_date'])\n",
    "\n",
    "# Выделим месяц в столбец с помощью метода dt.month\n",
    "df_calls['month'] = df_calls['call_date'].dt.month"
   ]
  },
  {
   "cell_type": "markdown",
   "metadata": {},
   "source": [
    "2) Округлим значения в столбце 'duration' с помощью фукнции ceil(), так как компания округляет все звонки в большую сторону. Даже если разговор шел одну секунду, он будет учитываться как одна минута."
   ]
  },
  {
   "cell_type": "code",
   "execution_count": 7,
   "metadata": {},
   "outputs": [],
   "source": [
    "df_calls['duration'] = np.ceil( df_calls['duration']).astype('int')"
   ]
  },
  {
   "cell_type": "markdown",
   "metadata": {},
   "source": [
    "Создадим сводную таблицу, в которой для каждого клиента посчитаем общую длительность разговоров и количество звонков за каждый месяц."
   ]
  },
  {
   "cell_type": "code",
   "execution_count": 8,
   "metadata": {},
   "outputs": [],
   "source": [
    "df_calls_pivot = pd.pivot_table(df_calls, index=['user_id', 'month'], values=['duration', 'id'], aggfunc={'duration': 'sum', 'id': 'count'})\n",
    "df_calls_pivot.reset_index(inplace=True)"
   ]
  },
  {
   "cell_type": "markdown",
   "metadata": {},
   "source": [
    "Переименуем столбцы в соответствии с их содержанием."
   ]
  },
  {
   "cell_type": "code",
   "execution_count": 9,
   "metadata": {},
   "outputs": [],
   "source": [
    "df_calls_pivot.rename(columns={'duration': 'duration_calls', 'id': 'number_calls'}, inplace=True)"
   ]
  },
  {
   "cell_type": "markdown",
   "metadata": {},
   "source": [
    "Проверим что получилось в итоге."
   ]
  },
  {
   "cell_type": "code",
   "execution_count": 10,
   "metadata": {},
   "outputs": [
    {
     "data": {
      "text/html": [
       "<div>\n",
       "<style scoped>\n",
       "    .dataframe tbody tr th:only-of-type {\n",
       "        vertical-align: middle;\n",
       "    }\n",
       "\n",
       "    .dataframe tbody tr th {\n",
       "        vertical-align: top;\n",
       "    }\n",
       "\n",
       "    .dataframe thead th {\n",
       "        text-align: right;\n",
       "    }\n",
       "</style>\n",
       "<table border=\"1\" class=\"dataframe\">\n",
       "  <thead>\n",
       "    <tr style=\"text-align: right;\">\n",
       "      <th></th>\n",
       "      <th>user_id</th>\n",
       "      <th>month</th>\n",
       "      <th>duration_calls</th>\n",
       "      <th>number_calls</th>\n",
       "    </tr>\n",
       "  </thead>\n",
       "  <tbody>\n",
       "    <tr>\n",
       "      <th>0</th>\n",
       "      <td>1000</td>\n",
       "      <td>5</td>\n",
       "      <td>159</td>\n",
       "      <td>22</td>\n",
       "    </tr>\n",
       "    <tr>\n",
       "      <th>1</th>\n",
       "      <td>1000</td>\n",
       "      <td>6</td>\n",
       "      <td>172</td>\n",
       "      <td>43</td>\n",
       "    </tr>\n",
       "    <tr>\n",
       "      <th>2</th>\n",
       "      <td>1000</td>\n",
       "      <td>7</td>\n",
       "      <td>340</td>\n",
       "      <td>47</td>\n",
       "    </tr>\n",
       "    <tr>\n",
       "      <th>3</th>\n",
       "      <td>1000</td>\n",
       "      <td>8</td>\n",
       "      <td>408</td>\n",
       "      <td>52</td>\n",
       "    </tr>\n",
       "    <tr>\n",
       "      <th>4</th>\n",
       "      <td>1000</td>\n",
       "      <td>9</td>\n",
       "      <td>466</td>\n",
       "      <td>58</td>\n",
       "    </tr>\n",
       "  </tbody>\n",
       "</table>\n",
       "</div>"
      ],
      "text/plain": [
       "   user_id  month  duration_calls  number_calls\n",
       "0     1000      5             159            22\n",
       "1     1000      6             172            43\n",
       "2     1000      7             340            47\n",
       "3     1000      8             408            52\n",
       "4     1000      9             466            58"
      ]
     },
     "execution_count": 10,
     "metadata": {},
     "output_type": "execute_result"
    }
   ],
   "source": [
    "df_calls_pivot.head()"
   ]
  },
  {
   "cell_type": "markdown",
   "metadata": {},
   "source": [
    "### Интернет"
   ]
  },
  {
   "cell_type": "code",
   "execution_count": 11,
   "metadata": {},
   "outputs": [
    {
     "data": {
      "text/html": [
       "<div>\n",
       "<style scoped>\n",
       "    .dataframe tbody tr th:only-of-type {\n",
       "        vertical-align: middle;\n",
       "    }\n",
       "\n",
       "    .dataframe tbody tr th {\n",
       "        vertical-align: top;\n",
       "    }\n",
       "\n",
       "    .dataframe thead th {\n",
       "        text-align: right;\n",
       "    }\n",
       "</style>\n",
       "<table border=\"1\" class=\"dataframe\">\n",
       "  <thead>\n",
       "    <tr style=\"text-align: right;\">\n",
       "      <th></th>\n",
       "      <th>Unnamed: 0</th>\n",
       "      <th>id</th>\n",
       "      <th>mb_used</th>\n",
       "      <th>session_date</th>\n",
       "      <th>user_id</th>\n",
       "    </tr>\n",
       "  </thead>\n",
       "  <tbody>\n",
       "    <tr>\n",
       "      <th>0</th>\n",
       "      <td>0</td>\n",
       "      <td>1000_0</td>\n",
       "      <td>112.95</td>\n",
       "      <td>2018-11-25</td>\n",
       "      <td>1000</td>\n",
       "    </tr>\n",
       "    <tr>\n",
       "      <th>1</th>\n",
       "      <td>1</td>\n",
       "      <td>1000_1</td>\n",
       "      <td>1052.81</td>\n",
       "      <td>2018-09-07</td>\n",
       "      <td>1000</td>\n",
       "    </tr>\n",
       "    <tr>\n",
       "      <th>2</th>\n",
       "      <td>2</td>\n",
       "      <td>1000_2</td>\n",
       "      <td>1197.26</td>\n",
       "      <td>2018-06-25</td>\n",
       "      <td>1000</td>\n",
       "    </tr>\n",
       "    <tr>\n",
       "      <th>3</th>\n",
       "      <td>3</td>\n",
       "      <td>1000_3</td>\n",
       "      <td>550.27</td>\n",
       "      <td>2018-08-22</td>\n",
       "      <td>1000</td>\n",
       "    </tr>\n",
       "    <tr>\n",
       "      <th>4</th>\n",
       "      <td>4</td>\n",
       "      <td>1000_4</td>\n",
       "      <td>302.56</td>\n",
       "      <td>2018-09-24</td>\n",
       "      <td>1000</td>\n",
       "    </tr>\n",
       "  </tbody>\n",
       "</table>\n",
       "</div>"
      ],
      "text/plain": [
       "   Unnamed: 0      id  mb_used session_date  user_id\n",
       "0           0  1000_0   112.95   2018-11-25     1000\n",
       "1           1  1000_1  1052.81   2018-09-07     1000\n",
       "2           2  1000_2  1197.26   2018-06-25     1000\n",
       "3           3  1000_3   550.27   2018-08-22     1000\n",
       "4           4  1000_4   302.56   2018-09-24     1000"
      ]
     },
     "execution_count": 11,
     "metadata": {},
     "output_type": "execute_result"
    }
   ],
   "source": [
    "#Прочитаем файл и выведем первые несколько строк\n",
    "df_internet = pd.read_csv('/datasets/internet.csv')\n",
    "df_internet.head()"
   ]
  },
  {
   "cell_type": "code",
   "execution_count": 12,
   "metadata": {},
   "outputs": [
    {
     "name": "stdout",
     "output_type": "stream",
     "text": [
      "<class 'pandas.core.frame.DataFrame'>\n",
      "RangeIndex: 149396 entries, 0 to 149395\n",
      "Data columns (total 5 columns):\n",
      " #   Column        Non-Null Count   Dtype  \n",
      "---  ------        --------------   -----  \n",
      " 0   Unnamed: 0    149396 non-null  int64  \n",
      " 1   id            149396 non-null  object \n",
      " 2   mb_used       149396 non-null  float64\n",
      " 3   session_date  149396 non-null  object \n",
      " 4   user_id       149396 non-null  int64  \n",
      "dtypes: float64(1), int64(2), object(2)\n",
      "memory usage: 5.7+ MB\n"
     ]
    }
   ],
   "source": [
    "df_internet.info()"
   ]
  },
  {
   "cell_type": "markdown",
   "metadata": {},
   "source": [
    "Пропущенных значений нет."
   ]
  },
  {
   "cell_type": "markdown",
   "metadata": {},
   "source": [
    "Проверим на наличие дубликатов:"
   ]
  },
  {
   "cell_type": "code",
   "execution_count": 13,
   "metadata": {},
   "outputs": [
    {
     "data": {
      "text/plain": [
       "0"
      ]
     },
     "execution_count": 13,
     "metadata": {},
     "output_type": "execute_result"
    }
   ],
   "source": [
    "df_internet.duplicated().sum()"
   ]
  },
  {
   "cell_type": "markdown",
   "metadata": {},
   "source": [
    "Дубликатов тоже нет."
   ]
  },
  {
   "cell_type": "markdown",
   "metadata": {},
   "source": [
    "Построим гистограмму для выявления аномальных значений."
   ]
  },
  {
   "cell_type": "code",
   "execution_count": 14,
   "metadata": {},
   "outputs": [
    {
     "data": {
      "text/plain": [
       "<AxesSubplot:>"
      ]
     },
     "execution_count": 14,
     "metadata": {},
     "output_type": "execute_result"
    },
    {
     "data": {
      "image/png": "[encoded data removed]",
      "text/plain": [
       "<Figure size 432x288 with 1 Axes>"
      ]
     },
     "metadata": {
      "needs_background": "light"
     },
     "output_type": "display_data"
    }
   ],
   "source": [
    "df_internet['mb_used'].hist(bins=50)"
   ]
  },
  {
   "cell_type": "markdown",
   "metadata": {},
   "source": [
    "Данные выглядят корректно. \n",
    "\n",
    "Теперь также проведем предобработку: выделим в отдельный столбец месяц."
   ]
  },
  {
   "cell_type": "code",
   "execution_count": 15,
   "metadata": {},
   "outputs": [],
   "source": [
    "df_internet['session_date'] = pd.to_datetime(df_internet['session_date'])\n",
    "df_internet['month'] = df_internet['session_date'].dt.month"
   ]
  },
  {
   "cell_type": "markdown",
   "metadata": {},
   "source": [
    "Создадим сводную таблицу, в которой посчитаем количество использованных мегабайт по каждому месяцу для каждого пользователя."
   ]
  },
  {
   "cell_type": "code",
   "execution_count": 16,
   "metadata": {
    "scrolled": true
   },
   "outputs": [],
   "source": [
    "df_internet_pivot = pd.pivot_table(df_internet, index=['user_id', 'month'], values='mb_used', aggfunc='sum').reset_index()"
   ]
  },
  {
   "cell_type": "code",
   "execution_count": 17,
   "metadata": {},
   "outputs": [
    {
     "data": {
      "text/html": [
       "<div>\n",
       "<style scoped>\n",
       "    .dataframe tbody tr th:only-of-type {\n",
       "        vertical-align: middle;\n",
       "    }\n",
       "\n",
       "    .dataframe tbody tr th {\n",
       "        vertical-align: top;\n",
       "    }\n",
       "\n",
       "    .dataframe thead th {\n",
       "        text-align: right;\n",
       "    }\n",
       "</style>\n",
       "<table border=\"1\" class=\"dataframe\">\n",
       "  <thead>\n",
       "    <tr style=\"text-align: right;\">\n",
       "      <th></th>\n",
       "      <th>user_id</th>\n",
       "      <th>month</th>\n",
       "      <th>mb_used</th>\n",
       "    </tr>\n",
       "  </thead>\n",
       "  <tbody>\n",
       "    <tr>\n",
       "      <th>0</th>\n",
       "      <td>1000</td>\n",
       "      <td>5</td>\n",
       "      <td>2253.49</td>\n",
       "    </tr>\n",
       "    <tr>\n",
       "      <th>1</th>\n",
       "      <td>1000</td>\n",
       "      <td>6</td>\n",
       "      <td>23233.77</td>\n",
       "    </tr>\n",
       "    <tr>\n",
       "      <th>2</th>\n",
       "      <td>1000</td>\n",
       "      <td>7</td>\n",
       "      <td>14003.64</td>\n",
       "    </tr>\n",
       "    <tr>\n",
       "      <th>3</th>\n",
       "      <td>1000</td>\n",
       "      <td>8</td>\n",
       "      <td>14055.93</td>\n",
       "    </tr>\n",
       "    <tr>\n",
       "      <th>4</th>\n",
       "      <td>1000</td>\n",
       "      <td>9</td>\n",
       "      <td>14568.91</td>\n",
       "    </tr>\n",
       "  </tbody>\n",
       "</table>\n",
       "</div>"
      ],
      "text/plain": [
       "   user_id  month   mb_used\n",
       "0     1000      5   2253.49\n",
       "1     1000      6  23233.77\n",
       "2     1000      7  14003.64\n",
       "3     1000      8  14055.93\n",
       "4     1000      9  14568.91"
      ]
     },
     "execution_count": 17,
     "metadata": {},
     "output_type": "execute_result"
    }
   ],
   "source": [
    "df_internet_pivot.head()"
   ]
  },
  {
   "cell_type": "markdown",
   "metadata": {},
   "source": [
    "### Сообщения"
   ]
  },
  {
   "cell_type": "code",
   "execution_count": 18,
   "metadata": {},
   "outputs": [
    {
     "data": {
      "text/html": [
       "<div>\n",
       "<style scoped>\n",
       "    .dataframe tbody tr th:only-of-type {\n",
       "        vertical-align: middle;\n",
       "    }\n",
       "\n",
       "    .dataframe tbody tr th {\n",
       "        vertical-align: top;\n",
       "    }\n",
       "\n",
       "    .dataframe thead th {\n",
       "        text-align: right;\n",
       "    }\n",
       "</style>\n",
       "<table border=\"1\" class=\"dataframe\">\n",
       "  <thead>\n",
       "    <tr style=\"text-align: right;\">\n",
       "      <th></th>\n",
       "      <th>id</th>\n",
       "      <th>message_date</th>\n",
       "      <th>user_id</th>\n",
       "    </tr>\n",
       "  </thead>\n",
       "  <tbody>\n",
       "    <tr>\n",
       "      <th>0</th>\n",
       "      <td>1000_0</td>\n",
       "      <td>2018-06-27</td>\n",
       "      <td>1000</td>\n",
       "    </tr>\n",
       "    <tr>\n",
       "      <th>1</th>\n",
       "      <td>1000_1</td>\n",
       "      <td>2018-10-08</td>\n",
       "      <td>1000</td>\n",
       "    </tr>\n",
       "    <tr>\n",
       "      <th>2</th>\n",
       "      <td>1000_2</td>\n",
       "      <td>2018-08-04</td>\n",
       "      <td>1000</td>\n",
       "    </tr>\n",
       "    <tr>\n",
       "      <th>3</th>\n",
       "      <td>1000_3</td>\n",
       "      <td>2018-06-16</td>\n",
       "      <td>1000</td>\n",
       "    </tr>\n",
       "    <tr>\n",
       "      <th>4</th>\n",
       "      <td>1000_4</td>\n",
       "      <td>2018-12-05</td>\n",
       "      <td>1000</td>\n",
       "    </tr>\n",
       "  </tbody>\n",
       "</table>\n",
       "</div>"
      ],
      "text/plain": [
       "       id message_date  user_id\n",
       "0  1000_0   2018-06-27     1000\n",
       "1  1000_1   2018-10-08     1000\n",
       "2  1000_2   2018-08-04     1000\n",
       "3  1000_3   2018-06-16     1000\n",
       "4  1000_4   2018-12-05     1000"
      ]
     },
     "execution_count": 18,
     "metadata": {},
     "output_type": "execute_result"
    }
   ],
   "source": [
    "# Прочитаем файл и выведем несколько строк\n",
    "df_messages = pd.read_csv('/datasets/messages.csv')\n",
    "df_messages.head()"
   ]
  },
  {
   "cell_type": "code",
   "execution_count": 19,
   "metadata": {},
   "outputs": [
    {
     "name": "stdout",
     "output_type": "stream",
     "text": [
      "<class 'pandas.core.frame.DataFrame'>\n",
      "RangeIndex: 123036 entries, 0 to 123035\n",
      "Data columns (total 3 columns):\n",
      " #   Column        Non-Null Count   Dtype \n",
      "---  ------        --------------   ----- \n",
      " 0   id            123036 non-null  object\n",
      " 1   message_date  123036 non-null  object\n",
      " 2   user_id       123036 non-null  int64 \n",
      "dtypes: int64(1), object(2)\n",
      "memory usage: 2.8+ MB\n"
     ]
    }
   ],
   "source": [
    "df_messages.info()"
   ]
  },
  {
   "cell_type": "code",
   "execution_count": 20,
   "metadata": {},
   "outputs": [
    {
     "data": {
      "text/plain": [
       "0"
      ]
     },
     "execution_count": 20,
     "metadata": {},
     "output_type": "execute_result"
    }
   ],
   "source": [
    "df_messages.duplicated().sum()"
   ]
  },
  {
   "cell_type": "markdown",
   "metadata": {},
   "source": [
    "Пропущенных значений и дубликатов нет."
   ]
  },
  {
   "cell_type": "markdown",
   "metadata": {},
   "source": [
    "Выделим месяц в отдельную колонку."
   ]
  },
  {
   "cell_type": "code",
   "execution_count": 21,
   "metadata": {},
   "outputs": [],
   "source": [
    "df_messages['message_date'] = pd.to_datetime(df_messages['message_date'])\n",
    "df_messages['month'] = df_messages['message_date'].dt.month"
   ]
  },
  {
   "cell_type": "markdown",
   "metadata": {},
   "source": [
    "Посчитаем количество отправленных сообщений в месяц для каждого клиента."
   ]
  },
  {
   "cell_type": "code",
   "execution_count": 22,
   "metadata": {},
   "outputs": [],
   "source": [
    "df_messages_pivot = pd.pivot_table(df_messages, index=['user_id', 'month'], values='id', aggfunc='count').reset_index()"
   ]
  },
  {
   "cell_type": "code",
   "execution_count": 23,
   "metadata": {},
   "outputs": [],
   "source": [
    "# Переименуем колонку в соответствии с содержанием.\n",
    "df_messages_pivot.rename(columns={'id': 'messages'}, inplace=True)"
   ]
  },
  {
   "cell_type": "code",
   "execution_count": 24,
   "metadata": {},
   "outputs": [
    {
     "data": {
      "text/html": [
       "<div>\n",
       "<style scoped>\n",
       "    .dataframe tbody tr th:only-of-type {\n",
       "        vertical-align: middle;\n",
       "    }\n",
       "\n",
       "    .dataframe tbody tr th {\n",
       "        vertical-align: top;\n",
       "    }\n",
       "\n",
       "    .dataframe thead th {\n",
       "        text-align: right;\n",
       "    }\n",
       "</style>\n",
       "<table border=\"1\" class=\"dataframe\">\n",
       "  <thead>\n",
       "    <tr style=\"text-align: right;\">\n",
       "      <th></th>\n",
       "      <th>user_id</th>\n",
       "      <th>month</th>\n",
       "      <th>messages</th>\n",
       "    </tr>\n",
       "  </thead>\n",
       "  <tbody>\n",
       "    <tr>\n",
       "      <th>0</th>\n",
       "      <td>1000</td>\n",
       "      <td>5</td>\n",
       "      <td>22</td>\n",
       "    </tr>\n",
       "    <tr>\n",
       "      <th>1</th>\n",
       "      <td>1000</td>\n",
       "      <td>6</td>\n",
       "      <td>60</td>\n",
       "    </tr>\n",
       "    <tr>\n",
       "      <th>2</th>\n",
       "      <td>1000</td>\n",
       "      <td>7</td>\n",
       "      <td>75</td>\n",
       "    </tr>\n",
       "    <tr>\n",
       "      <th>3</th>\n",
       "      <td>1000</td>\n",
       "      <td>8</td>\n",
       "      <td>81</td>\n",
       "    </tr>\n",
       "    <tr>\n",
       "      <th>4</th>\n",
       "      <td>1000</td>\n",
       "      <td>9</td>\n",
       "      <td>57</td>\n",
       "    </tr>\n",
       "  </tbody>\n",
       "</table>\n",
       "</div>"
      ],
      "text/plain": [
       "   user_id  month  messages\n",
       "0     1000      5        22\n",
       "1     1000      6        60\n",
       "2     1000      7        75\n",
       "3     1000      8        81\n",
       "4     1000      9        57"
      ]
     },
     "execution_count": 24,
     "metadata": {},
     "output_type": "execute_result"
    }
   ],
   "source": [
    "df_messages_pivot.head()"
   ]
  },
  {
   "cell_type": "markdown",
   "metadata": {},
   "source": [
    "### Тарифы"
   ]
  },
  {
   "cell_type": "code",
   "execution_count": 25,
   "metadata": {},
   "outputs": [
    {
     "data": {
      "text/html": [
       "<div>\n",
       "<style scoped>\n",
       "    .dataframe tbody tr th:only-of-type {\n",
       "        vertical-align: middle;\n",
       "    }\n",
       "\n",
       "    .dataframe tbody tr th {\n",
       "        vertical-align: top;\n",
       "    }\n",
       "\n",
       "    .dataframe thead th {\n",
       "        text-align: right;\n",
       "    }\n",
       "</style>\n",
       "<table border=\"1\" class=\"dataframe\">\n",
       "  <thead>\n",
       "    <tr style=\"text-align: right;\">\n",
       "      <th></th>\n",
       "      <th>messages_included</th>\n",
       "      <th>mb_per_month_included</th>\n",
       "      <th>minutes_included</th>\n",
       "      <th>rub_monthly_fee</th>\n",
       "      <th>rub_per_gb</th>\n",
       "      <th>rub_per_message</th>\n",
       "      <th>rub_per_minute</th>\n",
       "      <th>tariff_name</th>\n",
       "    </tr>\n",
       "  </thead>\n",
       "  <tbody>\n",
       "    <tr>\n",
       "      <th>0</th>\n",
       "      <td>50</td>\n",
       "      <td>15360</td>\n",
       "      <td>500</td>\n",
       "      <td>550</td>\n",
       "      <td>200</td>\n",
       "      <td>3</td>\n",
       "      <td>3</td>\n",
       "      <td>smart</td>\n",
       "    </tr>\n",
       "    <tr>\n",
       "      <th>1</th>\n",
       "      <td>1000</td>\n",
       "      <td>30720</td>\n",
       "      <td>3000</td>\n",
       "      <td>1950</td>\n",
       "      <td>150</td>\n",
       "      <td>1</td>\n",
       "      <td>1</td>\n",
       "      <td>ultra</td>\n",
       "    </tr>\n",
       "  </tbody>\n",
       "</table>\n",
       "</div>"
      ],
      "text/plain": [
       "   messages_included  mb_per_month_included  minutes_included  \\\n",
       "0                 50                  15360               500   \n",
       "1               1000                  30720              3000   \n",
       "\n",
       "   rub_monthly_fee  rub_per_gb  rub_per_message  rub_per_minute tariff_name  \n",
       "0              550         200                3               3       smart  \n",
       "1             1950         150                1               1       ultra  "
      ]
     },
     "execution_count": 25,
     "metadata": {},
     "output_type": "execute_result"
    }
   ],
   "source": [
    "df_tariffs = pd.read_csv('/datasets/tariffs.csv')\n",
    "df_tariffs"
   ]
  },
  {
   "cell_type": "markdown",
   "metadata": {},
   "source": [
    "В этом датафрейме дана информация по тарифам. "
   ]
  },
  {
   "cell_type": "markdown",
   "metadata": {},
   "source": [
    "### Пользователи"
   ]
  },
  {
   "cell_type": "code",
   "execution_count": 26,
   "metadata": {},
   "outputs": [
    {
     "data": {
      "text/html": [
       "<div>\n",
       "<style scoped>\n",
       "    .dataframe tbody tr th:only-of-type {\n",
       "        vertical-align: middle;\n",
       "    }\n",
       "\n",
       "    .dataframe tbody tr th {\n",
       "        vertical-align: top;\n",
       "    }\n",
       "\n",
       "    .dataframe thead th {\n",
       "        text-align: right;\n",
       "    }\n",
       "</style>\n",
       "<table border=\"1\" class=\"dataframe\">\n",
       "  <thead>\n",
       "    <tr style=\"text-align: right;\">\n",
       "      <th></th>\n",
       "      <th>user_id</th>\n",
       "      <th>age</th>\n",
       "      <th>churn_date</th>\n",
       "      <th>city</th>\n",
       "      <th>first_name</th>\n",
       "      <th>last_name</th>\n",
       "      <th>reg_date</th>\n",
       "      <th>tariff</th>\n",
       "    </tr>\n",
       "  </thead>\n",
       "  <tbody>\n",
       "    <tr>\n",
       "      <th>0</th>\n",
       "      <td>1000</td>\n",
       "      <td>52</td>\n",
       "      <td>NaN</td>\n",
       "      <td>Краснодар</td>\n",
       "      <td>Рафаил</td>\n",
       "      <td>Верещагин</td>\n",
       "      <td>2018-05-25</td>\n",
       "      <td>ultra</td>\n",
       "    </tr>\n",
       "    <tr>\n",
       "      <th>1</th>\n",
       "      <td>1001</td>\n",
       "      <td>41</td>\n",
       "      <td>NaN</td>\n",
       "      <td>Москва</td>\n",
       "      <td>Иван</td>\n",
       "      <td>Ежов</td>\n",
       "      <td>2018-11-01</td>\n",
       "      <td>smart</td>\n",
       "    </tr>\n",
       "    <tr>\n",
       "      <th>2</th>\n",
       "      <td>1002</td>\n",
       "      <td>59</td>\n",
       "      <td>NaN</td>\n",
       "      <td>Стерлитамак</td>\n",
       "      <td>Евгений</td>\n",
       "      <td>Абрамович</td>\n",
       "      <td>2018-06-17</td>\n",
       "      <td>smart</td>\n",
       "    </tr>\n",
       "    <tr>\n",
       "      <th>3</th>\n",
       "      <td>1003</td>\n",
       "      <td>23</td>\n",
       "      <td>NaN</td>\n",
       "      <td>Москва</td>\n",
       "      <td>Белла</td>\n",
       "      <td>Белякова</td>\n",
       "      <td>2018-08-17</td>\n",
       "      <td>ultra</td>\n",
       "    </tr>\n",
       "    <tr>\n",
       "      <th>4</th>\n",
       "      <td>1004</td>\n",
       "      <td>68</td>\n",
       "      <td>NaN</td>\n",
       "      <td>Новокузнецк</td>\n",
       "      <td>Татьяна</td>\n",
       "      <td>Авдеенко</td>\n",
       "      <td>2018-05-14</td>\n",
       "      <td>ultra</td>\n",
       "    </tr>\n",
       "  </tbody>\n",
       "</table>\n",
       "</div>"
      ],
      "text/plain": [
       "   user_id  age churn_date         city first_name  last_name    reg_date  \\\n",
       "0     1000   52        NaN    Краснодар     Рафаил  Верещагин  2018-05-25   \n",
       "1     1001   41        NaN       Москва       Иван       Ежов  2018-11-01   \n",
       "2     1002   59        NaN  Стерлитамак    Евгений  Абрамович  2018-06-17   \n",
       "3     1003   23        NaN       Москва      Белла   Белякова  2018-08-17   \n",
       "4     1004   68        NaN  Новокузнецк    Татьяна   Авдеенко  2018-05-14   \n",
       "\n",
       "  tariff  \n",
       "0  ultra  \n",
       "1  smart  \n",
       "2  smart  \n",
       "3  ultra  \n",
       "4  ultra  "
      ]
     },
     "execution_count": 26,
     "metadata": {},
     "output_type": "execute_result"
    }
   ],
   "source": [
    "df_users = pd.read_csv('/datasets/users.csv')\n",
    "df_users.head()"
   ]
  },
  {
   "cell_type": "code",
   "execution_count": 27,
   "metadata": {},
   "outputs": [
    {
     "name": "stdout",
     "output_type": "stream",
     "text": [
      "<class 'pandas.core.frame.DataFrame'>\n",
      "RangeIndex: 500 entries, 0 to 499\n",
      "Data columns (total 8 columns):\n",
      " #   Column      Non-Null Count  Dtype \n",
      "---  ------      --------------  ----- \n",
      " 0   user_id     500 non-null    int64 \n",
      " 1   age         500 non-null    int64 \n",
      " 2   churn_date  38 non-null     object\n",
      " 3   city        500 non-null    object\n",
      " 4   first_name  500 non-null    object\n",
      " 5   last_name   500 non-null    object\n",
      " 6   reg_date    500 non-null    object\n",
      " 7   tariff      500 non-null    object\n",
      "dtypes: int64(2), object(6)\n",
      "memory usage: 31.4+ KB\n"
     ]
    }
   ],
   "source": [
    "df_users.info()"
   ]
  },
  {
   "cell_type": "markdown",
   "metadata": {},
   "source": [
    "Есть пропущенные значения в столбце, в котором указывается дата прекращения пользования тарифом, но это означает, что пользователь продолжает пользоваться тарифом, так что всё корректно."
   ]
  },
  {
   "cell_type": "markdown",
   "metadata": {},
   "source": [
    "Проверим на наличие дубликатов."
   ]
  },
  {
   "cell_type": "code",
   "execution_count": 28,
   "metadata": {},
   "outputs": [
    {
     "data": {
      "text/plain": [
       "0"
      ]
     },
     "execution_count": 28,
     "metadata": {},
     "output_type": "execute_result"
    }
   ],
   "source": [
    "df_users.duplicated().sum()"
   ]
  },
  {
   "cell_type": "markdown",
   "metadata": {},
   "source": [
    "Дубликатов нет."
   ]
  },
  {
   "cell_type": "markdown",
   "metadata": {},
   "source": [
    "### Формирование общей таблицы"
   ]
  },
  {
   "cell_type": "markdown",
   "metadata": {},
   "source": [
    "Теперь объединим все полученные данные с помощью метода merge() в одну таблицу по 'user_id' и 'month'. Способ объединения укажем outer, потому как при других способах объединения могут потеряться данные, например, если в какой-то из месяцев пользователь не пользовался звонками, но при этом пользовался интернетом."
   ]
  },
  {
   "cell_type": "code",
   "execution_count": 29,
   "metadata": {},
   "outputs": [],
   "source": [
    "# Объединяем сводную таблицу с продолжительностью звонков со сводной таблицей по потраченным мегабайтам. \n",
    "new_df = df_calls_pivot.merge(df_internet_pivot, on=['user_id', 'month'], how='outer')"
   ]
  },
  {
   "cell_type": "code",
   "execution_count": 30,
   "metadata": {},
   "outputs": [],
   "source": [
    "# Полученный датафрейм объединяем со сводной таблицей с количеством сообщений.\n",
    "new_df = new_df.merge(df_messages_pivot, on=['user_id', 'month'], how='outer')"
   ]
  },
  {
   "cell_type": "markdown",
   "metadata": {},
   "source": [
    "Теперь объединим полученную таблицу с таблицей, в которой содержится информация о пользователях, только сразу исключим столбцы, которые нам вряд ли пригодятся: имя, фамилия и возраст в данном исследовании значения не имеют."
   ]
  },
  {
   "cell_type": "code",
   "execution_count": 31,
   "metadata": {},
   "outputs": [],
   "source": [
    "new_df = new_df.merge(df_users[['user_id', 'churn_date', 'city', 'reg_date', 'tariff']], on='user_id', how='outer')"
   ]
  },
  {
   "cell_type": "markdown",
   "metadata": {},
   "source": [
    "Осталось только объединить с таблицей, в которой содержится информация о тарифах."
   ]
  },
  {
   "cell_type": "code",
   "execution_count": 32,
   "metadata": {},
   "outputs": [],
   "source": [
    "new_df = new_df.merge(df_tariffs, left_on='tariff', right_on='tariff_name', how='outer')"
   ]
  },
  {
   "cell_type": "markdown",
   "metadata": {},
   "source": [
    "Посчитаем помесячную выручку с каждого пользователя. Для этого вычтем бесплатный лимит из суммарного количества звонков, сообщений и интернет-трафика; остаток умножим на значение из тарифного плана; прибавим абонентскую плату, соответствующую тарифному плану.\n",
    "\n",
    "Для реализации напишем функцию, которая проверяет превысили ли длительность звонков, объем трафика и количество сообщений установленный тарифный лимит и, в случае превышения, умножает количество дополнительных услуг на их стоимость, в соответствии с тарифным планом. "
   ]
  },
  {
   "cell_type": "code",
   "execution_count": 33,
   "metadata": {},
   "outputs": [],
   "source": [
    "def check_tariff(row):\n",
    "    total = row['rub_monthly_fee']\n",
    "    if row['duration_calls'] > row['minutes_included']:\n",
    "        total += (row['duration_calls'] - row['minutes_included']) * row['rub_per_minute']\n",
    "    if  row['messages'] > row['messages_included']:\n",
    "        total += (row['messages'] - row['messages_included']) * row['rub_per_message']\n",
    "    if row['mb_used'] > row['mb_per_month_included']:\n",
    "        # Не забываем, что при превышении трафика на даже на 1 МБ, плата берется за целый гигабайт, используем функцию ceil()\n",
    "        total += np.ceil((row['mb_used'] - row['mb_per_month_included']) / 1024) * row['rub_per_gb']\n",
    "    return total"
   ]
  },
  {
   "cell_type": "code",
   "execution_count": 34,
   "metadata": {},
   "outputs": [],
   "source": [
    "new_df['income'] = new_df.apply(check_tariff, axis=1)"
   ]
  },
  {
   "cell_type": "code",
   "execution_count": 35,
   "metadata": {},
   "outputs": [
    {
     "data": {
      "text/html": [
       "<div>\n",
       "<style scoped>\n",
       "    .dataframe tbody tr th:only-of-type {\n",
       "        vertical-align: middle;\n",
       "    }\n",
       "\n",
       "    .dataframe tbody tr th {\n",
       "        vertical-align: top;\n",
       "    }\n",
       "\n",
       "    .dataframe thead th {\n",
       "        text-align: right;\n",
       "    }\n",
       "</style>\n",
       "<table border=\"1\" class=\"dataframe\">\n",
       "  <thead>\n",
       "    <tr style=\"text-align: right;\">\n",
       "      <th></th>\n",
       "      <th>user_id</th>\n",
       "      <th>month</th>\n",
       "      <th>duration_calls</th>\n",
       "      <th>number_calls</th>\n",
       "      <th>mb_used</th>\n",
       "      <th>messages</th>\n",
       "      <th>churn_date</th>\n",
       "      <th>city</th>\n",
       "      <th>reg_date</th>\n",
       "      <th>tariff</th>\n",
       "      <th>messages_included</th>\n",
       "      <th>mb_per_month_included</th>\n",
       "      <th>minutes_included</th>\n",
       "      <th>rub_monthly_fee</th>\n",
       "      <th>rub_per_gb</th>\n",
       "      <th>rub_per_message</th>\n",
       "      <th>rub_per_minute</th>\n",
       "      <th>tariff_name</th>\n",
       "      <th>income</th>\n",
       "    </tr>\n",
       "  </thead>\n",
       "  <tbody>\n",
       "    <tr>\n",
       "      <th>0</th>\n",
       "      <td>1000</td>\n",
       "      <td>5.0</td>\n",
       "      <td>159.0</td>\n",
       "      <td>22.0</td>\n",
       "      <td>2253.49</td>\n",
       "      <td>22.0</td>\n",
       "      <td>NaN</td>\n",
       "      <td>Краснодар</td>\n",
       "      <td>2018-05-25</td>\n",
       "      <td>ultra</td>\n",
       "      <td>1000</td>\n",
       "      <td>30720</td>\n",
       "      <td>3000</td>\n",
       "      <td>1950</td>\n",
       "      <td>150</td>\n",
       "      <td>1</td>\n",
       "      <td>1</td>\n",
       "      <td>ultra</td>\n",
       "      <td>1950.0</td>\n",
       "    </tr>\n",
       "    <tr>\n",
       "      <th>1</th>\n",
       "      <td>1000</td>\n",
       "      <td>6.0</td>\n",
       "      <td>172.0</td>\n",
       "      <td>43.0</td>\n",
       "      <td>23233.77</td>\n",
       "      <td>60.0</td>\n",
       "      <td>NaN</td>\n",
       "      <td>Краснодар</td>\n",
       "      <td>2018-05-25</td>\n",
       "      <td>ultra</td>\n",
       "      <td>1000</td>\n",
       "      <td>30720</td>\n",
       "      <td>3000</td>\n",
       "      <td>1950</td>\n",
       "      <td>150</td>\n",
       "      <td>1</td>\n",
       "      <td>1</td>\n",
       "      <td>ultra</td>\n",
       "      <td>1950.0</td>\n",
       "    </tr>\n",
       "    <tr>\n",
       "      <th>2</th>\n",
       "      <td>1000</td>\n",
       "      <td>7.0</td>\n",
       "      <td>340.0</td>\n",
       "      <td>47.0</td>\n",
       "      <td>14003.64</td>\n",
       "      <td>75.0</td>\n",
       "      <td>NaN</td>\n",
       "      <td>Краснодар</td>\n",
       "      <td>2018-05-25</td>\n",
       "      <td>ultra</td>\n",
       "      <td>1000</td>\n",
       "      <td>30720</td>\n",
       "      <td>3000</td>\n",
       "      <td>1950</td>\n",
       "      <td>150</td>\n",
       "      <td>1</td>\n",
       "      <td>1</td>\n",
       "      <td>ultra</td>\n",
       "      <td>1950.0</td>\n",
       "    </tr>\n",
       "    <tr>\n",
       "      <th>3</th>\n",
       "      <td>1000</td>\n",
       "      <td>8.0</td>\n",
       "      <td>408.0</td>\n",
       "      <td>52.0</td>\n",
       "      <td>14055.93</td>\n",
       "      <td>81.0</td>\n",
       "      <td>NaN</td>\n",
       "      <td>Краснодар</td>\n",
       "      <td>2018-05-25</td>\n",
       "      <td>ultra</td>\n",
       "      <td>1000</td>\n",
       "      <td>30720</td>\n",
       "      <td>3000</td>\n",
       "      <td>1950</td>\n",
       "      <td>150</td>\n",
       "      <td>1</td>\n",
       "      <td>1</td>\n",
       "      <td>ultra</td>\n",
       "      <td>1950.0</td>\n",
       "    </tr>\n",
       "    <tr>\n",
       "      <th>4</th>\n",
       "      <td>1000</td>\n",
       "      <td>9.0</td>\n",
       "      <td>466.0</td>\n",
       "      <td>58.0</td>\n",
       "      <td>14568.91</td>\n",
       "      <td>57.0</td>\n",
       "      <td>NaN</td>\n",
       "      <td>Краснодар</td>\n",
       "      <td>2018-05-25</td>\n",
       "      <td>ultra</td>\n",
       "      <td>1000</td>\n",
       "      <td>30720</td>\n",
       "      <td>3000</td>\n",
       "      <td>1950</td>\n",
       "      <td>150</td>\n",
       "      <td>1</td>\n",
       "      <td>1</td>\n",
       "      <td>ultra</td>\n",
       "      <td>1950.0</td>\n",
       "    </tr>\n",
       "  </tbody>\n",
       "</table>\n",
       "</div>"
      ],
      "text/plain": [
       "   user_id  month  duration_calls  number_calls   mb_used  messages  \\\n",
       "0     1000    5.0           159.0          22.0   2253.49      22.0   \n",
       "1     1000    6.0           172.0          43.0  23233.77      60.0   \n",
       "2     1000    7.0           340.0          47.0  14003.64      75.0   \n",
       "3     1000    8.0           408.0          52.0  14055.93      81.0   \n",
       "4     1000    9.0           466.0          58.0  14568.91      57.0   \n",
       "\n",
       "  churn_date       city    reg_date tariff  messages_included  \\\n",
       "0        NaN  Краснодар  2018-05-25  ultra               1000   \n",
       "1        NaN  Краснодар  2018-05-25  ultra               1000   \n",
       "2        NaN  Краснодар  2018-05-25  ultra               1000   \n",
       "3        NaN  Краснодар  2018-05-25  ultra               1000   \n",
       "4        NaN  Краснодар  2018-05-25  ultra               1000   \n",
       "\n",
       "   mb_per_month_included  minutes_included  rub_monthly_fee  rub_per_gb  \\\n",
       "0                  30720              3000             1950         150   \n",
       "1                  30720              3000             1950         150   \n",
       "2                  30720              3000             1950         150   \n",
       "3                  30720              3000             1950         150   \n",
       "4                  30720              3000             1950         150   \n",
       "\n",
       "   rub_per_message  rub_per_minute tariff_name  income  \n",
       "0                1               1       ultra  1950.0  \n",
       "1                1               1       ultra  1950.0  \n",
       "2                1               1       ultra  1950.0  \n",
       "3                1               1       ultra  1950.0  \n",
       "4                1               1       ultra  1950.0  "
      ]
     },
     "execution_count": 35,
     "metadata": {},
     "output_type": "execute_result"
    }
   ],
   "source": [
    "# Посмотрим что получилось в итоге\n",
    "new_df.head()"
   ]
  },
  {
   "cell_type": "code",
   "execution_count": 36,
   "metadata": {},
   "outputs": [
    {
     "data": {
      "text/plain": [
       "4916951.0"
      ]
     },
     "execution_count": 36,
     "metadata": {},
     "output_type": "execute_result"
    }
   ],
   "source": [
    "new_df['income'].sum()"
   ]
  },
  {
   "cell_type": "code",
   "execution_count": 72,
   "metadata": {},
   "outputs": [
    {
     "data": {
      "text/plain": [
       "500"
      ]
     },
     "execution_count": 72,
     "metadata": {},
     "output_type": "execute_result"
    }
   ],
   "source": [
    "new_df['user_id'].nunique()"
   ]
  },
  {
   "cell_type": "markdown",
   "metadata": {},
   "source": [
    "Построим гистограмму для проверки работы функции."
   ]
  },
  {
   "cell_type": "code",
   "execution_count": 37,
   "metadata": {},
   "outputs": [
    {
     "data": {
      "text/plain": [
       "<AxesSubplot:>"
      ]
     },
     "execution_count": 37,
     "metadata": {},
     "output_type": "execute_result"
    },
    {
     "data": {
      "image/png": "[encoded data removed]",
      "text/plain": [
       "<Figure size 432x288 with 1 Axes>"
      ]
     },
     "metadata": {
      "needs_background": "light"
     },
     "output_type": "display_data"
    }
   ],
   "source": [
    "new_df['income'].hist(bins=50)"
   ]
  },
  {
   "cell_type": "markdown",
   "metadata": {},
   "source": [
    "Пики у значений 550 руб. и 1950 руб. Такую сумму платят клиенты, которые не превысили установленный лимит услуг. Похоже, что функция отработала правильно."
   ]
  },
  {
   "cell_type": "markdown",
   "metadata": {},
   "source": [
    "## Анализ данных"
   ]
  },
  {
   "cell_type": "markdown",
   "metadata": {},
   "source": [
    "Опишем поведение клиентов оператора, исходя из выборки. \n",
    "Посчитаем, сколько минут разговора, сколько сообщений и какой объём интернет-трафика требуется пользователям каждого тарифа в месяц.\n",
    "Посчитаем среднее количество, дисперсию и стандартное отклонение. Построим гистограммы и изучим распределения."
   ]
  },
  {
   "cell_type": "markdown",
   "metadata": {},
   "source": [
    "### Тариф \"Ультра\""
   ]
  },
  {
   "cell_type": "markdown",
   "metadata": {},
   "source": [
    "Выделим данные за месяц столбцов 'duration_calls', 'mb_used', 'messages' по каждому пользователю тарифа Ультра."
   ]
  },
  {
   "cell_type": "code",
   "execution_count": 38,
   "metadata": {},
   "outputs": [
    {
     "data": {
      "text/html": [
       "<div>\n",
       "<style scoped>\n",
       "    .dataframe tbody tr th:only-of-type {\n",
       "        vertical-align: middle;\n",
       "    }\n",
       "\n",
       "    .dataframe tbody tr th {\n",
       "        vertical-align: top;\n",
       "    }\n",
       "\n",
       "    .dataframe thead th {\n",
       "        text-align: right;\n",
       "    }\n",
       "</style>\n",
       "<table border=\"1\" class=\"dataframe\">\n",
       "  <thead>\n",
       "    <tr style=\"text-align: right;\">\n",
       "      <th></th>\n",
       "      <th>user_id</th>\n",
       "      <th>duration_calls</th>\n",
       "      <th>mb_used</th>\n",
       "      <th>messages</th>\n",
       "    </tr>\n",
       "  </thead>\n",
       "  <tbody>\n",
       "    <tr>\n",
       "      <th>0</th>\n",
       "      <td>1000</td>\n",
       "      <td>159.0</td>\n",
       "      <td>2253.49</td>\n",
       "      <td>22.0</td>\n",
       "    </tr>\n",
       "    <tr>\n",
       "      <th>1</th>\n",
       "      <td>1000</td>\n",
       "      <td>172.0</td>\n",
       "      <td>23233.77</td>\n",
       "      <td>60.0</td>\n",
       "    </tr>\n",
       "    <tr>\n",
       "      <th>2</th>\n",
       "      <td>1000</td>\n",
       "      <td>340.0</td>\n",
       "      <td>14003.64</td>\n",
       "      <td>75.0</td>\n",
       "    </tr>\n",
       "    <tr>\n",
       "      <th>3</th>\n",
       "      <td>1000</td>\n",
       "      <td>408.0</td>\n",
       "      <td>14055.93</td>\n",
       "      <td>81.0</td>\n",
       "    </tr>\n",
       "    <tr>\n",
       "      <th>4</th>\n",
       "      <td>1000</td>\n",
       "      <td>466.0</td>\n",
       "      <td>14568.91</td>\n",
       "      <td>57.0</td>\n",
       "    </tr>\n",
       "  </tbody>\n",
       "</table>\n",
       "</div>"
      ],
      "text/plain": [
       "   user_id  duration_calls   mb_used  messages\n",
       "0     1000           159.0   2253.49      22.0\n",
       "1     1000           172.0  23233.77      60.0\n",
       "2     1000           340.0  14003.64      75.0\n",
       "3     1000           408.0  14055.93      81.0\n",
       "4     1000           466.0  14568.91      57.0"
      ]
     },
     "execution_count": 38,
     "metadata": {},
     "output_type": "execute_result"
    }
   ],
   "source": [
    "df_mean_ultra = new_df[new_df['tariff']=='ultra'][['user_id', 'duration_calls', 'mb_used', 'messages']]\n",
    "df_mean_ultra.head()"
   ]
  },
  {
   "cell_type": "markdown",
   "metadata": {},
   "source": [
    "#### Звонки"
   ]
  },
  {
   "cell_type": "markdown",
   "metadata": {},
   "source": [
    "Теперь посчитаем среднюю продолжительность звонков для среднего значения по каждому пользователю."
   ]
  },
  {
   "cell_type": "code",
   "execution_count": 39,
   "metadata": {},
   "outputs": [
    {
     "data": {
      "text/plain": [
       "545.4511041009464"
      ]
     },
     "execution_count": 39,
     "metadata": {},
     "output_type": "execute_result"
    }
   ],
   "source": [
    "df_mean_ultra['duration_calls'].mean()"
   ]
  },
  {
   "cell_type": "markdown",
   "metadata": {},
   "source": [
    "Посчитаем дисперсию."
   ]
  },
  {
   "cell_type": "code",
   "execution_count": 40,
   "metadata": {},
   "outputs": [
    {
     "data": {
      "text/plain": [
       "94203.41839614812"
      ]
     },
     "execution_count": 40,
     "metadata": {},
     "output_type": "execute_result"
    }
   ],
   "source": [
    "# Так как мы работаем с выборкой, а не с генеральной совокупностью, установим значение параметра ddof=1\n",
    "np.var(df_mean_ultra['duration_calls'], ddof=1)"
   ]
  },
  {
   "cell_type": "markdown",
   "metadata": {},
   "source": [
    "И стандартное отклонение."
   ]
  },
  {
   "cell_type": "code",
   "execution_count": 41,
   "metadata": {},
   "outputs": [
    {
     "data": {
      "text/plain": [
       "306.76434143143143"
      ]
     },
     "execution_count": 41,
     "metadata": {},
     "output_type": "execute_result"
    }
   ],
   "source": [
    "np.std(df_mean_ultra['duration_calls'])"
   ]
  },
  {
   "cell_type": "markdown",
   "metadata": {},
   "source": [
    "Построим гистограмму по средней продолжительности звонков."
   ]
  },
  {
   "cell_type": "code",
   "execution_count": 42,
   "metadata": {},
   "outputs": [
    {
     "data": {
      "text/plain": [
       "array([<AxesSubplot:ylabel='Frequency'>], dtype=object)"
      ]
     },
     "execution_count": 42,
     "metadata": {},
     "output_type": "execute_result"
    },
    {
     "data": {
      "image/png": "[encoded data removed]",
      "text/plain": [
       "<Figure size 432x288 with 1 Axes>"
      ]
     },
     "metadata": {
      "needs_background": "light"
     },
     "output_type": "display_data"
    }
   ],
   "source": [
    "df_mean_ultra['duration_calls'].plot(kind='hist', subplots=True, sharey=True, title='Распределение длительности звонков, тариф Ультра', grid=True, bins=30)"
   ]
  },
  {
   "cell_type": "markdown",
   "metadata": {},
   "source": [
    "**Вывод:** Распределение скошено вправо. В среднем клиенты тарифа Ультра разговаривают 545 минут в месяц, однако разброс довольно широк. Стоит отметить, что 3000 включенных в тариф минут не тратит никто."
   ]
  },
  {
   "cell_type": "markdown",
   "metadata": {},
   "source": [
    "#### Интернет"
   ]
  },
  {
   "cell_type": "markdown",
   "metadata": {},
   "source": [
    "Так же посчитаем среднее значение количества потраченных мегабайт в месяц для клиентов тарифа Ультра."
   ]
  },
  {
   "cell_type": "code",
   "execution_count": 43,
   "metadata": {},
   "outputs": [
    {
     "data": {
      "text/plain": [
       "19668.48526153846"
      ]
     },
     "execution_count": 43,
     "metadata": {},
     "output_type": "execute_result"
    }
   ],
   "source": [
    "df_mean_ultra['mb_used'].mean()"
   ]
  },
  {
   "cell_type": "code",
   "execution_count": 44,
   "metadata": {},
   "outputs": [
    {
     "data": {
      "text/plain": [
       "98864248.95263155"
      ]
     },
     "execution_count": 44,
     "metadata": {},
     "output_type": "execute_result"
    }
   ],
   "source": [
    "np.var(df_mean_ultra['mb_used'], ddof=1)"
   ]
  },
  {
   "cell_type": "code",
   "execution_count": 45,
   "metadata": {},
   "outputs": [
    {
     "data": {
      "text/plain": [
       "9937.949975872114"
      ]
     },
     "execution_count": 45,
     "metadata": {},
     "output_type": "execute_result"
    }
   ],
   "source": [
    "np.std(df_mean_ultra['mb_used'])"
   ]
  },
  {
   "cell_type": "code",
   "execution_count": 46,
   "metadata": {},
   "outputs": [
    {
     "data": {
      "text/plain": [
       "array([<AxesSubplot:ylabel='Frequency'>], dtype=object)"
      ]
     },
     "execution_count": 46,
     "metadata": {},
     "output_type": "execute_result"
    },
    {
     "data": {
      "image/png": "[encoded data removed]",
      "text/plain": [
       "<Figure size 432x288 with 1 Axes>"
      ]
     },
     "metadata": {
      "needs_background": "light"
     },
     "output_type": "display_data"
    }
   ],
   "source": [
    "df_mean_ultra['mb_used'].plot(kind='hist', subplots=True, sharey=True, title='Распределение количества мегабайт, тариф Ультра', grid=True, bins=30)"
   ]
  },
  {
   "cell_type": "markdown",
   "metadata": {},
   "source": [
    "**Вывод:** Распределение также похоже на нормальное. В среднем клиенты тарифа Ультра используют почти 20 ГБ интернет-трафика из 30 ГБ, включенных в тариф."
   ]
  },
  {
   "cell_type": "markdown",
   "metadata": {},
   "source": [
    "#### Сообщения"
   ]
  },
  {
   "cell_type": "code",
   "execution_count": 47,
   "metadata": {},
   "outputs": [
    {
     "data": {
      "text/plain": [
       "61.161006289308176"
      ]
     },
     "execution_count": 47,
     "metadata": {},
     "output_type": "execute_result"
    }
   ],
   "source": [
    "df_mean_ultra['messages'].mean()"
   ]
  },
  {
   "cell_type": "code",
   "execution_count": 48,
   "metadata": {},
   "outputs": [
    {
     "data": {
      "text/plain": [
       "2109.6591828651995"
      ]
     },
     "execution_count": 48,
     "metadata": {},
     "output_type": "execute_result"
    }
   ],
   "source": [
    "np.var(df_mean_ultra['messages'], ddof=1)"
   ]
  },
  {
   "cell_type": "code",
   "execution_count": 49,
   "metadata": {},
   "outputs": [
    {
     "data": {
      "text/plain": [
       "45.90212983637779"
      ]
     },
     "execution_count": 49,
     "metadata": {},
     "output_type": "execute_result"
    }
   ],
   "source": [
    "np.std(df_mean_ultra['messages'])"
   ]
  },
  {
   "cell_type": "code",
   "execution_count": 50,
   "metadata": {},
   "outputs": [
    {
     "data": {
      "text/plain": [
       "array([<AxesSubplot:ylabel='Frequency'>], dtype=object)"
      ]
     },
     "execution_count": 50,
     "metadata": {},
     "output_type": "execute_result"
    },
    {
     "data": {
      "image/png": "[encoded data removed]",
      "text/plain": [
       "<Figure size 432x288 with 1 Axes>"
      ]
     },
     "metadata": {
      "needs_background": "light"
     },
     "output_type": "display_data"
    }
   ],
   "source": [
    "df_mean_ultra['messages'].plot(kind='hist', subplots=True, sharey=True, title='Распределение количества сообщений, тариф Ультра', grid=True, bins=30)"
   ]
  },
  {
   "cell_type": "markdown",
   "metadata": {},
   "source": [
    "**Вывод:** Распределение сильно скошено вправо, из чего можно сделать вывод, что сообщениями пользуются не особо активно. В среднем пользователи тарифа тратят 61 сообщение из 1000 включенных в тариф. Сообщения вытеснили мессенджеры."
   ]
  },
  {
   "cell_type": "markdown",
   "metadata": {},
   "source": [
    "### Тариф \"Смарт\""
   ]
  },
  {
   "cell_type": "markdown",
   "metadata": {},
   "source": [
    "#### Звонки"
   ]
  },
  {
   "cell_type": "markdown",
   "metadata": {},
   "source": [
    "Подобным образом исследуем и тариф Смарт.\n",
    "\n",
    "Сначала выделим необходимые столбцы и сгуппируем их по среднему значению для каждого пользователя."
   ]
  },
  {
   "cell_type": "code",
   "execution_count": 51,
   "metadata": {},
   "outputs": [
    {
     "data": {
      "text/html": [
       "<div>\n",
       "<style scoped>\n",
       "    .dataframe tbody tr th:only-of-type {\n",
       "        vertical-align: middle;\n",
       "    }\n",
       "\n",
       "    .dataframe tbody tr th {\n",
       "        vertical-align: top;\n",
       "    }\n",
       "\n",
       "    .dataframe thead th {\n",
       "        text-align: right;\n",
       "    }\n",
       "</style>\n",
       "<table border=\"1\" class=\"dataframe\">\n",
       "  <thead>\n",
       "    <tr style=\"text-align: right;\">\n",
       "      <th></th>\n",
       "      <th>user_id</th>\n",
       "      <th>duration_calls</th>\n",
       "      <th>mb_used</th>\n",
       "      <th>messages</th>\n",
       "    </tr>\n",
       "  </thead>\n",
       "  <tbody>\n",
       "    <tr>\n",
       "      <th>986</th>\n",
       "      <td>1001</td>\n",
       "      <td>430.0</td>\n",
       "      <td>18429.34</td>\n",
       "      <td>NaN</td>\n",
       "    </tr>\n",
       "    <tr>\n",
       "      <th>987</th>\n",
       "      <td>1001</td>\n",
       "      <td>414.0</td>\n",
       "      <td>14036.66</td>\n",
       "      <td>NaN</td>\n",
       "    </tr>\n",
       "    <tr>\n",
       "      <th>988</th>\n",
       "      <td>1002</td>\n",
       "      <td>117.0</td>\n",
       "      <td>10856.82</td>\n",
       "      <td>4.0</td>\n",
       "    </tr>\n",
       "    <tr>\n",
       "      <th>989</th>\n",
       "      <td>1002</td>\n",
       "      <td>214.0</td>\n",
       "      <td>17580.10</td>\n",
       "      <td>11.0</td>\n",
       "    </tr>\n",
       "    <tr>\n",
       "      <th>990</th>\n",
       "      <td>1002</td>\n",
       "      <td>289.0</td>\n",
       "      <td>20319.26</td>\n",
       "      <td>13.0</td>\n",
       "    </tr>\n",
       "  </tbody>\n",
       "</table>\n",
       "</div>"
      ],
      "text/plain": [
       "     user_id  duration_calls   mb_used  messages\n",
       "986     1001           430.0  18429.34       NaN\n",
       "987     1001           414.0  14036.66       NaN\n",
       "988     1002           117.0  10856.82       4.0\n",
       "989     1002           214.0  17580.10      11.0\n",
       "990     1002           289.0  20319.26      13.0"
      ]
     },
     "execution_count": 51,
     "metadata": {},
     "output_type": "execute_result"
    }
   ],
   "source": [
    "df_mean_smart = new_df[new_df['tariff']=='smart'][['user_id', 'duration_calls', 'mb_used', 'messages']]\n",
    "df_mean_smart.head()"
   ]
  },
  {
   "cell_type": "markdown",
   "metadata": {},
   "source": [
    "Посчитаем среднюю продолжительность звонков, дисперсию и стандартное отклонение."
   ]
  },
  {
   "cell_type": "code",
   "execution_count": 52,
   "metadata": {},
   "outputs": [
    {
     "data": {
      "text/plain": [
       "419.0629779577148"
      ]
     },
     "execution_count": 52,
     "metadata": {},
     "output_type": "execute_result"
    }
   ],
   "source": [
    "df_mean_smart['duration_calls'].mean()"
   ]
  },
  {
   "cell_type": "code",
   "execution_count": 53,
   "metadata": {},
   "outputs": [
    {
     "data": {
      "text/plain": [
       "35844.1895513438"
      ]
     },
     "execution_count": 53,
     "metadata": {},
     "output_type": "execute_result"
    }
   ],
   "source": [
    "np.var(df_mean_smart['duration_calls'], ddof=1)"
   ]
  },
  {
   "cell_type": "code",
   "execution_count": 54,
   "metadata": {},
   "outputs": [
    {
     "data": {
      "text/plain": [
       "189.2830296395594"
      ]
     },
     "execution_count": 54,
     "metadata": {},
     "output_type": "execute_result"
    }
   ],
   "source": [
    "np.std(df_mean_smart['duration_calls'])"
   ]
  },
  {
   "cell_type": "code",
   "execution_count": 55,
   "metadata": {},
   "outputs": [
    {
     "data": {
      "text/plain": [
       "array([<AxesSubplot:ylabel='Frequency'>], dtype=object)"
      ]
     },
     "execution_count": 55,
     "metadata": {},
     "output_type": "execute_result"
    },
    {
     "data": {
      "image/png": "[encoded data removed]",
      "text/plain": [
       "<Figure size 432x288 with 1 Axes>"
      ]
     },
     "metadata": {
      "needs_background": "light"
     },
     "output_type": "display_data"
    }
   ],
   "source": [
    "df_mean_smart['duration_calls'].plot(kind='hist', subplots=True, sharey=True, title='Распределение количества сообщений, тариф Смарт', grid=True, bins=30)"
   ]
  },
  {
   "cell_type": "markdown",
   "metadata": {},
   "source": [
    "**Вывод:** Распределение немного скошено влево. В среднем клиенты тарифа Смарт разговаривают 419 минут в месяц. Несколько меньше, чем пользователи тарифа Ультра. Отметим, что довольно значительная часть не укладывается в отведенный тарифом лимит 500 минут в месяц и оплачивает дополнительные минуты разговора."
   ]
  },
  {
   "cell_type": "markdown",
   "metadata": {},
   "source": [
    "#### Интернет"
   ]
  },
  {
   "cell_type": "markdown",
   "metadata": {},
   "source": [
    "Посчитаем среднюю продолжительность звонков, дисперсию и стандартное отклонение."
   ]
  },
  {
   "cell_type": "code",
   "execution_count": 56,
   "metadata": {},
   "outputs": [
    {
     "data": {
      "text/plain": [
       "16215.661849192102"
      ]
     },
     "execution_count": 56,
     "metadata": {},
     "output_type": "execute_result"
    }
   ],
   "source": [
    "df_mean_smart['mb_used'].mean()"
   ]
  },
  {
   "cell_type": "code",
   "execution_count": 57,
   "metadata": {},
   "outputs": [
    {
     "data": {
      "text/plain": [
       "34359951.682283156"
      ]
     },
     "execution_count": 57,
     "metadata": {},
     "output_type": "execute_result"
    }
   ],
   "source": [
    "np.var(df_mean_smart['mb_used'], ddof=1)"
   ]
  },
  {
   "cell_type": "code",
   "execution_count": 58,
   "metadata": {},
   "outputs": [
    {
     "data": {
      "text/plain": [
       "5860.420616382213"
      ]
     },
     "execution_count": 58,
     "metadata": {},
     "output_type": "execute_result"
    }
   ],
   "source": [
    "np.std(df_mean_smart['mb_used'])"
   ]
  },
  {
   "cell_type": "code",
   "execution_count": 59,
   "metadata": {},
   "outputs": [
    {
     "data": {
      "text/plain": [
       "array([<AxesSubplot:ylabel='Frequency'>], dtype=object)"
      ]
     },
     "execution_count": 59,
     "metadata": {},
     "output_type": "execute_result"
    },
    {
     "data": {
      "image/png": "[encoded data removed]",
      "text/plain": [
       "<Figure size 432x288 with 1 Axes>"
      ]
     },
     "metadata": {
      "needs_background": "light"
     },
     "output_type": "display_data"
    }
   ],
   "source": [
    "df_mean_smart['mb_used'].plot(kind='hist', subplots=True, sharey=True, title='Распределение количества мегабайт, тариф Смарт', grid=True, bins=30)"
   ]
  },
  {
   "cell_type": "markdown",
   "metadata": {},
   "source": [
    "**Вывод:** Распределение нормальное. В среднем клиенты тарифа Смарт тратят 16 ГБ в месяц. На 3-4 ГБ меньше, чем пользователи тарифа Ультра. Как и со звонками значительная часть не укладывается в отведенный тарифом лимит 15 ГБ в месяц и оплачивает дополнительный пакет интернет-трафика."
   ]
  },
  {
   "cell_type": "markdown",
   "metadata": {},
   "source": [
    "#### Сообщения "
   ]
  },
  {
   "cell_type": "code",
   "execution_count": 60,
   "metadata": {},
   "outputs": [
    {
     "data": {
      "text/plain": [
       "38.71644120707596"
      ]
     },
     "execution_count": 60,
     "metadata": {},
     "output_type": "execute_result"
    }
   ],
   "source": [
    "df_mean_smart['messages'].mean()"
   ]
  },
  {
   "cell_type": "code",
   "execution_count": 61,
   "metadata": {},
   "outputs": [
    {
     "data": {
      "text/plain": [
       "717.5942011753547"
      ]
     },
     "execution_count": 61,
     "metadata": {},
     "output_type": "execute_result"
    }
   ],
   "source": [
    "np.var(df_mean_smart['messages'], ddof=1)"
   ]
  },
  {
   "cell_type": "code",
   "execution_count": 62,
   "metadata": {},
   "outputs": [
    {
     "data": {
      "text/plain": [
       "26.780979129042816"
      ]
     },
     "execution_count": 62,
     "metadata": {},
     "output_type": "execute_result"
    }
   ],
   "source": [
    "np.std(df_mean_smart['messages'])"
   ]
  },
  {
   "cell_type": "code",
   "execution_count": 63,
   "metadata": {},
   "outputs": [
    {
     "data": {
      "text/plain": [
       "array([<AxesSubplot:ylabel='Frequency'>], dtype=object)"
      ]
     },
     "execution_count": 63,
     "metadata": {},
     "output_type": "execute_result"
    },
    {
     "data": {
      "image/png": "[encoded data removed]",
      "text/plain": [
       "<Figure size 432x288 with 1 Axes>"
      ]
     },
     "metadata": {
      "needs_background": "light"
     },
     "output_type": "display_data"
    }
   ],
   "source": [
    "df_mean_smart['messages'].plot(kind='hist', subplots=True, sharey=True, title='Распределение количества сообщений, тариф Смарт', grid=True, bins=30)"
   ]
  },
  {
   "cell_type": "markdown",
   "metadata": {},
   "source": [
    "**Вывод:** Распределение сильно скошено влево. В среднем клиенты тарифа Смарт тратят 39 сообщений в месяц при лимите в 50 сообщений. Как со звонками и интернетом, значительная часть не укладывается в отведенный тарифом лимит и оплачивают сообщения дополнительно."
   ]
  },
  {
   "cell_type": "markdown",
   "metadata": {},
   "source": [
    "## Проверка гипотез"
   ]
  },
  {
   "cell_type": "markdown",
   "metadata": {},
   "source": [
    "Перед нами стоит задача проверки двух гипотез:\n",
    "\n",
    "1) Cредняя выручка пользователей тарифов «Ультра» и «Смарт» различается;\n",
    "\n",
    "2) Cредняя выручка пользователей из Москвы отличается от выручки пользователей из других регионов."
   ]
  },
  {
   "cell_type": "markdown",
   "metadata": {},
   "source": [
    "### Зависимость выручки от тарифа"
   ]
  },
  {
   "cell_type": "markdown",
   "metadata": {},
   "source": [
    "**Нулевая гипотеза:** Среднее значение выручки одинаково для обоих тарифов.\n",
    "\n",
    "**Альтернативная гипотеза:** Среднее значение выручки по тарифами 'Ультра' и 'Смарт'  различается."
   ]
  },
  {
   "cell_type": "markdown",
   "metadata": {},
   "source": [
    "Для проверки нулевой гипотезы возпользуемся методом scipy.stats.ttest_ind. Значение уровня статистической значимости зададим 0.05"
   ]
  },
  {
   "cell_type": "code",
   "execution_count": 64,
   "metadata": {},
   "outputs": [
    {
     "name": "stdout",
     "output_type": "stream",
     "text": [
      "p-значение:  8.081909555489933e-161\n",
      "Отвергаем нулевую гипотезу\n"
     ]
    }
   ],
   "source": [
    "alpha = .05 \n",
    "\n",
    "results = st.ttest_ind(\n",
    "    new_df[new_df['tariff']=='ultra']['income'], \n",
    "    new_df[new_df['tariff']=='smart']['income'])\n",
    "\n",
    "print('p-значение: ', results.pvalue)\n",
    "\n",
    "if results.pvalue < alpha:\n",
    "    print(\"Отвергаем нулевую гипотезу\")\n",
    "else:\n",
    "    print(\"Не получилось отвергнуть нулевую гипотезу\") "
   ]
  },
  {
   "cell_type": "markdown",
   "metadata": {},
   "source": [
    "Выборка небольшая, можно было и просто проверить средние значения выручки для каждого из тарифов."
   ]
  },
  {
   "cell_type": "code",
   "execution_count": 65,
   "metadata": {},
   "outputs": [
    {
     "data": {
      "text/plain": [
       "2070.030425963489"
      ]
     },
     "execution_count": 65,
     "metadata": {},
     "output_type": "execute_result"
    }
   ],
   "source": [
    "new_df[new_df['tariff']=='ultra']['income'].mean()"
   ]
  },
  {
   "cell_type": "code",
   "execution_count": 66,
   "metadata": {},
   "outputs": [
    {
     "data": {
      "text/plain": [
       "1289.6417040358745"
      ]
     },
     "execution_count": 66,
     "metadata": {},
     "output_type": "execute_result"
    }
   ],
   "source": [
    "new_df[new_df['tariff']=='smart']['income'].mean()"
   ]
  },
  {
   "cell_type": "markdown",
   "metadata": {},
   "source": [
    "Действительно, есть разница между тарифами по показателю средней выручки. Несколько настораживает, что средняя выручка для тарифа Смарт оказалась 1 289 руб., при том, что стоимость пакета услуг по данном тарифу составляет 550 руб.\n",
    "Построим гистограмму по выручке для данного тарифа, чтобы убедиться, что мы всё сделали правильно."
   ]
  },
  {
   "cell_type": "code",
   "execution_count": 67,
   "metadata": {},
   "outputs": [
    {
     "data": {
      "text/plain": [
       "<AxesSubplot:>"
      ]
     },
     "execution_count": 67,
     "metadata": {},
     "output_type": "execute_result"
    },
    {
     "data": {
      "image/png": "[encoded data removed]",
      "text/plain": [
       "<Figure size 432x288 with 1 Axes>"
      ]
     },
     "metadata": {
      "needs_background": "light"
     },
     "output_type": "display_data"
    }
   ],
   "source": [
    "new_df[new_df['tariff']=='smart']['income'].hist(bins=30)"
   ]
  },
  {
   "cell_type": "markdown",
   "metadata": {},
   "source": [
    "На гистограмме видим, что в основном клиенты вписываются в тарифные лимиты и тратят 550 рублей в месяц. Однако, есть клиенты, которые в некоторые месяцы тратят гораздо больше денег."
   ]
  },
  {
   "cell_type": "markdown",
   "metadata": {},
   "source": [
    "Посчитаем их долю."
   ]
  },
  {
   "cell_type": "code",
   "execution_count": 68,
   "metadata": {},
   "outputs": [
    {
     "data": {
      "text/plain": [
       "0.7452914798206278"
      ]
     },
     "execution_count": 68,
     "metadata": {},
     "output_type": "execute_result"
    }
   ],
   "source": [
    "len(new_df.query('(income > 550) and (tariff==\"smart\")')) / len(new_df.query('tariff==\"smart\"'))"
   ]
  },
  {
   "cell_type": "markdown",
   "metadata": {},
   "source": [
    "В 74.5% случаев клиенты не укладываются в отведенный лимит по тарифу 'Смарт'."
   ]
  },
  {
   "cell_type": "markdown",
   "metadata": {},
   "source": [
    "**Вывод:** Гипотеза о равенстве значений средней выручки по тарифам Смарт и Ультра не подтверждена."
   ]
  },
  {
   "cell_type": "markdown",
   "metadata": {},
   "source": [
    "### Зависимость выручки от города"
   ]
  },
  {
   "cell_type": "markdown",
   "metadata": {},
   "source": [
    "**Нулевая гипотеза:** Средняя выручка пользователей из Москвы не отличается от выручки пользователей из других регионов.\n",
    "\n",
    "**Альтернативная гипотеза:** Среднее значение выручки по тарифами 'Ультра' и 'Смарт' различается в зависимости от города."
   ]
  },
  {
   "cell_type": "code",
   "execution_count": 69,
   "metadata": {},
   "outputs": [
    {
     "name": "stdout",
     "output_type": "stream",
     "text": [
      "p-значение:  0.5400751614511182\n",
      "Не получилось отвергнуть нулевую гипотезу\n"
     ]
    }
   ],
   "source": [
    "alpha = .05 # критический уровень статистической значимости\n",
    "\n",
    "results = st.ttest_ind(\n",
    "    new_df[new_df['city']=='Москва']['income'], \n",
    "    new_df[new_df['city']!='Москва']['income'])\n",
    "\n",
    "print('p-значение: ', results.pvalue)\n",
    "\n",
    "if results.pvalue < alpha:\n",
    "    print(\"Отвергаем нулевую гипотезу\")\n",
    "else:\n",
    "    print(\"Не получилось отвергнуть нулевую гипотезу\") "
   ]
  },
  {
   "cell_type": "code",
   "execution_count": 70,
   "metadata": {},
   "outputs": [
    {
     "data": {
      "text/plain": [
       "1546.7135842880523"
      ]
     },
     "execution_count": 70,
     "metadata": {},
     "output_type": "execute_result"
    }
   ],
   "source": [
    "new_df[new_df['city']=='Москва']['income'].mean()"
   ]
  },
  {
   "cell_type": "code",
   "execution_count": 71,
   "metadata": {},
   "outputs": [
    {
     "data": {
      "text/plain": [
       "1524.7251439539348"
      ]
     },
     "execution_count": 71,
     "metadata": {},
     "output_type": "execute_result"
    }
   ],
   "source": [
    "new_df[new_df['city']!='Москва']['income'].mean()"
   ]
  },
  {
   "cell_type": "markdown",
   "metadata": {},
   "source": [
    "Действительно, средняя выручка практически не отличается."
   ]
  },
  {
   "cell_type": "markdown",
   "metadata": {},
   "source": [
    "**Вывод:** Полученное значение p-value не позволяет нам отвергнуть нулевую гипотезу. Разница в значениях может быть получена случайно с вероятностью почти 54%"
   ]
  },
  {
   "cell_type": "markdown",
   "metadata": {},
   "source": [
    "## Общий вывод"
   ]
  },
  {
   "cell_type": "markdown",
   "metadata": {},
   "source": [
    "Мы установили, что пользователи тарифов Смарт и Ультра ведут себя по-разному:\n",
    "\n",
    "На звонки пользователи Ультра в среднем используют 545 минут из включенных в тариф 3000 минут, в то время как пользователи тарифа Смарт в среднем используют 419 минуту из включенных в тариф 500 минут. При этом пользователи тарифа Смарт часто превышают установленный тарифом лимит, а пользователи тарифа Ультра не расходуют весь лимит.\n",
    "\n",
    "В среднем пользователи Ультра в используют 20 ГБ интернет-трафика из 30 ГБ, включенных в тариф, в то время как пользователи тарифа Смарт в среднем используют 16 ГБ  из 15 ГБ. То есть формируют дополнительную выручку за счет покупки пакета дополнительного интернет-трафика.\n",
    "\n",
    "Что касается сообщений, пользователи не особо активно ими пользуются, однако некоторая часть пользователей тарифа Смарт всё-таки превышает установленный лимит.\n",
    "\n",
    "По результатам проверки гипотезы о равенстве средней выручки для тарифов Смарт и Ультра, полученное значение p-value позволяет нам отвергнуть предположение о том, что среднее значение выручки одинаково для обоих тарифов. Разница в значениях могла быть получена случайно с очень маленькой вероятностью.\n",
    "\n",
    "По результатам проверки гипотезы о равенстве средней выручки для клиентов из разных городов, полученное значение p-value не позволяет нам отвергнуть предположение о том, что средняя выручка пользователей из Москвы не отличается от выручки пользователей из других регионов. Разница в значениях может быть получена случайно с вероятностью почти 54%\n",
    "\n",
    "На основании проведенного анализа можно сделать вывод, что тариф Ультра приносит больше выручки, а значит более выгоден для компании."
   ]
  },
  {
   "cell_type": "code",
   "execution_count": null,
   "metadata": {},
   "outputs": [],
   "source": []
  }
 ],
 "metadata": {
  "ExecuteTimeLog": [
   {
    "duration": 6,
    "start_time": "2022-03-24T14:45:08.182Z"
   },
   {
    "duration": 716,
    "start_time": "2022-03-24T14:46:33.132Z"
   },
   {
    "duration": 446,
    "start_time": "2022-03-24T18:37:15.582Z"
   },
   {
    "duration": 154,
    "start_time": "2022-03-24T18:38:37.866Z"
   },
   {
    "duration": 141,
    "start_time": "2022-03-24T18:39:24.418Z"
   },
   {
    "duration": 87,
    "start_time": "2022-03-24T18:40:02.129Z"
   },
   {
    "duration": 91,
    "start_time": "2022-03-24T18:40:09.278Z"
   },
   {
    "duration": 13,
    "start_time": "2022-03-24T18:40:57.405Z"
   },
   {
    "duration": 15,
    "start_time": "2022-03-24T18:41:15.068Z"
   },
   {
    "duration": 37,
    "start_time": "2022-03-24T18:42:10.223Z"
   },
   {
    "duration": 12,
    "start_time": "2022-03-24T18:42:47.511Z"
   },
   {
    "duration": 195,
    "start_time": "2022-03-24T18:51:26.746Z"
   },
   {
    "duration": 172,
    "start_time": "2022-03-24T18:51:48.356Z"
   },
   {
    "duration": 204,
    "start_time": "2022-03-24T18:52:18.114Z"
   },
   {
    "duration": 164,
    "start_time": "2022-03-24T18:52:23.526Z"
   },
   {
    "duration": 26,
    "start_time": "2022-03-24T18:52:26.581Z"
   },
   {
    "duration": 141,
    "start_time": "2022-03-24T19:07:06.617Z"
   },
   {
    "duration": 12,
    "start_time": "2022-03-24T19:08:21.802Z"
   },
   {
    "duration": 25,
    "start_time": "2022-03-24T19:09:01.472Z"
   },
   {
    "duration": 36,
    "start_time": "2022-03-24T19:10:54.467Z"
   },
   {
    "duration": 54,
    "start_time": "2022-03-24T19:11:11.291Z"
   },
   {
    "duration": 76,
    "start_time": "2022-03-24T19:11:33.704Z"
   },
   {
    "duration": 56,
    "start_time": "2022-03-24T19:12:05.969Z"
   },
   {
    "duration": 56,
    "start_time": "2022-03-24T19:12:19.794Z"
   },
   {
    "duration": 59,
    "start_time": "2022-03-24T19:12:35.430Z"
   },
   {
    "duration": 141,
    "start_time": "2022-03-24T19:12:53.949Z"
   },
   {
    "duration": 521,
    "start_time": "2022-03-24T19:14:57.376Z"
   },
   {
    "duration": 410,
    "start_time": "2022-03-24T19:16:08.925Z"
   },
   {
    "duration": 166,
    "start_time": "2022-03-24T19:16:41.041Z"
   },
   {
    "duration": 179,
    "start_time": "2022-03-24T19:16:49.056Z"
   },
   {
    "duration": 168,
    "start_time": "2022-03-24T19:16:56.850Z"
   },
   {
    "duration": 175,
    "start_time": "2022-03-24T19:17:10.394Z"
   },
   {
    "duration": 191,
    "start_time": "2022-03-24T19:17:15.457Z"
   },
   {
    "duration": 186,
    "start_time": "2022-03-24T19:17:52.056Z"
   },
   {
    "duration": 17,
    "start_time": "2022-03-24T19:19:15.396Z"
   },
   {
    "duration": 125,
    "start_time": "2022-03-24T19:19:20.224Z"
   },
   {
    "duration": 23,
    "start_time": "2022-03-24T19:19:22.732Z"
   },
   {
    "duration": 1084,
    "start_time": "2022-03-24T19:19:50.874Z"
   },
   {
    "duration": 193,
    "start_time": "2022-03-24T19:20:04.501Z"
   },
   {
    "duration": 7,
    "start_time": "2022-03-24T19:20:32.359Z"
   },
   {
    "duration": 510,
    "start_time": "2022-03-24T19:20:43.843Z"
   },
   {
    "duration": 182,
    "start_time": "2022-03-24T19:21:00.989Z"
   },
   {
    "duration": 13,
    "start_time": "2022-03-24T19:29:37.679Z"
   },
   {
    "duration": 18,
    "start_time": "2022-03-24T19:29:53.512Z"
   },
   {
    "duration": 4,
    "start_time": "2022-03-24T19:36:00.953Z"
   },
   {
    "duration": 25,
    "start_time": "2022-03-24T19:41:23.105Z"
   },
   {
    "duration": 29,
    "start_time": "2022-03-24T19:41:31.980Z"
   },
   {
    "duration": 38,
    "start_time": "2022-03-24T19:42:38.878Z"
   },
   {
    "duration": 9,
    "start_time": "2022-03-24T19:43:11.992Z"
   },
   {
    "duration": 89,
    "start_time": "2022-03-24T19:43:17.512Z"
   },
   {
    "duration": 19,
    "start_time": "2022-03-24T19:43:20.637Z"
   },
   {
    "duration": 66,
    "start_time": "2022-03-24T19:44:16.741Z"
   },
   {
    "duration": 70,
    "start_time": "2022-03-24T19:44:41.162Z"
   },
   {
    "duration": 15,
    "start_time": "2022-03-24T19:44:57.585Z"
   },
   {
    "duration": 15,
    "start_time": "2022-03-24T19:45:02.653Z"
   },
   {
    "duration": 443,
    "start_time": "2022-03-24T19:45:12.096Z"
   },
   {
    "duration": 156,
    "start_time": "2022-03-24T19:45:12.541Z"
   },
   {
    "duration": 33,
    "start_time": "2022-03-24T19:45:12.699Z"
   },
   {
    "duration": 87,
    "start_time": "2022-03-24T19:45:12.733Z"
   },
   {
    "duration": 442,
    "start_time": "2022-03-24T19:45:12.823Z"
   },
   {
    "duration": 215,
    "start_time": "2022-03-24T19:45:13.267Z"
   },
   {
    "duration": 71,
    "start_time": "2022-03-24T19:45:13.483Z"
   },
   {
    "duration": 138,
    "start_time": "2022-03-24T19:45:13.555Z"
   },
   {
    "duration": 28,
    "start_time": "2022-03-24T19:45:13.694Z"
   },
   {
    "duration": 85,
    "start_time": "2022-03-24T19:45:13.724Z"
   },
   {
    "duration": 203,
    "start_time": "2022-03-24T19:45:13.811Z"
   },
   {
    "duration": 285,
    "start_time": "2022-03-24T19:45:14.016Z"
   },
   {
    "duration": 42,
    "start_time": "2022-03-24T19:45:14.303Z"
   },
   {
    "duration": 33,
    "start_time": "2022-03-24T19:45:14.348Z"
   },
   {
    "duration": 106,
    "start_time": "2022-03-24T19:45:14.382Z"
   },
   {
    "duration": 30,
    "start_time": "2022-03-24T19:45:14.490Z"
   },
   {
    "duration": 50,
    "start_time": "2022-03-24T19:45:14.522Z"
   },
   {
    "duration": 36,
    "start_time": "2022-03-24T19:45:14.574Z"
   },
   {
    "duration": 30,
    "start_time": "2022-03-24T19:45:14.612Z"
   },
   {
    "duration": 105,
    "start_time": "2022-03-24T19:45:14.643Z"
   },
   {
    "duration": 111,
    "start_time": "2022-03-24T19:45:48.110Z"
   },
   {
    "duration": 44,
    "start_time": "2022-03-24T19:46:56.818Z"
   },
   {
    "duration": 54,
    "start_time": "2022-03-24T19:47:08.977Z"
   },
   {
    "duration": 29,
    "start_time": "2022-03-24T19:48:34.020Z"
   },
   {
    "duration": 42,
    "start_time": "2022-03-24T19:49:44.149Z"
   },
   {
    "duration": 47,
    "start_time": "2022-03-25T13:54:57.481Z"
   },
   {
    "duration": 413,
    "start_time": "2022-03-25T13:55:05.728Z"
   },
   {
    "duration": 178,
    "start_time": "2022-03-25T13:55:06.144Z"
   },
   {
    "duration": 29,
    "start_time": "2022-03-25T13:55:06.324Z"
   },
   {
    "duration": 140,
    "start_time": "2022-03-25T13:55:06.355Z"
   },
   {
    "duration": 76,
    "start_time": "2022-03-25T13:55:06.500Z"
   },
   {
    "duration": 702,
    "start_time": "2022-03-25T13:55:06.578Z"
   },
   {
    "duration": 201,
    "start_time": "2022-03-25T13:55:07.282Z"
   },
   {
    "duration": 74,
    "start_time": "2022-03-25T13:55:07.485Z"
   },
   {
    "duration": 154,
    "start_time": "2022-03-25T13:55:07.561Z"
   },
   {
    "duration": 26,
    "start_time": "2022-03-25T13:55:07.717Z"
   },
   {
    "duration": 93,
    "start_time": "2022-03-25T13:55:07.745Z"
   },
   {
    "duration": 195,
    "start_time": "2022-03-25T13:55:07.840Z"
   },
   {
    "duration": 276,
    "start_time": "2022-03-25T13:55:08.037Z"
   },
   {
    "duration": 43,
    "start_time": "2022-03-25T13:55:08.316Z"
   },
   {
    "duration": 78,
    "start_time": "2022-03-25T13:55:08.361Z"
   },
   {
    "duration": 109,
    "start_time": "2022-03-25T13:55:08.441Z"
   },
   {
    "duration": 24,
    "start_time": "2022-03-25T13:55:08.552Z"
   },
   {
    "duration": 76,
    "start_time": "2022-03-25T13:55:08.578Z"
   },
   {
    "duration": 52,
    "start_time": "2022-03-25T13:55:08.656Z"
   },
   {
    "duration": 46,
    "start_time": "2022-03-25T13:55:08.710Z"
   },
   {
    "duration": 22,
    "start_time": "2022-03-25T13:55:08.758Z"
   },
   {
    "duration": 34,
    "start_time": "2022-03-25T13:55:08.782Z"
   },
   {
    "duration": 7,
    "start_time": "2022-03-25T13:55:08.818Z"
   },
   {
    "duration": 8,
    "start_time": "2022-03-25T14:05:06.601Z"
   },
   {
    "duration": 6,
    "start_time": "2022-03-25T14:05:53.065Z"
   },
   {
    "duration": 21,
    "start_time": "2022-03-25T14:06:29.505Z"
   },
   {
    "duration": 1868,
    "start_time": "2022-03-25T14:08:51.455Z"
   },
   {
    "duration": 7822,
    "start_time": "2022-03-25T14:10:07.422Z"
   },
   {
    "duration": 40,
    "start_time": "2022-03-25T14:10:55.389Z"
   },
   {
    "duration": 41,
    "start_time": "2022-03-25T14:11:15.269Z"
   },
   {
    "duration": 50,
    "start_time": "2022-03-25T14:11:20.493Z"
   },
   {
    "duration": 41,
    "start_time": "2022-03-25T14:12:06.845Z"
   },
   {
    "duration": 93,
    "start_time": "2022-03-25T14:12:34.956Z"
   },
   {
    "duration": 12,
    "start_time": "2022-03-25T14:12:49.619Z"
   },
   {
    "duration": 33,
    "start_time": "2022-03-25T14:15:16.162Z"
   },
   {
    "duration": 32,
    "start_time": "2022-03-25T14:15:38.945Z"
   },
   {
    "duration": 30,
    "start_time": "2022-03-25T14:15:50.562Z"
   },
   {
    "duration": 40,
    "start_time": "2022-03-25T14:16:18.595Z"
   },
   {
    "duration": 47,
    "start_time": "2022-03-25T14:48:24.404Z"
   },
   {
    "duration": 3,
    "start_time": "2022-03-25T14:49:47.545Z"
   },
   {
    "duration": 481,
    "start_time": "2022-03-26T19:28:55.455Z"
   },
   {
    "duration": 162,
    "start_time": "2022-03-26T19:35:23.965Z"
   },
   {
    "duration": 171,
    "start_time": "2022-03-26T19:35:29.579Z"
   },
   {
    "duration": 58,
    "start_time": "2022-03-26T20:00:29.941Z"
   },
   {
    "duration": 6,
    "start_time": "2022-03-26T20:00:39.586Z"
   },
   {
    "duration": 9,
    "start_time": "2022-03-26T20:00:40.910Z"
   },
   {
    "duration": 64,
    "start_time": "2022-03-26T20:05:21.481Z"
   },
   {
    "duration": 8,
    "start_time": "2022-03-26T20:06:26.970Z"
   },
   {
    "duration": 9,
    "start_time": "2022-03-26T20:07:27.615Z"
   },
   {
    "duration": 11,
    "start_time": "2022-03-26T20:07:42.789Z"
   },
   {
    "duration": 10,
    "start_time": "2022-03-26T20:07:46.840Z"
   },
   {
    "duration": 11,
    "start_time": "2022-03-26T20:07:56.700Z"
   },
   {
    "duration": 10,
    "start_time": "2022-03-26T20:08:00.215Z"
   },
   {
    "duration": 150,
    "start_time": "2022-03-26T20:12:32.805Z"
   },
   {
    "duration": 69,
    "start_time": "2022-03-26T20:37:03.566Z"
   },
   {
    "duration": 9,
    "start_time": "2022-03-26T20:37:22.117Z"
   },
   {
    "duration": 141,
    "start_time": "2022-03-26T20:37:39.887Z"
   },
   {
    "duration": 24,
    "start_time": "2022-03-26T20:38:33.964Z"
   },
   {
    "duration": 77,
    "start_time": "2022-03-26T20:38:46.708Z"
   },
   {
    "duration": 649,
    "start_time": "2022-03-26T20:38:52.322Z"
   },
   {
    "duration": 46,
    "start_time": "2022-03-26T20:38:59.343Z"
   },
   {
    "duration": 38,
    "start_time": "2022-03-26T20:41:13.013Z"
   },
   {
    "duration": 30,
    "start_time": "2022-03-26T20:41:33.355Z"
   },
   {
    "duration": 4,
    "start_time": "2022-03-26T20:43:48.348Z"
   },
   {
    "duration": 10,
    "start_time": "2022-03-26T20:43:53.644Z"
   },
   {
    "duration": 5,
    "start_time": "2022-03-26T20:44:19.895Z"
   },
   {
    "duration": 12,
    "start_time": "2022-03-26T20:44:21.627Z"
   },
   {
    "duration": 3,
    "start_time": "2022-03-26T20:44:43.724Z"
   },
   {
    "duration": 11,
    "start_time": "2022-03-26T20:44:44.567Z"
   },
   {
    "duration": 418,
    "start_time": "2022-03-26T20:44:54.233Z"
   },
   {
    "duration": 182,
    "start_time": "2022-03-26T20:44:54.653Z"
   },
   {
    "duration": 34,
    "start_time": "2022-03-26T20:44:54.837Z"
   },
   {
    "duration": 137,
    "start_time": "2022-03-26T20:44:54.873Z"
   },
   {
    "duration": 484,
    "start_time": "2022-03-26T20:44:55.011Z"
   },
   {
    "duration": 57,
    "start_time": "2022-03-26T20:44:55.497Z"
   },
   {
    "duration": 4,
    "start_time": "2022-03-26T20:44:55.556Z"
   },
   {
    "duration": 16,
    "start_time": "2022-03-26T20:44:55.562Z"
   },
   {
    "duration": 81,
    "start_time": "2022-03-26T20:44:55.580Z"
   },
   {
    "duration": 158,
    "start_time": "2022-03-26T20:44:55.664Z"
   },
   {
    "duration": 25,
    "start_time": "2022-03-26T20:44:55.824Z"
   },
   {
    "duration": 93,
    "start_time": "2022-03-26T20:44:55.851Z"
   },
   {
    "duration": 204,
    "start_time": "2022-03-26T20:44:55.946Z"
   },
   {
    "duration": 51,
    "start_time": "2022-03-26T20:44:56.152Z"
   },
   {
    "duration": 35,
    "start_time": "2022-03-26T20:44:56.205Z"
   },
   {
    "duration": 4,
    "start_time": "2022-03-26T20:44:56.242Z"
   },
   {
    "duration": 14,
    "start_time": "2022-03-26T20:44:56.248Z"
   },
   {
    "duration": 128,
    "start_time": "2022-03-26T20:44:56.264Z"
   },
   {
    "duration": 27,
    "start_time": "2022-03-26T20:44:56.394Z"
   },
   {
    "duration": 59,
    "start_time": "2022-03-26T20:44:56.422Z"
   },
   {
    "duration": 51,
    "start_time": "2022-03-26T20:44:56.484Z"
   },
   {
    "duration": 40,
    "start_time": "2022-03-26T20:44:56.537Z"
   },
   {
    "duration": 37,
    "start_time": "2022-03-26T20:44:56.579Z"
   },
   {
    "duration": 22,
    "start_time": "2022-03-26T20:44:56.618Z"
   },
   {
    "duration": 7,
    "start_time": "2022-03-26T20:44:56.642Z"
   },
   {
    "duration": 6,
    "start_time": "2022-03-26T20:44:56.651Z"
   },
   {
    "duration": 46,
    "start_time": "2022-03-26T20:44:56.659Z"
   },
   {
    "duration": 4,
    "start_time": "2022-03-26T20:45:29.419Z"
   },
   {
    "duration": 11,
    "start_time": "2022-03-26T20:45:36.762Z"
   },
   {
    "duration": 4,
    "start_time": "2022-03-26T20:46:01.759Z"
   },
   {
    "duration": 13,
    "start_time": "2022-03-26T20:46:08.585Z"
   },
   {
    "duration": 13,
    "start_time": "2022-03-26T20:46:28.858Z"
   },
   {
    "duration": 414,
    "start_time": "2022-03-26T20:46:46.225Z"
   },
   {
    "duration": 176,
    "start_time": "2022-03-26T20:46:46.641Z"
   },
   {
    "duration": 29,
    "start_time": "2022-03-26T20:46:46.819Z"
   },
   {
    "duration": 128,
    "start_time": "2022-03-26T20:46:46.850Z"
   },
   {
    "duration": 468,
    "start_time": "2022-03-26T20:46:46.981Z"
   },
   {
    "duration": 64,
    "start_time": "2022-03-26T20:46:47.450Z"
   },
   {
    "duration": 5,
    "start_time": "2022-03-26T20:46:47.517Z"
   },
   {
    "duration": 11,
    "start_time": "2022-03-26T20:46:47.524Z"
   },
   {
    "duration": 86,
    "start_time": "2022-03-26T20:46:47.537Z"
   },
   {
    "duration": 143,
    "start_time": "2022-03-26T20:46:47.624Z"
   },
   {
    "duration": 22,
    "start_time": "2022-03-26T20:46:47.769Z"
   },
   {
    "duration": 69,
    "start_time": "2022-03-26T20:46:47.801Z"
   },
   {
    "duration": 196,
    "start_time": "2022-03-26T20:46:47.872Z"
   },
   {
    "duration": 60,
    "start_time": "2022-03-26T20:46:48.072Z"
   },
   {
    "duration": 37,
    "start_time": "2022-03-26T20:46:48.135Z"
   },
   {
    "duration": 32,
    "start_time": "2022-03-26T20:46:48.174Z"
   },
   {
    "duration": 104,
    "start_time": "2022-03-26T20:46:48.208Z"
   },
   {
    "duration": 22,
    "start_time": "2022-03-26T20:46:48.314Z"
   },
   {
    "duration": 67,
    "start_time": "2022-03-26T20:46:48.338Z"
   },
   {
    "duration": 34,
    "start_time": "2022-03-26T20:46:48.407Z"
   },
   {
    "duration": 64,
    "start_time": "2022-03-26T20:46:48.443Z"
   },
   {
    "duration": 17,
    "start_time": "2022-03-26T20:46:48.508Z"
   },
   {
    "duration": 22,
    "start_time": "2022-03-26T20:46:48.527Z"
   },
   {
    "duration": 8,
    "start_time": "2022-03-26T20:46:48.551Z"
   },
   {
    "duration": 8,
    "start_time": "2022-03-26T20:46:48.560Z"
   },
   {
    "duration": 46,
    "start_time": "2022-03-26T20:46:48.570Z"
   },
   {
    "duration": 10,
    "start_time": "2022-03-26T20:47:17.287Z"
   },
   {
    "duration": 433,
    "start_time": "2022-03-26T20:47:57.408Z"
   },
   {
    "duration": 175,
    "start_time": "2022-03-26T20:47:57.844Z"
   },
   {
    "duration": 30,
    "start_time": "2022-03-26T20:47:58.021Z"
   },
   {
    "duration": 132,
    "start_time": "2022-03-26T20:47:58.053Z"
   },
   {
    "duration": 473,
    "start_time": "2022-03-26T20:47:58.187Z"
   },
   {
    "duration": 66,
    "start_time": "2022-03-26T20:47:58.662Z"
   },
   {
    "duration": 5,
    "start_time": "2022-03-26T20:47:58.730Z"
   },
   {
    "duration": 11,
    "start_time": "2022-03-26T20:47:58.737Z"
   },
   {
    "duration": 87,
    "start_time": "2022-03-26T20:47:58.750Z"
   },
   {
    "duration": 137,
    "start_time": "2022-03-26T20:47:58.840Z"
   },
   {
    "duration": 32,
    "start_time": "2022-03-26T20:47:58.979Z"
   },
   {
    "duration": 71,
    "start_time": "2022-03-26T20:47:59.012Z"
   },
   {
    "duration": 204,
    "start_time": "2022-03-26T20:47:59.085Z"
   },
   {
    "duration": 47,
    "start_time": "2022-03-26T20:47:59.291Z"
   },
   {
    "duration": 33,
    "start_time": "2022-03-26T20:47:59.340Z"
   },
   {
    "duration": 26,
    "start_time": "2022-03-26T20:47:59.375Z"
   },
   {
    "duration": 8,
    "start_time": "2022-03-26T20:47:59.403Z"
   },
   {
    "duration": 106,
    "start_time": "2022-03-26T20:47:59.413Z"
   },
   {
    "duration": 21,
    "start_time": "2022-03-26T20:47:59.521Z"
   },
   {
    "duration": 69,
    "start_time": "2022-03-26T20:47:59.543Z"
   },
   {
    "duration": 34,
    "start_time": "2022-03-26T20:47:59.614Z"
   },
   {
    "duration": 57,
    "start_time": "2022-03-26T20:47:59.650Z"
   },
   {
    "duration": 16,
    "start_time": "2022-03-26T20:47:59.708Z"
   },
   {
    "duration": 23,
    "start_time": "2022-03-26T20:47:59.725Z"
   },
   {
    "duration": 6,
    "start_time": "2022-03-26T20:47:59.750Z"
   },
   {
    "duration": 14,
    "start_time": "2022-03-26T20:47:59.758Z"
   },
   {
    "duration": 45,
    "start_time": "2022-03-26T20:47:59.774Z"
   },
   {
    "duration": 82,
    "start_time": "2022-03-26T20:50:37.914Z"
   },
   {
    "duration": 40,
    "start_time": "2022-03-26T20:51:32.038Z"
   },
   {
    "duration": 31,
    "start_time": "2022-03-26T20:52:11.414Z"
   },
   {
    "duration": 37,
    "start_time": "2022-03-26T20:52:46.129Z"
   },
   {
    "duration": 8,
    "start_time": "2022-03-26T20:53:25.379Z"
   },
   {
    "duration": 10,
    "start_time": "2022-03-26T20:53:48.207Z"
   },
   {
    "duration": 12,
    "start_time": "2022-03-26T20:57:02.836Z"
   },
   {
    "duration": 27,
    "start_time": "2022-03-26T21:02:35.681Z"
   },
   {
    "duration": 89,
    "start_time": "2022-03-26T21:03:18.190Z"
   },
   {
    "duration": 19,
    "start_time": "2022-03-26T21:03:25.493Z"
   },
   {
    "duration": 36,
    "start_time": "2022-03-26T21:04:42.337Z"
   },
   {
    "duration": 23,
    "start_time": "2022-03-26T21:08:54.382Z"
   },
   {
    "duration": 33,
    "start_time": "2022-03-26T21:12:20.306Z"
   },
   {
    "duration": 11,
    "start_time": "2022-03-26T21:14:13.893Z"
   },
   {
    "duration": 12,
    "start_time": "2022-03-26T21:14:56.546Z"
   },
   {
    "duration": 25,
    "start_time": "2022-03-26T21:16:25.167Z"
   },
   {
    "duration": 11,
    "start_time": "2022-03-26T21:17:17.528Z"
   },
   {
    "duration": 16,
    "start_time": "2022-03-26T21:17:27.567Z"
   },
   {
    "duration": 2216,
    "start_time": "2022-03-26T21:19:04.365Z"
   },
   {
    "duration": 19,
    "start_time": "2022-03-26T21:19:36.865Z"
   },
   {
    "duration": 4,
    "start_time": "2022-03-26T21:19:50.042Z"
   },
   {
    "duration": 2313,
    "start_time": "2022-03-26T21:19:53.074Z"
   },
   {
    "duration": 15,
    "start_time": "2022-03-26T21:23:11.359Z"
   },
   {
    "duration": 17,
    "start_time": "2022-03-26T21:23:22.002Z"
   },
   {
    "duration": 436,
    "start_time": "2022-03-26T21:23:38.485Z"
   },
   {
    "duration": 178,
    "start_time": "2022-03-26T21:23:38.923Z"
   },
   {
    "duration": 29,
    "start_time": "2022-03-26T21:23:39.103Z"
   },
   {
    "duration": 132,
    "start_time": "2022-03-26T21:23:39.133Z"
   },
   {
    "duration": 515,
    "start_time": "2022-03-26T21:23:39.267Z"
   },
   {
    "duration": 63,
    "start_time": "2022-03-26T21:23:39.784Z"
   },
   {
    "duration": 4,
    "start_time": "2022-03-26T21:23:39.849Z"
   },
   {
    "duration": 13,
    "start_time": "2022-03-26T21:23:39.855Z"
   },
   {
    "duration": 93,
    "start_time": "2022-03-26T21:23:39.869Z"
   },
   {
    "duration": 150,
    "start_time": "2022-03-26T21:23:39.964Z"
   },
   {
    "duration": 25,
    "start_time": "2022-03-26T21:23:40.115Z"
   },
   {
    "duration": 94,
    "start_time": "2022-03-26T21:23:40.142Z"
   },
   {
    "duration": 189,
    "start_time": "2022-03-26T21:23:40.238Z"
   },
   {
    "duration": 42,
    "start_time": "2022-03-26T21:23:40.431Z"
   },
   {
    "duration": 47,
    "start_time": "2022-03-26T21:23:40.475Z"
   },
   {
    "duration": 5,
    "start_time": "2022-03-26T21:23:40.524Z"
   },
   {
    "duration": 12,
    "start_time": "2022-03-26T21:23:40.530Z"
   },
   {
    "duration": 18,
    "start_time": "2022-03-26T21:23:40.543Z"
   },
   {
    "duration": 116,
    "start_time": "2022-03-26T21:23:40.562Z"
   },
   {
    "duration": 29,
    "start_time": "2022-03-26T21:23:40.680Z"
   },
   {
    "duration": 55,
    "start_time": "2022-03-26T21:23:40.711Z"
   },
   {
    "duration": 52,
    "start_time": "2022-03-26T21:23:40.768Z"
   },
   {
    "duration": 38,
    "start_time": "2022-03-26T21:23:40.822Z"
   },
   {
    "duration": 17,
    "start_time": "2022-03-26T21:23:40.862Z"
   },
   {
    "duration": 35,
    "start_time": "2022-03-26T21:23:40.880Z"
   },
   {
    "duration": 12,
    "start_time": "2022-03-26T21:23:40.917Z"
   },
   {
    "duration": 18,
    "start_time": "2022-03-26T21:23:40.931Z"
   },
   {
    "duration": 16,
    "start_time": "2022-03-26T21:23:40.951Z"
   },
   {
    "duration": 38,
    "start_time": "2022-03-26T21:23:40.969Z"
   },
   {
    "duration": 17,
    "start_time": "2022-03-26T21:23:41.010Z"
   },
   {
    "duration": 4,
    "start_time": "2022-03-26T21:23:41.028Z"
   },
   {
    "duration": 2442,
    "start_time": "2022-03-26T21:23:41.034Z"
   },
   {
    "duration": 5,
    "start_time": "2022-03-26T21:24:51.566Z"
   },
   {
    "duration": 12,
    "start_time": "2022-03-26T21:25:55.615Z"
   },
   {
    "duration": 7,
    "start_time": "2022-03-26T21:27:00.116Z"
   },
   {
    "duration": 12,
    "start_time": "2022-03-26T21:27:30.838Z"
   },
   {
    "duration": 13,
    "start_time": "2022-03-26T21:27:54.525Z"
   },
   {
    "duration": 5,
    "start_time": "2022-03-26T21:29:21.124Z"
   },
   {
    "duration": 12,
    "start_time": "2022-03-26T21:29:25.446Z"
   },
   {
    "duration": 13,
    "start_time": "2022-03-26T21:29:28.116Z"
   },
   {
    "duration": 9,
    "start_time": "2022-03-26T21:30:36.852Z"
   },
   {
    "duration": 9,
    "start_time": "2022-03-26T21:30:41.705Z"
   },
   {
    "duration": 16,
    "start_time": "2022-03-26T21:35:33.913Z"
   },
   {
    "duration": 13,
    "start_time": "2022-03-26T21:35:38.688Z"
   },
   {
    "duration": 424,
    "start_time": "2022-03-26T21:36:00.024Z"
   },
   {
    "duration": 191,
    "start_time": "2022-03-26T21:36:00.451Z"
   },
   {
    "duration": 30,
    "start_time": "2022-03-26T21:36:00.644Z"
   },
   {
    "duration": 171,
    "start_time": "2022-03-26T21:36:00.677Z"
   },
   {
    "duration": 593,
    "start_time": "2022-03-26T21:36:00.850Z"
   },
   {
    "duration": 73,
    "start_time": "2022-03-26T21:36:01.445Z"
   },
   {
    "duration": 5,
    "start_time": "2022-03-26T21:36:01.520Z"
   },
   {
    "duration": 13,
    "start_time": "2022-03-26T21:36:01.527Z"
   },
   {
    "duration": 95,
    "start_time": "2022-03-26T21:36:01.542Z"
   },
   {
    "duration": 151,
    "start_time": "2022-03-26T21:36:01.640Z"
   },
   {
    "duration": 25,
    "start_time": "2022-03-26T21:36:01.793Z"
   },
   {
    "duration": 99,
    "start_time": "2022-03-26T21:36:01.820Z"
   },
   {
    "duration": 209,
    "start_time": "2022-03-26T21:36:01.921Z"
   },
   {
    "duration": 43,
    "start_time": "2022-03-26T21:36:02.132Z"
   },
   {
    "duration": 47,
    "start_time": "2022-03-26T21:36:02.178Z"
   },
   {
    "duration": 5,
    "start_time": "2022-03-26T21:36:02.227Z"
   },
   {
    "duration": 13,
    "start_time": "2022-03-26T21:36:02.234Z"
   },
   {
    "duration": 15,
    "start_time": "2022-03-26T21:36:02.250Z"
   },
   {
    "duration": 134,
    "start_time": "2022-03-26T21:36:02.268Z"
   },
   {
    "duration": 22,
    "start_time": "2022-03-26T21:36:02.405Z"
   },
   {
    "duration": 81,
    "start_time": "2022-03-26T21:36:02.429Z"
   },
   {
    "duration": 36,
    "start_time": "2022-03-26T21:36:02.512Z"
   },
   {
    "duration": 56,
    "start_time": "2022-03-26T21:36:02.550Z"
   },
   {
    "duration": 16,
    "start_time": "2022-03-26T21:36:02.608Z"
   },
   {
    "duration": 25,
    "start_time": "2022-03-26T21:36:02.626Z"
   },
   {
    "duration": 14,
    "start_time": "2022-03-26T21:36:02.653Z"
   },
   {
    "duration": 17,
    "start_time": "2022-03-26T21:36:02.669Z"
   },
   {
    "duration": 17,
    "start_time": "2022-03-26T21:36:02.704Z"
   },
   {
    "duration": 17,
    "start_time": "2022-03-26T21:36:02.723Z"
   },
   {
    "duration": 16,
    "start_time": "2022-03-26T21:36:02.742Z"
   },
   {
    "duration": 4,
    "start_time": "2022-03-26T21:36:02.760Z"
   },
   {
    "duration": 3445,
    "start_time": "2022-03-26T21:36:02.766Z"
   },
   {
    "duration": 2350,
    "start_time": "2022-03-26T21:47:23.695Z"
   },
   {
    "duration": 10,
    "start_time": "2022-03-26T21:47:41.637Z"
   },
   {
    "duration": 13,
    "start_time": "2022-03-26T21:48:01.979Z"
   },
   {
    "duration": 12,
    "start_time": "2022-03-26T21:48:21.675Z"
   },
   {
    "duration": 6,
    "start_time": "2022-03-26T22:09:41.654Z"
   },
   {
    "duration": 5,
    "start_time": "2022-03-26T22:09:48.010Z"
   },
   {
    "duration": 14,
    "start_time": "2022-03-26T22:09:55.015Z"
   },
   {
    "duration": 400,
    "start_time": "2022-03-26T22:11:26.350Z"
   },
   {
    "duration": 174,
    "start_time": "2022-03-26T22:11:26.753Z"
   },
   {
    "duration": 30,
    "start_time": "2022-03-26T22:11:26.929Z"
   },
   {
    "duration": 146,
    "start_time": "2022-03-26T22:11:26.962Z"
   },
   {
    "duration": 471,
    "start_time": "2022-03-26T22:11:27.110Z"
   },
   {
    "duration": 64,
    "start_time": "2022-03-26T22:11:27.583Z"
   },
   {
    "duration": 5,
    "start_time": "2022-03-26T22:11:27.649Z"
   },
   {
    "duration": 14,
    "start_time": "2022-03-26T22:11:27.656Z"
   },
   {
    "duration": 93,
    "start_time": "2022-03-26T22:11:27.672Z"
   },
   {
    "duration": 150,
    "start_time": "2022-03-26T22:11:27.768Z"
   },
   {
    "duration": 24,
    "start_time": "2022-03-26T22:11:27.921Z"
   },
   {
    "duration": 93,
    "start_time": "2022-03-26T22:11:27.947Z"
   },
   {
    "duration": 195,
    "start_time": "2022-03-26T22:11:28.042Z"
   },
   {
    "duration": 41,
    "start_time": "2022-03-26T22:11:28.239Z"
   },
   {
    "duration": 46,
    "start_time": "2022-03-26T22:11:28.282Z"
   },
   {
    "duration": 5,
    "start_time": "2022-03-26T22:11:28.330Z"
   },
   {
    "duration": 11,
    "start_time": "2022-03-26T22:11:28.337Z"
   },
   {
    "duration": 14,
    "start_time": "2022-03-26T22:11:28.350Z"
   },
   {
    "duration": 171,
    "start_time": "2022-03-26T22:11:28.366Z"
   },
   {
    "duration": 34,
    "start_time": "2022-03-26T22:11:28.540Z"
   },
   {
    "duration": 92,
    "start_time": "2022-03-26T22:11:28.577Z"
   },
   {
    "duration": 65,
    "start_time": "2022-03-26T22:11:28.671Z"
   },
   {
    "duration": 68,
    "start_time": "2022-03-26T22:11:28.738Z"
   },
   {
    "duration": 20,
    "start_time": "2022-03-26T22:11:28.809Z"
   },
   {
    "duration": 32,
    "start_time": "2022-03-26T22:11:28.832Z"
   },
   {
    "duration": 12,
    "start_time": "2022-03-26T22:11:28.866Z"
   },
   {
    "duration": 25,
    "start_time": "2022-03-26T22:11:28.880Z"
   },
   {
    "duration": 15,
    "start_time": "2022-03-26T22:11:28.910Z"
   },
   {
    "duration": 13,
    "start_time": "2022-03-26T22:11:28.927Z"
   },
   {
    "duration": 16,
    "start_time": "2022-03-26T22:11:28.942Z"
   },
   {
    "duration": 115,
    "start_time": "2022-03-26T22:11:28.960Z"
   },
   {
    "duration": 0,
    "start_time": "2022-03-26T22:11:29.077Z"
   },
   {
    "duration": 12,
    "start_time": "2022-03-26T22:12:25.180Z"
   },
   {
    "duration": 12,
    "start_time": "2022-03-26T22:12:38.325Z"
   },
   {
    "duration": 11,
    "start_time": "2022-03-26T22:12:42.949Z"
   },
   {
    "duration": 12,
    "start_time": "2022-03-26T22:13:03.242Z"
   },
   {
    "duration": 158,
    "start_time": "2022-03-26T22:18:17.311Z"
   },
   {
    "duration": 156,
    "start_time": "2022-03-26T22:18:33.692Z"
   },
   {
    "duration": 81,
    "start_time": "2022-03-26T22:18:53.724Z"
   },
   {
    "duration": 65,
    "start_time": "2022-03-26T22:19:21.790Z"
   },
   {
    "duration": 13,
    "start_time": "2022-03-26T22:21:01.200Z"
   },
   {
    "duration": 13,
    "start_time": "2022-03-26T22:22:47.436Z"
   },
   {
    "duration": 16,
    "start_time": "2022-03-26T22:25:31.868Z"
   },
   {
    "duration": 13,
    "start_time": "2022-03-26T22:25:32.991Z"
   },
   {
    "duration": 10,
    "start_time": "2022-03-26T22:25:48.168Z"
   },
   {
    "duration": 14,
    "start_time": "2022-03-26T22:25:58.395Z"
   },
   {
    "duration": 31,
    "start_time": "2022-03-26T22:28:12.695Z"
   },
   {
    "duration": 11,
    "start_time": "2022-03-26T22:28:18.059Z"
   },
   {
    "duration": 11,
    "start_time": "2022-03-26T22:30:18.475Z"
   },
   {
    "duration": 40,
    "start_time": "2022-03-26T22:30:28.064Z"
   },
   {
    "duration": 19,
    "start_time": "2022-03-26T22:31:04.195Z"
   },
   {
    "duration": 45,
    "start_time": "2022-03-27T11:19:28.947Z"
   },
   {
    "duration": 357,
    "start_time": "2022-03-27T11:19:36.833Z"
   },
   {
    "duration": 146,
    "start_time": "2022-03-27T11:19:37.192Z"
   },
   {
    "duration": 25,
    "start_time": "2022-03-27T11:19:37.340Z"
   },
   {
    "duration": 136,
    "start_time": "2022-03-27T11:19:37.367Z"
   },
   {
    "duration": 572,
    "start_time": "2022-03-27T11:19:37.505Z"
   },
   {
    "duration": 53,
    "start_time": "2022-03-27T11:19:38.081Z"
   },
   {
    "duration": 5,
    "start_time": "2022-03-27T11:19:38.135Z"
   },
   {
    "duration": 11,
    "start_time": "2022-03-27T11:19:38.141Z"
   },
   {
    "duration": 53,
    "start_time": "2022-03-27T11:19:38.153Z"
   },
   {
    "duration": 173,
    "start_time": "2022-03-27T11:19:38.209Z"
   },
   {
    "duration": 20,
    "start_time": "2022-03-27T11:19:38.384Z"
   },
   {
    "duration": 56,
    "start_time": "2022-03-27T11:19:38.405Z"
   },
   {
    "duration": 178,
    "start_time": "2022-03-27T11:19:38.462Z"
   },
   {
    "duration": 44,
    "start_time": "2022-03-27T11:19:38.642Z"
   },
   {
    "duration": 24,
    "start_time": "2022-03-27T11:19:38.688Z"
   },
   {
    "duration": 6,
    "start_time": "2022-03-27T11:19:38.714Z"
   },
   {
    "duration": 10,
    "start_time": "2022-03-27T11:19:38.722Z"
   },
   {
    "duration": 101,
    "start_time": "2022-03-27T11:19:38.734Z"
   },
   {
    "duration": 17,
    "start_time": "2022-03-27T11:19:38.836Z"
   },
   {
    "duration": 56,
    "start_time": "2022-03-27T11:19:38.855Z"
   },
   {
    "duration": 30,
    "start_time": "2022-03-27T11:19:38.913Z"
   },
   {
    "duration": 100,
    "start_time": "2022-03-27T11:19:38.945Z"
   },
   {
    "duration": 20,
    "start_time": "2022-03-27T11:19:39.047Z"
   },
   {
    "duration": 44,
    "start_time": "2022-03-27T11:19:39.068Z"
   },
   {
    "duration": 10,
    "start_time": "2022-03-27T11:19:39.113Z"
   },
   {
    "duration": 13,
    "start_time": "2022-03-27T11:19:39.124Z"
   },
   {
    "duration": 72,
    "start_time": "2022-03-27T11:19:39.138Z"
   },
   {
    "duration": 0,
    "start_time": "2022-03-27T11:19:39.211Z"
   },
   {
    "duration": 0,
    "start_time": "2022-03-27T11:19:39.212Z"
   },
   {
    "duration": 0,
    "start_time": "2022-03-27T11:19:39.213Z"
   },
   {
    "duration": 0,
    "start_time": "2022-03-27T11:19:39.215Z"
   },
   {
    "duration": 0,
    "start_time": "2022-03-27T11:19:39.216Z"
   },
   {
    "duration": 18,
    "start_time": "2022-03-27T11:21:33.379Z"
   },
   {
    "duration": 37,
    "start_time": "2022-03-27T11:21:58.385Z"
   },
   {
    "duration": 460,
    "start_time": "2022-03-27T11:22:14.203Z"
   },
   {
    "duration": 235,
    "start_time": "2022-03-27T11:22:14.665Z"
   },
   {
    "duration": 38,
    "start_time": "2022-03-27T11:22:14.902Z"
   },
   {
    "duration": 154,
    "start_time": "2022-03-27T11:22:14.942Z"
   },
   {
    "duration": 427,
    "start_time": "2022-03-27T11:22:15.098Z"
   },
   {
    "duration": 57,
    "start_time": "2022-03-27T11:22:15.527Z"
   },
   {
    "duration": 5,
    "start_time": "2022-03-27T11:22:15.586Z"
   },
   {
    "duration": 11,
    "start_time": "2022-03-27T11:22:15.592Z"
   },
   {
    "duration": 37,
    "start_time": "2022-03-27T11:22:15.605Z"
   },
   {
    "duration": 136,
    "start_time": "2022-03-27T11:22:15.646Z"
   },
   {
    "duration": 21,
    "start_time": "2022-03-27T11:22:15.784Z"
   },
   {
    "duration": 79,
    "start_time": "2022-03-27T11:22:15.807Z"
   },
   {
    "duration": 168,
    "start_time": "2022-03-27T11:22:15.888Z"
   },
   {
    "duration": 46,
    "start_time": "2022-03-27T11:22:16.058Z"
   },
   {
    "duration": 26,
    "start_time": "2022-03-27T11:22:16.106Z"
   },
   {
    "duration": 7,
    "start_time": "2022-03-27T11:22:16.133Z"
   },
   {
    "duration": 11,
    "start_time": "2022-03-27T11:22:16.142Z"
   },
   {
    "duration": 95,
    "start_time": "2022-03-27T11:22:16.155Z"
   },
   {
    "duration": 34,
    "start_time": "2022-03-27T11:22:16.252Z"
   },
   {
    "duration": 62,
    "start_time": "2022-03-27T11:22:16.288Z"
   },
   {
    "duration": 56,
    "start_time": "2022-03-27T11:22:16.352Z"
   },
   {
    "duration": 43,
    "start_time": "2022-03-27T11:22:16.410Z"
   },
   {
    "duration": 27,
    "start_time": "2022-03-27T11:22:16.455Z"
   },
   {
    "duration": 47,
    "start_time": "2022-03-27T11:22:16.483Z"
   },
   {
    "duration": 10,
    "start_time": "2022-03-27T11:22:16.531Z"
   },
   {
    "duration": 7,
    "start_time": "2022-03-27T11:22:16.543Z"
   },
   {
    "duration": 11,
    "start_time": "2022-03-27T11:22:16.551Z"
   },
   {
    "duration": 8,
    "start_time": "2022-03-27T11:22:16.565Z"
   },
   {
    "duration": 11,
    "start_time": "2022-03-27T11:22:16.575Z"
   },
   {
    "duration": 7,
    "start_time": "2022-03-27T11:22:16.588Z"
   },
   {
    "duration": 17,
    "start_time": "2022-03-27T11:22:16.597Z"
   },
   {
    "duration": 3047,
    "start_time": "2022-03-27T11:22:16.616Z"
   },
   {
    "duration": 3,
    "start_time": "2022-03-27T11:24:18.269Z"
   },
   {
    "duration": 7,
    "start_time": "2022-03-27T11:24:33.690Z"
   },
   {
    "duration": 12,
    "start_time": "2022-03-27T11:25:46.498Z"
   },
   {
    "duration": 28,
    "start_time": "2022-03-27T11:35:53.259Z"
   },
   {
    "duration": 30,
    "start_time": "2022-03-27T11:36:15.462Z"
   },
   {
    "duration": 46,
    "start_time": "2022-03-27T11:37:43.716Z"
   },
   {
    "duration": 9,
    "start_time": "2022-03-27T11:38:30.644Z"
   },
   {
    "duration": 43,
    "start_time": "2022-03-27T11:38:49.735Z"
   },
   {
    "duration": 3,
    "start_time": "2022-03-27T11:39:19.028Z"
   },
   {
    "duration": 7,
    "start_time": "2022-03-27T11:39:29.685Z"
   },
   {
    "duration": 73,
    "start_time": "2022-03-27T11:40:06.139Z"
   },
   {
    "duration": 75,
    "start_time": "2022-03-27T11:40:42.619Z"
   },
   {
    "duration": 199,
    "start_time": "2022-03-27T11:42:40.741Z"
   },
   {
    "duration": 200,
    "start_time": "2022-03-27T11:43:27.428Z"
   },
   {
    "duration": 9,
    "start_time": "2022-03-27T11:44:19.731Z"
   },
   {
    "duration": 42,
    "start_time": "2022-03-27T11:44:40.817Z"
   },
   {
    "duration": 8,
    "start_time": "2022-03-27T11:48:03.264Z"
   },
   {
    "duration": 95,
    "start_time": "2022-03-27T11:48:15.348Z"
   },
   {
    "duration": 57,
    "start_time": "2022-03-27T11:48:34.835Z"
   },
   {
    "duration": 8,
    "start_time": "2022-03-27T11:48:45.328Z"
   },
   {
    "duration": 60,
    "start_time": "2022-03-27T11:48:50.831Z"
   },
   {
    "duration": 39,
    "start_time": "2022-03-27T11:49:03.916Z"
   },
   {
    "duration": 3,
    "start_time": "2022-03-27T11:49:42.742Z"
   },
   {
    "duration": 7,
    "start_time": "2022-03-27T11:49:43.384Z"
   },
   {
    "duration": 37,
    "start_time": "2022-03-27T11:51:45.405Z"
   },
   {
    "duration": 4,
    "start_time": "2022-03-27T11:51:49.601Z"
   },
   {
    "duration": 9,
    "start_time": "2022-03-27T11:51:52.352Z"
   },
   {
    "duration": 33,
    "start_time": "2022-03-27T11:52:32.227Z"
   },
   {
    "duration": 28,
    "start_time": "2022-03-27T11:52:46.860Z"
   },
   {
    "duration": 348,
    "start_time": "2022-03-27T11:54:14.136Z"
   },
   {
    "duration": 149,
    "start_time": "2022-03-27T11:54:14.486Z"
   },
   {
    "duration": 23,
    "start_time": "2022-03-27T11:54:14.637Z"
   },
   {
    "duration": 109,
    "start_time": "2022-03-27T11:54:14.662Z"
   },
   {
    "duration": 444,
    "start_time": "2022-03-27T11:54:14.772Z"
   },
   {
    "duration": 48,
    "start_time": "2022-03-27T11:54:15.217Z"
   },
   {
    "duration": 14,
    "start_time": "2022-03-27T11:54:15.267Z"
   },
   {
    "duration": 10,
    "start_time": "2022-03-27T11:54:15.283Z"
   },
   {
    "duration": 48,
    "start_time": "2022-03-27T11:54:15.295Z"
   },
   {
    "duration": 4,
    "start_time": "2022-03-27T11:54:15.346Z"
   },
   {
    "duration": 30,
    "start_time": "2022-03-27T11:54:15.352Z"
   },
   {
    "duration": 130,
    "start_time": "2022-03-27T11:54:15.384Z"
   },
   {
    "duration": 21,
    "start_time": "2022-03-27T11:54:15.516Z"
   },
   {
    "duration": 71,
    "start_time": "2022-03-27T11:54:15.539Z"
   },
   {
    "duration": 161,
    "start_time": "2022-03-27T11:54:15.612Z"
   },
   {
    "duration": 38,
    "start_time": "2022-03-27T11:54:15.775Z"
   },
   {
    "duration": 24,
    "start_time": "2022-03-27T11:54:15.815Z"
   },
   {
    "duration": 7,
    "start_time": "2022-03-27T11:54:15.841Z"
   },
   {
    "duration": 32,
    "start_time": "2022-03-27T11:54:15.850Z"
   },
   {
    "duration": 90,
    "start_time": "2022-03-27T11:54:15.883Z"
   },
   {
    "duration": 28,
    "start_time": "2022-03-27T11:54:15.975Z"
   },
   {
    "duration": 59,
    "start_time": "2022-03-27T11:54:16.005Z"
   },
   {
    "duration": 39,
    "start_time": "2022-03-27T11:54:16.066Z"
   },
   {
    "duration": 33,
    "start_time": "2022-03-27T11:54:16.107Z"
   },
   {
    "duration": 4,
    "start_time": "2022-03-27T11:54:16.142Z"
   },
   {
    "duration": 12,
    "start_time": "2022-03-27T11:54:16.149Z"
   },
   {
    "duration": 23,
    "start_time": "2022-03-27T11:54:16.182Z"
   },
   {
    "duration": 44,
    "start_time": "2022-03-27T11:54:16.209Z"
   },
   {
    "duration": 10,
    "start_time": "2022-03-27T11:54:16.254Z"
   },
   {
    "duration": 7,
    "start_time": "2022-03-27T11:54:16.266Z"
   },
   {
    "duration": 9,
    "start_time": "2022-03-27T11:54:16.275Z"
   },
   {
    "duration": 11,
    "start_time": "2022-03-27T11:54:16.285Z"
   },
   {
    "duration": 10,
    "start_time": "2022-03-27T11:54:16.297Z"
   },
   {
    "duration": 8,
    "start_time": "2022-03-27T11:54:16.309Z"
   },
   {
    "duration": 18,
    "start_time": "2022-03-27T11:54:16.318Z"
   },
   {
    "duration": 3077,
    "start_time": "2022-03-27T11:54:16.337Z"
   },
   {
    "duration": 14,
    "start_time": "2022-03-27T11:58:49.545Z"
   },
   {
    "duration": 7,
    "start_time": "2022-03-27T11:59:13.485Z"
   },
   {
    "duration": 19,
    "start_time": "2022-03-27T11:59:22.660Z"
   },
   {
    "duration": 367,
    "start_time": "2022-03-27T11:59:57.298Z"
   },
   {
    "duration": 151,
    "start_time": "2022-03-27T11:59:57.667Z"
   },
   {
    "duration": 25,
    "start_time": "2022-03-27T11:59:57.821Z"
   },
   {
    "duration": 143,
    "start_time": "2022-03-27T11:59:57.848Z"
   },
   {
    "duration": 438,
    "start_time": "2022-03-27T11:59:57.993Z"
   },
   {
    "duration": 62,
    "start_time": "2022-03-27T11:59:58.433Z"
   },
   {
    "duration": 4,
    "start_time": "2022-03-27T11:59:58.497Z"
   },
   {
    "duration": 11,
    "start_time": "2022-03-27T11:59:58.502Z"
   },
   {
    "duration": 45,
    "start_time": "2022-03-27T11:59:58.516Z"
   },
   {
    "duration": 18,
    "start_time": "2022-03-27T11:59:58.563Z"
   },
   {
    "duration": 10,
    "start_time": "2022-03-27T11:59:58.583Z"
   },
   {
    "duration": 129,
    "start_time": "2022-03-27T11:59:58.594Z"
   },
   {
    "duration": 19,
    "start_time": "2022-03-27T11:59:58.725Z"
   },
   {
    "duration": 110,
    "start_time": "2022-03-27T11:59:58.745Z"
   },
   {
    "duration": 164,
    "start_time": "2022-03-27T11:59:58.857Z"
   },
   {
    "duration": 33,
    "start_time": "2022-03-27T11:59:59.023Z"
   },
   {
    "duration": 37,
    "start_time": "2022-03-27T11:59:59.058Z"
   },
   {
    "duration": 6,
    "start_time": "2022-03-27T11:59:59.097Z"
   },
   {
    "duration": 11,
    "start_time": "2022-03-27T11:59:59.105Z"
   },
   {
    "duration": 99,
    "start_time": "2022-03-27T11:59:59.117Z"
   },
   {
    "duration": 18,
    "start_time": "2022-03-27T11:59:59.218Z"
   },
   {
    "duration": 53,
    "start_time": "2022-03-27T11:59:59.238Z"
   },
   {
    "duration": 30,
    "start_time": "2022-03-27T11:59:59.293Z"
   },
   {
    "duration": 30,
    "start_time": "2022-03-27T11:59:59.324Z"
   },
   {
    "duration": 3,
    "start_time": "2022-03-27T11:59:59.355Z"
   },
   {
    "duration": 28,
    "start_time": "2022-03-27T11:59:59.359Z"
   },
   {
    "duration": 21,
    "start_time": "2022-03-27T11:59:59.390Z"
   },
   {
    "duration": 48,
    "start_time": "2022-03-27T11:59:59.413Z"
   },
   {
    "duration": 12,
    "start_time": "2022-03-27T11:59:59.462Z"
   },
   {
    "duration": 8,
    "start_time": "2022-03-27T11:59:59.475Z"
   },
   {
    "duration": 12,
    "start_time": "2022-03-27T11:59:59.484Z"
   },
   {
    "duration": 10,
    "start_time": "2022-03-27T11:59:59.497Z"
   },
   {
    "duration": 8,
    "start_time": "2022-03-27T11:59:59.509Z"
   },
   {
    "duration": 8,
    "start_time": "2022-03-27T11:59:59.518Z"
   },
   {
    "duration": 11,
    "start_time": "2022-03-27T11:59:59.528Z"
   },
   {
    "duration": 3697,
    "start_time": "2022-03-27T11:59:59.541Z"
   },
   {
    "duration": 7,
    "start_time": "2022-03-27T12:08:30.314Z"
   },
   {
    "duration": 14,
    "start_time": "2022-03-27T12:08:51.052Z"
   },
   {
    "duration": 7,
    "start_time": "2022-03-27T12:09:56.867Z"
   },
   {
    "duration": 15,
    "start_time": "2022-03-27T12:10:04.731Z"
   },
   {
    "duration": 8,
    "start_time": "2022-03-27T12:56:43.408Z"
   },
   {
    "duration": 382,
    "start_time": "2022-03-27T12:56:53.311Z"
   },
   {
    "duration": 155,
    "start_time": "2022-03-27T12:56:53.694Z"
   },
   {
    "duration": 25,
    "start_time": "2022-03-27T12:56:53.851Z"
   },
   {
    "duration": 99,
    "start_time": "2022-03-27T12:56:53.877Z"
   },
   {
    "duration": 608,
    "start_time": "2022-03-27T12:56:53.978Z"
   },
   {
    "duration": 59,
    "start_time": "2022-03-27T12:56:54.588Z"
   },
   {
    "duration": 6,
    "start_time": "2022-03-27T12:56:54.648Z"
   },
   {
    "duration": 10,
    "start_time": "2022-03-27T12:56:54.655Z"
   },
   {
    "duration": 65,
    "start_time": "2022-03-27T12:56:54.666Z"
   },
   {
    "duration": 3,
    "start_time": "2022-03-27T12:56:54.732Z"
   },
   {
    "duration": 8,
    "start_time": "2022-03-27T12:56:54.737Z"
   },
   {
    "duration": 118,
    "start_time": "2022-03-27T12:56:54.746Z"
   },
   {
    "duration": 20,
    "start_time": "2022-03-27T12:56:54.865Z"
   },
   {
    "duration": 56,
    "start_time": "2022-03-27T12:56:54.901Z"
   },
   {
    "duration": 168,
    "start_time": "2022-03-27T12:56:54.959Z"
   },
   {
    "duration": 36,
    "start_time": "2022-03-27T12:56:55.129Z"
   },
   {
    "duration": 42,
    "start_time": "2022-03-27T12:56:55.166Z"
   },
   {
    "duration": 7,
    "start_time": "2022-03-27T12:56:55.209Z"
   },
   {
    "duration": 9,
    "start_time": "2022-03-27T12:56:55.217Z"
   },
   {
    "duration": 86,
    "start_time": "2022-03-27T12:56:55.227Z"
   },
   {
    "duration": 16,
    "start_time": "2022-03-27T12:56:55.315Z"
   },
   {
    "duration": 38,
    "start_time": "2022-03-27T12:56:55.332Z"
   },
   {
    "duration": 50,
    "start_time": "2022-03-27T12:56:55.371Z"
   },
   {
    "duration": 84,
    "start_time": "2022-03-27T12:56:55.423Z"
   },
   {
    "duration": 3,
    "start_time": "2022-03-27T12:56:55.509Z"
   },
   {
    "duration": 11,
    "start_time": "2022-03-27T12:56:55.513Z"
   },
   {
    "duration": 19,
    "start_time": "2022-03-27T12:56:55.525Z"
   },
   {
    "duration": 42,
    "start_time": "2022-03-27T12:56:55.546Z"
   },
   {
    "duration": 9,
    "start_time": "2022-03-27T12:56:55.590Z"
   },
   {
    "duration": 6,
    "start_time": "2022-03-27T12:56:55.601Z"
   },
   {
    "duration": 7,
    "start_time": "2022-03-27T12:56:55.609Z"
   },
   {
    "duration": 8,
    "start_time": "2022-03-27T12:56:55.618Z"
   },
   {
    "duration": 7,
    "start_time": "2022-03-27T12:56:55.627Z"
   },
   {
    "duration": 7,
    "start_time": "2022-03-27T12:56:55.636Z"
   },
   {
    "duration": 13,
    "start_time": "2022-03-27T12:56:55.644Z"
   },
   {
    "duration": 9,
    "start_time": "2022-03-27T12:56:55.658Z"
   },
   {
    "duration": 44,
    "start_time": "2022-03-27T12:56:55.668Z"
   },
   {
    "duration": 4,
    "start_time": "2022-03-27T12:56:55.713Z"
   },
   {
    "duration": 3013,
    "start_time": "2022-03-27T12:56:55.718Z"
   },
   {
    "duration": 1694,
    "start_time": "2022-03-27T12:57:19.559Z"
   },
   {
    "duration": 16,
    "start_time": "2022-03-27T12:57:50.568Z"
   },
   {
    "duration": 4,
    "start_time": "2022-03-27T12:59:12.124Z"
   },
   {
    "duration": 98,
    "start_time": "2022-03-27T12:59:13.238Z"
   },
   {
    "duration": 15,
    "start_time": "2022-03-27T12:59:16.546Z"
   },
   {
    "duration": 8,
    "start_time": "2022-03-27T12:59:39.611Z"
   },
   {
    "duration": 123,
    "start_time": "2022-03-27T12:59:56.998Z"
   },
   {
    "duration": 143,
    "start_time": "2022-03-27T13:00:23.233Z"
   },
   {
    "duration": 7,
    "start_time": "2022-03-27T13:27:08.589Z"
   },
   {
    "duration": 6,
    "start_time": "2022-03-27T13:27:35.347Z"
   },
   {
    "duration": 6,
    "start_time": "2022-03-27T13:28:07.336Z"
   },
   {
    "duration": 7,
    "start_time": "2022-03-27T13:28:10.298Z"
   },
   {
    "duration": 19,
    "start_time": "2022-03-27T13:33:30.005Z"
   },
   {
    "duration": 3118,
    "start_time": "2022-03-27T13:34:24.054Z"
   },
   {
    "duration": 13,
    "start_time": "2022-03-27T13:34:51.237Z"
   },
   {
    "duration": 7,
    "start_time": "2022-03-27T13:35:27.811Z"
   },
   {
    "duration": 9,
    "start_time": "2022-03-27T13:35:39.831Z"
   },
   {
    "duration": 11,
    "start_time": "2022-03-27T13:35:45.843Z"
   },
   {
    "duration": 7,
    "start_time": "2022-03-27T13:36:02.562Z"
   },
   {
    "duration": 2,
    "start_time": "2022-03-27T13:36:07.141Z"
   },
   {
    "duration": 3,
    "start_time": "2022-03-27T13:36:21.539Z"
   },
   {
    "duration": 8,
    "start_time": "2022-03-27T13:36:31.776Z"
   },
   {
    "duration": 11,
    "start_time": "2022-03-27T13:36:33.166Z"
   },
   {
    "duration": 9,
    "start_time": "2022-03-27T13:37:24.677Z"
   },
   {
    "duration": 8,
    "start_time": "2022-03-27T13:37:36.871Z"
   },
   {
    "duration": 10,
    "start_time": "2022-03-27T13:37:41.205Z"
   },
   {
    "duration": 6,
    "start_time": "2022-03-27T13:38:45.198Z"
   },
   {
    "duration": 5,
    "start_time": "2022-03-27T13:39:12.090Z"
   },
   {
    "duration": 4,
    "start_time": "2022-03-27T13:39:58.748Z"
   },
   {
    "duration": 6,
    "start_time": "2022-03-27T13:40:17.018Z"
   },
   {
    "duration": 7,
    "start_time": "2022-03-27T13:40:39.850Z"
   },
   {
    "duration": 7,
    "start_time": "2022-03-27T13:42:52.794Z"
   },
   {
    "duration": 6,
    "start_time": "2022-03-27T13:43:29.987Z"
   },
   {
    "duration": 211,
    "start_time": "2022-03-27T13:44:18.562Z"
   },
   {
    "duration": 5,
    "start_time": "2022-03-27T13:46:36.212Z"
   },
   {
    "duration": 4,
    "start_time": "2022-03-27T13:46:40.362Z"
   },
   {
    "duration": 4,
    "start_time": "2022-03-27T13:47:09.453Z"
   },
   {
    "duration": 130,
    "start_time": "2022-03-27T13:48:49.041Z"
   },
   {
    "duration": 21,
    "start_time": "2022-03-27T13:50:19.937Z"
   },
   {
    "duration": 5,
    "start_time": "2022-03-27T13:58:51.908Z"
   },
   {
    "duration": 4,
    "start_time": "2022-03-27T13:58:54.522Z"
   },
   {
    "duration": 6,
    "start_time": "2022-03-27T13:59:11.451Z"
   },
   {
    "duration": 5,
    "start_time": "2022-03-27T13:59:14.593Z"
   },
   {
    "duration": 178,
    "start_time": "2022-03-27T13:59:25.799Z"
   },
   {
    "duration": 143,
    "start_time": "2022-03-27T13:59:49.492Z"
   },
   {
    "duration": 429,
    "start_time": "2022-03-27T14:03:36.678Z"
   },
   {
    "duration": 170,
    "start_time": "2022-03-27T14:03:37.109Z"
   },
   {
    "duration": 24,
    "start_time": "2022-03-27T14:03:37.280Z"
   },
   {
    "duration": 113,
    "start_time": "2022-03-27T14:03:37.306Z"
   },
   {
    "duration": 457,
    "start_time": "2022-03-27T14:03:37.421Z"
   },
   {
    "duration": 53,
    "start_time": "2022-03-27T14:03:37.880Z"
   },
   {
    "duration": 4,
    "start_time": "2022-03-27T14:03:37.935Z"
   },
   {
    "duration": 11,
    "start_time": "2022-03-27T14:03:37.940Z"
   },
   {
    "duration": 59,
    "start_time": "2022-03-27T14:03:37.952Z"
   },
   {
    "duration": 3,
    "start_time": "2022-03-27T14:03:38.013Z"
   },
   {
    "duration": 10,
    "start_time": "2022-03-27T14:03:38.018Z"
   },
   {
    "duration": 1866,
    "start_time": "2022-03-27T14:03:38.029Z"
   },
   {
    "duration": 22,
    "start_time": "2022-03-27T14:03:39.897Z"
   },
   {
    "duration": 57,
    "start_time": "2022-03-27T14:03:39.921Z"
   },
   {
    "duration": 182,
    "start_time": "2022-03-27T14:03:39.979Z"
   },
   {
    "duration": 40,
    "start_time": "2022-03-27T14:03:40.163Z"
   },
   {
    "duration": 26,
    "start_time": "2022-03-27T14:03:40.204Z"
   },
   {
    "duration": 7,
    "start_time": "2022-03-27T14:03:40.232Z"
   },
   {
    "duration": 11,
    "start_time": "2022-03-27T14:03:40.240Z"
   },
   {
    "duration": 111,
    "start_time": "2022-03-27T14:03:40.252Z"
   },
   {
    "duration": 19,
    "start_time": "2022-03-27T14:03:40.365Z"
   },
   {
    "duration": 62,
    "start_time": "2022-03-27T14:03:40.386Z"
   },
   {
    "duration": 55,
    "start_time": "2022-03-27T14:03:40.450Z"
   },
   {
    "duration": 31,
    "start_time": "2022-03-27T14:03:40.507Z"
   },
   {
    "duration": 3,
    "start_time": "2022-03-27T14:03:40.539Z"
   },
   {
    "duration": 12,
    "start_time": "2022-03-27T14:03:40.543Z"
   },
   {
    "duration": 22,
    "start_time": "2022-03-27T14:03:40.557Z"
   },
   {
    "duration": 105,
    "start_time": "2022-03-27T14:03:40.582Z"
   },
   {
    "duration": 10,
    "start_time": "2022-03-27T14:03:40.689Z"
   },
   {
    "duration": 54,
    "start_time": "2022-03-27T14:03:40.700Z"
   },
   {
    "duration": 7,
    "start_time": "2022-03-27T14:03:40.756Z"
   },
   {
    "duration": 10,
    "start_time": "2022-03-27T14:03:40.765Z"
   },
   {
    "duration": 13,
    "start_time": "2022-03-27T14:03:40.777Z"
   },
   {
    "duration": 8,
    "start_time": "2022-03-27T14:03:40.792Z"
   },
   {
    "duration": 22,
    "start_time": "2022-03-27T14:03:40.802Z"
   },
   {
    "duration": 12,
    "start_time": "2022-03-27T14:03:40.825Z"
   },
   {
    "duration": 19,
    "start_time": "2022-03-27T14:03:40.839Z"
   },
   {
    "duration": 15,
    "start_time": "2022-03-27T14:03:40.859Z"
   },
   {
    "duration": 117,
    "start_time": "2022-03-27T14:03:40.876Z"
   },
   {
    "duration": 207,
    "start_time": "2022-03-27T14:03:40.995Z"
   },
   {
    "duration": 7,
    "start_time": "2022-03-27T14:03:41.203Z"
   },
   {
    "duration": 13,
    "start_time": "2022-03-27T14:03:41.212Z"
   },
   {
    "duration": 4,
    "start_time": "2022-03-27T14:03:41.227Z"
   },
   {
    "duration": 5,
    "start_time": "2022-03-27T14:03:41.232Z"
   },
   {
    "duration": 5,
    "start_time": "2022-03-27T14:03:41.238Z"
   },
   {
    "duration": 179,
    "start_time": "2022-03-27T14:03:41.245Z"
   },
   {
    "duration": 4,
    "start_time": "2022-03-27T14:03:41.425Z"
   },
   {
    "duration": 4,
    "start_time": "2022-03-27T14:03:41.431Z"
   },
   {
    "duration": 5,
    "start_time": "2022-03-27T14:03:41.436Z"
   },
   {
    "duration": 151,
    "start_time": "2022-03-27T14:03:41.442Z"
   },
   {
    "duration": 632,
    "start_time": "2022-03-27T14:03:41.600Z"
   },
   {
    "duration": 0,
    "start_time": "2022-03-27T14:03:42.233Z"
   },
   {
    "duration": 0,
    "start_time": "2022-03-27T14:03:42.235Z"
   },
   {
    "duration": 0,
    "start_time": "2022-03-27T14:03:42.236Z"
   },
   {
    "duration": 0,
    "start_time": "2022-03-27T14:03:42.237Z"
   },
   {
    "duration": 0,
    "start_time": "2022-03-27T14:03:42.238Z"
   },
   {
    "duration": 0,
    "start_time": "2022-03-27T14:03:42.238Z"
   },
   {
    "duration": 4,
    "start_time": "2022-03-27T14:05:24.466Z"
   },
   {
    "duration": 5,
    "start_time": "2022-03-27T14:05:26.585Z"
   },
   {
    "duration": 5,
    "start_time": "2022-03-27T14:06:01.663Z"
   },
   {
    "duration": 140,
    "start_time": "2022-03-27T14:06:05.078Z"
   },
   {
    "duration": 127,
    "start_time": "2022-03-27T14:06:19.554Z"
   },
   {
    "duration": 400,
    "start_time": "2022-03-27T18:49:38.838Z"
   },
   {
    "duration": 172,
    "start_time": "2022-03-27T18:49:39.240Z"
   },
   {
    "duration": 40,
    "start_time": "2022-03-27T18:49:39.414Z"
   },
   {
    "duration": 137,
    "start_time": "2022-03-27T18:49:39.456Z"
   },
   {
    "duration": 853,
    "start_time": "2022-03-27T18:49:39.595Z"
   },
   {
    "duration": 83,
    "start_time": "2022-03-27T18:49:40.450Z"
   },
   {
    "duration": 4,
    "start_time": "2022-03-27T18:49:40.535Z"
   },
   {
    "duration": 11,
    "start_time": "2022-03-27T18:49:40.541Z"
   },
   {
    "duration": 75,
    "start_time": "2022-03-27T18:49:40.554Z"
   },
   {
    "duration": 4,
    "start_time": "2022-03-27T18:49:40.632Z"
   },
   {
    "duration": 11,
    "start_time": "2022-03-27T18:49:40.638Z"
   },
   {
    "duration": 179,
    "start_time": "2022-03-27T18:49:40.651Z"
   },
   {
    "duration": 21,
    "start_time": "2022-03-27T18:49:40.832Z"
   },
   {
    "duration": 78,
    "start_time": "2022-03-27T18:49:40.854Z"
   },
   {
    "duration": 174,
    "start_time": "2022-03-27T18:49:40.933Z"
   },
   {
    "duration": 38,
    "start_time": "2022-03-27T18:49:41.108Z"
   },
   {
    "duration": 26,
    "start_time": "2022-03-27T18:49:41.147Z"
   },
   {
    "duration": 7,
    "start_time": "2022-03-27T18:49:41.174Z"
   },
   {
    "duration": 9,
    "start_time": "2022-03-27T18:49:41.201Z"
   },
   {
    "duration": 92,
    "start_time": "2022-03-27T18:49:41.212Z"
   },
   {
    "duration": 18,
    "start_time": "2022-03-27T18:49:41.305Z"
   },
   {
    "duration": 45,
    "start_time": "2022-03-27T18:49:41.325Z"
   },
   {
    "duration": 50,
    "start_time": "2022-03-27T18:49:41.371Z"
   },
   {
    "duration": 82,
    "start_time": "2022-03-27T18:49:41.422Z"
   },
   {
    "duration": 2,
    "start_time": "2022-03-27T18:49:41.506Z"
   },
   {
    "duration": 10,
    "start_time": "2022-03-27T18:49:41.510Z"
   },
   {
    "duration": 20,
    "start_time": "2022-03-27T18:49:41.522Z"
   },
   {
    "duration": 65,
    "start_time": "2022-03-27T18:49:41.546Z"
   },
   {
    "duration": 9,
    "start_time": "2022-03-27T18:49:41.613Z"
   },
   {
    "duration": 7,
    "start_time": "2022-03-27T18:49:41.624Z"
   },
   {
    "duration": 7,
    "start_time": "2022-03-27T18:49:41.633Z"
   },
   {
    "duration": 8,
    "start_time": "2022-03-27T18:49:41.642Z"
   },
   {
    "duration": 8,
    "start_time": "2022-03-27T18:49:41.652Z"
   },
   {
    "duration": 39,
    "start_time": "2022-03-27T18:49:41.662Z"
   },
   {
    "duration": 12,
    "start_time": "2022-03-27T18:49:41.703Z"
   },
   {
    "duration": 7,
    "start_time": "2022-03-27T18:49:41.716Z"
   },
   {
    "duration": 16,
    "start_time": "2022-03-27T18:49:41.725Z"
   },
   {
    "duration": 5,
    "start_time": "2022-03-27T18:49:41.743Z"
   },
   {
    "duration": 122,
    "start_time": "2022-03-27T18:49:41.750Z"
   },
   {
    "duration": 149,
    "start_time": "2022-03-27T18:49:41.873Z"
   },
   {
    "duration": 6,
    "start_time": "2022-03-27T18:49:42.023Z"
   },
   {
    "duration": 13,
    "start_time": "2022-03-27T18:49:42.031Z"
   },
   {
    "duration": 3,
    "start_time": "2022-03-27T18:49:42.046Z"
   },
   {
    "duration": 4,
    "start_time": "2022-03-27T18:49:42.051Z"
   },
   {
    "duration": 6,
    "start_time": "2022-03-27T18:49:42.057Z"
   },
   {
    "duration": 193,
    "start_time": "2022-03-27T18:49:42.064Z"
   },
   {
    "duration": 5,
    "start_time": "2022-03-27T18:49:42.258Z"
   },
   {
    "duration": 6,
    "start_time": "2022-03-27T18:49:42.264Z"
   },
   {
    "duration": 5,
    "start_time": "2022-03-27T18:49:42.271Z"
   },
   {
    "duration": 175,
    "start_time": "2022-03-27T18:49:42.277Z"
   },
   {
    "duration": 5,
    "start_time": "2022-03-27T18:49:42.454Z"
   },
   {
    "duration": 7,
    "start_time": "2022-03-27T18:49:42.461Z"
   },
   {
    "duration": 6,
    "start_time": "2022-03-27T18:49:42.470Z"
   },
   {
    "duration": 161,
    "start_time": "2022-03-27T18:49:42.478Z"
   },
   {
    "duration": 8,
    "start_time": "2022-03-27T18:49:42.641Z"
   },
   {
    "duration": 11,
    "start_time": "2022-03-27T18:49:42.651Z"
   },
   {
    "duration": 7,
    "start_time": "2022-03-27T18:49:42.664Z"
   },
   {
    "duration": 6,
    "start_time": "2022-03-27T18:49:42.673Z"
   },
   {
    "duration": 7,
    "start_time": "2022-03-27T18:49:42.701Z"
   },
   {
    "duration": 9,
    "start_time": "2022-03-27T18:50:41.916Z"
   },
   {
    "duration": 142,
    "start_time": "2022-03-27T19:10:36.898Z"
   },
   {
    "duration": 14,
    "start_time": "2022-03-27T19:13:54.172Z"
   },
   {
    "duration": 13,
    "start_time": "2022-03-27T19:14:03.401Z"
   },
   {
    "duration": 5,
    "start_time": "2022-03-27T19:16:47.670Z"
   },
   {
    "duration": 4,
    "start_time": "2022-03-27T19:18:07.439Z"
   },
   {
    "duration": 6,
    "start_time": "2022-03-27T19:19:22.606Z"
   },
   {
    "duration": 12,
    "start_time": "2022-03-27T19:20:16.841Z"
   },
   {
    "duration": 170,
    "start_time": "2022-03-27T19:21:18.373Z"
   },
   {
    "duration": 5,
    "start_time": "2022-03-27T19:28:23.202Z"
   },
   {
    "duration": 5,
    "start_time": "2022-03-27T19:29:26.931Z"
   },
   {
    "duration": 4,
    "start_time": "2022-03-27T19:29:50.040Z"
   },
   {
    "duration": 159,
    "start_time": "2022-03-27T19:30:16.001Z"
   },
   {
    "duration": 5,
    "start_time": "2022-03-27T19:33:22.415Z"
   },
   {
    "duration": 4,
    "start_time": "2022-03-27T19:34:21.948Z"
   },
   {
    "duration": 4,
    "start_time": "2022-03-27T19:34:41.488Z"
   },
   {
    "duration": 145,
    "start_time": "2022-03-27T19:35:08.070Z"
   },
   {
    "duration": 16,
    "start_time": "2022-03-27T19:39:23.843Z"
   },
   {
    "duration": 70,
    "start_time": "2022-03-27T19:43:22.539Z"
   },
   {
    "duration": 665,
    "start_time": "2022-03-27T19:44:03.110Z"
   },
   {
    "duration": 3370,
    "start_time": "2022-03-27T19:44:11.787Z"
   },
   {
    "duration": 8,
    "start_time": "2022-03-27T19:45:09.037Z"
   },
   {
    "duration": 7,
    "start_time": "2022-03-27T19:47:18.013Z"
   },
   {
    "duration": 6,
    "start_time": "2022-03-27T19:47:25.139Z"
   },
   {
    "duration": 6,
    "start_time": "2022-03-27T19:47:43.334Z"
   },
   {
    "duration": 125,
    "start_time": "2022-03-27T19:49:22.861Z"
   },
   {
    "duration": 8,
    "start_time": "2022-03-27T19:55:51.395Z"
   },
   {
    "duration": 25,
    "start_time": "2022-03-27T20:11:25.873Z"
   },
   {
    "duration": 6,
    "start_time": "2022-03-27T20:12:27.468Z"
   },
   {
    "duration": 21,
    "start_time": "2022-03-27T20:12:48.158Z"
   },
   {
    "duration": 10,
    "start_time": "2022-03-27T20:12:53.292Z"
   },
   {
    "duration": 23,
    "start_time": "2022-03-27T20:13:00.289Z"
   },
   {
    "duration": 5,
    "start_time": "2022-03-27T20:18:22.729Z"
   },
   {
    "duration": 9,
    "start_time": "2022-03-27T20:18:30.805Z"
   },
   {
    "duration": 6,
    "start_time": "2022-03-27T20:18:58.176Z"
   },
   {
    "duration": 11,
    "start_time": "2022-03-27T20:19:40.651Z"
   },
   {
    "duration": 10,
    "start_time": "2022-03-27T20:19:55.049Z"
   },
   {
    "duration": 8,
    "start_time": "2022-03-27T20:20:50.759Z"
   },
   {
    "duration": 8,
    "start_time": "2022-03-27T20:21:07.250Z"
   },
   {
    "duration": 29,
    "start_time": "2022-03-27T20:21:42.063Z"
   },
   {
    "duration": 26,
    "start_time": "2022-03-27T20:21:55.548Z"
   },
   {
    "duration": 23,
    "start_time": "2022-03-27T20:23:12.774Z"
   },
   {
    "duration": 25,
    "start_time": "2022-03-27T20:24:15.425Z"
   },
   {
    "duration": 8,
    "start_time": "2022-03-27T20:24:56.907Z"
   },
   {
    "duration": 11,
    "start_time": "2022-03-27T20:25:05.786Z"
   },
   {
    "duration": 11,
    "start_time": "2022-03-27T20:25:13.440Z"
   },
   {
    "duration": 7,
    "start_time": "2022-03-27T20:25:31.427Z"
   },
   {
    "duration": 8,
    "start_time": "2022-03-27T20:25:40.007Z"
   },
   {
    "duration": 205,
    "start_time": "2022-03-27T20:26:51.120Z"
   },
   {
    "duration": 16,
    "start_time": "2022-03-27T20:27:06.312Z"
   },
   {
    "duration": 11,
    "start_time": "2022-03-27T20:27:26.120Z"
   },
   {
    "duration": 24,
    "start_time": "2022-03-27T20:29:35.415Z"
   },
   {
    "duration": 797,
    "start_time": "2022-03-28T09:14:03.087Z"
   },
   {
    "duration": 175,
    "start_time": "2022-03-28T09:15:04.780Z"
   },
   {
    "duration": 185,
    "start_time": "2022-03-28T09:15:10.348Z"
   },
   {
    "duration": 28,
    "start_time": "2022-03-28T09:15:13.619Z"
   },
   {
    "duration": 110,
    "start_time": "2022-03-28T09:15:15.676Z"
   },
   {
    "duration": 692,
    "start_time": "2022-03-28T09:16:05.203Z"
   },
   {
    "duration": 60,
    "start_time": "2022-03-28T09:16:08.347Z"
   },
   {
    "duration": 6,
    "start_time": "2022-03-28T09:16:10.771Z"
   },
   {
    "duration": 10,
    "start_time": "2022-03-28T09:16:12.611Z"
   },
   {
    "duration": 50,
    "start_time": "2022-03-28T09:16:29.299Z"
   },
   {
    "duration": 4,
    "start_time": "2022-03-28T09:16:34.778Z"
   },
   {
    "duration": 10,
    "start_time": "2022-03-28T09:16:56.722Z"
   },
   {
    "duration": 144,
    "start_time": "2022-03-28T09:17:29.876Z"
   },
   {
    "duration": 25,
    "start_time": "2022-03-28T09:17:32.298Z"
   },
   {
    "duration": 70,
    "start_time": "2022-03-28T09:17:34.667Z"
   },
   {
    "duration": 189,
    "start_time": "2022-03-28T09:17:36.409Z"
   },
   {
    "duration": 40,
    "start_time": "2022-03-28T09:17:39.298Z"
   },
   {
    "duration": 29,
    "start_time": "2022-03-28T09:17:41.843Z"
   },
   {
    "duration": 9,
    "start_time": "2022-03-28T09:18:27.751Z"
   },
   {
    "duration": 117,
    "start_time": "2022-03-28T09:19:04.968Z"
   },
   {
    "duration": 18,
    "start_time": "2022-03-28T09:19:18.745Z"
   },
   {
    "duration": 97,
    "start_time": "2022-03-28T09:19:27.960Z"
   },
   {
    "duration": 20,
    "start_time": "2022-03-28T09:19:29.289Z"
   },
   {
    "duration": 51,
    "start_time": "2022-03-28T09:19:36.800Z"
   },
   {
    "duration": 34,
    "start_time": "2022-03-28T09:20:04.591Z"
   },
   {
    "duration": 36,
    "start_time": "2022-03-28T09:26:04.004Z"
   },
   {
    "duration": 4,
    "start_time": "2022-03-28T09:28:41.787Z"
   },
   {
    "duration": 12,
    "start_time": "2022-03-28T09:28:43.096Z"
   },
   {
    "duration": 42,
    "start_time": "2022-03-28T09:28:55.657Z"
   },
   {
    "duration": 7,
    "start_time": "2022-03-28T09:28:58.224Z"
   },
   {
    "duration": 4,
    "start_time": "2022-03-28T09:29:01.657Z"
   },
   {
    "duration": 8,
    "start_time": "2022-03-28T09:29:03.650Z"
   },
   {
    "duration": 21,
    "start_time": "2022-03-28T09:31:32.791Z"
   },
   {
    "duration": 54,
    "start_time": "2022-03-28T09:31:36.542Z"
   },
   {
    "duration": 12,
    "start_time": "2022-03-28T09:31:38.631Z"
   },
   {
    "duration": 7,
    "start_time": "2022-03-28T09:31:42.129Z"
   },
   {
    "duration": 10,
    "start_time": "2022-03-28T09:32:33.749Z"
   },
   {
    "duration": 10,
    "start_time": "2022-03-28T09:32:35.526Z"
   },
   {
    "duration": 16,
    "start_time": "2022-03-28T09:57:21.525Z"
   },
   {
    "duration": 14,
    "start_time": "2022-03-28T09:57:41.893Z"
   },
   {
    "duration": 15,
    "start_time": "2022-03-28T09:57:43.245Z"
   },
   {
    "duration": 14,
    "start_time": "2022-03-28T09:57:49.910Z"
   },
   {
    "duration": 9,
    "start_time": "2022-03-28T09:58:11.382Z"
   },
   {
    "duration": 19,
    "start_time": "2022-03-28T09:58:12.845Z"
   },
   {
    "duration": 5,
    "start_time": "2022-03-28T09:59:10.517Z"
   },
   {
    "duration": 2912,
    "start_time": "2022-03-28T09:59:13.198Z"
   },
   {
    "duration": 974,
    "start_time": "2022-03-28T09:59:46.192Z"
   },
   {
    "duration": 184,
    "start_time": "2022-03-28T09:59:47.168Z"
   },
   {
    "duration": 29,
    "start_time": "2022-03-28T09:59:47.357Z"
   },
   {
    "duration": 137,
    "start_time": "2022-03-28T09:59:47.388Z"
   },
   {
    "duration": 537,
    "start_time": "2022-03-28T09:59:47.527Z"
   },
   {
    "duration": 70,
    "start_time": "2022-03-28T09:59:48.066Z"
   },
   {
    "duration": 6,
    "start_time": "2022-03-28T09:59:48.138Z"
   },
   {
    "duration": 56,
    "start_time": "2022-03-28T09:59:48.146Z"
   },
   {
    "duration": 6,
    "start_time": "2022-03-28T09:59:48.206Z"
   },
   {
    "duration": 26,
    "start_time": "2022-03-28T09:59:48.214Z"
   },
   {
    "duration": 156,
    "start_time": "2022-03-28T09:59:48.242Z"
   },
   {
    "duration": 39,
    "start_time": "2022-03-28T09:59:48.399Z"
   },
   {
    "duration": 76,
    "start_time": "2022-03-28T09:59:48.440Z"
   },
   {
    "duration": 226,
    "start_time": "2022-03-28T09:59:48.518Z"
   },
   {
    "duration": 41,
    "start_time": "2022-03-28T09:59:48.746Z"
   },
   {
    "duration": 48,
    "start_time": "2022-03-28T09:59:48.789Z"
   },
   {
    "duration": 9,
    "start_time": "2022-03-28T09:59:48.839Z"
   },
   {
    "duration": 106,
    "start_time": "2022-03-28T09:59:48.850Z"
   },
   {
    "duration": 21,
    "start_time": "2022-03-28T09:59:48.958Z"
   },
   {
    "duration": 74,
    "start_time": "2022-03-28T09:59:48.982Z"
   },
   {
    "duration": 46,
    "start_time": "2022-03-28T09:59:49.058Z"
   },
   {
    "duration": 49,
    "start_time": "2022-03-28T09:59:49.106Z"
   },
   {
    "duration": 4,
    "start_time": "2022-03-28T09:59:49.156Z"
   },
   {
    "duration": 12,
    "start_time": "2022-03-28T09:59:49.162Z"
   },
   {
    "duration": 24,
    "start_time": "2022-03-28T09:59:49.176Z"
   },
   {
    "duration": 67,
    "start_time": "2022-03-28T09:59:49.202Z"
   },
   {
    "duration": 15,
    "start_time": "2022-03-28T09:59:49.275Z"
   },
   {
    "duration": 7,
    "start_time": "2022-03-28T09:59:49.293Z"
   },
   {
    "duration": 13,
    "start_time": "2022-03-28T09:59:49.301Z"
   },
   {
    "duration": 8,
    "start_time": "2022-03-28T09:59:49.316Z"
   },
   {
    "duration": 9,
    "start_time": "2022-03-28T09:59:49.326Z"
   },
   {
    "duration": 10,
    "start_time": "2022-03-28T09:59:49.337Z"
   },
   {
    "duration": 20,
    "start_time": "2022-03-28T09:59:49.349Z"
   },
   {
    "duration": 27,
    "start_time": "2022-03-28T09:59:49.371Z"
   },
   {
    "duration": 148,
    "start_time": "2022-03-28T09:59:49.400Z"
   },
   {
    "duration": 209,
    "start_time": "2022-03-28T09:59:49.549Z"
   },
   {
    "duration": 7,
    "start_time": "2022-03-28T09:59:49.760Z"
   },
   {
    "duration": 26,
    "start_time": "2022-03-28T09:59:49.769Z"
   },
   {
    "duration": 12,
    "start_time": "2022-03-28T09:59:49.797Z"
   },
   {
    "duration": 23,
    "start_time": "2022-03-28T09:59:49.811Z"
   },
   {
    "duration": 16,
    "start_time": "2022-03-28T09:59:49.836Z"
   },
   {
    "duration": 188,
    "start_time": "2022-03-28T09:59:49.854Z"
   },
   {
    "duration": 5,
    "start_time": "2022-03-28T09:59:50.044Z"
   },
   {
    "duration": 18,
    "start_time": "2022-03-28T09:59:50.051Z"
   },
   {
    "duration": 25,
    "start_time": "2022-03-28T09:59:50.071Z"
   },
   {
    "duration": 201,
    "start_time": "2022-03-28T09:59:50.098Z"
   },
   {
    "duration": 5,
    "start_time": "2022-03-28T09:59:50.301Z"
   },
   {
    "duration": 10,
    "start_time": "2022-03-28T09:59:50.308Z"
   },
   {
    "duration": 11,
    "start_time": "2022-03-28T09:59:50.331Z"
   },
   {
    "duration": 196,
    "start_time": "2022-03-28T09:59:50.344Z"
   },
   {
    "duration": 19,
    "start_time": "2022-03-28T09:59:50.542Z"
   },
   {
    "duration": 6,
    "start_time": "2022-03-28T09:59:50.563Z"
   },
   {
    "duration": 12,
    "start_time": "2022-03-28T09:59:50.571Z"
   },
   {
    "duration": 16,
    "start_time": "2022-03-28T09:59:50.585Z"
   },
   {
    "duration": 197,
    "start_time": "2022-03-28T09:59:50.602Z"
   },
   {
    "duration": 6,
    "start_time": "2022-03-28T09:59:50.800Z"
   },
   {
    "duration": 25,
    "start_time": "2022-03-28T09:59:50.808Z"
   },
   {
    "duration": 7,
    "start_time": "2022-03-28T09:59:50.836Z"
   },
   {
    "duration": 232,
    "start_time": "2022-03-28T09:59:50.846Z"
   },
   {
    "duration": 5,
    "start_time": "2022-03-28T09:59:51.080Z"
   },
   {
    "duration": 14,
    "start_time": "2022-03-28T09:59:51.087Z"
   },
   {
    "duration": 10,
    "start_time": "2022-03-28T09:59:51.103Z"
   },
   {
    "duration": 288,
    "start_time": "2022-03-28T09:59:51.115Z"
   },
   {
    "duration": 19,
    "start_time": "2022-03-28T09:59:51.406Z"
   },
   {
    "duration": 9,
    "start_time": "2022-03-28T09:59:51.432Z"
   },
   {
    "duration": 16,
    "start_time": "2022-03-28T09:59:51.443Z"
   },
   {
    "duration": 10,
    "start_time": "2022-03-28T09:59:51.461Z"
   },
   {
    "duration": 195,
    "start_time": "2022-03-28T09:59:51.473Z"
   },
   {
    "duration": 701,
    "start_time": "2022-03-28T09:59:51.670Z"
   },
   {
    "duration": 0,
    "start_time": "2022-03-28T09:59:52.372Z"
   },
   {
    "duration": 0,
    "start_time": "2022-03-28T09:59:52.374Z"
   },
   {
    "duration": 38,
    "start_time": "2022-03-28T10:01:08.297Z"
   },
   {
    "duration": 18,
    "start_time": "2022-03-28T10:04:15.678Z"
   },
   {
    "duration": 5,
    "start_time": "2022-03-28T10:04:31.244Z"
   },
   {
    "duration": 6,
    "start_time": "2022-03-28T10:04:32.612Z"
   },
   {
    "duration": 6,
    "start_time": "2022-03-28T10:05:21.467Z"
   },
   {
    "duration": 175,
    "start_time": "2022-03-28T10:05:31.508Z"
   },
   {
    "duration": 5,
    "start_time": "2022-03-28T10:09:20.681Z"
   },
   {
    "duration": 6,
    "start_time": "2022-03-28T10:09:23.033Z"
   },
   {
    "duration": 6,
    "start_time": "2022-03-28T10:09:24.424Z"
   },
   {
    "duration": 177,
    "start_time": "2022-03-28T10:09:29.544Z"
   },
   {
    "duration": 233,
    "start_time": "2022-03-28T10:14:00.726Z"
   },
   {
    "duration": 6,
    "start_time": "2022-03-28T10:15:01.239Z"
   },
   {
    "duration": 5,
    "start_time": "2022-03-28T10:15:02.444Z"
   },
   {
    "duration": 5,
    "start_time": "2022-03-28T10:15:03.701Z"
   },
   {
    "duration": 166,
    "start_time": "2022-03-28T10:15:05.908Z"
   },
   {
    "duration": 15,
    "start_time": "2022-03-28T10:15:38.461Z"
   },
   {
    "duration": 5,
    "start_time": "2022-03-28T10:15:41.005Z"
   },
   {
    "duration": 6,
    "start_time": "2022-03-28T10:15:42.621Z"
   },
   {
    "duration": 6,
    "start_time": "2022-03-28T10:15:44.787Z"
   },
   {
    "duration": 167,
    "start_time": "2022-03-28T10:15:47.204Z"
   },
   {
    "duration": 5,
    "start_time": "2022-03-28T10:18:27.947Z"
   },
   {
    "duration": 5,
    "start_time": "2022-03-28T10:18:29.042Z"
   },
   {
    "duration": 5,
    "start_time": "2022-03-28T10:18:29.948Z"
   },
   {
    "duration": 170,
    "start_time": "2022-03-28T10:18:31.266Z"
   },
   {
    "duration": 5,
    "start_time": "2022-03-28T10:21:53.445Z"
   },
   {
    "duration": 5,
    "start_time": "2022-03-28T10:21:54.297Z"
   },
   {
    "duration": 5,
    "start_time": "2022-03-28T10:21:55.288Z"
   },
   {
    "duration": 180,
    "start_time": "2022-03-28T10:21:56.584Z"
   },
   {
    "duration": 9,
    "start_time": "2022-03-28T10:27:00.765Z"
   },
   {
    "duration": 6,
    "start_time": "2022-03-28T10:27:04.652Z"
   },
   {
    "duration": 6,
    "start_time": "2022-03-28T10:27:05.572Z"
   },
   {
    "duration": 171,
    "start_time": "2022-03-28T10:27:18.029Z"
   },
   {
    "duration": 44,
    "start_time": "2022-03-28T10:28:06.076Z"
   },
   {
    "duration": 8,
    "start_time": "2022-03-28T10:30:04.651Z"
   },
   {
    "duration": 12,
    "start_time": "2022-03-28T10:30:28.330Z"
   },
   {
    "duration": 184,
    "start_time": "2022-03-28T10:34:00.264Z"
   },
   {
    "duration": 9,
    "start_time": "2022-03-28T10:40:16.259Z"
   },
   {
    "duration": 9,
    "start_time": "2022-03-28T10:40:30.394Z"
   },
   {
    "duration": 7,
    "start_time": "2022-03-28T10:40:50.874Z"
   },
   {
    "duration": 9,
    "start_time": "2022-03-28T10:40:58.258Z"
   },
   {
    "duration": 900,
    "start_time": "2022-03-28T11:01:46.888Z"
   },
   {
    "duration": 192,
    "start_time": "2022-03-28T11:01:47.790Z"
   },
   {
    "duration": 29,
    "start_time": "2022-03-28T11:01:47.985Z"
   },
   {
    "duration": 134,
    "start_time": "2022-03-28T11:01:48.016Z"
   },
   {
    "duration": 586,
    "start_time": "2022-03-28T11:01:48.151Z"
   },
   {
    "duration": 58,
    "start_time": "2022-03-28T11:01:48.739Z"
   },
   {
    "duration": 5,
    "start_time": "2022-03-28T11:01:48.799Z"
   },
   {
    "duration": 69,
    "start_time": "2022-03-28T11:01:48.806Z"
   },
   {
    "duration": 4,
    "start_time": "2022-03-28T11:01:48.877Z"
   },
   {
    "duration": 28,
    "start_time": "2022-03-28T11:01:48.884Z"
   },
   {
    "duration": 167,
    "start_time": "2022-03-28T11:01:48.914Z"
   },
   {
    "duration": 25,
    "start_time": "2022-03-28T11:01:49.083Z"
   },
   {
    "duration": 91,
    "start_time": "2022-03-28T11:01:49.110Z"
   },
   {
    "duration": 220,
    "start_time": "2022-03-28T11:01:49.203Z"
   },
   {
    "duration": 41,
    "start_time": "2022-03-28T11:01:49.431Z"
   },
   {
    "duration": 27,
    "start_time": "2022-03-28T11:01:49.474Z"
   },
   {
    "duration": 30,
    "start_time": "2022-03-28T11:01:49.504Z"
   },
   {
    "duration": 110,
    "start_time": "2022-03-28T11:01:49.536Z"
   },
   {
    "duration": 24,
    "start_time": "2022-03-28T11:01:49.648Z"
   },
   {
    "duration": 74,
    "start_time": "2022-03-28T11:01:49.674Z"
   },
   {
    "duration": 51,
    "start_time": "2022-03-28T11:01:49.751Z"
   },
   {
    "duration": 60,
    "start_time": "2022-03-28T11:01:49.803Z"
   },
   {
    "duration": 4,
    "start_time": "2022-03-28T11:01:49.864Z"
   },
   {
    "duration": 12,
    "start_time": "2022-03-28T11:01:49.870Z"
   },
   {
    "duration": 27,
    "start_time": "2022-03-28T11:01:49.885Z"
   },
   {
    "duration": 83,
    "start_time": "2022-03-28T11:01:49.914Z"
   },
   {
    "duration": 13,
    "start_time": "2022-03-28T11:01:49.999Z"
   },
   {
    "duration": 13,
    "start_time": "2022-03-28T11:01:50.017Z"
   },
   {
    "duration": 15,
    "start_time": "2022-03-28T11:01:50.032Z"
   },
   {
    "duration": 8,
    "start_time": "2022-03-28T11:01:50.050Z"
   },
   {
    "duration": 21,
    "start_time": "2022-03-28T11:01:50.060Z"
   },
   {
    "duration": 15,
    "start_time": "2022-03-28T11:01:50.083Z"
   },
   {
    "duration": 5,
    "start_time": "2022-03-28T11:01:50.100Z"
   },
   {
    "duration": 158,
    "start_time": "2022-03-28T11:01:50.107Z"
   },
   {
    "duration": 18,
    "start_time": "2022-03-28T11:01:50.268Z"
   },
   {
    "duration": 257,
    "start_time": "2022-03-28T11:01:50.288Z"
   },
   {
    "duration": 24,
    "start_time": "2022-03-28T11:01:50.549Z"
   },
   {
    "duration": 6,
    "start_time": "2022-03-28T11:01:50.576Z"
   },
   {
    "duration": 16,
    "start_time": "2022-03-28T11:01:50.585Z"
   },
   {
    "duration": 31,
    "start_time": "2022-03-28T11:01:50.603Z"
   },
   {
    "duration": 191,
    "start_time": "2022-03-28T11:01:50.636Z"
   },
   {
    "duration": 6,
    "start_time": "2022-03-28T11:01:50.831Z"
   },
   {
    "duration": 11,
    "start_time": "2022-03-28T11:01:50.839Z"
   },
   {
    "duration": 7,
    "start_time": "2022-03-28T11:01:50.852Z"
   },
   {
    "duration": 242,
    "start_time": "2022-03-28T11:01:50.862Z"
   },
   {
    "duration": 6,
    "start_time": "2022-03-28T11:01:51.106Z"
   },
   {
    "duration": 19,
    "start_time": "2022-03-28T11:01:51.114Z"
   },
   {
    "duration": 7,
    "start_time": "2022-03-28T11:01:51.136Z"
   },
   {
    "duration": 198,
    "start_time": "2022-03-28T11:01:51.145Z"
   },
   {
    "duration": 16,
    "start_time": "2022-03-28T11:01:51.346Z"
   },
   {
    "duration": 5,
    "start_time": "2022-03-28T11:01:51.364Z"
   },
   {
    "duration": 11,
    "start_time": "2022-03-28T11:01:51.371Z"
   },
   {
    "duration": 9,
    "start_time": "2022-03-28T11:01:51.385Z"
   },
   {
    "duration": 212,
    "start_time": "2022-03-28T11:01:51.396Z"
   },
   {
    "duration": 6,
    "start_time": "2022-03-28T11:01:51.611Z"
   },
   {
    "duration": 7,
    "start_time": "2022-03-28T11:01:51.633Z"
   },
   {
    "duration": 8,
    "start_time": "2022-03-28T11:01:51.642Z"
   },
   {
    "duration": 291,
    "start_time": "2022-03-28T11:01:51.651Z"
   },
   {
    "duration": 5,
    "start_time": "2022-03-28T11:01:51.944Z"
   },
   {
    "duration": 7,
    "start_time": "2022-03-28T11:01:51.951Z"
   },
   {
    "duration": 11,
    "start_time": "2022-03-28T11:01:51.961Z"
   },
   {
    "duration": 335,
    "start_time": "2022-03-28T11:01:51.974Z"
   },
   {
    "duration": 22,
    "start_time": "2022-03-28T11:01:52.311Z"
   },
   {
    "duration": 7,
    "start_time": "2022-03-28T11:01:52.334Z"
   },
   {
    "duration": 10,
    "start_time": "2022-03-28T11:01:52.343Z"
   },
   {
    "duration": 168,
    "start_time": "2022-03-28T11:01:52.355Z"
   },
   {
    "duration": 17,
    "start_time": "2022-03-28T11:01:52.525Z"
   },
   {
    "duration": 9,
    "start_time": "2022-03-28T11:01:52.544Z"
   },
   {
    "duration": 7,
    "start_time": "2022-03-28T11:01:52.556Z"
   },
   {
    "duration": 8,
    "start_time": "2022-03-28T11:01:52.565Z"
   },
   {
    "duration": 71,
    "start_time": "2022-03-28T13:30:28.059Z"
   },
   {
    "duration": 1034,
    "start_time": "2022-03-28T13:30:35.144Z"
   },
   {
    "duration": 249,
    "start_time": "2022-03-28T13:30:36.181Z"
   },
   {
    "duration": 47,
    "start_time": "2022-03-28T13:30:36.433Z"
   },
   {
    "duration": 167,
    "start_time": "2022-03-28T13:30:36.484Z"
   },
   {
    "duration": 975,
    "start_time": "2022-03-28T13:30:36.653Z"
   },
   {
    "duration": 93,
    "start_time": "2022-03-28T13:30:37.630Z"
   },
   {
    "duration": 17,
    "start_time": "2022-03-28T13:30:37.726Z"
   },
   {
    "duration": 61,
    "start_time": "2022-03-28T13:30:37.745Z"
   },
   {
    "duration": 4,
    "start_time": "2022-03-28T13:30:37.809Z"
   },
   {
    "duration": 30,
    "start_time": "2022-03-28T13:30:37.817Z"
   },
   {
    "duration": 177,
    "start_time": "2022-03-28T13:30:37.850Z"
   },
   {
    "duration": 39,
    "start_time": "2022-03-28T13:30:38.029Z"
   },
   {
    "duration": 115,
    "start_time": "2022-03-28T13:30:38.070Z"
   },
   {
    "duration": 298,
    "start_time": "2022-03-28T13:30:38.187Z"
   },
   {
    "duration": 69,
    "start_time": "2022-03-28T13:30:38.487Z"
   },
   {
    "duration": 33,
    "start_time": "2022-03-28T13:30:38.557Z"
   },
   {
    "duration": 13,
    "start_time": "2022-03-28T13:30:38.592Z"
   },
   {
    "duration": 175,
    "start_time": "2022-03-28T13:30:38.607Z"
   },
   {
    "duration": 25,
    "start_time": "2022-03-28T13:30:38.784Z"
   },
   {
    "duration": 84,
    "start_time": "2022-03-28T13:30:38.811Z"
   },
   {
    "duration": 61,
    "start_time": "2022-03-28T13:30:38.897Z"
   },
   {
    "duration": 41,
    "start_time": "2022-03-28T13:30:38.962Z"
   },
   {
    "duration": 5,
    "start_time": "2022-03-28T13:30:39.005Z"
   },
   {
    "duration": 31,
    "start_time": "2022-03-28T13:30:39.012Z"
   },
   {
    "duration": 40,
    "start_time": "2022-03-28T13:30:39.045Z"
   },
   {
    "duration": 82,
    "start_time": "2022-03-28T13:30:39.088Z"
   },
   {
    "duration": 16,
    "start_time": "2022-03-28T13:30:39.173Z"
   },
   {
    "duration": 7,
    "start_time": "2022-03-28T13:30:39.196Z"
   },
   {
    "duration": 14,
    "start_time": "2022-03-28T13:30:39.205Z"
   },
   {
    "duration": 36,
    "start_time": "2022-03-28T13:30:39.221Z"
   },
   {
    "duration": 12,
    "start_time": "2022-03-28T13:30:39.260Z"
   },
   {
    "duration": 8,
    "start_time": "2022-03-28T13:30:39.275Z"
   },
   {
    "duration": 6,
    "start_time": "2022-03-28T13:30:39.285Z"
   },
   {
    "duration": 204,
    "start_time": "2022-03-28T13:30:39.293Z"
   },
   {
    "duration": 23,
    "start_time": "2022-03-28T13:30:39.499Z"
   },
   {
    "duration": 287,
    "start_time": "2022-03-28T13:30:39.524Z"
   },
   {
    "duration": 30,
    "start_time": "2022-03-28T13:30:39.814Z"
   },
   {
    "duration": 7,
    "start_time": "2022-03-28T13:30:39.846Z"
   },
   {
    "duration": 10,
    "start_time": "2022-03-28T13:30:39.856Z"
   },
   {
    "duration": 7,
    "start_time": "2022-03-28T13:30:39.868Z"
   },
   {
    "duration": 269,
    "start_time": "2022-03-28T13:30:39.877Z"
   },
   {
    "duration": 6,
    "start_time": "2022-03-28T13:30:40.149Z"
   },
   {
    "duration": 8,
    "start_time": "2022-03-28T13:30:40.157Z"
   },
   {
    "duration": 7,
    "start_time": "2022-03-28T13:30:40.167Z"
   },
   {
    "duration": 282,
    "start_time": "2022-03-28T13:30:40.176Z"
   },
   {
    "duration": 6,
    "start_time": "2022-03-28T13:30:40.460Z"
   },
   {
    "duration": 6,
    "start_time": "2022-03-28T13:30:40.468Z"
   },
   {
    "duration": 6,
    "start_time": "2022-03-28T13:30:40.476Z"
   },
   {
    "duration": 277,
    "start_time": "2022-03-28T13:30:40.484Z"
   },
   {
    "duration": 21,
    "start_time": "2022-03-28T13:30:40.763Z"
   },
   {
    "duration": 7,
    "start_time": "2022-03-28T13:30:40.786Z"
   },
   {
    "duration": 10,
    "start_time": "2022-03-28T13:30:40.794Z"
   },
   {
    "duration": 46,
    "start_time": "2022-03-28T13:30:40.806Z"
   },
   {
    "duration": 245,
    "start_time": "2022-03-28T13:30:40.855Z"
   },
   {
    "duration": 6,
    "start_time": "2022-03-28T13:30:41.103Z"
   },
   {
    "duration": 7,
    "start_time": "2022-03-28T13:30:41.111Z"
   },
   {
    "duration": 11,
    "start_time": "2022-03-28T13:30:41.145Z"
   },
   {
    "duration": 246,
    "start_time": "2022-03-28T13:30:41.159Z"
   },
   {
    "duration": 6,
    "start_time": "2022-03-28T13:30:41.408Z"
   },
   {
    "duration": 27,
    "start_time": "2022-03-28T13:30:41.416Z"
   },
   {
    "duration": 9,
    "start_time": "2022-03-28T13:30:41.446Z"
   },
   {
    "duration": 335,
    "start_time": "2022-03-28T13:30:41.457Z"
   },
   {
    "duration": 10,
    "start_time": "2022-03-28T13:30:41.794Z"
   },
   {
    "duration": 15,
    "start_time": "2022-03-28T13:30:41.806Z"
   },
   {
    "duration": 26,
    "start_time": "2022-03-28T13:30:41.823Z"
   },
   {
    "duration": 244,
    "start_time": "2022-03-28T13:30:41.860Z"
   },
   {
    "duration": 14,
    "start_time": "2022-03-28T13:30:42.106Z"
   },
   {
    "duration": 28,
    "start_time": "2022-03-28T13:30:42.122Z"
   },
   {
    "duration": 15,
    "start_time": "2022-03-28T13:30:42.153Z"
   },
   {
    "duration": 8,
    "start_time": "2022-03-28T13:30:42.170Z"
   },
   {
    "duration": 1093,
    "start_time": "2022-04-07T20:35:21.509Z"
   },
   {
    "duration": 224,
    "start_time": "2022-04-07T20:35:22.604Z"
   },
   {
    "duration": 34,
    "start_time": "2022-04-07T20:35:22.830Z"
   },
   {
    "duration": 174,
    "start_time": "2022-04-07T20:35:22.867Z"
   },
   {
    "duration": 922,
    "start_time": "2022-04-07T20:35:23.043Z"
   },
   {
    "duration": 85,
    "start_time": "2022-04-07T20:35:23.968Z"
   },
   {
    "duration": 6,
    "start_time": "2022-04-07T20:35:24.055Z"
   },
   {
    "duration": 81,
    "start_time": "2022-04-07T20:35:24.063Z"
   },
   {
    "duration": 4,
    "start_time": "2022-04-07T20:35:24.146Z"
   },
   {
    "duration": 31,
    "start_time": "2022-04-07T20:35:24.154Z"
   },
   {
    "duration": 227,
    "start_time": "2022-04-07T20:35:24.187Z"
   },
   {
    "duration": 78,
    "start_time": "2022-04-07T20:35:24.416Z"
   },
   {
    "duration": 221,
    "start_time": "2022-04-07T20:35:24.496Z"
   },
   {
    "duration": 584,
    "start_time": "2022-04-07T20:35:24.719Z"
   },
   {
    "duration": 106,
    "start_time": "2022-04-07T20:35:25.306Z"
   },
   {
    "duration": 85,
    "start_time": "2022-04-07T20:35:25.415Z"
   },
   {
    "duration": 11,
    "start_time": "2022-04-07T20:35:25.502Z"
   },
   {
    "duration": 285,
    "start_time": "2022-04-07T20:35:25.515Z"
   },
   {
    "duration": 25,
    "start_time": "2022-04-07T20:35:25.802Z"
   },
   {
    "duration": 122,
    "start_time": "2022-04-07T20:35:25.883Z"
   },
   {
    "duration": 102,
    "start_time": "2022-04-07T20:35:26.007Z"
   },
   {
    "duration": 86,
    "start_time": "2022-04-07T20:35:26.112Z"
   },
   {
    "duration": 5,
    "start_time": "2022-04-07T20:35:26.200Z"
   },
   {
    "duration": 12,
    "start_time": "2022-04-07T20:35:26.207Z"
   },
   {
    "duration": 72,
    "start_time": "2022-04-07T20:35:26.221Z"
   },
   {
    "duration": 51,
    "start_time": "2022-04-07T20:35:26.295Z"
   },
   {
    "duration": 15,
    "start_time": "2022-04-07T20:35:26.385Z"
   },
   {
    "duration": 15,
    "start_time": "2022-04-07T20:35:26.406Z"
   },
   {
    "duration": 66,
    "start_time": "2022-04-07T20:35:26.423Z"
   },
   {
    "duration": 11,
    "start_time": "2022-04-07T20:35:26.492Z"
   },
   {
    "duration": 11,
    "start_time": "2022-04-07T20:35:26.506Z"
   },
   {
    "duration": 9,
    "start_time": "2022-04-07T20:35:26.519Z"
   },
   {
    "duration": 7,
    "start_time": "2022-04-07T20:35:26.584Z"
   },
   {
    "duration": 328,
    "start_time": "2022-04-07T20:35:26.593Z"
   },
   {
    "duration": 73,
    "start_time": "2022-04-07T20:35:26.923Z"
   },
   {
    "duration": 461,
    "start_time": "2022-04-07T20:35:26.998Z"
   },
   {
    "duration": 33,
    "start_time": "2022-04-07T20:35:27.461Z"
   },
   {
    "duration": 7,
    "start_time": "2022-04-07T20:35:27.497Z"
   },
   {
    "duration": 7,
    "start_time": "2022-04-07T20:35:27.507Z"
   },
   {
    "duration": 16,
    "start_time": "2022-04-07T20:35:27.516Z"
   },
   {
    "duration": 270,
    "start_time": "2022-04-07T20:35:27.534Z"
   },
   {
    "duration": 6,
    "start_time": "2022-04-07T20:35:27.806Z"
   },
   {
    "duration": 9,
    "start_time": "2022-04-07T20:35:27.814Z"
   },
   {
    "duration": 8,
    "start_time": "2022-04-07T20:35:27.825Z"
   },
   {
    "duration": 309,
    "start_time": "2022-04-07T20:35:27.835Z"
   },
   {
    "duration": 6,
    "start_time": "2022-04-07T20:35:28.146Z"
   },
   {
    "duration": 31,
    "start_time": "2022-04-07T20:35:28.155Z"
   },
   {
    "duration": 13,
    "start_time": "2022-04-07T20:35:28.189Z"
   },
   {
    "duration": 315,
    "start_time": "2022-04-07T20:35:28.204Z"
   },
   {
    "duration": 19,
    "start_time": "2022-04-07T20:35:28.521Z"
   },
   {
    "duration": 13,
    "start_time": "2022-04-07T20:35:28.542Z"
   },
   {
    "duration": 24,
    "start_time": "2022-04-07T20:35:28.558Z"
   },
   {
    "duration": 16,
    "start_time": "2022-04-07T20:35:28.585Z"
   },
   {
    "duration": 253,
    "start_time": "2022-04-07T20:35:28.604Z"
   },
   {
    "duration": 6,
    "start_time": "2022-04-07T20:35:28.859Z"
   },
   {
    "duration": 17,
    "start_time": "2022-04-07T20:35:28.867Z"
   },
   {
    "duration": 23,
    "start_time": "2022-04-07T20:35:28.887Z"
   },
   {
    "duration": 374,
    "start_time": "2022-04-07T20:35:28.913Z"
   },
   {
    "duration": 7,
    "start_time": "2022-04-07T20:35:29.289Z"
   },
   {
    "duration": 21,
    "start_time": "2022-04-07T20:35:29.298Z"
   },
   {
    "duration": 25,
    "start_time": "2022-04-07T20:35:29.321Z"
   },
   {
    "duration": 461,
    "start_time": "2022-04-07T20:35:29.348Z"
   },
   {
    "duration": 11,
    "start_time": "2022-04-07T20:35:29.812Z"
   },
   {
    "duration": 26,
    "start_time": "2022-04-07T20:35:29.826Z"
   },
   {
    "duration": 19,
    "start_time": "2022-04-07T20:35:29.855Z"
   },
   {
    "duration": 243,
    "start_time": "2022-04-07T20:35:29.877Z"
   },
   {
    "duration": 18,
    "start_time": "2022-04-07T20:35:30.122Z"
   },
   {
    "duration": 10,
    "start_time": "2022-04-07T20:35:30.143Z"
   },
   {
    "duration": 33,
    "start_time": "2022-04-07T20:35:30.156Z"
   },
   {
    "duration": 25,
    "start_time": "2022-04-07T20:35:30.192Z"
   },
   {
    "duration": 13,
    "start_time": "2022-04-07T20:37:11.279Z"
   },
   {
    "duration": 4,
    "start_time": "2022-04-07T20:43:56.580Z"
   },
   {
    "duration": 223,
    "start_time": "2022-04-07T20:43:56.590Z"
   },
   {
    "duration": 33,
    "start_time": "2022-04-07T20:43:56.816Z"
   },
   {
    "duration": 174,
    "start_time": "2022-04-07T20:43:56.852Z"
   },
   {
    "duration": 302,
    "start_time": "2022-04-07T20:43:57.029Z"
   },
   {
    "duration": 97,
    "start_time": "2022-04-07T20:43:57.333Z"
   },
   {
    "duration": 6,
    "start_time": "2022-04-07T20:43:57.433Z"
   },
   {
    "duration": 80,
    "start_time": "2022-04-07T20:43:57.441Z"
   },
   {
    "duration": 5,
    "start_time": "2022-04-07T20:43:57.524Z"
   },
   {
    "duration": 20,
    "start_time": "2022-04-07T20:43:57.532Z"
   },
   {
    "duration": 188,
    "start_time": "2022-04-07T20:43:57.556Z"
   },
   {
    "duration": 39,
    "start_time": "2022-04-07T20:43:57.746Z"
   },
   {
    "duration": 136,
    "start_time": "2022-04-07T20:43:57.788Z"
   },
   {
    "duration": 304,
    "start_time": "2022-04-07T20:43:57.927Z"
   },
   {
    "duration": 70,
    "start_time": "2022-04-07T20:43:58.234Z"
   },
   {
    "duration": 32,
    "start_time": "2022-04-07T20:43:58.307Z"
   },
   {
    "duration": 12,
    "start_time": "2022-04-07T20:43:58.341Z"
   },
   {
    "duration": 967,
    "start_time": "2022-04-07T20:43:58.383Z"
   },
   {
    "duration": 40,
    "start_time": "2022-04-07T20:43:59.352Z"
   },
   {
    "duration": 71,
    "start_time": "2022-04-07T20:43:59.394Z"
   },
   {
    "duration": 46,
    "start_time": "2022-04-07T20:43:59.483Z"
   },
   {
    "duration": 14,
    "start_time": "2022-04-07T20:44:15.630Z"
   },
   {
    "duration": 26,
    "start_time": "2022-04-07T20:49:08.854Z"
   },
   {
    "duration": 21,
    "start_time": "2022-04-07T20:49:17.726Z"
   },
   {
    "duration": 8,
    "start_time": "2022-04-07T20:51:23.089Z"
   },
   {
    "duration": 146,
    "start_time": "2022-04-07T20:59:16.515Z"
   },
   {
    "duration": 25,
    "start_time": "2022-04-07T20:59:36.434Z"
   },
   {
    "duration": 39,
    "start_time": "2022-04-07T20:59:46.547Z"
   },
   {
    "duration": 4,
    "start_time": "2022-04-07T21:16:13.630Z"
   },
   {
    "duration": 257,
    "start_time": "2022-04-07T21:16:13.637Z"
   },
   {
    "duration": 33,
    "start_time": "2022-04-07T21:16:13.897Z"
   },
   {
    "duration": 172,
    "start_time": "2022-04-07T21:16:13.933Z"
   },
   {
    "duration": 304,
    "start_time": "2022-04-07T21:16:14.108Z"
   },
   {
    "duration": 87,
    "start_time": "2022-04-07T21:16:14.414Z"
   },
   {
    "duration": 5,
    "start_time": "2022-04-07T21:16:14.504Z"
   },
   {
    "duration": 73,
    "start_time": "2022-04-07T21:16:14.511Z"
   },
   {
    "duration": 5,
    "start_time": "2022-04-07T21:16:14.586Z"
   },
   {
    "duration": 13,
    "start_time": "2022-04-07T21:16:14.593Z"
   },
   {
    "duration": 193,
    "start_time": "2022-04-07T21:16:14.610Z"
   },
   {
    "duration": 29,
    "start_time": "2022-04-07T21:16:14.805Z"
   },
   {
    "duration": 139,
    "start_time": "2022-04-07T21:16:14.837Z"
   },
   {
    "duration": 308,
    "start_time": "2022-04-07T21:16:14.983Z"
   },
   {
    "duration": 55,
    "start_time": "2022-04-07T21:16:15.293Z"
   },
   {
    "duration": 55,
    "start_time": "2022-04-07T21:16:15.351Z"
   },
   {
    "duration": 10,
    "start_time": "2022-04-07T21:16:15.408Z"
   },
   {
    "duration": 137,
    "start_time": "2022-04-07T21:16:15.420Z"
   },
   {
    "duration": 34,
    "start_time": "2022-04-07T21:16:15.559Z"
   },
   {
    "duration": 66,
    "start_time": "2022-04-07T21:16:15.595Z"
   },
   {
    "duration": 62,
    "start_time": "2022-04-07T21:16:15.663Z"
   },
   {
    "duration": 56,
    "start_time": "2022-04-07T21:16:15.728Z"
   },
   {
    "duration": 4,
    "start_time": "2022-04-07T21:16:15.787Z"
   },
   {
    "duration": 12,
    "start_time": "2022-04-07T21:16:15.794Z"
   },
   {
    "duration": 21,
    "start_time": "2022-04-07T21:16:15.808Z"
   },
   {
    "duration": 61,
    "start_time": "2022-04-07T21:16:15.832Z"
   },
   {
    "duration": 16,
    "start_time": "2022-04-07T21:16:15.896Z"
   },
   {
    "duration": 19,
    "start_time": "2022-04-07T21:16:15.914Z"
   },
   {
    "duration": 12,
    "start_time": "2022-04-07T21:16:15.939Z"
   },
   {
    "duration": 38,
    "start_time": "2022-04-07T21:16:15.953Z"
   },
   {
    "duration": 12,
    "start_time": "2022-04-07T21:16:15.993Z"
   },
   {
    "duration": 9,
    "start_time": "2022-04-07T21:16:16.007Z"
   },
   {
    "duration": 6,
    "start_time": "2022-04-07T21:16:16.019Z"
   },
   {
    "duration": 215,
    "start_time": "2022-04-07T21:16:16.028Z"
   },
   {
    "duration": 24,
    "start_time": "2022-04-07T21:16:16.245Z"
   },
   {
    "duration": 381,
    "start_time": "2022-04-07T21:16:16.284Z"
   },
   {
    "duration": 28,
    "start_time": "2022-04-07T21:16:16.667Z"
   },
   {
    "duration": 6,
    "start_time": "2022-04-07T21:16:16.697Z"
   },
   {
    "duration": 9,
    "start_time": "2022-04-07T21:16:16.706Z"
   },
   {
    "duration": 9,
    "start_time": "2022-04-07T21:16:16.717Z"
   },
   {
    "duration": 273,
    "start_time": "2022-04-07T21:16:16.727Z"
   },
   {
    "duration": 7,
    "start_time": "2022-04-07T21:16:17.003Z"
   },
   {
    "duration": 7,
    "start_time": "2022-04-07T21:16:17.012Z"
   },
   {
    "duration": 9,
    "start_time": "2022-04-07T21:16:17.021Z"
   },
   {
    "duration": 290,
    "start_time": "2022-04-07T21:16:17.032Z"
   },
   {
    "duration": 6,
    "start_time": "2022-04-07T21:16:17.324Z"
   },
   {
    "duration": 7,
    "start_time": "2022-04-07T21:16:17.332Z"
   },
   {
    "duration": 10,
    "start_time": "2022-04-07T21:16:17.341Z"
   },
   {
    "duration": 282,
    "start_time": "2022-04-07T21:16:17.353Z"
   },
   {
    "duration": 19,
    "start_time": "2022-04-07T21:16:17.637Z"
   },
   {
    "duration": 26,
    "start_time": "2022-04-07T21:16:17.658Z"
   },
   {
    "duration": 6,
    "start_time": "2022-04-07T21:16:17.686Z"
   },
   {
    "duration": 9,
    "start_time": "2022-04-07T21:16:17.694Z"
   },
   {
    "duration": 262,
    "start_time": "2022-04-07T21:16:17.704Z"
   },
   {
    "duration": 6,
    "start_time": "2022-04-07T21:16:17.968Z"
   },
   {
    "duration": 7,
    "start_time": "2022-04-07T21:16:17.984Z"
   },
   {
    "duration": 12,
    "start_time": "2022-04-07T21:16:17.992Z"
   },
   {
    "duration": 278,
    "start_time": "2022-04-07T21:16:18.006Z"
   },
   {
    "duration": 7,
    "start_time": "2022-04-07T21:16:18.286Z"
   },
   {
    "duration": 13,
    "start_time": "2022-04-07T21:16:18.295Z"
   },
   {
    "duration": 13,
    "start_time": "2022-04-07T21:16:18.311Z"
   },
   {
    "duration": 279,
    "start_time": "2022-04-07T21:16:18.327Z"
   },
   {
    "duration": 11,
    "start_time": "2022-04-07T21:16:18.608Z"
   },
   {
    "duration": 43,
    "start_time": "2022-04-07T21:16:18.622Z"
   },
   {
    "duration": 15,
    "start_time": "2022-04-07T21:16:18.668Z"
   },
   {
    "duration": 243,
    "start_time": "2022-04-07T21:16:18.685Z"
   },
   {
    "duration": 17,
    "start_time": "2022-04-07T21:16:18.930Z"
   },
   {
    "duration": 35,
    "start_time": "2022-04-07T21:16:18.949Z"
   },
   {
    "duration": 17,
    "start_time": "2022-04-07T21:16:18.987Z"
   },
   {
    "duration": 14,
    "start_time": "2022-04-07T21:16:19.007Z"
   },
   {
    "duration": 756,
    "start_time": "2022-04-08T07:21:27.387Z"
   },
   {
    "duration": 144,
    "start_time": "2022-04-08T07:21:28.145Z"
   },
   {
    "duration": 21,
    "start_time": "2022-04-08T07:21:28.291Z"
   },
   {
    "duration": 107,
    "start_time": "2022-04-08T07:21:28.314Z"
   },
   {
    "duration": 588,
    "start_time": "2022-04-08T07:21:28.423Z"
   },
   {
    "duration": 55,
    "start_time": "2022-04-08T07:21:29.013Z"
   },
   {
    "duration": 5,
    "start_time": "2022-04-08T07:21:29.070Z"
   },
   {
    "duration": 55,
    "start_time": "2022-04-08T07:21:29.076Z"
   },
   {
    "duration": 3,
    "start_time": "2022-04-08T07:21:29.132Z"
   },
   {
    "duration": 7,
    "start_time": "2022-04-08T07:21:29.138Z"
   },
   {
    "duration": 123,
    "start_time": "2022-04-08T07:21:29.147Z"
   },
   {
    "duration": 17,
    "start_time": "2022-04-08T07:21:29.271Z"
   },
   {
    "duration": 67,
    "start_time": "2022-04-08T07:21:29.290Z"
   },
   {
    "duration": 165,
    "start_time": "2022-04-08T07:21:29.359Z"
   },
   {
    "duration": 33,
    "start_time": "2022-04-08T07:21:29.530Z"
   },
   {
    "duration": 21,
    "start_time": "2022-04-08T07:21:29.564Z"
   },
   {
    "duration": 7,
    "start_time": "2022-04-08T07:21:29.586Z"
   },
   {
    "duration": 95,
    "start_time": "2022-04-08T07:21:29.594Z"
   },
   {
    "duration": 15,
    "start_time": "2022-04-08T07:21:29.691Z"
   },
   {
    "duration": 49,
    "start_time": "2022-04-08T07:21:29.708Z"
   },
   {
    "duration": 29,
    "start_time": "2022-04-08T07:21:29.758Z"
   },
   {
    "duration": 47,
    "start_time": "2022-04-08T07:21:29.788Z"
   },
   {
    "duration": 3,
    "start_time": "2022-04-08T07:21:29.837Z"
   },
   {
    "duration": 9,
    "start_time": "2022-04-08T07:21:29.842Z"
   },
   {
    "duration": 17,
    "start_time": "2022-04-08T07:21:29.853Z"
   },
   {
    "duration": 19,
    "start_time": "2022-04-08T07:21:29.871Z"
   },
   {
    "duration": 9,
    "start_time": "2022-04-08T07:21:29.891Z"
   },
   {
    "duration": 6,
    "start_time": "2022-04-08T07:21:29.905Z"
   },
   {
    "duration": 9,
    "start_time": "2022-04-08T07:21:29.930Z"
   },
   {
    "duration": 13,
    "start_time": "2022-04-08T07:21:29.941Z"
   },
   {
    "duration": 7,
    "start_time": "2022-04-08T07:21:29.956Z"
   },
   {
    "duration": 5,
    "start_time": "2022-04-08T07:21:29.964Z"
   },
   {
    "duration": 3,
    "start_time": "2022-04-08T07:21:29.971Z"
   },
   {
    "duration": 120,
    "start_time": "2022-04-08T07:21:29.976Z"
   },
   {
    "duration": 15,
    "start_time": "2022-04-08T07:21:30.098Z"
   },
   {
    "duration": 163,
    "start_time": "2022-04-08T07:21:30.115Z"
   },
   {
    "duration": 13,
    "start_time": "2022-04-08T07:21:30.279Z"
   },
   {
    "duration": 4,
    "start_time": "2022-04-08T07:21:30.293Z"
   },
   {
    "duration": 8,
    "start_time": "2022-04-08T07:21:30.299Z"
   },
   {
    "duration": 24,
    "start_time": "2022-04-08T07:21:30.309Z"
   },
   {
    "duration": 144,
    "start_time": "2022-04-08T07:21:30.335Z"
   },
   {
    "duration": 4,
    "start_time": "2022-04-08T07:21:30.480Z"
   },
   {
    "duration": 9,
    "start_time": "2022-04-08T07:21:30.486Z"
   },
   {
    "duration": 6,
    "start_time": "2022-04-08T07:21:30.497Z"
   },
   {
    "duration": 159,
    "start_time": "2022-04-08T07:21:30.505Z"
   },
   {
    "duration": 4,
    "start_time": "2022-04-08T07:21:30.666Z"
   },
   {
    "duration": 14,
    "start_time": "2022-04-08T07:21:30.671Z"
   },
   {
    "duration": 13,
    "start_time": "2022-04-08T07:21:30.686Z"
   },
   {
    "duration": 142,
    "start_time": "2022-04-08T07:21:30.701Z"
   },
   {
    "duration": 14,
    "start_time": "2022-04-08T07:21:30.844Z"
   },
   {
    "duration": 4,
    "start_time": "2022-04-08T07:21:30.859Z"
   },
   {
    "duration": 10,
    "start_time": "2022-04-08T07:21:30.864Z"
   },
   {
    "duration": 7,
    "start_time": "2022-04-08T07:21:30.875Z"
   },
   {
    "duration": 152,
    "start_time": "2022-04-08T07:21:30.883Z"
   },
   {
    "duration": 4,
    "start_time": "2022-04-08T07:21:31.037Z"
   },
   {
    "duration": 15,
    "start_time": "2022-04-08T07:21:31.043Z"
   },
   {
    "duration": 10,
    "start_time": "2022-04-08T07:21:31.060Z"
   },
   {
    "duration": 141,
    "start_time": "2022-04-08T07:21:31.071Z"
   },
   {
    "duration": 4,
    "start_time": "2022-04-08T07:21:31.213Z"
   },
   {
    "duration": 25,
    "start_time": "2022-04-08T07:21:31.219Z"
   },
   {
    "duration": 12,
    "start_time": "2022-04-08T07:21:31.245Z"
   },
   {
    "duration": 219,
    "start_time": "2022-04-08T07:21:31.259Z"
   },
   {
    "duration": 8,
    "start_time": "2022-04-08T07:21:31.480Z"
   },
   {
    "duration": 11,
    "start_time": "2022-04-08T07:21:31.489Z"
   },
   {
    "duration": 9,
    "start_time": "2022-04-08T07:21:31.502Z"
   },
   {
    "duration": 140,
    "start_time": "2022-04-08T07:21:31.513Z"
   },
   {
    "duration": 10,
    "start_time": "2022-04-08T07:21:31.655Z"
   },
   {
    "duration": 9,
    "start_time": "2022-04-08T07:21:31.666Z"
   },
   {
    "duration": 7,
    "start_time": "2022-04-08T07:21:31.676Z"
   },
   {
    "duration": 6,
    "start_time": "2022-04-08T07:21:31.684Z"
   },
   {
    "duration": 5,
    "start_time": "2022-04-08T07:23:49.326Z"
   },
   {
    "duration": 148,
    "start_time": "2022-04-08T07:24:14.933Z"
   },
   {
    "duration": 24,
    "start_time": "2022-04-08T07:26:36.242Z"
   },
   {
    "duration": 160,
    "start_time": "2022-04-08T07:27:40.762Z"
   },
   {
    "duration": 23,
    "start_time": "2022-04-08T07:27:50.919Z"
   },
   {
    "duration": 82,
    "start_time": "2022-04-08T07:28:02.408Z"
   },
   {
    "duration": 7,
    "start_time": "2022-04-08T07:28:09.282Z"
   },
   {
    "duration": 791,
    "start_time": "2022-04-08T07:28:29.440Z"
   },
   {
    "duration": 149,
    "start_time": "2022-04-08T07:28:30.233Z"
   },
   {
    "duration": 21,
    "start_time": "2022-04-08T07:28:30.384Z"
   },
   {
    "duration": 103,
    "start_time": "2022-04-08T07:28:30.407Z"
   },
   {
    "duration": 500,
    "start_time": "2022-04-08T07:28:30.511Z"
   },
   {
    "duration": 53,
    "start_time": "2022-04-08T07:28:31.012Z"
   },
   {
    "duration": 4,
    "start_time": "2022-04-08T07:28:31.067Z"
   },
   {
    "duration": 56,
    "start_time": "2022-04-08T07:28:31.073Z"
   },
   {
    "duration": 3,
    "start_time": "2022-04-08T07:28:31.131Z"
   },
   {
    "duration": 9,
    "start_time": "2022-04-08T07:28:31.137Z"
   },
   {
    "duration": 121,
    "start_time": "2022-04-08T07:28:31.147Z"
   },
   {
    "duration": 18,
    "start_time": "2022-04-08T07:28:31.269Z"
   },
   {
    "duration": 71,
    "start_time": "2022-04-08T07:28:31.288Z"
   },
   {
    "duration": 159,
    "start_time": "2022-04-08T07:28:31.361Z"
   },
   {
    "duration": 34,
    "start_time": "2022-04-08T07:28:31.522Z"
   },
   {
    "duration": 23,
    "start_time": "2022-04-08T07:28:31.557Z"
   },
   {
    "duration": 6,
    "start_time": "2022-04-08T07:28:31.581Z"
   },
   {
    "duration": 91,
    "start_time": "2022-04-08T07:28:31.589Z"
   },
   {
    "duration": 15,
    "start_time": "2022-04-08T07:28:31.682Z"
   },
   {
    "duration": 57,
    "start_time": "2022-04-08T07:28:31.698Z"
   },
   {
    "duration": 28,
    "start_time": "2022-04-08T07:28:31.756Z"
   },
   {
    "duration": 22,
    "start_time": "2022-04-08T07:28:31.786Z"
   },
   {
    "duration": 99,
    "start_time": "2022-04-08T07:28:31.810Z"
   },
   {
    "duration": 0,
    "start_time": "2022-04-08T07:28:31.911Z"
   },
   {
    "duration": 0,
    "start_time": "2022-04-08T07:28:31.912Z"
   },
   {
    "duration": 0,
    "start_time": "2022-04-08T07:28:31.913Z"
   },
   {
    "duration": 0,
    "start_time": "2022-04-08T07:28:31.914Z"
   },
   {
    "duration": 0,
    "start_time": "2022-04-08T07:28:31.915Z"
   },
   {
    "duration": 0,
    "start_time": "2022-04-08T07:28:31.916Z"
   },
   {
    "duration": 0,
    "start_time": "2022-04-08T07:28:31.917Z"
   },
   {
    "duration": 0,
    "start_time": "2022-04-08T07:28:31.918Z"
   },
   {
    "duration": 0,
    "start_time": "2022-04-08T07:28:31.919Z"
   },
   {
    "duration": 0,
    "start_time": "2022-04-08T07:28:31.919Z"
   },
   {
    "duration": 0,
    "start_time": "2022-04-08T07:28:31.929Z"
   },
   {
    "duration": 0,
    "start_time": "2022-04-08T07:28:31.930Z"
   },
   {
    "duration": 0,
    "start_time": "2022-04-08T07:28:31.931Z"
   },
   {
    "duration": 0,
    "start_time": "2022-04-08T07:28:31.932Z"
   },
   {
    "duration": 0,
    "start_time": "2022-04-08T07:28:31.933Z"
   },
   {
    "duration": 0,
    "start_time": "2022-04-08T07:28:31.934Z"
   },
   {
    "duration": 0,
    "start_time": "2022-04-08T07:28:31.935Z"
   },
   {
    "duration": 0,
    "start_time": "2022-04-08T07:28:31.936Z"
   },
   {
    "duration": 0,
    "start_time": "2022-04-08T07:28:31.937Z"
   },
   {
    "duration": 0,
    "start_time": "2022-04-08T07:28:31.938Z"
   },
   {
    "duration": 0,
    "start_time": "2022-04-08T07:28:31.939Z"
   },
   {
    "duration": 0,
    "start_time": "2022-04-08T07:28:31.939Z"
   },
   {
    "duration": 0,
    "start_time": "2022-04-08T07:28:31.940Z"
   },
   {
    "duration": 0,
    "start_time": "2022-04-08T07:28:31.941Z"
   },
   {
    "duration": 0,
    "start_time": "2022-04-08T07:28:31.942Z"
   },
   {
    "duration": 0,
    "start_time": "2022-04-08T07:28:31.943Z"
   },
   {
    "duration": 0,
    "start_time": "2022-04-08T07:28:31.944Z"
   },
   {
    "duration": 0,
    "start_time": "2022-04-08T07:28:31.945Z"
   },
   {
    "duration": 0,
    "start_time": "2022-04-08T07:28:31.946Z"
   },
   {
    "duration": 0,
    "start_time": "2022-04-08T07:28:31.947Z"
   },
   {
    "duration": 0,
    "start_time": "2022-04-08T07:28:31.948Z"
   },
   {
    "duration": 0,
    "start_time": "2022-04-08T07:28:31.949Z"
   },
   {
    "duration": 0,
    "start_time": "2022-04-08T07:28:31.950Z"
   },
   {
    "duration": 0,
    "start_time": "2022-04-08T07:28:31.951Z"
   },
   {
    "duration": 0,
    "start_time": "2022-04-08T07:28:31.952Z"
   },
   {
    "duration": 0,
    "start_time": "2022-04-08T07:28:31.953Z"
   },
   {
    "duration": 0,
    "start_time": "2022-04-08T07:28:31.954Z"
   },
   {
    "duration": 0,
    "start_time": "2022-04-08T07:28:31.954Z"
   },
   {
    "duration": 0,
    "start_time": "2022-04-08T07:28:31.955Z"
   },
   {
    "duration": 0,
    "start_time": "2022-04-08T07:28:31.956Z"
   },
   {
    "duration": 0,
    "start_time": "2022-04-08T07:28:31.957Z"
   },
   {
    "duration": 0,
    "start_time": "2022-04-08T07:28:31.957Z"
   },
   {
    "duration": 0,
    "start_time": "2022-04-08T07:28:31.958Z"
   },
   {
    "duration": 0,
    "start_time": "2022-04-08T07:28:31.959Z"
   },
   {
    "duration": 0,
    "start_time": "2022-04-08T07:28:31.960Z"
   },
   {
    "duration": 0,
    "start_time": "2022-04-08T07:28:31.961Z"
   },
   {
    "duration": 0,
    "start_time": "2022-04-08T07:28:31.962Z"
   },
   {
    "duration": 20,
    "start_time": "2022-04-08T07:29:25.249Z"
   },
   {
    "duration": 30,
    "start_time": "2022-04-08T07:31:01.680Z"
   },
   {
    "duration": 21,
    "start_time": "2022-04-08T07:32:00.216Z"
   },
   {
    "duration": 2,
    "start_time": "2022-04-08T07:32:05.232Z"
   },
   {
    "duration": 20,
    "start_time": "2022-04-08T07:32:42.966Z"
   },
   {
    "duration": 9,
    "start_time": "2022-04-08T07:32:44.998Z"
   },
   {
    "duration": 26,
    "start_time": "2022-04-08T07:32:59.543Z"
   },
   {
    "duration": 23,
    "start_time": "2022-04-08T07:33:10.422Z"
   },
   {
    "duration": 3,
    "start_time": "2022-04-08T07:33:29.110Z"
   },
   {
    "duration": 7,
    "start_time": "2022-04-08T07:33:30.766Z"
   },
   {
    "duration": 20,
    "start_time": "2022-04-08T07:33:39.894Z"
   },
   {
    "duration": 15,
    "start_time": "2022-04-08T07:33:51.885Z"
   },
   {
    "duration": 21,
    "start_time": "2022-04-08T07:33:53.918Z"
   },
   {
    "duration": 9,
    "start_time": "2022-04-08T07:33:55.526Z"
   },
   {
    "duration": 7,
    "start_time": "2022-04-08T07:33:57.245Z"
   },
   {
    "duration": 8,
    "start_time": "2022-04-08T07:34:15.485Z"
   },
   {
    "duration": 7,
    "start_time": "2022-04-08T07:34:16.805Z"
   },
   {
    "duration": 9,
    "start_time": "2022-04-08T07:34:18.805Z"
   },
   {
    "duration": 7,
    "start_time": "2022-04-08T07:34:33.405Z"
   },
   {
    "duration": 3,
    "start_time": "2022-04-08T07:37:18.619Z"
   },
   {
    "duration": 2175,
    "start_time": "2022-04-08T07:37:20.178Z"
   },
   {
    "duration": 826,
    "start_time": "2022-04-08T07:37:38.997Z"
   },
   {
    "duration": 138,
    "start_time": "2022-04-08T07:37:39.824Z"
   },
   {
    "duration": 20,
    "start_time": "2022-04-08T07:37:39.964Z"
   },
   {
    "duration": 105,
    "start_time": "2022-04-08T07:37:39.986Z"
   },
   {
    "duration": 405,
    "start_time": "2022-04-08T07:37:40.093Z"
   },
   {
    "duration": 54,
    "start_time": "2022-04-08T07:37:40.500Z"
   },
   {
    "duration": 4,
    "start_time": "2022-04-08T07:37:40.556Z"
   },
   {
    "duration": 40,
    "start_time": "2022-04-08T07:37:40.562Z"
   },
   {
    "duration": 2,
    "start_time": "2022-04-08T07:37:40.604Z"
   },
   {
    "duration": 24,
    "start_time": "2022-04-08T07:37:40.609Z"
   },
   {
    "duration": 114,
    "start_time": "2022-04-08T07:37:40.634Z"
   },
   {
    "duration": 16,
    "start_time": "2022-04-08T07:37:40.750Z"
   },
   {
    "duration": 63,
    "start_time": "2022-04-08T07:37:40.768Z"
   },
   {
    "duration": 152,
    "start_time": "2022-04-08T07:37:40.833Z"
   },
   {
    "duration": 33,
    "start_time": "2022-04-08T07:37:40.986Z"
   },
   {
    "duration": 27,
    "start_time": "2022-04-08T07:37:41.021Z"
   },
   {
    "duration": 6,
    "start_time": "2022-04-08T07:37:41.050Z"
   },
   {
    "duration": 88,
    "start_time": "2022-04-08T07:37:41.057Z"
   },
   {
    "duration": 16,
    "start_time": "2022-04-08T07:37:41.147Z"
   },
   {
    "duration": 39,
    "start_time": "2022-04-08T07:37:41.165Z"
   },
   {
    "duration": 43,
    "start_time": "2022-04-08T07:37:41.206Z"
   },
   {
    "duration": 21,
    "start_time": "2022-04-08T07:37:41.251Z"
   },
   {
    "duration": 3,
    "start_time": "2022-04-08T07:37:41.273Z"
   },
   {
    "duration": 8,
    "start_time": "2022-04-08T07:37:41.278Z"
   },
   {
    "duration": 15,
    "start_time": "2022-04-08T07:37:41.288Z"
   },
   {
    "duration": 31,
    "start_time": "2022-04-08T07:37:41.304Z"
   },
   {
    "duration": 9,
    "start_time": "2022-04-08T07:37:41.337Z"
   },
   {
    "duration": 5,
    "start_time": "2022-04-08T07:37:41.351Z"
   },
   {
    "duration": 8,
    "start_time": "2022-04-08T07:37:41.357Z"
   },
   {
    "duration": 6,
    "start_time": "2022-04-08T07:37:41.367Z"
   },
   {
    "duration": 8,
    "start_time": "2022-04-08T07:37:41.375Z"
   },
   {
    "duration": 6,
    "start_time": "2022-04-08T07:37:41.385Z"
   },
   {
    "duration": 39,
    "start_time": "2022-04-08T07:37:41.393Z"
   },
   {
    "duration": 102,
    "start_time": "2022-04-08T07:37:41.434Z"
   },
   {
    "duration": 15,
    "start_time": "2022-04-08T07:37:41.537Z"
   },
   {
    "duration": 151,
    "start_time": "2022-04-08T07:37:41.554Z"
   },
   {
    "duration": 13,
    "start_time": "2022-04-08T07:37:41.707Z"
   },
   {
    "duration": 4,
    "start_time": "2022-04-08T07:37:41.730Z"
   },
   {
    "duration": 6,
    "start_time": "2022-04-08T07:37:41.736Z"
   },
   {
    "duration": 5,
    "start_time": "2022-04-08T07:37:41.744Z"
   },
   {
    "duration": 214,
    "start_time": "2022-04-08T07:37:41.750Z"
   },
   {
    "duration": 5,
    "start_time": "2022-04-08T07:37:41.966Z"
   },
   {
    "duration": 9,
    "start_time": "2022-04-08T07:37:41.972Z"
   },
   {
    "duration": 6,
    "start_time": "2022-04-08T07:37:41.982Z"
   },
   {
    "duration": 157,
    "start_time": "2022-04-08T07:37:41.990Z"
   },
   {
    "duration": 4,
    "start_time": "2022-04-08T07:37:42.148Z"
   },
   {
    "duration": 8,
    "start_time": "2022-04-08T07:37:42.154Z"
   },
   {
    "duration": 8,
    "start_time": "2022-04-08T07:37:42.163Z"
   },
   {
    "duration": 141,
    "start_time": "2022-04-08T07:37:42.173Z"
   },
   {
    "duration": 26,
    "start_time": "2022-04-08T07:37:42.315Z"
   },
   {
    "duration": 4,
    "start_time": "2022-04-08T07:37:42.343Z"
   },
   {
    "duration": 7,
    "start_time": "2022-04-08T07:37:42.349Z"
   },
   {
    "duration": 5,
    "start_time": "2022-04-08T07:37:42.358Z"
   },
   {
    "duration": 217,
    "start_time": "2022-04-08T07:37:42.365Z"
   },
   {
    "duration": 5,
    "start_time": "2022-04-08T07:37:42.584Z"
   },
   {
    "duration": 7,
    "start_time": "2022-04-08T07:37:42.590Z"
   },
   {
    "duration": 7,
    "start_time": "2022-04-08T07:37:42.598Z"
   },
   {
    "duration": 164,
    "start_time": "2022-04-08T07:37:42.607Z"
   },
   {
    "duration": 3,
    "start_time": "2022-04-08T07:37:42.773Z"
   },
   {
    "duration": 6,
    "start_time": "2022-04-08T07:37:42.778Z"
   },
   {
    "duration": 7,
    "start_time": "2022-04-08T07:37:42.785Z"
   },
   {
    "duration": 200,
    "start_time": "2022-04-08T07:37:42.794Z"
   },
   {
    "duration": 7,
    "start_time": "2022-04-08T07:37:42.995Z"
   },
   {
    "duration": 7,
    "start_time": "2022-04-08T07:37:43.004Z"
   },
   {
    "duration": 18,
    "start_time": "2022-04-08T07:37:43.012Z"
   },
   {
    "duration": 140,
    "start_time": "2022-04-08T07:37:43.031Z"
   },
   {
    "duration": 10,
    "start_time": "2022-04-08T07:37:43.173Z"
   },
   {
    "duration": 32,
    "start_time": "2022-04-08T07:37:43.185Z"
   },
   {
    "duration": 7,
    "start_time": "2022-04-08T07:37:43.219Z"
   },
   {
    "duration": 13,
    "start_time": "2022-04-08T07:37:43.227Z"
   },
   {
    "duration": 4,
    "start_time": "2022-04-08T07:39:18.902Z"
   },
   {
    "duration": 23,
    "start_time": "2022-04-08T07:53:25.826Z"
   },
   {
    "duration": 86,
    "start_time": "2022-04-08T08:01:04.869Z"
   },
   {
    "duration": 15,
    "start_time": "2022-04-08T08:01:24.292Z"
   },
   {
    "duration": 4,
    "start_time": "2022-04-08T08:02:12.787Z"
   },
   {
    "duration": 4,
    "start_time": "2022-04-08T08:02:47.138Z"
   },
   {
    "duration": 5,
    "start_time": "2022-04-08T08:04:34.314Z"
   },
   {
    "duration": 4,
    "start_time": "2022-04-08T08:04:44.441Z"
   },
   {
    "duration": 4,
    "start_time": "2022-04-08T08:05:30.548Z"
   },
   {
    "duration": 4,
    "start_time": "2022-04-08T08:05:47.961Z"
   },
   {
    "duration": 4,
    "start_time": "2022-04-08T08:06:06.208Z"
   },
   {
    "duration": 4,
    "start_time": "2022-04-08T08:06:19.169Z"
   },
   {
    "duration": 4,
    "start_time": "2022-04-08T08:06:58.263Z"
   },
   {
    "duration": 5,
    "start_time": "2022-04-08T08:07:20.351Z"
   },
   {
    "duration": 7,
    "start_time": "2022-04-08T08:07:59.455Z"
   },
   {
    "duration": 3,
    "start_time": "2022-04-08T08:08:11.735Z"
   },
   {
    "duration": 4,
    "start_time": "2022-04-08T08:08:30.623Z"
   },
   {
    "duration": 931,
    "start_time": "2022-04-08T09:49:51.238Z"
   },
   {
    "duration": 185,
    "start_time": "2022-04-08T09:49:52.172Z"
   },
   {
    "duration": 29,
    "start_time": "2022-04-08T09:49:52.359Z"
   },
   {
    "duration": 147,
    "start_time": "2022-04-08T09:49:52.390Z"
   },
   {
    "duration": 801,
    "start_time": "2022-04-08T09:49:52.540Z"
   },
   {
    "duration": 75,
    "start_time": "2022-04-08T09:49:53.343Z"
   },
   {
    "duration": 6,
    "start_time": "2022-04-08T09:49:53.419Z"
   },
   {
    "duration": 55,
    "start_time": "2022-04-08T09:49:53.427Z"
   },
   {
    "duration": 18,
    "start_time": "2022-04-08T09:49:53.484Z"
   },
   {
    "duration": 37,
    "start_time": "2022-04-08T09:49:53.506Z"
   },
   {
    "duration": 169,
    "start_time": "2022-04-08T09:49:53.546Z"
   },
   {
    "duration": 28,
    "start_time": "2022-04-08T09:49:53.718Z"
   },
   {
    "duration": 95,
    "start_time": "2022-04-08T09:49:53.748Z"
   },
   {
    "duration": 202,
    "start_time": "2022-04-08T09:49:53.845Z"
   },
   {
    "duration": 58,
    "start_time": "2022-04-08T09:49:54.050Z"
   },
   {
    "duration": 28,
    "start_time": "2022-04-08T09:49:54.110Z"
   },
   {
    "duration": 10,
    "start_time": "2022-04-08T09:49:54.140Z"
   },
   {
    "duration": 121,
    "start_time": "2022-04-08T09:49:54.152Z"
   },
   {
    "duration": 30,
    "start_time": "2022-04-08T09:49:54.275Z"
   },
   {
    "duration": 63,
    "start_time": "2022-04-08T09:49:54.308Z"
   },
   {
    "duration": 46,
    "start_time": "2022-04-08T09:49:54.373Z"
   },
   {
    "duration": 29,
    "start_time": "2022-04-08T09:49:54.421Z"
   },
   {
    "duration": 5,
    "start_time": "2022-04-08T09:49:54.453Z"
   },
   {
    "duration": 22,
    "start_time": "2022-04-08T09:49:54.460Z"
   },
   {
    "duration": 26,
    "start_time": "2022-04-08T09:49:54.484Z"
   },
   {
    "duration": 55,
    "start_time": "2022-04-08T09:49:54.512Z"
   },
   {
    "duration": 36,
    "start_time": "2022-04-08T09:49:54.569Z"
   },
   {
    "duration": 36,
    "start_time": "2022-04-08T09:49:54.610Z"
   },
   {
    "duration": 30,
    "start_time": "2022-04-08T09:49:54.647Z"
   },
   {
    "duration": 26,
    "start_time": "2022-04-08T09:49:54.679Z"
   },
   {
    "duration": 37,
    "start_time": "2022-04-08T09:49:54.707Z"
   },
   {
    "duration": 34,
    "start_time": "2022-04-08T09:49:54.746Z"
   },
   {
    "duration": 23,
    "start_time": "2022-04-08T09:49:54.783Z"
   },
   {
    "duration": 47,
    "start_time": "2022-04-08T09:49:54.808Z"
   },
   {
    "duration": 22,
    "start_time": "2022-04-08T09:49:54.857Z"
   },
   {
    "duration": 15,
    "start_time": "2022-04-08T09:49:54.881Z"
   },
   {
    "duration": 219,
    "start_time": "2022-04-08T09:49:54.898Z"
   },
   {
    "duration": 19,
    "start_time": "2022-04-08T09:49:55.120Z"
   },
   {
    "duration": 23,
    "start_time": "2022-04-08T09:49:55.142Z"
   },
   {
    "duration": 20,
    "start_time": "2022-04-08T09:49:55.167Z"
   },
   {
    "duration": 202,
    "start_time": "2022-04-08T09:49:55.189Z"
   },
   {
    "duration": 21,
    "start_time": "2022-04-08T09:49:55.393Z"
   },
   {
    "duration": 23,
    "start_time": "2022-04-08T09:49:55.415Z"
   },
   {
    "duration": 27,
    "start_time": "2022-04-08T09:49:55.440Z"
   },
   {
    "duration": 24,
    "start_time": "2022-04-08T09:49:55.469Z"
   },
   {
    "duration": 233,
    "start_time": "2022-04-08T09:49:55.495Z"
   },
   {
    "duration": 5,
    "start_time": "2022-04-08T09:49:55.730Z"
   },
   {
    "duration": 46,
    "start_time": "2022-04-08T09:49:55.737Z"
   },
   {
    "duration": 56,
    "start_time": "2022-04-08T09:49:55.785Z"
   },
   {
    "duration": 202,
    "start_time": "2022-04-08T09:49:55.844Z"
   },
   {
    "duration": 6,
    "start_time": "2022-04-08T09:49:56.048Z"
   },
   {
    "duration": 24,
    "start_time": "2022-04-08T09:49:56.056Z"
   },
   {
    "duration": 25,
    "start_time": "2022-04-08T09:49:56.083Z"
   },
   {
    "duration": 277,
    "start_time": "2022-04-08T09:49:56.110Z"
   },
   {
    "duration": 29,
    "start_time": "2022-04-08T09:49:56.389Z"
   },
   {
    "duration": 22,
    "start_time": "2022-04-08T09:49:56.420Z"
   },
   {
    "duration": 32,
    "start_time": "2022-04-08T09:49:56.444Z"
   },
   {
    "duration": 40,
    "start_time": "2022-04-08T09:49:56.478Z"
   },
   {
    "duration": 204,
    "start_time": "2022-04-08T09:49:56.520Z"
   },
   {
    "duration": 5,
    "start_time": "2022-04-08T09:49:56.726Z"
   },
   {
    "duration": 48,
    "start_time": "2022-04-08T09:49:56.733Z"
   },
   {
    "duration": 22,
    "start_time": "2022-04-08T09:49:56.783Z"
   },
   {
    "duration": 249,
    "start_time": "2022-04-08T09:49:56.807Z"
   },
   {
    "duration": 5,
    "start_time": "2022-04-08T09:49:57.058Z"
   },
   {
    "duration": 43,
    "start_time": "2022-04-08T09:49:57.065Z"
   },
   {
    "duration": 45,
    "start_time": "2022-04-08T09:49:57.110Z"
   },
   {
    "duration": 273,
    "start_time": "2022-04-08T09:49:57.157Z"
   },
   {
    "duration": 12,
    "start_time": "2022-04-08T09:49:57.432Z"
   },
   {
    "duration": 22,
    "start_time": "2022-04-08T09:49:57.446Z"
   },
   {
    "duration": 36,
    "start_time": "2022-04-08T09:49:57.470Z"
   },
   {
    "duration": 300,
    "start_time": "2022-04-08T09:49:57.508Z"
   },
   {
    "duration": 19,
    "start_time": "2022-04-08T09:49:57.810Z"
   },
   {
    "duration": 34,
    "start_time": "2022-04-08T09:49:57.831Z"
   },
   {
    "duration": 19,
    "start_time": "2022-04-08T09:49:57.867Z"
   },
   {
    "duration": 31,
    "start_time": "2022-04-08T09:49:57.889Z"
   },
   {
    "duration": 154,
    "start_time": "2022-04-08T09:51:39.164Z"
   },
   {
    "duration": 15,
    "start_time": "2022-04-08T09:54:01.473Z"
   },
   {
    "duration": 19,
    "start_time": "2022-04-08T09:54:10.938Z"
   },
   {
    "duration": 16,
    "start_time": "2022-04-08T09:54:15.385Z"
   },
   {
    "duration": 6,
    "start_time": "2022-04-08T09:54:32.297Z"
   },
   {
    "duration": 5,
    "start_time": "2022-04-08T09:54:43.034Z"
   },
   {
    "duration": 6,
    "start_time": "2022-04-08T09:54:45.329Z"
   },
   {
    "duration": 249,
    "start_time": "2022-04-08T10:06:32.168Z"
   },
   {
    "duration": 139,
    "start_time": "2022-04-08T10:06:41.664Z"
   },
   {
    "duration": 14,
    "start_time": "2022-04-08T10:09:53.668Z"
   },
   {
    "duration": 5,
    "start_time": "2022-04-08T10:10:04.053Z"
   },
   {
    "duration": 5,
    "start_time": "2022-04-08T10:10:08.277Z"
   },
   {
    "duration": 5,
    "start_time": "2022-04-08T10:10:11.997Z"
   },
   {
    "duration": 12,
    "start_time": "2022-04-08T10:10:26.557Z"
   },
   {
    "duration": 5,
    "start_time": "2022-04-08T10:10:37.589Z"
   },
   {
    "duration": 6,
    "start_time": "2022-04-08T10:10:40.021Z"
   },
   {
    "duration": 5,
    "start_time": "2022-04-08T10:10:42.380Z"
   },
   {
    "duration": 165,
    "start_time": "2022-04-08T10:10:46.756Z"
   },
   {
    "duration": 27,
    "start_time": "2022-04-08T10:11:24.645Z"
   },
   {
    "duration": 19,
    "start_time": "2022-04-08T10:13:24.542Z"
   },
   {
    "duration": 189,
    "start_time": "2022-04-08T11:44:48.662Z"
   },
   {
    "duration": 154,
    "start_time": "2022-04-08T11:45:07.591Z"
   },
   {
    "duration": 166,
    "start_time": "2022-04-08T11:45:15.265Z"
   },
   {
    "duration": 186,
    "start_time": "2022-04-08T11:46:03.104Z"
   },
   {
    "duration": 186,
    "start_time": "2022-04-08T11:46:30.711Z"
   },
   {
    "duration": 174,
    "start_time": "2022-04-08T11:46:52.176Z"
   },
   {
    "duration": 375,
    "start_time": "2022-04-08T11:47:11.040Z"
   },
   {
    "duration": 179,
    "start_time": "2022-04-08T11:47:16.983Z"
   },
   {
    "duration": 158,
    "start_time": "2022-04-08T11:47:48.167Z"
   },
   {
    "duration": 161,
    "start_time": "2022-04-08T11:47:53.143Z"
   },
   {
    "duration": 179,
    "start_time": "2022-04-08T11:48:14.182Z"
   },
   {
    "duration": 165,
    "start_time": "2022-04-08T11:49:00.877Z"
   },
   {
    "duration": 6,
    "start_time": "2022-04-08T11:49:28.266Z"
   },
   {
    "duration": 6,
    "start_time": "2022-04-08T11:49:31.213Z"
   },
   {
    "duration": 6,
    "start_time": "2022-04-08T11:49:33.532Z"
   },
   {
    "duration": 153,
    "start_time": "2022-04-08T11:49:37.380Z"
   },
   {
    "duration": 168,
    "start_time": "2022-04-08T11:50:37.285Z"
   },
   {
    "duration": 151,
    "start_time": "2022-04-08T11:50:51.676Z"
   },
   {
    "duration": 168,
    "start_time": "2022-04-08T11:51:04.612Z"
   },
   {
    "duration": 169,
    "start_time": "2022-04-08T11:51:22.373Z"
   },
   {
    "duration": 220,
    "start_time": "2022-04-08T11:52:09.011Z"
   },
   {
    "duration": 5,
    "start_time": "2022-04-08T11:52:27.914Z"
   },
   {
    "duration": 5,
    "start_time": "2022-04-08T11:52:29.579Z"
   },
   {
    "duration": 6,
    "start_time": "2022-04-08T11:52:31.346Z"
   },
   {
    "duration": 285,
    "start_time": "2022-04-08T11:52:33.452Z"
   },
   {
    "duration": 304,
    "start_time": "2022-04-08T11:55:32.340Z"
   },
   {
    "duration": 250,
    "start_time": "2022-04-08T11:55:45.144Z"
   },
   {
    "duration": 14,
    "start_time": "2022-04-08T12:01:18.315Z"
   },
   {
    "duration": 5,
    "start_time": "2022-04-08T12:01:37.868Z"
   },
   {
    "duration": 6,
    "start_time": "2022-04-08T12:01:39.796Z"
   },
   {
    "duration": 6,
    "start_time": "2022-04-08T12:01:41.251Z"
   },
   {
    "duration": 153,
    "start_time": "2022-04-08T12:01:54.772Z"
   },
   {
    "duration": 221,
    "start_time": "2022-04-08T12:03:05.227Z"
   },
   {
    "duration": 177,
    "start_time": "2022-04-08T12:03:10.651Z"
   },
   {
    "duration": 5,
    "start_time": "2022-04-08T12:03:20.724Z"
   },
   {
    "duration": 6,
    "start_time": "2022-04-08T12:03:22.233Z"
   },
   {
    "duration": 8,
    "start_time": "2022-04-08T12:03:23.602Z"
   },
   {
    "duration": 165,
    "start_time": "2022-04-08T12:03:29.034Z"
   },
   {
    "duration": 236,
    "start_time": "2022-04-08T12:03:53.794Z"
   },
   {
    "duration": 177,
    "start_time": "2022-04-08T12:04:13.733Z"
   },
   {
    "duration": 5,
    "start_time": "2022-04-08T12:04:19.745Z"
   },
   {
    "duration": 5,
    "start_time": "2022-04-08T12:04:21.137Z"
   },
   {
    "duration": 5,
    "start_time": "2022-04-08T12:04:23.244Z"
   },
   {
    "duration": 165,
    "start_time": "2022-04-08T12:04:24.841Z"
   },
   {
    "duration": 210,
    "start_time": "2022-04-08T12:04:43.657Z"
   },
   {
    "duration": 160,
    "start_time": "2022-04-08T12:06:39.480Z"
   },
   {
    "duration": 8,
    "start_time": "2022-04-08T12:11:10.268Z"
   },
   {
    "duration": 7,
    "start_time": "2022-04-08T12:11:12.469Z"
   },
   {
    "duration": 11,
    "start_time": "2022-04-08T12:11:59.340Z"
   },
   {
    "duration": 9,
    "start_time": "2022-04-08T12:12:33.468Z"
   },
   {
    "duration": 142,
    "start_time": "2022-04-08T12:19:26.735Z"
   },
   {
    "duration": 961,
    "start_time": "2022-04-08T12:27:07.473Z"
   },
   {
    "duration": 191,
    "start_time": "2022-04-08T12:27:08.439Z"
   },
   {
    "duration": 31,
    "start_time": "2022-04-08T12:27:08.632Z"
   },
   {
    "duration": 130,
    "start_time": "2022-04-08T12:27:08.666Z"
   },
   {
    "duration": 709,
    "start_time": "2022-04-08T12:27:08.798Z"
   },
   {
    "duration": 72,
    "start_time": "2022-04-08T12:27:09.509Z"
   },
   {
    "duration": 6,
    "start_time": "2022-04-08T12:27:09.583Z"
   },
   {
    "duration": 73,
    "start_time": "2022-04-08T12:27:09.591Z"
   },
   {
    "duration": 3,
    "start_time": "2022-04-08T12:27:09.667Z"
   },
   {
    "duration": 13,
    "start_time": "2022-04-08T12:27:09.674Z"
   },
   {
    "duration": 174,
    "start_time": "2022-04-08T12:27:09.689Z"
   },
   {
    "duration": 24,
    "start_time": "2022-04-08T12:27:09.865Z"
   },
   {
    "duration": 95,
    "start_time": "2022-04-08T12:27:09.891Z"
   },
   {
    "duration": 189,
    "start_time": "2022-04-08T12:27:09.987Z"
   },
   {
    "duration": 40,
    "start_time": "2022-04-08T12:27:10.178Z"
   },
   {
    "duration": 46,
    "start_time": "2022-04-08T12:27:10.220Z"
   },
   {
    "duration": 8,
    "start_time": "2022-04-08T12:27:10.268Z"
   },
   {
    "duration": 113,
    "start_time": "2022-04-08T12:27:10.278Z"
   },
   {
    "duration": 21,
    "start_time": "2022-04-08T12:27:10.393Z"
   },
   {
    "duration": 72,
    "start_time": "2022-04-08T12:27:10.416Z"
   },
   {
    "duration": 34,
    "start_time": "2022-04-08T12:27:10.490Z"
   },
   {
    "duration": 29,
    "start_time": "2022-04-08T12:27:10.539Z"
   },
   {
    "duration": 3,
    "start_time": "2022-04-08T12:27:10.570Z"
   },
   {
    "duration": 12,
    "start_time": "2022-04-08T12:27:10.575Z"
   },
   {
    "duration": 25,
    "start_time": "2022-04-08T12:27:10.589Z"
   },
   {
    "duration": 31,
    "start_time": "2022-04-08T12:27:10.616Z"
   },
   {
    "duration": 15,
    "start_time": "2022-04-08T12:27:10.649Z"
   },
   {
    "duration": 9,
    "start_time": "2022-04-08T12:27:10.671Z"
   },
   {
    "duration": 12,
    "start_time": "2022-04-08T12:27:10.682Z"
   },
   {
    "duration": 11,
    "start_time": "2022-04-08T12:27:10.696Z"
   },
   {
    "duration": 11,
    "start_time": "2022-04-08T12:27:10.739Z"
   },
   {
    "duration": 8,
    "start_time": "2022-04-08T12:27:10.752Z"
   },
   {
    "duration": 6,
    "start_time": "2022-04-08T12:27:10.762Z"
   },
   {
    "duration": 135,
    "start_time": "2022-04-08T12:27:10.770Z"
   },
   {
    "duration": 18,
    "start_time": "2022-04-08T12:27:10.907Z"
   },
   {
    "duration": 5,
    "start_time": "2022-04-08T12:27:10.939Z"
   },
   {
    "duration": 196,
    "start_time": "2022-04-08T12:27:10.946Z"
   },
   {
    "duration": 14,
    "start_time": "2022-04-08T12:27:11.144Z"
   },
   {
    "duration": 8,
    "start_time": "2022-04-08T12:27:11.160Z"
   },
   {
    "duration": 12,
    "start_time": "2022-04-08T12:27:11.169Z"
   },
   {
    "duration": 17,
    "start_time": "2022-04-08T12:27:11.183Z"
   },
   {
    "duration": 224,
    "start_time": "2022-04-08T12:27:11.202Z"
   },
   {
    "duration": 12,
    "start_time": "2022-04-08T12:27:11.428Z"
   },
   {
    "duration": 11,
    "start_time": "2022-04-08T12:27:11.443Z"
   },
   {
    "duration": 10,
    "start_time": "2022-04-08T12:27:11.457Z"
   },
   {
    "duration": 217,
    "start_time": "2022-04-08T12:27:11.469Z"
   },
   {
    "duration": 6,
    "start_time": "2022-04-08T12:27:11.688Z"
   },
   {
    "duration": 11,
    "start_time": "2022-04-08T12:27:11.696Z"
   },
   {
    "duration": 16,
    "start_time": "2022-04-08T12:27:11.709Z"
   },
   {
    "duration": 203,
    "start_time": "2022-04-08T12:27:11.740Z"
   },
   {
    "duration": 13,
    "start_time": "2022-04-08T12:27:11.946Z"
   },
   {
    "duration": 16,
    "start_time": "2022-04-08T12:27:11.961Z"
   },
   {
    "duration": 18,
    "start_time": "2022-04-08T12:27:11.980Z"
   },
   {
    "duration": 22,
    "start_time": "2022-04-08T12:27:12.000Z"
   },
   {
    "duration": 255,
    "start_time": "2022-04-08T12:27:12.025Z"
   },
   {
    "duration": 6,
    "start_time": "2022-04-08T12:27:12.283Z"
   },
   {
    "duration": 17,
    "start_time": "2022-04-08T12:27:12.291Z"
   },
   {
    "duration": 18,
    "start_time": "2022-04-08T12:27:12.310Z"
   },
   {
    "duration": 283,
    "start_time": "2022-04-08T12:27:12.330Z"
   },
   {
    "duration": 6,
    "start_time": "2022-04-08T12:27:12.615Z"
   },
   {
    "duration": 6,
    "start_time": "2022-04-08T12:27:12.639Z"
   },
   {
    "duration": 20,
    "start_time": "2022-04-08T12:27:12.647Z"
   },
   {
    "duration": 286,
    "start_time": "2022-04-08T12:27:12.669Z"
   },
   {
    "duration": 10,
    "start_time": "2022-04-08T12:27:12.958Z"
   },
   {
    "duration": 29,
    "start_time": "2022-04-08T12:27:12.969Z"
   },
   {
    "duration": 21,
    "start_time": "2022-04-08T12:27:13.000Z"
   },
   {
    "duration": 195,
    "start_time": "2022-04-08T12:27:13.024Z"
   },
   {
    "duration": 25,
    "start_time": "2022-04-08T12:27:13.221Z"
   },
   {
    "duration": 10,
    "start_time": "2022-04-08T12:27:13.248Z"
   },
   {
    "duration": 22,
    "start_time": "2022-04-08T12:27:13.261Z"
   },
   {
    "duration": 16,
    "start_time": "2022-04-08T12:27:13.286Z"
   },
   {
    "duration": 196,
    "start_time": "2022-04-08T12:35:58.334Z"
   },
   {
    "duration": 955,
    "start_time": "2022-04-08T13:12:15.319Z"
   },
   {
    "duration": 183,
    "start_time": "2022-04-08T13:12:16.277Z"
   },
   {
    "duration": 29,
    "start_time": "2022-04-08T13:12:16.461Z"
   },
   {
    "duration": 133,
    "start_time": "2022-04-08T13:12:16.493Z"
   },
   {
    "duration": 520,
    "start_time": "2022-04-08T13:12:16.628Z"
   },
   {
    "duration": 59,
    "start_time": "2022-04-08T13:12:17.150Z"
   },
   {
    "duration": 6,
    "start_time": "2022-04-08T13:12:17.212Z"
   },
   {
    "duration": 52,
    "start_time": "2022-04-08T13:12:17.238Z"
   },
   {
    "duration": 4,
    "start_time": "2022-04-08T13:12:17.292Z"
   },
   {
    "duration": 14,
    "start_time": "2022-04-08T13:12:17.299Z"
   },
   {
    "duration": 256,
    "start_time": "2022-04-08T13:12:17.315Z"
   },
   {
    "duration": 25,
    "start_time": "2022-04-08T13:12:17.573Z"
   },
   {
    "duration": 123,
    "start_time": "2022-04-08T13:12:17.600Z"
   },
   {
    "duration": 208,
    "start_time": "2022-04-08T13:12:17.725Z"
   },
   {
    "duration": 42,
    "start_time": "2022-04-08T13:12:17.939Z"
   },
   {
    "duration": 28,
    "start_time": "2022-04-08T13:12:17.983Z"
   },
   {
    "duration": 28,
    "start_time": "2022-04-08T13:12:18.013Z"
   },
   {
    "duration": 109,
    "start_time": "2022-04-08T13:12:18.043Z"
   },
   {
    "duration": 22,
    "start_time": "2022-04-08T13:12:18.154Z"
   },
   {
    "duration": 74,
    "start_time": "2022-04-08T13:12:18.178Z"
   },
   {
    "duration": 36,
    "start_time": "2022-04-08T13:12:18.253Z"
   },
   {
    "duration": 27,
    "start_time": "2022-04-08T13:12:18.291Z"
   },
   {
    "duration": 20,
    "start_time": "2022-04-08T13:12:18.320Z"
   },
   {
    "duration": 13,
    "start_time": "2022-04-08T13:12:18.342Z"
   },
   {
    "duration": 23,
    "start_time": "2022-04-08T13:12:18.357Z"
   },
   {
    "duration": 25,
    "start_time": "2022-04-08T13:12:18.382Z"
   },
   {
    "duration": 11,
    "start_time": "2022-04-08T13:12:18.409Z"
   },
   {
    "duration": 9,
    "start_time": "2022-04-08T13:12:18.438Z"
   },
   {
    "duration": 11,
    "start_time": "2022-04-08T13:12:18.449Z"
   },
   {
    "duration": 19,
    "start_time": "2022-04-08T13:12:18.462Z"
   },
   {
    "duration": 12,
    "start_time": "2022-04-08T13:12:18.483Z"
   },
   {
    "duration": 10,
    "start_time": "2022-04-08T13:12:18.496Z"
   },
   {
    "duration": 32,
    "start_time": "2022-04-08T13:12:18.507Z"
   },
   {
    "duration": 120,
    "start_time": "2022-04-08T13:12:18.541Z"
   },
   {
    "duration": 18,
    "start_time": "2022-04-08T13:12:18.662Z"
   },
   {
    "duration": 11,
    "start_time": "2022-04-08T13:12:18.682Z"
   },
   {
    "duration": 186,
    "start_time": "2022-04-08T13:12:18.694Z"
   },
   {
    "duration": 13,
    "start_time": "2022-04-08T13:12:18.882Z"
   },
   {
    "duration": 12,
    "start_time": "2022-04-08T13:12:18.897Z"
   },
   {
    "duration": 31,
    "start_time": "2022-04-08T13:12:18.911Z"
   },
   {
    "duration": 11,
    "start_time": "2022-04-08T13:12:18.945Z"
   },
   {
    "duration": 197,
    "start_time": "2022-04-08T13:12:18.958Z"
   },
   {
    "duration": 5,
    "start_time": "2022-04-08T13:12:19.157Z"
   },
   {
    "duration": 13,
    "start_time": "2022-04-08T13:12:19.163Z"
   },
   {
    "duration": 12,
    "start_time": "2022-04-08T13:12:19.178Z"
   },
   {
    "duration": 198,
    "start_time": "2022-04-08T13:12:19.192Z"
   },
   {
    "duration": 5,
    "start_time": "2022-04-08T13:12:19.393Z"
   },
   {
    "duration": 19,
    "start_time": "2022-04-08T13:12:19.400Z"
   },
   {
    "duration": 19,
    "start_time": "2022-04-08T13:12:19.421Z"
   },
   {
    "duration": 179,
    "start_time": "2022-04-08T13:12:19.442Z"
   },
   {
    "duration": 17,
    "start_time": "2022-04-08T13:12:19.623Z"
   },
   {
    "duration": 9,
    "start_time": "2022-04-08T13:12:19.642Z"
   },
   {
    "duration": 11,
    "start_time": "2022-04-08T13:12:19.653Z"
   },
   {
    "duration": 8,
    "start_time": "2022-04-08T13:12:19.666Z"
   },
   {
    "duration": 194,
    "start_time": "2022-04-08T13:12:19.676Z"
   },
   {
    "duration": 5,
    "start_time": "2022-04-08T13:12:19.872Z"
   },
   {
    "duration": 13,
    "start_time": "2022-04-08T13:12:19.879Z"
   },
   {
    "duration": 11,
    "start_time": "2022-04-08T13:12:19.894Z"
   },
   {
    "duration": 197,
    "start_time": "2022-04-08T13:12:19.907Z"
   },
   {
    "duration": 5,
    "start_time": "2022-04-08T13:12:20.107Z"
   },
   {
    "duration": 25,
    "start_time": "2022-04-08T13:12:20.114Z"
   },
   {
    "duration": 9,
    "start_time": "2022-04-08T13:12:20.141Z"
   },
   {
    "duration": 274,
    "start_time": "2022-04-08T13:12:20.152Z"
   },
   {
    "duration": 16,
    "start_time": "2022-04-08T13:12:20.428Z"
   },
   {
    "duration": 12,
    "start_time": "2022-04-08T13:12:20.447Z"
   },
   {
    "duration": 11,
    "start_time": "2022-04-08T13:12:20.462Z"
   },
   {
    "duration": 258,
    "start_time": "2022-04-08T13:12:20.475Z"
   },
   {
    "duration": 14,
    "start_time": "2022-04-08T13:12:20.738Z"
   },
   {
    "duration": 10,
    "start_time": "2022-04-08T13:12:20.755Z"
   },
   {
    "duration": 17,
    "start_time": "2022-04-08T13:12:20.767Z"
   },
   {
    "duration": 22,
    "start_time": "2022-04-08T13:12:20.786Z"
   },
   {
    "duration": 1053,
    "start_time": "2022-04-08T19:52:49.833Z"
   },
   {
    "duration": 212,
    "start_time": "2022-04-08T19:52:50.889Z"
   },
   {
    "duration": 35,
    "start_time": "2022-04-08T19:52:51.103Z"
   },
   {
    "duration": 166,
    "start_time": "2022-04-08T19:52:51.141Z"
   },
   {
    "duration": 611,
    "start_time": "2022-04-08T19:52:51.309Z"
   },
   {
    "duration": 85,
    "start_time": "2022-04-08T19:52:51.923Z"
   },
   {
    "duration": 6,
    "start_time": "2022-04-08T19:52:52.010Z"
   },
   {
    "duration": 81,
    "start_time": "2022-04-08T19:52:52.018Z"
   },
   {
    "duration": 5,
    "start_time": "2022-04-08T19:52:52.101Z"
   },
   {
    "duration": 12,
    "start_time": "2022-04-08T19:52:52.110Z"
   },
   {
    "duration": 197,
    "start_time": "2022-04-08T19:52:52.124Z"
   },
   {
    "duration": 29,
    "start_time": "2022-04-08T19:52:52.323Z"
   },
   {
    "duration": 119,
    "start_time": "2022-04-08T19:52:52.367Z"
   },
   {
    "duration": 292,
    "start_time": "2022-04-08T19:52:52.488Z"
   },
   {
    "duration": 55,
    "start_time": "2022-04-08T19:52:52.782Z"
   },
   {
    "duration": 54,
    "start_time": "2022-04-08T19:52:52.839Z"
   },
   {
    "duration": 11,
    "start_time": "2022-04-08T19:52:52.895Z"
   },
   {
    "duration": 130,
    "start_time": "2022-04-08T19:52:52.908Z"
   },
   {
    "duration": 33,
    "start_time": "2022-04-08T19:52:53.040Z"
   },
   {
    "duration": 66,
    "start_time": "2022-04-08T19:52:53.075Z"
   },
   {
    "duration": 70,
    "start_time": "2022-04-08T19:52:53.143Z"
   },
   {
    "duration": 53,
    "start_time": "2022-04-08T19:52:53.215Z"
   },
   {
    "duration": 4,
    "start_time": "2022-04-08T19:52:53.270Z"
   },
   {
    "duration": 14,
    "start_time": "2022-04-08T19:52:53.276Z"
   },
   {
    "duration": 29,
    "start_time": "2022-04-08T19:52:53.293Z"
   },
   {
    "duration": 29,
    "start_time": "2022-04-08T19:52:53.325Z"
   },
   {
    "duration": 21,
    "start_time": "2022-04-08T19:52:53.367Z"
   },
   {
    "duration": 12,
    "start_time": "2022-04-08T19:52:53.397Z"
   },
   {
    "duration": 17,
    "start_time": "2022-04-08T19:52:53.412Z"
   },
   {
    "duration": 42,
    "start_time": "2022-04-08T19:52:53.431Z"
   },
   {
    "duration": 16,
    "start_time": "2022-04-08T19:52:53.476Z"
   },
   {
    "duration": 9,
    "start_time": "2022-04-08T19:52:53.494Z"
   },
   {
    "duration": 7,
    "start_time": "2022-04-08T19:52:53.506Z"
   },
   {
    "duration": 217,
    "start_time": "2022-04-08T19:52:53.515Z"
   },
   {
    "duration": 33,
    "start_time": "2022-04-08T19:52:53.734Z"
   },
   {
    "duration": 6,
    "start_time": "2022-04-08T19:52:53.770Z"
   },
   {
    "duration": 310,
    "start_time": "2022-04-08T19:52:53.778Z"
   },
   {
    "duration": 18,
    "start_time": "2022-04-08T19:52:54.092Z"
   },
   {
    "duration": 9,
    "start_time": "2022-04-08T19:52:54.113Z"
   },
   {
    "duration": 42,
    "start_time": "2022-04-08T19:52:54.125Z"
   },
   {
    "duration": 6,
    "start_time": "2022-04-08T19:52:54.170Z"
   },
   {
    "duration": 313,
    "start_time": "2022-04-08T19:52:54.178Z"
   },
   {
    "duration": 6,
    "start_time": "2022-04-08T19:52:54.494Z"
   },
   {
    "duration": 8,
    "start_time": "2022-04-08T19:52:54.502Z"
   },
   {
    "duration": 7,
    "start_time": "2022-04-08T19:52:54.512Z"
   },
   {
    "duration": 316,
    "start_time": "2022-04-08T19:52:54.521Z"
   },
   {
    "duration": 6,
    "start_time": "2022-04-08T19:52:54.840Z"
   },
   {
    "duration": 23,
    "start_time": "2022-04-08T19:52:54.848Z"
   },
   {
    "duration": 8,
    "start_time": "2022-04-08T19:52:54.874Z"
   },
   {
    "duration": 385,
    "start_time": "2022-04-08T19:52:54.885Z"
   },
   {
    "duration": 16,
    "start_time": "2022-04-08T19:52:55.272Z"
   },
   {
    "duration": 9,
    "start_time": "2022-04-08T19:52:55.290Z"
   },
   {
    "duration": 8,
    "start_time": "2022-04-08T19:52:55.301Z"
   },
   {
    "duration": 7,
    "start_time": "2022-04-08T19:52:55.311Z"
   },
   {
    "duration": 319,
    "start_time": "2022-04-08T19:52:55.320Z"
   },
   {
    "duration": 6,
    "start_time": "2022-04-08T19:52:55.641Z"
   },
   {
    "duration": 20,
    "start_time": "2022-04-08T19:52:55.649Z"
   },
   {
    "duration": 10,
    "start_time": "2022-04-08T19:52:55.671Z"
   },
   {
    "duration": 284,
    "start_time": "2022-04-08T19:52:55.683Z"
   },
   {
    "duration": 6,
    "start_time": "2022-04-08T19:52:55.969Z"
   },
   {
    "duration": 18,
    "start_time": "2022-04-08T19:52:55.978Z"
   },
   {
    "duration": 9,
    "start_time": "2022-04-08T19:52:55.998Z"
   },
   {
    "duration": 396,
    "start_time": "2022-04-08T19:52:56.009Z"
   },
   {
    "duration": 11,
    "start_time": "2022-04-08T19:52:56.407Z"
   },
   {
    "duration": 9,
    "start_time": "2022-04-08T19:52:56.420Z"
   },
   {
    "duration": 40,
    "start_time": "2022-04-08T19:52:56.431Z"
   },
   {
    "duration": 277,
    "start_time": "2022-04-08T19:52:56.473Z"
   },
   {
    "duration": 24,
    "start_time": "2022-04-08T19:52:56.753Z"
   },
   {
    "duration": 12,
    "start_time": "2022-04-08T19:52:56.780Z"
   },
   {
    "duration": 8,
    "start_time": "2022-04-08T19:52:56.794Z"
   },
   {
    "duration": 8,
    "start_time": "2022-04-08T19:52:56.804Z"
   },
   {
    "duration": 6,
    "start_time": "2022-04-08T19:53:26.527Z"
   }
  ],
  "kernelspec": {
   "display_name": "Python 3 (ipykernel)",
   "language": "python",
   "name": "python3"
  },
  "language_info": {
   "codemirror_mode": {
    "name": "ipython",
    "version": 3
   },
   "file_extension": ".py",
   "mimetype": "text/x-python",
   "name": "python",
   "nbconvert_exporter": "python",
   "pygments_lexer": "ipython3",
   "version": "3.9.5"
  },
  "toc": {
   "base_numbering": 1,
   "nav_menu": {
    "height": "254px",
    "width": "346px"
   },
   "number_sections": true,
   "sideBar": true,
   "skip_h1_title": true,
   "title_cell": "Содержание",
   "title_sidebar": "Contents",
   "toc_cell": true,
   "toc_position": {
    "height": "calc(100% - 180px)",
    "left": "10px",
    "top": "150px",
    "width": "272.391px"
   },
   "toc_section_display": true,
   "toc_window_display": true
  }
 },
 "nbformat": 4,
 "nbformat_minor": 2
}
